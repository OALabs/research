{
 "cells": [
  {
   "cell_type": "markdown",
   "id": "2ef42664-7673-4bab-b24e-9b636f384535",
   "metadata": {},
   "source": [
    "# HackingTeam Soldier Implant\n",
    "> Unpacking VMProtect Soldier Implant\n",
    "\n",
    "- toc: true \n",
    "- badges: true\n",
    "- categories: [vmprotect,malware,unpacking,soldier,hackingteam]"
   ]
  },
  {
   "cell_type": "markdown",
   "id": "2e082d32-2c36-4c3e-a105-22a442c18709",
   "metadata": {},
   "source": [
    "## Overview\n",
    "\n",
    "HackingTeam Soldier Implant (packed): `76840fa18df8764afb51f1aa6da10ff65f1bdfe434dc988917380fa31fbe3a73`\n",
    "\n",
    "\n",
    "All samples on available on [Malshare](https://malshare.com/search.php).\n",
    "\n",
    "**References:**\n",
    "- [Packed Sample on Malshare](https://malshare.com/sample.php?action=detail&hash=76840fa18df8764afb51f1aa6da10ff65f1bdfe434dc988917380fa31fbe3a73)\n",
    "- [Hacking Team Source Code Leak](https://github.com/hackedteam)\n",
    "- [Noah Labs Blog (360) Hacking Team Solider Implant Analysis](https://noahblog-360-cn.translate.goog/hackingteam_new_trace/?_x_tr_sch=http&_x_tr_sl=auto&_x_tr_tl=en&_x_tr_hl=en-US&_x_tr_pto=wapp)\n"
   ]
  },
  {
   "cell_type": "markdown",
   "id": "1e3de933-1c03-4b0d-b808-6593d5be5bc3",
   "metadata": {},
   "source": [
    "## Unpacking VMP\n",
    "\n",
    "- Run wihtout debugger and pause with ProcessHacker \n",
    "- Attach with x64dbg and search `.text` for MSVC securty cookie constant\n",
    "- Based on security cookie constant location determine **__security_init_cookie** function location\n",
    "- Add hardware bp on **__security_init_cookie** function and relaunch process with debugger\n",
    "- Use call stack to determine what called **__security_init_cookie** function this is **OEP**\n",
    "- Remove hardware bp from **__security_init_cookie** and add hardware bp on **OEP** \n",
    "- Relaunch program so we break on **OEP**\n",
    "- Use [VMPImportFixer](https://github.com/mike1k/VMPImportFixer) to dump process\n",
    "- Fix OEP statically (PEBear)\n",
    "\n",
    "**TODO:** When we dump with VMPImportFixer there are some imports that are not protected in the binary. These are not captured by VMPImportFixer which means some of our imports are not resolved in the dump! We could maybe fix this by either patching VMPImportFixer to also add unprotected imports ... or we could update [VMPFix](https://github.com/archercreat/vmpfix) to add both protected imports and normal imports to the new IAT then dump with Scylla instead of VMPImportFixer.\n",
    "\n"
   ]
  },
  {
   "cell_type": "markdown",
   "id": "cda4ced9-789d-485e-b348-a85ec080cf9e",
   "metadata": {},
   "source": [
    "## Config Extraction\n",
    "\n",
    "- The config is AES encrypted with CBC and a null IV\n",
    "- There is a seperate setup function that is used to load the key which is hard coded in the `.data` section\n",
    "- The config is stored in the `.data` section and is preceded by a DWORD with the length"
   ]
  },
  {
   "cell_type": "code",
   "execution_count": 2,
   "id": "c98210e0-f7e0-455f-baaf-6c5a9d45d3c2",
   "metadata": {},
   "outputs": [],
   "source": [
    "def unhex(hex_string):\n",
    "    import binascii\n",
    "    if type(hex_string) == str:\n",
    "        return binascii.unhexlify(hex_string.encode('utf-8'))\n",
    "    else:\n",
    "        return binascii.unhexlify(hex_string)\n",
    "\n",
    "def tohex(data):\n",
    "    import binascii\n",
    "    if type(data) == str:\n",
    "        return binascii.hexlify(data.encode('utf-8'))\n",
    "    else:\n",
    "        return binascii.hexlify(data)"
   ]
  },
  {
   "cell_type": "code",
   "execution_count": 7,
   "id": "18259862-5fb4-48e8-9241-741f28df87d1",
   "metadata": {},
   "outputs": [
    {
     "data": {
      "text/plain": [
       "b'{\"camera\":{\"enabled\":false,\"repeat\":0,\"iter\":0},\"position\":{\"enabled\":false,\"repeat\":0},\"screenshot\":{\"enabled\":false,\"repeat\":0},\"photo\":{\"enabled\":false},\"file\":{\"enabled\":false},\"addressbook\":{\"enabled\":false},\"chat\":{\"enabled\":false},\"clipboard\":{\"enabled\":false},\"device\":{\"enabled\":true},\"call\":{\"enabled\":false},\"messages\":{\"enabled\":false},\"password\":{\"enabled\":false},\"keylog\":{\"enabled\":false},\"mouse\":{\"enabled\":false},\"url\":{\"enabled\":true},\"sync\":{\"host\":\"178.128.215.46\",\"repeat\":600},\"uninstall\":{\"date\":null,\"enabled\":false}}\\x00\"\\x04&\\xceB\\xa0\\x82\\xd4.U\\x81\\x8d\\xdb\\x1ai]\\xae\\xbdZ\\x85\\x0e\\x0e\\x0e\\x0e\\x0e\\x0e\\x0e\\x0e\\x0e\\x0e\\x0e\\x0e\\x0e\\x0e'"
      ]
     },
     "execution_count": 7,
     "metadata": {},
     "output_type": "execute_result"
    }
   ],
   "source": [
    "data_len = 0x240\n",
    "data = unhex('238ba1f22cb105cdae82eb2dde4e2783c80370198e1bb02c231825e7b2d8c164109e5a4e09c63a36df5ed3c5ce49b825968d386eb9008ed2b6cae3b75cd8ba76d49ab1acf69d46a747934187883b2eb27aaab99dae892693dc714433ec2de2d238a036f5ff492414a6a4928f4bd907342e7fff0dd6e61f2a7675b351842a27bc1ba7d5ad7ebc44a11cfafd136f42644db89db7189c4d152a06b10f0c0a4b40c021d7192a04cd383b17434048768076c7d7eb073ef340c696aa35946aacbe99821352487082660334de43ca4e5e142d78f70dc7cb5b571463c3c3c7caf461eac5411136142b0051914f74859c44610f8e4fdcf4f6c269b03809e3aa67ebc3474ece444fe2f5078d36857c17147d834c6cb6ccd9effefca8b24ee01c0868fc1383ef26519c4f573f94b5bbb7b149dcc190f0a08fdc31965d69d97bbcf565e829182b8aa421f46a7e0100180d7ed9d31083b4b68431e0b888bbacb00864f140716359290eb37927ec0ea537b620e1108265f412a28c28c2df0cf1d713880cd874f79872dde1060d29cc7536684d49b504dcfc61c80a1210a5e69533bba05aad0a6dc7239ea90e29e822e0424f06524330a98f40e56c1149bad0350b6c79b1c03963e0cf43dce2f6f6e6412dee43ef937bff51bf345e57bc60c7df2ec4294cc2789547896a53dc43ab5fc15c6a377d0dbab97ff5e091f90fc28ad7acda94543b52bccea2c8f360e03a5fc01cab6d358804037ab20e17facc31293b437b7a22d8c32f835308fae01b83396667f18b47882e93b309ee31cc3e9c619a6a405db7e3bbcc')\n",
    "data = data[:data_len]\n",
    "key = unhex('60ab854458b00a742c6e8ceb7f1094da')\n",
    "\n",
    "def decrypt(data, key):\n",
    "    from Crypto.Cipher import AES\n",
    "    cipher = AES.new(key, AES.MODE_CBC, iv=b'\\x00'*16)\n",
    "    return cipher.decrypt(data)\n",
    "\n",
    "# remember to split the rest of the string after the null\n",
    "decrypt(data, key)\n"
   ]
  },
  {
   "cell_type": "markdown",
   "id": "b73c5429-e0d8-4cd6-9a7a-42c58b3946aa",
   "metadata": {},
   "source": [
    "```\n",
    ".text:012EF39B 3D EF BE AD DE       cmp     eax, 0DEADBEEFh\n",
    ".text:012EF3A0 75 09                jnz     short loc_12EF3AB\n",
    ".text:012EF3A2 B8 01 00 00 00       mov     eax, 1\n",
    ".text:012EF3A7 8B E5                mov     esp, ebp\n",
    ".text:012EF3A9 5D                   pop     ebp\n",
    ".text:012EF3AA C3                   retn\n",
    ".text:012EF3AB 56                   push    esi\n",
    ".text:012EF3AC 68 58 B5 38 01       push    offset config_key\n",
    ".text:012EF3B1 50                   push    eax\n",
    ".text:012EF3B2 68 57 02 38 01       push    offset asc_1380257 ; \"#\"\n",
    ".text:012EF3B7 E8 84 14 00 00       call    mw_aes_decrypt\n",
    "```"
   ]
  },
  {
   "cell_type": "code",
   "execution_count": 67,
   "id": "7e442b98-c084-4e95-abe0-4555ca1a7478",
   "metadata": {},
   "outputs": [
    {
     "data": {
      "text/plain": [
       "b'238ba1f22cb105cdae82eb2dde4e2783c80370198e1bb02c231825e7b2d8c164109e5a4e09c63a36df5ed3c5ce49b825968d386eb9008ed2b6cae3b75cd8ba76d49ab1acf69d46a747934187883b2eb27aaab99dae892693dc714433ec2de2d238a036f5ff492414a6a4928f4bd907342e7fff0dd6e61f2a7675b351842a27bc1ba7d5ad7ebc44a11cfafd136f42644db89db7189c4d152a06b10f0c0a4b40c021d7192a04cd383b17434048768076c7d7eb073ef340c696aa35946aacbe99821352487082660334de43ca4e5e142d78f70dc7cb5b571463c3c3c7caf461eac5411136142b0051914f74859c44610f8e4fdcf4f6c269b03809e3aa67ebc3474ece444fe2f5078d36857c17147d834c6cb6ccd9effefca8b24ee01c0868fc1383ef26519c4f573f94b5bbb7b149dcc190f0a08fdc31965d69d97bbcf565e829182b8aa421f46a7e0100180d7ed9d31083b4b68431e0b888bbacb00864f140716359290eb37927ec0ea537b620e1108265f412a28c28c2df0cf1d713880cd874f79872dde1060d29cc7536684d49b504dcfc61c80a1210a5e69533bba05aad0a6dc7239ea90e29e822e0424f06524330a98f40e56c1149bad0350b6c79b1c03963e0cf43dce2f6f6e6412dee43ef937bff51bf345e57bc60c7df2ec4294cc2789547896a53dc43ab5fc15c6a377d0dbab97ff5e091f90fc28ad7acda94543b52bccea2c8f360e03a5fc01cab6d358804037ab20e17facc31293b437b7a22d8c32f835308fae01b83396667f18b47882e93b309ee31cc3e9c619a6a405db7e3bbcc'"
      ]
     },
     "execution_count": 67,
     "metadata": {},
     "output_type": "execute_result"
    }
   ],
   "source": [
    "import pefile\n",
    "import re\n",
    "import struct\n",
    "\n",
    "pe_data = open('/tmp/work/ht.exe.fixed', 'rb').read()\n",
    "pe = pefile.PE(data = pe_data)\n",
    "\n",
    "target_code = pe_data.split(b'\\xEF\\xBE\\xAD\\xDE')[1]\n",
    "egg = b'\\x68(....).\\x68(....)\\xe8'\n",
    "m = re.search(egg, target_code)\n",
    "if not m:\n",
    "    print(\"All hope is lost!\")\n",
    "config_va = struct.unpack('<I', m.group(2))[0]\n",
    "key_va_bytes = m.group(1)\n",
    "config_offset = pe.get_offset_from_rva(config_va - pe.OPTIONAL_HEADER.ImageBase)\n",
    "config_len = struct.unpack('<I', pe_data[config_offset -4:config_offset])[0]\n",
    "config_data = pe_data[config_offset:config_offset+config_len]\n",
    "tohex(config_data)"
   ]
  },
  {
   "cell_type": "markdown",
   "id": "32ea5f78-39af-4062-bb95-1d2db9d6add2",
   "metadata": {},
   "source": [
    "```\n",
    ".text:013031B6 0F 10 05 7A 01 38 01      movups  xmm0, xmmword_138017A\n",
    ".text:013031BD 0F 11 05 58 B5 38 01      movups  config_key, xmm0\n",
    "```"
   ]
  },
  {
   "cell_type": "code",
   "execution_count": 65,
   "id": "3ec5ca28-49f8-40ce-a270-8a154f3b5000",
   "metadata": {},
   "outputs": [
    {
     "data": {
      "text/plain": [
       "b'60ab854458b00a742c6e8ceb7f1094da'"
      ]
     },
     "execution_count": 65,
     "metadata": {},
     "output_type": "execute_result"
    }
   ],
   "source": [
    "key_egg = b'\\x0F\\x10\\x05(....)\\x0F\\x11\\x05' + key_va_bytes\n",
    "m = re.search(key_egg, pe_data)\n",
    "if not m:\n",
    "    print(\"All hope is lost!\")\n",
    "key_data_va = struct.unpack('<I', m.group(1))[0] \n",
    "key_data_offset = pe.get_offset_from_rva(key_data_va - pe.OPTIONAL_HEADER.ImageBase)\n",
    "key_data = pe_data[key_data_offset:key_data_offset+16]\n",
    "tohex(key_data)"
   ]
  },
  {
   "cell_type": "code",
   "execution_count": 68,
   "id": "cc430e05-fbca-44af-909b-64f304da2134",
   "metadata": {},
   "outputs": [
    {
     "data": {
      "text/plain": [
       "b'{\"camera\":{\"enabled\":false,\"repeat\":0,\"iter\":0},\"position\":{\"enabled\":false,\"repeat\":0},\"screenshot\":{\"enabled\":false,\"repeat\":0},\"photo\":{\"enabled\":false},\"file\":{\"enabled\":false},\"addressbook\":{\"enabled\":false},\"chat\":{\"enabled\":false},\"clipboard\":{\"enabled\":false},\"device\":{\"enabled\":true},\"call\":{\"enabled\":false},\"messages\":{\"enabled\":false},\"password\":{\"enabled\":false},\"keylog\":{\"enabled\":false},\"mouse\":{\"enabled\":false},\"url\":{\"enabled\":true},\"sync\":{\"host\":\"178.128.215.46\",\"repeat\":600},\"uninstall\":{\"date\":null,\"enabled\":false}}\\x00\"\\x04&\\xceB\\xa0\\x82\\xd4.U\\x81\\x8d\\xdb\\x1ai]\\xae\\xbdZ\\x85\\x0e\\x0e\\x0e\\x0e\\x0e\\x0e\\x0e\\x0e\\x0e\\x0e\\x0e\\x0e\\x0e\\x0e'"
      ]
     },
     "execution_count": 68,
     "metadata": {},
     "output_type": "execute_result"
    }
   ],
   "source": [
    "decrypt(config_data, key_data)"
   ]
  },
  {
   "cell_type": "code",
   "execution_count": null,
   "id": "d6d178a1-207a-4dde-ac9e-63101403cb9a",
   "metadata": {},
   "outputs": [],
   "source": []
  }
 ],
 "metadata": {
  "kernelspec": {
   "display_name": "Python 3",
   "language": "python",
   "name": "python3"
  },
  "language_info": {
   "codemirror_mode": {
    "name": "ipython",
    "version": 3
   },
   "file_extension": ".py",
   "mimetype": "text/x-python",
   "name": "python",
   "nbconvert_exporter": "python",
   "pygments_lexer": "ipython3",
   "version": "3.9.5"
  }
 },
 "nbformat": 4,
 "nbformat_minor": 5
}
