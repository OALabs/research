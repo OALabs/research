{
 "cells": [
  {
   "cell_type": "markdown",
   "id": "a183b713-058e-43e2-ab7f-ee408681c9c1",
   "metadata": {},
   "source": [
    "# Matanbuchus Triage Notes\n",
    "> Matanbuchus loader triage and yara rule\n",
    "\n",
    "- toc: true \n",
    "- badges: true\n",
    "- categories: [Matanbuchus,loader,yara,triage,dumpulator,emulation]"
   ]
  },
  {
   "cell_type": "markdown",
   "id": "955d53f5-9e5d-4aa2-9e36-dde0ce08a748",
   "metadata": {},
   "source": [
    "![](https://cdn.discordapp.com/attachments/885652495421030431/988186871660183612/a_horse.png)\n",
    "\n",
    "## Overview\n",
    "\n",
    "Matanbuchus is a malware downloader that has been observed as the final loading stage in multiple phishing campaigns. There are two components, a Matanbuchus loader intented to load the Matanbuchus downloader. Once the downloader is executed it makes an HTTP request to the C2 with some victim info, and downloads the final payload.\n",
    "\n",
    "\n",
    "According to [DCSO CyTec](https://twitter.com/DCSO_CyTec)...\n",
    ">Matanbuchus is the name given to a Malware-as-a-Service sold on Russian-speaking cybercriminal forums. Starting at a rental price of $2,500, the malware consists of an obfuscated two-stage loader which has been deployed in conjunction with Qakbot and Cobalt Strike payloads.\n",
    "\n",
    "\n",
    "![](https://isc.sans.edu/diaryimages/images/2022-06-17-ISC-diary-image-00a.jpg)\n",
    "\n",
    "\n",
    "### References \n",
    "- [Malspam pushes Matanbuchus malware, leads to Cobalt Strike\n",
    "](https://isc.sans.edu/forums/diary/Malspam+pushes+Matanbuchus+malware+leads+to+Cobalt+Strike/28752/)\n",
    "- [Not Packed (UnpacMe)](https://www.unpac.me/results/7166936d-dcd6-40ed-9d15-0151953e46ff#/)\n",
    "- [f8cc2cf36e193774f13c9c5f23ab777496dcd7ca588f4f73b45a7a5ffa96145e](https://malshare.com/sample.php?action=detail&hash=f8cc2cf36e193774f13c9c5f23ab777496dcd7ca588f4f73b45a7a5ffa96145e)\n",
    "- [Matanbuchus: Malware-as-a-Service with Demonic Intentions](https://unit42.paloaltonetworks.com/matanbuchus-malware-as-a-service/)\n",
    "- [A deal with the devil: Analysis of a recent Matanbuchus sample](https://medium.com/@DCSO_CyTec/a-deal-with-the-devil-analysis-of-a-recent-matanbuchus-sample-3ce991951d6a)\n",
    "- [MATANBUCHUS: Another Loader As A Service Malware](https://www.0ffset.net/reverse-engineering/matanbuchus-loader-analysis/)\n",
    "- [List of known versions of Windows DLLs](https://winbindex.m417z.com/?file=ntdll.dll)\n",
    "- [Free Yara Scan Service](https://riskmitigation.ch/yara-scan/)\n",
    "- [MalwareBazaar Client](https://github.com/larsborn/MalwareBazaarClient)"
   ]
  },
  {
   "cell_type": "markdown",
   "id": "66b3cc97-70aa-4415-a984-3705de12c383",
   "metadata": {},
   "source": [
    "## Analysis\n",
    "\n",
    "- The DLL has an export called `HackCheck` that uses OutputDebugStringA to print `start dll HackCheck` \n",
    "- The sample uses API hashing with FNV1a hash algo to resolve API calls\n"
   ]
  },
  {
   "cell_type": "markdown",
   "id": "6b59626d-247a-4998-bd83-2b3f44371d9e",
   "metadata": {},
   "source": [
    "### Yara Rule\n",
    "\n",
    "This yara rule is very brittle and needs lots of testing/refining\n",
    "\n",
    "```\n",
    "\n",
    "rule matanbuchus {\n",
    "    meta:\n",
    "        description = \"Identifies matanbuchus\"\n",
    "        \n",
    "   strings:\n",
    "       // recursive fnv1 hash\n",
    "       // 69 C2 93 01 00 01                       imul    eax, edx, 1000193h\n",
    "       // 50                                      push    eax\n",
    "       // B9 01 00 00 00                          mov     ecx, 1\n",
    "       // C1 E1 00                                shl     ecx, 0\n",
    "       $x1 = { 69 c2 93 01 00 01 50 b9 01 00 00 00 c1 e1 00 }\n",
    "         \n",
    "      //  string decryption    \n",
    "      //  0F BE 1C 01                             movsx   ebx, byte ptr [ecx+eax]\n",
    "      //  33 DE                                   xor     ebx, esi\n",
    "      //  6A 00                                   push    0\n",
    "      //  6A 01                                   push    1\n",
    "        $x2 = { 0f be 1c 01 33 de 6a 00 6a 01 }\n",
    "     \n",
    "       \n",
    "   condition:\n",
    "       all of ($x*)\n",
    "}\n",
    "\n",
    "\n",
    "```\n",
    "\n",
    "#### Yara Rule Revised\n",
    "\n",
    "```\n",
    "rule matanbuchus {\n",
    "    meta:\n",
    "        description = \"Identifies matanbuchus\"\n",
    "        \n",
    "   strings:\n",
    "       // fnv1 hash\n",
    "       // 69 C2 93 01 00 01                       imul    eax, edx, 1000193h\n",
    "       // \n",
    "       // 69 C0 93 01 00 01                       imul    eax, 1000193h\n",
    "       $x1 = { 69 ?? 93 01 00 01 }\n",
    "         \n",
    "      //pe loader\n",
    "      $x2 = { B8 4D 5A 00 00 }\n",
    "      $x3 = { 81 38 50 45 00 00 }\n",
    "     \n",
    "      // murmur\n",
    "      $x4 = { 95 E9 D1 5B }\n",
    "     \n",
    "      //InternetCloseHandle\n",
    "      $x5 = { 66 E9 DD 4D }\n",
    "     \n",
    "      //InternetOpenUrlA\n",
    "      $x6 = { BC 8B CF F4 }\n",
    "     \n",
    "      //InternetCheckConnectionA\n",
    "      $x7 = { 3F 82 58 52 }\n",
    "      \n",
    "      //InternetReadFile\n",
    "      $x8 = { 66 E9 DD 4D }\n",
    "       \n",
    "   condition:\n",
    "       all of ($x*)\n",
    "}\n",
    "```\n",
    "\n",
    "\n",
    "\n",
    "### String Decryption\n",
    "#### Simple Decryption\n",
    "Some strings are built as stack strings then copied into a buffer and returned from a function. The returned buffer is then decrypted directly using a simple XOR decryption routine where the first byte is the key."
   ]
  },
  {
   "cell_type": "code",
   "execution_count": 1,
   "id": "6b9fb24f-211f-4294-8d79-4bd2c5dad754",
   "metadata": {},
   "outputs": [
    {
     "data": {
      "text/plain": [
       "b'start dll HackCheck'"
      ]
     },
     "execution_count": 1,
     "metadata": {},
     "output_type": "execute_result"
    }
   ],
   "source": [
    "import struct\n",
    "\n",
    "data = b'jl8|tt8Py{s[p}{s'\n",
    "key = struct.pack('<I',0x796C6B18)\n",
    "data = key[1:] + data\n",
    "out = []\n",
    "\n",
    "\n",
    "for i in data:\n",
    "    out.append(i ^ key[0])\n",
    "\n",
    "bytes(out)\n",
    "\n",
    "\n"
   ]
  },
  {
   "cell_type": "code",
   "execution_count": 2,
   "id": "cf2a00a3-16de-481f-83a9-11e15bdb4a41",
   "metadata": {},
   "outputs": [],
   "source": [
    "def unhex(hex_string):\n",
    "    import binascii\n",
    "    if type(hex_string) == str:\n",
    "        return binascii.unhexlify(hex_string.encode('utf-8'))\n",
    "    else:\n",
    "        return binascii.unhexlify(hex_string)\n",
    "\n",
    "def tohex(data):\n",
    "    import binascii\n",
    "    if type(data) == str:\n",
    "        return binascii.hexlify(data.encode('utf-8'))\n",
    "    else:\n",
    "        return binascii.hexlify(data)"
   ]
  },
  {
   "cell_type": "markdown",
   "id": "200ef0b7-dc87-4723-b8c4-158031845f07",
   "metadata": {},
   "source": [
    "#### Complex Decryption\n",
    "Other strings are also build from stack strings in a function and returned in a buffer, but these strings are decrypted with a second function call to a decryption function. To handle these more complex strings, we will use [dumpulator](https://github.com/mrexodia/dumpulator)\n",
    "\n",
    "\n",
    "\n",
    "\n",
    "\n",
    "\n"
   ]
  },
  {
   "cell_type": "code",
   "execution_count": 3,
   "id": "750f596b-d1e7-438a-b302-fcec343cddaf",
   "metadata": {},
   "outputs": [],
   "source": [
    "from dumpulator import Dumpulator\n",
    "import struct\n",
    "import re\n",
    "import pefile\n",
    "\n",
    "file_data = open('/tmp/mat.bin','rb').read()\n",
    "pe = pefile.PE(data=file_data)\n",
    "\n",
    "\n",
    "\n",
    "\n",
    "\n"
   ]
  },
  {
   "cell_type": "code",
   "execution_count": 4,
   "id": "fcddc080-be94-4c89-870f-678dfa18d326",
   "metadata": {},
   "outputs": [
    {
     "name": "stdout",
     "output_type": "stream",
     "text": [
      "Failed to read module data\n"
     ]
    },
    {
     "data": {
      "text/plain": [
       "bytearray(b'https://telemetrysystemcollection.com/m8YYdu/mCQ2U9/auth.aspx\\x00')"
      ]
     },
     "execution_count": 4,
     "metadata": {},
     "output_type": "execute_result"
    }
   ],
   "source": [
    "dp = Dumpulator(\"/tmp/mat.dmp\", quiet=True)\n",
    "fn_get_string = 0x708641C0\n",
    "ss_start = 0x708631B2\n",
    "ss_end = 0x708632AA \n",
    "\n",
    "dp.start(ss_start, end=ss_end)\n",
    "\n",
    "ss = dp.read(dp.regs.ebp-0x50, 0x48)\n",
    "\n",
    "\n",
    "\n",
    "\n",
    "ss = bytes(ss)[:0x3e]\n",
    "\n",
    "buff = dp.allocate(0x3e)\n",
    "dp.write(buff, ss)\n",
    "fn_dec_str = 0x7086F3D0 \n",
    "\n",
    "dp.call(fn_dec_str, [buff, 0x3e, 0x0, 0x7ebbfa3, 0x1010101])\n",
    "dp.read(buff,0x3e)"
   ]
  },
  {
   "cell_type": "markdown",
   "id": "49039931-3bdc-4724-a9dd-da053035d20d",
   "metadata": {},
   "source": [
    "### Dumpulator Notes\n",
    "The DLL uses thread safe functions that require a call into `EnterCriticalSection` and `LeaveCriticalSection`. Because our dump was taken before the DLL was initialized the critical section object was not initialized and this causes Dumpulator to crash.\n",
    "\n",
    "First we tried just calling the initialization function in the DLL to setup this object (also tried calling the wrapper functions for `InitializeCriticalSectionEx`) but these all led to crashes (we could implement some syscalls and try again but we are lazy!\n",
    "\n",
    "Our solution is to just patch out the `EnterCriticalSection` and `LeaveCriticalSection` calls in the loaded `ntdll` using a simple return 0.\n",
    "```\n",
    "33 C0     xor eax,eax\n",
    "C2 04 00  ret 4\n",
    "```\n",
    "#### Dumpulator Patching Out Functions"
   ]
  },
  {
   "cell_type": "code",
   "execution_count": 5,
   "id": "5b06ea6a-bb81-4731-ada2-4e8eccde9b39",
   "metadata": {},
   "outputs": [
    {
     "name": "stdout",
     "output_type": "stream",
     "text": [
      "Failed to read module data\n",
      "unmapped read from 8[4], cip = 77a6693a\n",
      "error: Invalid memory read (UC_ERR_READ_UNMAPPED), cip = 77a6693a\n"
     ]
    },
    {
     "data": {
      "text/plain": [
       "134217727"
      ]
     },
     "execution_count": 5,
     "metadata": {},
     "output_type": "execute_result"
    }
   ],
   "source": [
    "dp = Dumpulator(\"/tmp/mat.dmp\", quiet=True)\n",
    "\n",
    "ntdll_start = 0x77a10000\n",
    "\n",
    "\n",
    "patch_bytes = b'\\x33\\xC0\\xC2\\x04\\x00'\n",
    "\n",
    "ptr_RtlLeaveCriticalSection = 0x77A5FFF0\n",
    "ptr_RtlEnterCriticalSection = 0x77A5FDF0\n",
    "\n",
    "get_str_fn = 0x70861000\n",
    "\n",
    "#tohex(dp.read(ntdll_init_crit_sec,10))\n",
    "\n",
    "dp.write(ptr_RtlLeaveCriticalSection, patch_bytes)\n",
    "dp.write(ptr_RtlEnterCriticalSection, patch_bytes)\n",
    "\n",
    "\n",
    "\n",
    "dp.call(get_str_fn)\n"
   ]
  },
  {
   "cell_type": "markdown",
   "id": "5fed655a-8124-49c1-961f-7f9c548a352d",
   "metadata": {},
   "source": [
    "#### Dumpulator Implementing Syscalls to Load DLL\n",
    "Our patching method sort of worked but there is other initializations stuff that was causing more crashes. We are going to try and just implement the syscalls that we need to actually emulate the full DLL load routine and see if that works better."
   ]
  },
  {
   "cell_type": "code",
   "execution_count": 6,
   "id": "c5b910e4-533f-4c93-adad-a7392763bdc6",
   "metadata": {},
   "outputs": [
    {
     "name": "stdout",
     "output_type": "stream",
     "text": [
      "Failed to read module data\n"
     ]
    },
    {
     "data": {
      "text/plain": [
       "'https://telemetrysystemcollection.com/m8YYdu/mCQ2U9/auth.aspx'"
      ]
     },
     "execution_count": 6,
     "metadata": {},
     "output_type": "execute_result"
    }
   ],
   "source": [
    "from dumpulator import Dumpulator, syscall\n",
    "from dumpulator.native import *\n",
    "\n",
    "@syscall\n",
    "def ZwQueryVolumeInformationFile(dp: Dumpulator,\n",
    "                                 FileHandle: HANDLE,\n",
    "                                 IoStatusBlock: P(IO_STATUS_BLOCK),\n",
    "                                 FsInformation: PVOID,\n",
    "                                 Length: ULONG,\n",
    "                                 FsInformationClass: FSINFOCLASS\n",
    "                                 ):\n",
    "    return STATUS_SUCCESS\n",
    "\n",
    "\n",
    "\n",
    "dp = Dumpulator(\"/tmp/mat2.dmp\", quiet=True)\n",
    "\n",
    "dll_base_addr = 0x71950000\n",
    "\n",
    "dp.start(dp.regs.eip, end=dp.read_ptr(dp.regs.esp))\n",
    "\n",
    "\n",
    "get_str_fn = 0x71951000\n",
    "dp.read_str(dp.call(get_str_fn))\n",
    "\n"
   ]
  },
  {
   "cell_type": "markdown",
   "id": "c041ac54-0a2c-4a27-b0ec-6c6132fff435",
   "metadata": {},
   "source": [
    "#### Finding Encrypted Stack Strings\n"
   ]
  },
  {
   "cell_type": "code",
   "execution_count": 7,
   "id": "d6b45a2a-834e-4d2b-98e9-b589d7d5b3e9",
   "metadata": {},
   "outputs": [
    {
     "name": "stdout",
     "output_type": "stream",
     "text": [
      "https://telemetrysystemcollection.com/m8YYdu/mCQ2U9/auth.aspx\n",
      "https://collectiontelemetrysystem.com/m8YYdu/mCQ2U9/auth.aspx\n",
      "DllRegisterServer\n",
      "http://collectiontelemetrysystem.com/m8YYdu/mCQ2U9/home.aspx\n",
      "http://telemetrysystemcollection.com/m8YYdu/mCQ2U9/home.aspx\n",
      "https://telemetrysystemcollection.com/m8YYdu/mCQ2U9/home.aspx\n"
     ]
    }
   ],
   "source": [
    "egg = rb'(\\xC6\\x45..){4}'\n",
    "\n",
    "egg = rb'\\x55\\x8b\\xec\\x83\\xec\\x08\\x33\\xc0\\x88\\x45\\xff'\n",
    "\n",
    "stack_string_offsets = []\n",
    "for m in re.finditer(egg, file_data):\n",
    "    fn_offset = m.start()\n",
    "    fn_addr = pe.get_rva_from_offset(fn_offset) + dll_base_addr\n",
    "    tmp_str = dp.read_str(dp.call(fn_addr))\n",
    "    print(tmp_str)\n",
    "\n",
    "    \n",
    "    \n",
    "\n"
   ]
  },
  {
   "cell_type": "markdown",
   "id": "84591688-1049-4829-8272-4906b8b498c3",
   "metadata": {},
   "source": [
    "## Revising Our Config Extractor\n",
    "\n",
    "Now that we have a base config extractor we need to test this across multiple samples/versions of the malware to make sure it is robust enough.\n",
    "\n",
    "Our initial sample was `f8cc2cf36e193774f13c9c5f23ab777496dcd7ca588f4f73b45a7a5ffa96145e`.\n",
    "\n",
    "We have collected the following samples to triage:\n",
    "- `b9b399dbb5d901c16d97b7c30cc182736cd83a7c53313194a1798d61f9c7501e`\n",
    "- `c41f7b7ec0909d5c21107ddebc2fe84dbc137f701b42943c1a5e69f5d50e05ab` \n",
    "- `b4e7710488c2b7aaa71688b8bd546410af07a215c2e835e8dfbe24887186bd4f` \n",
    "- `60f030597c75f9df0f7a494cb5432b600d41775cfe5cf13006c1448fa3a68d8d` \n",
    "- `58a673023bbc7f2726e3b7ac917a43d9306692dc87b638ee21b98705a3262ccd` \n",
    "- `4b87f95c4477fc66c58b8e16a74f9c47217913cb4a78dc69f27a364a099acd90` \n",
    "- `4eb85a5532b98cbc4a6db1697cf46b9e2b7e28e89d6bbfc137b36c0736cd80e2`\n",
    "\n",
    "These samples don't work with our first version of the config extractor:\n",
    "- `e58b9bbb7bcdf3e901453b7b9c9e514fed1e53565e3280353dccc77cde26a98e.bin`\n",
    "- `b9b399dbb5d901c16d97b7c30cc182736cd83a7c53313194a1798d61f9c7501e.bin`\n",
    "\n",
    "\n"
   ]
  },
  {
   "cell_type": "markdown",
   "id": "c04fc056-a5f5-4578-bbcd-0567a7ad7a25",
   "metadata": {},
   "source": [
    "### New Config Extractor - Static String Decryption Notes"
   ]
  },
  {
   "cell_type": "code",
   "execution_count": 25,
   "id": "1b1ae706-b089-450c-94e1-74ab38a1bb6a",
   "metadata": {},
   "outputs": [],
   "source": [
    "def unhex(hex_string):\n",
    "    import binascii\n",
    "    if type(hex_string) == str:\n",
    "        return binascii.unhexlify(hex_string.encode('utf-8'))\n",
    "    else:\n",
    "        return binascii.unhexlify(hex_string)\n",
    "\n",
    "def tohex(data):\n",
    "    import binascii\n",
    "    if type(data) == str:\n",
    "        return binascii.hexlify(data.encode('utf-8'))\n",
    "    else:\n",
    "        return binascii.hexlify(data)"
   ]
  },
  {
   "cell_type": "code",
   "execution_count": 89,
   "id": "8aade4ce-0dbf-4291-83a8-650104223a4f",
   "metadata": {},
   "outputs": [
    {
     "name": "stdout",
     "output_type": "stream",
     "text": [
      "b'LoadLibraryA'\n",
      "b'GetProcAddress'\n",
      "b'kernel32.dll'\n",
      "b'kernel32.dll'\n",
      "b'VirtualAlloc'\n",
      "b'kernel32.dll'\n",
      "b'VirtualFree'\n",
      "b'kernel32.dll'\n",
      "b'IPHLPAPI.DLL\\x00'\n",
      "b'Mozilla/4.0 (compatible; MSIE 7.0; Windows NT 10.0; Win64; x64; Trident/8.0; .NET4.0C; .NET4.0E; .NET CLR 2.0.50727; .NET CLR 3.0.30729; .NET CLR 3.5.30729; Microsoft Outlook 16.0.5197; ms-office; MSOffice 16)\\x00'\n",
      "b'Netapi32.dll\\x00'\n",
      "b'Shlwapi.dll\\x00'\n",
      "b'Wkscli.dll\\x00'\n",
      "b'%PROCESSOR_LEVEL%'\n",
      "b'_qlinet.ltn\\x00'\n",
      "b'Wininet.dll\\x00'\n",
      "b'loaddll32.exe\\x00'\n",
      "b'USER32.dll\\x00'\n",
      "b'Netapi32.dll\\x00'\n",
      "b'^stapi32>rll\\x00'\n",
      "b'https://telemetrysystemcollection.com/m8YYdu/mCQ2U9/auth.aspx\\x00'\n",
      "b'Shlwapi.dll\\x00'\n",
      "b'WS2_32.dll\\x00'\n",
      "b'Mozilla/4.0 (compatible; MSIE 7.0; Windows NT 10.0; Win64; x64; Trident/8.0; .NET4.0C; .NET4.0E; .NET CLR 2.0.50727; .NET CLR 3.0.30729; .NET CLR 3.5.30729; Microsoft Outlook 16.0.5197; ms-office; MSOffice 16)\\x00'\n",
      "b'Wininet.dll\\x00'\n",
      "b'5\"HLPAPIR6LL\\x00'\n",
      "b'IPHLPAPI.DLL\\x00'\n",
      "b'USER32.dll\\x00'\n",
      "b'DllRegisterServer\\x00'\n",
      "b'Shell32.dll\\x00'\n",
      "b'[pgll32.ltn\\x00'\n",
      "b'Shell32.dll\\x00'\n",
      "b'AP\\xae\\x87\\xc6\\x80\\xa3!Z+\\x91\\x83\\xbe\\xa8\\xc4\\x00v,\\xcc\\xb6\\x97\\x8b\\x90,\\x00!\\x8c\\xb7\\xa7\\xb1\\x86\\x02`Y\\x99\\xb4'\n",
      "b'http://telemetrysystemcollection.com/m8YYdu/mCQ2U9/home.aspx\\x00'\n",
      "b'http://collectiontelemetrysystem.com/m8YYdu/mCQ2U9/home.aspx\\x00'\n",
      "b'start dll HackCheck'\n",
      "b'WS2_32.dll\\x00'\n",
      "b'https://collectiontelemetrysystem.com/m8YYdu/mCQ2U9/auth.aspx\\x00'\n",
      "b'YFHLPAPI>RLL\\x00'\n",
      "b'IPHLPAPI.DLL\\x00'\n",
      "b'https://telemetrysystemcollection.com/m8YYdu/mCQ2U9/home.aspx\\x00'\n",
      "b'IPHLPAPI.DLL\\x00'\n",
      "b'ErTLPAPI\"fPL\\x00'\n",
      "b'~G{svr32\"Gde\\x00'\n",
      "b'regsvr32.exe\\x00'\n",
      "b'Wkscli.dll\\x00'\n",
      "b'rundll32.exe\\x00'\n"
     ]
    }
   ],
   "source": [
    "import re\n",
    "import struct\n",
    "import pefile\n",
    "\n",
    "FILE_PATH = '/tmp/samples/e58b9bbb7bcdf3e901453b7b9c9e514fed1e53565e3280353dccc77cde26a98e.bin'\n",
    "FILE_PATH = '/tmp/samples/orig.bin'\n",
    "file_data = open(FILE_PATH,'rb').read()\n",
    "\n",
    "\n",
    "\n",
    "def xor_decrypt(data, key):\n",
    "    out = []\n",
    "    for i in range(len(data)):\n",
    "        out.append(data[i] ^ key[i%len(key)])\n",
    "    return bytes(out)\n",
    "\n",
    "\n",
    "def is_ascii(data):\n",
    "    return re.match(B\"^[\\s!-~]+\\0*$\", data) is not None\n",
    "\n",
    "\n",
    "stack_strings = []\n",
    "\n",
    "#string_egg = rb'(\\xC6\\x45..){2,}'\n",
    "\n",
    "string_egg = rb'(?P<a>(?:\\xC6\\x85.{5}){0,})(?P<b>(?:\\xC6\\x45..){3,})'   \n",
    "\n",
    "for m in re.finditer(string_egg, file_data):\n",
    "    match_data = m.group(0)\n",
    "    #stack_strings.append({\"data\":match_data.replace(b'\\xC6\\x45',b'')[1::2], \"match\":match_data})\n",
    "    stack_strings.append({\"data\":m['a'][6::7] + m['b'][3::4], \"match\":match_data})\n",
    "\n",
    "    \n",
    "\n",
    "\n",
    "keys = []\n",
    "\n",
    "key_byte_len_egg = rb'\\x68(....)\\x68(....)\\x6a\\x00\\x6a(.)'\n",
    "\n",
    "for m in re.finditer(key_byte_len_egg, file_data):\n",
    "     keys.append( {'key':m.group(2) + m.group(1), 'length':ord(m.group(3))})\n",
    "        \n",
    "        \n",
    "key_dw_len_egg = rb'\\x68(....)\\x68(....)\\x6a\\x00\\x68(....)'\n",
    "\n",
    "for m in re.finditer(key_dw_len_egg, file_data):\n",
    "     keys.append( {'key':m.group(2) + m.group(1), 'length':struct.unpack('<I',m.group(3))[0]})      \n",
    "\n",
    "        \n",
    "for sj in stack_strings:\n",
    "    s = sj.get('data')\n",
    "    str_len = len(s)\n",
    "    #print(f\"\\n\\n{str_len}\")\n",
    "    flag_found = False\n",
    "    for k in keys:\n",
    "        if k.get('length') == str_len:\n",
    "            #print(f\"found key: {tohex(k.get('key'))}\")\n",
    "            out = xor_decrypt(s, k.get('key'))\n",
    "            if is_ascii(out):\n",
    "                print(out)\n",
    "                flag_found = True\n",
    "    if not flag_found:\n",
    "        print(xor_decrypt(s[1:-1], bytes([s[0]])))\n",
    "\n"
   ]
  },
  {
   "cell_type": "markdown",
   "id": "bb418b9b-b43e-48b3-8130-1bb2c46e4d6f",
   "metadata": {},
   "source": [
    "### Final Config Decryptor "
   ]
  },
  {
   "cell_type": "code",
   "execution_count": 97,
   "id": "57ef9745-d3ff-428c-bf17-cc03890eee2c",
   "metadata": {},
   "outputs": [],
   "source": [
    "import re\n",
    "import struct\n",
    "import pefile\n",
    "\n",
    "\n",
    "def xor_decrypt(data, key):\n",
    "    out = []\n",
    "    for i in range(len(data)):\n",
    "        out.append(data[i] ^ key[i%len(key)])\n",
    "    return bytes(out)\n",
    "\n",
    "\n",
    "def is_ascii(data):\n",
    "    return re.match(B\"^[\\s!-~]+\\0*$\", data) is not None\n",
    "\n",
    "\n",
    "def get_strings(file_path):\n",
    "    file_data = open(file_path,'rb').read()\n",
    "\n",
    "    stack_strings = []\n",
    "\n",
    "    #string_egg = rb'(\\xC6\\x45..){2,}'\n",
    "\n",
    "    string_egg = rb'(?P<a>(?:\\xC6\\x85.{5}){0,})(?P<b>(?:\\xC6\\x45..){3,})'   \n",
    "\n",
    "    for m in re.finditer(string_egg, file_data):\n",
    "        match_data = m.group(0)\n",
    "        #stack_strings.append({\"data\":match_data.replace(b'\\xC6\\x45',b'')[1::2], \"match\":match_data})\n",
    "        stack_strings.append({\"data\":m['a'][6::7] + m['b'][3::4], \"match\":match_data})\n",
    "\n",
    "    keys = []\n",
    "\n",
    "    key_byte_len_egg = rb'\\x68(....)\\x68(....)\\x6a\\x00\\x6a(.)'\n",
    "\n",
    "    for m in re.finditer(key_byte_len_egg, file_data):\n",
    "         keys.append( {'key':m.group(2) + m.group(1), 'length':ord(m.group(3))})\n",
    "\n",
    "\n",
    "    key_dw_len_egg = rb'\\x68(....)\\x68(....)\\x6a\\x00\\x68(....)'\n",
    "\n",
    "    for m in re.finditer(key_dw_len_egg, file_data):\n",
    "         keys.append( {'key':m.group(2) + m.group(1), 'length':struct.unpack('<I',m.group(3))[0]})      \n",
    "\n",
    "    out_strings = []\n",
    "    \n",
    "    for sj in stack_strings:\n",
    "        s = sj.get('data')\n",
    "        str_len = len(s)\n",
    "        flag_found = False\n",
    "        tmp_out = []\n",
    "        for k in keys:\n",
    "            if k.get('length') == str_len:\n",
    "                out = xor_decrypt(s, k.get('key'))\n",
    "                if is_ascii(out):\n",
    "                    tmp_out.append(out)\n",
    "        \n",
    "        if len(tmp_out) == 0:\n",
    "            out = xor_decrypt(s[1:-1], bytes([s[0]]))\n",
    "            if is_ascii(out):\n",
    "                out_strings.append(out)\n",
    "        elif len(tmp_out) == 1:\n",
    "            out_strings.append(tmp_out[0])\n",
    "        else:\n",
    "            # This is a hack\n",
    "            # We have strings that will give valid ascii for multiple keys\n",
    "            # So far these have only been dll names\n",
    "            for out in tmp_out:\n",
    "                if out[:-3].lower() == b'dll':\n",
    "                    out_strings.append(out)\n",
    "                    break\n",
    "    return list(set(out_strings))\n",
    "            \n",
    "\n"
   ]
  },
  {
   "cell_type": "markdown",
   "id": "4775616b-0cf1-4cf5-b663-bf2743bebc5b",
   "metadata": {},
   "source": [
    "#### Test All Samples"
   ]
  },
  {
   "cell_type": "code",
   "execution_count": 98,
   "id": "b206953d-1eb6-4aba-8632-4cb329c9743d",
   "metadata": {},
   "outputs": [
    {
     "name": "stdout",
     "output_type": "stream",
     "text": [
      "\n",
      "/tmp/samples/55d329a13da236bec15c4c67686b809a2fbf5f6c9625b62d900ac22a7b729ba9.bin\n",
      "[b'VirtualAlloc', b'Windows-Update-Agent/11.0.10011.16384 Client-Protocol/2.0\\x00', b'rundll32.exe\\x00', b'9npSEGB3kg9suo3Yit\\x00', b'kernel32.dll', b'https://azure-dbupdate.at/vuUwUx/FyNRoM/index.php\\x00', b'Shlwapi.dll\\x00', b'WS2_32.dll\\x00', b'DllRegisterServer\\x00', b'loaddll32.exe\\x00', b'Shell32.dll\\x00', b'Wininet.dll\\x00', b'USER32.dll\\x00', b'GetProcAddress', b'LoadLibraryA', b'IPHLPAPI.DLL\\x00', b'https://azure-dbupdate.at/vuUwUx/FyNRoM/auth.php\\x00', b'https://azure-updatedb.at/vuUwUx/FyNRoM/index.php\\x00', b'VirtualFree', b'regsvr32.exe\\x00', b'%PROCESSOR_LEVEL%']\n",
      "\n",
      "/tmp/samples/4b87f95c4477fc66c58b8e16a74f9c47217913cb4a78dc69f27a364a099acd90.bin\n",
      "[b'VirtualAlloc', b'Windows-Update-Agent/11.0.10011.16384 Client-Protocol/2.0\\x00', b'rundll32.exe\\x00', b'9npSEGB3kg9suo3Yit\\x00', b'kernel32.dll', b'https://azure-dbupdate.at/vuUwUx/FyNRoM/index.php\\x00', b'Shlwapi.dll\\x00', b'WS2_32.dll\\x00', b'DllRegisterServer\\x00', b'loaddll32.exe\\x00', b'Shell32.dll\\x00', b'Wininet.dll\\x00', b'USER32.dll\\x00', b'GetProcAddress', b'LoadLibraryA', b'IPHLPAPI.DLL\\x00', b'https://azure-dbupdate.at/vuUwUx/FyNRoM/auth.php\\x00', b'https://azure-updatedb.at/vuUwUx/FyNRoM/index.php\\x00', b'VirtualFree', b'regsvr32.exe\\x00', b'%PROCESSOR_LEVEL%']\n",
      "\n",
      "/tmp/samples/0bdf1060b85ad55e73393eb0b59c1d226e091da4f4dcce65dacba5e9a1fd76a7.bin\n",
      "[b'VirtualAlloc', b'start dll HackCheck', b'http://collectiontelemetrysystem.com/m8YYdu/mCQ2U9/home.aspx\\x00', b'https://telemetrysystemcollection.com/m8YYdu/mCQ2U9/auth.aspx\\x00', b'rundll32.exe\\x00', b'kernel32.dll', b'Shlwapi.dll\\x00', b'WS2_32.dll\\x00', b'DllRegisterServer\\x00', b'loaddll32.exe\\x00', b'Shell32.dll\\x00', b'Wininet.dll\\x00', b'USER32.dll\\x00', b'GetProcAddress', b'Netapi32.dll\\x00', b'LoadLibraryA', b'http://telemetrysystemcollection.com/m8YYdu/mCQ2U9/home.aspx\\x00', b'Mozilla/4.0 (compatible; MSIE 7.0; Windows NT 10.0; Win64; x64; Trident/8.0; .NET4.0C; .NET4.0E; .NET CLR 2.0.50727; .NET CLR 3.0.30729; .NET CLR 3.5.30729; Microsoft Outlook 16.0.5197; ms-office; MSOffice 16)\\x00', b'IPHLPAPI.DLL\\x00', b'Wkscli.dll\\x00', b'https://telemetrysystemcollection.com/m8YYdu/mCQ2U9/home.aspx\\x00', b'VirtualFree', b'https://collectiontelemetrysystem.com/m8YYdu/mCQ2U9/auth.aspx\\x00', b'%PROCESSOR_LEVEL%']\n",
      "\n",
      "/tmp/samples/3cae2ce9b2d7040292f1661af63dc28e778027c46f78d8be3b1d43f4b6c2b046.bin\n",
      "[b'VirtualAlloc', b'Windows-Update-Agent/11.0.10011.16384 Client-Protocol/2.0\\x00', b'rundll32.exe\\x00', b'9npSEGB3kg9suo3Yit\\x00', b'kernel32.dll', b'https://azure-dbupdate.at/vuUwUx/FyNRoM/index.php\\x00', b'Shlwapi.dll\\x00', b'WS2_32.dll\\x00', b'DllRegisterServer\\x00', b'loaddll32.exe\\x00', b'Shell32.dll\\x00', b'Wininet.dll\\x00', b'USER32.dll\\x00', b'GetProcAddress', b'LoadLibraryA', b'IPHLPAPI.DLL\\x00', b'https://azure-dbupdate.at/vuUwUx/FyNRoM/auth.php\\x00', b'https://azure-updatedb.at/vuUwUx/FyNRoM/index.php\\x00', b'VirtualFree', b'regsvr32.exe\\x00', b'%PROCESSOR_LEVEL%']\n",
      "\n",
      "/tmp/samples/b4e7710488c2b7aaa71688b8bd546410af07a215c2e835e8dfbe24887186bd4f.bin\n",
      "[b'VirtualAlloc', b'Windows-Update-Agent/11.0.10011.16384 Client-Protocol/2.0\\x00', b'rundll32.exe\\x00', b'9npSEGB3kg9suo3Yit\\x00', b'kernel32.dll', b'https://azure-dbupdate.at/vuUwUx/FyNRoM/index.php\\x00', b'Shlwapi.dll\\x00', b'WS2_32.dll\\x00', b'DllRegisterServer\\x00', b'loaddll32.exe\\x00', b'Shell32.dll\\x00', b'Wininet.dll\\x00', b'USER32.dll\\x00', b'GetProcAddress', b'LoadLibraryA', b'IPHLPAPI.DLL\\x00', b'https://azure-dbupdate.at/vuUwUx/FyNRoM/auth.php\\x00', b'https://azure-updatedb.at/vuUwUx/FyNRoM/index.php\\x00', b'VirtualFree', b'regsvr32.exe\\x00', b'%PROCESSOR_LEVEL%']\n",
      "\n",
      "/tmp/samples/orig.bin\n",
      "[b'VirtualAlloc', b'start dll HackCheck', b'http://collectiontelemetrysystem.com/m8YYdu/mCQ2U9/home.aspx\\x00', b'https://telemetrysystemcollection.com/m8YYdu/mCQ2U9/auth.aspx\\x00', b'rundll32.exe\\x00', b'kernel32.dll', b'Shlwapi.dll\\x00', b'WS2_32.dll\\x00', b'DllRegisterServer\\x00', b'loaddll32.exe\\x00', b'Shell32.dll\\x00', b'Wininet.dll\\x00', b'USER32.dll\\x00', b'GetProcAddress', b'Netapi32.dll\\x00', b'LoadLibraryA', b'http://telemetrysystemcollection.com/m8YYdu/mCQ2U9/home.aspx\\x00', b'Mozilla/4.0 (compatible; MSIE 7.0; Windows NT 10.0; Win64; x64; Trident/8.0; .NET4.0C; .NET4.0E; .NET CLR 2.0.50727; .NET CLR 3.0.30729; .NET CLR 3.5.30729; Microsoft Outlook 16.0.5197; ms-office; MSOffice 16)\\x00', b'IPHLPAPI.DLL\\x00', b'Wkscli.dll\\x00', b'https://telemetrysystemcollection.com/m8YYdu/mCQ2U9/home.aspx\\x00', b'VirtualFree', b'https://collectiontelemetrysystem.com/m8YYdu/mCQ2U9/auth.aspx\\x00', b'%PROCESSOR_LEVEL%']\n",
      "\n",
      "/tmp/samples/2f36c571f20b2b2c2058d4db574a6d53b148450356bf529d72aefc19505c912e.bin\n",
      "[b'VirtualAlloc', b'Windows-Update-Agent/11.0.10011.16384 Client-Protocol/2.0\\x00', b'rundll32.exe\\x00', b'9npSEGB3kg9suo3Yit\\x00', b'kernel32.dll', b'https://azure-dbupdate.at/vuUwUx/FyNRoM/index.php\\x00', b'Shlwapi.dll\\x00', b'WS2_32.dll\\x00', b'DllRegisterServer\\x00', b'loaddll32.exe\\x00', b'Shell32.dll\\x00', b'Wininet.dll\\x00', b'USER32.dll\\x00', b'GetProcAddress', b'LoadLibraryA', b'IPHLPAPI.DLL\\x00', b'https://azure-dbupdate.at/vuUwUx/FyNRoM/auth.php\\x00', b'https://azure-updatedb.at/vuUwUx/FyNRoM/index.php\\x00', b'VirtualFree', b'regsvr32.exe\\x00', b'%PROCESSOR_LEVEL%']\n",
      "\n",
      "/tmp/samples/4eb85a5532b98cbc4a6db1697cf46b9e2b7e28e89d6bbfc137b36c0736cd80e2.bin\n",
      "[b'rundll32.exe\\x00', b'ztCYGAuJ\\x00', b'Shlwapi.dll\\x00', b'WS2_32.dll\\x00', b'https://windowsdriverupdate.at/V.asp\\x00', b'DllRegisterServer\\x00', b'Microsoft Office/16.0 (Windows NT 10.0; Microsoft Outlook 16.0.13127; Pro)\\x00', b'Shell32.dll\\x00', b'Wininet.dll\\x00', b'USER32.dll\\x00', b'https://windowsdriverupdate.at/ZBEr.asp\\x00', b'Dll Uinstall\\x00', b'%PROCESSOR_LEVEL%\\x00', b'https://driverwindowsupdate.at/V.asp\\x00', b'UnregisterServer\\x00', b'IPHLPAPI.DLL\\x00', b'%PROCESSOR_REVISION%\\\\\\x00', b'regsvr32.exe\\x00', b'\"C:\\\\Windows\\\\system32\\\\schtasks.exe\" /Create /SC MINUTE /MO 1 /TN \\x00']\n",
      "\n",
      "/tmp/samples/10d5483faf9a4e0fbc17556164f47f7014650797b7d501289b269515a0853b64.bin\n",
      "[b'VirtualAlloc', b'Windows-Update-Agent/11.0.10011.16384 Client-Protocol/2.0\\x00', b'rundll32.exe\\x00', b'9npSEGB3kg9suo3Yit\\x00', b'kernel32.dll', b'https://azure-dbupdate.at/vuUwUx/FyNRoM/index.php\\x00', b'Shlwapi.dll\\x00', b'WS2_32.dll\\x00', b'DllRegisterServer\\x00', b'loaddll32.exe\\x00', b'Shell32.dll\\x00', b'Wininet.dll\\x00', b'USER32.dll\\x00', b'GetProcAddress', b'LoadLibraryA', b'IPHLPAPI.DLL\\x00', b'https://azure-dbupdate.at/vuUwUx/FyNRoM/auth.php\\x00', b'https://azure-updatedb.at/vuUwUx/FyNRoM/index.php\\x00', b'VirtualFree', b'regsvr32.exe\\x00', b'%PROCESSOR_LEVEL%']\n",
      "\n",
      "/tmp/samples/58a673023bbc7f2726e3b7ac917a43d9306692dc87b638ee21b98705a3262ccd.bin\n",
      "[b'VirtualAlloc', b'Windows-Update-Agent/11.0.10011.16384 Client-Protocol/2.0\\x00', b'rundll32.exe\\x00', b'9npSEGB3kg9suo3Yit\\x00', b'kernel32.dll', b'https://azure-dbupdate.at/vuUwUx/FyNRoM/index.php\\x00', b'Shlwapi.dll\\x00', b'WS2_32.dll\\x00', b'DllRegisterServer\\x00', b'loaddll32.exe\\x00', b'Shell32.dll\\x00', b'Wininet.dll\\x00', b'USER32.dll\\x00', b'GetProcAddress', b'LoadLibraryA', b'IPHLPAPI.DLL\\x00', b'https://azure-dbupdate.at/vuUwUx/FyNRoM/auth.php\\x00', b'https://azure-updatedb.at/vuUwUx/FyNRoM/index.php\\x00', b'VirtualFree', b'regsvr32.exe\\x00', b'%PROCESSOR_LEVEL%']\n",
      "\n",
      "/tmp/samples/b9b399dbb5d901c16d97b7c30cc182736cd83a7c53313194a1798d61f9c7501e.bin\n",
      "[]\n",
      "\n",
      "/tmp/samples/fa6500946210334d397d612d5ee9b11456316e25672bc60c1267bbdb002af9c7.bin\n",
      "[b'VirtualAlloc', b'Windows-Update-Agent/11.0.10011.16384 Client-Protocol/2.0\\x00', b'rundll32.exe\\x00', b'9npSEGB3kg9suo3Yit\\x00', b'kernel32.dll', b'https://azure-dbupdate.at/vuUwUx/FyNRoM/index.php\\x00', b'Shlwapi.dll\\x00', b'WS2_32.dll\\x00', b'DllRegisterServer\\x00', b'loaddll32.exe\\x00', b'Shell32.dll\\x00', b'Wininet.dll\\x00', b'USER32.dll\\x00', b'GetProcAddress', b'LoadLibraryA', b'IPHLPAPI.DLL\\x00', b'https://azure-dbupdate.at/vuUwUx/FyNRoM/auth.php\\x00', b'https://azure-updatedb.at/vuUwUx/FyNRoM/index.php\\x00', b'VirtualFree', b'regsvr32.exe\\x00', b'%PROCESSOR_LEVEL%']\n",
      "\n",
      "/tmp/samples/60f030597c75f9df0f7a494cb5432b600d41775cfe5cf13006c1448fa3a68d8d.bin\n",
      "[b'VirtualAlloc', b'start dll HackCheck', b'http://collectiontelemetrysystem.com/m8YYdu/mCQ2U9/home.aspx\\x00', b'https://telemetrysystemcollection.com/m8YYdu/mCQ2U9/auth.aspx\\x00', b'rundll32.exe\\x00', b'kernel32.dll', b'Shlwapi.dll\\x00', b'WS2_32.dll\\x00', b'DllRegisterServer\\x00', b'loaddll32.exe\\x00', b'Shell32.dll\\x00', b'Wininet.dll\\x00', b'USER32.dll\\x00', b'GetProcAddress', b'Netapi32.dll\\x00', b'LoadLibraryA', b'http://telemetrysystemcollection.com/m8YYdu/mCQ2U9/home.aspx\\x00', b'Mozilla/4.0 (compatible; MSIE 7.0; Windows NT 10.0; Win64; x64; Trident/8.0; .NET4.0C; .NET4.0E; .NET CLR 2.0.50727; .NET CLR 3.0.30729; .NET CLR 3.5.30729; Microsoft Outlook 16.0.5197; ms-office; MSOffice 16)\\x00', b'IPHLPAPI.DLL\\x00', b'Wkscli.dll\\x00', b'https://telemetrysystemcollection.com/m8YYdu/mCQ2U9/home.aspx\\x00', b'VirtualFree', b'https://collectiontelemetrysystem.com/m8YYdu/mCQ2U9/auth.aspx\\x00', b'%PROCESSOR_LEVEL%']\n",
      "\n",
      "/tmp/samples/e58b9bbb7bcdf3e901453b7b9c9e514fed1e53565e3280353dccc77cde26a98e.bin\n",
      "[b'C:\\\\Windows\\\\System32\\\\schtasks.exe\\x00', b'rundll32.exe\\x00', b' /TR \"%windir%\\\\system32\\\\regsvr32.exe -e \\x00', b'%ProgramData%\\\\\\x00', b'Shlwapi.dll\\x00', b'WS2_32.dll\\x00', b'DllRegisterServer\\x00', b'%PROGRAMFILES%\\\\Opera\\\\Opera.exe\\x00', b'Shell32.dll\\x00', b'Wininet.dll\\x00', b'USER32.dll\\x00', b'Dll Uinstall\\x00', b'%COMPUTERNAME%\\x00', b'https://manageintel.com/RKyiihqXQiyE/xukYadevoVow/BhJM.xml\\x00', b'UnregisterServer\\x00', b'IPHLPAPI.DLL\\x00', b'https://manageintel.com/RKyiihqXQiyE/xukYadevoVow/QXms.xml\\x00', b'.ocx\\x00', b'regsvr32.exe\\x00', b'%PROCESSOR_LEVEL%\\\\\\x00', b'%PROCESSOR_REVISION%\\x00']\n",
      "\n",
      "/tmp/samples/a3c896e23c86e47bcb77096e743010546cd7699e0189344d11b9c642b89deef1.bin\n",
      "[b'VirtualAlloc', b'Windows-Update-Agent/11.0.10011.16384 Client-Protocol/2.0\\x00', b'rundll32.exe\\x00', b'9npSEGB3kg9suo3Yit\\x00', b'kernel32.dll', b'https://azure-dbupdate.at/vuUwUx/FyNRoM/index.php\\x00', b'Shlwapi.dll\\x00', b'WS2_32.dll\\x00', b'DllRegisterServer\\x00', b'loaddll32.exe\\x00', b'Shell32.dll\\x00', b'Wininet.dll\\x00', b'USER32.dll\\x00', b'GetProcAddress', b'LoadLibraryA', b'IPHLPAPI.DLL\\x00', b'https://azure-dbupdate.at/vuUwUx/FyNRoM/auth.php\\x00', b'https://azure-updatedb.at/vuUwUx/FyNRoM/index.php\\x00', b'VirtualFree', b'regsvr32.exe\\x00', b'%PROCESSOR_LEVEL%']\n",
      "\n",
      "/tmp/samples/f27821dddb17b6c8d59fb2ada1e90eac8d561476e5af3a6be064177683b0eee9.bin\n",
      "[b'VirtualAlloc', b'Windows-Update-Agent/11.0.10011.16384 Client-Protocol/2.0\\x00', b'rundll32.exe\\x00', b'9npSEGB3kg9suo3Yit\\x00', b'kernel32.dll', b'https://azure-dbupdate.at/vuUwUx/FyNRoM/index.php\\x00', b'Shlwapi.dll\\x00', b'WS2_32.dll\\x00', b'DllRegisterServer\\x00', b'loaddll32.exe\\x00', b'Shell32.dll\\x00', b'Wininet.dll\\x00', b'USER32.dll\\x00', b'GetProcAddress', b'LoadLibraryA', b'IPHLPAPI.DLL\\x00', b'https://azure-dbupdate.at/vuUwUx/FyNRoM/auth.php\\x00', b'https://azure-updatedb.at/vuUwUx/FyNRoM/index.php\\x00', b'VirtualFree', b'regsvr32.exe\\x00', b'%PROCESSOR_LEVEL%']\n"
     ]
    }
   ],
   "source": [
    "get_strings(FILE_PATH)\n",
    "\n",
    "import os\n",
    "\n",
    "for filename in os.listdir('/tmp/samples'):\n",
    "    if filename.endswith(\".bin\"): \n",
    "        file_path = os.path.join('/tmp/samples', filename)\n",
    "        print(f\"\\n{file_path}\")\n",
    "        print(get_strings(file_path))\n",
    "        "
   ]
  },
  {
   "cell_type": "markdown",
   "id": "6e339aac-61e7-46a0-9b3e-958640f0f505",
   "metadata": {},
   "source": [
    "### Sample Using ADV String Obfuscation\n",
    "\n",
    "A newer sample uses some type of ADV string obfuscation `b9b399dbb5d901c16d97b7c30cc182736cd83a7c53313194a1798d61f9c7501e`. We can probably use our old dumpulator tricks for  this.\n",
    "\n",
    "The start of the `.text` section contains a vtable with all of the string decryption functions.\n",
    "\n"
   ]
  },
  {
   "cell_type": "code",
   "execution_count": 118,
   "id": "6fbffee4-d28a-46da-9016-82051c88cdca",
   "metadata": {},
   "outputs": [
    {
     "name": "stdout",
     "output_type": "stream",
     "text": [
      "Failed to read module data\n",
      "C:\\Users\\IEUser\\Desktop\\DLLLoader32_82D6.exe\n",
      "\"C:\\Users\\IEUser\\Desktop\\DLLLoader32_82D6.exe\"\n",
      "e03ed\n",
      "Uninstall\n",
      "3fe11\n",
      "Running exe\n",
      "Starting the exe with parameters\n",
      "Run CMD in memory\n",
      "Run PS in memory\n",
      "Running dll in memory #3 (DllInstall(Unstall))\n",
      "Running dll in memory #3 (DllInstall(Install))\n",
      "Regsvr32 & Execute\n",
      "MemLoadDllMain || MemLoadExe\n",
      "zNETjp\n",
      "5deb9c\n",
      "Run EXE with admin rights\n",
      "TAMfm\n",
      "RunDll32 & Execute\n",
      "Crypt update & Bots upgrade\n",
      "Running dll in memory #2 (DllRegisterServer)\n",
      "tbesqn\n"
     ]
    }
   ],
   "source": [
    "from dumpulator import Dumpulator, syscall\n",
    "from dumpulator.native import *\n",
    "\n",
    "@syscall\n",
    "def ZwQueryVolumeInformationFile(dp: Dumpulator,\n",
    "                                 FileHandle: HANDLE,\n",
    "                                 IoStatusBlock: P(IO_STATUS_BLOCK),\n",
    "                                 FsInformation: PVOID,\n",
    "                                 Length: ULONG,\n",
    "                                 FsInformationClass: FSINFOCLASS\n",
    "                                 ):\n",
    "    return STATUS_SUCCESS\n",
    "\n",
    "\n",
    "\n",
    "dp = Dumpulator(\"/tmp/b9b.dmp\", quiet=True)\n",
    "\n",
    "dp.start(dp.regs.eip, end=dp.read_ptr(dp.regs.esp))\n",
    "\n",
    "functs = [0x74040976,0x740409A4,0x740409BA,0x74040998,0x7404098C,0x7403F910,0x7403F91C,0x7403F967,0x7403F9B2,0x7403F9FD,0x7403FA48,0x7403FA93,0x7403FADE,0x7403FB44,0x7403FBAE,0x7403FC20,0x7403FC98,0x7403FD06,0x7403FD74,0x7403FDDD,0x7403FE43,0x7403FEBF,0x7403FF46,0x7403FFD5,0x74040065,0x740400DC,0x74040146,0x740401A2,0x740401FE,0x7404025A,0x740402B6,0x74040312,0x74040378,0x740403D4,0x74040438,0x7404048B,0x740404DE,0x74040542,0x7404059E,0x740405F1,0x74040644,0x740406A0,0x74040706,0x7404074F,0x740407AB,0x74040807,0x7404085A,0x740408B6,0x7404091A]\n",
    "\n",
    "for fn in functs:\n",
    "    dp.call(fn,[])\n",
    "\n",
    "\n",
    "str_tbl_start = 0x7407FDB4\n",
    "str_tbl_end = 0x7407FE7C\n",
    "\n",
    "str_tbl_start = 0x7407E000\n",
    "str_tbl_end = 0x74080224\n",
    "\n",
    "for ptr in range(str_tbl_start,str_tbl_end,4):\n",
    "    try:\n",
    "        ss = dp.read_str(dp.read_ptr(ptr))\n",
    "\n",
    "        if len(ss) > 4:\n",
    "            print(ss)\n",
    "    except:\n",
    "        continue\n",
    "\n"
   ]
  },
  {
   "cell_type": "markdown",
   "id": "8c713fd3-9580-4a97-ba1c-ef290abad58a",
   "metadata": {},
   "source": [
    "#### Different Sample From Same Family\n",
    "\n",
    "This is clearly a different sample based on the decrypted strings, but it seems to be part of the matanbuchus family... maybe this is a payload instead of a loader? The sample matches analysis from this blog: [Introduction of a PE file extractor for various situations](https://r136a1.info/2022/05/25/introduction-of-a-pe-file-extractor-for-various-situations/)>\n",
    "\n",
    "We need to figure out why these samples are so different... \n",
    "\n"
   ]
  },
  {
   "cell_type": "code",
   "execution_count": null,
   "id": "7fb79d9c-75a7-4204-b721-ca5a354b19ae",
   "metadata": {},
   "outputs": [],
   "source": [
    "\n"
   ]
  },
  {
   "cell_type": "code",
   "execution_count": null,
   "id": "24702bf4-941a-4201-bf77-82bfd0c9c079",
   "metadata": {},
   "outputs": [],
   "source": []
  }
 ],
 "metadata": {
  "kernelspec": {
   "display_name": "Python 3",
   "language": "python",
   "name": "python3"
  },
  "language_info": {
   "codemirror_mode": {
    "name": "ipython",
    "version": 3
   },
   "file_extension": ".py",
   "mimetype": "text/x-python",
   "name": "python",
   "nbconvert_exporter": "python",
   "pygments_lexer": "ipython3",
   "version": "3.9.5"
  }
 },
 "nbformat": 4,
 "nbformat_minor": 5
}
