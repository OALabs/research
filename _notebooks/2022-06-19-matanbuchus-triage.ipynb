{
 "cells": [
  {
   "cell_type": "markdown",
   "id": "a183b713-058e-43e2-ab7f-ee408681c9c1",
   "metadata": {},
   "source": [
    "# Matanbuchus Triage Notes\n",
    "> Matanbuchus loader triage and yara rule\n",
    "\n",
    "- toc: true \n",
    "- badges: true\n",
    "- categories: [Matanbuchus,loader,yara,triage,dumpulator,emulation]"
   ]
  },
  {
   "cell_type": "markdown",
   "id": "955d53f5-9e5d-4aa2-9e36-dde0ce08a748",
   "metadata": {},
   "source": [
    "![](https://cdn.discordapp.com/attachments/885652495421030431/988186871660183612/a_horse.png)\n",
    "\n",
    "## Overview\n",
    "\n",
    "Matanbuchus is a malware downloader that has been observed as the final loading stage in multiple phishing campaigns. There are two components, a Matanbuchus loader intented to load the Matanbuchus downloader. Once the downloader is executed it makes an HTTP request to the C2 with some victim info, and downloads the final payload.\n",
    "\n",
    "\n",
    "According to [DCSO CyTec](https://twitter.com/DCSO_CyTec)...\n",
    ">Matanbuchus is the name given to a Malware-as-a-Service sold on Russian-speaking cybercriminal forums. Starting at a rental price of $2,500, the malware consists of an obfuscated two-stage loader which has been deployed in conjunction with Qakbot and Cobalt Strike payloads.\n",
    "\n",
    "\n",
    "![](https://isc.sans.edu/diaryimages/images/2022-06-17-ISC-diary-image-00a.jpg)\n",
    "\n",
    "\n",
    "### References \n",
    "- [Malspam pushes Matanbuchus malware, leads to Cobalt Strike\n",
    "](https://isc.sans.edu/forums/diary/Malspam+pushes+Matanbuchus+malware+leads+to+Cobalt+Strike/28752/)\n",
    "- [Not Packed (UnpacMe)](https://www.unpac.me/results/7166936d-dcd6-40ed-9d15-0151953e46ff#/)\n",
    "- [f8cc2cf36e193774f13c9c5f23ab777496dcd7ca588f4f73b45a7a5ffa96145e](https://malshare.com/sample.php?action=detail&hash=f8cc2cf36e193774f13c9c5f23ab777496dcd7ca588f4f73b45a7a5ffa96145e)\n",
    "- [Matanbuchus: Malware-as-a-Service with Demonic Intentions](https://unit42.paloaltonetworks.com/matanbuchus-malware-as-a-service/)\n",
    "- [A deal with the devil: Analysis of a recent Matanbuchus sample](https://medium.com/@DCSO_CyTec/a-deal-with-the-devil-analysis-of-a-recent-matanbuchus-sample-3ce991951d6a)\n",
    "- [MATANBUCHUS: Another Loader As A Service Malware](https://www.0ffset.net/reverse-engineering/matanbuchus-loader-analysis/)\n",
    "- [List of known versions of Windows DLLs](https://winbindex.m417z.com/?file=ntdll.dll)"
   ]
  },
  {
   "cell_type": "markdown",
   "id": "66b3cc97-70aa-4415-a984-3705de12c383",
   "metadata": {},
   "source": [
    "## Analysis\n",
    "\n",
    "- The DLL has an export called `HackCheck` that uses OutputDebugStringA to print `start dll HackCheck` \n",
    "- The sample uses API hashing with FNV1a hash algo to resolve API calls\n"
   ]
  },
  {
   "cell_type": "markdown",
   "id": "6b59626d-247a-4998-bd83-2b3f44371d9e",
   "metadata": {},
   "source": [
    "### Yara Rule\n",
    "\n",
    "This yara rule is very brittle and needs lots of testing/refining\n",
    "\n",
    "```\n",
    "\n",
    "rule diceloader {\n",
    "    meta:\n",
    "        description = \"Identifies diceloader\"\n",
    "        \n",
    "   strings:\n",
    "       // recursive fnv1 hash\n",
    "       // 69 C2 93 01 00 01                       imul    eax, edx, 1000193h\n",
    "       // 50                                      push    eax\n",
    "       // B9 01 00 00 00                          mov     ecx, 1\n",
    "       // C1 E1 00                                shl     ecx, 0\n",
    "       $x1 = { 69 c2 93 01 00 01 50 b9 01 00 00 00 c1 e1 00 }\n",
    "         \n",
    "      //  string decryption    \n",
    "      //  0F BE 1C 01                             movsx   ebx, byte ptr [ecx+eax]\n",
    "      //  33 DE                                   xor     ebx, esi\n",
    "      //  6A 00                                   push    0\n",
    "      //  6A 01                                   push    1\n",
    "        $x2 = { 0f be 1c 01 33 de 6a 00 6a 01 }\n",
    "     \n",
    "       \n",
    "   condition:\n",
    "       all of ($x*)\n",
    "}\n",
    "\n",
    "\n",
    "```\n",
    "\n",
    "\n",
    "\n",
    "### String Decryption\n",
    "#### Simple Decryption\n",
    "Some strings are built as stack strings then copied into a buffer and returned from a function. The returned buffer is then decrypted directly using a simple XOR decryption routine where the first byte is the key."
   ]
  },
  {
   "cell_type": "code",
   "execution_count": 5,
   "id": "6b9fb24f-211f-4294-8d79-4bd2c5dad754",
   "metadata": {},
   "outputs": [
    {
     "data": {
      "text/plain": [
       "b'start dll HackCheck'"
      ]
     },
     "execution_count": 5,
     "metadata": {},
     "output_type": "execute_result"
    }
   ],
   "source": [
    "import struct\n",
    "\n",
    "data = b'jl8|tt8Py{s[p}{s'\n",
    "key = struct.pack('<I',0x796C6B18)\n",
    "data = key[1:] + data\n",
    "out = []\n",
    "\n",
    "\n",
    "for i in data:\n",
    "    out.append(i ^ key[0])\n",
    "\n",
    "bytes(out)\n",
    "\n",
    "\n"
   ]
  },
  {
   "cell_type": "code",
   "execution_count": 34,
   "id": "cf2a00a3-16de-481f-83a9-11e15bdb4a41",
   "metadata": {},
   "outputs": [],
   "source": [
    "def unhex(hex_string):\n",
    "    import binascii\n",
    "    if type(hex_string) == str:\n",
    "        return binascii.unhexlify(hex_string.encode('utf-8'))\n",
    "    else:\n",
    "        return binascii.unhexlify(hex_string)\n",
    "\n",
    "def tohex(data):\n",
    "    import binascii\n",
    "    if type(data) == str:\n",
    "        return binascii.hexlify(data.encode('utf-8'))\n",
    "    else:\n",
    "        return binascii.hexlify(data)"
   ]
  },
  {
   "cell_type": "markdown",
   "id": "200ef0b7-dc87-4723-b8c4-158031845f07",
   "metadata": {},
   "source": [
    "#### Complex Decryption\n",
    "Other strings are also build from stack strings in a function and returned in a buffer, but these strings are decrypted with a second function call to a decryption function. To handle these more complex strings, we will use [dumpulator](https://github.com/mrexodia/dumpulator)\n",
    "\n",
    "\n",
    "\n",
    "\n",
    "\n",
    "\n"
   ]
  },
  {
   "cell_type": "code",
   "execution_count": 67,
   "id": "750f596b-d1e7-438a-b302-fcec343cddaf",
   "metadata": {},
   "outputs": [],
   "source": [
    "from dumpulator import Dumpulator\n",
    "import struct\n",
    "import re\n",
    "import pefile\n",
    "\n",
    "file_data = open('/tmp/mat.bin','rb').read()\n",
    "pe = pefile.PE(data=file_data)\n",
    "\n",
    "\n",
    "\n",
    "\n",
    "\n"
   ]
  },
  {
   "cell_type": "code",
   "execution_count": 68,
   "id": "fcddc080-be94-4c89-870f-678dfa18d326",
   "metadata": {},
   "outputs": [
    {
     "name": "stdout",
     "output_type": "stream",
     "text": [
      "Failed to read module data\n"
     ]
    },
    {
     "data": {
      "text/plain": [
       "bytearray(b'https://telemetrysystemcollection.com/m8YYdu/mCQ2U9/auth.aspx\\x00')"
      ]
     },
     "execution_count": 68,
     "metadata": {},
     "output_type": "execute_result"
    }
   ],
   "source": [
    "dp = Dumpulator(\"/tmp/mat.dmp\", quiet=True)\n",
    "fn_get_string = 0x708641C0\n",
    "ss_start = 0x708631B2\n",
    "ss_end = 0x708632AA \n",
    "\n",
    "dp.start(ss_start, end=ss_end)\n",
    "\n",
    "ss = dp.read(dp.regs.ebp-0x50, 0x48)\n",
    "\n",
    "\n",
    "\n",
    "\n",
    "ss = bytes(ss)[:0x3e]\n",
    "\n",
    "buff = dp.allocate(0x3e)\n",
    "dp.write(buff, ss)\n",
    "fn_dec_str = 0x7086F3D0 \n",
    "\n",
    "dp.call(fn_dec_str, [buff, 0x3e, 0x0, 0x7ebbfa3, 0x1010101])\n",
    "dp.read(buff,0x3e)"
   ]
  },
  {
   "cell_type": "markdown",
   "id": "49039931-3bdc-4724-a9dd-da053035d20d",
   "metadata": {},
   "source": [
    "### Dumpulator Notes\n",
    "The DLL uses thread safe functions that require a call into `EnterCriticalSection` and `LeaveCriticalSection`. Because our dump was taken before the DLL was initialized the critical section object was not initialized and this causes Dumpulator to crash.\n",
    "\n",
    "First we tried just calling the initialization function in the DLL to setup this object (also tried calling the wrapper functions for `InitializeCriticalSectionEx`) but these all led to crashes (we could implement some syscalls and try again but we are lazy!\n",
    "\n",
    "Our solution is to just patch out the `EnterCriticalSection` and `LeaveCriticalSection` calls in the loaded `ntdll` using a simple return 0.\n",
    "```\n",
    "33 C0     xor eax,eax\n",
    "C2 04 00  ret 4\n",
    "```\n",
    "#### Dumpulator Patching Out Functions"
   ]
  },
  {
   "cell_type": "code",
   "execution_count": 69,
   "id": "5b06ea6a-bb81-4731-ada2-4e8eccde9b39",
   "metadata": {},
   "outputs": [
    {
     "name": "stdout",
     "output_type": "stream",
     "text": [
      "Failed to read module data\n",
      "unmapped read from 8[4], cip = 77a6693a\n",
      "error: Invalid memory read (UC_ERR_READ_UNMAPPED), cip = 77a6693a\n"
     ]
    },
    {
     "data": {
      "text/plain": [
       "134217727"
      ]
     },
     "execution_count": 69,
     "metadata": {},
     "output_type": "execute_result"
    }
   ],
   "source": [
    "dp = Dumpulator(\"/tmp/mat.dmp\", quiet=True)\n",
    "\n",
    "ntdll_start = 0x77a10000\n",
    "\n",
    "\n",
    "patch_bytes = b'\\x33\\xC0\\xC2\\x04\\x00'\n",
    "\n",
    "ptr_RtlLeaveCriticalSection = 0x77A5FFF0\n",
    "ptr_RtlEnterCriticalSection = 0x77A5FDF0\n",
    "\n",
    "get_str_fn = 0x70861000\n",
    "\n",
    "#tohex(dp.read(ntdll_init_crit_sec,10))\n",
    "\n",
    "dp.write(ptr_RtlLeaveCriticalSection, patch_bytes)\n",
    "dp.write(ptr_RtlEnterCriticalSection, patch_bytes)\n",
    "\n",
    "\n",
    "\n",
    "dp.call(get_str_fn)\n"
   ]
  },
  {
   "cell_type": "markdown",
   "id": "5fed655a-8124-49c1-961f-7f9c548a352d",
   "metadata": {},
   "source": [
    "#### Dumpulator Implementing Syscalls to Load DLL\n",
    "Our patching method sort of worked but there is other initializations stuff that was causing more crashes. We are going to try and just implement the syscalls that we need to actually emulate the full DLL load routine and see if that works better."
   ]
  },
  {
   "cell_type": "code",
   "execution_count": 87,
   "id": "c5b910e4-533f-4c93-adad-a7392763bdc6",
   "metadata": {},
   "outputs": [
    {
     "name": "stdout",
     "output_type": "stream",
     "text": [
      "Failed to read module data\n"
     ]
    },
    {
     "data": {
      "text/plain": [
       "'https://telemetrysystemcollection.com/m8YYdu/mCQ2U9/auth.aspx'"
      ]
     },
     "execution_count": 87,
     "metadata": {},
     "output_type": "execute_result"
    }
   ],
   "source": [
    "from dumpulator import Dumpulator, syscall\n",
    "from dumpulator.native import *\n",
    "\n",
    "@syscall\n",
    "def ZwQueryVolumeInformationFile(dp: Dumpulator,\n",
    "                                 FileHandle: HANDLE,\n",
    "                                 IoStatusBlock: P(IO_STATUS_BLOCK),\n",
    "                                 FsInformation: PVOID,\n",
    "                                 Length: ULONG,\n",
    "                                 FsInformationClass: FSINFOCLASS\n",
    "                                 ):\n",
    "    return STATUS_SUCCESS\n",
    "\n",
    "\n",
    "\n",
    "dp = Dumpulator(\"/tmp/mat2.dmp\", quiet=True)\n",
    "\n",
    "dll_base_addr = 0x71950000\n",
    "\n",
    "dp.start(dp.regs.eip, end=dp.read_ptr(dp.regs.esp))\n",
    "\n",
    "\n",
    "get_str_fn = 0x71951000\n",
    "dp.read_str(dp.call(get_str_fn))\n",
    "\n"
   ]
  },
  {
   "cell_type": "markdown",
   "id": "c041ac54-0a2c-4a27-b0ec-6c6132fff435",
   "metadata": {},
   "source": [
    "#### Finding Encrypted Stack Strings\n"
   ]
  },
  {
   "cell_type": "code",
   "execution_count": 88,
   "id": "d6b45a2a-834e-4d2b-98e9-b589d7d5b3e9",
   "metadata": {},
   "outputs": [
    {
     "name": "stdout",
     "output_type": "stream",
     "text": [
      "https://telemetrysystemcollection.com/m8YYdu/mCQ2U9/auth.aspx\n",
      "https://collectiontelemetrysystem.com/m8YYdu/mCQ2U9/auth.aspx\n",
      "DllRegisterServer\n",
      "http://collectiontelemetrysystem.com/m8YYdu/mCQ2U9/home.aspx\n",
      "http://telemetrysystemcollection.com/m8YYdu/mCQ2U9/home.aspx\n",
      "https://telemetrysystemcollection.com/m8YYdu/mCQ2U9/home.aspx\n"
     ]
    }
   ],
   "source": [
    "egg = rb'(\\xC6\\x45..){4}'\n",
    "\n",
    "egg = rb'\\x55\\x8b\\xec\\x83\\xec\\x08\\x33\\xc0\\x88\\x45\\xff'\n",
    "\n",
    "stack_string_offsets = []\n",
    "for m in re.finditer(egg, file_data):\n",
    "    fn_offset = m.start()\n",
    "    fn_addr = pe.get_rva_from_offset(fn_offset) + dll_base_addr\n",
    "    tmp_str = dp.read_str(dp.call(fn_addr))\n",
    "    print(tmp_str)\n",
    "\n",
    "    \n",
    "    \n",
    "\n"
   ]
  }
 ],
 "metadata": {
  "kernelspec": {
   "display_name": "Python 3",
   "language": "python",
   "name": "python3"
  },
  "language_info": {
   "codemirror_mode": {
    "name": "ipython",
    "version": 3
   },
   "file_extension": ".py",
   "mimetype": "text/x-python",
   "name": "python",
   "nbconvert_exporter": "python",
   "pygments_lexer": "ipython3",
   "version": "3.9.5"
  }
 },
 "nbformat": 4,
 "nbformat_minor": 5
}
