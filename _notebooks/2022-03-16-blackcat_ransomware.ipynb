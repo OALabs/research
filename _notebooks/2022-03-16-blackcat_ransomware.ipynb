{
 "cells": [
  {
   "cell_type": "markdown",
   "id": "48756cc0-2b2c-4093-8bc7-7160e9d1558a",
   "metadata": {},
   "source": [
    "# BlackCat Ransomware\n",
    "> Analysis of new BlackCat ransomware  with encrypted config\n",
    "\n",
    "- toc: true \n",
    "- badges: true\n",
    "- categories: [blackcat,ransomware,malware,python,dumpulator,emulation]"
   ]
  },
  {
   "cell_type": "markdown",
   "id": "18c9472e-5a1d-4580-a883-3dd7eac5f0a9",
   "metadata": {},
   "source": [
    "> twitter: https://twitter.com/pancak3lullz/status/1504208693277212674"
   ]
  },
  {
   "cell_type": "markdown",
   "id": "1ff93c0b-cc89-4139-bf44-431e60cefa7a",
   "metadata": {},
   "source": [
    "## Overview\n",
    "\n",
    "Sample `6dd995d896a9a593b2c48d09da60bd83866d8577273f36d38788d83ad8173e68`\n",
    "\n",
    "**References**\n",
    "- Sample is on [MalwareBazaar](https://bazaar.abuse.ch/sample/6dd995d896a9a593b2c48d09da60bd83866d8577273f36d38788d83ad8173e68/)\n",
    "- Old config extracto from f0wl on [blackCatConf](https://github.com/f0wl/blackCatConf) \n",
    "- Paloalto [Threat Assessment: BlackCat Ransomware](https://unit42.paloaltonetworks.com/blackcat-ransomware/)\n",
    "- Talos [From BlackMatter to BlackCat: Analyzing two attacks from one affiliate](https://blog.talosintelligence.com/2022/03/from-blackmatter-to-blackcat-analyzing.html)\n",
    "\n",
    "### Rust Reverse Engineering\n",
    "BlackCat is written in Rust and is very time consuming to reverse engineer. To speed up the process we used a combination of debugging and some python scripts courtesy of @fwosar.\n",
    "\n",
    "### The Config\n",
    "There is a new BlackCat ransomware sample out and it the config is now protected using a command line supplied ACCCESS_TOKEN. The token is used to generate an AES key which is then used to decrypt the encrypted config.\n",
    "\n",
    "\n",
    "\n"
   ]
  },
  {
   "cell_type": "markdown",
   "id": "e97c5c0d-224c-4357-a989-4d483dcf5f3f",
   "metadata": {},
   "source": [
    "### Notes\n",
    "\n",
    "**Ransomware options**\n",
    "```\n",
    "USAGE:\n",
    "     [OPTIONS] [SUBCOMMAND]\n",
    "\n",
    "OPTIONS:\n",
    "        --access-token <ACCESS_TOKEN>               Access Token\n",
    "        --bypass <BYPASS>...\n",
    "        --child                                     Run as child process\n",
    "        --drag-and-drop                             Invoked with drag and drop\n",
    "        --drop-drag-and-drop-target                 Drop drag and drop target batch file\n",
    "        --extra-verbose                             Log more to console\n",
    "    -h, --help                                      Print help information\n",
    "        --log-file <LOG_FILE>                       Enable logging to specified file\n",
    "        --no-net                                    Do not discover network shares on Windows\n",
    "        --no-prop                                   Do not self propagate(worm) on Windows\n",
    "        --no-prop-servers <NO_PROP_SERVERS>...      Do not propagate to defined servers\n",
    "        --no-vm-kill                                Do not stop VMs on ESXi\n",
    "        --no-vm-kill-names <NO_VM_KILL_NAMES>...    Do not stop defined VMs on ESXi\n",
    "        --no-vm-snapshot-kill                       Do not wipe VMs snapshots on ESXi\n",
    "        --no-wall                                   Do not update desktop wallpaper on Windows\n",
    "    -p, --paths <PATHS>...                          Only process files inside defined paths\n",
    "        --propagated                                Run as propagated process\n",
    "        --ui                                        Show user interface\n",
    "    -v, --verbose                                   Log to console\n",
    "```\n",
    "\n",
    "**Set desktop ransom note**\n",
    "`\\\\All Usersdeploy_note_and_image_for_all_users=`\n",
    "\n",
    "**Mutex**\n",
    "`Local\\\\RustBacktraceMutex`\n",
    "\n",
    "\n",
    "**Batch file name**\n",
    "`drag-and-drop-target.bat`\n",
    "\n",
    "\n",
    "**Batch file contents (encrypted)**\n",
    "```\n",
    "@ECHO OFF\n",
    "SETLOCAL\n",
    "SET allargs=%*\n",
    "\"${EXECUTABLE}\" --access-token ${ACCESS_TOKEN} --drag-and-drop -p %allargs%\n",
    "```\n",
    "\n",
    "### Propogation  \n",
    "The ransomware contains an embedded encrypted copy of [psExec](https://docs.microsoft.com/en-us/sysinternals/downloads/psexec). This is likely used as part of their propagation (worm). The ransomware can be executed via the `drag-and-drop-target.bat` batch files. These are a useful artifact to recover during IR as they will contain the ACCESS_TOKEN which can be used to decrypt the config. \n",
    "\n",
    "\n"
   ]
  },
  {
   "cell_type": "markdown",
   "id": "44c37cb7-721a-4ee2-bd41-ef44fee66388",
   "metadata": {},
   "source": [
    "### Entropy Fider\n",
    "\n",
    "To help identify high entropy sections of the binary (encrypted data) we used this nice script from @fwosar"
   ]
  },
  {
   "cell_type": "code",
   "execution_count": 4,
   "id": "18c8d81b-32a4-400b-a62e-03539a448e15",
   "metadata": {},
   "outputs": [],
   "source": [
    "# Entropy find script by @fwosar\n",
    "\n",
    "def report_entropies(file_path):\n",
    "    import rolling\n",
    "    from pathlib import Path\n",
    "    data = Path(file_path).read_bytes()\n",
    " \n",
    "    entropies = rolling.Entropy(data, 512)\n",
    "    high_entropy_start = None\n",
    "    for i, entropy in enumerate(entropies):\n",
    "        if entropy > 7 and not high_entropy_start:\n",
    "            high_entropy_start = i + 512\n",
    "        if entropy < 7 and high_entropy_start:\n",
    "            print(f\"Found high entropy section starting at {hex(high_entropy_start)} up to {hex(i + 512)}. Totalling {(i + 512) - high_entropy_start} bytes.\")\n",
    "            high_entropy_start = None\n",
    "    if high_entropy_start:\n",
    "        print(f\"Found high entropy section starting at {hex(high_entropy_start)} up to {hex(len(data))}. Totalling {len(data) - high_entropy_start} bytes.\")"
   ]
  },
  {
   "cell_type": "code",
   "execution_count": null,
   "id": "d1640f8c-5298-44cb-bc3d-e6f984b8658c",
   "metadata": {},
   "outputs": [],
   "source": []
  }
 ],
 "metadata": {
  "kernelspec": {
   "display_name": "Python 3",
   "language": "python",
   "name": "python3"
  },
  "language_info": {
   "codemirror_mode": {
    "name": "ipython",
    "version": 3
   },
   "file_extension": ".py",
   "mimetype": "text/x-python",
   "name": "python",
   "nbconvert_exporter": "python",
   "pygments_lexer": "ipython3",
   "version": "3.9.5"
  }
 },
 "nbformat": 4,
 "nbformat_minor": 5
}
