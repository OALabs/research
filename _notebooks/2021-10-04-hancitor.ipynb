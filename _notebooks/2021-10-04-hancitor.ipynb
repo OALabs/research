{
 "cells": [
  {
   "cell_type": "markdown",
   "id": "3ba83c60-8171-4158-a95b-7578163ae87c",
   "metadata": {},
   "source": [
    "# Hancitor\n",
    "> Hancitor static config extractor\n",
    "\n",
    "- toc: true \n",
    "- badges: true\n",
    "- categories: [hancitor,malware,config]"
   ]
  },
  {
   "cell_type": "markdown",
   "id": "b611e754-c56a-4cdc-a606-0aa8d8eb14c9",
   "metadata": {},
   "source": [
    "## Overview\n",
    "\n",
    "Notes from our live stream where we reverse engineered the Hancitor DLL and built a static config extractor for it.\n",
    "\n",
    "> youtube: https://www.youtube.com/watch?v=OQuRwpUTBpQ\n",
    "\n",
    "## Malware Sample\n",
    "- [Malware Traffic Analysis Sample 1](https://www.malware-traffic-analysis.net/2021/09/02/index.html)\n",
    "- [Unpacked Sample (malshare)](https://malshare.com/sample.php?action=detail&hash=39ae285d4a7436eec52ee4da032da13132cdf259768de8a0e396ad20245fe330)\n",
    "\n",
    "## References\n",
    "[DFIR Report Hancitor](https://thedfirreport.com/2021/06/28/hancitor-continues-to-push-cobalt-strike/)"
   ]
  },
  {
   "cell_type": "markdown",
   "id": "da57888a-0c1e-4c70-b445-3803ad32a54d",
   "metadata": {},
   "source": [
    "## Setup Imports\n",
    "\n",
    "We are going to need some libraries to get our config extractor working.\n",
    "- **pefile** - Parse data into a PE format. [Read the docs.](https://github.com/erocarrera/pefile)\n",
    "- **re** - Use a regular expression to locate our config data. [Read the docs.](https://docs.python.org/3/library/re.html)\n",
    "- **struct** - Convert binary data into numeric values. [Read the docs.](https://docs.python.org/3/library/struct.html)\n",
    "- **hashlib** - Generate a SHA1 hash. [Read the docs.](https://docs.python.org/3/library/hashlib.html)"
   ]
  },
  {
   "cell_type": "code",
   "execution_count": 8,
   "id": "ff864587-ee25-4562-9e9b-89c1f1297c87",
   "metadata": {},
   "outputs": [],
   "source": [
    "import pefile\n",
    "import re\n",
    "import struct\n",
    "import hashlib"
   ]
  },
  {
   "cell_type": "markdown",
   "id": "bf912491-5ca3-436e-9bcc-f0b535116053",
   "metadata": {},
   "source": [
    "## Load The Malware\n",
    "\n",
    "We need to read in the malware binary, remember to replace the path with a path the file on your own host. We also want to parse the data as a PE file so we can easily access the PE structure in our code."
   ]
  },
  {
   "cell_type": "code",
   "execution_count": 9,
   "id": "71079510-c824-4a60-a7ff-ceddbb21b0f5",
   "metadata": {},
   "outputs": [],
   "source": [
    "file_path = r'/tmp/hancitor.bin'\n",
    "data = open(file_path,'rb').read()\n",
    "pe = pefile.PE(data=data)"
   ]
  },
  {
   "cell_type": "markdown",
   "id": "9dda662a-c25e-4cc4-8475-206b3e0f1f77",
   "metadata": {},
   "source": [
    "## Use A Regular Expression to Locate The Decryption Code\n",
    "We can use a regulare expression to find the code that is used to setup the arguments for the config decryption function. The key is to assume that the config length will say the same 0x2000 so we can use this as a marker in the code.\n",
    "\n",
    "![](https://i.imgur.com/YxoCA7b.png)\n",
    "\n",
    "The `(.)` in our regular expression are a wildcard -- match any bytes -- in a capture group. The capture group can then be used to extract the data that was matched by the wildcard. In this case we use a capture group to pull the size of the key and the address of the key. \n"
   ]
  },
  {
   "cell_type": "code",
   "execution_count": 10,
   "id": "ee3aaf27-2ba1-44c1-a536-a40f1f124327",
   "metadata": {},
   "outputs": [
    {
     "name": "stdout",
     "output_type": "stream",
     "text": [
      "key length: b'\\x08'\n",
      "key address: b'\\x10PV\\x00'\n"
     ]
    }
   ],
   "source": [
    "key = rb'\\x6a(.)\\x68(....)\\x68\\x00\\x20\\x00\\x00'\n",
    "m = re.search(key, data)\n",
    "if m != None:\n",
    "    print(\"key length: %r\" % m.group(1))\n",
    "    print(\"key address: %r\" % m.group(2))"
   ]
  },
  {
   "cell_type": "markdown",
   "id": "2d68e02d-712f-423d-88cf-979aafc43403",
   "metadata": {},
   "source": [
    "## Convert The Extracted Key Information\n",
    "The key information extracted in our capture groups is binary so it must be converted into a data type to be used in our scipt. WE can use the `struct` library to do this. The `'b'` signifies that we are converting a byte and the `'<I'` signifies that we are converting an unsigned integer (DWORD) stored in little-endian format. "
   ]
  },
  {
   "cell_type": "code",
   "execution_count": 11,
   "id": "71cfd721-58b6-4dde-8810-14f69fb20354",
   "metadata": {},
   "outputs": [
    {
     "data": {
      "text/plain": [
       "8"
      ]
     },
     "execution_count": 11,
     "metadata": {},
     "output_type": "execute_result"
    }
   ],
   "source": [
    "struct.unpack('b', m.group(1))[0]"
   ]
  },
  {
   "cell_type": "code",
   "execution_count": 12,
   "id": "a8a6dc95-95c2-458f-93db-70fc08442ac6",
   "metadata": {},
   "outputs": [
    {
     "data": {
      "text/plain": [
       "'0x565010'"
      ]
     },
     "execution_count": 12,
     "metadata": {},
     "output_type": "execute_result"
    }
   ],
   "source": [
    "hex(struct.unpack('<I', m.group(2))[0])"
   ]
  },
  {
   "cell_type": "markdown",
   "id": "4091c64e-4cb7-4170-abc9-1f94ffe4a469",
   "metadata": {},
   "source": [
    "## Use The Key Information To Extract The Key Data\n",
    "\n",
    "Now that we have the key length and key address we can use this information to extract the key data, and the config data (which directly follows the key in the binary). The key address needs to be converted into a **file offset** so we can locate that data in our file. \n",
    "\n",
    "To convert from an address in the PE file to a file offset we must first convert the address into a **relative virtual address (RVA)** then we can use the build in pefile function `get_offset_from_rva` to convert the RVA to a file offset.\n",
    "\n",
    "Once we have the file offset of the key data we can extract the key and the config from our file."
   ]
  },
  {
   "cell_type": "code",
   "execution_count": 13,
   "id": "e59ecfdb-467c-4ddf-9fd2-7a32c8ea6b38",
   "metadata": {},
   "outputs": [],
   "source": [
    "key_len = struct.unpack('b', m.group(1))[0]\n",
    "key_address = struct.unpack('<I', m.group(2))[0]\n",
    "key_rva = key_address - pe.OPTIONAL_HEADER.ImageBase\n",
    "key_offset = pe.get_offset_from_rva(key_rva)\n",
    "key_data = data[key_offset:key_offset+key_len]\n",
    "config_data = data[key_offset+key_len:key_offset+key_len+0x2000]"
   ]
  },
  {
   "cell_type": "markdown",
   "id": "892f4332-ef61-40cc-848d-0f8070da2c6d",
   "metadata": {},
   "source": [
    "## Hash The Key Data To Create The Key\n",
    "\n",
    "The config decryption key is the first 5 bytes of a **sha1** hash of the key data. We can use the hashlib library to create the key hash."
   ]
  },
  {
   "cell_type": "code",
   "execution_count": 14,
   "id": "94bb01d8-1d47-4c41-ad0d-a74c030859d9",
   "metadata": {},
   "outputs": [],
   "source": [
    "m = hashlib.sha1()\n",
    "m.update(key_data)\n",
    "key = m.digest()[:5]"
   ]
  },
  {
   "cell_type": "markdown",
   "id": "ecff9e88-2cb4-4e8f-adbc-3347fb73930b",
   "metadata": {},
   "source": [
    "## RC4 Decryption\n",
    "\n",
    "The actual decryption algorithm is RC4. If you want to learn more about RC4 you can check out our [RC4 Tutorial](https://www.youtube.com/watch?v=CiJocXXMXK4)."
   ]
  },
  {
   "cell_type": "code",
   "execution_count": 15,
   "id": "bf0fc677-0271-4041-b201-19f0945c48ac",
   "metadata": {},
   "outputs": [],
   "source": [
    "def rc4crypt(data, key):\n",
    "    #If the input is a string convert to byte arrays\n",
    "    if type(data) == str:\n",
    "        data = data.encode('utf-8')\n",
    "    if type(key) == str:\n",
    "        key = key.encode('utf-8')\n",
    "    x = 0\n",
    "    box = list(range(256))\n",
    "    for i in range(256):\n",
    "        x = (x + box[i] + key[i % len(key)]) % 256\n",
    "        box[i], box[x] = box[x], box[i]\n",
    "    x = 0\n",
    "    y = 0\n",
    "    out = []\n",
    "    for c in data:\n",
    "        x = (x + 1) % 256\n",
    "        y = (y + box[x]) % 256\n",
    "        box[x], box[y] = box[y], box[x]\n",
    "        out.append(c ^ box[(box[x] + box[y]) % 256])\n",
    "    return bytes(out)"
   ]
  },
  {
   "cell_type": "markdown",
   "id": "b136bc1c-044f-4b6d-9db3-1eeb40bdc9d7",
   "metadata": {},
   "source": [
    "## Parsing The Config\n",
    "\n",
    "Once we have the config decrypted we can parse out the BUILD and the C2 list."
   ]
  },
  {
   "cell_type": "code",
   "execution_count": 16,
   "id": "29b17d86-3dd9-4e0d-8f36-1ee2190cebe7",
   "metadata": {},
   "outputs": [
    {
     "name": "stdout",
     "output_type": "stream",
     "text": [
      "BUILD: b'0109_iqwnm'\n",
      "C2: b'http://asinvotheir.com/8/forum.php'\n",
      "C2: b'http://ditrismale.ru/8/forum.php'\n",
      "C2: b'http://clatrommon.ru/8/forum.php'\n"
     ]
    }
   ],
   "source": [
    "config = rc4crypt(config_data, key)\n",
    "build_id = config.split(b'\\x00')[0]\n",
    "c2_string = b''\n",
    "for s in config.split(b'\\x00')[1:]:\n",
    "    if s != b'':\n",
    "        c2_string = s\n",
    "        break\n",
    "c2_list = c2_string.split(b'|')\n",
    "print(\"BUILD: %s\" % build_id)\n",
    "for c2 in c2_list:\n",
    "    if c2 != b'':\n",
    "        print(\"C2: %s\" % c2)"
   ]
  },
  {
   "cell_type": "code",
   "execution_count": null,
   "id": "9c2d9d87-e014-4f39-9379-b7bb70932d76",
   "metadata": {},
   "outputs": [],
   "source": []
  }
 ],
 "metadata": {
  "kernelspec": {
   "display_name": "Python 3",
   "language": "python",
   "name": "python3"
  },
  "language_info": {
   "codemirror_mode": {
    "name": "ipython",
    "version": 3
   },
   "file_extension": ".py",
   "mimetype": "text/x-python",
   "name": "python",
   "nbconvert_exporter": "python",
   "pygments_lexer": "ipython3",
   "version": "3.9.5"
  }
 },
 "nbformat": 4,
 "nbformat_minor": 5
}
