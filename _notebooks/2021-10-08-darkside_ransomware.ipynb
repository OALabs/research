{
 "cells": [
  {
   "cell_type": "markdown",
   "id": "b80fcf29-0b50-4e75-a6eb-ec80dd6262d6",
   "metadata": {},
   "source": [
    "# Darkside Ransomware\n",
    "> Analysis of Darkside Ransomware and Config Extraction\n",
    "\n",
    "- toc: true \n",
    "- badges: true\n",
    "- categories: [darkside,ransomware,malware,config]"
   ]
  },
  {
   "cell_type": "markdown",
   "id": "02fedd01-467e-4e12-bc19-4b5909e1f1f1",
   "metadata": {},
   "source": [
    "## Overview\n",
    "\n",
    "Sample: `0A0C225F0E5EE941A79F2B7701F1285E4975A2859EB4D025D96D9E366E81ABB9`\n",
    "\n",
    "References:\n",
    "- [Malshare Sample](https://malshare.com/sample.php?action=detail&hash=0a0c225f0e5ee941a79f2b7701f1285e4975a2859eb4d025d96d9e366e81abb9)\n",
    "- [ChuongDong Blog](https://chuongdong.com/reverse%20engineering/2021/05/06/DarksideRansomware/)\n",
    "- [Cybergeeks Blog](https://cybergeeks.tech/a-step-by-step-analysis-of-a-new-version-of-darkside-ransomware/)"
   ]
  },
  {
   "cell_type": "markdown",
   "id": "7aec7734-28cc-468b-982a-ca6436e7e08c",
   "metadata": {},
   "source": [
    "## Helper Functions"
   ]
  },
  {
   "cell_type": "code",
   "execution_count": 1,
   "id": "0eb9c596-c79c-4bf5-84cf-fff88450a169",
   "metadata": {},
   "outputs": [],
   "source": [
    "def unhex(hex_string):\n",
    "    import binascii\n",
    "    if type(hex_string) == str:\n",
    "        return binascii.unhexlify(hex_string.encode('utf-8'))\n",
    "    else:\n",
    "        return binascii.unhexlify(hex_string)\n",
    "\n",
    "def tohex(data):\n",
    "    import binascii\n",
    "    if type(data) == str:\n",
    "        return binascii.hexlify(data.encode('utf-8'))\n",
    "    else:\n",
    "        return binascii.hexlify(data)"
   ]
  },
  {
   "cell_type": "markdown",
   "id": "50a2800a-7f34-425c-aa66-278b3e87c4a4",
   "metadata": {},
   "source": [
    "## API Hashing\n",
    "\n",
    "A simple API hashing algorithm is used to resolve `LoadLibraryA` and `GetProcAddress`. \n",
    "\n",
    "The rest of the dynamically resolved APIs are resolved via `GetProcAddress` once their function names have been decrypted."
   ]
  },
  {
   "cell_type": "code",
   "execution_count": 60,
   "id": "b9e04a5d-1533-497b-b1ea-2f058b131b8f",
   "metadata": {},
   "outputs": [
    {
     "name": "stdout",
     "output_type": "stream",
     "text": [
      "0x3b98045e\n",
      "===\n",
      "0x3b98045e\n"
     ]
    }
   ],
   "source": [
    "kernel32_hash = 999818334\n",
    "\n",
    "string = b'k\\x00e\\x00r\\x00n\\x00e\\x00l\\x003\\x002\\x00.\\x00d\\x00l\\x00l\\x00'\n",
    "hash_high = 0xffff\n",
    "hash_low = 0xffff\n",
    "\n",
    "for ptr in range(len(string)):\n",
    "    hash_low = (hash_low + string[ptr])\n",
    "    hash_high = (hash_high + hash_low) \n",
    "hash_high %= 0xFFF1\n",
    "hash_low %= 0xFFF1\n",
    "\n",
    "hash = (hash_high << 16) + hash_low\n",
    "\n",
    "print(hex(hash))\n",
    "print('===')\n",
    "print(hex(kernel32_hash))\n"
   ]
  },
  {
   "cell_type": "markdown",
   "id": "13be66ee-28b4-4546-8acd-ec887eaee81b",
   "metadata": {},
   "source": [
    "## API String Decryption\n",
    "A unique decryption method is used to both decrypt the API strings as well as other data stored in the ransomware binary. The decryption is split into two main functions, one used to generate a decryption key buffer, and another used to perform the actual decryption."
   ]
  },
  {
   "cell_type": "code",
   "execution_count": 3,
   "id": "2b3e8338-c679-4b31-b063-29b3959df505",
   "metadata": {},
   "outputs": [],
   "source": [
    "import struct \n",
    "\n",
    "def gen_key_buffer(buf1, buf2):\n",
    "    key_buffer = [0]*256\n",
    "\n",
    "    v3 = 240\n",
    "    v4 = buf1[:4]\n",
    "    v5 = buf1[4:8]\n",
    "    v6 = buf1[8:12]\n",
    "    result = buf1[12:]\n",
    "    v3 = 240\n",
    "    while v3 >= 0:\n",
    "        for i in range(4):\n",
    "            key_buffer[v3 + i + 12 ] = v4[i]\n",
    "            key_buffer[v3 + i + 8 ] = result[i]\n",
    "            key_buffer[v3 + i + 4 ] = v5[i]\n",
    "            key_buffer[v3 + i] = v6[i]\n",
    "        v4 = struct.pack('<I', (struct.unpack('<I',v4)[0] - 0x10101010) & 0xffffffff);\n",
    "        result = struct.pack('<I', (struct.unpack('<I',result)[0] - 0x10101010) & 0xffffffff);\n",
    "        v5 = struct.pack('<I', (struct.unpack('<I',v5)[0] - 0x10101010) & 0xffffffff);\n",
    "        v6 = struct.pack('<I', (struct.unpack('<I',v6)[0] - 0x10101010) & 0xffffffff);\n",
    "        v3 -= 16\n",
    "\n",
    "\n",
    "    lo_v8 = 0\n",
    "    v9 = 0\n",
    "    v10 = 0\n",
    "    flag_return = False\n",
    "    while True:\n",
    "        if flag_return:\n",
    "            break\n",
    "        while True:\n",
    "            lo_result = key_buffer[v9] & 0xff\n",
    "            lo_v8 = (lo_result + ((buf2[v10] + lo_v8) & 0xff)) & 0xff\n",
    "            hi_result = key_buffer[lo_v8]\n",
    "            v10 += 1\n",
    "            key_buffer[lo_v8] = lo_result\n",
    "            key_buffer[v9] = hi_result\n",
    "            if v10 >= 16:\n",
    "                break\n",
    "            v9 += 1\n",
    "            v9 &= 0xff\n",
    "            if v9 == 0:\n",
    "                flag_return = True\n",
    "                break\n",
    "        v10 = 0\n",
    "        v9 += 1\n",
    "        v9 &= 0xff\n",
    "        if v9 == 0:\n",
    "            break\n",
    "    return key_buffer\n",
    "\n",
    "\n",
    "def decrypt_data(data, key_buffer):\n",
    "    data = list(data)\n",
    "    data_len = len(data)\n",
    "    key = key_buffer.copy()\n",
    "    edx = 0\n",
    "    cl = 0\n",
    "    curr_index = 0\n",
    "    eax = 0\n",
    "    while data_len != 0:\n",
    "        cl = (key[(1 + edx) & 0xff] + cl) & 0xFF  \n",
    "        eax = key[(1 + edx) & 0xff] & 0xFF \n",
    "        ch = key[cl] & 0xFF             \n",
    "        key[cl] = eax\n",
    "        key[(1 + edx) & 0xff] = ch\n",
    "        eax = (ch + eax) & 0xFF\n",
    "        edx = (edx + 1) & 0xff\n",
    "        data[curr_index] ^= key[eax]\n",
    "        curr_index += 1\n",
    "        data_len -= 1\n",
    "    return bytes(data)\n"
   ]
  },
  {
   "cell_type": "markdown",
   "id": "6a182744-6200-487d-ae44-bfc19a0abc03",
   "metadata": {},
   "source": [
    "### Setup Decryption Key Buffer\n",
    "\n",
    "`KEY_BUFFER` can be used in the decryption algorithms as a global"
   ]
  },
  {
   "cell_type": "code",
   "execution_count": 4,
   "id": "f97c905d-0b46-4275-aa25-571089eac07f",
   "metadata": {},
   "outputs": [
    {
     "data": {
      "text/plain": [
       "b'ntdll\\x00'"
      ]
     },
     "execution_count": 4,
     "metadata": {},
     "output_type": "execute_result"
    }
   ],
   "source": [
    "KEY_BUFFER = gen_key_buffer(unhex('edf9e5ed8640fd53ab185838646bd9df'),unhex('92b2801a9c19867db6a5002936c1084a'))\n",
    "decrypt_data(unhex('7b0d2ddb284b'),KEY_BUFFER)\n"
   ]
  },
  {
   "cell_type": "markdown",
   "id": "72de29f3-acd4-45f2-96b7-beba212f5818",
   "metadata": {},
   "source": [
    "## Config Decryption Functions\n",
    "\n",
    "Because the config file is so large it needs it's own custom decryption wrapper to decrypt 256 bytes at a time. The decryption routine also needs to handle 256 blocks of data. The config is also compressed using [aplib](https://documentation.help/aPLib/general.html) and the values are base64 encoded.\n",
    "\n",
    "The following functions will aid in the config decryption."
   ]
  },
  {
   "cell_type": "markdown",
   "id": "1f44d60c-9f04-4eef-b32c-a0db2434c2ae",
   "metadata": {},
   "source": [
    "### Large Data Decrypt"
   ]
  },
  {
   "cell_type": "code",
   "execution_count": 10,
   "id": "7e6eed7e-f964-48ed-bc6c-97b87594b926",
   "metadata": {},
   "outputs": [],
   "source": [
    "def decrypt_large_data(data, key_buffer):\n",
    "    out = b''\n",
    "    for ptr in range(0,len(data),255):\n",
    "        out += decrypt_data(data[ptr:ptr+255],key_buffer)\n",
    "    return out"
   ]
  },
  {
   "cell_type": "markdown",
   "id": "c9a397a1-b36b-4167-ab6c-767b4d38cbd5",
   "metadata": {},
   "source": [
    "### APLib \n",
    "\n",
    "Credit: [Sandor Nemes (snemes)](https://github.com/snemes/aplib/blob/master/aplib.py)"
   ]
  },
  {
   "cell_type": "code",
   "execution_count": 6,
   "id": "18fc41a5-ef6f-4d2b-9180-816e18c76e8a",
   "metadata": {},
   "outputs": [],
   "source": [
    "import struct\n",
    "from binascii import crc32\n",
    "from io import BytesIO\n",
    "\n",
    "__all__ = ['APLib', 'decompress']\n",
    "__version__ = '0.6'\n",
    "__author__ = 'Sandor Nemes'\n",
    "\n",
    "\n",
    "class APLib(object):\n",
    "\n",
    "    __slots__ = 'source', 'destination', 'tag', 'bitcount', 'strict'\n",
    "\n",
    "    def __init__(self, source, strict=True):\n",
    "        self.source = BytesIO(source)\n",
    "        self.destination = bytearray()\n",
    "        self.tag = 0\n",
    "        self.bitcount = 0\n",
    "        self.strict = bool(strict)\n",
    "\n",
    "    def getbit(self):\n",
    "        # check if tag is empty\n",
    "        self.bitcount -= 1\n",
    "        if self.bitcount < 0:\n",
    "            # load next tag\n",
    "            self.tag = ord(self.source.read(1))\n",
    "            self.bitcount = 7\n",
    "\n",
    "        # shift bit out of tag\n",
    "        bit = self.tag >> 7 & 1\n",
    "        self.tag <<= 1\n",
    "\n",
    "        return bit\n",
    "\n",
    "    def getgamma(self):\n",
    "        result = 1\n",
    "\n",
    "        # input gamma2-encoded bits\n",
    "        while True:\n",
    "            result = (result << 1) + self.getbit()\n",
    "            if not self.getbit():\n",
    "                break\n",
    "\n",
    "        return result\n",
    "\n",
    "    def depack(self):\n",
    "        r0 = -1\n",
    "        lwm = 0\n",
    "        done = False\n",
    "\n",
    "        try:\n",
    "\n",
    "            # first byte verbatim\n",
    "            self.destination += self.source.read(1)\n",
    "\n",
    "            # main decompression loop\n",
    "            while not done:\n",
    "                if self.getbit():\n",
    "                    if self.getbit():\n",
    "                        if self.getbit():\n",
    "                            offs = 0\n",
    "                            for _ in range(4):\n",
    "                                offs = (offs << 1) + self.getbit()\n",
    "\n",
    "                            if offs:\n",
    "                                self.destination.append(self.destination[-offs])\n",
    "                            else:\n",
    "                                self.destination.append(0)\n",
    "\n",
    "                            lwm = 0\n",
    "                        else:\n",
    "                            offs = ord(self.source.read(1))\n",
    "                            length = 2 + (offs & 1)\n",
    "                            offs >>= 1\n",
    "\n",
    "                            if offs:\n",
    "                                for _ in range(length):\n",
    "                                    self.destination.append(self.destination[-offs])\n",
    "                            else:\n",
    "                                done = True\n",
    "\n",
    "                            r0 = offs\n",
    "                            lwm = 1\n",
    "                    else:\n",
    "                        offs = self.getgamma()\n",
    "\n",
    "                        if lwm == 0 and offs == 2:\n",
    "                            offs = r0\n",
    "                            length = self.getgamma()\n",
    "\n",
    "                            for _ in range(length):\n",
    "                                self.destination.append(self.destination[-offs])\n",
    "                        else:\n",
    "                            if lwm == 0:\n",
    "                                offs -= 3\n",
    "                            else:\n",
    "                                offs -= 2\n",
    "\n",
    "                            offs <<= 8\n",
    "                            offs += ord(self.source.read(1))\n",
    "                            length = self.getgamma()\n",
    "\n",
    "                            if offs >= 32000:\n",
    "                                length += 1\n",
    "                            if offs >= 1280:\n",
    "                                length += 1\n",
    "                            if offs < 128:\n",
    "                                length += 2\n",
    "\n",
    "                            for _ in range(length):\n",
    "                                self.destination.append(self.destination[-offs])\n",
    "\n",
    "                            r0 = offs\n",
    "\n",
    "                        lwm = 1\n",
    "                else:\n",
    "                    self.destination += self.source.read(1)\n",
    "                    lwm = 0\n",
    "\n",
    "        except (TypeError, IndexError):\n",
    "            if self.strict:\n",
    "                raise RuntimeError('aPLib decompression error')\n",
    "\n",
    "        return bytes(self.destination)\n",
    "\n",
    "    def pack(self):\n",
    "        raise NotImplementedError\n",
    "\n",
    "\n",
    "def aplib_decompress(data, strict=False):\n",
    "    packed_size = None\n",
    "    packed_crc = None\n",
    "    orig_size = None\n",
    "    orig_crc = None\n",
    "    if data.startswith(b'AP32') and len(data) >= 24:\n",
    "        # data has an aPLib header\n",
    "        header_size, packed_size, packed_crc, orig_size, orig_crc = struct.unpack_from('=IIIII', data, 4)\n",
    "        data = data[header_size : header_size + packed_size]\n",
    "    if strict:\n",
    "        if packed_size is not None and packed_size != len(data):\n",
    "            raise RuntimeError('Packed data size is incorrect')\n",
    "        if packed_crc is not None and packed_crc != crc32(data):\n",
    "            raise RuntimeError('Packed data checksum is incorrect')\n",
    "    result = APLib(data, strict=strict).depack()\n",
    "    if strict:\n",
    "        if orig_size is not None and orig_size != len(result):\n",
    "            raise RuntimeError('Unpacked data size is incorrect')\n",
    "        if orig_crc is not None and orig_crc != crc32(result):\n",
    "            raise RuntimeError('Unpacked data checksum is incorrect')\n",
    "    return result"
   ]
  },
  {
   "cell_type": "markdown",
   "id": "b06ede00-94ed-44e8-a5f3-0b331b6a1ba8",
   "metadata": {},
   "source": [
    "## Config Decryption\n",
    "The config is stored in the `data` or `ndata` section of the PE file. The first two 16-byte blocks are the components of the key buffer. Following the key material is a DWORD that indicates the size of the encrypted config. This is followed by the encrypted config itself. \n",
    "\n",
    "The actual config decryption process is as follows.\n",
    "- Find the `data` section \n",
    "- Locate the size of the config at offset 0x20\n",
    "- Extract the encrypted config\n",
    "- Decrypt config using the custom decryption algorithm \n",
    "- Decompress the resulting data using aplib"
   ]
  },
  {
   "cell_type": "code",
   "execution_count": 18,
   "id": "5e1fde7f-63b6-468f-a539-77c2961ad41a",
   "metadata": {},
   "outputs": [
    {
     "data": {
      "text/plain": [
       "b\"\\x01\\x00\\x01\\x00\\x00\\x00\\x00\\x00\\x00\\x00\\x00\\x00\\x00\\x00\\x00\\x00\\x00\\x00\\x00\\x00\\x00\\x00\\x00\\x00\\x00\\x00\\x00\\x00\\x00\\x00\\x00\\x00\\x00\\x00\\x00\\x00\\x00\\x00\\x00\\x00\\x00\\x00\\x00\\x00\\x00\\x00\\x00\\x00\\x00\\x00\\x00\\x00\\x00\\x00\\x00\\x00\\x00\\x00\\x00\\x00\\x00\\x00\\x00\\x00\\x00\\x00\\x00\\x00\\x00\\x00\\x00\\x00\\x00\\x00\\x00\\x00\\x00\\x00\\x00\\x00\\x00\\x00\\x00\\x00\\x00\\x00\\x00\\x00\\x00\\x00\\x00\\x00\\x00\\x00\\x00\\x00\\x00\\x00\\x00\\x00\\x00\\x00\\x00\\x00\\x00\\x00\\x00\\x00\\x00\\x00\\x00\\x00\\x00\\x00\\x00\\x00\\x00\\x00\\x00\\x00\\x00\\x00\\x00\\x00\\x00\\x00\\x00\\x00\\xef&u>\\x87\\x15\\xd8(\\xb1\\xf3A\\xef\\xb1\\xc9\\xd3\\xdbw\\xd2\\x08\\xad\\x1c/\\xaa\\xd0,\\xf4\\xc7\\xbc<s\\x89k\\xd9\\x88!s\\xe31\\xbe\\xd4\\xcb}W\\x9d;\\xf5\\xacnt\\xe5O\\x07gBe\\xed\\xc5\\xc8\\x1f\\xe5\\x90\\x8e\\xa4\\xdeb *\\xe9\\xac\\x90\\x8d\\x03\\xb3\\x13\\xc1\\x9d*\\xb2\\xb1]W\\x19\\x08W\\x0fa\\x0e L\\xd8\\xe2\\xd2\\t\\x11\\x14Oo\\xf2\\xd8a\\xca\\xc4\\xa1\\x81`\\xdb\\x15\\x916\\n\\xf5W\\xbc\\xc2\\xe8\\xb9D\\x13_j}Q\\xda\\x802\\x90:u0607b8382472634\\x00\\xd0\\x90\\xe4\\x95o\\xe6,'\\x19VG\\x14wXCy\\x02\\x01\\x00\\x01\\x01\\x01\\x01\\x01\\x00\\x01\\x01\\x01\\x01\\x01\\x01\\x01\\x01\\x01\\x01\\x01\\x02\\x010\\x00\\x00\\x00\\xdd\\x02\\x00\\x00.\\x04\\x00\\x00\\xb7\\x06\\x00\\x00\\xd0\\x06\\x00\\x00\\xf1\\x06\\x00\\x00\\xb6\\x07\\x00\\x00\\x8b\\n\\x00\\x00d\\x0b\\x00\\x00\\x00\\x00\\x00\\x00\\xb5\\x0b\\x00\\x00\\xbe\\x0c\\x00\\x00JAByAGUAYwB5AGMAbABlAC4AYgBpAG4AAABjAG8AbgBmAGkAZwAuAG0AcwBpAAAAJAB3AGkAbgBkAG8AdwBzAC4AfgBiAHQAAAAkAHcAaQBuAGQAbwB3AHMALgB+AHcAcwAAAHcAaQBuAGQAbwB3AHMAAABhAHAAcABkAGEAdABhAAAAYQBwAHAAbABpAGMAYQB0AGkAbwBuACAAZABhAHQAYQAAAGIAbwBvAHQAAABnAG8AbwBnAGwAZQAAAG0AbwB6AGkAbABsAGEAAABwAHIAbwBnAHIAYQBtACAAZgBpAGwAZQBzAAAAcAByAG8AZwByAGEAbQAgAGYAaQBsAGUAcwAgACgAeAA4ADYAKQAAAHAAcgBvAGcAcgBhAG0AZABhAHQAYQAAAHMAeQBzAHQAZQBtACAAdgBvAGwAdQBtAGUAIABpAG4AZgBvAHIAbQBhAHQAaQBvAG4AAAB0AG8AcgAgAGIAcgBvAHcAcwBlAHIAAAB3AGkAbgBkAG8AdwBzAC4AbwBsAGQAAABpAG4AdABlAGwAAABtAHMAbwBjAGEAYwBoAGUAAABwAGUAcgBmAGwAbwBnAHMAAAB4ADYANABkAGIAZwAAAHAAdQBiAGwAaQBjAAAAYQBsAGwAIAB1AHMAZQByAHMAAABkAGUAZgBhAHUAbAB0AAAAAAB=\\x00YQB1AHQAbwByAHUAbgAuAGkAbgBmAAAAYgBvAG8AdAAuAGkAbgBpAAAAYgBvAG8AdABmAG8AbgB0AC4AYgBpAG4AAABiAG8AbwB0AHMAZQBjAHQALgBiAGEAawAAAGQAZQBzAGsAdABvAHAALgBpAG4AaQAAAGkAYwBvAG4AYwBhAGMAaABlAC4AZABiAAAAbgB0AGwAZAByAAAAbgB0AHUAcwBlAHIALgBkAGEAdAAAAG4AdAB1AHMAZQByAC4AZABhAHQALgBsAG8AZwAAAG4AdAB1AHMAZQByAC4AaQBuAGkAAAB0AGgAdQBtAGIAcwAuAGQAYgAAAAAA\\x00MwA4ADYAAABhAGQAdgAAAGEAbgBpAAAAYgBhAHQAAABiAGkAbgAAAGMAYQBiAAAAYwBtAGQAAABjAG8AbQAAAGMAcABsAAAAYwB1AHIAAABkAGUAcwBrAHQAaABlAG0AZQBwAGEAYwBrAAAAZABpAGEAZwBjAGEAYgAAAGQAaQBhAGcAYwBmAGcAAABkAGkAYQBnAHAAawBnAAAAZABsAGwAAABkAHIAdgAAAGUAeABlAAAAaABsAHAAAABpAGMAbAAAAGkAYwBuAHMAAABpAGMAbwAAAGkAYwBzAAAAaQBkAHgAAABsAGQAZgAAAGwAbgBrAAAAbQBvAGQAAABtAHAAYQAAAG0AcwBjAAAAbQBzAHAAAABtAHMAcwB0AHkAbABlAHMAAABtAHMAdQAAAG4AbABzAAAAbgBvAG0AZQBkAGkAYQAAAG8AYwB4AAAAcAByAGYAAABwAHMAMQAAAHIAbwBtAAAAcgB0AHAAAABzAGMAcgAAAHMAaABzAAAAcwBwAGwAAABzAHkAcwAAAHQAaABlAG0AZQAAAHQAaABlAG0AZQBwAGEAYwBrAAAAdwBwAHgAAABsAG8AYwBrAAAAawBlAHkAAABoAHQAYQAAAG0AcwBpAAAAcABkAGIAAAAAAH==\\x00YgBhAGMAawB1AHAAAAAAAC==\\x00cwBxAGwAAABzAHEAbABpAHQAZQAAAAAA\\x00dgBtAGMAbwBtAHAAdQB0AGUALgBlAHgAZQAAAHYAbQBtAHMALgBlAHgAZQAAAHYAbQB3AHAALgBlAHgAZQAAAHMAdgBjAGgAbwBzAHQALgBlAHgAZQAAAFQAZQBhAG0AVgBpAGUAdwBlAHIALgBlAHgAZQAAAGUAeABwAGwAbwByAGUAcgAuAGUAeABlAAAAAAB=\\x00cwBxAGwAAABvAHIAYQBjAGwAZQAAAG8AYwBzAHMAZAAAAGQAYgBzAG4AbQBwAAAAcwB5AG4AYwB0AGkAbQBlAAAAYQBnAG4AdABzAHYAYwAAAGkAcwBxAGwAcABsAHUAcwBzAHYAYwAAAHgAZgBzAHMAdgBjAGMAbwBuAAAAbQB5AGQAZQBzAGsAdABvAHAAcwBlAHIAdgBpAGMAZQAAAG8AYwBhAHUAdABvAHUAcABkAHMAAABlAG4AYwBzAHYAYwAAAGYAaQByAGUAZgBvAHgAAAB0AGIAaQByAGQAYwBvAG4AZgBpAGcAAABtAHkAZABlAHMAawB0AG8AcABxAG8AcwAAAG8AYwBvAG0AbQAAAGQAYgBlAG4AZwA1ADAAAABzAHEAYgBjAG8AcgBlAHMAZQByAHYAaQBjAGUAAABlAHgAYwBlAGwAAABpAG4AZgBvAHAAYQB0AGgAAABtAHMAYQBjAGMAZQBzAHMAAABtAHMAcAB1AGIAAABvAG4AZQBuAG8AdABlAAAAbwB1AHQAbABvAG8AawAAAHAAbwB3AGUAcgBwAG4AdAAAAHMAdABlAGEAbQAAAHQAaABlAGIAYQB0AAAAdABoAHUAbgBkAGUAcgBiAGkAcgBkAAAAdgBpAHMAaQBvAAAAdwBpAG4AdwBvAHIAZAAAAHcAbwByAGQAcABhAGQAAABuAG8AdABlAHAAYQBkAAAAAAA=\\x00dgBzAHMAAABzAHEAbAAAAHMAdgBjACQAAABtAGUAbQB0AGEAcwAAAG0AZQBwAG8AYwBzAAAAcwBvAHAAaABvAHMAAAB2AGUAZQBhAG0AAABiAGEAYwBrAHUAcAAAAEcAeABWAHMAcwAAAEcAeABCAGwAcgAAAEcAeABGAFcARAAAAEcAeABDAFYARAAAAEcAeABDAEkATQBnAHIAAAAAAH==\\x00YgBhAHIAbwBxAHUAZQB0AGUAZQBzAC4AYwBvAG0AAAByAHUAbQBhAGgAcwBpAGEALgBjAG8AbQAAAAAA\\x00VwBlAGwAYwBvAG0AZQAgAHQAbwAgAEQAYQByAGsAUwBpAGQAZQAhACAADQAKACAAIAANAAoAIABBAGwAbAAgAFkAbwB1AHIAIABGAGkAbABlAHMAIABBAHIAZQAgAEUAbgBjAHIAeQBwAHQAZQBkACEAIAANAAoAIAAgAA0ACgAgAEYAaQBuAGQAIAAlAHMAIABBAG4AZAAgAEYAbwBsAGwAbwB3ACAASQBuAHMAdAByAHUAYwB0AGkAbwBuAHMAIQAAAAAA\\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\""
      ]
     },
     "execution_count": 18,
     "metadata": {},
     "output_type": "execute_result"
    }
   ],
   "source": [
    "import pefile\n",
    "import struct\n",
    "\n",
    "RANSOMWARE_FILE = r'/tmp/darkside.bin'\n",
    "\n",
    "data = open(RANSOMWARE_FILE, 'rb').read()\n",
    "pe = pefile.PE(data=data)\n",
    "\n",
    "# Get section with config\n",
    "section_data = None\n",
    "for s in pe.sections:\n",
    "    if b'ndata' in s.Name:\n",
    "        section_data = s.get_data()\n",
    "        break\n",
    "\n",
    "# Extract config\n",
    "config_length = struct.unpack('<I',section_data[0x20:0x24])[0]\n",
    "enc_data = section_data[0x24:0x24+config_length]\n",
    "\n",
    "# Decrypt config\n",
    "ap_data = decrypt_large_data(enc_data, KEY_BUFFER)\n",
    "\n",
    "# Decompress config data with aplib\n",
    "ptxt_data = aplib_decompress(ap_data)\n",
    "ptxt_data\n"
   ]
  },
  {
   "cell_type": "markdown",
   "id": "2114ecde-e052-45e7-8aad-3aba5efa2c6b",
   "metadata": {},
   "source": [
    "## Parsing The Config\n",
    "\n",
    "The first `128` bytes of the config are the RSA exponent followed by the `128` bytes RSA modulus.\n",
    "\n",
    "After the modulus is a `32` buffer containing a null terminated ascii string representing the affiliate ID followed by some random data. \n",
    "\n",
    "Next is a `22` bytes buffer containing a series of binary configuration flags. \n",
    "\n",
    "Next is a `DWORD` indicating where the start of the next configuration value.\n",
    "\n",
    "The following config values are base64 encoded and seperated by null bytes.\n"
   ]
  },
  {
   "cell_type": "code",
   "execution_count": 55,
   "id": "4f057398-9063-445f-9222-a77d7a0a2454",
   "metadata": {},
   "outputs": [],
   "source": [
    "import base64\n",
    "\n",
    "ptr = 0\n",
    "rsa_exponent = ptxt_data[ptr:128]\n",
    "ptr += 128\n",
    "rsa_mod = ptxt_data[ptr:ptr+128]\n",
    "ptr += 128\n",
    "affiliate_id_data = ptxt_data[ptr:ptr+32]\n",
    "affiliate_id = affiliate_id_data.split(b'\\x00')[0]\n",
    "ptr+= 32\n",
    "config_flags = ptxt_data[ptr:ptr+22]\n",
    "ptr+= 22\n",
    "config_values_offset = struct.unpack('<I',ptxt_data[ptr:ptr+4])[0]\n",
    "config_values_buffer = ptxt_data[ptr+config_values_offset:]\n",
    "config_values = []\n",
    "for c in config_values_buffer.split(b'\\x00'):\n",
    "    config_values.append(base64.b64decode(c).split(b'\\x00\\x00'))"
   ]
  },
  {
   "cell_type": "markdown",
   "id": "7c144abe-4a4c-48f6-905c-a424927982f9",
   "metadata": {},
   "source": [
    "### Print Config Values"
   ]
  },
  {
   "cell_type": "code",
   "execution_count": 59,
   "id": "4173a495-caed-4c5b-8a3d-a7dd7e31d06f",
   "metadata": {},
   "outputs": [
    {
     "name": "stdout",
     "output_type": "stream",
     "text": [
      "Affiliate ID: b'0607b8382472634'\n",
      "\n",
      "b'$recycle.bin | config.msi | $windows.~bt | $windows.~ws | windows | appdata | application data | boot | google | mozilla | program files | program files (x86) | programdata | system volume information | tor browser | windows.old | intel | msocache | perflogs | x64dbg | public | all users | default |  | '\n",
      "\n",
      "b'autorun.inf | boot.ini | bootfont.bin | bootsect.bak | desktop.ini | iconcache.db | ntldr | ntuser.dat | ntuser.dat.log | ntuser.ini | thumbs.db |  | '\n",
      "\n",
      "b'386 | adv | ani | bat | bin | cab | cmd | com | cpl | cur | deskthemepack | diagcab | diagcfg | diagpkg | dll | drv | exe | hlp | icl | icns | ico | ics | idx | ldf | lnk | mod | mpa | msc | msp | msstyles | msu | nls | nomedia | ocx | prf | ps1 | rom | rtp | scr | shs | spl | sys | theme | themepack | wpx | lock | key | hta | msi | pdb |  | '\n",
      "\n",
      "b'backup |  | '\n",
      "\n",
      "b'sql | sqlite |  | '\n",
      "\n",
      "b'vmcompute.exe | vmms.exe | vmwp.exe | svchost.exe | TeamViewer.exe | explorer.exe |  | '\n",
      "\n",
      "b'sql | oracle | ocssd | dbsnmp | synctime | agntsvc | isqlplussvc | xfssvccon | mydesktopservice | ocautoupds | encsvc | firefox | tbirdconfig | mydesktopqos | ocomm | dbeng50 | sqbcoreservice | excel | infopath | msaccess | mspub | onenote | outlook | powerpnt | steam | thebat | thunderbird | visio | winword | wordpad | notepad |  | '\n",
      "\n",
      "b'vss | sql | svc$ | memtas | mepocs | sophos | veeam | backup | GxVss | GxBlr | GxFWD | GxCVD | GxCIMgr |  | '\n",
      "\n",
      "b'baroquetees.com | rumahsia.com |  | '\n",
      "\n",
      "b'Welcome to DarkSide! \\r\\n  \\r\\n All Your Files Are Encrypted! \\r\\n  \\r\\n Find %s And Follow Instructions! |  | '\n",
      "\n",
      "b'----------- [ Welcome to DarkSide ] -------------> \\r\\n  \\r\\n What happend? \\r\\n ---------------------------------------------- \\r\\n Your computers and servers are encrypted, backups are deleted. We use strong encryption algorithms, so you cannot decrypt your data. \\r\\n But you can restore everything by purchasing a special program from us - universal decryptor. This program will restore all your network. \\r\\n Follow our instructions below and you will recover all your data. \\r\\n  \\r\\n Data leak \\r\\n ---------------------------------------------- \\r\\n First of all we have downloaded more then 500GB data from your network. \\r\\n  \\r\\n Included: \\r\\n -Accounting data \\r\\n -Finance data \\r\\n -HR \\r\\n -Employees confidential data(photos, benefits, taxes, etc) \\r\\n -Marketing \\r\\n -Budgets \\r\\n -Taxes(sales tax compliance, property, income and franchise taxes, etc) \\r\\n -Payrolls \\r\\n -Banking data \\r\\n -Arbitration \\r\\n -Scans \\r\\n -Insurance \\r\\n -Reconciliations \\r\\n -Reports(monthly bank inventory, monthly financial, claims reports, etc) \\r\\n -Audits(DHG, insurance audits, etc) \\r\\n -B2B clients config data \\r\\n -Confidentiality 2020 \\r\\n -2020, 2021 Business plans \\r\\n -2019, 2020, 2021 years Closing (full dumps) \\r\\n -and a lot of other sensitive data \\r\\n  \\r\\n Your personal leak page: http://darksidc3iux462n6yunevoag52ntvwp6wulaz3zirkmh4cnz6hhj7id.onion/162/thedixiegroup/LCfyHRcwffrYTblpZvoPO3XDbrYPcNu0wVAsH5p49LSjBfzTmtdXT48azXFlMu7q \\r\\n On the page you will find examples of files that have been downloaded. \\r\\n The data is preloaded and will be automatically published if you do not pay. \\r\\n After publication, your data will be available for at least 6 months on our tor cdn servers. \\r\\n  \\r\\n We are ready: \\r\\n - To provide you the evidence of stolen data \\r\\n - To delete all the stolen data. \\r\\n  \\r\\n  \\r\\n What guarantees? \\r\\n ---------------------------------------------- \\r\\n We value our reputation. If we do not do our work and liabilities, nobody will pay us. This is not in our interests. \\r\\n All our decryption software is perfectly tested and will decrypt your data. We will also provide support in case of problems. \\r\\n We guarantee to decrypt one file for free. Go to the site and contact us. \\r\\n  \\r\\n How to get access on website?  \\r\\n ---------------------------------------------- \\r\\n Using a TOR browser: \\r\\n 1) Download and install TOR browser from this site: https://torproject.org/ \\r\\n 2) Open our website: http://dark24zz36xm4y2phwe7yvnkkkkhxionhfrwp67awpb3r3bdcneivoqd.onion/W57MRI9C7YZJUZEABBBYRQLSUTG22JZ9MAH0WT1ISHC405KP7Z2UWY3AI3J68DNM \\r\\n  \\r\\n When you open our website, put the following data in the input form: \\r\\n Key: \\r\\n  \\r\\n ug8lgpX3WrFzlEJ6HBWlwJnf7jemhfnlxBw9porj1uuYFTgKbxJQJLYiteQS7DwgZn7dH0fs7qPPWmZ6inPv5GTmSJZNAjGLVIjd4SoiyTdGyophf0zPBxx6uEAOJxM0Woo4ZGeKVoUDHtZsqZNnhMF7aPh54VnKpIJXiZDbZZw4P06xTuw1UMeiTE7wdg7HWZMepAVTzEI2W04RbkPFQHfUgEDcslDxbr83BvopYTYGKFRmtNUMH8OsOZQrOtv50xWDaOfbqxbzfHMJm30QGaGpgylJHQZsscz3XBnwIdvlwBJ9KN4DVgFgziRdvwJrfCP6YN1CYTOQgw1rzqmIU4G1xGYv7rE3jiBY1s4D3Y26SbppTceAVMu1mKx5CFIE3EbtcAsNtEqLHDbPnMCvU6Apwp17TXGob8xXJpEDBZhIzdTaCuybcprwcFNTOzccjbIH81W39MrcJi9mNO3kHRe5fxmIFKvc9v8aQDihGyC65DtdabyBjidXI1NyNONT4PTyrxYqgffPsNDFuzz2yMrXiTAwtAQPqny5BBJQsfVhpLXTtnLvWg1 \\r\\n  \\r\\n !!! DANGER !!! \\r\\n DO NOT MODIFY or try to RECOVER any files yourself. We WILL NOT be able to RESTORE them.  \\r\\n !!! DANGER !!!'\n",
      "\n"
     ]
    }
   ],
   "source": [
    "print(\"Affiliate ID: %s\\n\" % affiliate_id)\n",
    "for c in config_values:\n",
    "    print(\"%s\\n\" % b' | '.join([s.replace(b'\\x00',b'') for s in c]))"
   ]
  },
  {
   "cell_type": "code",
   "execution_count": null,
   "id": "0b74fac8-bc79-4ec8-8e84-41f68ea2a528",
   "metadata": {},
   "outputs": [],
   "source": []
  }
 ],
 "metadata": {
  "kernelspec": {
   "display_name": "Python 3",
   "language": "python",
   "name": "python3"
  },
  "language_info": {
   "codemirror_mode": {
    "name": "ipython",
    "version": 3
   },
   "file_extension": ".py",
   "mimetype": "text/x-python",
   "name": "python",
   "nbconvert_exporter": "python",
   "pygments_lexer": "ipython3",
   "version": "3.9.5"
  }
 },
 "nbformat": 4,
 "nbformat_minor": 5
}
