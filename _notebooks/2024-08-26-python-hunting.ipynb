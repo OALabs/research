{
 "cells": [
  {
   "cell_type": "markdown",
   "id": "53ed2cff-3881-41d1-9985-2b40bfd4e4de",
   "metadata": {},
   "source": [
    "# Python Hunting\n",
    "> Triaging this unknown python stealer with some breakpoints\n",
    "- toc: true \n",
    "- badges: true\n",
    "- categories: [python,triage,x64dbg]"
   ]
  },
  {
   "cell_type": "markdown",
   "id": "ad232a20-5fad-4d03-8cf9-0570891b2de0",
   "metadata": {},
   "source": [
    "## Overview\n",
    "\n",
    "We are going to be analyzing an unknown python stealer that comes bundled as a pyinstaller. Initially we took the standard static approach of extracting and decompiling the python code but the decompiler did not fully work (python version 3.11) and the python code was heavily obfuscated. Normally we would use a trick of replacing `eval` and `exec` with `print` statements in the python runtime as a way to simply deobfuscate the script but the fact that it was not correctly decompiled makes this difficult. Instead we are going to approach it dynamically.\n",
    "\n",
    "### References\n",
    "\n",
    "- PyInstaller Extractor [link](https://github.com/pyinstxtractor/pyinstxtractor-ng) \n",
    "- Python Decompiler [pylingual](https://pylingual.io/)\n",
    "- Nice githug search interface [grep.app](https://grep.app/)\n",
    "\n",
    "### Sample\n",
    "`2a19ba63e85ce75d5f2d884011dfc94f616b176ed89a67c1acc0fe2179e8b591` [UnpacMe](https://www.unpac.me/results/c26745bc-501a-45dc-832a-a1c0ed6ab086)"
   ]
  },
  {
   "cell_type": "markdown",
   "id": "c4beff41-8fd5-4afb-9909-e940a0977d1f",
   "metadata": {},
   "source": [
    "## Analysis\n",
    "\n",
    "- First extracting the pyinstaller we can see that the main python file is called `mPSCzi.pyc` and the bundled python dll is python 3.11\n",
    "- Decompiling with pylingual show us the obfuscated code (snip below)\n",
    "\n",
    "```python\n",
    "strpjab = tvnboaswivayssk - sjeqavagljouxg\n",
    "tzvzwyilyuilob = fmikzvuexqgiygyrsw - laswhphcwhrgd\n",
    "nvpvfxkszm = tvxzshhdfwer * tvnboaswivayssk\n",
    "mxszwtywur = stzhmggz - mguyywdexiw\n",
    "eval(bmurybzixs('d3NqcmN3Z3JweGlrYXp6biArIGpsc2h6cmlndCArIG92Z2hjZ3JpZ2JicCArIHh3Y3l1d3hmdnRlICsgZnl5bGp4eGV0ICsgYWZtanVwb2V3ICsgamZ5cG5mciArIGxhc3docGhjd2hyZ2QgKyBwZ3Z0YWp4ZWl5YWxyZyArIHN0emhtZ2d6ICsgc2plcWF2YWdsam91eGcgKyB0dnh6c2hoZGZ3ZXIgKyBnZXZzem9lcHpmd3B4YSArIG5saWxkdWliYnpuICsgbndiaHFobWZlcmZ6ZnV1ICsgdnV4Y2h5a3RuICsgenJvdXRndmdoY2FxbXJzYXUgKyB0dm5ib2Fzd2l2YXlzc2sgKyBmbWlrenZ1ZXhxZ2l5Z3lyc3cgKyB3d2l0ZG55ZyArIG1ndXl5d2RleGl3').decode())\n",
    "```\n",
    "\n",
    "### Dynamic Analysis\n",
    "Our dynamic approach will be to directly load the compiled script using the regular python interpreter instead of the pysintaller binary. This will allow us to load symbols for the python dll and attach to it with a debugger. Using the debugger we will break on the function `PyParser_ASTFromString` which is the internal method used for dynamically compiling python called by `eval` and `exec`.\n",
    "\n",
    "- Dumping the strings from the python 3.11 dll we can see the specific version is 3.11.9\n",
    "- We need the install the exact version so that we can run the compiled `mPSCzi.pyc` file\n",
    "- We can then add a break point on `PyParser_ASTFromString` and add a log command in the breakpoint to log the first argument (the python code) `{s:utf8(rcx, A00000)}` \n",
    "- With this we can then see all of the evaled code is then dumped into the log\n",
    "\n",
    "The dumped code can be found here [pastebin](https://pastebin.com/6Bki1aRC)\n"
   ]
  },
  {
   "cell_type": "markdown",
   "id": "099e1532-8816-4a9e-9b93-61a04aec247f",
   "metadata": {},
   "source": [
    "### Final Stage C2s\n",
    "The final stage is also obfuscated but parts of the code can be run to deobfuscate it dynamically. "
   ]
  },
  {
   "cell_type": "code",
   "execution_count": 3,
   "id": "5b1f3f72-3c99-45e7-b308-98861a82cd87",
   "metadata": {},
   "outputs": [
    {
     "name": "stdout",
     "output_type": "stream",
     "text": [
      "https://mgststudio.shop/sunrise\n",
      "https://mgststudio.shop/luminous\n"
     ]
    }
   ],
   "source": [
    "\n",
    "import base64\n",
    "\n",
    "ZWHmjDkfVvkVdclV = 'bWdzdHN0dWRpby5zaG9w'\n",
    "RYBTeAeZbiUOxeloi = base64.b64decode(ZWHmjDkfVvkVdclV).decode()\n",
    "\n",
    "print(f'https://{RYBTeAeZbiUOxeloi}/sunrise')\n",
    "print(f'https://{RYBTeAeZbiUOxeloi}/luminous')"
   ]
  },
  {
   "cell_type": "code",
   "execution_count": null,
   "id": "4f90197f-920b-4dd3-a8e5-72cbfbefddae",
   "metadata": {},
   "outputs": [],
   "source": []
  }
 ],
 "metadata": {
  "kernelspec": {
   "display_name": "Python 3",
   "language": "python",
   "name": "python3"
  },
  "language_info": {
   "codemirror_mode": {
    "name": "ipython",
    "version": 3
   },
   "file_extension": ".py",
   "mimetype": "text/x-python",
   "name": "python",
   "nbconvert_exporter": "python",
   "pygments_lexer": "ipython3",
   "version": "3.9.5"
  }
 },
 "nbformat": 4,
 "nbformat_minor": 5
}
