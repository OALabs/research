{
 "cells": [
  {
   "cell_type": "markdown",
   "id": "48f69525-d31d-4962-afd4-ec2491c84896",
   "metadata": {},
   "source": [
    "# RootTeam\n",
    "> Taking a look at this free GO stealer\n",
    "\n",
    "- toc: true \n",
    "- badges: true\n",
    "- categories: [RootTeam,stealer,triage]"
   ]
  },
  {
   "cell_type": "markdown",
   "id": "a143393c-3efe-433e-b6df-e1dd111a8160",
   "metadata": {},
   "source": [
    "## Overview\n",
    "\n",
    "Identified by [@g0njxa](https://twitter.com/g0njxa/status/1675971998529323008), RootTeam is a GO stealer that can be built via a Telegram channel `https[:]//t[.]me/rootteam_bot`. It has been confused with Bandit Stealer another GO stealer with similar functionality. \n",
    "\n",
    "The sample we are triaging came from @James_inthe_box [twitter post](https://twitter.com/James_inthe_box/status/1678513274856374273?s=20) with a link to the sample on [AnyRun](https://app.any.run/tasks/c3b6937b-5613-4f6c-94a3-e56901d9b2b3/)\n",
    "\n",
    "\n",
    "### References\n",
    "\n",
    "- [RootTeam Stealer and overlap issues on Bandit Stealer rule detection](https://community.emergingthreats.net/t/rootteam-stealer-and-overlap-issues-on-bandit-stealer-rule-detection/744/1)\n",
    "- [Technical Analysis of Bandit Stealer](https://www.zscaler.com/blogs/security-research/technical-analysis-bandit-stealer)\n",
    "- [RootTeam builder exposed on twitter](https://twitter.com/suyog41/status/1678683341988540416?s=20)\n",
    "- [New Info Stealer Bandit Stealer Targets Browsers, Wallets](https://www.trendmicro.com/en_ca/research/23/e/new-info-stealer-bandit-stealer-targets-browsers-wallets.html)\n",
    "- [Yogesh Londhe tweet about the stealer](https://twitter.com/suyog41/status/1674673495106543616)\n",
    "- [GO IDA parser (works well!)](https://github.com/0xjiayu/go_parser)\n",
    "\n",
    "\n",
    "### Sample\n",
    "\n",
    "The sample is being delived via this url `https[:]//telegra[.]ph/Dead-Space-Remake-PC-Download-For-Free-07-07` [AnyRun](https://app.any.run/tasks/c3b6937b-5613-4f6c-94a3-e56901d9b2b3/)\n",
    "\n",
    "## Delivery\n",
    "\n",
    "### Stage 1 - Setup.zip\n",
    "![](https://i.imgur.com/RqR0g20.png)\n",
    "\n",
    "The sample poses as free software and is delivered via a password encrypted ZIP file. The password provided is `2023`. To infect themselves the victim must first download the sample then unzip it using the provided password and then launch the unzipped `Setup.exe` file. \n",
    "\n",
    "- **Setup.zip** `88a44f77d9216b4c285329f5f13bcd948bca61e1b9bb4dafb541cc6ea68ce311`\n",
    "- **Setup.exe** `9de0dfcf9baf669811374d2f6ed0a1182df8d0254cd210f6f2883c659014de5a` [Malshare](https://malshare.com/sample.php?action=detail&hash=9de0dfcf9baf669811374d2f6ed0a1182df8d0254cd210f6f2883c659014de5a)\n",
    "\n",
    "### Stage 2 - Shellcode\n",
    "The `Setup.exe` PE file has a resource named `OUTPUT_BIN` that contains shellcode and the encrypted stealer payload. The shellcode has 2 stages. The first is a simple obfuscation function that decrypts the second stage. The second stage is an XOR decryption loop the decrypts the final payload.\n",
    "\n",
    "### UPX Payload\n",
    "The decrypted payload is also UPX packed. Once unpacked the final RootTeam stealer is revealed.\n",
    "\n",
    "## Analysis\n",
    "\n",
    "[`e0cd16b3de1f8b6c91b3483e383199f691e935d3d4e1ed9e77f6f9aea929b68b`](https://www.unpac.me/results/cbdc661a-953b-44f7-9e13-0358416a2448)\n",
    "\n",
    "The stealer method names and strings can be recovered using the IDA GO tool [go_parser](https://github.com/0xjiayu/go_parser). Once recovered the functionally of the stealer can be determined based on the stealer function names prefixed by `RootTeamStl_`. The strings are in plaintext including the C2 URLs.\n",
    "\n",
    "- `http[:]//5.42.66[.]26/api/report`\n",
    "- `http[:]//5.42.66[.]26/upload/`\n"
   ]
  },
  {
   "cell_type": "code",
   "execution_count": null,
   "id": "bbf8b1eb-0377-4620-b10f-3db05953a799",
   "metadata": {},
   "outputs": [],
   "source": []
  }
 ],
 "metadata": {
  "kernelspec": {
   "display_name": "Python 3",
   "language": "python",
   "name": "python3"
  },
  "language_info": {
   "codemirror_mode": {
    "name": "ipython",
    "version": 3
   },
   "file_extension": ".py",
   "mimetype": "text/x-python",
   "name": "python",
   "nbconvert_exporter": "python",
   "pygments_lexer": "ipython3",
   "version": "3.9.5"
  }
 },
 "nbformat": 4,
 "nbformat_minor": 5
}
