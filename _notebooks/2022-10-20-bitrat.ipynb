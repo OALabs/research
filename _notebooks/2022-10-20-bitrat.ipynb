{
 "cells": [
  {
   "cell_type": "markdown",
   "id": "aaca6f89-cfd0-4fcc-8352-1dd13b3c7a61",
   "metadata": {},
   "source": [
    "# BitRat Exposed\n",
    "> Taking a closer look at this C++ paster RAT\n",
    "\n",
    "- toc: true \n",
    "- badges: true\n",
    "- categories: [bitrat,rat,config,cpp]\n"
   ]
  },
  {
   "cell_type": "markdown",
   "id": "c848bdb5-8676-4a5f-8cd2-eebf4a5c0d46",
   "metadata": {},
   "source": [
    "## Overview\n",
    "\n",
    "### Samples\n",
    "Packed `5e1ea26f5575e26857b209695de82207a04de0b0dc06f3645f776cc628440c46` [Malware Bazaar](https://bazaar.abuse.ch/sample/5e1ea26f5575e26857b209695de82207a04de0b0dc06f3645f776cc628440c46/)\n",
    "\n",
    "Unpacked `91e994fe2f5d97c9c7a8267ac900bd08d66c6e997397d01ccd15c0b301d98ea3` [Malshare](https://malshare.com/sample.php?action=detail&hash=91e994fe2f5d97c9c7a8267ac900bd08d66c6e997397d01ccd15c0b301d98ea3) \n",
    "\n",
    "\n",
    "### Overview\n",
    "- [Malpedia BitRat Links](https://malpedia.caad.fkie.fraunhofer.de/details/win.bit_rat)\n",
    "- [BitRAT – The Latest in C++ Malware Written by Incompetent Developers](https://krabsonsecurity.com/2020/08/22/bitrat-the-latest-in-copy-pasted-malware-by-incompetent-developers/)\n",
    "- [APT-C-36 Updates Its Spam Campaign Against South American Entities With Commodity RATs](https://www.trendmicro.com/en_hk/research/21/i/apt-c-36-updates-its-long-term-spam-campaign-against-south-ameri.html)\n",
    "\n",
    "Some notes from the Krabs blog...\n",
    "- Reference sample `7faef4d80d1100c3a233548473d4dd7d5bb570dd83e8d6e5faff509d6726baf2`\n",
    "- C++ \n",
    "- Statically linked Boost, and libCURL etc.\n",
    "- String encryption using methods based on [LeFF’s constexpr](https://gist.github.com/mattypiper/158b88765170cd72b7bbb0f6e1c5cddd)\n",
    "- The config is encrypted using [Camellia](https://github.com/calccrypto/Encryptions/blob/master/Encryptions/Camellia.cpp)\n",
    "\n"
   ]
  },
  {
   "cell_type": "markdown",
   "id": "4a4dbff7-9354-43b5-bee3-3fd1539a836c",
   "metadata": {},
   "source": [
    "## Analysis\n",
    "\n",
    "This is a C++ beast and we don't have nice STD::String types, we are going to try this modified [hexrayspytools plugin](https://github.com/oopsmishap/HexRaysPyTools) (broken for IDA 7.5 lol)\n",
    "\n",
    "Also there is a nice ref. for STD:String size/struct layout here [CPP Strings](https://eu90h.github.io/cpp-strings.html). Also a nice stackoverflow post (lol) on strings [Why is sizeof(string) == 32?](https://stackoverflow.com/questions/3770781/why-is-sizeofstring-32#:~:text=So%20this%20string%20implementation%20is,environment%20it%20is%20used%20in.)\n",
    "\n",
    "For C++ Strings there is also this nice reference [STL_DECOMPILE_GUIDE x86](https://github.com/GrandpaGameHacker/MSVC_STL_Decompile_Guide/blob/main/STL_DECOMPILE_GUIDE_x86.h)\n",
    "\n",
    "### std::string\n",
    "The following is a handy struct to have for IDA\n",
    "```c\n",
    "#pragma pack(push, 1)\n",
    "struct stdstring\n",
    "{\n",
    "  union\n",
    "  {\n",
    "    char *pstr;\n",
    "    char lstr[16];\n",
    "  };\n",
    "  DWORD size;\n",
    "  DWORD max;\n",
    "};\n",
    "#pragma pack(pop)\n",
    "```\n",
    "\n",
    "### Config Extraction\n",
    "#### Old Version"
   ]
  },
  {
   "cell_type": "code",
   "execution_count": 26,
   "id": "52d345a0-8db6-46ef-adf8-b150761c40ab",
   "metadata": {},
   "outputs": [
    {
     "data": {
      "text/plain": [
       "b'khw3lix3kcivpsmlgglqao2ntut5gmp2ydmvnn5leduil554po5n2wad.onion|0|80|0c9c6aaa257aced0|Xauth|auth.exe|b43e92f859a4b4e81c5c7768339be3e7|Runtime Broker|\\x0c\\x0c\\x0c\\x0c\\x0c\\x0c\\x0c\\x0c\\x0c\\x0c\\x0c\\x0c'"
      ]
     },
     "execution_count": 26,
     "metadata": {},
     "output_type": "execute_result"
    }
   ],
   "source": [
    "from malduck import camellia\n",
    "import zlib\n",
    "\n",
    "data = bytes.fromhex('68ac9b8a92005de3a7fe840ad07ec9adf84ed732c4c6a19ee2f205cdbda82b9a4a05ae3d416a39aaf5c598d75bf6c0de00450603400f480879941df9ad9f61f01959d98df31f748e8761d8aa79552c751e208a939d58edf6af7d7215412144355d9dbc1b71567ac895b3fecd3552050b0d1ac6698cf6e43d605f5cabec11853cdd7aa26dfeed45878d12c16eb95cf0805135fb2abab8632e918df7b192946e5d')\n",
    "key = b'ac4016133b9d18e2'\n",
    "iv = b'\\x00'*16\n",
    "\n",
    "camellia.cbc.decrypt(key, iv, data)\n",
    "\n",
    "\n"
   ]
  },
  {
   "cell_type": "markdown",
   "id": "92dc08be-f5d8-4e3a-a3d6-c49c46a1a149",
   "metadata": {},
   "source": [
    "#### New Version"
   ]
  },
  {
   "cell_type": "code",
   "execution_count": 16,
   "id": "f576458b-f9a0-4fa7-b315-bf192929adfa",
   "metadata": {},
   "outputs": [
    {
     "data": {
      "text/plain": [
       "b'78hf326f87'"
      ]
     },
     "execution_count": 16,
     "metadata": {},
     "output_type": "execute_result"
    }
   ],
   "source": [
    "stack_data = b'U=4d6Nmd=U'\n",
    "\n",
    "out = []\n",
    "for c in stack_data:\n",
    "    out.append((0x25 * (c - 8) % 0x7F + 0x7F) % 0x7F)\n",
    "\n",
    "key_pad = bytes(out)\n",
    "\n",
    "key_pad"
   ]
  },
  {
   "cell_type": "code",
   "execution_count": 28,
   "id": "c8adee78-a6ce-40d9-9d67-593be59173f9",
   "metadata": {},
   "outputs": [
    {
     "name": "stdout",
     "output_type": "stream",
     "text": [
      "key bytes: b'345a557a536d437278hf326f87'\n",
      "key crc32: 0x16df767c\n",
      "16df767c\n",
      "cd3f61fc872fb2c5\n"
     ]
    },
    {
     "data": {
      "text/plain": [
       "b'103.125.190.185|1234|0|b008202b03e10e9c|0|0|827ccb0eea8a706c4c34a16891f84e7b|tor|\\x0f\\x0f\\x0f\\x0f\\x0f\\x0f\\x0f\\x0f\\x0f\\x0f\\x0f\\x0f\\x0f\\x0f\\x0f'"
      ]
     },
     "execution_count": 28,
     "metadata": {},
     "output_type": "execute_result"
    }
   ],
   "source": [
    "import zlib\n",
    "import hashlib\n",
    "\n",
    "key = b'345a557a536d4372'\n",
    "data = bytes.fromhex('3b66f71111cc5d17f0df570bf2b989e5ce5a01aa36d2197cf04df6e01a7daac209be5528c070b9bd349adc0499c7baa5e67da97f47246fb64fd8b43d7f1e169446f59a213f68f035c05006e6602a60e1078cc74bc20476a02fd68df0e9f14af8')\n",
    "\n",
    "\n",
    "key += key_pad\n",
    "\n",
    "print(f\"key bytes: {key}\")\n",
    "\n",
    "# crc32 of key (add 8)\n",
    "key_crc32 = (zlib.crc32(key) & 0xffffffff) + 8\n",
    "\n",
    "print(f\"key crc32: {hex(key_crc32)}\")\n",
    "\n",
    "# convert crc32 to string\n",
    "crc32_string = format(key_crc32, '#04x')[2:].lower()\n",
    "print(crc32_string)\n",
    "    \n",
    "# md5 and truncate to 16 bytes\n",
    "key = hashlib.md5(crc32_string.encode('utf-8')).hexdigest()[:16]\n",
    "\n",
    "print(key)\n",
    "\n",
    "# decrypt camellia cbc\n",
    "iv = b'\\x00'*16\n",
    "\n",
    "camellia.cbc.decrypt(key.encode('utf-8'), iv, data)\n"
   ]
  }
 ],
 "metadata": {
  "kernelspec": {
   "display_name": "Python 3",
   "language": "python",
   "name": "python3"
  },
  "language_info": {
   "codemirror_mode": {
    "name": "ipython",
    "version": 3
   },
   "file_extension": ".py",
   "mimetype": "text/x-python",
   "name": "python",
   "nbconvert_exporter": "python",
   "pygments_lexer": "ipython3",
   "version": "3.9.5"
  }
 },
 "nbformat": 4,
 "nbformat_minor": 5
}
