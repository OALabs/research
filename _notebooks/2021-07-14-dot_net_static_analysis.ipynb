{
 "cells": [
  {
   "cell_type": "markdown",
   "id": "cdb7bd05-834e-45cd-a52f-83532d36aa09",
   "metadata": {},
   "source": [
    "# \"Dot NET Static Analysis With Python\"\n",
    "> \"How to use python, mono, and dnlib to perform static analysis of Dot NET code\"\n",
    "\n",
    "- toc: true \n",
    "- badges: true\n",
    "- categories: [\"Dot NET\",static analysis,stormkitty,dnlib,python,research]"
   ]
  },
  {
   "cell_type": "markdown",
   "id": "f0053153-1294-417b-bcba-ac17cfe5da78",
   "metadata": {},
   "source": [
    "## Overview\n",
    "\n",
    "References:\n",
    "- https://github.com/0ffsetTrainingSolutions/MOLERATS/blob/main/StringDecrypt/reactor_decrypt.py\n",
    "- https://pypi.org/project/pythonnet/\n",
    "- https://github.com/XenocodeRCE/ConfuserEx-Unpacker\n",
    "- https://rhotav.github.io/stringdecryptionwithpythonen"
   ]
  },
  {
   "cell_type": "markdown",
   "id": "64624927-26ba-4713-be8d-1a0b81482211",
   "metadata": {
    "tags": []
   },
   "source": [
    "## StormKitty String Decryption\n",
    "\n",
    "We need a simple task to test our tools and a .NET sample. Let's try to decrypt the strings from this modified **StormKitty** stealer (https://github.com/swagkarna/StormKitty). You can download the sample from malshare (https://malshare.com/sample.php?action=detail&hash=16694f6390c59adc1161a1855e9e7904). \n",
    "\n",
    "If we load the sample in dnspy we can see that there is an AES deryption function that reads a hard coded **password** and **salt** that are passed to the generator `Rfc2898DeriveBytes` and used to generate a **key** and **IV** which are then used these to decrypt strings on the fly. \n",
    "\n",
    "![Screen Shot 2021-07-13 at 3.25.17 PM.png](https://i.imgur.com/6fzAwo9.png)\n",
    "\n",
    "![Screen Shot 2021-07-13 at 3.25.41 PM.png](https://i.imgur.com/ngT0s7P.png)\n",
    "\n",
    "To start out simple lets conver the decryption routine into python, then lets use dnlib to parse out all the decryption calls and decrypt the strings."
   ]
  },
  {
   "cell_type": "code",
   "execution_count": 1,
   "id": "092692e0-32f9-4129-943e-11838b269252",
   "metadata": {},
   "outputs": [
    {
     "name": "stdout",
     "output_type": "stream",
     "text": [
      "Decrypted string: b'\\\\Chromium\\\\User Data\\\\\\x0c\\x0c\\x0c\\x0c\\x0c\\x0c\\x0c\\x0c\\x0c\\x0c\\x0c\\x0c'\n"
     ]
    }
   ],
   "source": [
    "from Crypto.Cipher import AES\n",
    "def decrypt(ctxt, key, iv):\n",
    "    cipher = AES.new(key, AES.MODE_CBC, iv)\n",
    "    return cipher.decrypt(ctxt)\n",
    "\n",
    "# Test with data from dnspy\n",
    "salt = bytes([0xff,64,191,111,23,3,113,119,231,121,252,112,79,32,114,156])\n",
    "password = bytes([104,116,116,112,115,58,47,47,103,105,116,104,117,98,46,99,111,109,47,76,105,109,101,114,66,111,121,47,83,116,111,114,109,75,105,116,116,121])\n",
    "iter_count = 1000\n",
    "key_size = 256\n",
    "block_size = 128\n",
    "key_size_bytes = int(key_size/8)\n",
    "block_size_bytes = int(block_size/8)\n",
    "# Generate the key and IV from the hard coded password and salt\n",
    "\n",
    "# Rfc2898DeriveBytes is a streaming-response object, \n",
    "# so concatenating two successive calls is the same as \n",
    "# doing one call with both lengths added together\n",
    "\n",
    "from Crypto.Protocol import KDF\n",
    "key_bytes = KDF.PBKDF2(password, salt, count=iter_count, dkLen=key_size_bytes+block_size_bytes)\n",
    "\n",
    "ctxt = bytes([191,144,50,4,176,103,41,226,163,145,184,198,37,147,201,246,15,80,188,217,224,55,94,195,60,36,195,150,34,219,225,21])\n",
    "\n",
    "ptxt = decrypt(ctxt, key_bytes[:key_size_bytes], key_bytes[key_size_bytes:])\n",
    "print(\"Decrypted string: %r\" % ptxt)\n"
   ]
  },
  {
   "cell_type": "code",
   "execution_count": 2,
   "id": "56b590dc-eed8-475f-ac75-dbd89588df29",
   "metadata": {},
   "outputs": [
    {
     "name": "stdout",
     "output_type": "stream",
     "text": [
      "Decrypted string: b'\\\\Chromium\\\\User Data\\\\'\n"
     ]
    }
   ],
   "source": [
    "# WE have to strip the padding off \n",
    "# The padding byte is the pad delta so we just have to take a byte \n",
    "# and use it to clip the delta off the end of the data\n",
    "\n",
    "def unpad(data):\n",
    "    return data[:-ord(data[len(data)-1:])]\n",
    "\n",
    "print(\"Decrypted string: %r\" % unpad(ptxt))"
   ]
  },
  {
   "cell_type": "markdown",
   "id": "655a1e6b-5246-49be-b3e3-aa313c75a7df",
   "metadata": {},
   "source": [
    "## .NET Assembly Analysis \n",
    "\n",
    "Ok now that we have a decryption routine we can start to look at programmatically analyzing the .NET assembly seaching for the encrypted strings.\n",
    "\n",
    "First we will need a way to call .NET methods from Python. This will allow us to both execute functionality in the sample as well as take advantage of multiple .NET analysis tools which are themselves written in .NET. For this we will use the **pythonnet** package (https://github.com/pythonnet/pythonnet/wiki).\n",
    "\n",
    "#### Pythonnet Setup\n",
    "\n",
    "Installing pythonnet is as simple as `pip install pythonnet`. If you are on mac you will want to first make sure you have mono installed. Mono is the platfrom independent .NET interpreter that allows you to run .NET anywhere. We will use brew with `brew install mono`.\n",
    "\n",
    "Once we have pythonnet installed it can be imported into python using `import clr`. CLR stands for Common Language Runtime which is the actual virtual machine that is used to interpret and execute .NET (I think?)."
   ]
  },
  {
   "cell_type": "code",
   "execution_count": 3,
   "id": "9b67d242-2359-4796-aeef-328bb3fa1c52",
   "metadata": {},
   "outputs": [],
   "source": [
    "import sys, struct, clr\n",
    "clr.AddReference(\"System.Memory\")\n",
    "from System.Reflection import Assembly, MethodInfo, BindingFlags\n",
    "from System import Type"
   ]
  },
  {
   "cell_type": "markdown",
   "id": "4131dd4a-30a4-4c3f-9bd5-2860e7fbe79e",
   "metadata": {},
   "source": [
    "We are going to use dnlib (https://github.com/0xd4d/dnlib) to interact wiht the .NET assembly. We will need to download the DLL and pass a local path to our python instance. We can build our own from the release ((https://github.com/0xd4d/dnlib/releases) or just download an old compiled version (https://github.com/XenocodeRCE/ConfuserEx-Unpacker/tree/master/DLLS)."
   ]
  },
  {
   "cell_type": "code",
   "execution_count": 4,
   "id": "b7914e1b-5c2f-4551-abab-97442dec6def",
   "metadata": {},
   "outputs": [],
   "source": [
    "DNLIB_PATH = '/tmp/dnlib.dll'\n",
    "clr.AddReference(DNLIB_PATH)\n",
    "import dnlib\n",
    "from dnlib.DotNet import *\n",
    "from dnlib.DotNet.Emit import OpCodes"
   ]
  },
  {
   "cell_type": "markdown",
   "id": "574315a7-b5c9-48df-98c1-7747d5f43ee2",
   "metadata": {},
   "source": [
    "Like the dnlib DLL we will need to pass the local path to this file to our Python. Then we can use this path to load the .NET module and assembly."
   ]
  },
  {
   "cell_type": "code",
   "execution_count": 5,
   "id": "026fafe6-0d46-4c65-ba72-88c0709b9500",
   "metadata": {},
   "outputs": [],
   "source": [
    "SAMPLE_PATH = '/tmp/6e4802a21c61d349b2a201ec5143e095b57e033d51bb571b90a53749956beac4.bin'\n",
    "module = dnlib.DotNet.ModuleDefMD.Load(SAMPLE_PATH)\n",
    "# we don't need the assembly for this because we won't be using invoke\n",
    "# assembly = Assembly.LoadFrom(SAMPLE_PATH)"
   ]
  },
  {
   "cell_type": "markdown",
   "id": "fc7e9697-4435-4d32-9198-99be8e4f9d4f",
   "metadata": {},
   "source": [
    "Now we need to find the decryption method. The process is straight forward, we will iterate through all of the methods for each type in the module (I think type is what a class is converted to in the IL?) and for each method we will check the instructions to find the decryption method. Actually matching the decryption method is a bit of a hack but basically we just find some stuff that is probably unique to the method and search for that. In this case we are looking for instructions that set the AES key size `SymmetricAlgorithm::set_KeySize` and block size `SymmetricAlgorithm::set_BlockSize`.\n",
    "\n",
    "![Screen Shot 2021-07-14 at 3.37.51 PM.png](https://i.imgur.com/IfUvV9p.png)\n"
   ]
  },
  {
   "cell_type": "code",
   "execution_count": 6,
   "id": "bd60eabd-d7f0-4036-a9ca-ee9b0fd30a5f",
   "metadata": {},
   "outputs": [
    {
     "name": "stdout",
     "output_type": "stream",
     "text": [
      "System.String Class69::smethod_1(System.Byte[])\n"
     ]
    }
   ],
   "source": [
    "eFlags = BindingFlags.Static | BindingFlags.Public | BindingFlags.NonPublic\n",
    "\n",
    "# First find the decryption method\n",
    "decryption_method = None\n",
    "for mtype in module.GetTypes():\n",
    "    if not mtype.HasMethods:\n",
    "        continue\n",
    "    for method in mtype.Methods:\n",
    "        if not method.HasBody: \n",
    "            continue\n",
    "        if not method.Body.HasInstructions: \n",
    "            continue\n",
    "        if len(method.Body.Instructions) < 20:\n",
    "            continue\n",
    "        # Check the first 20 instructions for the AES key set and block set\n",
    "        key_set = False \n",
    "        block_set = False\n",
    "        for ptr in range(20):\n",
    "            if 'SymmetricAlgorithm::set_KeySize' in method.Body.Instructions[ptr].ToString():\n",
    "                key_set = True\n",
    "            if 'SymmetricAlgorithm::set_BlockSize' in method.Body.Instructions[ptr].ToString():\n",
    "                block_set = True\n",
    "        if key_set and block_set:\n",
    "            decryption_method =  method\n",
    "            break\n",
    "            \n",
    "\n",
    "if decryption_method != None:\n",
    "    print(decryption_method.FullName)\n",
    "else:\n",
    "    print(\"Can't find decryption method!\")        "
   ]
  },
  {
   "cell_type": "markdown",
   "id": "cdc87888-487f-42d9-8aba-e5fbad1e4f57",
   "metadata": {},
   "source": [
    "Now that we know the decryption method we can save its name then we can search for calls to the method name. The actual name is a bit tricky since we want the class name and the method name in order to disambiguate it. The class name will always preceed the method name with `::` so we can use that to parse the correct string."
   ]
  },
  {
   "cell_type": "code",
   "execution_count": 7,
   "id": "386ff721-b8c7-46c4-b18a-b081ad4f31c8",
   "metadata": {},
   "outputs": [],
   "source": [
    "# Extract the class name and method name from full method name\n",
    "full_name = decryption_method.FullName\n",
    "method_name = str(decryption_method.Name)\n",
    "decryption_method_name = full_name[:full_name.find(method_name)+len(method_name)].split(\" \")[-1]            "
   ]
  },
  {
   "cell_type": "markdown",
   "id": "c0542ed9-6f52-46a9-9835-9da7c885f8ec",
   "metadata": {},
   "source": [
    "Now we can find all the places where the decryption method is called by searching through all the instructions for a `call` to the decryption method name. \n",
    "\n",
    "Once we find a call we need to parse out the arguement which is an array containing the encrypted string. This is is a bit tricky since arrays are split into multiple instructions in the IL. \n",
    "\n",
    "![Screen Shot 2021-07-13 at 9.33.20 PM.png](https://i.imgur.com/kiibYjl.png)\n",
    "\n",
    "Here we can see the call to the decryption method on line *291* and preceeding the call we can see another call to `InitializeArray` which takes an argument setup with the `ldtoken` call on line *295*. Based on this we can search backwards in the code from the call to the decryption fucntion for the first `ldtoken` instruction which will be loadin the actual data for the array (containing the encrypted string)."
   ]
  },
  {
   "cell_type": "code",
   "execution_count": 8,
   "id": "e1b58b16-f57f-401a-a90a-1ff36b6fdc65",
   "metadata": {},
   "outputs": [
    {
     "name": "stdout",
     "output_type": "stream",
     "text": [
      "IL_0011: ldtoken Class71/Struct20 Class71::struct20_6\n",
      "IL_002B: ldtoken Class71/Struct20 Class71::struct20_14\n",
      "IL_0045: ldtoken Class71/Struct20 Class71::struct20_19\n",
      "IL_005F: ldtoken Class71/Struct20 Class71::struct20_2\n",
      "IL_0079: ldtoken Class71/Struct22 Class71::struct22_0\n",
      "IL_0093: ldtoken Class71/Struct20 Class71::struct20_4\n",
      "IL_00AD: ldtoken Class71/Struct20 Class71::struct20_3\n",
      "IL_00C7: ldtoken Class71/Struct20 Class71::A25CC6D70519A408CEA3AE72EBFF915335C6E6E613B18720FA746D0D8056559B\n",
      "IL_00E1: ldtoken Class71/Struct20 Class71::struct20_18\n",
      "IL_00FC: ldtoken Class71/Struct20 Class71::struct20_9\n",
      "IL_0117: ldtoken Class71/Struct20 Class71::struct20_24\n",
      "IL_0132: ldtoken Class71/Struct20 Class71::struct20_25\n",
      "IL_014D: ldtoken Class71/Struct20 Class71::BF8CAA158736480861E8F91826FFFA6545B27C3EC30153CA68330811329C2A8E\n",
      "IL_0168: ldtoken Class71/Struct20 Class71::struct20_22\n",
      "IL_0183: ldtoken Class71/Struct23 Class71::struct23_1\n",
      "IL_019E: ldtoken Class71/Struct22 Class71::ACDCB1AFB15194F894860BA7E2B85B91B6E5AB701407DFBAC51146F0C6E53B6F\n",
      "IL_01B9: ldtoken Class71/Struct20 Class71::struct20_21\n",
      "IL_01D4: ldtoken Class71/Struct20 Class71::CE8979E74A40B6869BD5BED7E5610AA981486221166D6F6E65F3B34BF501B8DD\n",
      "IL_01EF: ldtoken Class71/Struct20 Class71::struct20_8\n",
      "IL_020A: ldtoken Class71/Struct20 Class71::struct20_10\n",
      "IL_0225: ldtoken Class71/Struct20 Class71::struct20_7\n",
      "IL_0240: ldtoken Class71/Struct20 Class71::struct20_20\n",
      "IL_025B: ldtoken Class71/Struct20 Class71::struct20_15\n",
      "IL_0276: ldtoken Class71/Struct22 Class71::struct22_2\n",
      "IL_0291: ldtoken Class71/Struct20 Class71::struct20_13\n",
      "IL_02AC: ldtoken Class71/Struct20 Class71::A223DB41D9BFBC0280EBD0050A8BBD8EA7A943B251C8FD2D0B01A040462EDB0B\n",
      "IL_02C7: ldtoken Class71/Struct20 Class71::struct20_12\n",
      "IL_02E2: ldtoken Class71/Struct20 Class71::struct20_23\n",
      "IL_02FD: ldtoken Class71/Struct20 Class71::ACDF4A22C9359C1328E1CC966BC6C0D0D95B468AF46466FFAEC92C411050E17B\n",
      "IL_0318: ldtoken Class71/Struct20 Class71::A515425C81DC183149AF8B446E168A9509399B54129E92DAC27E19364B0D7B86\n",
      "IL_0333: ldtoken Class71/Struct20 Class71::D3709EF761A0DEFC0ABE47CF9B3476718CE15F873291CF43E1AE3DC080DE5523\n",
      "IL_034E: ldtoken Class71/Struct20 Class71::A981F5EDD35DDFF3F41F44A598272BBEAFA5F5B9C1595DC02FC6044CE81BE666\n",
      "IL_0369: ldtoken Class71/Struct20 Class71::struct20_11\n",
      "IL_0384: ldtoken Class71/Struct20 Class71::struct20_1\n",
      "IL_039F: ldtoken Class71/Struct22 Class71::FD2AD7331099CFB7A118458E12965559ABF6D870A4B3DFF975FF43C3C56C09C8\n",
      "IL_03C4: ldtoken Class71/Struct20 Class71::struct20_17\n",
      "IL_03DE: ldtoken Class71/Struct19 Class71::struct19_0\n",
      "IL_03F8: ldtoken Class71/Struct19 Class71::CEB1CC71FC33A5B2E3A8E0727D334A0B236251779D5BAF438C965B4FB341F460\n",
      "IL_0412: ldtoken Class71/Struct19 Class71::A4956ED9AA7996A00C7593BFFCBDB3FBE5A11F729876DF9AC5A1A33EF3EFE3A2\n",
      "IL_042C: ldtoken Class71/Struct20 Class71::A8F810D24584EC3B7929D304606C2DD1E44F852CA90C291ED8CC398AA3F07FD3\n",
      "IL_0446: ldtoken Class71/Struct20 Class71::D170DC7768D26A111EF0E7B910988BFC4ACBCA3BE6A5B476EED1F48C70040F93\n",
      "IL_0460: ldtoken Class71/Struct20 Class71::D61B7716B5AD4A42CC6C9300587B2C389EB40C3E8BF9B039E7DB98097247DC1B\n",
      "IL_047A: ldtoken Class71/Struct22 Class71::CAB1D35DDB8E2426F9750F1040D87B301146E2BFAB7CF292C14EC1133A2ACB37\n",
      "IL_0497: ldtoken Class71/Struct20 Class71::struct20_0\n",
      "IL_002D: ldtoken Class71/Struct23 Class71::B6BF689EB1506173FB29643B5E51D7E067FD5E191256B038EB618C2F593EB272\n",
      "IL_00A8: ldtoken Class71/Struct20 Class71::struct20_16\n",
      "IL_011B: ldtoken Class71/Struct20 Class71::D813E22A9B121801B05222D1BF9E349DAA549C1171C61A538CAD559E2701513B\n",
      "IL_01FB: ldtoken Class71/Struct23 Class71::struct23_2\n",
      "IL_0302: ldtoken Class71/Struct23 Class71::A4327AC8803761C49FE829B97D8B2E262D38A165E20B7F7C9FDCD1F757CDB7BB\n",
      "IL_0092: ldtoken Class71/Struct20 Class71::struct20_5\n",
      "IL_000E: ldtoken Class71/Struct20 Class71::B4066645CC9D38B322DDCD501F7863D2759D4CAA2A993694DCC6DDB1EEBC7301\n",
      "IL_002E: ldtoken Class71/Struct23 Class71::struct23_0\n",
      "IL_01C1: ldtoken Class71/Struct22 Class71::struct22_1\n",
      "IL_0008: ldtoken Class71/Struct20 Class71::B28DB940EDE70686E870504AE41CB6EEAE634B9858DF6B5AEAB3958AA115A5E1\n"
     ]
    }
   ],
   "source": [
    "# Search for calls to the decryption method and extract the encrypted string that is passed\n",
    "for mtype in module.GetTypes():\n",
    "    if not mtype.HasMethods:\n",
    "        continue\n",
    "    for method in mtype.Methods:\n",
    "        if not method.HasBody: \n",
    "            continue\n",
    "        if not method.Body.HasInstructions: \n",
    "            continue\n",
    "        for ptr in range(len(method.Body.Instructions)):\n",
    "            instruction = method.Body.Instructions[ptr]\n",
    "            if instruction.OpCode == OpCodes.Call:\n",
    "                if decryption_method_name in instruction.ToString():\n",
    "                    # Found call now seach backwards a maximum of 5 instructions for ldtoken to get encrypted string\n",
    "                    for i in range(1,5):\n",
    "                        if method.Body.Instructions[ptr-i].OpCode == OpCodes.Ldtoken:\n",
    "                            print(method.Body.Instructions[ptr-i])\n",
    "                            mm = method.Body.Instructions[ptr-i]\n",
    "                            token = mm.Operand.MDToken"
   ]
  },
  {
   "cell_type": "markdown",
   "id": "a9c92947-53cb-4efd-897a-232c53900df2",
   "metadata": {},
   "source": [
    "Now that we have a way to find all of the arrays that contain the encrypted strings we need a way to get the data out of the array. This was very confusing when I was trying to figure it out... hat tip to https://twitter.com/s4tan for all the help <3 \n",
    "- http://antonioparata.blogspot.com/2018/02/analyzing-nasty-net-protection-of.html\n",
    "- http://antonioparata.blogspot.com/2013/10/blog-post.html\n",
    "\n",
    "I'm still not sure this is the best way to do things but basically we grab the first operand from the `ldtoken` instruction which is the token for the field that contains the array. Each array is stored in a field in a class so once we have the token we can search through all the fields in all the classes for the matching token and extract the data. To actually convert the byte array into something we can use in Python we call the `get_InitialValue` method for the field and convert this into a byte string. I think this works because the array is static making the initial value the actual value but I'm not entirely sure.\n",
    "\n",
    "To simplify the process I created a helper function that will allow us to find and extract the bytes string based on a token."
   ]
  },
  {
   "cell_type": "code",
   "execution_count": 9,
   "id": "9606a1a5-f906-4a63-b16c-dcc172409419",
   "metadata": {},
   "outputs": [],
   "source": [
    "def get_array_data_by_token(token):\n",
    "    for mtype in module.GetTypes():\n",
    "        if mtype.get_HasFields():\n",
    "            for field in mtype.get_Fields():\n",
    "                if field.get_MDToken() == token:\n",
    "                    try:\n",
    "                        return bytes(field.get_InitialValue())\n",
    "                    except:\n",
    "                        return None\n",
    "    return None"
   ]
  },
  {
   "cell_type": "markdown",
   "id": "3b73df18-f239-4ce4-9521-215e05d128df",
   "metadata": {},
   "source": [
    "Now we have all the parts and we can put them together to extract and decrypt the strings!"
   ]
  },
  {
   "cell_type": "code",
   "execution_count": 10,
   "id": "9fe0f975-4d24-4132-8f57-daf89a2db8e3",
   "metadata": {},
   "outputs": [
    {
     "name": "stdout",
     "output_type": "stream",
     "text": [
      "b'\\\\Chromium\\\\User Data\\\\'\n",
      "b'\\\\Google\\\\Chrome\\\\User Data\\\\'\n",
      "b'\\\\Google(x86)\\\\Chrome\\\\User Data\\\\'\n",
      "b'\\\\Opera Software\\\\'\n",
      "b'\\\\MapleStudio\\\\ChromePlus\\\\User Data\\\\'\n",
      "b'\\\\Iridium\\\\User Data\\\\'\n",
      "b'\\\\7Star\\\\7Star\\\\User Data\\\\'\n",
      "b'\\\\CentBrowser\\\\User Data\\\\'\n",
      "b'\\\\Chedot\\\\User Data\\\\'\n",
      "b'\\\\Vivaldi\\\\User Data\\\\'\n",
      "b'\\\\Kometa\\\\User Data\\\\'\n",
      "b'\\\\Elements Browser\\\\User Data\\\\'\n",
      "b'\\\\Epic Privacy Browser\\\\User Data'\n",
      "b'\\\\uCozMedia\\\\Uran\\\\User Data\\\\'\n",
      "b'\\\\Fenrir Inc\\\\Sleipnir5\\\\setting\\\\modules\\\\ChromiumViewer\\\\'\n",
      "b'\\\\CatalinaGroup\\\\Citrio\\\\User Data\\\\'\n",
      "b'\\\\Coowon\\\\Coowon\\\\User Data\\\\'\n",
      "b'\\\\liebao\\\\User Data\\\\'\n",
      "b'\\\\QIP Surf\\\\User Data\\\\'\n",
      "b'\\\\Orbitum\\\\User Data\\\\'\n",
      "b'\\\\Comodo\\\\Dragon\\\\User Data\\\\'\n",
      "b'\\\\Amigo\\\\User\\\\User Data\\\\'\n",
      "b'\\\\Torch\\\\User Data\\\\'\n",
      "b'\\\\Yandex\\\\YandexBrowser\\\\User Data\\\\'\n",
      "b'\\\\Comodo\\\\User Data\\\\'\n",
      "b'\\\\360Browser\\\\Browser\\\\User Data\\\\'\n",
      "b'\\\\Maxthon3\\\\User Data\\\\'\n",
      "b'\\\\K-Melon\\\\User Data\\\\'\n",
      "b'\\\\Sputnik\\\\Sputnik\\\\User Data\\\\'\n",
      "b'\\\\Nichrome\\\\User Data\\\\'\n",
      "b'\\\\CocCoc\\\\Browser\\\\User Data\\\\'\n",
      "b'\\\\Uran\\\\User Data\\\\'\n",
      "b'\\\\Chromodo\\\\User Data\\\\'\n",
      "b'\\\\Mail.Ru\\\\Atom\\\\User Data\\\\'\n",
      "b'\\\\BraveSoftware\\\\Brave-Browser\\\\User Data\\\\'\n",
      "b'\\\\Mozilla\\\\Firefox'\n",
      "b'\\\\Waterfox'\n",
      "b'\\\\K-Meleon'\n",
      "b'\\\\Thunderbird'\n",
      "b'\\\\Comodo\\\\IceDragon'\n",
      "b'\\\\8pecxstudios\\\\Cyberfox'\n",
      "b'\\\\NETGATE Technologies\\\\BlackHaw'\n",
      "b'\\\\Moonchild Productions\\\\Pale Moon'\n",
      "b'\\\\Microsoft\\\\Edge\\\\User Data'\n",
      "b'https://studio.youtube.com/getAccountSwitcherEndpoint'\n",
      "b'https://www.youtube.com'\n",
      "b'https://studio.youtube.com'\n",
      "b'https://studio.youtube.com/youtubei/v1/att/get?alt=json&key='\n",
      "b'https://studio.youtube.com/youtubei/v1/att/esr?alt=json&key='\n",
      "b'vm7UdYrfFAJ7GRZxN8S9'\n",
      "b'http://api64.ipify.org'\n",
      "b'https://api.mylnikov.org/geolocation/wifi?v=1.1&bssid='\n",
      "b'https://www.google.com.ua/maps/place/'\n",
      "b'https://api.telegram.org/bot'\n"
     ]
    }
   ],
   "source": [
    "for mtype in module.GetTypes():\n",
    "    if not mtype.HasMethods:\n",
    "        continue\n",
    "    for method in mtype.Methods:\n",
    "        if not method.HasBody: \n",
    "            continue\n",
    "        if not method.Body.HasInstructions: \n",
    "            continue\n",
    "        for ptr in range(len(method.Body.Instructions)):\n",
    "            instruction = method.Body.Instructions[ptr]\n",
    "            if instruction.OpCode == OpCodes.Call:\n",
    "                if decryption_method_name in instruction.ToString():\n",
    "                    # Found call now seach backwards a maximum of 5 instructions for ldtoken to get encrypted string\n",
    "                    for i in range(1,5):\n",
    "                        if method.Body.Instructions[ptr-i].OpCode == OpCodes.Ldtoken:\n",
    "                            mm = method.Body.Instructions[ptr-i]\n",
    "                            token = mm.Operand.MDToken\n",
    "                            ctxt = get_array_data_by_token(token)\n",
    "                            if ctxt != None:\n",
    "                                ptxt = decrypt(ctxt, key_bytes[:key_size_bytes], key_bytes[key_size_bytes:])\n",
    "                                ptxt = unpad(ptxt)\n",
    "                                print(ptxt)\n",
    "                            else:\n",
    "                                print(\"Error no array data found for %s\" % method.Body.Instructions[ptr-i])"
   ]
  },
  {
   "cell_type": "markdown",
   "id": "96ed1ccd-121f-4972-bd95-7354f02fe7da",
   "metadata": {},
   "source": [
    "## Editing .NET Assembly \n",
    "\n",
    "Success! Now that we have our string decryption working we can update our code to edit the sample and insert the decrypted strings. This process is is made very easy using dnlib. All we need to do is nop out the instructions that are used to build the encrypted string array and replace the call to the decryption function with a simple string load using the decrypted string. Since the instruction following decryption call expects the decrypted string to be on the stack we will load the decrypted string directly on the stack. Once this is done we will save the edited assembly to a new file.\n",
    "\n",
    "![Screen Shot 2021-07-15 at 11.24.12 AM.png](https://i.imgur.com/ZBZjVGV.png)\n"
   ]
  },
  {
   "cell_type": "code",
   "execution_count": 11,
   "id": "9371b069-ee98-42c2-9707-6f7905082cc1",
   "metadata": {},
   "outputs": [
    {
     "name": "stdout",
     "output_type": "stream",
     "text": [
      "b'\\\\Chromium\\\\User Data\\\\'\n",
      "b'\\\\Google\\\\Chrome\\\\User Data\\\\'\n",
      "b'\\\\Google(x86)\\\\Chrome\\\\User Data\\\\'\n",
      "b'\\\\Opera Software\\\\'\n",
      "b'\\\\MapleStudio\\\\ChromePlus\\\\User Data\\\\'\n",
      "b'\\\\Iridium\\\\User Data\\\\'\n",
      "b'\\\\7Star\\\\7Star\\\\User Data\\\\'\n",
      "b'\\\\CentBrowser\\\\User Data\\\\'\n",
      "b'\\\\Chedot\\\\User Data\\\\'\n",
      "b'\\\\Vivaldi\\\\User Data\\\\'\n",
      "b'\\\\Kometa\\\\User Data\\\\'\n",
      "b'\\\\Elements Browser\\\\User Data\\\\'\n",
      "b'\\\\Epic Privacy Browser\\\\User Data'\n",
      "b'\\\\uCozMedia\\\\Uran\\\\User Data\\\\'\n",
      "b'\\\\Fenrir Inc\\\\Sleipnir5\\\\setting\\\\modules\\\\ChromiumViewer\\\\'\n",
      "b'\\\\CatalinaGroup\\\\Citrio\\\\User Data\\\\'\n",
      "b'\\\\Coowon\\\\Coowon\\\\User Data\\\\'\n",
      "b'\\\\liebao\\\\User Data\\\\'\n",
      "b'\\\\QIP Surf\\\\User Data\\\\'\n",
      "b'\\\\Orbitum\\\\User Data\\\\'\n",
      "b'\\\\Comodo\\\\Dragon\\\\User Data\\\\'\n",
      "b'\\\\Amigo\\\\User\\\\User Data\\\\'\n",
      "b'\\\\Torch\\\\User Data\\\\'\n",
      "b'\\\\Yandex\\\\YandexBrowser\\\\User Data\\\\'\n",
      "b'\\\\Comodo\\\\User Data\\\\'\n",
      "b'\\\\360Browser\\\\Browser\\\\User Data\\\\'\n",
      "b'\\\\Maxthon3\\\\User Data\\\\'\n",
      "b'\\\\K-Melon\\\\User Data\\\\'\n",
      "b'\\\\Sputnik\\\\Sputnik\\\\User Data\\\\'\n",
      "b'\\\\Nichrome\\\\User Data\\\\'\n",
      "b'\\\\CocCoc\\\\Browser\\\\User Data\\\\'\n",
      "b'\\\\Uran\\\\User Data\\\\'\n",
      "b'\\\\Chromodo\\\\User Data\\\\'\n",
      "b'\\\\Mail.Ru\\\\Atom\\\\User Data\\\\'\n",
      "b'\\\\BraveSoftware\\\\Brave-Browser\\\\User Data\\\\'\n",
      "b'\\\\Mozilla\\\\Firefox'\n",
      "b'\\\\Waterfox'\n",
      "b'\\\\K-Meleon'\n",
      "b'\\\\Thunderbird'\n",
      "b'\\\\Comodo\\\\IceDragon'\n",
      "b'\\\\8pecxstudios\\\\Cyberfox'\n",
      "b'\\\\NETGATE Technologies\\\\BlackHaw'\n",
      "b'\\\\Moonchild Productions\\\\Pale Moon'\n",
      "b'\\\\Microsoft\\\\Edge\\\\User Data'\n",
      "b'https://studio.youtube.com/getAccountSwitcherEndpoint'\n",
      "b'https://www.youtube.com'\n",
      "b'https://studio.youtube.com'\n",
      "b'https://studio.youtube.com/youtubei/v1/att/get?alt=json&key='\n",
      "b'https://studio.youtube.com/youtubei/v1/att/esr?alt=json&key='\n",
      "b'vm7UdYrfFAJ7GRZxN8S9'\n",
      "b'http://api64.ipify.org'\n",
      "b'https://api.mylnikov.org/geolocation/wifi?v=1.1&bssid='\n",
      "b'https://www.google.com.ua/maps/place/'\n",
      "b'https://api.telegram.org/bot'\n"
     ]
    }
   ],
   "source": [
    "for mtype in module.GetTypes():\n",
    "    if not mtype.HasMethods:\n",
    "        continue\n",
    "    for method in mtype.Methods:\n",
    "        if not method.HasBody: \n",
    "            continue\n",
    "        if not method.Body.HasInstructions: \n",
    "            continue\n",
    "        for ptr in range(len(method.Body.Instructions)):\n",
    "            instruction = method.Body.Instructions[ptr]\n",
    "            if instruction.OpCode == OpCodes.Call:\n",
    "                if decryption_method_name in instruction.ToString():\n",
    "                    # Found call now seach backwards a maximum of 5 instructions for ldtoken to get encrypted string\n",
    "                    for i in range(1,5):\n",
    "                        if method.Body.Instructions[ptr-i].OpCode == OpCodes.Ldtoken:\n",
    "                            mm = method.Body.Instructions[ptr-i]\n",
    "                            token = mm.Operand.MDToken\n",
    "                            ctxt = get_array_data_by_token(token)\n",
    "                            if ctxt != None:\n",
    "                                ptxt = decrypt(ctxt, key_bytes[:key_size_bytes], key_bytes[key_size_bytes:])\n",
    "                                ptxt = unpad(ptxt)\n",
    "                                print(ptxt)\n",
    "                                # We need to nop out everything from OpCodes.Ldc_I4_S to the decryption call\n",
    "                                for j in range(1,10):\n",
    "                                    if method.Body.Instructions[ptr-j].OpCode == OpCodes.Ldc_I4_S:\n",
    "                                        while j > 0:\n",
    "                                            method.Body.Instructions[ptr-j].OpCode = OpCodes.Nop\n",
    "                                            j -= 1\n",
    "                                        break\n",
    "                                # Replace decryption call with string load\n",
    "                                method.Body.Instructions[ptr].OpCode = OpCodes.Ldstr\n",
    "                                method.Body.Instructions[ptr].Operand = ptxt.decode('utf-8')\n",
    "                            else:\n",
    "                                print(\"Error no array data found for %s\" % method.Body.Instructions[ptr-i])\n",
    "                            # we found the string no need to keep searching for instructions\n",
    "                            break\n",
    "        # To avoid the Error calculating max stack value we can just keep old max stack\n",
    "        method.Body.KeepOldMaxStack = True\n",
    "# Save edited assembly\n",
    "module.Write(SAMPLE_PATH + \".decrypted\")"
   ]
  },
  {
   "cell_type": "code",
   "execution_count": null,
   "id": "84b0b9a7-ffa8-4602-858c-774a733fe35a",
   "metadata": {},
   "outputs": [],
   "source": []
  }
 ],
 "metadata": {
  "kernelspec": {
   "display_name": "Python 3",
   "language": "python",
   "name": "python3"
  },
  "language_info": {
   "codemirror_mode": {
    "name": "ipython",
    "version": 3
   },
   "file_extension": ".py",
   "mimetype": "text/x-python",
   "name": "python",
   "nbconvert_exporter": "python",
   "pygments_lexer": "ipython3",
   "version": "3.9.5"
  }
 },
 "nbformat": 4,
 "nbformat_minor": 5
}
