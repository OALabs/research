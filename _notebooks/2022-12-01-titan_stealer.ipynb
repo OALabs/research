{
 "cells": [
  {
   "cell_type": "markdown",
   "id": "5e8b61d6-cdef-4291-8a0d-59b3ec978b7e",
   "metadata": {},
   "source": [
    "# Titan Stealer\n",
    "> Another GO stealer\n",
    "\n",
    "- toc: true \n",
    "- badges: true\n",
    "- categories: [golang,titan,stealer,python,research,ida,goresym,alphagolang]\n"
   ]
  },
  {
   "cell_type": "markdown",
   "id": "1f5413a3-a2b8-4146-99ca-76ea1ba59ed5",
   "metadata": {},
   "source": [
    "## Overview\n",
    "According to [@ViriBack](https://twitter.com/ViriBack)\n",
    "> The ref md5 : 82040e02a2c16b12957659e1356a5e19 (a7dfb6bb7ca1c8271570ddcf81bb921cf4f222e6e190e5f420d4e1eda0a0c1f2) for rule 2039778 communicates to same host:port that is mentioned in this blog for Titan panel\n",
    "callout pattern: /sendlog with a base64 zip\n",
    "\n",
    "The attribution on this comes from the link to the Titan Stealer panel at `http[:]//77.73.133[.]88:5000/login/`\n",
    "\n",
    "![](https://i.imgur.com/Jn969g3.png)\n",
    "\n",
    "\n",
    "### Sample\n",
    "`A7DFB6BB7CA1C8271570DDCF81BB921CF4F222E6E190E5F420D4E1EDA0A0C1F2` [malware bazaar](https://bazaar.abuse.ch/sample/a7dfb6bb7ca1c8271570ddcf81bb921cf4f222e6e190e5f420d4e1eda0a0c1f2/)\n",
    "\n",
    "### References\n",
    "- [@ViriBack analysis of titan stealer](https://twitter.com/viriback/status/1596861959374192640)\n",
    "- [Titan Stealer Panels](https://blog.bushidotoken.net/2022/11/detecting-and-fingerprinting.html)\n"
   ]
  },
  {
   "cell_type": "markdown",
   "id": "ac6ba05b-5071-4967-b12e-f0d4efe12601",
   "metadata": {},
   "source": [
    "## Analysis\n",
    "\n",
    "### C2\n",
    "Lol this is in plaintext!\n",
    "\n",
    "```\n",
    "8D 05 4C B1 50 00                       lea     eax, a777313388 ; \"77.73.133.88\"\n",
    "89 44 24 04                             mov     [esp+0A0h+a2], eax\n",
    "C7 44 24 08 0C 00 00 00                 mov     [esp+0A0h+a3], 0Ch\n",
    "C7 44 24 0C 88 13 00 00                 mov     [esp+0A0h+a4], 5000\n",
    "```\n"
   ]
  },
  {
   "cell_type": "code",
   "execution_count": 6,
   "id": "f5275a99-dd7e-40b4-a8c1-1fdb5fced304",
   "metadata": {},
   "outputs": [
    {
     "name": "stdout",
     "output_type": "stream",
     "text": [
      "b'77.73.133.88'\n"
     ]
    }
   ],
   "source": [
    "import re\n",
    "\n",
    "file_data = open('/tmp/titan.bin','rb').read()\n",
    "\n",
    "for m in re.finditer(rb\"(?:(?:25[0-5]|2[0-4][0-9]|[01]?[0-9][0-9]?)\\.){3}(?:25[0-5]|2[0-4][0-9]|[01]?[0-9][0-9]?)\", file_data):\n",
    "    print(m.group())\n",
    "    "
   ]
  },
  {
   "cell_type": "markdown",
   "id": "b745e921-cd0b-4286-9368-2249e916823d",
   "metadata": {},
   "source": [
    "### GO String Extraction\n",
    "We can follow the example from JAGS' [AlphaGOLang script](https://github.com/SentineLabs/AlphaGolang/blob/main/4.string_cast.py) and just identify where the strings are loaded in the code. \n",
    "\n",
    "#### Dynamically Allocated Strings\n",
    "These are loaded inline in assembly. Usually there is a string ref followed by the string size. \n",
    "- get the virtual address bounds of the `.rdata` section to validate string refs\n",
    "- create a list of asm blocks used to dynamically load strings\n",
    "- scan for these and filter the fps using our rdata block\n",
    "- check if the string is valid \n"
   ]
  },
  {
   "cell_type": "code",
   "execution_count": 29,
   "id": "86d71ec4-834a-45d3-83fe-55b29d7cd4b0",
   "metadata": {},
   "outputs": [],
   "source": [
    "import re\n",
    "import pefile\n",
    "\n",
    "file_data = open('/tmp/titan.bin','rb').read()\n",
    "pe = pefile.PE(data=file_data)\n",
    "\n",
    "# Rebase PE to 0 and conver addresses into RVAs \n",
    "# Based! \n",
    "pe.relocate_image(0)\n",
    "\n",
    "rdata_start = None\n",
    "rdata_end = None\n",
    "\n",
    "for s in pe.sections:\n",
    "    if s.Name.startswith(b'.rdata'):\n",
    "        rdata_start = s.VirtualAddress \n",
    "        rdata_end = rdata_start + s.Misc_VirtualSize\n",
    "\n",
    "assert rdata_start is not None\n",
    "\n",
    "text_data = None\n",
    "\n",
    "for s in pe.sections:\n",
    "    if s.Name.startswith(b'.text'):\n",
    "        text_data = s.get_data()\n",
    "        \n",
    "assert text_data is not None\n",
    "\n"
   ]
  },
  {
   "cell_type": "markdown",
   "id": "02abf9c5-ece8-4eed-b339-d556073102cc",
   "metadata": {},
   "source": [
    "#### Build our regexes"
   ]
  },
  {
   "cell_type": "code",
   "execution_count": 45,
   "id": "2e6e925b-43f8-48bd-b00b-730b2c1a9f90",
   "metadata": {},
   "outputs": [
    {
     "name": "stdout",
     "output_type": "stream",
     "text": [
      "77.73.133.88\n",
      "5000\n"
     ]
    }
   ],
   "source": [
    "import struct\n",
    "\n",
    "def is_ascii(s):\n",
    "    return all(c < 128 or c == 0 for c in s)\n",
    "\n",
    "\n",
    "def get_ip(s):\n",
    "    m = re.match(\"^(?:(?:25[0-5]|2[0-4][0-9]|[01]?[0-9][0-9]?)\\.){3}(?:25[0-5]|2[0-4][0-9]|[01]?[0-9][0-9]?)$\", s)\n",
    "    if m:\n",
    "        return m.group()\n",
    "    return None\n",
    "\n",
    "# 8D 05 4C B1 50 00                       lea     eax, a777313388 ; \"77.73.133.88\"\n",
    "# 89 44 24 04                             mov     [esp+0A0h+a2], eax\n",
    "# C7 44 24 08 0C 00 00 00                 mov     [esp+0A0h+a3], 0Ch\n",
    "\n",
    "egg_1 = rb'\\x8D.(....)\\x89...\\xC7...(....)'\n",
    "\n",
    "strings = []\n",
    "\n",
    "c2_ip = None\n",
    "c2_port = None\n",
    "\n",
    "for m in re.finditer(egg_1, text_data):\n",
    "    str_rva = struct.unpack('<I', m.group(1))[0]\n",
    "    str_len = struct.unpack('<I', m.group(2))[0]\n",
    "    if str_rva < rdata_start or str_rva > rdata_end:\n",
    "        continue\n",
    "    if str_len < 2 or str_len > 100:\n",
    "        continue\n",
    "    tmp_str = pe.get_data(str_rva, str_len)\n",
    "    if is_ascii(tmp_str):\n",
    "        strings.append(tmp_str.decode('utf-8'))\n",
    "        ip = get_ip(tmp_str.decode('utf-8'))\n",
    "        if ip is not None:\n",
    "            c2_ip = ip\n",
    "            c2_port = struct.unpack('<I', text_data[m.end()+4: m.end() + 4 + 4])[0]\n",
    "\n",
    "print(c2_ip)\n",
    "print(c2_port)\n"
   ]
  },
  {
   "cell_type": "code",
   "execution_count": 35,
   "id": "51653049-634d-438c-a49b-3e9ef08f4dec",
   "metadata": {},
   "outputs": [
    {
     "name": "stdout",
     "output_type": "stream",
     "text": [
      "77.73.133.88\n"
     ]
    }
   ],
   "source": [
    "for s in strings:\n",
    "    m = re.match(\"^(?:(?:25[0-5]|2[0-4][0-9]|[01]?[0-9][0-9]?)\\.){3}(?:25[0-5]|2[0-4][0-9]|[01]?[0-9][0-9]?)$\", s)\n",
    "    if m:\n",
    "        print(m.group())"
   ]
  },
  {
   "cell_type": "markdown",
   "id": "a67b2146-7aef-4afd-9480-0ac8bb12c7dd",
   "metadata": {},
   "source": [
    "#### Static Strings\n",
    "These are located in the `.data` section as a struct with the following shape.\n",
    "```\n",
    "struct go_string{\n",
    "    char* str_buff;\n",
    "    size_t str_len;\n",
    "};\n",
    "```\n",
    "- get the virtual address bounds of the `.rdata` section to validate string refs\n",
    "- scan the `.data` section for the above structure (this will be gross)\n",
    "- for each potential struct found validate the strings\n"
   ]
  },
  {
   "cell_type": "code",
   "execution_count": null,
   "id": "29abc620-68a1-4f1d-99b7-ae53a015283f",
   "metadata": {},
   "outputs": [],
   "source": []
  },
  {
   "cell_type": "code",
   "execution_count": null,
   "id": "6f8739f7-c15d-448d-9eac-ef63f55871d3",
   "metadata": {},
   "outputs": [],
   "source": []
  }
 ],
 "metadata": {
  "kernelspec": {
   "display_name": "Python 3",
   "language": "python",
   "name": "python3"
  },
  "language_info": {
   "codemirror_mode": {
    "name": "ipython",
    "version": 3
   },
   "file_extension": ".py",
   "mimetype": "text/x-python",
   "name": "python",
   "nbconvert_exporter": "python",
   "pygments_lexer": "ipython3",
   "version": "3.9.5"
  }
 },
 "nbformat": 4,
 "nbformat_minor": 5
}
