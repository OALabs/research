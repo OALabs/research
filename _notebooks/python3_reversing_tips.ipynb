{
 "cells": [
  {
   "cell_type": "markdown",
   "id": "e82d9506-ccc9-45e8-91aa-9bc1bba93603",
   "metadata": {},
   "source": [
    "# Reversing Tips With Python3\n",
    "> Tips for reverse engineering with Python3\n",
    "\n",
    "- toc: true \n",
    "- badges: true\n",
    "- categories: [python,python3,tips]"
   ]
  },
  {
   "cell_type": "markdown",
   "id": "1b7af08d-c80c-4490-bc48-9b7ffc8a5c21",
   "metadata": {},
   "source": [
    "## Overview\n",
    "\n",
    "Several tips to level up your reverse engineering with Python3.\n",
    "\n",
    "## Tip 1 - Use Juptyper Notebooks and A Git Repo\n",
    "\n",
    "Remember to steal our .gitignore file to filter out the juptyper junk files.\n",
    "\n",
    "## Tip 2 - Remember Byte Strings Are Not Strings"
   ]
  },
  {
   "cell_type": "code",
   "execution_count": 1,
   "id": "6cd9cb13-4d49-4dae-965d-f6d953bd9a35",
   "metadata": {},
   "outputs": [
    {
     "name": "stdout",
     "output_type": "stream",
     "text": [
      "b'test'\n",
      "test\n"
     ]
    }
   ],
   "source": [
    "import binascii\n",
    "\n",
    "string_example = \"test\"\n",
    "byte_array_example = b\"test\"\n",
    "\n",
    "# Convert string into bytes\n",
    "print(string_example.encode('utf-8'))\n",
    "\n",
    "# Convert byte array into string\n",
    "print(byte_array_example.decode('utf-8'))"
   ]
  },
  {
   "cell_type": "markdown",
   "id": "7f1fcd75-2dc3-424c-8b1c-0333e08dcfbd",
   "metadata": {},
   "source": [
    "## Example for Tips 3-5"
   ]
  },
  {
   "cell_type": "code",
   "execution_count": 2,
   "id": "474c8510-3b4f-4e1e-a582-3e62863fa8af",
   "metadata": {},
   "outputs": [],
   "source": [
    "example_data = b'\\x02\\x00\\x00\\x00\\x00\\x04\\x00\\x00\\x00test\\x01\\x04\\x00\\x00\\x00t\\x00e\\x00s\\x00t\\x00'"
   ]
  },
  {
   "cell_type": "markdown",
   "id": "3f8e637c-3391-4e4b-bee0-db4b98ea61cf",
   "metadata": {
    "tags": []
   },
   "source": [
    "### Example Data Structure\n",
    "\n",
    "```\n",
    "struct strings{\n",
    "DWORD number_of_strings;\n",
    "string* string;\n",
    "}\n",
    "\n",
    "struct string{\n",
    "BOOL is_wide_string;\n",
    "DWORD string_length;\n",
    "chr* string;\n",
    "}\n",
    "```\n",
    "\n"
   ]
  },
  {
   "cell_type": "markdown",
   "id": "dd4f685f-68f9-4ff8-8984-4d9f1a24845c",
   "metadata": {},
   "source": [
    "## Tip 3 - Hex Encoding Binary Data"
   ]
  },
  {
   "cell_type": "code",
   "execution_count": 3,
   "id": "5a6374d2-6efa-40ed-bb7f-d0307577803b",
   "metadata": {},
   "outputs": [
    {
     "name": "stdout",
     "output_type": "stream",
     "text": [
      "This is hex encoded data: b'0200000000040000007465737401040000007400650073007400'\n"
     ]
    }
   ],
   "source": [
    "def unhex(hex_string):\n",
    "    import binascii\n",
    "    if type(hex_string) == str:\n",
    "        return binascii.unhexlify(hex_string.encode('utf-8'))\n",
    "    else:\n",
    "        return binascii.unhexlify(hex_string)\n",
    "\n",
    "    \n",
    "def tohex(data):\n",
    "    import binascii\n",
    "    if type(data) == str:\n",
    "        return binascii.hexlify(data.encode('utf-8'))\n",
    "    else:\n",
    "        return binascii.hexlify(data)\n",
    "\n",
    "print(\"This is hex encoded data: %r\" % tohex(example_data))"
   ]
  },
  {
   "cell_type": "markdown",
   "id": "c751e14b-9e1d-4a57-a512-525aa6889409",
   "metadata": {},
   "source": [
    "## Tip 4 - Use Struct To Convert Between Data and Types\n",
    "\n",
    "https://docs.python.org/3/library/struct.html\n"
   ]
  },
  {
   "cell_type": "code",
   "execution_count": 4,
   "id": "f2d956b1-c76d-422d-baf2-858cf7fa64bf",
   "metadata": {},
   "outputs": [
    {
     "name": "stdout",
     "output_type": "stream",
     "text": [
      "Number of strings: 2\n"
     ]
    }
   ],
   "source": [
    "import struct\n",
    "number_of_strings = struct.unpack('<I',example_data[:4])[0]\n",
    "print(\"Number of strings: %d\" % number_of_strings)"
   ]
  },
  {
   "cell_type": "markdown",
   "id": "94d77352-cc00-401f-94d4-22fdeb9e528c",
   "metadata": {
    "tags": []
   },
   "source": [
    "## Tip 5 - Use Custom Struct Class To Parse Binary Data"
   ]
  },
  {
   "cell_type": "code",
   "execution_count": 5,
   "id": "03bb5aa0-4b55-47dd-bfef-ab53754348ad",
   "metadata": {},
   "outputs": [
    {
     "name": "stdout",
     "output_type": "stream",
     "text": [
      "Example string data: b'\\x00\\x04\\x00\\x00\\x00test'\n",
      "Example is wide: False\n",
      "Example string length: 4\n",
      "Example string: test\n"
     ]
    }
   ],
   "source": [
    "import struct \n",
    "\n",
    "example_string = b'\\x00\\x04\\x00\\x00\\x00test'\n",
    "\n",
    "class EXAMPLE_STRING:\n",
    "    def __init__(self):\n",
    "        self.is_wide_string = False\n",
    "        self.string_length = 0\n",
    "        self.string = b''\n",
    "    def from_buffer_copy(self, data):\n",
    "        ptr = 0\n",
    "        self.is_wide_string = struct.unpack('?', data[ptr:ptr+1])[0]\n",
    "        ptr += 1\n",
    "        self.string_length = struct.unpack('<I', data[ptr:ptr+4])[0]\n",
    "        ptr += 4\n",
    "        if self.is_wide_string:\n",
    "            self.string = data[ptr:ptr+(self.string_length*2)].decode('utf-16le')\n",
    "            ptr += self.string_length*2\n",
    "        else:\n",
    "            self.string = data[ptr:ptr+self.string_length].decode('utf-8')\n",
    "            ptr += self.string_length\n",
    "    def pack(self):\n",
    "        data = b''\n",
    "        data += struct.pack('?', self.is_wide_string)\n",
    "        data += struct.pack('<I', self.string_length)\n",
    "        if self.is_wide_string:\n",
    "            data += self.string.encode('utf-16le')\n",
    "        else:\n",
    "            data += self.string.encode('utf-8')\n",
    "        return data\n",
    "\n",
    "print(\"Example string data: %r\" % example_string)\n",
    "es = EXAMPLE_STRING()\n",
    "es.from_buffer_copy(example_string)\n",
    "print(\"Example is wide: %s\" % es.is_wide_string)\n",
    "print(\"Example string length: %d\" % es.string_length)\n",
    "print(\"Example string: %s\" % es.string)\n",
    "        "
   ]
  },
  {
   "cell_type": "code",
   "execution_count": 6,
   "id": "33ec1ebb-e759-42e3-a2f7-f2c0c21bd6bc",
   "metadata": {
    "jupyter": {
     "source_hidden": true
    },
    "tags": []
   },
   "outputs": [
    {
     "name": "stdout",
     "output_type": "stream",
     "text": [
      "Example string data converted to wide: b'\\x01\\x04\\x00\\x00\\x00t\\x00e\\x00s\\x00t\\x00'\n"
     ]
    }
   ],
   "source": [
    "es.is_wide_string = True\n",
    "print(\"Example string data converted to wide: %r\" % es.pack())"
   ]
  },
  {
   "cell_type": "code",
   "execution_count": 7,
   "id": "5e18a129-3bd9-4027-9383-5d71cb9da66d",
   "metadata": {
    "jupyter": {
     "source_hidden": true
    },
    "tags": []
   },
   "outputs": [
    {
     "name": "stdout",
     "output_type": "stream",
     "text": [
      "Number of strings: 2\n",
      "First string is wide: False\n",
      "First string: test\n",
      "Second string is wide: True\n",
      "Second string: test\n"
     ]
    }
   ],
   "source": [
    "\n",
    "class EXAMPLE_STRINGS:\n",
    "    def __init__(self):\n",
    "        self.length = 0\n",
    "        self.strings = []\n",
    "    def from_buffer_copy(self, data):\n",
    "        ptr = 0\n",
    "        self.length = struct.unpack('<I', data[ptr:ptr+4])[0]\n",
    "        ptr += 4\n",
    "        for i in range(self.length):\n",
    "            tmp_string = EXAMPLE_STRING()\n",
    "            tmp_string.from_buffer_copy(data[ptr:])\n",
    "            ptr += len(tmp_string.pack())\n",
    "            self.strings.append(tmp_string)\n",
    "    def pack(self):\n",
    "        data = b''\n",
    "        data += struct.pack('<I', self.length)\n",
    "        for s in self.strings:\n",
    "            data += s.pack()\n",
    "        return data\n",
    "    \n",
    "es = EXAMPLE_STRINGS()\n",
    "es.from_buffer_copy(example_data)\n",
    "print(\"Number of strings: %d\" % es.length)\n",
    "print(\"First string is wide: %s\" % es.strings[0].is_wide_string)\n",
    "print(\"First string: %s\" % es.strings[0].string)\n",
    "print(\"Second string is wide: %s\" % es.strings[1].is_wide_string)\n",
    "print(\"Second string: %s\" % es.strings[1].string)"
   ]
  },
  {
   "cell_type": "markdown",
   "id": "c27d7c31-e522-4b00-aa91-9d263ac6c2f9",
   "metadata": {},
   "source": [
    "## Tip 6 - Parse Stream With BytesIO\n",
    "_without position pointer_\n",
    "\n",
    "https://docs.python.org/3/library/io.html#binary-i-o"
   ]
  },
  {
   "cell_type": "code",
   "execution_count": 8,
   "id": "bd957ae8-df7e-4da4-8367-8c6e546ca257",
   "metadata": {},
   "outputs": [
    {
     "name": "stdout",
     "output_type": "stream",
     "text": [
      "is_wide_string: False\n",
      "string_length: 4\n",
      "string: test\n",
      "\n",
      "is_wide_string: 0\n",
      "string_length: 4\n",
      "string: test\n"
     ]
    }
   ],
   "source": [
    "import io\n",
    "import struct\n",
    "\n",
    "example_string = b'\\x00\\x04\\x00\\x00\\x00test'\n",
    "bstream = io.BytesIO(example_string) # transform example_string in stream (like File)\n",
    "\n",
    "is_wide_string, *_ = struct.unpack('?', bstream.read(1))\n",
    "string_length, *_ = struct.unpack('<I', bstream.read(4))\n",
    "string_length = string_length*2 if is_wide_string else string_length\n",
    "strings = bstream.read(string_length).decode('utf-16le' if is_wide_string else 'utf-8')\n",
    "print(f'is_wide_string: {is_wide_string}')\n",
    "print(f'string_length: {string_length}')\n",
    "print(f'string: {strings}', end=\"\\n\\n\")\n",
    "\n",
    "# Tip 6.1 - Using lambda\n",
    "bstream.seek(0,0) # beginning of the stream\n",
    "read_byte = lambda bs: bs.read(1)[0]\n",
    "read_dword = lambda bs: struct.unpack(\"<I\", bs.read(4))[0]\n",
    "read_utf16le = lambda bs, s: bs.read(s).decode(\"utf-16le\")\n",
    "read_utf8 = lambda bs, s: bs.read(s).decode(\"utf-8\")\n",
    "print(f'is_wide_string: {read_byte(bstream)}')\n",
    "print(f'string_length: {read_dword(bstream)}')\n",
    "if is_wide_string:\n",
    "    print(f'string: {read_utf16le(bstream, string_length)}')\n",
    "else :\n",
    "    print(f'string: {read_utf8(bstream, string_length)}')\n",
    "    \n",
    "\n",
    "    "
   ]
  },
  {
   "cell_type": "markdown",
   "id": "55449543-ea48-42d2-a61a-8e932a98c7a8",
   "metadata": {},
   "source": [
    "## Tip 7 - Using Fundamental Data Types With ctypes\n",
    "_e.g., useful to reimplement C pseudo code algorithm in Python_\n",
    "\n",
    "Highly recommended to read ctypes doc for reverser https://docs.python.org/3/library/ctypes.html"
   ]
  },
  {
   "cell_type": "code",
   "execution_count": 9,
   "id": "5ca340b6-de26-43bd-ab63-6a3d2d636ea8",
   "metadata": {},
   "outputs": [
    {
     "name": "stdout",
     "output_type": "stream",
     "text": [
      "WRONG :\n",
      "DWORD = 0xffffffff\n",
      "DWORD+1 = 0x100000000 ; WRONG! DWORD size is 4 bytes\n",
      "DWORD = 0x0\n",
      "DWORD-1 = -0x1 ; HUM ?!\n",
      "\n",
      "GOOD :\n",
      "DWORD = 0xffffffff\n",
      "DWORD+1 = 0x0 ; GOOD!\n",
      "DWORD = 0x0\n",
      "DWORD-1 = 0xffffffff\n",
      "\n",
      "EAX = 0xaaaabbbb\n",
      "AX = 0xbbbb\n"
     ]
    }
   ],
   "source": [
    "print(\"WRONG :\")\n",
    "DWORD = 0xFFFFFFFF\n",
    "print(f\"DWORD = {hex(DWORD)}\")\n",
    "DWORD += 1\n",
    "print(f\"DWORD+1 = {hex(DWORD)} ; WRONG! DWORD size is 4 bytes\")\n",
    "DWORD = 0x0\n",
    "print(f\"DWORD = {hex(DWORD)}\")\n",
    "DWORD -= 1\n",
    "print(f\"DWORD-1 = {hex(DWORD)} ; HUM ?!\", end=\"\\n\\n\")\n",
    "\n",
    "import ctypes\n",
    "\n",
    "print(\"GOOD :\")\n",
    "DWORD = ctypes.c_uint32(0xFFFFFFFF)\n",
    "print(f\"DWORD = {hex(DWORD.value)}\")\n",
    "DWORD.value += 1\n",
    "print(f\"DWORD+1 = {hex(DWORD.value)} ; GOOD!\")\n",
    "DWORD = ctypes.c_uint32(0x0)\n",
    "print(f\"DWORD = {hex(DWORD.value)}\")\n",
    "DWORD.value -= 1\n",
    "print(f\"DWORD-1 = {hex(DWORD.value)}\", end=\"\\n\\n\")\n",
    "\n",
    "# CAST DATA\n",
    "EAX = ctypes.c_uint32(0xAAAABBBB)\n",
    "AX = ctypes.cast(ctypes.addressof(EAX), ctypes.POINTER(ctypes.c_uint16)) # we can cast\n",
    "print(\"EAX =\", hex(EAX.value))\n",
    "print(\"AX =\", hex(AX.contents.value))"
   ]
  },
  {
   "cell_type": "markdown",
   "id": "ceeb2e57-9425-4118-94f0-2fa8ccdf2bb1",
   "metadata": {},
   "source": [
    "## Tip 8 - Parse Binary Data Straight To Python Structure\n",
    "\n",
    "e.g, we are parsing UNICODE_STRING C structure (from WinAPI) :\n",
    "```\n",
    "typedef struct _UNICODE_STRING {\n",
    "  USHORT Length;\n",
    "  USHORT MaximumLength;\n",
    "  PWSTR  Buffer;\n",
    "} UNICODE_STRING, *PUNICODE_STRING;\n",
    "```"
   ]
  },
  {
   "cell_type": "code",
   "execution_count": 13,
   "id": "6f05a589-73e8-4e38-a696-97445039ad10",
   "metadata": {},
   "outputs": [
    {
     "name": "stdout",
     "output_type": "stream",
     "text": [
      "L:15 Max:17 Str:Hello the world\n"
     ]
    }
   ],
   "source": [
    "from ctypes import Structure\n",
    "from ctypes import wintypes\n",
    "import io\n",
    "\n",
    "class UNICODE_STRING(Structure):\n",
    "    _fields_ = [\n",
    "        ('Length', wintypes.USHORT),\n",
    "        ('MaximumLength', wintypes.USHORT),\n",
    "        ('Buffer', wintypes.WCHAR*1024) # No more 1024 wchar! If more => CRASH\n",
    "        # To keep the example more concise we are not manage the Buffer length\n",
    "    ]\n",
    "\n",
    "# UNICODE_STRING data extracted from memory/raw file\n",
    "data = b'\\x0F\\x00\\x11\\x00\\x48\\x00\\x65\\x00\\x6c\\x00\\x6c\\x00\\x6f\\x00\\x20\\x00\\x74\\x00\\x68\\x00\\x65\\x00\\x20\\x00\\x77\\x00\\x6f\\x00\\x72\\x00\\x6c\\x00\\x64\\x00\\x00\\x00\\x00\\x00'\n",
    "stream = io.BytesIO(data)\n",
    "    \n",
    "unicode_stru = UNICODE_STRING()\n",
    "stream.readinto(unicode_stru) # deserialization bin to struct\n",
    "print(f\"L:{unicode_stru.Length} Max:{unicode_stru.MaximumLength} Str:{unicode_stru.Buffer}\")"
   ]
  },
  {
   "cell_type": "markdown",
   "id": "0d1a2151-efad-4fb3-98d5-4718253d79ae",
   "metadata": {},
   "source": [
    "## Tip 9 - Call C Function from DLL\n",
    "_e.g., we want to analyze the return of GetLogicalDriveStringsW_\n",
    "```\n",
    "DWORD GetLogicalDriveStringsW(\n",
    "  DWORD  nBufferLength,\n",
    "  LPWSTR lpBuffer\n",
    ");\n",
    "```"
   ]
  },
  {
   "cell_type": "code",
   "execution_count": 12,
   "id": "982bc0e0-bb93-4dbc-b40f-ba4a9cbd69c6",
   "metadata": {},
   "outputs": [
    {
     "name": "stdout",
     "output_type": "stream",
     "text": [
      "raw: b'C\\x00:\\x00\\\\\\x00\\x00\\x00E\\x00:\\x00\\\\\\x00\\x00\\x00F\\x00:\\x00\\\\\\x00\\x00\\x00\\x00\\x00'\n",
      "C:\\\n",
      "E:\\\n",
      "F:\\\n",
      "\n",
      "\n"
     ]
    }
   ],
   "source": [
    "from ctypes import wintypes, windll, byref\n",
    "\n",
    "length = windll.kernel32.GetLogicalDriveStringsW(0,0) # total length required \n",
    "data_string = (wintypes.CHAR*(length*2))() # array of char to access in raw format\n",
    "windll.kernel32.GetLogicalDriveStringsW(length, byref(data_string)) # call api\n",
    "print(\"raw: \" + str(data_string.raw))\n",
    "for drive in data_string.raw.rsplit(b'\\x00\\x00'):\n",
    "    print(drive.decode(\"utf-16le\"))"
   ]
  }
 ],
 "metadata": {
  "kernelspec": {
   "display_name": "Python 3",
   "language": "python",
   "name": "python3"
  },
  "language_info": {
   "codemirror_mode": {
    "name": "ipython",
    "version": 3
   },
   "file_extension": ".py",
   "mimetype": "text/x-python",
   "name": "python",
   "nbconvert_exporter": "python",
   "pygments_lexer": "ipython3",
   "version": "3.8.9"
  }
 },
 "nbformat": 4,
 "nbformat_minor": 5
}
