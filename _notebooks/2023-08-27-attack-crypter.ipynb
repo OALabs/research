{
 "cells": [
  {
   "cell_type": "markdown",
   "id": "7697c16f-5071-476c-8c65-b6eb2a5cf1d4",
   "metadata": {},
   "source": [
    "# Attack Crypter\n",
    "> An open source travesty used to drop .NET stealers\n",
    "\n",
    "- toc: true \n",
    "- badges: true\n",
    "- categories: [attack crypter,downloader,dotnet,open source]"
   ]
  },
  {
   "cell_type": "markdown",
   "id": "45ff0fc5-ab9a-4f26-b968-c4899141d965",
   "metadata": {},
   "source": [
    "## Overview\n",
    "AttackCrypt is an open source \"crypter\" project that can be used to \"protect\" binaries and \"prevent\" detection by AV. In the words of the developer...\n",
    "> I don t know how much This will stay FUD but will be updating it always and adding New Injection and new Attacks to it\n",
    "\n",
    "This crypter has recently been used to \"protect\" VenomRAT and is actively in use in the wild.\n",
    "\n",
    "GitHub: [Theattacker-Crypter](https://github.com/TheNewAttacker64/Theattacker-Crypter)\n",
    "\n",
    "![](https://i.imgur.com/wLEkFW0.png)\n",
    "\n",
    "## Sample\n",
    "[11c38fc24bf7b29cd6e974670bc11d7f92af124d8b7edcd89482500f4de3d442](https://www.unpac.me/results/99994980-a37e-4c4e-bc23-4e62da9461fb/#/)\n",
    "\n",
    "## References \n",
    "- [Attacker-Crypter (v0.9): Unveiling a Powerful Tool for Evading Antivirus and Enhancing Malware Capabilities](https://www.cyfirma.com/outofband/attacker-crypter-v0-9-unveiling-a-powerful-tool-for-evading-antivirus-and-enhancing-malware-capabilities/)\n",
    "\n"
   ]
  },
  {
   "cell_type": "markdown",
   "id": "f680921f-2a3d-4d78-98d7-b9ac251d6eba",
   "metadata": {},
   "source": [
    "## Analysis\n",
    "\n",
    "The crypter uses a generated mutex to ensure only one version of the payload is installed, but this mutex is not random it is prepended with the string `attackercrypter` lol!\n",
    "\n",
    "The crypter also claims to have anti-vm checks which are optional... these are simply a *manufactor* check via WMI `Select * from Win32_ComputerSystem`.\n",
    "\n",
    "```c#\n",
    "if ((manufacturer == \"microsoft corporation\" && item[\"Model\"].ToString().ToUpperInvariant().Contains(\"VIRTUAL\"))\n",
    "                            || manufacturer.Contains(\"vmware\")\n",
    "                            || item[\"Model\"].ToString() == \"VirtualBox\")\n",
    "```\n",
    "\n",
    "### Payload Decryption\n",
    "\n",
    "**Spoiler alert this is not really a cryptor lol!** Instead of protecting the payload the tool converts it into encrypted data that is stored as a string. This string must then be uploaded to a \"drop site\" but the operator and then the \"drop site\" URL placed in the tool to generate the \"stub\". This \"stub\" is not a stub it is actually just a downloader that will fetch the payload, decrypt it, and load it.\n",
    "\n",
    "This is the opposite of what you would like in a crypter as the loader will actually look the same for every \"build\". Let's check in on the VT detection rate in a week: [11c38fc24bf7b29cd6e974670bc11d7f92af124d8b7edcd89482500f4de3d442](https://www.virustotal.com/gui/file/11c38fc24bf7b29cd6e974670bc11d7f92af124d8b7edcd89482500f4de3d442).\n",
    "\n",
    "In this sample the drop site is `http[:]//paste.sensio[.]no/ReplicaSerena`\n",
    "\n",
    "An example of the \"encrypted\" data follows.\n",
    "\n",
    "```\n",
    "'Y','A','K','F','E','x','y','o','2','y','v','U','B','Z','N','C','q','R','j','O','l','Y'\n",
    "```\n",
    "\n",
    "#### Decryption\n",
    "\n",
    "[Cyber Chef link](https://gchq.github.io/CyberChef/#recipe=Find_/_Replace(%7B'option':'Simple%20string','string':'%5C''%7D,'',true,false,true,false)Find_/_Replace(%7B'option':'Simple%20string','string':','%7D,'',true,false,true,false)Reverse('Character')From_Base64('A-Za-z0-9%2B/%3D',true,false)AES_Decrypt(%7B'option':'Base64','string':'cT0j6Iw9VylE9o8lcfS4/Bcb8loeSeBirgvin5wpiwg%3D'%7D,%7B'option':'Base64','string':'0SRVQvZDd6l4hBTnn%2BE0TQ%3D%3D'%7D,'CBC','Raw','Raw',%7B'option':'Hex','string':''%7D,%7B'option':'Hex','string':''%7D))\n",
    "\n",
    "\n",
    "- Remove `,` and `'` from the string (deobfuscate)\n",
    "- Reverse the string\n",
    "- Base64 decode\n",
    "- Decrypt with hard coded key and IV (AES CBC)\n",
    "  - The key and IV are base64 encoded \n",
    "\n",
    "In this sample the Key is `cT0j6Iw9VylE9o8lcfS4/Bcb8loeSeBirgvin5wpiwg=` and the IV is `0SRVQvZDd6l4hBTnn+E0TQ==`."
   ]
  },
  {
   "cell_type": "markdown",
   "id": "a89ca8a3-989e-4773-8225-a2d80f34bd82",
   "metadata": {},
   "source": [
    "## Yara Rule\n",
    "\n",
    "```c\n",
    "rule AttackCrypter {\n",
    "    strings:\n",
    "    \n",
    "        $s1 = \"attackercrypter\" wide\n",
    "        $s2 = \"$FOLDER\" wide\n",
    "        $s3 = \"$FNAME.exe\" wide\n",
    "        $s4 = \"$service\" wide\n",
    "        $s5 = \"$serverpassword\" wide\n",
    "        $s6 = \"$bottoken\" wide\n",
    "        $s7 = \"$chatid\" wide\n",
    "        $s8 = \"#NATIVEINJECTPATH\" wide\n",
    "        $s9 = \"#DOTNETINJECTPATH\" wide\n",
    "        $s10 = \"https://api.telegram.org/bot\" wide\n",
    "        $s11 = \"Don t use on vm\" wide\n",
    "            \n",
    "        $m1 = \"FOKFILE\" ascii\n",
    "        $m2 = \"FOKSTRING\" ascii\n",
    "        $m3 = \"NIKBINARY32bit\" ascii\n",
    "        $m4 = \"NIKFELSTART\" ascii\n",
    "            \n",
    "    condition:\n",
    "        5 of ($s*) and\n",
    "        any of ($m*)\n",
    "}\n",
    "```\n"
   ]
  },
  {
   "cell_type": "code",
   "execution_count": null,
   "id": "838b0142-0bef-4cbc-b100-9a30b68e8d92",
   "metadata": {},
   "outputs": [],
   "source": []
  }
 ],
 "metadata": {
  "kernelspec": {
   "display_name": "Python 3",
   "language": "python",
   "name": "python3"
  },
  "language_info": {
   "codemirror_mode": {
    "name": "ipython",
    "version": 3
   },
   "file_extension": ".py",
   "mimetype": "text/x-python",
   "name": "python",
   "nbconvert_exporter": "python",
   "pygments_lexer": "ipython3",
   "version": "3.9.5"
  }
 },
 "nbformat": 4,
 "nbformat_minor": 5
}
