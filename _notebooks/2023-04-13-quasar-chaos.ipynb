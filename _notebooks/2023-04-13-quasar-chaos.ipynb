{
 "cells": [
  {
   "cell_type": "markdown",
   "id": "32353fa6-6311-459f-96ee-7f31d6edfa84",
   "metadata": {},
   "source": [
    "# Quasar Chaos\n",
    "> Open Source Ransomware Meets Open Source RAT\n",
    "\n",
    "- toc: true \n",
    "- badges: true\n",
    "- categories: [Quasar,Chaos,RAT,Ransomware]\n"
   ]
  },
  {
   "cell_type": "markdown",
   "id": "3164276f-ff44-4120-9054-282a1a33493a",
   "metadata": {},
   "source": [
    "![](https://i.imgur.com/3VL2tpa.png)"
   ]
  },
  {
   "cell_type": "markdown",
   "id": "a4326c6f-e720-45fb-b779-d66ae32eef1b",
   "metadata": {},
   "source": [
    "## Overview\n",
    "This sample appears to be a Chaos Ransomware builder but it is actually bound with Quasar RAT!!\n",
    "\n",
    "- Binder: [Celesty Binder](https://github.com/cymilad/Celesty_Binder)\n",
    "- PDB path: `C:\\Users\\DarkCoderSc\\Desktop\\Celesty Binder\\Stub\\STATIC\\Stub.pdb`\n",
    "- Chaos Ransomware [malpedia](https://malpedia.caad.fkie.fraunhofer.de/details/win.chaos)\n",
    "\n",
    "\n",
    "\n",
    "## Samples\n",
    "- `141056b82cd0a20495822cd2bcd5fae5c989c6d24dac5a5e3c3916f1b406bdb9` [UnpacMe](https://www.unpac.me/results/f56d1ef0-daf5-4da7-b8cb-b2438fe30379#/)"
   ]
  },
  {
   "cell_type": "markdown",
   "id": "6447e821-4e87-4736-8ddb-358c3739d669",
   "metadata": {},
   "source": [
    "## Chaos Builder\n",
    "Chaos Ransomware builder is an open source project that can be found on GitHub [ChaosRansomwareBuilderVersion4](https://github.com/GlebYoutuber/ChaosRansomwareBuilderVersion4). It appears that this project was compiled then the Celesty Binder was used to bind the ransomware builder with Quasar RAT. Both the builder and the RAT can be found in the resources section of the binder exe.\n",
    "\n",
    "The extracted builder is a clean build and will work on its own `f2665f89ba53abd3deb81988c0d5194992214053e77fc89b98b64a31a7504d77`\n",
    "\n",
    "\n",
    "## Quasar RAT\n",
    "Quasar is ostensibly a \"remote administration tool\" (RAT) that is open source and available on GitHub [Quasar](https://github.com/quasar/Quasar). Looking through the source this appears to be developed for the purpose of unauthorized remote access to victims and includes a [configuration](https://github.com/quasar/Quasar/blob/master/Quasar.Client/Config/Settings.cs) that could turn this into a malicious RAT. \n",
    "\n",
    "The extracted RAT `d8b36742b4c5cf9ce5ce58ac859c4162fb127298dfd3f15fa4f101c0cb878bda`\n",
    "\n",
    "### Analysis \n",
    "\n",
    "The strings in the RAT (config) are encrypted using Base64 and AES CBC. "
   ]
  },
  {
   "cell_type": "code",
   "execution_count": 5,
   "id": "1a8eff35-b1d5-4949-a304-72606c4a9f7e",
   "metadata": {},
   "outputs": [
    {
     "name": "stdout",
     "output_type": "stream",
     "text": [
      "b'1.3.0.0\\t\\t\\t\\t\\t\\t\\t\\t\\t'\n",
      "b'66.63.167.164:55640;\\x0c\\x0c\\x0c\\x0c\\x0c\\x0c\\x0c\\x0c\\x0c\\x0c\\x0c\\x0c'\n",
      "b'\\xf6H\\xcf\\xc9\\x87`\\x96\\xb7N\\xe7O\\xf1i\\x8d\\xc1\\xf7'\n",
      "b'SubDir\\n\\n\\n\\n\\n\\n\\n\\n\\n\\n'\n",
      "b'Client.exe\\x06\\x06\\x06\\x06\\x06\\x06'\n",
      "b'QSR_MUTEX_M6ajmD3hhoJo7CTsvN\\x04\\x04\\x04\\x04'\n",
      "b'Quasar Client Startup\\x0b\\x0b\\x0b\\x0b\\x0b\\x0b\\x0b\\x0b\\x0b\\x0b\\x0b'\n",
      "b'Ransomware\\x06\\x06\\x06\\x06\\x06\\x06'\n",
      "b'Logs\\x0c\\x0c\\x0c\\x0c\\x0c\\x0c\\x0c\\x0c\\x0c\\x0c\\x0c\\x0c'\n"
     ]
    }
   ],
   "source": [
    "import base64\n",
    "import malduck\n",
    "from Crypto.Protocol.KDF import PBKDF2\n",
    "\n",
    "\n",
    "\n",
    "\n",
    "string_data = 'muoBJw7vz107HYcI4tyRBz0XVW2kCA367J52yCDjuHUkVGWPKkpXUgV5Q1/s4HNhSAMJDhTJwYIa3MxqdMkg7A=='\n",
    "\n",
    "string_data_b64 = base64.b64decode(string_data)\n",
    "string_data_b64 = string_data_b64[32:]\n",
    "iv = string_data_b64[:16]\n",
    "enc_data = string_data_b64[16:]\n",
    "\n",
    "key_data = \"SM73jcn259KtoJ4uPciZ\"\n",
    "\n",
    "iterations = 50000\n",
    "salt = bytes([191,235,30,86,251,205,151,59,178,25,2,36,48,165,120,67,0,61,86,68,210,30,98,185,212,241,128,231,230,195,57,65])\n",
    "\n",
    "\n",
    "key = PBKDF2(key_data, salt, count=iterations)\n",
    "\n",
    "\n",
    "strings = [\n",
    "\"3DaXS6MYqYL9Q/3WF/cPdbdoy2NggCqoSmasPYwzkPD389j4IoSZZVQHHz196cPEy2h4VSsjy7se22/++XH89w==\",\n",
    "\"U2MkYAPUljFBQRO9iIkRZVGmxS2mOB+3klWr1xcKn3OqiosSod4C8iKk+GmogWRVZ6xUFktvHtwFnyOxg+ZSLPjbO+3+OdrVI8o+NK7UCZA=\",\n",
    "\"1WvgEMPjdwfqIMeM9MclyQ==\",\n",
    "\"NcFtjbDOcsw7Evd3coMC0y4koy/SRZGydhNmno81ZOWOvdfg7sv0Cj5ad2ROUfX4QMscAIjYJdjrrs41+qcQwg==\",\n",
    "\"NX2L76Nud+1o8CF2fRs8qiHu4v2wb0E701jiqZNY+WP0X+oOZUuIpza8zsipPF550Uz4XlYTbeon9njxoQ2MBA==\",\n",
    "\"DQSIoMapurAvRyZWC74v/c0E7zcV+8LgDPpOmChR453N+Cj+6Fwipe5tbYPbhkpNhwf9hEy/78hh8qB6c1B3nw==\",\n",
    "\"p56HD6/EQvRGDzCuDAjko6aJqVPRc/Mug3q2bslOWAZN8H2n4vy8m3x0RtwAUXh5C6kG15y+qrvsfs2s4qJHQBdKg5BmNrg62YncQ9tG5TE=\",\n",
    "\"xf05S4o+UGg6gPS2slPSroORS4DLfYXnHiWz6VyhTQOpNKzIHxhEvDSTlPMFUIek3Wi3lCxroWOHJr9WeGvvHe6fxXcVPTWnPs4YiYTbmfs=\",\n",
    "\"muoBJw7vz107HYcI4tyRBz0XVW2kCA367J52yCDjuHUkVGWPKkpXUgV5Q1/s4HNhSAMJDhTJwYIa3MxqdMkg7A==\",\n",
    "\"B0T3cryizrl4VOcnw40TDxor8c5ycs9chw7RjsLxM2h+rS/BlcPa2ZW4po/PpJXob3byyEj4GOuWUPn+M4Shcg==\"]\n",
    "\n",
    "\n",
    "for s in strings:\n",
    "    try:\n",
    "        string_data_b64 = base64.b64decode(s)\n",
    "        string_data_b64 = string_data_b64[32:]\n",
    "        iv = string_data_b64[:16]\n",
    "        enc_data = string_data_b64[16:]\n",
    "        out = malduck.aes.cbc.decrypt(key, iv, enc_data)\n",
    "        print(out)\n",
    "    except:\n",
    "        pass\n",
    "\n"
   ]
  },
  {
   "cell_type": "code",
   "execution_count": null,
   "id": "5c0bee7f-4d2b-4492-a40a-47b50865fe27",
   "metadata": {},
   "outputs": [],
   "source": []
  }
 ],
 "metadata": {
  "kernelspec": {
   "display_name": "Python 3",
   "language": "python",
   "name": "python3"
  },
  "language_info": {
   "codemirror_mode": {
    "name": "ipython",
    "version": 3
   },
   "file_extension": ".py",
   "mimetype": "text/x-python",
   "name": "python",
   "nbconvert_exporter": "python",
   "pygments_lexer": "ipython3",
   "version": "3.9.5"
  }
 },
 "nbformat": 4,
 "nbformat_minor": 5
}
