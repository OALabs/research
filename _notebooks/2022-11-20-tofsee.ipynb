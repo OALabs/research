{
 "cells": [
  {
   "cell_type": "markdown",
   "id": "eed34f28-3f54-45e5-87f0-bb25ea49ae09",
   "metadata": {},
   "source": [
    "# Tofsee\n",
    "> Taking a look at Tofsee \n",
    "\n",
    "- toc: true \n",
    "- badges: true\n",
    "- categories: [tofsee,cpp,config]\n"
   ]
  },
  {
   "cell_type": "markdown",
   "id": "753d3003-6f3c-4460-9a40-5c8587f00430",
   "metadata": {},
   "source": [
    "## Overview\n",
    "\n",
    "### Samples\n",
    "`96baba74a907890b995f23c7db21568f7bfb5dbf417ed90ca311482b99702b72` [malshare](https://malshare.com/sample.php?action=detail&hash=96baba74a907890b995f23c7db21568f7bfb5dbf417ed90ca311482b99702b72)\n",
    "\n",
    "### References\n",
    "- [Malpedia refs](https://malpedia.caad.fkie.fraunhofer.de/details/win.tofsee)\n",
    "- [Tofsee – modular spambot](https://www.cert.pl/en/posts/2016/09/tofsee-en/)\n"
   ]
  },
  {
   "cell_type": "markdown",
   "id": "03ba8a8b-63ee-42ff-b079-c7f10c39c7a3",
   "metadata": {},
   "source": [
    "## Analysis\n",
    "\n",
    "According to CERTPL (2016) [ref](https://www.cert.pl/en/posts/2016/09/tofsee-en/)\n",
    "> The C2 IP address list is hardcoded in the binary in an encrypted form. The algorithm used for obfuscation is very simple – it XORs the message with the hardcoded key. Data decrypts to three IP+port pairs – at least in the analyzed sample, the port was equal to 443 for all of them. The probable reason is to conceal communication by using port dedicated for SSL traffic.\n",
    "\n",
    "### Decrypt Strings"
   ]
  },
  {
   "cell_type": "code",
   "execution_count": 4,
   "id": "e08a91a7-9cca-4d27-9faa-e51fd33d5202",
   "metadata": {},
   "outputs": [
    {
     "name": "stdout",
     "output_type": "stream",
     "text": [
      "b'svchost.exe\\x00'\n"
     ]
    }
   ],
   "source": [
    "data = bytes.fromhex('97db17556bbee0734195d17d')\n",
    "\n",
    "out = []\n",
    "key_xor = 0xE4\n",
    "key_add = 0xc8\n",
    "\n",
    "\n",
    "for i in range(len(data)):\n",
    "    out.append(key_xor ^ data[i])\n",
    "    if bool(i%2):\n",
    "        key_xor = (key_xor + key_add - 1) & 0xff\n",
    "    else:\n",
    "        key_xor = (key_xor + key_add + 1) & 0xff\n",
    "\n",
    "print(bytes(out))\n",
    "\n",
    "\n",
    "    \n",
    "    "
   ]
  },
  {
   "cell_type": "code",
   "execution_count": 7,
   "id": "4eb2276a-86af-4b6c-ae48-bb539834bf09",
   "metadata": {},
   "outputs": [
    {
     "name": "stdout",
     "output_type": "stream",
     "text": [
      "b'svchost.exe\\x00'\n"
     ]
    }
   ],
   "source": [
    "out = []\n",
    "key_xor = 0xE4\n",
    "key_add = 0xc8\n",
    "flip = True\n",
    "\n",
    "for c in data:\n",
    "    out.append(c ^ key_xor)\n",
    "    if flip:\n",
    "        key_xor = (key_xor + key_add + 1) & 0xff\n",
    "    else:\n",
    "        key_xor = (key_xor + key_add - 1) & 0xff\n",
    "    flip = not flip\n",
    "\n",
    "print(bytes(out))"
   ]
  },
  {
   "cell_type": "code",
   "execution_count": 10,
   "id": "0a9c6433-8bff-4c42-9dba-2b4cac8d8847",
   "metadata": {},
   "outputs": [
    {
     "data": {
      "text/plain": [
       "b'svchost.exe\\x00'"
      ]
     },
     "execution_count": 10,
     "metadata": {},
     "output_type": "execute_result"
    }
   ],
   "source": [
    "def decrypt(data,key_xor,key_add):\n",
    "    out = []\n",
    "    flip = True\n",
    "\n",
    "    for c in data:\n",
    "        out.append(c ^ key_xor)\n",
    "        if flip:\n",
    "            key_xor = (key_xor + key_add + 1) & 0xff\n",
    "        else:\n",
    "            key_xor = (key_xor + key_add - 1) & 0xff\n",
    "        flip = not flip\n",
    "    \n",
    "    return bytes(out)\n",
    "\n",
    "\n",
    "decrypt(bytes.fromhex('97db17556bbee0734195d17d'), 0xE4, 0xc8)"
   ]
  },
  {
   "cell_type": "markdown",
   "id": "a6d60dbc-025e-40e1-ba85-b4c997d5a6c5",
   "metadata": {},
   "source": [
    "### Locate Encrypted Strings\n",
    "\n",
    "\n",
    "```\n",
    "68 C8 00 00 00                          push    0C8h ; 'È'\n",
    "68 E4 00 00 00                          push    0E4h ; 'ä'\n",
    "6A 2E                                   push    2Eh ; '.'   - size\n",
    "68 AC 06 41 00                          push    offset byte_4106AC\n",
    "BF F8 22 41 00                          mov     edi, offset byte_4122F8\n",
    "57                                      push    edi\n",
    "E8 EE A3 FF FF                          call    mw_decrypt\n",
    "```\n",
    "```\n",
    "68 C8 00 00 00                          push    0C8h ; 'È'\n",
    "68 E4 00 00 00                          push    0E4h ; 'ä'\n",
    " 6A 09                                   push    9  - size\n",
    "68 88 07 41 00                          push    offset byte_410788\n",
    "BF F8 22 41 00                          mov     edi, offset byte_4122F8\n",
    "57                                      push    edi\n",
    " E8 66 95 FF FF                          call    mw_decrypt\n",
    "```\n",
    "\n",
    "```\n",
    "57                                      push    edi\n",
    "56                                      push    esi\n",
    "6A 17                                   push    17h - size\n",
    "68 80 10 41 00                          push    offset byte_411080\n",
    "55                                      push    ebp\n",
    "E8 0C 49 FF FF                          call    mw_decrypt\n",
    "```\n",
    "\n"
   ]
  },
  {
   "cell_type": "code",
   "execution_count": 37,
   "id": "63aa6c51-b2b2-4c92-b431-c02f241bfdd4",
   "metadata": {},
   "outputs": [],
   "source": [
    "import pefile\n",
    "import re\n",
    "import struct\n",
    "\n",
    "def is_ascii(s):\n",
    "    return all(c < 128 or c == 0 for c in s)\n",
    "\n",
    "file_data = open('/tmp/toffsee.bin','rb').read()\n",
    "pe = pefile.PE(data=file_data)"
   ]
  },
  {
   "cell_type": "code",
   "execution_count": 28,
   "id": "0b0b7c44-d7b0-44eb-9d97-446a4a4b4abd",
   "metadata": {},
   "outputs": [
    {
     "name": "stdout",
     "output_type": "stream",
     "text": [
      "rdata_vstart: 0x410000\n",
      "rdata_vend: 0x411e9a\n"
     ]
    }
   ],
   "source": [
    "\n",
    "rdata_vstart = None\n",
    "rdata_vend = None\n",
    "\n",
    "pe_base = pe.OPTIONAL_HEADER.ImageBase\n",
    "\n",
    "for s in pe.sections:\n",
    "    if s.Name.startswith(b'.rdata'):\n",
    "        rdata_vstart =  s.VirtualAddress + pe_base\n",
    "        rdata_vend = rdata_vstart + s.Misc_VirtualSize \n",
    "\n",
    "        \n",
    "assert rdata_vstart is not None\n",
    "print(f\"rdata_vstart: {hex(rdata_vstart)}\")\n",
    "print(f\"rdata_vend: {hex(rdata_vend)}\")\n",
    "\n",
    "\n",
    "for s in pe.sections:\n",
    "    if s.Name.startswith(b'.rdata'):\n",
    "        rdata_vstart =  s.VirtualAddress + pe_base\n",
    "        rdata_vend = rdata_vstart + s.Misc_VirtualSize "
   ]
  },
  {
   "cell_type": "code",
   "execution_count": 20,
   "id": "81c68092-6a04-49b1-a085-696752994726",
   "metadata": {},
   "outputs": [
    {
     "name": "stdout",
     "output_type": "stream",
     "text": [
      "xor: 0xe4 add:0xc8\n"
     ]
    }
   ],
   "source": [
    "egg_string_push_loose = rb'\\x6A(.)\\x68(....)(.){1,6}\\xe8'\n",
    "egg_string_push_tight = rb'\\x68(....)\\x68(....)\\x6A(.)\\x68(....)(.){1,6}\\xe8'\n",
    "\n",
    "key_adds = []\n",
    "key_xors = []\n",
    "\n",
    "for m in re.finditer(egg_string_push_tight,  file_data):\n",
    "    key_adds.append(struct.unpack('<I',m.group(1))[0])\n",
    "    key_xors.append(struct.unpack('<I',m.group(2))[0])\n",
    "\n",
    "key_xor = max(set(key_xors), key = key_xors.count)\n",
    "key_add = max(set(key_adds), key = key_adds.count)\n",
    "\n",
    "print(f\"xor: {hex(key_xor)} add:{hex(key_add)}\")"
   ]
  },
  {
   "cell_type": "code",
   "execution_count": 38,
   "id": "a5109c44-56d9-4ee6-a31e-e705390ad52f",
   "metadata": {},
   "outputs": [
    {
     "name": "stdout",
     "output_type": "stream",
     "text": [
      "b'c:\\\\Windows\\x00'\n",
      "b'\\\\system32\\\\\\x00'\n",
      "b'SOFTWARE\\\\Microsoft\\\\Windows\\\\CurrentVersion\\\\Run\\x00'\n",
      "b'MSConfig\\x00'\n",
      "b' /r\\x00'\n",
      "b'.exe\\x00'\n",
      "b'SYSTEM\\\\CurrentControlSet\\\\services\\x00'\n",
      "b'SYSTEM\\\\CurrentControlSet\\\\services\\x00'\n",
      "b'SYSTEM\\\\CurrentControlSet\\\\services\\x00'\n",
      "b'SOFTWARE\\\\Microsoft\\\\Windows\\\\CurrentVersion\\\\Run\\x00'\n",
      "b'SOFTWARE\\\\Microsoft\\\\Windows\\\\CurrentVersion\\\\Run\\x00'\n",
      "b'SOFTWARE\\\\Microsoft\\\\Windows\\\\CurrentVersion\\\\Run\\x00'\n",
      "b'.exe\\x00'\n",
      "b'qazwsxed\\x00'\n",
      "b'%s%i%i%i%i.bat\\x00'\n",
      "b'@echo off\\r\\n:next_try\\r\\ndel \"%s\">nul\\r\\nif exist \"%s\" (\\r\\nping 127.0.0.1 >nul\\r\\ngoto next_try\\r\\n)\\r\\ndel %%0\\r\\n\\x00'\n",
      "b'cmd /C move /Y \"%s\" %s\\r\\nsc config %s binPath= \"%s%s /d\\\\\"%s\\\\\"\"\\r\\nsc start %s\\r\\n\\x00'\n",
      "b'svchost.exe\\x00'\n",
      "b'ConsentPromptBehaviorAdmin\\x00'\n",
      "b'PromptOnSecureDesktop\\x00'\n",
      "b'SOFTWARE\\\\Microsoft\\\\Windows\\\\CurrentVersion\\\\Run\\x00'\n",
      "b'MSConfig\\x00'\n",
      "b'.exe\\x00'\n",
      "b'SOFTWARE\\\\Microsoft\\\\Windows\\\\CurrentVersion\\\\Run\\x00'\n",
      "b'.exe\\x00'\n",
      "b'\"%s\" /u\"%s\"\\x00'\n",
      "b'.exe\\x00'\n",
      "b'ver=%d lid=%d\\nwin=%X/%d sid=%s\\nrep=%s\\n\\x00'\n",
      "b':.repos\\x00'\n",
      "b'\\\\Local Settings:.repos\\x00'\n",
      "b'\\\\Local Settings\\\\Application Data\\\\Microsoft\\\\Windows\\\\UsrClass.dat.repos\\x00'\n",
      "b'\\\\wincookie.repos\\x00'\n",
      "b'TMP\\x00'\n",
      "b'Config\\x00'\n",
      "b'Control Panel\\\\Buses\\x00'\n",
      "b'Config\\x00'\n",
      "b'SOFTWARE\\\\Microsoft\\\\Buses\\x00'\n",
      "b'Config\\x00'\n",
      "b'Control Panel\\\\Buses\\x00'\n",
      "b'Config\\x00'\n",
      "b'SOFTWARE\\\\Microsoft\\\\Buses\\x00'\n"
     ]
    }
   ],
   "source": [
    "enc_strings = []\n",
    "\n",
    "for m in re.finditer(egg_string_push_loose, file_data):\n",
    "    str_len = struct.unpack('B', m.group(1))[0]\n",
    "    str_vaddr = struct.unpack('<I', m.group(2))[0]\n",
    "    if rdata_vstart <= str_vaddr <= rdata_vend:\n",
    "        enc_strings.append(pe.get_data(str_vaddr - pe_base, str_len))\n",
    "\n",
    "        \n",
    "strings = []\n",
    "for e in enc_strings:\n",
    "    tmp_str = decrypt(e, key_xor, key_add)\n",
    "    if is_ascii(tmp_str):\n",
    "        print(tmp_str)\n",
    "        strings.append(tmp_str)"
   ]
  },
  {
   "cell_type": "code",
   "execution_count": 39,
   "id": "c3dbc6bd-8e74-4212-b385-aa96c5b0d3b5",
   "metadata": {},
   "outputs": [
    {
     "data": {
      "text/plain": [
       "b'svartalfheim.top\\x00\\x00\\x00\\x00\\x00\\x00\\x00\\x00\\x00\\x00\\x00\\x00\\x00\\x00\\x00\\x00\\x00\\x00\\x00\\x00\\x00\\x00\\x00\\x00\\x00\\x00\\x00\\x00\\x00\\x00\\x00\\x00\\x00\\x00\\x00\\x00\\x00\\x00\\x00\\x00\\x00\\x00\\x00\\x00\\x00\\x00\\x00\\x00_\\xact=\\x05CV]l\\x87\\x11\\x8cpD\\x17Gx\\x04\\x9ci\\x19)9)\\x19\\xe9y\\xe9\\x19)9)\\x19i\\xf9i\\x19)9)\\x19\\xe9y\\xe9\\x19)9)\\x19i\\xf9i\\x19)9)\\x19\\xe9y\\xe9\\x19)9)\\x19i\\xf9i\\x19v'"
      ]
     },
     "execution_count": 39,
     "metadata": {},
     "output_type": "execute_result"
    }
   ],
   "source": [
    "decrypt(bytes.fromhex('97db154f70acf83b4c88dd106a79bbed642df4bd844d14dda46d34fdc48d541de4ad743d04cd945d24edb47d440dd49d642df4bd844d14dda46d34fdc48d541dbb010000018ec200486aa5f13449c3da1c2968d49d642df4bd844d14dda46d34fdc48d541de4ad743d04cd945d24edb47d440dd49d642df4bd844d14dda46d34fdc48d541dbb'),0xe4,0xc8 )"
   ]
  },
  {
   "cell_type": "markdown",
   "id": "b69e3f25-e35a-4351-8d7c-63cf133b1324",
   "metadata": {},
   "source": [
    "**TODO:** The C2 is stored in the .data section not the .rdata so we need to create a second regex to find this specific encrypted \"string\". The following is an example.\n",
    "\n",
    "```\n",
    "56                                      push    esi\n",
    "57                                      push    edi\n",
    "6A 02                                   push    2\n",
    "BE 59 20 41 00                          mov     esi, offset unk_412059\n",
    "5F                                      pop     edi\n",
    "68 C8 00 00 00                          push    0C8h ; 'È'\n",
    "68 E4 00 00 00                          push    0E4h ; 'ä'\n",
    "6A 40                                   push    40h ; '@'\n",
    "56                                      push    esi\n",
    "56                                      push    esi\n",
    "E8 39 60 FF FF                          call    mw_decrypt\n",
    "```"
   ]
  },
  {
   "cell_type": "code",
   "execution_count": null,
   "id": "fbd32305-6770-41a9-b82f-193f5db55c20",
   "metadata": {},
   "outputs": [],
   "source": []
  }
 ],
 "metadata": {
  "kernelspec": {
   "display_name": "Python 3",
   "language": "python",
   "name": "python3"
  },
  "language_info": {
   "codemirror_mode": {
    "name": "ipython",
    "version": 3
   },
   "file_extension": ".py",
   "mimetype": "text/x-python",
   "name": "python",
   "nbconvert_exporter": "python",
   "pygments_lexer": "ipython3",
   "version": "3.9.5"
  }
 },
 "nbformat": 4,
 "nbformat_minor": 5
}
