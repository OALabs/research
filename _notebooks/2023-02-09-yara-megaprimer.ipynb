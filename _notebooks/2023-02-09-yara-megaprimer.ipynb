{
 "cells": [
  {
   "cell_type": "markdown",
   "id": "52d20cf5-153c-466a-ae51-ca18f03baf19",
   "metadata": {},
   "source": [
    "# Yara Megaprimer\n",
    "> What is Yara and how is it used\n",
    "\n",
    "- toc: true \n",
    "- badges: true\n",
    "- categories: [yara,tutorial]\n"
   ]
  },
  {
   "cell_type": "markdown",
   "id": "99ef93c6-a912-4a18-856e-2eb5937f710d",
   "metadata": {},
   "source": [
    "## Overview\n",
    "\n",
    "Yara rule is basically just a set of rules used to match some features in a file (binary). The Yara [scanning tool](https://github.com/virustotal/yara) can then take these rules and scan a set of files, identifying files that match the rule.\n",
    "\n",
    "According to [wikipedia](https://en.wikipedia.org/wiki/YARA)\n",
    "> It provides a rule-based approach to create descriptions of malware families based on textual or binary patterns. A description is essentially a YARA rule name, where these rules consist of sets of strings and a boolean expression.\n",
    "\n",
    "### Rule Syntax Overview\n",
    "An example rule from the [Yara GitHub](https://github.com/virustotal/yara) shows us that there are three main components to a rule; the `meta` section, the [`strings`](https://yara.readthedocs.io/en/stable/writingrules.html#strings) section, and the [`condition`](https://yara.readthedocs.io/en/stable/writingrules.html#conditions). \n",
    "\n",
    "\n",
    "```c\n",
    "rule silent_banker : banker\n",
    "{\n",
    "    meta:\n",
    "        description = \"This is just an example\"\n",
    "        threat_level = 3\n",
    "        in_the_wild = true\n",
    "\n",
    "    strings:\n",
    "        $a = {6A 40 68 00 30 00 00 6A 14 8D 91}\n",
    "        $b = {8D 4D B0 2B C1 83 C0 27 99 6A 4E 59 F7 F9}\n",
    "        $c = \"UVODFRYSIHLNWPEJXQZAKCBGMT\"\n",
    "\n",
    "    condition:\n",
    "        $a or $b or $c\n",
    "}\n",
    "```\n",
    "\n"
   ]
  },
  {
   "cell_type": "markdown",
   "id": "dcd0a6b6-10fd-4971-a80a-f5dd388486d9",
   "metadata": {},
   "source": [
    "### There Be Dragons!\n",
    "![](https://i.imgur.com/6NumPKX.png)\n",
    "> https://twitter.com/nunohaien/status/1480821031656898560"
   ]
  },
  {
   "cell_type": "markdown",
   "id": "78f00b62-4108-4c58-8794-f57ba05723d1",
   "metadata": {},
   "source": [
    "## Using Yara\n",
    "\n",
    "### Rules for Identifying Malware (Threat Intel)\n",
    "- Used to share intel about malware families \n",
    "- Usually tuned for unpacked malware (the actual malware code, not the packer)\n",
    "- Needs a low false positive (FP) rate or it could end up being \"bad intel\"\n",
    "- Usually used to automatically identify and classify malware samples (ex. malware tracker)\n",
    "\n",
    "A good example of these \"intel\" rules is the public Yara repository [Malpedia](https://malpedia.caad.fkie.fraunhofer.de/)\n",
    "\n",
    "\n",
    "### Rules Used Like AV Signatures\n",
    "- Used to identify packed malware, and early-stage malware delivery chain artifacts (maldocs, packers, malicious js, etc.)\n",
    "- Doesn't need to identify a specific malware family, just needs to identify \"badness\" or \"evil\"\n",
    "- Usually used either in-line or for asyncronous enterprise scanning to detect malware\n",
    "- FP rate needs to be low (SOC goes brrrrrrr)\n",
    "\n",
    "A good example of these \"AV\" rules is the open source [\"loki\" scanner](https://github.com/Neo23x0/Loki) with the [signature-base ruleset](https://github.com/Neo23x0/signature-base) from [Florian Roth](https://twitter.com/cyb3rops) and its commercial counterpart THOR.\n",
    "\n",
    "\n",
    "### Rules Used Exclusively For Hunting\n",
    "- Used like a \"loose\" version of a AV signature, used for finding the needle in the haystack\n",
    "- Good for identifying unknowns \n",
    "- Usually used for \"hunting\" either within an enterpise or in a malware repository\n",
    "- Can have a high FP rate\n",
    "\n",
    "A good example of these are the \"feels bad\" rules from [100 Days of Yara](https://github.com/100DaysofYARA/)\n"
   ]
  },
  {
   "cell_type": "markdown",
   "id": "d2b4cc3d-8627-4960-aee3-0249349b9c05",
   "metadata": {},
   "source": [
    "## Testing\n",
    "\n",
    "- Packer detection\n",
    "  [pkr_ce1a](https://malwarology.substack.com/p/malicious-packer-pkr_ce1a)\n",
    "\n",
    "- Detects \"bad\"\n",
    "  [some_packer](https://pastebin.com/Yq0SRAN9)\n",
    "\n",
    "- .NET packer\n",
    "  [msil_suspicious_use_of_strreverse.yar](https://github.com/dr4k0nia/yara-rules/blob/main/dotnet/msil_suspicious_use_of_strreverse.yar)\n",
    "\n",
    "- lol PDB paths\n",
    "\n",
    "\n",
    "```c\n",
    "import \"pe\"\n",
    "\n",
    "rule lol_pdb {\n",
    "    meta:\n",
    "        author = \"BitsOfBinary\"\n",
    "        description = \"Detects files that identify themselves as malware\"\n",
    "        reference = \"https://bitsofbinary.github.io/yara/2023/01/04/100daysofyara-day-4.html\"\n",
    "        version = \"1.0\"\n",
    "        date = \"2023-01-04\"\n",
    "        DaysofYARA = \"4/100\"\n",
    "        \n",
    "    condition:\n",
    "        pe.pdb_path icontains \"locker\" or\n",
    "        pe.pdb_path icontains \"stealer\" or \n",
    "        pe.pdb_path icontains \"crypter\" or\n",
    "        pe.pdb_path icontains \"ransomware\" or\n",
    "        pe.pdb_path icontains \"keylogger\" or  \n",
    "        pe.pdb_path icontains \"exploit\" \n",
    "        \n",
    "}\n",
    "```\n"
   ]
  },
  {
   "cell_type": "markdown",
   "id": "33f402fa-ad61-4c6d-b7b5-233ec3649190",
   "metadata": {},
   "source": [
    "## Questions\n",
    "\n",
    "Why would we need to define a string with zerors before and after such as the following: \"\\x00Fluffy\\x00\"\n",
    "\n",
    "- this defines the surrounding bytes for a string, instead of just matching the string with no context... in this particular case it's very inefficient since the null bytes don't add much context and will infact slow down the matching buy adding some generic bytes to the string, a fullword keyword and a string would be a better choice\n",
    "\n",
    "Advanced regex yara rules examples. \n",
    "\n",
    "- no\n",
    "\n",
    "Create yara rule for .NET using IL where the instructions may change between compiled samples and thus wildcarding is required. \n",
    "\n",
    "- Maybe Drakonia's rule? TBD...\n",
    "\n",
    "How to utilise fuzzy hashing (SSDEEP, SDHASH, mvHASH-B) and fuzzy rules.\n",
    "\n",
    "- in addition to the basic string pattern matching Yara supports some advanced features such as [hash calculation](https://yara.readthedocs.io/en/stable/modules/hash.html) using the hash module but this doesn't support fuzzy hashing... generally hash matching is very brittel and sort of defeats the purpose of yara but it can be useful in some contexts... for fuzzy hashing I'm not sure if this is available outside of a custom module?\n",
    "\n",
    "When should we write a yara rule vs when to write a [CAPE rule](https://capev2.readthedocs.io/en/latest/customization/signatures.html)\n",
    "\n",
    "- if you want the rule to be useable outside of CAPE then Yara is the best, one of the main advantages of Yara is its portablilty (you can share them! and they just work!)\n",
    "- if you are only running your rule on CAPE and you want some more advanced custom features you may be enticed to use a CAPE specific rule\n",
    "\n",
    "What are the advantages of YARA-L 2.0 vs the normal yara, and what use cases of YARA-L 2.0 rules to use? \n",
    "\n",
    "- we can probably ignore this unless it catches on widely, all of these \"custom\" yara versions that are not portable are not worth investigating unless you are using the platform they are designed for"
   ]
  },
  {
   "cell_type": "markdown",
   "id": "e4cb376a-a865-47e2-9271-af2b20d53b1e",
   "metadata": {},
   "source": [
    "## Custom Yara Engines\n",
    "Avast experimented with compiled yara rules using their [YaraNG](https://github.com/avast/yarang) engine. Appearently with some decent improvemenst (35%) as detailed in their blog [YaraNG: Reinventing the YARA Scanner](https://engineering.avast.io/yarang-reinventing-the-yara-scanner/). They have have a [yara linter](https://github.com/avast/yls).\n",
    "\n",
    "\n",
    "There is also a project underway to re-write the Yara engine in rust [yara-x](https://github.com/VirusTotal/yara-x/).\n"
   ]
  },
  {
   "cell_type": "markdown",
   "id": "2e722508-36d7-4b3f-91d9-35368f526244",
   "metadata": {},
   "source": [
    "## Some Fun Hunting PDB Paths\n",
    "\n",
    "- `D:\\Mktmp\\Amadey\\StealerDLL\\x64\\Release\\STEALERDLL.pdb`\n",
    "- `o:\\Programmieren\\Codesoft Releases\\_NEW BETATEST\\Codesoft PW Stealer\\v0.35_older\\abcdef Version\\release\\Codesoft-PW_Stealer_Server.pdb`\n",
    "- `C:\\Users\\Ledzz\\Desktop\\LedzzsHUBBBGOLD\\LedzzsHUBBBGOLD\\Nitro-Ransomware-master\\NitroRansomware\\obj\\Debug\\NitroRansomware.pdb`\n",
    "- `c:\\slam_ransomware_builder\\ConsoleApp2\\ConsoleApp2\\obj\\Debug\\ConsoleApp2.pdb`\n",
    "- `d:\\ronin\\PROJEKTY\\Keylogger\\src\\Keylogger_v0.05\\Release\\Keylogger.pdb`\n",
    "- `C:\\Users\\user\\Desktop\\ExploitKITS\\C#\\Windows\\Trojans\\CyberRAT\\Client\\obj\\Debug\\Client.pdb`\n",
    "- `c:\\Users\\User\\Desktop\\5.2\\Decrypter\\decrypter\\obj\\Debug\\Chaos ransomware decrypter.pdb`\n",
    "- `C:\\Users\\ygzat\\source\\repos\\Crypter Test2\\Crypter\\Crypter\\obj\\Debug\\Crypter.pdb`\n",
    "- `D:\\scm\\Italy\\Ransomware\\lkh\\FileDecrytptor2\\Build\\Win32\\Release\\FileCrytptor.pdb`\n",
    "- `D:\\Mktmp\\Amadey\\StealerDLL\\x64\\Release\\STEALERDLL.pdb`\n",
    "\n"
   ]
  },
  {
   "cell_type": "code",
   "execution_count": null,
   "id": "bc9bf293-ec72-44e3-86b0-00db71407af9",
   "metadata": {},
   "outputs": [],
   "source": []
  }
 ],
 "metadata": {
  "kernelspec": {
   "display_name": "Python 3",
   "language": "python",
   "name": "python3"
  },
  "language_info": {
   "codemirror_mode": {
    "name": "ipython",
    "version": 3
   },
   "file_extension": ".py",
   "mimetype": "text/x-python",
   "name": "python",
   "nbconvert_exporter": "python",
   "pygments_lexer": "ipython3",
   "version": "3.9.5"
  }
 },
 "nbformat": 4,
 "nbformat_minor": 5
}
