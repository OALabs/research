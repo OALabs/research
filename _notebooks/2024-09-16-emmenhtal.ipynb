{
 "cells": [
  {
   "cell_type": "markdown",
   "id": "46d51863-a0dd-4712-bbfc-0f24a0c15226",
   "metadata": {},
   "source": [
    "# Emmenhtal\n",
    "> Peeling the layers of this polyglot loader\n",
    "- toc: true \n",
    "- badges: true\n",
    "- categories: [Emmenhtal,polygot,loader]"
   ]
  },
  {
   "cell_type": "markdown",
   "id": "dfe9b0f4-ae9b-4cc9-b8f9-a47795067fd6",
   "metadata": {},
   "source": [
    "## Overview\n",
    "\n",
    "This is a polyglot loader which masqurades as a legit PE file but is really a way to deliver an HTA script. The loader is often launched via a malicious `.lnk` file and has been observed downloading  CryptBot or Lumma stealer.\n",
    "\n",
    "### References\n",
    "\n",
    "- [Orange Cyberdefense](https://www.orangecyberdefense.com/global/blog/cert-news/emmenhtal-a-little-known-loader-distributing-commodity-infostealers-worldwide)  Emmenhtal: a little-known loader distributing commodity infostealers worldwider\n",
    "- [Mandiant](https://cloud.google.com/blog/topics/threat-intelligence/peaklight-decoding-stealthy-memory-only-malware/)  PEAKLIGHT: Decoding the Stealthy Memory-Only Malware\n",
    "- [Cisco Talos](https://blog.talosintelligence.com/suspected-coralraider-continues-to-expand-victimology-using-three-information-stealers/)  Suspected CoralRaider continues to expand victimology using three information stealers\n",
    "\n",
    "\n",
    "### Sample\n",
    "- `dd52a6b3e9d1f368ed000d5a506331ce5b3f194512f9d075b494510ae1583a1f` [UnpacMe](https://www.unpac.me/results/d3aaef6f-cb0b-46c1-b3db-d8cc552bf067)"
   ]
  },
  {
   "cell_type": "markdown",
   "id": "1f8a241b-adab-4e83-8a15-aca087a10cc9",
   "metadata": {},
   "source": [
    "## Analysis\n",
    "\n",
    "According to [Orange Cyberdefense](https://www.orangecyberdefense.com/global/blog/cert-news/emmenhtal-a-little-known-loader-distributing-commodity-infostealers-worldwide) the delivery chain involves a .lnk file that is used to launch a plyglot EXE/HTA file with powershell and mshta. This is a similar technique to one used by Zloader in 2022 according to [CheckPoint](https://research.checkpoint.com/2022/can-you-trust-a-files-digital-signature-new-zloader-campaign-exploits-microsofts-signature-verification-putting-users-at-risk/).\n",
    "\n",
    "The polyglot is constructed by compbining a beign PE file (for example `notepad.exe`) with an HTA script. The HTA script is split into parts (header tag, script, end header tag) and the benign PE file is pasted between each part. The resulting file appears to be a PE file, and does contain multiple copies of the benign PE, however when executed with `mshta` only the script components are read by the HTA parser and the file becomes an HTA document. This launches a a chain of obfuscated script stages which eventually download and run the payload.\n",
    "\n",
    "![](https://www.orangecyberdefense.com/fileadmin/_processed_/d/c/csm_Image1_d9f5086570.webp)\n",
    "\n"
   ]
  },
  {
   "cell_type": "markdown",
   "id": "7f15d394-e080-4eff-82e4-9cddb5966ada",
   "metadata": {},
   "source": [
    "### Polyglot Analysis\n",
    "\n",
    "Stage1 extracts the HTA script from the polyglot. The script is heavily obfuscated.\n",
    "\n",
    "[Extracted Stage1](https://pastebin.com/nwmxp0j9)"
   ]
  },
  {
   "cell_type": "code",
   "execution_count": null,
   "id": "f28c9da2-1e8e-4b0f-9778-ecaf01950a83",
   "metadata": {},
   "outputs": [],
   "source": [
    "file_data = open('/tmp/dd52a6b3e9d1f368ed000d5a506331ce5b3f194512f9d075b494510ae1583a1f', 'rb').read()\n",
    "\n",
    "script = b''\n",
    "recording = False\n",
    "for i in range(len(file_data)):\n",
    "    # Check for <script> token\n",
    "    if file_data[i:i+8] == b'<script>':\n",
    "        # Start recording the script\n",
    "        recording = True\n",
    "    # Check if we are recording and we find the </script> token\n",
    "    if recording and file_data[i:i+9] == b'</script>':\n",
    "        script += file_data[i:i+9]\n",
    "        # Stop recording the script\n",
    "        recording = False\n",
    "    if recording:\n",
    "        script += file_data[i:i+1]\n",
    "    i += 1\n",
    "\n",
    "print(script)"
   ]
  },
  {
   "cell_type": "markdown",
   "id": "dc02e7fd-ef5b-41d0-a250-c370e467830c",
   "metadata": {},
   "source": [
    "#### Stage2\n",
    "\n",
    "Stage1 can be decrupted using a simple substitution algorithm to build character array which is then evaluated revealing Stage 2.\n",
    "\n",
    "[Extracted stage2](https://pastebin.com/iK1BEu2T)\n"
   ]
  },
  {
   "cell_type": "markdown",
   "id": "a41efa9b-81aa-4f97-932e-81d0f6c7c1ae",
   "metadata": {},
   "source": [
    "#### Stage3\n",
    "\n",
    "Stage 2 can be deobfuscated with a similar character array only this time subtracting a fixed value from each characte.\n",
    "\n",
    "[Extracted stage3](https://pastebin.com/0EzgNB0T)\n"
   ]
  },
  {
   "cell_type": "markdown",
   "id": "43796381-096e-4778-8132-6f28246bc109",
   "metadata": {},
   "source": [
    "#### Stage4\n",
    "\n",
    "Stage 4 is a powershell script that uses AES CBC with a null IV and a hard coded key to decrypt stage 5\n",
    "\n",
    "[Extracted stage4](https://pastebin.com/vv3BfKTC)\n",
    "\n",
    "#### Stage 5\n",
    "\n",
    "Stage 5 is also a powershell script used to download and execute the final payload.\n",
    "\n",
    "[Extracted deobfuscated stage5](https://pastebin.com/n97XESRM)\n"
   ]
  },
  {
   "cell_type": "code",
   "execution_count": 1,
   "id": "ffff9395",
   "metadata": {},
   "outputs": [
    {
     "data": {
      "text/plain": [
       "b'https://show-pdf-document.com/rentapi/update.bin'"
      ]
     },
     "execution_count": 1,
     "metadata": {},
     "output_type": "execute_result"
    }
   ],
   "source": [
    "bytes([104 , 116 , 116 , 112 , 115 , 58, 47, 47, 115 , 104 , 111 , 119 , 45, 112 , 100 , 102 , 45, 100 , 111 , 99, 117 , 109 , 101 , 110 , 116 , 46, 99, 111 , 109 , 47, 114 , 101 , 110 , 116 , 97, 112 , 105 , 47, 117 , 112 , 100 , 97, 116 , 101 , 46, 98, 105 , 110])"
   ]
  },
  {
   "cell_type": "markdown",
   "id": "d8e7aef5",
   "metadata": {},
   "source": []
  }
 ],
 "metadata": {
  "kernelspec": {
   "display_name": "Python 3 (ipykernel)",
   "language": "python",
   "name": "python3"
  },
  "language_info": {
   "codemirror_mode": {
    "name": "ipython",
    "version": 3
   },
   "file_extension": ".py",
   "mimetype": "text/x-python",
   "name": "python",
   "nbconvert_exporter": "python",
   "pygments_lexer": "ipython3",
   "version": "3.11.5"
  }
 },
 "nbformat": 4,
 "nbformat_minor": 5
}
