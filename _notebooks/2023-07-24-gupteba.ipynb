{
 "cells": [
  {
   "cell_type": "markdown",
   "id": "bbbcefc1-94bd-478b-b649-0f7cf4050bb6",
   "metadata": {},
   "source": [
    "# Glubteba\n",
    "> Investigating this elusive GO loader\n",
    "\n",
    "- toc: true \n",
    "- badges: true\n",
    "- categories: [Glubteba,loader,triage]"
   ]
  },
  {
   "cell_type": "markdown",
   "id": "0735d30c-0ccf-4d60-bc37-97643ef5095d",
   "metadata": {},
   "source": [
    "## Overview\n",
    "\n",
    "Taking a look at some random GO malware with light obfuscation. Possibly linked to Glubteba.\n",
    "\n",
    "According to [Sophos](https://news.sophos.com/wp-content/uploads/2020/06/glupteba_final-1.pdf) there are 3 possible GO components linked to a Glupteba infection.\n",
    "\n",
    "- `payload64.dll` - a 64bit payload used along with the EternalBlue exploit to download the main Glupteba component\n",
    "- `payload32.dll` - a 32bit payload used along with the EternalBlue exploit to download the main Glupteba component\n",
    "- `collectchromefingerprint.exe` - a UPX packed binary used to locate Chrome and connect to `http[:]//swebgames[.]site/test.php?uuid=%s&browser=chrome` to register to browser-based fingerprinting services\n",
    "\n",
    "\n",
    "## References \n",
    "\n",
    "- [Glupteba: Hidden Malware Delivery in Plain Sight (pdf)](https://news.sophos.com/wp-content/uploads/2020/06/glupteba_final-1.pdf)\n",
    "- [Disrupting the Glupteba operation](https://blog.google/threat-analysis-group/disrupting-glupteba-operation/)\n",
    "- [Tracking Malicious Glupteba Activity Through the Blockchain](https://www.nozominetworks.com/blog/tracking-malicious-glupteba-activity-through-the-blockchain/)\n",
    "\n",
    "\n",
    "### Sample\n",
    "- [3cc7fb757318a924954642bfa36dda9c2cf53c9446a85bdcda756603e17a6961](https://www.unpac.me/results/8674879c-122d-4973-b45a-22a0f8217d95?hash=3cc7fb757318a924954642bfa36dda9c2cf53c9446a85bdcda756603e17a6961#/)\n",
    "- not glupteba but possibly similar obfuscator [dd124a7b396150e4d8275c473594e47ac24606ef0955e2c13310aac9045554ac](https://www.unpac.me/results/c2d49f20-7bd7-48af-b5f6-4ead73d3790f?hash=dd124a7b396150e4d8275c473594e47ac24606ef0955e2c13310aac9045554ac#/)"
   ]
  },
  {
   "cell_type": "markdown",
   "id": "dfab0373-0561-46d7-a238-d32e0d6e1966",
   "metadata": {},
   "source": [
    "## Analysis\n",
    "Looking through the Glupteba IOCs [released by Sophos](https://github.com/sophoslabs/IoCs/blob/master/Trojan-Glupteba) we can see two hashes labeled as `app.exe` which is the main component of Glupteba according to their report.\n",
    "\n",
    "- `407c70f0c1a1e34503dae74dd973cf037d607e3c4deb8f063d33f2142f1baf71` [UnpacMe](https://www.unpac.me/results/9754bb3a-2e48-4e8d-b3f0-b8d040bf7a43?hash=407c70f0c1a1e34503dae74dd973cf037d607e3c4deb8f063d33f2142f1baf71#/)\n",
    "- `83bbe9e7b7967ecbc493f8ea40947184c6c7346c6084431fceea0401a6279d29` [UnpacMe](https://www.unpac.me/results/d6e7585a-69e5-4946-9e22-f6846b9c1c13?hash=83bbe9e7b7967ecbc493f8ea40947184c6c7346c6084431fceea0401a6279d29#/)\n",
    "\n",
    "Upon analysis, both of these appear to be the 32-bit version of the payload delivered by the EternalBlue SMB exploit `payload32.dll`. One packed with UPX and the other not packed. This lead to some confusion as it is unclear in the report if this is considered the main Glubteba component. \n",
    "\n",
    "Comparing these samples with our sample `3cc7fb757318a924954642bfa36dda9c2cf53c9446a85bdcda756603e17a6961` we can see some overlap in functionality but our sample contains significantly more features including anti-analysis checks and a TOR browser and appears to better match with the full Glupteba functionally listed in the Sophos report. It is unclear if this module was part of the original Glupteba build analyzed by Sophos in 2020 or if it is a new build however it appears to now be the main Glupteba module. \n",
    "\n",
    "\n",
    "## Yara\n",
    "```c\n",
    "rule glub_hunt {\n",
    "    strings:\n",
    "\n",
    "        $report1 = \"main.reportInstallFailure\"\n",
    "        $report2 = \"main.sendLog\"\n",
    "        $report3 = \"main.sendLogError\"\n",
    "        \n",
    "        $anti1 = \"main.isRunningInsideVirtualBox\"\n",
    "        $anti2 = \"main.isRunningInsideVMWare\"\n",
    "        $anti3 = \"main.isRunningInsideParallels\"\n",
    "        $anti4 = \"main.isRunningInsideVirtualPC\"\n",
    "        $anti5 = \"main.isRunningInsideXen\"\n",
    "        $anti6 = \"main.isRunningInsideAnyRun\"\n",
    "        $anti7 = \"main.isRunningInsideVM\"\n",
    "        \n",
    "        $smb1 = \"main.handleConnSMB\"\n",
    "        $smb2 = \"main.handleConnSMB.func1\"\n",
    "        $smb3 = \"main.listenAndServeSMB\"\n",
    "        $smb4 = \"main.listenAndServeSMB.func2\"\n",
    "        $smb5 = \"main.listenAndServeSMB.func1\"\n",
    "        $smb6 = \"main.watchSMB\"\n",
    "        \n",
    "        $tor1 = \"main.watchTor\"\n",
    "        $tor2 = \"main.watchTor.func1\"\n",
    "        $tor3 = \"main.watchTor.func2\"\n",
    "        \n",
    "        $drv1 = \"main.createDevice\"\n",
    "        $drv2 = \"main.excludeFilename\"\n",
    "        $drv3 = \"main.excludeFilename.func1\"\n",
    "        $drv4 = \"main.disablePatchGuard\"\n",
    "        $drv5 = \"main.disablePatchGuard.func1\"\n",
    "\n",
    "    condition:\n",
    "        filesize > 7MB and\n",
    "        filesize < 10MB and\n",
    "        5 of them\n",
    "}\n",
    "```"
   ]
  },
  {
   "cell_type": "code",
   "execution_count": null,
   "id": "222157ef-1ec3-482f-bbdc-b738494266a8",
   "metadata": {},
   "outputs": [],
   "source": []
  }
 ],
 "metadata": {
  "kernelspec": {
   "display_name": "Python 3",
   "language": "python",
   "name": "python3"
  },
  "language_info": {
   "codemirror_mode": {
    "name": "ipython",
    "version": 3
   },
   "file_extension": ".py",
   "mimetype": "text/x-python",
   "name": "python",
   "nbconvert_exporter": "python",
   "pygments_lexer": "ipython3",
   "version": "3.9.5"
  }
 },
 "nbformat": 4,
 "nbformat_minor": 5
}
