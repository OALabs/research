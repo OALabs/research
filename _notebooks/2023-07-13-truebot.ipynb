{
 "cells": [
  {
   "cell_type": "markdown",
   "id": "342ed7fc-d919-47f4-be62-2d33e458f872",
   "metadata": {},
   "source": [
    "# Truebot\n",
    "> Truely a simple malware leading to ransomware\n",
    "\n",
    "- toc: true \n",
    "- badges: true\n",
    "- categories: [truebot,config,triage]"
   ]
  },
  {
   "cell_type": "markdown",
   "id": "45880ffe-5309-4602-bf7e-369a8ae3768f",
   "metadata": {},
   "source": [
    "## Overview\n",
    "\n",
    "Truebot (aka Silence) is primarily a downloader associated with the threat actor group [TA505](https://malpedia.caad.fkie.fraunhofer.de/actor/ta505). Recently there was a CISA alert [Increased Truebot Activity Infects U.S. and Canada Based Networks](https://www.cisa.gov/news-events/cybersecurity-advisories/aa23-187a) which described ransomware/extortion activity associated with the use of Truebot.\n",
    "\n",
    "### References\n",
    "- [Increased Truebot Activity Infects U.S. and Canada Based Networks](https://www.cisa.gov/news-events/cybersecurity-advisories/aa23-187a) \n",
    "- [TrueBot Analysis Part III - Capabilities](https://malware.love/malware_analysis/reverse_engineering/2023/03/31/analyzing-truebot-capabilities.html)\n",
    "- [10445155.r1.v1 (pdf)](https://www.cisa.gov/sites/default/files/2023-07/MAR-10445155.r1.v1.CLEAR_.pdf)\n",
    "- [A Truly Graceful Wipe Out](https://thedfirreport.com/2023/06/12/a-truly-graceful-wipe-out/)\n",
    "\n",
    "### Samples\n",
    "- [717beedcd2431785a0f59d194e47970e9544fbf398d462a305f6ad9a1b1100cb](https://www.unpac.me/results/8d1eb4c3-cbb0-4b32-8d52-6f142c836d0f?hash=717beedcd2431785a0f59d194e47970e9544fbf398d462a305f6ad9a1b1100cb#/)"
   ]
  },
  {
   "cell_type": "markdown",
   "id": "40019d1c-7c62-412b-bc5b-eff15ec576d2",
   "metadata": {},
   "source": [
    "## Analysis\n",
    "\n",
    "- The binary uses an Adobe PDF icon possibly to trick victims into clicking it. It also displays a fake error message. `\"There was an error opening this document. The file is damaged and could not be repaired. Adobe Acrobat\"`\n",
    "- The binary is padded with a significant amount of junk code that is not relevant to its operation. \n",
    "- The main code has some checks for debugging tools and AV which if detected cause the malware to execute a deception process (calc.exe)\n",
    "- There are multiple anti-emulation techniques used including ...\n",
    "  - Reading from a fake named pipe\n",
    "  - Calling EraseTape\n",
    "  - Checking for a valid code page with GetACP\n",
    "  - Loading `user32`\n",
    "  - Trying to open a random invalid file\n",
    "- The C2 host and URL path are encrypted using base64, urldecode, and RC4 with a hard coded key\n",
    "  - `essadonio.com`\n",
    "  - `/538332[.]php`\n",
    "- A hard coded mutex `OrionStartWorld#666` is used to ensure only one copy of the malware is running \n",
    "- A GUID is generated for the victim and stored in a randomly named file with the extension `.JSONMSDN` in the `%APPDATA%` directory. This GUID is also used in the C2 communications.\n",
    "- A list of processes running on the host is collected and combined with the GUID. It is base64 encoded then sent to the C2 server in a POST request.\n",
    "- The C2 has the option of sending the following commands\n",
    "  - **LSEL** - delete yourself and exit\n",
    "  - **TFOUN** - array of commands\n",
    "    - **EFE** - download payload, decrypt with RC4 (hard coded key), and execute PE\n",
    "    - **S66** - download, decrypt with RC4 (hard coded key),and inject shellcode into `cmd.exe`\n",
    "    - **Z66** - download, decrypt with RC4 (hard coded key),and run shellcode \n",
    "\n",
    "\n"
   ]
  },
  {
   "cell_type": "code",
   "execution_count": null,
   "id": "20e99156-df59-471a-8973-70e02fd7e3de",
   "metadata": {},
   "outputs": [],
   "source": []
  }
 ],
 "metadata": {
  "kernelspec": {
   "display_name": "Python 3",
   "language": "python",
   "name": "python3"
  },
  "language_info": {
   "codemirror_mode": {
    "name": "ipython",
    "version": 3
   },
   "file_extension": ".py",
   "mimetype": "text/x-python",
   "name": "python",
   "nbconvert_exporter": "python",
   "pygments_lexer": "ipython3",
   "version": "3.9.5"
  }
 },
 "nbformat": 4,
 "nbformat_minor": 5
}
