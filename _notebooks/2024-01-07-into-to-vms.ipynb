{
 "cells": [
  {
   "cell_type": "markdown",
   "metadata": {},
   "source": [
    "# Introduction To VM Protection - VMZeus\n",
    "> Reverse Engineering VM obfuscation \n",
    "\n",
    "- toc: true \n",
    "- badges: true\n",
    "- categories: [vmzues,zeus,vm,obfuscation,tutorial]"
   ]
  },
  {
   "cell_type": "markdown",
   "metadata": {},
   "source": [
    "## Overview\n",
    "\n",
    "We are going to take a look at one of the original \"VM\" protections used in malware, VM Zeus. Zeus is one of the orignal \"botnets\" that put ecrime on the map. The sourcecode was sold (and eventually leaked) which lead to many different variants. One of the variants implemented a custom VM that was used to protect the configuration file... known as VM Zeus (KINS).\n",
    "\n",
    "Many of the Zeus variants have been catalogued in the the [ZeusMuseum](https://zeusmuseum.com/) curated by [@tildedennis](https://twitter.com/tildedennis).\n",
    "\n",
    "In this analysis we are going to focus on the VM mechanics, how it works, and how to analyze it, as a way to understand VM protection fundamentals. There is a lot of prior research on this VM that we will reference below.\n",
    "\n",
    "\n",
    "### Sample\n",
    "`f792997cb36a477fa55102ad6b680c97e3517b2e63c83c802bf8d57ae9ed525e` [UnpacMe](https://www.unpac.me/results/bb557f46-a12a-4737-a638-787f982963fd?hash=f792997cb36a477fa55102ad6b680c97e3517b2e63c83c802bf8d57ae9ed525e#/)\n",
    "\n",
    "### References\n",
    "- [ZeuS meets VM (BotConf 2014)](https://repo.zenk-security.com/Virus-Infections-Detections-Preventions/Botconf-ZeuS-Meets-VM-Story-so-Far.pdf)\n",
    "- PNX -- can't find references to his work?\n",
    "- [ZeusVM analysis - MIASM](https://miasm.re/blog/2016/09/03/zeusvm_analysis.html)\n",
    "- [Advanced Binary Deobfuscation Course](https://github.com/rung/ABD)\n",
    "- [Not directly related but interesting work on building a VM -- RISC-Y Business](https://secret.club/2023/12/24/riscy-business.html)"
   ]
  },
  {
   "cell_type": "markdown",
   "metadata": {},
   "source": [
    "## Analysis \n",
    "The VM consists of a dispatcher, a set of instructions handlers, a constant byte array with the **code** and a constant byte array with the **data**.\n",
    "\n",
    "```c\n",
    "void __usercall mw_vm(char *arg_data@<esi>)\n",
    "{\n",
    "  byte *var_code_buff; // edi\n",
    "  ctxt ctxt; // [esp+4h] [ebp-4Ch] BYREF\n",
    "\n",
    "  var_code_buff = mw_cpy_to_buff(&g_code, (void *)0x1000);\n",
    "  if ( var_code_buff )\n",
    "  {\n",
    "    mw_wrap_cpy(arg_data, &g_data, 0x370u);\n",
    "    ctxt.value0 = 0;\n",
    "    ctxt.data = (byte *)arg_data;\n",
    "    ctxt.code = var_code_buff;\n",
    "    g_data_buff = (int)arg_data;\n",
    "    while ( ((char (__thiscall *)(ctxt *))ptr_instructions[*ctxt.code])(&ctxt) )\n",
    "      ;\n",
    "    mw_wrap_heap_free(var_code_buff);\n",
    "  }\n",
    "}\n",
    "```\n",
    "\n",
    "### Instruction Set Archetecture\n",
    "\n",
    "- mnemonic is 1 byte\n",
    "- operands can be immediate or register index\n",
    "- regsiters are numerically indexed from 0-15\n",
    "\n",
    "### Instruction Handlers\n",
    "\n",
    "- next mnemonic is decrypted using unique hard-coded byte for each handler, and last byte of previous instruction\n",
    "- code buffer is incremented in handler\n",
    "\n",
    "### Data\n",
    "There is a shared data buffer that is pre-populated with data but is also used like stack during instruction execution. Unclear what to call this.\n",
    "\n",
    "### Context\n",
    "The VM context is used to pass the code buffer, data buffer, and registers to the instruction handlers. The `value0` is likely flags but not confirmed yet!\n",
    "```c\n",
    "struct __declspec(align(4)) ctxt\n",
    "{\n",
    "  byte *code;\n",
    "  byte *data;\n",
    "  DWORD value0;\n",
    "  DWORD regs[16];\n",
    "};\n",
    "```\n",
    "\n"
   ]
  },
  {
   "cell_type": "markdown",
   "metadata": {},
   "source": []
  }
 ],
 "metadata": {
  "language_info": {
   "name": "python"
  }
 },
 "nbformat": 4,
 "nbformat_minor": 2
}
