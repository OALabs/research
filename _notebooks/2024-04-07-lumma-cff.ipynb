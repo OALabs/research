{
 "cells": [
  {
   "cell_type": "markdown",
   "metadata": {},
   "source": [
    "# Lumma Stealer Obfuscation\n",
    "> Taking a look at obfuscation in the latest version of lumma\n",
    "\n",
    "- toc: true \n",
    "- badges: true\n",
    "- categories: [lumma,obfuscation,cff,ida]"
   ]
  },
  {
   "cell_type": "markdown",
   "metadata": {},
   "source": [
    "## Overview\n",
    "\n",
    "[Lumma](https://telegra.ph/LummaC2---universal-stealer-a-malware-for-professionals-07-27) has been around for a [while](https://www.esentire.com/blog/the-case-of-lummac2-v4-0) initially starting out with plaintext strings and simple to reverse code, but as they continue to evolve they added some [control flow flattening](https://outpost24.com/blog/lummac2-anti-sandbox-technique-trigonometry-human-detection/#h-control-flow-flattening) (CFF) and string encryption. With the latest build more obfuscation has been added which introduces opaque predicates to the CFF. We are going to attempt to use IDA scripting to remove this obfuscation.\n",
    "\n",
    "## Sample\n",
    "`18a065b740da441c636bce23fd72fc0f68e935956131973f15bf4918e317bf03` [[UnpacMe](https://www.unpac.me/results/41d8f31a-3b36-4b77-8b7c-a2d7a81a7034#/)]\n"
   ]
  },
  {
   "cell_type": "code",
   "execution_count": null,
   "metadata": {
    "vscode": {
     "languageId": "plaintext"
    }
   },
   "outputs": [],
   "source": []
  },
  {
   "cell_type": "markdown",
   "metadata": {},
   "source": [
    "## Analysis\n",
    "\n",
    "The opaque predicates are setup using a jump table with encrypted addresses, for direct jumps the address is simply moved into a register, decrypted, then jumped to. For conditional jumps the jump table is used like an index to locate the correct address, which is then decrypted and jumped to.\n",
    "\n",
    "```\n",
    "00433500      mov     eax, dword_4426C0\n",
    "00433505      mov     ecx, 439EAE97h\n",
    "0043350A      xor     ecx, dword_4426C8\n",
    "00433510      add     eax, ecx\n",
    "00433512      inc     eax\n",
    "00433513      jmp     eax\n",
    "\n",
    "0043351C      mov     eax, dword_442714\n",
    "00433521      mov     ecx, 0DEA4552Dh\n",
    "00433526      xor     ecx, dword_442718\n",
    "0043352C      add     eax, ecx\n",
    "0043352E      inc     eax\n",
    "0043352F      nop\n",
    "00433530      jmp     eax\n",
    "\n",
    "00433399      movzx   eax, al\n",
    "0043339C      mov     eax, dword_4426D4[eax*4]\n",
    "004333A3      mov     ecx, 42CEBA5h\n",
    "004333A8      xor     ecx, dword_4426DC\n",
    "004333AE      add     eax, ecx\n",
    "004333B0      inc     eax\n",
    "004333B1      jmp     eax\n",
    "\n",
    "00433312      test    eax, eax\n",
    "00433314      setz    cl\n",
    "00433317      mov     ecx, dword_4426A0[ecx*4]\n",
    "0043331E      mov     edx, 0AD7AC4AAh\n",
    "00433323      xor     edx, dword_4426A8\n",
    "00433329      add     ecx, edx\n",
    "0043332B      inc     ecx\n",
    "0043332C      jmp     ecx\n",
    "```\n",
    "\n",
    "### Algorithm\n",
    "- Linear disassembly \n",
    "- Track memory moves to regs from jump table memory locations `.data`\n",
    "- Reset memory tracking for control flow operations JMP,CALL,RET\n",
    "- When we have a JMP to a register use tracked memory location as emulation start and emulate jump address\n",
    "- For conditional jumps emulated both values for the index reg for the jump table (0,1) \n",
    "- Patch jumps, for condition test the index register and patch conditional jump\n",
    "\n",
    "**TO BE CONTINUED....**\n"
   ]
  },
  {
   "cell_type": "markdown",
   "metadata": {},
   "source": []
  }
 ],
 "metadata": {
  "language_info": {
   "name": "python"
  }
 },
 "nbformat": 4,
 "nbformat_minor": 2
}
