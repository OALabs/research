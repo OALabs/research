{
 "cells": [
  {
   "cell_type": "markdown",
   "id": "c43618cd-3dce-48e7-a113-371741bdc60b",
   "metadata": {},
   "source": [
    "# Latrodectus\n",
    "> Extracting new AES encrypted strings from this RAT\n",
    "- toc: true \n",
    "- badges: true\n",
    "- categories: [Latrodectus,config,emulation]"
   ]
  },
  {
   "cell_type": "markdown",
   "id": "4535149d-afc8-445e-9fdb-788e4931c250",
   "metadata": {},
   "source": [
    "## Overview\n",
    "Latrodectus is a RAT that has been [linked to the development of IcedID](https://medium.com/walmartglobaltech/icedid-gets-loaded-af073b7b6d39). It provides host information collection capabilities as well as the ability to download and launch additional payloads.\n",
    "\n",
    "### Sample\n",
    "`5cecb26a3f33c24b92a0c8f6f5175da0664b21d7c4216a41694e4a4cad233ca8` [UnpacMe](https://www.unpac.me/results/148ce170-808d-4b22-bdaf-6470c472d782)\n",
    "\n",
    "### References\n",
    "- [Malpedia](https://malpedia.caad.fkie.fraunhofer.de/details/win.latrodectus)\n",
    "- [VMRay X - New #Latrodectus version (1.4)](https://x.com/vmray/status/1823762654156018020)\n",
    "- [Blu3Eye Latrodectus String Extractor (IDA)](https://github.com/Blu3Eye/Malware-Analysis/blob/master/Latrodectus/extract_decrypt_strings.py)\n",
    "- [Latrodectus Rapid Evolution Continues With Latest New Payload Features](https://www.netskope.com/blog/latrodectus-rapid-evolution-continues-with-latest-new-payload-features)\n",
    "- [Icicle version of pemulator and decrytion](https://gist.github.com/mrexodia/632561f6e96706be2a40ffab23282c28)"
   ]
  },
  {
   "cell_type": "markdown",
   "id": "c9c4bbf4-0438-4710-81be-aa197fecb07d",
   "metadata": {},
   "source": [
    "## Analysis\n",
    "\n",
    "The focus of our analysis will be to extract the new AES encrypted strings. \n",
    "\n",
    "We are going to use the [pemulator.py](https://gist.github.com/herrcore/d371e1b8cd5730d57e5a4dc4cba4d962) lib to assist with emulation.\n"
   ]
  },
  {
   "cell_type": "code",
   "execution_count": 1,
   "id": "796ddac5-b7da-46ee-8b22-22783700e120",
   "metadata": {},
   "outputs": [],
   "source": [
    "from pemulator import Emulator"
   ]
  },
  {
   "cell_type": "code",
   "execution_count": 3,
   "id": "de80a69d-10a1-4c52-8c21-addddad13db6",
   "metadata": {},
   "outputs": [],
   "source": [
    "file_path = '/tmp/5cecb26a3f33c24b92a0c8f6f5175da0664b21d7c4216a41694e4a4cad233ca8'\n",
    "file_data = open(file_path, 'rb').read()"
   ]
  },
  {
   "cell_type": "code",
   "execution_count": 4,
   "id": "529bc721-45cb-4964-a8f0-1293d6ae713a",
   "metadata": {},
   "outputs": [
    {
     "name": "stdout",
     "output_type": "stream",
     "text": [
      "bytearray(b'POST')\n"
     ]
    }
   ],
   "source": [
    "from unicorn import *\n",
    "from unicorn.x86_const import *\n",
    "import struct \n",
    "\n",
    "emu = Emulator(file_data, mode=64, trace=False)\n",
    "\n",
    "scratch_start = emu.get_memory_upper_bound() + 0x1000\n",
    "emu.emu.mem_map(scratch_start, 0x1000)\n",
    "\n",
    "buff = scratch_start\n",
    "\n",
    "image_base = emu._pe.OPTIONAL_HEADER.ImageBase\n",
    "data_addr = 0x01400110A8\n",
    "dec_fn = 0x014000C1E4\n",
    "\n",
    "# Move buff into rdx\n",
    "emu.emu.reg_write(UC_X86_REG_RDX, buff)\n",
    "\n",
    "# Move enc string into \n",
    "emu.emu.reg_write(UC_X86_REG_RCX, data_addr)\n",
    "\n",
    "# address to end emulation\n",
    "kill_addr = 0xdeadbeef\n",
    "kill_addr_data = struct.pack('<I', kill_addr)\n",
    "\n",
    "esp = emu.emu.reg_read(UC_X86_REG_RSP)\n",
    "emu.emu.mem_write(esp, kill_addr_data)\n",
    "\n",
    "emu.emu.emu_start(dec_fn, kill_addr)\n",
    "\n",
    "tmp_string = emu.emu.mem_read(buff, 0x1000).replace(b'\\x00',b'')\n",
    "print(tmp_string)\n"
   ]
  },
  {
   "cell_type": "code",
   "execution_count": 5,
   "id": "94e7c8b0-460b-4a78-b1cb-4e4c160982b7",
   "metadata": {},
   "outputs": [
    {
     "data": {
      "text/plain": [
       "bytearray(b'POST')"
      ]
     },
     "execution_count": 5,
     "metadata": {},
     "output_type": "execute_result"
    }
   ],
   "source": [
    "def decrypt(data_addr):\n",
    "    emu = Emulator(file_data, mode=64, trace=False)\n",
    "    \n",
    "    scratch_start = emu.get_memory_upper_bound() + 0x1000\n",
    "    emu.emu.mem_map(scratch_start, 0x1000)\n",
    "    \n",
    "    buff = scratch_start\n",
    "    \n",
    "    image_base = emu._pe.OPTIONAL_HEADER.ImageBase\n",
    "    #data_addr = 0x01400110A8\n",
    "    dec_fn = 0x014000C1E4\n",
    "    \n",
    "    # Move buff into rdx\n",
    "    emu.emu.reg_write(UC_X86_REG_RDX, buff)\n",
    "    \n",
    "    # Move enc string into \n",
    "    emu.emu.reg_write(UC_X86_REG_RCX, data_addr)\n",
    "    \n",
    "    # address to end emulation\n",
    "    kill_addr = 0xdeadbeef\n",
    "    kill_addr_data = struct.pack('<I', kill_addr)\n",
    "    \n",
    "    esp = emu.emu.reg_read(UC_X86_REG_RSP)\n",
    "    emu.emu.mem_write(esp, kill_addr_data)\n",
    "    \n",
    "    emu.emu.emu_start(dec_fn, kill_addr)\n",
    "    \n",
    "    tmp_string = emu.emu.mem_read(buff, 0x1000).replace(b'\\x00',b'')\n",
    "    return tmp_string\n",
    "\n",
    "decrypt(0x01400110A8)"
   ]
  },
  {
   "cell_type": "code",
   "execution_count": 12,
   "id": "3c4fce02-5512-446c-aca3-39903c4bc88b",
   "metadata": {},
   "outputs": [
    {
     "name": "stdout",
     "output_type": "stream",
     "text": [
      "0x1400109f8: {\n",
      "0x140010a10: \"pid\": \n",
      "0x140010a30: \"%d\",\n",
      "0x140010a50: \"proc\": \n",
      "0x140010a70: \"%s\",\n",
      "0x140010a90: \"subproc\": [\n",
      "0x140010ab8: ]\n",
      "0x140010ad0: }\n",
      "0x140010c00: &desklinks=[\n",
      "0x140010c28: *.*\n",
      "0x140010c48: \"%s\"\n",
      "0x140010c68: ]\n",
      "0x140010ae8: &proclist=[\n",
      "0x140010b10: {\n",
      "0x140010b28: \"pid\": \n",
      "0x140010b48: \"%d\",\n",
      "0x140010b68: \"proc\": \n",
      "0x140010b88: \"%s\",\n",
      "0x140010ba8: \"subproc\": [\n",
      "0x140010bd0: ]\n",
      "0x140010be8: }\n",
      "0x140010000: /c ipconfig /all\n",
      "0x140010070: C:\\Windows\\System32\\cmd.exe\n",
      "0x140010038: /c systeminfo\n",
      "0x1400100c0: C:\\Windows\\System32\\cmd.exe\n",
      "0x140010110: /c nltest /domain_trusts\n",
      "0x140010190: C:\\Windows\\System32\\cmd.exe\n",
      "0x1400101e0: /c nltest /domain_trusts /all_trusts\n",
      "0x140010240: C:\\Windows\\System32\\cmd.exe\n",
      "0x140010290: /c net view /all /domain\n",
      "0x140010300: C:\\Windows\\System32\\cmd.exe\n",
      "0x140010158: /c net view /all\n",
      "0x140010350: C:\\Windows\\System32\\cmd.exe\n",
      "0x1400103a0: /c net group \"Domain Admins\" /domain\n",
      "0x140010400: C:\\Windows\\System32\\cmd.exe\n",
      "0x140010450: /Node:localhost /Namespace:\\\\root\\SecurityCenter2 Path AntiVirusProduct Get * /Format:List\n",
      "0x140010520: C:\\Windows\\System32\\wbem\\wmic.exe\n",
      "0x140010580: /c net config workstation\n",
      "0x1400105d0: C:\\Windows\\System32\\cmd.exe\n",
      "0x140010620: /c wmic.exe /node:localhost /namespace:\\\\root\\SecurityCenter2 path AntiVirusProduct Get DisplayName | findstr /V /B /C:displayName || echo No Antivirus installed\n",
      "0x140010780: C:\\Windows\\System32\\cmd.exe\n",
      "0x1400107d0: /c whoami /groups\n",
      "0x140010810: C:\\Windows\\System32\\cmd.exe\n",
      "0x1400102d8: &ipconfig=\n",
      "0x140010860: &systeminfo=\n",
      "0x140010888: &domain_trusts=\n",
      "0x1400108b0: &domain_trusts_all=\n",
      "0x1400108e0: &net_view_all_domain=\n",
      "0x140010910: &net_view_all=\n",
      "0x140010938: &net_group=\n",
      "0x140010960: &wmic=\n",
      "0x140010980: &net_config_ws=\n",
      "0x1400109a8: &net_wmic_av=\n",
      "0x1400109d0: &whoami_group=\n",
      "0x140010cb0: Custom_update\n",
      "0x140010c80: Update_%x\n",
      "0x140010ce8: .dll\n",
      "0x140010d08: .exe\n",
      "0x140010d28: Updater\n",
      "0x140010d50: \"%s\"\n",
      "0x140010d70: \n",
      "0x140010d88: rundll32.exe\n",
      "0x140010db8: \"%s\", %s %s\n",
      "0x140010df0: runnung\n",
      "0x140010e18: :wtfbbq\n",
      "0x140010f98: front\n",
      "0x140010fb8: /files/\n",
      "0x140010fd8: .exe\n",
      "0x140010e70: %d\n",
      "0x140010e90: %s%s\n",
      "0x140010eb0: files/bp.dat\n",
      "0x140010ed8: %s\\%d.dll\n",
      "0x140010f08: %d.dat\n",
      "0x140010f30: %s\\%s\n",
      "0x140010f58: init -zzzz=\"%s\\%s\"\n",
      "0x140010e48: %s/%s\n",
      "0x140010ff8: Wiski\n",
      "0x140011018: .exe\n",
      "0x140011120: Mozilla/4.0 (compatible; MSIE 7.0; Windows NT 5.1; Tob 1.1)\n",
      "0x1400111b0: Mozilla/4.0 (compatible; MSIE 7.0; Windows NT 5.1; Tob 1.1)\n",
      "0x140011060: Content-Type: application/x-www-form-urlencoded\n",
      "0x1400110a8: POST\n",
      "0x1400110c8: GET\n",
      "0x140011250: CLEARURL\n",
      "0x140011270: URLS\n",
      "0x140011290: COMMAND\n",
      "0x1400112b0: ERROR\n",
      "0x1400112d0: 2sDbsEUXvhgLOO4Irt8AF6el3jJ0M1MowXyao00Nn6ZUjtjXwb\n",
      "0x140011320: counter=%d&type=%d&guid=%s&os=%d&arch=%d&username=%s&group=%lu&ver=%d.%d&up=%d&direction=%s\n",
      "0x1400113a0: counter=%d&type=%d&guid=%s&os=%d&arch=%d&username=%s&group=%lu&ver=%d.%d&up=%d&direction=%s\n",
      "0x140011420: counter=%d&type=%d&guid=%s&os=%d&arch=%d&username=%s&group=%lu&ver=%d.%d&up=%d&direction=%s\n",
      "0x140011498: &dpost=[{\"data\":\"\n",
      "0x1400114c0: \"}]\n",
      "0x140011b30: ABCDEFGHIJKLMNOPQRSTUVWXYZabcdefghijklmnopqrstuvwxyz0123456789+/\n",
      "0x140011be8: https://minrezviko.com/test/\n",
      "0x140011c20: https://agrahusrat.com/test/\n",
      "0x140011748: %s%d.dll\n",
      "0x1400118e0: %s%d.exe\n",
      "0x1400117d0: Mozilla/4.0 (compatible; MSIE 7.0; Windows NT 5.1; Tob 1.1)\n",
      "0x140011860: <html>\n",
      "0x140011728: <!DOCTYPE\n",
      "0x140011508: AppData\n",
      "0x140011530: Desktop\n",
      "0x140011558: Startup\n",
      "0x140011580: Personal\n",
      "0x1400115a8: Local AppData\n",
      "0x140011620: Software\\Microsoft\\Windows\\CurrentVersion\\Explorer\\Shell Folders\n",
      "0x140011a18: &mac=\n",
      "0x140011a38: %02x\n",
      "0x140011a98: ;\n",
      "0x140011ab0: &computername=%s\n",
      "0x140011ad8: &domain=%s\n",
      "0x1400115e0: \\Registry\\Machine\\\n",
      "0x140011bb8: %04X%04X%04X%04X%08X%04X\n",
      "0x140011b00: \\*.dll\n",
      "0x14001189c: -------> bytearray(b'\\xd9\\x80I\\x9c\\xf8\\xa5\\xbbCr\\xb9B\\xd8k\\xc0j\\xfa3\\x9d\\xdcR3\\xc8\\xe9\\xc8\\x04\\xcf\\xdb\\xddA4\\t\\x15\\xf6\\xd4\\xb7\\xa3~\\xd7B,\\x93ph\\xc9D\\xdd\\x12\\xc0~?A\\x9b\\xd8^f\\x86\\x12\\x17\\x89W\\xefB]\\x9b\\xb9\\x81\\x12\\xbaI{\\xe0q\\x1b\\xba\\x08Bsl=\\x16P\"\\xaf\\x0f\\xe6U0\\x87\\x85\\x12\\x05\\x1f')\n",
      "0x1400116c0: C:\\WINDOWS\\SYSTEM32\\rundll32.exe %s,%s\n",
      "0x140011770: C:\\WINDOWS\\SYSTEM32\\rundll32.exe %s\n",
      "0x1400118a0: 12345\n",
      "0x1400118c0: &stiller=\n",
      "0x140011880: 12345\n",
      "0x140011960: TimeTrigger\n",
      "0x140011990: PT0H%02dM\n",
      "0x1400119c0: %04d-%02d-%02dT%02d:%02d:%02d\n",
      "0x140011a78: PT0S\n",
      "0x140011c58: \\update_data.dat\n",
      "0x140011ca0: URLS\n",
      "0x140011cc0: URLS|%d|%s\n",
      "\n"
     ]
    }
   ],
   "source": [
    "import re\n",
    "\n",
    "tmp_emu = Emulator(file_data, mode=64, trace=False)\n",
    "\n",
    "# Find all refs to the enc strings\n",
    "#\n",
    "# .text:0000000140005E19 48 8D 94 24 80 00 00 00                 lea     rdx, [rsp+188h+var_108]\n",
    "# .text:0000000140005E21 48 8D 0D 80 B2 00 00                    lea     rcx, word_1400110A8\n",
    "# .text:0000000140005E28 E8 B7 63 00 00                          call    latro_str_decryption_main\n",
    "#\n",
    "# .text:0000000140007A83 48 8D 54 24 40                          lea     rdx, [rsp+88h+var_48]\n",
    "# .text:0000000140007A88 48 8D 0D 91 A1 00 00                    lea     rcx, word_140011C20\n",
    "# .text:0000000140007A8F E8 50 47 00 00                          call    latro_str_decryption_main\n",
    "\n",
    "egg = rb'\\x48\\x8D.{3,6}\\x48\\x8D\\x0D(....)\\xE8'\n",
    "\n",
    "for match in re.finditer(egg, file_data):\n",
    "    match_len = len(match.group())\n",
    "    if match_len == 13:\n",
    "        # Smaller offset\n",
    "        image_base = tmp_emu._pe.OPTIONAL_HEADER.ImageBase\n",
    "        start_address = tmp_emu._pe.get_rva_from_offset(match.start()) + image_base\n",
    "        data_addr = struct.unpack('<I', match.group(1))[0] + 12 + start_address\n",
    "    else:\n",
    "        image_base = tmp_emu._pe.OPTIONAL_HEADER.ImageBase\n",
    "        start_address = tmp_emu._pe.get_rva_from_offset(match.start()) + image_base\n",
    "        data_addr = struct.unpack('<I', match.group(1))[0] + 15 + start_address\n",
    "    #print(f\"{hex(start_address)}: STRING: {hex(data_addr)}\")\n",
    "    try:\n",
    "        tmp_string = decrypt(data_addr)\n",
    "        if tmp_string.isascii():\n",
    "            out = tmp_string.decode('utf-8')\n",
    "            print(f\"{hex(data_addr)}: {out}\")\n",
    "        else:\n",
    "            print(f\"{hex(data_addr)}: -------> {tmp_string}\")\n",
    "    except:\n",
    "        print(f\"{hex(data_addr)}: ***ERROR - no string\")\n",
    "        \n",
    "\n",
    "\n"
   ]
  },
  {
   "cell_type": "code",
   "execution_count": 37,
   "id": "f57c3226-26be-4b30-9755-7cdc5e241d86",
   "metadata": {},
   "outputs": [
    {
     "data": {
      "text/plain": [
       "'0x140011c20'"
      ]
     },
     "execution_count": 37,
     "metadata": {},
     "output_type": "execute_result"
    }
   ],
   "source": [
    "hex(0x0140007A8F + 0xa191)"
   ]
  },
  {
   "cell_type": "code",
   "execution_count": 40,
   "id": "3a79c767-7884-40e1-bad6-43e2300cf707",
   "metadata": {},
   "outputs": [
    {
     "data": {
      "text/plain": [
       "'0x140000000'"
      ]
     },
     "execution_count": 40,
     "metadata": {},
     "output_type": "execute_result"
    }
   ],
   "source": []
  },
  {
   "cell_type": "code",
   "execution_count": null,
   "id": "3f792eb6-39d3-4aa9-a124-f4d6d2067c52",
   "metadata": {},
   "outputs": [],
   "source": []
  }
 ],
 "metadata": {
  "kernelspec": {
   "display_name": "Python 3 (ipykernel)",
   "language": "python",
   "name": "python3"
  },
  "language_info": {
   "codemirror_mode": {
    "name": "ipython",
    "version": 3
   },
   "file_extension": ".py",
   "mimetype": "text/x-python",
   "name": "python",
   "nbconvert_exporter": "python",
   "pygments_lexer": "ipython3",
   "version": "3.11.5"
  }
 },
 "nbformat": 4,
 "nbformat_minor": 5
}
