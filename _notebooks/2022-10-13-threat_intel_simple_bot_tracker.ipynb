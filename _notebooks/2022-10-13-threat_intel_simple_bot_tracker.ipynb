{
 "cells": [
  {
   "cell_type": "markdown",
   "id": "8b370959-31e6-4c89-b110-5a6d9acc8d89",
   "metadata": {},
   "source": [
    "# Threat Intel - Building A Simple Botnet Tracker\n",
    "> Introduction to threat intel\n",
    "\n",
    "- toc: true \n",
    "- badges: true\n",
    "- categories: [threatintel,botnet,tracker,automation,python,dbatloader]\n"
   ]
  },
  {
   "cell_type": "markdown",
   "id": "c1a065a9-e94f-40cd-87db-d576c2bfc566",
   "metadata": {},
   "source": [
    "![](https://i.imgur.com/poIemWD.jpg)"
   ]
  },
  {
   "cell_type": "markdown",
   "id": "28a84839-d9a9-4301-bde7-dfc54978e518",
   "metadata": {},
   "source": [
    "## Overview\n",
    "This is a **very simplified** overview of the cyber threat intelligence production cycle and consumers. It is only meant to inform the most casual of reader as to **why we reverse engineer malware**."
   ]
  },
  {
   "cell_type": "markdown",
   "id": "9ab8bcac-7d9f-4784-b7eb-996fa6dd7c4c",
   "metadata": {},
   "source": [
    "### Corporate Security\n",
    "In a mature corporate security program there needs to be a way for the program to track success, and plan for the future. This is where **threat intel** plays the largest role. The **threat intel** product can both provide a picture of the current and emerging threats faced by an organization, as well as provide operational support for their security controls (data feeds for blocklists etc.)\n",
    "\n",
    "![](https://i.imgur.com/N4pkf05.png)\n",
    "\n",
    "### Corporate Consumption of The Intel Product\n",
    "The corporate value proposition for **threat intel** is simple; *we give you a picture of the threats you face and how they operate so you can protect yourself*. In practice the intel product itself takes many forms each oriented towards a different consumer within the organization. \n",
    "\n",
    "![](https://i.imgur.com/MF6vG6r.png)\n",
    "\n",
    "### Intel Production Process\n",
    "The **threat intel** production process can be visualized as a funnel with raw data consumed at the opening of the funnel and finished intel product produced at the narrow end. In practice the customer requirements usually drive the finished intelligence product while the internal intel process may drive the raw data collection.\n",
    "\n",
    "#### Finished Intelligence\n",
    "With each step in the in intelligence production pipeline the information is refined and enriched to provide a more informed and compelling picture of the current threat landscape. Technical reports produced by **reverse engineers** at the *technical analysis* layer may be producing product that is complete enough to be directly consumed by technical functions within the customer organization.**Intelligence analysts** sit at the narrow end of the intelligence funnel and are not necessarily technical. The final product from an intelligence analyst can often by summarized for briefing at the C-level of the customer organization.\n",
    "\n",
    "#### Operational Intelligence \n",
    "With the emergence of the **detection engineering** role (both within the customer organization as well as within the intel production pipeline) there is also a secondary funnel. The primary role of the detection engineer within the intel pipeline is to produce raw intelligence (one step above data) that can be machine consumable for security controls (rules, IOCs, etc.) The primary role of the detection engineer within the customer organization is to consume this raw intelligence and ensure it is fed into their security controls. This hybrid role forms a synergy (cringe) between the intel production pipeline and the security controls products (EDR, FIREWALL, etc.) Sometimes this secondary funnel is referred to as **operational intelligence**.\n",
    "\n",
    "![](https://i.imgur.com/uRH0N6k.png)\n"
   ]
  },
  {
   "cell_type": "markdown",
   "id": "d82eef13-a8cc-4b7f-aa16-574062a8120f",
   "metadata": {},
   "source": [
    "## Simple DbatLoader Tracker\n",
    "\n",
    "Our tracker will be responsible for pulling down the payloads deployed by **dbatloader**. Each loader sample contains a download URL which can be used to download a unique (I think?) payload. The payloads are encrypted with a simple format that we reverse engineered on a past [stream](https://research.openanalysis.net/dbatloader/delphi/loader/config/triage/2022/09/04/dbatloader.html).\n",
    "\n",
    "### The Tracker Architecture \n",
    "- Use the UnpacMe feed to pull all new dbatloader ULRs\n",
    "- Download the payloads\n",
    "- Decrypt them and ???"
   ]
  },
  {
   "cell_type": "markdown",
   "id": "bc1360e4-985a-4ded-b3fe-ebbf0f508b51",
   "metadata": {},
   "source": [
    "**TODO**"
   ]
  }
 ],
 "metadata": {
  "kernelspec": {
   "display_name": "Python 3",
   "language": "python",
   "name": "python3"
  },
  "language_info": {
   "codemirror_mode": {
    "name": "ipython",
    "version": 3
   },
   "file_extension": ".py",
   "mimetype": "text/x-python",
   "name": "python",
   "nbconvert_exporter": "python",
   "pygments_lexer": "ipython3",
   "version": "3.9.5"
  }
 },
 "nbformat": 4,
 "nbformat_minor": 5
}
