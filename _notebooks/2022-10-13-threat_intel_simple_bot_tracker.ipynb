{
 "cells": [
  {
   "cell_type": "markdown",
   "id": "8b370959-31e6-4c89-b110-5a6d9acc8d89",
   "metadata": {},
   "source": [
    "# Threat Intel - Building A Simple Botnet Tracker\n",
    "> Introduction to threat intel\n",
    "\n",
    "- toc: true \n",
    "- badges: true\n",
    "- categories: [threatintel,botnet,tracker,automation,python,dbatloader]\n"
   ]
  },
  {
   "cell_type": "markdown",
   "id": "c1a065a9-e94f-40cd-87db-d576c2bfc566",
   "metadata": {},
   "source": [
    "![](https://i.imgur.com/poIemWD.jpg)"
   ]
  },
  {
   "cell_type": "markdown",
   "id": "28a84839-d9a9-4301-bde7-dfc54978e518",
   "metadata": {},
   "source": [
    "## Overview\n",
    "This is a **very simplified** overview of the cyber threat intelligence production cycle and consumers. It is only meant to inform the most casual of reader as to **why we reverse engineer malware**."
   ]
  },
  {
   "cell_type": "markdown",
   "id": "9ab8bcac-7d9f-4784-b7eb-996fa6dd7c4c",
   "metadata": {},
   "source": [
    "### Corporate Security\n",
    "In a mature corporate security program there needs to be a way for the program to track success, and plan for the future. This is where **threat intel** plays the largest role. The **threat intel** product can both provide a picture of the current and emerging threats faced by an organization, as well as provide operational support for their security controls (data feeds for blocklists etc.)\n",
    "\n",
    "![](https://i.imgur.com/N4pkf05.png)\n",
    "\n",
    "### Corporate Consumption of The Intel Product\n",
    "The corporate value proposition for **threat intel** is simple; *we give you a picture of the threats you face and how they operate so you can protect yourself*. In practice the intel product itself takes many forms each oriented towards a different consumer within the organization. \n",
    "\n",
    "![](https://i.imgur.com/MF6vG6r.png)\n",
    "\n",
    "### Intel Production Process\n",
    "The **threat intel** production process can be visualized as a funnel with raw data consumed at the opening of the funnel and finished intel product produced at the narrow end. In practice the customer requirements usually drive the finished intelligence product while the internal intel process may drive the raw data collection.\n",
    "\n",
    "#### Finished Intelligence\n",
    "With each step in the in intelligence production pipeline the information is refined and enriched to provide a more informed and compelling picture of the current threat landscape. Technical reports produced by **reverse engineers** at the *technical analysis* layer may be producing product that is complete enough to be directly consumed by technical functions within the customer organization.**Intelligence analysts** sit at the narrow end of the intelligence funnel and are not necessarily technical. The final product from an intelligence analyst can often by summarized for briefing at the C-level of the customer organization.\n",
    "\n",
    "#### Operational Intelligence \n",
    "With the emergence of the **detection engineering** role (both within the customer organization as well as within the intel production pipeline) there is also a secondary funnel. The primary role of the detection engineer within the intel pipeline is to produce raw intelligence (one step above data) that can be machine consumable for security controls (rules, IOCs, etc.) The primary role of the detection engineer within the customer organization is to consume this raw intelligence and ensure it is fed into their security controls. This hybrid role forms a synergy (cringe) between the intel production pipeline and the security controls products (EDR, FIREWALL, etc.) Sometimes this secondary funnel is referred to as **operational intelligence**.\n",
    "\n",
    "![](https://i.imgur.com/uRH0N6k.png)\n"
   ]
  },
  {
   "cell_type": "markdown",
   "id": "d82eef13-a8cc-4b7f-aa16-574062a8120f",
   "metadata": {},
   "source": [
    "## Simple DbatLoader Tracker\n",
    "\n",
    "Our tracker will be responsible for pulling down the payloads deployed by **dbatloader**. Each loader sample contains a download URL which can be used to download a unique (I think?) payload. The payloads are encrypted with a simple format that we reverse engineered on a past [stream](https://research.openanalysis.net/dbatloader/delphi/loader/config/triage/2022/09/04/dbatloader.html).\n",
    "\n",
    "### The Tracker Architecture \n",
    "- Use the UnpacMe feed to pull all new dbatloader ULRs\n",
    "- Download the payloads\n",
    "- Decrypt them and ???"
   ]
  },
  {
   "cell_type": "markdown",
   "id": "bc1360e4-985a-4ded-b3fe-ebbf0f508b51",
   "metadata": {},
   "source": [
    "**TODO**"
   ]
  },
  {
   "cell_type": "code",
   "execution_count": 52,
   "id": "19da0d59-ff16-4036-b2f7-179d0f022c20",
   "metadata": {},
   "outputs": [],
   "source": [
    "import os\n",
    "api_key = os.environ.get('API_KEY')"
   ]
  },
  {
   "cell_type": "code",
   "execution_count": 55,
   "id": "ed629a14-8c4c-4738-aba1-ff79742f75b0",
   "metadata": {},
   "outputs": [],
   "source": [
    "import requests\n",
    "import hashlib\n"
   ]
  },
  {
   "cell_type": "code",
   "execution_count": 53,
   "id": "f3e8fc0d-5951-42d4-9031-8ab68fa175c8",
   "metadata": {},
   "outputs": [
    {
     "data": {
      "text/plain": [
       "['https://onedrive.live.com/download?cid=EE3CB851BBF42204&resid=EE3CB851BBF42204%21117&authkey=AP6g5cIxaUzrxIM ']"
      ]
     },
     "execution_count": 53,
     "metadata": {},
     "output_type": "execute_result"
    }
   ],
   "source": [
    "\n",
    "        \n",
    "sample_id = 'c37e0dc8-934f-4f61-b3c9-9cdbc4ca6be5'\n",
    "\n",
    "def get_c2_from_sample(sample_id):\n",
    "    url = f\"https://api.unpac.me/api/v1/private/results/{sample_id}\"\n",
    "    headers = {\"Authorization\":api_key}\n",
    "    response = requests.get(url, headers=headers)\n",
    "    response_json = response.json()\n",
    "    c2s = []\n",
    "    for result in response_json.get('results',[]):\n",
    "        if 'config' in result:\n",
    "            config = result.get('config',{}).get('config',{})\n",
    "            for c2 in config.get('c2s',[]):\n",
    "                if c2.get('type',None) == 'url':\n",
    "                    url = c2.get('value',None)\n",
    "                    if url is not None:\n",
    "                        c2s.append(url)\n",
    "    return list(set(c2s))\n",
    "\n",
    "get_c2_from_sample(sample_id)\n",
    "\n",
    "\n",
    "        \n"
   ]
  },
  {
   "cell_type": "code",
   "execution_count": 54,
   "id": "dbc8d3b6-2412-46a2-b2a0-aeaaea648670",
   "metadata": {},
   "outputs": [
    {
     "data": {
      "text/plain": [
       "[('e57273b7f448b8713bd164d86bfd24a01570a4f5902e09fd07d6df7088458cd1',\n",
       "  'https://onedrive.live.com/download?cid=B9FA79B0FDF4BC7C&resid=B9FA79B0FDF4BC7C%21125&authkey=ACsEbxwfEBMdCD'),\n",
       " ('4e72f9068a19d1b59183b5a9a2e8ccedd5b2165fc523828002f8a584d3cada49',\n",
       "  'https://onedrive.live.com/download?cid=EE3CB851BBF42204&resid=EE3CB851BBF42204%21117&authkey=AP6g5cIxaUzrxIM ')]"
      ]
     },
     "execution_count": 54,
     "metadata": {},
     "output_type": "execute_result"
    }
   ],
   "source": [
    "def get_c2s_from_feed():\n",
    "    c2s = []\n",
    "    url = 'https://api.unpac.me/api/v1/private/feed/unpacked/yara/DbatLoaderStage1'\n",
    "    headers = {\"Authorization\":api_key}\n",
    "    response = requests.get(url, headers=headers)\n",
    "    response_json = response.json()\n",
    "    configs = []\n",
    "\n",
    "    for sample in response_json.get('submissions',[]):\n",
    "        if sample.get('configs',False):\n",
    "            # Get the config\n",
    "            sample_sha256 = sample.get('submission_sha256',None)\n",
    "            sample_id = sample.get('id',None)\n",
    "            if sample_id is not None:\n",
    "                for c2 in get_c2_from_sample(sample_id):\n",
    "                    yield sample_sha256,c2\n",
    "\n",
    "\n",
    "list(get_c2s_from_feed())"
   ]
  },
  {
   "cell_type": "code",
   "execution_count": 41,
   "id": "0e1c46ab-95de-40bb-9a1a-f937ca66d3e8",
   "metadata": {},
   "outputs": [],
   "source": [
    "c2 = 'https://onedrive.live.com/download?cid=EE3CB851BBF42204&resid=EE3CB851BBF42204%21117&authkey=AP6g5cIxaUzrxIM'\n",
    "\n",
    "\n",
    "def get_payload(c2):\n",
    "    out_data = None\n",
    "    headers = {'User-Agent': 'Mozilla/5.0 (Windows NT 10.0; Win64; x64) AppleWebKit/537.36 (KHTML, like Gecko) Chrome/106.0.0.0 Safari/537.36 Edg/106.0.1370.34'}\n",
    "    response = requests.get(c2, headers=headers)\n",
    "    if response.ok:\n",
    "        out_data = response.content\n",
    "    return out_data\n",
    "\n",
    "    \n",
    "\n",
    "\n"
   ]
  },
  {
   "cell_type": "code",
   "execution_count": 42,
   "id": "be9ab4cd-bc15-4103-829c-0225ef36247d",
   "metadata": {},
   "outputs": [],
   "source": [
    "def decrypt_payload(data, key, delim):\n",
    "    out = []\n",
    "    for c in data:\n",
    "        if c & 1 != 0:\n",
    "            out.append((c + key) & 0xff)\n",
    "        else:\n",
    "            out.append((c - key) & 0xff)\n",
    "    out = bytes(out)\n",
    "    out = out[::-1]\n",
    "    return out.split(delim)\n",
    "\n"
   ]
  },
  {
   "cell_type": "code",
   "execution_count": 71,
   "id": "d7ea2851-5c4a-48c1-a976-c847c60b20b3",
   "metadata": {},
   "outputs": [
    {
     "name": "stdout",
     "output_type": "stream",
     "text": [
      "Downloading payload for 4e72f9068a19d1b59183b5a9a2e8ccedd5b2165fc523828002f8a584d3cada49\n",
      "\tURL: https://onedrive.live.com/download?cid=EE3CB851BBF42204&resid=EE3CB851BBF42204%21117&authkey=AP6g5cIxaUzrxIM\n",
      "\tDropping pyload to /tmp/7f4006b1553a899a9fe253c57e97418251d81bb98afd68683bb9c35fcf611e8e.bin\n"
     ]
    }
   ],
   "source": [
    "def addit(data, key):\n",
    "    out = []\n",
    "    for c in data:\n",
    "        out.append((c + (0x112 % key))&0xff)\n",
    "    return bytes(out)\n",
    "\n",
    "\n",
    "def decrypt_yak(data):\n",
    "    \"\"\"\n",
    "    implements the first decryption layer of function 0x416408\n",
    "    \"\"\"\n",
    "    res = bytearray(data)\n",
    "    for i, c in enumerate(data):\n",
    "        if 0x21 <= c <= 0x7e:\n",
    "            res[i] = ((((c + 0xe) % 0x5e) + 0x21) & 0xff)\n",
    "    return bytes(res)\n",
    "\n",
    "\n",
    "def decrypt_payload_section(section_data, main_key, section_key):\n",
    "    out = []\n",
    "    key_len = len(section_key)\n",
    "    section_data_len = len(section_data)\n",
    "    key_count = 0\n",
    "    for i in range(section_data_len):\n",
    "        tmp_byte = (section_data[i] ^ section_data_len ) & 0xff\n",
    "        out.append((section_key[key_count]  ^ key_len ^ tmp_byte ) & 0xff)\n",
    "        key_count = (key_count + 1) % key_len\n",
    "\n",
    "    payload_out = bytes(out)\n",
    "    payload_out_dec = addit(payload_out, main_key)\n",
    "    payload_out_dec = payload_out_dec[::-1]\n",
    "    return decrypt_yak(payload_out_dec)\n",
    "\n",
    "\n",
    "def decrypt_download(data, key, delim):\n",
    "    out_sections = decrypt_payload(data, key, delim)\n",
    "    if len(out_sections) <= 4:\n",
    "        print(\"Not enough sections decrypted\")\n",
    "        return None\n",
    "    section_key = out_sections[1]\n",
    "    section_data = out_sections[3]\n",
    "    return decrypt_payload_section(section_data, key, section_key)\n",
    "\n",
    "\n",
    "\n",
    "\n",
    "key = 217\n",
    "delim = b'*()%@5YT!@#G__T@#$%^&*()__#@$#57$#!@'\n",
    "out_dir = '/tmp'\n",
    "\n",
    "for sample_sha256,c2 in get_c2s_from_feed():\n",
    "    # Lol fix url format\n",
    "    c2 = c2.strip(\" \")\n",
    "    print(f\"Downloading payload for {sample_sha256}\")\n",
    "    print(f\"\\tURL: {c2}\")\n",
    "    payload = get_payload(c2)\n",
    "    if payload is None:\n",
    "        print(\"\\tURL is dead\")\n",
    "        continue\n",
    "    if payload.find(b'</html>') != -1:\n",
    "        print(\"\\tPayload removed\")\n",
    "        continue\n",
    "    final_payload = decrypt_download(payload, key, delim)\n",
    "    payload_hash = hashlib.sha256(final_payload).hexdigest()\n",
    "    payload_path = f\"{out_dir}/{payload_hash}.bin\"\n",
    "    print(f\"\\tDropping pyload to {payload_path}\")\n",
    "    with open(payload_path,'wb') as fp:\n",
    "        fp.write(final_payload)\n",
    "\n",
    "\n"
   ]
  },
  {
   "cell_type": "code",
   "execution_count": null,
   "id": "eda3c175-2d62-441e-ba72-536556003575",
   "metadata": {},
   "outputs": [],
   "source": []
  },
  {
   "cell_type": "code",
   "execution_count": null,
   "id": "fd26a9a6-cec4-4aa9-b4f1-dafe57fbe3e2",
   "metadata": {},
   "outputs": [],
   "source": []
  }
 ],
 "metadata": {
  "kernelspec": {
   "display_name": "Python 3",
   "language": "python",
   "name": "python3"
  },
  "language_info": {
   "codemirror_mode": {
    "name": "ipython",
    "version": 3
   },
   "file_extension": ".py",
   "mimetype": "text/x-python",
   "name": "python",
   "nbconvert_exporter": "python",
   "pygments_lexer": "ipython3",
   "version": "3.9.5"
  }
 },
 "nbformat": 4,
 "nbformat_minor": 5
}
