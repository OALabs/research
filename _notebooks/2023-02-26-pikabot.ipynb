{
 "cells": [
  {
   "cell_type": "markdown",
   "id": "2ee30611-9106-4db9-8866-b0e6db3f4d7e",
   "metadata": {},
   "source": [
    "# PikaBot\n",
    "> Tiny loader that seems very familiar\n",
    "\n",
    "- toc: true \n",
    "- badges: true\n",
    "- categories: [pikabot,yara,config,loader]\n"
   ]
  },
  {
   "cell_type": "markdown",
   "id": "d64b1acc-1f89-4fe0-b92a-86460534c2a4",
   "metadata": {},
   "source": [
    "## Overview\n",
    "\n",
    "### References \n",
    "\n",
    "- [PikaBot and the Matanbuchus connection](https://medium.com/@DCSO_CyTec/shortandmalicious-pikabot-and-the-matanbuchus-connection-5e302644398)\n",
    "- [Tweet from @1ZRR4H](https://twitter.com/1zrr4h/status/1623600348060389376)\n",
    "\n",
    "### Samples\n",
    "\n",
    "#### Loader\n",
    "\n",
    "- `67c61f649ec276eb57fcfe70dbd6e33b4c05440ee10356a3ef10fad9d0e224ef` (packed)\n",
    "  - [UnpacMe Analysis](https://www.unpac.me/results/f7d4cd67-18e9-4316-b4c6-9a1c66c9129c/#/)\n",
    "  - `05d1b791865c9551ed8da6a170eb6f945a4d1e79cb70341f589cc47bacf78cc3` (unpacked)\n",
    "\n",
    "Lol jupyter notebooks suck\n",
    "\n",
    "- `c666aeb7ed75e58b645a2a4d1bc8c9d0a0a076a8a459e33c6dc60d12f4fa0c01` (packed)\n",
    "  - [UnpacMe Analysis](https://www.unpac.me/results/70b64b50-5fe2-4ae9-aeb7-85a295558a5e#/)\n",
    "  - `8528b4fbb050be27debef474bd27d441d92196f5d19840f94afa979e8483c8ef` (unpacked)\n",
    "\n",
    "#### Core\n",
    "- `59f42ecde152f78731e54ea27e761bba748c9309a6ad1c2fd17f0e8b90f8aed1` (not packed)\n",
    "  - [UnpacMe Analysis](https://wwww.unpac.me/results/1a175e48-1ab6-47d7-86d9-f3ece1db8a80#/)\n"
   ]
  },
  {
   "cell_type": "markdown",
   "id": "1c6426b3-7cfa-4339-8feb-82e63be3a139",
   "metadata": {},
   "source": [
    "## Analysis\n",
    "\n",
    "- Something is weird with the dll (did we unpack it wrong?) when run we don't call the entrypoint for some reason?\n",
    "- There is a simple API hashing algo used to hash two APIs (`GetProcAddress`,`LoadLibraryA`) to construct a dynamic API resolve function\n",
    "- API names are protected as encrypted stack strings \n",
    "\n"
   ]
  },
  {
   "cell_type": "markdown",
   "id": "b9307815-6e66-4922-86eb-607936ab05fc",
   "metadata": {},
   "source": [
    "### String Decryption"
   ]
  },
  {
   "cell_type": "code",
   "execution_count": 17,
   "id": "0c585ce1-2cbc-4764-850e-6d634f16e0e4",
   "metadata": {},
   "outputs": [
    {
     "name": "stdout",
     "output_type": "stream",
     "text": [
      "loaded\n"
     ]
    }
   ],
   "source": [
    "from dumpulator import Dumpulator\n",
    "\n",
    "dp = Dumpulator(\"/tmp/pika2.dmp\", quiet=True)\n",
    "print('loaded')"
   ]
  },
  {
   "cell_type": "code",
   "execution_count": 18,
   "id": "349458dd-159c-455a-aa1a-141fdd6683ce",
   "metadata": {},
   "outputs": [
    {
     "name": "stdout",
     "output_type": "stream",
     "text": [
      "done\n"
     ]
    }
   ],
   "source": [
    "dll_base = 0x00540000\n",
    "\n",
    "dp.start(0x005A2013, end=0x005A203A)\n",
    "\n",
    "print('done')\n"
   ]
  },
  {
   "cell_type": "code",
   "execution_count": 30,
   "id": "9939b501-6e83-4ff7-8e15-f0ef2e357916",
   "metadata": {},
   "outputs": [
    {
     "data": {
      "text/plain": [
       "bytearray(b'Kernel32.dll')"
      ]
     },
     "execution_count": 30,
     "metadata": {},
     "output_type": "execute_result"
    }
   ],
   "source": [
    "dp.read(dp.regs.ebp - 0x1c, 12)"
   ]
  },
  {
   "cell_type": "code",
   "execution_count": 31,
   "id": "24209922-0610-4899-b4e6-7ade0b7e3a42",
   "metadata": {},
   "outputs": [
    {
     "name": "stdout",
     "output_type": "stream",
     "text": [
      "loaded\n",
      "done\n"
     ]
    }
   ],
   "source": [
    "dp = Dumpulator(\"/tmp/pika2.dmp\", quiet=True)\n",
    "print('loaded')\n",
    "dp.start(0x005A2041, end=0x00005A206E)\n",
    "print('done')"
   ]
  },
  {
   "cell_type": "code",
   "execution_count": 32,
   "id": "767f661b-df6d-4151-bc3a-c9cd61b5cb4c",
   "metadata": {},
   "outputs": [
    {
     "data": {
      "text/plain": [
       "bytearray(b'User32.dll\\x00w')"
      ]
     },
     "execution_count": 32,
     "metadata": {},
     "output_type": "execute_result"
    }
   ],
   "source": [
    "dp.read(dp.regs.edx, 12)"
   ]
  },
  {
   "cell_type": "markdown",
   "id": "4078d726-6917-4665-82ba-89c1431a01ab",
   "metadata": {},
   "source": [
    "#### DLL Names\n",
    "The API resolving function passes a flag in the first argument which is used to select one of three hard-coded DLLs to load APIs from. The DLL names are hard coded as encrypted stack strings.\n",
    "\n",
    "```\n",
    "1 -> Kernel32.dll\n",
    "2 -> User32.dll\n",
    "6 -> Advapi32.dll\n",
    "```"
   ]
  },
  {
   "cell_type": "markdown",
   "id": "5434e7b1-c985-4d96-976c-a4ff0a0e7577",
   "metadata": {},
   "source": [
    "**Stay tuned for the next stream....**  https://www.twitch.tv/oalabslive"
   ]
  },
  {
   "cell_type": "code",
   "execution_count": null,
   "id": "40f04825-431e-4ec2-8fa7-034248547aea",
   "metadata": {},
   "outputs": [],
   "source": []
  }
 ],
 "metadata": {
  "kernelspec": {
   "display_name": "Python 3",
   "language": "python",
   "name": "python3"
  },
  "language_info": {
   "codemirror_mode": {
    "name": "ipython",
    "version": 3
   },
   "file_extension": ".py",
   "mimetype": "text/x-python",
   "name": "python",
   "nbconvert_exporter": "python",
   "pygments_lexer": "ipython3",
   "version": "3.9.5"
  }
 },
 "nbformat": 4,
 "nbformat_minor": 5
}
