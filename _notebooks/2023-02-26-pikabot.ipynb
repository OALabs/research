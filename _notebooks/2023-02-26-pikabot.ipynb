{
 "cells": [
  {
   "cell_type": "markdown",
   "id": "2ee30611-9106-4db9-8866-b0e6db3f4d7e",
   "metadata": {},
   "source": [
    "# PikaBot\n",
    "> Tiny loader that seems very familiar\n",
    "\n",
    "- toc: true \n",
    "- badges: true\n",
    "- categories: [pikabot,yara,config,loader]\n"
   ]
  },
  {
   "cell_type": "markdown",
   "id": "d64b1acc-1f89-4fe0-b92a-86460534c2a4",
   "metadata": {},
   "source": [
    "## Overview\n",
    "\n",
    "### References \n",
    "\n",
    "- [PikaBot and the Matanbuchus connection](https://medium.com/@DCSO_CyTec/shortandmalicious-pikabot-and-the-matanbuchus-connection-5e302644398)\n",
    "- [Tweet from @1ZRR4H](https://twitter.com/1zrr4h/status/1623600348060389376)\n",
    "\n",
    "After this was published there was another blog whta didn't name the sample on this malware.\n",
    "- [Beepin’ Out of the Sandbox: Analyzing a New, Extremely Evasive Malware](https://minerva-labs.com/blog/beepin-out-of-the-sandbox-analyzing-a-new-extremely-evasive-malware/)\n",
    "\n",
    "### Samples\n",
    "\n",
    "#### Loader\n",
    "\n",
    "##### Sample 1\n",
    "Packed: `67c61f649ec276eb57fcfe70dbd6e33b4c05440ee10356a3ef10fad9d0e224ef` [UnpacMe Analysis](https://www.unpac.me/results/f7d4cd67-18e9-4316-b4c6-9a1c66c9129c/#/)\n",
    "\n",
    "Unpacked: `05d1b791865c9551ed8da6a170eb6f945a4d1e79cb70341f589cc47bacf78cc3`\n",
    "\n",
    "##### Sample 2\n",
    "Packed: `c666aeb7ed75e58b645a2a4d1bc8c9d0a0a076a8a459e33c6dc60d12f4fa0c01` [UnpacMe Analysis](https://www.unpac.me/results/70b64b50-5fe2-4ae9-aeb7-85a295558a5e#/)\n",
    "\n",
    "Unpacked: `8528b4fbb050be27debef474bd27d441d92196f5d19840f94afa979e8483c8ef` \n",
    "\n",
    "#### Core\n",
    "`59f42ecde152f78731e54ea27e761bba748c9309a6ad1c2fd17f0e8b90f8aed1` [UnpacMe Analysis](https://wwww.unpac.me/results/1a175e48-1ab6-47d7-86d9-f3ece1db8a80#/)\n"
   ]
  },
  {
   "cell_type": "markdown",
   "id": "1c6426b3-7cfa-4339-8feb-82e63be3a139",
   "metadata": {},
   "source": [
    "## Analysis\n",
    "\n",
    "- Something is weird with the dll (did we unpack it wrong?) when run we don't call the entrypoint for some reason?\n",
    "- There is a simple API hashing algo used to hash two APIs (`GetProcAddress`,`LoadLibraryA`) to construct a dynamic API resolve function\n",
    "- API names are protected as encrypted stack strings \n",
    "\n"
   ]
  },
  {
   "cell_type": "markdown",
   "id": "b9307815-6e66-4922-86eb-607936ab05fc",
   "metadata": {},
   "source": [
    "### String Decryption"
   ]
  },
  {
   "cell_type": "code",
   "execution_count": 1,
   "id": "0c585ce1-2cbc-4764-850e-6d634f16e0e4",
   "metadata": {},
   "outputs": [
    {
     "name": "stdout",
     "output_type": "stream",
     "text": [
      "loaded\n"
     ]
    }
   ],
   "source": [
    "from dumpulator import Dumpulator\n",
    "\n",
    "dp = Dumpulator(\"/tmp/pika2.dmp\", quiet=True)\n",
    "print('loaded')"
   ]
  },
  {
   "cell_type": "code",
   "execution_count": 2,
   "id": "349458dd-159c-455a-aa1a-141fdd6683ce",
   "metadata": {},
   "outputs": [
    {
     "name": "stdout",
     "output_type": "stream",
     "text": [
      "done\n"
     ]
    }
   ],
   "source": [
    "dll_base = 0x00540000\n",
    "\n",
    "dp.start(0x005A2013, end=0x005A203A)\n",
    "\n",
    "print('done')\n"
   ]
  },
  {
   "cell_type": "code",
   "execution_count": 3,
   "id": "9939b501-6e83-4ff7-8e15-f0ef2e357916",
   "metadata": {},
   "outputs": [
    {
     "data": {
      "text/plain": [
       "bytearray(b'Kernel32.dll')"
      ]
     },
     "execution_count": 3,
     "metadata": {},
     "output_type": "execute_result"
    }
   ],
   "source": [
    "dp.read(dp.regs.ebp - 0x1c, 12)"
   ]
  },
  {
   "cell_type": "code",
   "execution_count": 31,
   "id": "24209922-0610-4899-b4e6-7ade0b7e3a42",
   "metadata": {},
   "outputs": [
    {
     "name": "stdout",
     "output_type": "stream",
     "text": [
      "loaded\n",
      "done\n"
     ]
    }
   ],
   "source": [
    "dp = Dumpulator(\"/tmp/pika2.dmp\", quiet=True)\n",
    "print('loaded')\n",
    "dp.start(0x005A2041, end=0x00005A206E)\n",
    "print('done')"
   ]
  },
  {
   "cell_type": "code",
   "execution_count": 32,
   "id": "767f661b-df6d-4151-bc3a-c9cd61b5cb4c",
   "metadata": {},
   "outputs": [
    {
     "data": {
      "text/plain": [
       "bytearray(b'User32.dll\\x00w')"
      ]
     },
     "execution_count": 32,
     "metadata": {},
     "output_type": "execute_result"
    }
   ],
   "source": [
    "dp.read(dp.regs.edx, 12)"
   ]
  },
  {
   "cell_type": "markdown",
   "id": "4078d726-6917-4665-82ba-89c1431a01ab",
   "metadata": {},
   "source": [
    "#### DLL Names\n",
    "The API resolving function passes a flag in the first argument which is used to select one of three hard-coded DLLs to load APIs from. The DLL names are hard coded as encrypted stack strings.\n",
    "\n",
    "```\n",
    "1 -> Kernel32.dll\n",
    "2 -> User32.dll\n",
    "6 -> Advapi32.dll\n",
    "```"
   ]
  },
  {
   "cell_type": "markdown",
   "id": "5434e7b1-c985-4d96-976c-a4ff0a0e7577",
   "metadata": {},
   "source": [
    "#### Strings\n",
    "\n",
    "For automatic stack string detection and decryption we need the following.\n",
    "\n",
    "- detect where to start emulation\n",
    "- detect where to stop emulation\n",
    "- detect the var/reg where the decrypted stack string is located\n",
    "\n",
    "![](https://i.imgur.com/vO9dXRe.png)\n",
    "\n",
    "```\n",
    "33 D2                                   xor     edx, edx\n",
    "C7 45 EC 93 A4 A6 8E                    mov     [ebp+var_14], 8EA6A493h\n",
    "C7 45 F0 B1 A4 AF 8A                    mov     [ebp+var_10], 8AAFA4B1h\n",
    "8B CA                                   mov     ecx, edx\n",
    "C7 45 F4 A4 B8 84 B9                    mov     [ebp+var_C], 0B984B8A4h\n",
    "C6 45 F8 96                             mov     [ebp+var_8], 96h ; '–'\n",
    "8A 44 0D EC                             mov     al, byte ptr [ebp+ecx+var_14]\n",
    "34 C1                                   xor     al, 0C1h\n",
    "88 44 0D D0                             mov     [ebp+ecx+var_api_name], al\n",
    "41                                      inc     ecx\n",
    "83 F9 0D                                cmp     ecx, 0Dh\n",
    "7C F0                                   jl      short loc_5A109B\n",
    "88 55 DD                                mov     [ebp+var_23], dl\n",
    "```\n",
    "\n",
    "**Algorithm**\n",
    "\n",
    "- For each function walk all basic blocks (bb)\n",
    "\n",
    "- If a bb ends with a `jl` this is a candidate for string decryuption \"end block\"\n",
    "\n",
    "- The prev block is then assumed to be the stack string setup block or the \"start block\"\n",
    "\n",
    "- Record both the start and end addresses\n",
    "\n",
    "- The stack string location is assumed to be the last `mov` instruction before the `jl`, to fide this we can just iterate backwards from the `jl` until we hit the first `mov`\n",
    "\n"
   ]
  },
  {
   "cell_type": "markdown",
   "id": "b644ebef-d062-4e0a-a9ee-480be7afc955",
   "metadata": {},
   "source": [
    "##### IDA Get Operand Offset\n",
    "\n",
    "When we have an operand that had an offset instead of a direct reg or imm it is a bit tricky to get the actual offset. This code can help!\n",
    "\n",
    "Example.\n",
    "```\n",
    "88 44 0D D0      mov     [ebp+ecx+var_30], al\n",
    "```\n",
    "\n",
    "We want to get the `var_30` offset value, but we also want to get the `ebp` and `ecx` registers. If we just want to the `var_30` offset we can use the following.\n",
    "\n",
    "A good IDA ref for how instructions are parsed can be found [here (thanks Robert Yates .... psyco killer na na na na](https://pastebin.com/y7gVfiQF)\n",
    "\n",
    "A quick way.\n",
    "```\n",
    "idc.get_operand_value(ea, 0) -> 0xffffffd0 -> twos_complement() -> -0x30\n",
    "```\n",
    "\n",
    "```python\n",
    "def twos_complement(value, bits):\n",
    "    if value & (1 << (bits - 1)):\n",
    "        value -= 1 << bits\n",
    "    return value\n",
    "\n",
    "twos_complement(idc.get_operand_value(ea, 0), 32)\n",
    "```\n",
    "\n",
    "If we want to do a more in-depth invesitgation of the operand structure we can use the following\n",
    "\n",
    "```python\n",
    "import idaapi\n",
    "import ctypes\n",
    "    \n",
    "ea = 0x5a10a1\n",
    "\n",
    "insn = idaapi.insn_t()\n",
    "insnLen = idaapi.decode_insn(insn, ea)\n",
    "\n",
    "\n",
    "op = insn.ops[0]\n",
    "\n",
    "print(hex(ctypes.c_int(op.addr).value))\n",
    "\n",
    "\n",
    "```\n",
    "\n",
    "Putting it all together....\n",
    "\n",
    "```python\n",
    "import idaapi\n",
    "import ctypes\n",
    "\n",
    "def get_operand_offset(ea):\n",
    "    op_offset = idc.get_operand_value(ea, 0)\n",
    "    return ctypes.c_int(op_offset).value\n",
    "```\n"
   ]
  },
  {
   "cell_type": "markdown",
   "id": "f8d0d09a-91e0-4862-89f4-6e79cf907892",
   "metadata": {},
   "source": [
    "#### Find Stack Strings\n",
    "\n",
    "```python\n",
    "import idautils\n",
    "import idaapi\n",
    "import idc\n",
    "import ctypes\n",
    "\n",
    "def get_operand_offset(ea):\n",
    "    op_offset = idc.get_operand_value(ea, 0)\n",
    "    return ctypes.c_int(op_offset).value\n",
    "\n",
    " \n",
    "def parse_fn(test_fn): \n",
    "    # {'start','end','op_offset'}\n",
    "    out = []\n",
    "    f = ida_funcs.get_func(test_fn)\n",
    "    \n",
    "    fc = list(idaapi.FlowChart(f, flags=idaapi.FC_PREDS))\n",
    "    \n",
    "    for block_ptr in range(len(fc)):\n",
    "        block = fc[block_ptr]\n",
    "        print(f\"Basic Block: {hex(block.start_ea)}\")\n",
    "        last_inst =  idc.prev_head(block.end_ea)\n",
    "        print(f\"Last isn {hex(last_inst)}\")\n",
    "        if idc.print_insn_mnem(last_inst) == 'jl':\n",
    "            print(f\"Found decryption block {hex(block.start_ea)}\")\n",
    "            # End of stack string builder is start of next block\n",
    "            stack_string_end = block.end_ea\n",
    "            # Prev block start is the start of the stack string builder\n",
    "            prev_block = fc[block_ptr - 1]\n",
    "            stack_string_start = prev_block.start_ea\n",
    "            # The last mov instruction before the end of the decryption loop\n",
    "            # is the stack string var\n",
    "            isn_ptr = last_inst\n",
    "            while isn_ptr >= block.start_ea:\n",
    "                isn_ptr = idc.prev_head(isn_ptr)\n",
    "                if idc.print_insn_mnem(isn_ptr) == \"mov\":\n",
    "                    print(f\"Found the stack var at address {hex(isn_ptr)}\")\n",
    "                    op_offset = get_operand_offset(isn_ptr)\n",
    "                    out.append({'start':stack_string_start, \n",
    "                                'end':stack_string_end, \n",
    "                                'op_offset':op_offset})\n",
    "                    break\n",
    "    return out\n",
    "\n",
    "stack_strings = []       \n",
    "for f in idautils.Functions():\n",
    "    out = parse_fn(f)\n",
    "    stack_strings += out\n",
    "\n",
    "print(stack_strings)\n",
    "\n",
    "```"
   ]
  },
  {
   "cell_type": "code",
   "execution_count": 15,
   "id": "151147d9-aeef-48f1-9f35-58485905ed16",
   "metadata": {},
   "outputs": [
    {
     "name": "stdout",
     "output_type": "stream",
     "text": [
      "loaded\n",
      "done\n",
      "0x5a1078: RegOpenKeyExW\n",
      "loaded\n",
      "done\n",
      "0x5a10ab: HARDWARE\\ACPI\\DSDT\\VBOX__\n",
      "loaded\n",
      "done\n",
      "0x5a113b: GetUserDefaultLangID\n",
      "loaded\n",
      "done\n",
      "0x5a11c9: CreateMutexW\n",
      "loaded\n",
      "done\n",
      "0x5a1203: {8B30B3CD-2068-4F75-AB1F-FCAE6AF928B6}\n",
      "loaded\n",
      "done\n",
      "0x5a1287: GetLastError\n",
      "loaded\n",
      "done\n",
      "0x5a12cb: wsprintfW\n",
      "loaded\n",
      "done\n",
      "0x5a12f8: SOFTWARE\\%s\n",
      "loaded\n",
      "done\n",
      "ERROR: 0x5a132f: bytearray(b'\\x05\\x06\\x05\\t\\xfc\\n\\n\\x0b\\xf8\\x05\\x0b\\xe6\\x0c\\x0b\\x03\\r\\xfc\\n\\xdb\\xfa\\x0b\\xf8\\x0b\\x06\\t\\xf8\\x03')\n",
      "loaded\n",
      "done\n",
      "0x5a1398: RegCreateKeyExW\n",
      "loaded\n",
      "done\n",
      "0x5a13d5: wsprintfW\n",
      "loaded\n",
      "done\n",
      "0x5a1402: schtasks.exe /Create /F /TN \"%s\" /TR \" cmd /q /c start /min \\\"\\\" powershell \\\"$%s = Get-ItemProperty -Path HKCU:\\Software\\%s; powershell -encodedcommand $%s.%s \\\"\" /SC MINUTE /MO %s\n",
      "loaded\n",
      "done\n",
      "0x5a164b: {8B30B3CD-2068-4F75-AB1F-FCAE6AF928B6}\n",
      "loaded\n",
      "done\n",
      "ERROR: 0x5a16d4: bytearray(b'\\x00\\x81\\x00\\x81\\x00\\x81\\x08\\x81H\\x80\\x08\\x81\\x00\\x81\\x08\\x81\\x08\\x81H\\x80\\x00\\x81\\x08\\x81@\\x80\\x08\\x81\\x08\\x81\\x00')\n",
      "loaded\n",
      "done\n",
      "0x5a173e: \u0000\u0001\u0000\u0001\u0000\u0001\u0000\u0001\u0000\n",
      "loaded\n",
      "done\n",
      "ERROR: 0x5a17a0: bytearray(b'\\x00\\x80\\x00\\x80\\x00\\x80\\x08\\x80H\\x81\\x08\\x80\\x00\\x80\\x08\\x80\\x08\\x80H\\x81\\x00\\x80\\x08\\x80@\\x81\\x08\\x80\\x08\\x80\\x00')\n",
      "loaded\n",
      "done\n",
      "0x5a180b: @@H@HHH@H@HH@@@@H\n",
      "loaded\n",
      "done\n",
      "0x5a185b: \u0000\u0000\n",
      "loaded\n",
      "done\n",
      "0x5a1888: GetModuleFileNameW\n",
      "loaded\n",
      "done\n",
      "0x5a18c4: wsprintfW\n",
      "loaded\n",
      "done\n",
      "0x5a18fc: @H@H@@HH@HH@@HHH@@@@@@\n",
      "loaded\n",
      "done\n",
      "0x5a199f: CreateProcessW\n",
      "loaded\n",
      "done\n",
      "0x5a1aac: RegSetValueExW\n",
      "loaded\n",
      "done\n",
      "0x5a1aee: \n",
      "loaded\n",
      "done\n",
      "0x5a1bcc: RegCloseKey\n",
      "loaded\n",
      "done\n",
      "0x5a1d93: CreateProcessW\n",
      "loaded\n",
      "initial unmapped read from 8df790[1], cip = 5a1dce, exception: ExceptionType.Memory, (0x5a1dce, 0x2d, 12)\n",
      "final unmapped read from 8df790[1], cip = 5a1deb, exception: ExceptionType.Memory, (0x5a1deb, 0x10, 6)\n"
     ]
    },
    {
     "name": "stderr",
     "output_type": "stream",
     "text": [
      "Traceback (most recent call last):\n",
      "  File \"/Users/herrcore/.pyenv/versions/3.9.5/lib/python3.9/site-packages/dumpulator/dumpulator.py\", line 1329, in _hook_syscall\n",
      "    status = syscall_impl(dp, *args)\n",
      "  File \"/Users/herrcore/.pyenv/versions/3.9.5/lib/python3.9/site-packages/dumpulator/ntsyscalls.py\", line 2888, in ZwQueryInformationJobObject\n",
      "    raise NotImplementedError()\n",
      "NotImplementedError\n"
     ]
    },
    {
     "name": "stdout",
     "output_type": "stream",
     "text": [
      "Exception thrown during syscall implementation, stopping emulation!\n",
      "forced exit memory operation 21 of 4fe2[1] = 0\n",
      "TOTAL FAILURE:  0x5a1dce\n",
      "loaded\n",
      "initial unmapped read from 8df790[1], cip = 5a1dfb, exception: ExceptionType.Memory, (0x5a1dfb, 0x2d, 12)\n",
      "final unmapped read from 8df790[1], cip = 5a1e18, exception: ExceptionType.Memory, (0x5a1e18, 0x10, 6)\n"
     ]
    },
    {
     "name": "stderr",
     "output_type": "stream",
     "text": [
      "Traceback (most recent call last):\n",
      "  File \"/Users/herrcore/.pyenv/versions/3.9.5/lib/python3.9/site-packages/dumpulator/dumpulator.py\", line 1329, in _hook_syscall\n",
      "    status = syscall_impl(dp, *args)\n",
      "  File \"/Users/herrcore/.pyenv/versions/3.9.5/lib/python3.9/site-packages/dumpulator/ntsyscalls.py\", line 2888, in ZwQueryInformationJobObject\n",
      "    raise NotImplementedError()\n",
      "NotImplementedError\n"
     ]
    },
    {
     "name": "stdout",
     "output_type": "stream",
     "text": [
      "Exception thrown during syscall implementation, stopping emulation!\n",
      "forced exit memory operation 21 of 4fe2[1] = 0\n",
      "TOTAL FAILURE:  0x5a1dfb\n",
      "loaded\n",
      "done\n",
      "0x5a2013: Kernel32.dll\n",
      "loaded\n",
      "done\n",
      "0x5a2041: User32.dll\n",
      "loaded\n",
      "done\n",
      "0x5a2075: Advapi32.dll\n",
      "{5902456: 'RegOpenKeyExW', 5902507: 'HARDWARE\\\\ACPI\\\\DSDT\\\\VBOX__', 5902651: 'GetUserDefaultLangID', 5902793: 'CreateMutexW', 5902851: '{8B30B3CD-2068-4F75-AB1F-FCAE6AF928B6}', 5902983: 'GetLastError', 5903051: 'wsprintfW', 5903096: 'SOFTWARE\\\\%s', 5903256: 'RegCreateKeyExW', 5903317: 'wsprintfW', 5903362: 'schtasks.exe /Create /F /TN \"%s\" /TR \" cmd /q /c start /min \\\\\"\\\\\" powershell \\\\\"$%s = Get-ItemProperty -Path HKCU:\\\\Software\\\\%s; powershell -encodedcommand $%s.%s \\\\\"\" /SC MINUTE /MO %s', 5903947: '{8B30B3CD-2068-4F75-AB1F-FCAE6AF928B6}', 5904190: '\\x00\\x01\\x08\\x01\\x00\\x01\\x08\\x01\\x08\\x01\\x08\\x01\\x00\\x01\\x08\\x01\\x08\\x01\\x08\\x01\\x00\\x01\\x08\\x01\\x08\\x01\\x08\\x01\\x08\\x01\\x00', 5904395: '@@H@HHH@H@HH@@@@H', 5904475: '\\x00\\x00', 5904520: 'GetModuleFileNameW', 5904580: 'wsprintfW', 5904636: '@H@\\x08@H@\\x08@@HH@HH@@HHH@@@@H\\x08@\\x08@\\x08@\\x08@@', 5904799: 'CreateProcessW', 5905068: 'RegSetValueExW', 5905134: '', 5905356: 'RegCloseKey', 5905811: 'CreateProcessW', 5906451: 'Kernel32.dll', 5906497: 'User32.dll', 5906549: 'Advapi32.dll'}\n"
     ]
    }
   ],
   "source": [
    "stack_strings = [{'start': 5902456, 'end': 5902507, 'op_offset': -48}, {'start': 5902507, 'end': 5902578, 'op_offset': -100}, {'start': 5902651, 'end': 5902714, 'op_offset': -44}, {'start': 5902793, 'end': 5902851, 'op_offset': -496}, {'start': 5902851, 'end': 5902983, 'op_offset': -920}, {'start': 5902983, 'end': 5903051, 'op_offset': -512}, {'start': 5903051, 'end': 5903096, 'op_offset': -400}, {'start': 5903096, 'end': 5903151, 'op_offset': -584}, {'start': 5903151, 'end': 5903256, 'op_offset': -648}, {'start': 5903256, 'end': 5903317, 'op_offset': -560}, {'start': 5903317, 'end': 5903362, 'op_offset': -412}, {'start': 5903362, 'end': 5903947, 'op_offset': -1364}, {'start': 5903947, 'end': 5904084, 'op_offset': -1000}, {'start': 5904084, 'end': 5904190, 'op_offset': -840}, {'start': 5904190, 'end': 5904288, 'op_offset': -776}, {'start': 5904288, 'end': 5904395, 'op_offset': -712}, {'start': 5904395, 'end': 5904475, 'op_offset': -136}, {'start': 5904475, 'end': 5904520, 'op_offset': -76}, {'start': 5904520, 'end': 5904580, 'op_offset': -20}, {'start': 5904580, 'end': 5904636, 'op_offset': -64}, {'start': 5904636, 'end': 5904799, 'op_offset': -308}, {'start': 5904799, 'end': 5904869, 'op_offset': -544}, {'start': 5905068, 'end': 5905134, 'op_offset': -528}, {'start': 5905134, 'end': 5905203, 'op_offset': -192}, {'start': 5905356, 'end': 5905425, 'op_offset': -48}, {'start': 5905811, 'end': 5905870, 'op_offset': -128}, {'start': 5905870, 'end': 5905915, 'op_offset': -44}, {'start': 5905915, 'end': 5905960, 'op_offset': -32}, {'start': 5906451, 'end': 5906490, 'op_offset': -28}, {'start': 5906497, 'end': 5906535, 'op_offset': -12}, {'start': 5906549, 'end': 5906588, 'op_offset': -28}]\n",
    "\n",
    "def emulate(start, end, op_offset):\n",
    "    dp = Dumpulator(\"/tmp/pika2.dmp\", quiet=True)\n",
    "    print('loaded')\n",
    "    dp.start(start, end=end)\n",
    "    print('done')\n",
    "    str_len = dp.regs.ecx\n",
    "    if str_len > 2:\n",
    "        if dp.read(dp.regs.ebp + op_offset, 2)[1] == 0:\n",
    "            out = dp.read(dp.regs.ebp + op_offset, str_len * 2)\n",
    "            out = out.replace(b'\\x00',b'')\n",
    "        else:\n",
    "            out = dp.read(dp.regs.ebp + op_offset, str_len)\n",
    "    else:\n",
    "        out = dp.read(dp.regs.ebp + op_offset, str_len)\n",
    "    return out\n",
    "\n",
    "\n",
    "labels = {}\n",
    "for ss in stack_strings:\n",
    "    try:\n",
    "        out = emulate(ss.get('start'), ss.get('end'),ss.get('op_offset'))\n",
    "        if out.isascii():\n",
    "            print(f\"{hex(ss.get('start'))}: {out.decode('utf-8')}\")\n",
    "            labels[ss.get('start')] = out.decode('utf-8')\n",
    "        else:\n",
    "            print(f\"ERROR: {hex(ss.get('start'))}: {out}\")\n",
    "            \n",
    "    except:\n",
    "        print(f\"TOTAL FAILURE:  {hex(ss.get('start'))}\")\n",
    "\n",
    "        \n",
    "print(labels)\n",
    "    "
   ]
  },
  {
   "cell_type": "markdown",
   "id": "9261a737-5dda-497a-a092-5d2dbc58a795",
   "metadata": {},
   "source": [
    "#### Label Strings in IDA\n",
    "\n",
    "```python\n",
    "def set_hexrays_comment(address, text):\n",
    "    '''\n",
    "    set comment in decompiled code\n",
    "    '''\n",
    "    cfunc = idaapi.decompile(address)\n",
    "    tl = idaapi.treeloc_t()\n",
    "    tl.ea = address\n",
    "    tl.itp = idaapi.ITP_SEMI\n",
    "    cfunc.set_user_cmt(tl, text)\n",
    "    cfunc.save_user_cmts() \n",
    "\n",
    "\n",
    "def set_comment(address, text):\n",
    "    ## Set in dissassembly\n",
    "    idc.set_cmt(address, text,0)\n",
    "    ## Set in decompiled data\n",
    "    set_hexrays_comment(address, text)\n",
    "```"
   ]
  },
  {
   "cell_type": "markdown",
   "id": "e4e861ce-08be-4cee-bc06-cb76bf7265b8",
   "metadata": {},
   "source": [
    "### Mutex\n",
    "\n",
    "Loll they create a hard coded mutex `{8B30B3CD-2068-4F75-AB1F-FCAE6AF928B6}`"
   ]
  },
  {
   "cell_type": "code",
   "execution_count": 40,
   "id": "d1baf56c-c78a-4f7a-b3e2-88f58c34f4b8",
   "metadata": {},
   "outputs": [
    {
     "name": "stdout",
     "output_type": "stream",
     "text": [
      "loaded\n",
      "done\n"
     ]
    }
   ],
   "source": [
    "start = 0x005A11C9  \n",
    "# start = 0x005A18FC\n",
    "end = 0x005A199F\n",
    "\n",
    "\n",
    "dp = Dumpulator(\"/tmp/pika2.dmp\", quiet=True)\n",
    "print('loaded')\n",
    "dp.start(start, end=end)\n",
    "print('done')"
   ]
  },
  {
   "cell_type": "code",
   "execution_count": 41,
   "id": "a8a19ba7-ed74-4e3d-bf59-cd61750e64f8",
   "metadata": {},
   "outputs": [
    {
     "data": {
      "text/plain": [
       "'cmd.exe /C \"ping localhost && DEL /F /S /Q /A %s\"'"
      ]
     },
     "execution_count": 41,
     "metadata": {},
     "output_type": "execute_result"
    }
   ],
   "source": [
    "dp.read(dp.regs.ebp -0x135 + 1, dp.regs.ecx * 2).decode('utf-16')"
   ]
  },
  {
   "cell_type": "code",
   "execution_count": 43,
   "id": "bd25be39-45e4-4ded-9bb5-b94b233a2157",
   "metadata": {},
   "outputs": [
    {
     "data": {
      "text/plain": [
       "bytearray(b'A\\x00p\\x00h\\x00r\\x00o\\x00n\\x00i\\x00a\\x00H\\x00a\\x00i\\x00m\\x00a\\x00v\\x00a\\x00t\\x00i\\x00\\x00\\x00d/\\x00\\x00Sq\\x80Y{p\\x81xqRuxqZmyqc\\x00\\t1\\x003\\x00\\x00\\x00\\x06\\x14%\\xf8\\r\\x00wsprintfW\\x00\\xea\\x1c\\xba\\x8d\\x8f\\xab\\x9a\\x8d\\x89\\x9c\\x8d\\xa3\\x8d\\x91\\xad\\x90\\xbf\\x00')"
      ]
     },
     "execution_count": 43,
     "metadata": {},
     "output_type": "execute_result"
    }
   ],
   "source": [
    "dp.read(dp.regs.ebp -0x88, 100)"
   ]
  },
  {
   "cell_type": "code",
   "execution_count": 44,
   "id": "43a4cee2-388e-4479-aaab-c3737cb2a7c4",
   "metadata": {},
   "outputs": [
    {
     "data": {
      "text/plain": [
       "'AphroniaHaimavati\\x00⽤\\x00'"
      ]
     },
     "execution_count": 44,
     "metadata": {},
     "output_type": "execute_result"
    }
   ],
   "source": [
    "b'A\\x00p\\x00h\\x00r\\x00o\\x00n\\x00i\\x00a\\x00H\\x00a\\x00i\\x00m\\x00a\\x00v\\x00a\\x00t\\x00i\\x00\\x00\\x00d/\\x00\\x00'.decode('utf-16')"
   ]
  },
  {
   "cell_type": "code",
   "execution_count": 69,
   "id": "fca1f462-8e64-4324-8864-ca1afcab9534",
   "metadata": {},
   "outputs": [
    {
     "name": "stdout",
     "output_type": "stream",
     "text": [
      "loaded\n",
      "done\n",
      "31\n"
     ]
    },
    {
     "data": {
      "text/plain": [
       "'nonresistantOutlivesDictatorial'"
      ]
     },
     "execution_count": 69,
     "metadata": {},
     "output_type": "execute_result"
    }
   ],
   "source": [
    "start = 0x005A11C9 \n",
    "end = 0x005A17A0\n",
    "dp = Dumpulator(\"/tmp/pika2.dmp\", quiet=True)\n",
    "print('loaded')\n",
    "dp.start(start, end=end)\n",
    "print('done')\n",
    "print(dp.regs.ecx)\n",
    "dp.read(dp.regs.ebp -0x308 , dp.regs.ecx*2).decode('utf-16')"
   ]
  },
  {
   "cell_type": "markdown",
   "id": "c6d3037f-d7b6-452f-b387-0f2cb3ed695b",
   "metadata": {},
   "source": [
    "Executing someting via a schedualed task and PowerShell\n",
    "\n",
    "```\n",
    "schtasks.exe /Create /F /TN \"{8B30B3CD-2068-4F75-AB1F-FCAE6AF928B6}\" /TR \" cmd /q /c start /min \\\"\\\" powershell \\\"$nonresistantOutlivesDictatorial = Get-ItemProperty -Path HKCU:\\Software\\nonresistantOutlivesDictatorial; powershell -encodedcommand $nonresistantOutlivesDictatorial.AphroniaHaimavati \\\"\" /SC MINUTE /MO 1\n",
    "```"
   ]
  },
  {
   "cell_type": "markdown",
   "id": "b78e6058-3293-4bd8-89ce-04262df7a3b0",
   "metadata": {},
   "source": [
    "## Yara Rules\n",
    "\n",
    "This rule comes from [@c3rb3ru5d3d53c](https://twitter.com/c3rb3ru5d3d53c). She used Binlex with the following command...\n",
    "\n",
    "```\n",
    "find samples/ -type f | while read i; binlex -i $i | jq -r 'select(.trait_tlsh != null and .size < 128) | .trait' | grep -v '89 5d ??' | grep -v 'c7 45 ?? ?? ?? ?? ??' | sort | uniq; end | sort | uniq -c | sort -rn | sed 's/^ *//' | grep -P '^2 ' | sed 's/^2 //' | blyara -n pika\n",
    "```\n",
    " \n",
    "\n",
    "\n",
    "```c\n",
    "rule pikabot_0 {\n",
    "    meta:\n",
    "        author      = \"@c3rb3ru5d3d53c\"\n",
    "        description = \"Detects PikaBot\"\n",
    "        created     = \"2023-03-02\"\n",
    "        tlp         = \"white\"\n",
    "        rev         = 1\n",
    "    strings:\n",
    "        $trait_0 = {\n",
    "            8d 85 ?? ?? ?? ?? 89 b5 ?? ?? ?? ?? 50 8d 85 ??\n",
    "            ?? ?? ?? 50 8d 85 ?? ?? ?? ?? 50 6a 02 8d 95 ??\n",
    "            ?? ?? ?? 59 e8 40 05 00 00 ff d0 83 c4 0c 8d 85\n",
    "            ?? ?? ?? ?? 8d 95 ?? ?? ?? ?? 56 50 56 68 3f 00\n",
    "            0f 00 56 56 56 8d 85 ?? ?? ?? ?? 50 68 01 00 00\n",
    "            80 6a 06 59 e8 10 05 00 00 ff d0 85 c0 0f 85 b5\n",
    "            01 00 00}\n",
    "        $trait_1 = {\n",
    "            55 8b ec 51 51 89 4d ?? 56 be c7 26 00 00 57 8b\n",
    "            fa 85 c9 74 36 85 ff 74 32 33 c0 89 45 ?? 53 8a\n",
    "            1c 08 8d 43 ?? 0f b6 c8 8d 53 ?? 80 fa 19 0f b6\n",
    "            c3 0f 47 c8 8b 45 ?? 6b f6 05 0f be c9 03 f1 8b\n",
    "            4d ?? 40 89 45 ?? 3b c7 72 d5 5b 5f 8b c6 5e c9\n",
    "            c3}\n",
    "    condition:\n",
    "        uint16(0) == 0x5a4d and\n",
    "        uint32(uint32(0x3c)) == 0x00004550 and\n",
    "        1 of them\n",
    "}\n",
    "```\n",
    "**Results**\n",
    "- 3ba484fd9430dda5ea691c86ed0cd6e95f1e401d7b444c0d6465545a03ae20b7\n",
    "- c15c4a73728ea1b3e6688066bb1fdea841d42b910fb2883289cb26003474af64\n",
    "- 8528b4fbb050be27debef474bd27d441d92196f5d19840f94afa979e8483c8ef\n",
    "- add0e82c68959b9c88485da47178295d80bd6752dd7f0dd4c62cf80bdbf1939c\n",
    "- 05d1b791865c9551ed8da6a170eb6f945a4d1e79cb70341f589cc47bacf78cc3\n",
    "- 4fb5b0da3a557a7dac922010a2b888a91055c4381cf494a6336a674be3bb4a45\n",
    "- 9754d73feff432298ab129b21a09faa38c3a4ab9a480dbef2eb58dd7d4a151b0\n",
    "- e8c7d64a29182d3f84a956ed5bb8a8abc2b5459fa939eb17b00c9513240c817e\n",
    "- 13f98d53182d72abd4b8cfe75487d63f6184061eba69c76a2ac21455a81e5230\n",
    "\n",
    "\n",
    "\n",
    "This rule comes from [crisp bag!](https://twitter.com/qutluch)\n",
    "\n",
    "```c\n",
    "/*\n",
    "Unpac.me results:\n",
    "e8c7d64a29182d3f84a956ed5bb8a8abc2b5459fa939eb17b00c9513240c817e\n",
    "13f98d53182d72abd4b8cfe75487d63f6184061eba69c76a2ac21455a81e5230\n",
    "05d1b791865c9551ed8da6a170eb6f945a4d1e79cb70341f589cc47bacf78cc3\n",
    "4fb5b0da3a557a7dac922010a2b888a91055c4381cf494a6336a674be3bb4a45\n",
    "3ba484fd9430dda5ea691c86ed0cd6e95f1e401d7b444c0d6465545a03ae20b7\n",
    "9754d73feff432298ab129b21a09faa38c3a4ab9a480dbef2eb58dd7d4a151b0\n",
    "8528b4fbb050be27debef474bd27d441d92196f5d19840f94afa979e8483c8ef\n",
    "add0e82c68959b9c88485da47178295d80bd6752dd7f0dd4c62cf80bdbf1939c\n",
    "c15c4a73728ea1b3e6688066bb1fdea841d42b910fb2883289cb26003474af64\n",
    "*/\n",
    "\n",
    "rule MAL_PIKABOT_XOR_1\n",
    "{\n",
    "    meta:\n",
    "        author      = \"@qutluch\"\n",
    "        description = \"Detect PIKABOT xor operations (unpakce samples).\"\n",
    "        version     = \"1.0\"\n",
    "        date        = \"2023-03-03\"\n",
    "        license     = \"BSD-2-Clause\"\n",
    "        hash        = \"05d1b791865c9551ed8da6a170eb6f945a4d1e79cb70341f589cc47bacf78cc3\"\n",
    "\n",
    "    strings:\n",
    "        $ = { 8a 44 0d c0 34 ?? (0f b6 c0 | ?? ?? ?? ??) [0-2] ff ff 41 83 ?? ?? 7c ?? }\n",
    "    condition:\n",
    "        uint16(0) == 0x5A4D\n",
    "        and (uint32(uint32(0x3C)) == 0x00004550)\n",
    "        and (uint16(uint32(0x3C)+0x16) & 0x2000)\n",
    "        and any of them\n",
    "        and filesize < 100KB\n",
    "}\n",
    "```\n",
    "\n"
   ]
  },
  {
   "cell_type": "code",
   "execution_count": null,
   "id": "38a28751-1017-4421-95d2-2b0818f81b77",
   "metadata": {},
   "outputs": [],
   "source": []
  }
 ],
 "metadata": {
  "kernelspec": {
   "display_name": "Python 3",
   "language": "python",
   "name": "python3"
  },
  "language_info": {
   "codemirror_mode": {
    "name": "ipython",
    "version": 3
   },
   "file_extension": ".py",
   "mimetype": "text/x-python",
   "name": "python",
   "nbconvert_exporter": "python",
   "pygments_lexer": "ipython3",
   "version": "3.9.5"
  }
 },
 "nbformat": 4,
 "nbformat_minor": 5
}
