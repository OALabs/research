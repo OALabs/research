{
 "cells": [
  {
   "cell_type": "markdown",
   "id": "593e8507-8d38-42f1-9449-60f1a89d4da0",
   "metadata": {},
   "source": [
    "# WarZone RAT \n",
    "> WarZone static config extractor\n",
    "\n",
    "- toc: true \n",
    "- badges: true\n",
    "- categories: [warzone,malware,config]"
   ]
  },
  {
   "cell_type": "markdown",
   "id": "7393edcb-38c6-4f02-a72d-98ce109502e5",
   "metadata": {},
   "source": [
    "## Overview\n",
    "\n",
    "The config is stored in the `.bss` PE section with the following format.\n",
    "\n",
    "Key length | key | data\n",
    "\n"
   ]
  },
  {
   "cell_type": "code",
   "execution_count": 25,
   "id": "be322404-96a4-46ab-b93f-1a3ab3722fa5",
   "metadata": {},
   "outputs": [],
   "source": [
    "# First lets setup our imports\n",
    "import argparse\n",
    "import struct\n",
    "import pefile\n",
    "import re\n",
    "import binascii"
   ]
  },
  {
   "cell_type": "markdown",
   "id": "8800c159-3130-400b-bc1f-00d7f11fe968",
   "metadata": {},
   "source": [
    "Now a quick reminder ddof binary data hex encoding for Python3"
   ]
  },
  {
   "cell_type": "markdown",
   "id": "581df870-90dc-4c2b-af87-66ace7987b1e",
   "metadata": {},
   "source": [
    "## RC4 Encryption\n",
    "The data is encrypted using RC4. For more information on RC4 check out our RC4 tutorial video.\n",
    "\n",
    "> youtube: https://www.youtube.com/watch?v=CiJocXXMXK4"
   ]
  },
  {
   "cell_type": "code",
   "execution_count": 26,
   "id": "40e72184-8fb2-40e3-a84a-463379a48ade",
   "metadata": {
    "tags": []
   },
   "outputs": [],
   "source": [
    "# Now lets implement a simple RC4 decryption function\n",
    "def rc4crypt(data, key):\n",
    "    #If the input is a string convert to byte arrays\n",
    "    if type(data) == str:\n",
    "        data = data.encode('utf-8')\n",
    "    if type(key) == str:\n",
    "        key = key.encode('utf-8')\n",
    "    x = 0\n",
    "    box = list(range(256))\n",
    "    for i in range(256):\n",
    "        x = (x + box[i] + key[i % len(key)]) % 256\n",
    "        box[i], box[x] = box[x], box[i]\n",
    "    x = 0\n",
    "    y = 0\n",
    "    out = []\n",
    "    for c in data:\n",
    "        x = (x + 1) % 256\n",
    "        y = (y + box[x]) % 256\n",
    "        box[x], box[y] = box[y], box[x]\n",
    "        out.append(c ^ box[(box[x] + box[y]) % 256])\n",
    "    return bytes(out)"
   ]
  },
  {
   "cell_type": "markdown",
   "id": "63c05d4d-b9f9-4fef-9e77-3ed85f19d043",
   "metadata": {},
   "source": [
    "## Helper functions"
   ]
  },
  {
   "cell_type": "code",
   "execution_count": 32,
   "id": "f0c2018f-45c2-4a57-8857-614bb601b71d",
   "metadata": {
    "tags": []
   },
   "outputs": [],
   "source": [
    "import binascii\n",
    "data = binascii.unhexlify(b'')\n",
    "key = binascii.unhexlify(b'')\n",
    "\n",
    "def unicode_strings(buf, n=4):\n",
    "    import re\n",
    "    ASCII_BYTE = b' !\\\"#\\$%&\\'\\(\\)\\*\\+,-\\./0123456789:;<=>\\?@ABCDEFGHIJKLMNOPQRSTUVWXYZ\\[\\]\\^_`abcdefghijklmnopqrstuvwxyz\\{\\|\\}\\\\\\~\\t'\n",
    "    if type(buf) == str:\n",
    "        buf = buf.encode('utf-8')\n",
    "    reg = b'((?:[%s]\\x00){%d,})' % (ASCII_BYTE, n)\n",
    "    uni_re = re.compile(reg)\n",
    "    out = []\n",
    "    for match in uni_re.finditer(buf):\n",
    "        try:\n",
    "            out.append(match.group().decode(\"utf-16\"))\n",
    "        except UnicodeDecodeError:\n",
    "            continue\n",
    "    return out\n",
    "\n",
    "def tohex(data):\n",
    "    import binascii\n",
    "    if type(data) == str:\n",
    "        return binascii.hexlify(data.encode('utf-8'))\n",
    "    else:\n",
    "        return binascii.hexlify(data)"
   ]
  },
  {
   "cell_type": "code",
   "execution_count": 43,
   "id": "5043ce7a-5966-49eb-98a8-f2075c59acb4",
   "metadata": {},
   "outputs": [
    {
     "name": "stdout",
     "output_type": "stream",
     "text": [
      "host: 165.22.5.66, port: 1111\n"
     ]
    }
   ],
   "source": [
    "import pefile\n",
    "import struct\n",
    "\n",
    "warzone_file = b'/tmp/work/warzone.bin'\n",
    "data = open(warzone_file, 'rb').read()\n",
    "pe = pefile.PE(data=data)\n",
    "section_data = None\n",
    "for s in pe.sections:\n",
    "    if s.Name == b'.bss\\x00\\x00\\x00\\x00':\n",
    "        section_data = s.get_data()\n",
    "## size (DWORD) | key | data\n",
    "key_size = struct.unpack('<I', section_data[:4])[0]\n",
    "key = section_data[4:4 + key_size]\n",
    "ctxt = section_data[4+key_size:]\n",
    "ctxt = ctxt.split(b'\\x00\\x00\\x00\\x00\\x00\\x00\\x00\\x00')[0]\n",
    "ptxt = rc4crypt(ctxt, key)\n",
    "\n",
    "host_len = struct.unpack('<I', ptxt[:4])[0]\n",
    "host_wide = ptxt[4:host_len+4]\n",
    "c2_host = unicode_strings(host_wide)[0]\n",
    "c2_port = struct.unpack('<H', ptxt[host_len+4:host_len+4+2])[0]\n",
    "print(\"host: %s, port: %d\" % (c2_host, c2_port))"
   ]
  },
  {
   "cell_type": "code",
   "execution_count": null,
   "id": "0e749670-7b95-4901-b855-79107752f3f7",
   "metadata": {},
   "outputs": [],
   "source": []
  }
 ],
 "metadata": {
  "kernelspec": {
   "display_name": "Python 3",
   "language": "python",
   "name": "python3"
  },
  "language_info": {
   "codemirror_mode": {
    "name": "ipython",
    "version": 3
   },
   "file_extension": ".py",
   "mimetype": "text/x-python",
   "name": "python",
   "nbconvert_exporter": "python",
   "pygments_lexer": "ipython3",
   "version": "3.9.5"
  }
 },
 "nbformat": 4,
 "nbformat_minor": 5
}
