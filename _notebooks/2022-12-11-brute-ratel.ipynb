{
 "cells": [
  {
   "cell_type": "markdown",
   "id": "cee483f8-eb3a-4c91-88c9-69b0407469ba",
   "metadata": {},
   "source": [
    "# Brute Ratel\n",
    "> Some notes on this dual purpose RAT\n",
    "\n",
    "- toc: true \n",
    "- badges: true\n",
    "- categories: [rat,brute ratel,redteam,python,research,boymoderre]\n"
   ]
  },
  {
   "cell_type": "markdown",
   "id": "91136cd2-ddfc-4e2c-aeb8-3316d2a2507b",
   "metadata": {},
   "source": [
    "## Collab with @BoymoderRE\n",
    "This is part of an ongoing collaboration with [BoymoderRE](https://twitter.com/boymoderre) she has been streaming her work over on her [twitch channel](https://www.twitch.tv/boymoderre), and we have been sharing IDBs using the free open source IDA collaboration tool [IDArling](https://github.com/fidgetingbits/IDArling)."
   ]
  },
  {
   "cell_type": "markdown",
   "id": "9ea95a5f-c2a3-4949-acee-2615a9fda666",
   "metadata": {},
   "source": [
    "## Overview\n",
    "\n",
    "[Brute Ratel](https://bruteratel.com/) is a pentesting framework what was recently leaked and has been showing up in the [hands of ransomware operators](https://www.bleepingcomputer.com/news/security/ransomware-hacking-groups-move-from-cobalt-strike-to-brute-ratel/). We are going to focus on the releases before 1.3 where many of the weaknesses in the implant were fixed. To date we have only seen the older versions used by ransomware operators.\n",
    "\n",
    "Some of the weaknesses in the older version.\n",
    "- Default Rc4 key used `bYXJm/3#M?:XyMBF`\n",
    "- Using ror13 string hashes\n",
    "- Strings in the badger's memory\n",
    "- Config is base64 encoded in stage 1\n",
    "\n",
    "### Sample\n",
    "\n",
    "The sample we are analyzing in not public.\n",
    "\n",
    "### References \n",
    "- [When Pentest Tools Go Brutal: Red-Teaming Tool Being Abused by Malicious Actors](https://unit42.paloaltonetworks.com/brute-ratel-c4-tool/)\n",
    "- [Black Basta Ransomware Gang Infiltrates Networks via QAKBOT, Brute Ratel, and Cobalt Strike](https://www.trendmicro.com/en_us/research/22/j/black-basta-infiltrates-networks-via-qakbot-brute-ratel-and-coba.html)\n",
    "- [Brute Ratel Config Decoding update](https://medium.com/walmartglobaltech/brute-ratel-config-decoding-update-7820455022cb)\n",
    "- [Immersive-Labs-Sec/BruteRatel-DetectionTools (github)](https://github.com/Immersive-Labs-Sec/BruteRatel-DetectionTools)\n",
    "- [Brute Ratel release notes](https://bruteratel.com/release_notes/releases.txt)\n",
    "- [Blobrunner shellcode debugging tool](https://github.com/OALabs/BlobRunner)\n"
   ]
  },
  {
   "cell_type": "markdown",
   "id": "5e3cf1d6-25c1-4a17-ba97-2f301b3517f6",
   "metadata": {},
   "source": [
    "## Analysis\n",
    "\n",
    "Our sample comes as a 64-bit shellcode blob, the first order of business is to unpack it!"
   ]
  },
  {
   "cell_type": "code",
   "execution_count": 1,
   "id": "20784afd-5267-43d2-93af-7a5ce417c41c",
   "metadata": {},
   "outputs": [
    {
     "data": {
      "text/plain": [
       "b'BSKP6RZ8afbOnHG8NTvPfkYBQ5gBBgghCkqn/C5QbhrUQS9uKLL73WP1JhFwQf5nU98PNSp6pm+iUUcFpdELXy8ydjgqILLxaoUJW3ImIlHtd1H4QpO7n+VMbVEw6wu2GzhkKhQwrK12Q5OxaojW10/Bp91rwhIKL7NQsb8uWf4FbRBipms737eNAqGNQXxD4YAnQAehGqIG9jJ6+zOx4ojc0pwWpBHSyc7/WsFSFiw76CSlm8CCnMEoTV0VAWnjAO13uryClwN8wL/scEbZ70swggsTEB24dskxjoAUUlzpno1ZoWWKZgNnzregdAN+kISq1O/HCDpGbTBBCgX46H4J8GOYBpCUSffVXjhSI12eUUeHA7yW8cFZ\\x00'"
      ]
     },
     "execution_count": 1,
     "metadata": {},
     "output_type": "execute_result"
    }
   ],
   "source": [
    "b64_data = bytes.fromhex('42 53 4B 50 36 52 5A 38 61 66 62 4F 6E 48 47 38 4E 54 76 50 66 6B 59 42 51 35 67 42 42 67 67 68 43 6B 71 6E 2F 43 35 51 62 68 72 55 51 53 39 75 4B 4C 4C 37 33 57 50 31 4A 68 46 77 51 66 35 6E 55 39 38 50 4E 53 70 36 70 6D 2B 69 55 55 63 46 70 64 45 4C 58 79 38 79 64 6A 67 71 49 4C 4C 78 61 6F 55 4A 57 33 49 6D 49 6C 48 74 64 31 48 34 51 70 4F 37 6E 2B 56 4D 62 56 45 77 36 77 75 32 47 7A 68 6B 4B 68 51 77 72 4B 31 32 51 35 4F 78 61 6F 6A 57 31 30 2F 42 70 39 31 72 77 68 49 4B 4C 37 4E 51 73 62 38 75 57 66 34 46 62 52 42 69 70 6D 73 37 33 37 65 4E 41 71 47 4E 51 58 78 44 34 59 41 6E 51 41 65 68 47 71 49 47 39 6A 4A 36 2B 7A 4F 78 34 6F 6A 63 30 70 77 57 70 42 48 53 79 63 37 2F 57 73 46 53 46 69 77 37 36 43 53 6C 6D 38 43 43 6E 4D 45 6F 54 56 30 56 41 57 6E 6A 41 4F 31 33 75 72 79 43 6C 77 4E 38 77 4C 2F 73 63 45 62 5A 37 30 73 77 67 67 73 54 45 42 32 34 64 73 6B 78 6A 6F 41 55 55 6C 7A 70 6E 6F 31 5A 6F 57 57 4B 5A 67 4E 6E 7A 72 65 67 64 41 4E 2B 6B 49 53 71 31 4F 2F 48 43 44 70 47 62 54 42 42 43 67 58 34 36 48 34 4A 38 47 4F 59 42 70 43 55 53 66 66 56 58 6A 68 53 49 31 32 65 55 55 65 48 41 37 79 57 38 63 46 5A 00'.replace(' ',''))\n",
    "b64_data\n",
    "\n"
   ]
  },
  {
   "cell_type": "markdown",
   "id": "0d7e7ccf-b323-41d5-9796-a6a83fe26ff1",
   "metadata": {},
   "source": [
    "### Stage 1 Unpacker \n",
    "\n",
    "- The shellcode payload contains an RC4 encrypted PE with the \"badger\" payload. The RC4 key is 8 bytes which is appended directly to the end of the encrypted payload.\n",
    "\n",
    "- This encrypted blob is moved on the the stack in blocks of 8 bytes. The stack blob and size are then copied on the heap. \n",
    "\n",
    "- The same approach is used for the (config?) but this is base64 encoded.\n",
    "\n",
    "- The heap allocations containing the encrypted payload, the base64 encoded config, and the lenght of both data allocations are passed to the initialization function in the shellcode.\n",
    "\n"
   ]
  },
  {
   "cell_type": "code",
   "execution_count": 2,
   "id": "ed7250fe-bb5a-47df-9c8f-f50136e5b979",
   "metadata": {},
   "outputs": [],
   "source": [
    "def rc4crypt(data, key):\n",
    "    #If the input is a string convert to byte arrays\n",
    "    if type(data) == str:\n",
    "        data = data.encode('utf-8')\n",
    "    if type(key) == str:\n",
    "        key = key.encode('utf-8')\n",
    "    x = 0\n",
    "    box = list(range(256))\n",
    "    for i in range(256):\n",
    "        x = (x + box[i] + key[i % len(key)]) % 256\n",
    "        box[i], box[x] = box[x], box[i]\n",
    "    x = 0\n",
    "    y = 0\n",
    "    out = []\n",
    "    for c in data:\n",
    "        x = (x + 1) % 256\n",
    "        y = (y + box[x]) % 256\n",
    "        box[x], box[y] = box[y], box[x]\n",
    "        out.append(c ^ box[(box[x] + box[y]) % 256])\n",
    "    return bytes(out)"
   ]
  },
  {
   "cell_type": "code",
   "execution_count": 3,
   "id": "7c9a6a6a-720f-4362-a997-cab8584407cb",
   "metadata": {},
   "outputs": [],
   "source": [
    "payload_enc = open('/tmp/brute_enc_shellcode.bin','rb').read()"
   ]
  },
  {
   "cell_type": "code",
   "execution_count": 4,
   "id": "eda808c2-a206-4586-803f-44a4ddfd4d16",
   "metadata": {},
   "outputs": [
    {
     "data": {
      "text/plain": [
       "b'\\x00\\x00\\x00\\x00\\x00\\x00\\x00\\x00\\x00\\x00\\x00\\x00\\x00\\x00\\x00\\x00\\x00\\x00\\x00\\x00\\x00\\x00\\x00\\x00\\x00\\x00\\x00\\x00\\x00\\x00\\x00\\x00\\x00\\x00\\x00\\x00\\x00\\x00\\x00\\x00\\x00\\x00\\x00\\x00\\x00\\x00\\x00\\x00\\x00\\x00\\x00\\x00\\x00\\x00\\x00\\x00\\x00\\x00\\x00\\x00\\x80\\x00\\x00\\x00\\x0e\\x1f\\xba\\x0e\\x00\\xb4\\t\\xcd!\\xb8\\x01L\\xcd\\x00\\x00\\x00\\x00\\x00\\x00\\x00\\x00\\x00\\x00\\x00\\x00\\x00\\x00\\x00\\x00\\x00\\x00\\x00\\x00\\x00\\x00\\x00\\x00\\x00\\x00\\x00\\x00\\x00\\x00\\x00\\x00\\x00\\x00\\x00\\x00\\x00\\x00\\x00\\x00\\r\\r\\n$\\x00\\x00\\x00\\x00\\x00\\x00\\x00PE\\x00\\x00d\\x86\\t\\x00\\xd9\\xb4\\x03c\\x00\\x00\\x00\\x00\\x00\\x00\\x00\\x00\\xf0\\x00.\"\\x0b\\x02\\x02\"\\x00\\xb4\\x02\\x00\\x00\\xdc\\x00\\x00\\x00\\x1e\\x00\\x00\\x00\\x10\\x00\\x00\\x00\\x10\\x00\\x00\\x00\\x00\\x00\\x10\\x00\\x00\\x00\\x00\\x00\\x10\\x00\\x00\\x00\\x02\\x00\\x00\\x04\\x00\\x00\\x00\\x00\\x00\\x00\\x00\\x05\\x00\\x02\\x00\\x00\\x00\\x00\\x00\\x00\\x10\\x04\\x00\\x00\\x04\\x00\\x00\\xf0\\xd3\\x03\\x00\\x03\\x00\\x00\\x00\\x00\\x00 \\x00\\x00\\x00\\x00\\x00\\x00\\x10\\x00\\x00\\x00\\x00\\x00\\x00\\x00\\x00\\x10\\x00\\x00\\x00\\x00\\x00\\x00\\x10\\x00\\x00\\x00\\x00\\x00\\x00\\x00\\x00\\x00\\x00\\x10\\x00\\x00\\x00\\x00\\xe0\\x03\\x006\\x00\\x00\\x00\\x00\\xf0\\x03\\x00\\x80\\x04\\x00\\x00\\x00\\x00\\x00\\x00\\x00\\x00\\x00\\x00\\x00\\x80\\x03\\x00\\x8c\\x13\\x00\\x00\\x00\\x00\\x00\\x00\\x00\\x00\\x00\\x00\\x00\\x00\\x04\\x00l\\x04\\x00\\x00\\x00\\x00\\x00\\x00\\x00\\x00\\x00\\x00\\x00\\x00\\x00\\x00\\x00\\x00\\x00\\x00\\x00\\x00\\x00\\x00\\x00\\x00\\x00\\x00\\x00\\x00\\x00\\x00\\x00\\x00\\x00\\x00\\x00\\x00\\x00\\x00\\x00\\x00\\x00\\x00\\x00\\x00\\x00\\x00\\x00\\x00\\x00\\x00L\\xf1\\x03\\x00\\x10\\x01\\x00\\x00\\x00\\x00\\x00\\x00\\x00\\x00\\x00\\x00\\x00\\x00\\x00\\x00\\x00\\x00\\x00\\x00\\x00\\x00\\x00\\x00\\x00\\x00\\x00\\x00.text\\x00\\x00\\x00\\xb0\\xb3\\x02\\x00\\x00\\x10\\x00\\x00\\x00\\xb4\\x02\\x00\\x00\\x04\\x00\\x00\\x00\\x00\\x00\\x00\\x00\\x00\\x00\\x00\\x00\\x00\\x00\\x00 \\x00P`.data\\x00\\x00\\x000\\x1b\\x00\\x00\\x00\\xd0\\x02\\x00\\x00\\x1c\\x00\\x00\\x00\\xb8\\x02\\x00\\x00\\x00\\x00\\x00\\x00\\x00\\x00\\x00\\x00\\x00\\x00\\x00@\\x00`\\xc0.rdata\\x00\\x00P\\x83\\x00\\x00\\x00\\xf0\\x02\\x00\\x00\\x84\\x00\\x00\\x00\\xd4\\x02\\x00\\x00\\x00\\x00\\x00\\x00\\x00\\x00\\x00\\x00\\x00\\x00\\x00@\\x00`@.pdata\\x00\\x00\\x8c\\x13\\x00\\x00\\x00\\x80\\x03\\x00\\x00\\x14\\x00\\x00\\x00X\\x03\\x00\\x00\\x00\\x00\\x00\\x00\\x00\\x00\\x00\\x00\\x00\\x00\\x00@\\x000@.xdata\\x00\\x00h\\x18\\x00\\x00\\x00\\xa0\\x03\\x00\\x00\\x1a\\x00\\x00\\x00l\\x03\\x00\\x00\\x00\\x00\\x00\\x00\\x00\\x00\\x00\\x00\\x00\\x00\\x00@\\x000@.bss\\x00\\x00\\x00\\x00\\xa6\\x1d\\x00\\x00\\x00\\xc0\\x03\\x00\\x00\\x00\\x00\\x00\\x00\\x00\\x00\\x00\\x00\\x00\\x00\\x00\\x00\\x00\\x00\\x00\\x00\\x00\\x00\\x00\\x80\\x00`\\xc0.edata\\x00\\x006\\x00\\x00\\x00\\x00\\xe0\\x03\\x00\\x00\\x02\\x00\\x00\\x00\\x86\\x03\\x00\\x00\\x00\\x00\\x00\\x00\\x00\\x00\\x00\\x00\\x00\\x00\\x00@\\x000@.idata\\x00\\x00\\x80\\x04\\x00\\x00\\x00\\xf0\\x03\\x00\\x00\\x06\\x00\\x00\\x00\\x88\\x03\\x00\\x00\\x00\\x00\\x00\\x00\\x00\\x00\\x00\\x00\\x00\\x00\\x00@\\x000\\xc0.reloc\\x00\\x00l\\x04\\x00\\x00\\x00\\x00\\x04\\x00\\x00\\x06\\x00\\x00\\x00\\x8e\\x03\\x00\\x00\\x00\\x00\\x00\\x00\\x00\\x00\\x00\\x00\\x00\\x00\\x00@\\x000B\\x00\\x00\\x00\\x00\\x00\\x00\\x00\\x00\\x00\\x00\\x00\\x00\\x00\\x00\\x00\\x00\\x00\\x00\\x00\\x00\\x00\\x00\\x00\\x00\\x00\\x00\\x00\\x00\\x00\\x00\\x00\\x00\\x00\\x00\\x00\\x00\\x00\\x00\\x00\\x00\\x00\\x00\\x00\\x00\\x00\\x00\\x00\\x00\\x00\\x00\\x00\\x00\\x00\\x00\\x00\\x00\\x00\\x00\\x00\\x00\\x00\\x00\\x00\\x00\\x00\\x00\\x00\\x00\\x00\\x00\\x00\\x00\\x00\\x00\\x00\\x00\\x00\\x00\\x00\\x00\\x00\\x00\\x00\\x00\\x00\\x00\\x00\\x00\\x00\\x00\\x00\\x00\\x00\\x00\\x00\\x00\\x00\\x00\\x00\\x00\\x00\\x00\\x00\\x00\\x00\\x00\\x00\\x00\\x00\\x00\\x00\\x00\\x00\\x00\\x00\\x00\\x00\\x00\\x00\\x00\\x00\\x00\\x00\\x00\\x00\\x00\\x00\\x00\\x00\\x00\\x00\\x00\\x00\\x00\\x00\\x00\\x00\\x00\\x00\\x00\\x00\\x00\\x00\\x00\\x00\\x00\\x00\\x00\\x00\\x00\\x00\\x00\\x00\\x00\\x00\\x00\\x00\\x00\\x00\\x00\\x00\\x00\\x00\\x00\\x00\\x00\\x00\\x00\\x00\\x00\\x00\\x00\\x00\\x00\\x00\\x00\\x00\\x00\\x00\\x00\\x00\\x00\\x00\\x00\\x00\\x00\\x00\\x00\\x00\\x00\\x00\\x00\\x00\\x00\\x00\\x00\\x00\\x00\\x00\\x00\\x00\\x00\\x00\\x00\\x00\\x00\\x00\\x00\\x00\\x00\\x00\\x00\\x00\\x00\\x00\\x00\\x00\\x00\\x00\\x00\\x00\\x00\\x00\\x00\\x00\\x00\\x00\\x00\\x00\\x00\\x00\\x00\\x00\\x00\\x00\\x00\\x00\\x00\\x00\\x00\\x00\\x00\\x00\\x00\\x00\\x00\\x00\\x00\\x00\\x00\\x00\\x00\\x00\\x00\\x00\\x00\\x00\\x00\\x00\\x00\\x00\\x00\\x00\\x00\\x00\\x00\\x00\\x00\\x00\\x00\\x00\\x00'"
      ]
     },
     "execution_count": 4,
     "metadata": {},
     "output_type": "execute_result"
    }
   ],
   "source": [
    "payload_key = payload_enc[-8:]\n",
    "out = rc4crypt(payload_enc[:-8],payload_key)\n",
    "out[:0x400]"
   ]
  },
  {
   "cell_type": "code",
   "execution_count": 5,
   "id": "13996af1-5845-4277-a759-38c15c7ea9fd",
   "metadata": {},
   "outputs": [],
   "source": [
    "stage1_data = open('/tmp/stage1.bin','rb').read()"
   ]
  },
  {
   "cell_type": "code",
   "execution_count": null,
   "id": "85e89d4b-4250-49cb-ae4e-9f610a8f9460",
   "metadata": {},
   "outputs": [],
   "source": []
  },
  {
   "cell_type": "code",
   "execution_count": null,
   "id": "2ff5e7e8-2912-40ba-a03c-aa0d2e11af9e",
   "metadata": {},
   "outputs": [],
   "source": []
  },
  {
   "cell_type": "code",
   "execution_count": 7,
   "id": "a3775b4e-6e7c-4b97-95fe-b41c8ef2ea13",
   "metadata": {},
   "outputs": [
    {
     "name": "stdout",
     "output_type": "stream",
     "text": [
      "Hook: blob ptr: 0x43c69f0 size:0x39410\n",
      "Found first blob\n",
      "bytearray(b';\\xbc\\xca\\x9f\\xfa\\x95aX,\\xb4\\xdc\\x98\\xfb\\x87\\x13\"\\x88x\\x05\\xff2\\xc4\\xcc\\xbd\\xdc,\\xb6\\xa5$.\\xe5\\xe4\\xf2r\\xec\\xea]/\\xec6\\xae\\xc3\\xd9\\xc4\\x91@A\\x14\\xf8\\xbd\\xa4t\\x95\\xb6\\xa6[\\xb6\\x9a~\\xaf<\\xf7\\xc598\\x0b\\xd2\\xa9\\x8df\\xaf\\xa4\\x00\\xeb\\xcc\\xa4w\\xb0\\xa8i#u\\x0b\\xf0\\xec\\x89\\xde\\xf6\\xe7e\\x8a\\xca\\x06m\\x1dl#\\x9f\\xd4a')\n",
      "RIP: 0x14536b1\n",
      "Hook: blob ptr: 0x43ffe00 size:0x178\n",
      "Found second blob\n",
      "bytearray(b'BSKP6RZ8afbOnHG8NTvPfkYBQ5gBBgghCkqn/C5QbhrUQS9uKLL73WP1JhFwQf5nU98PNSp6pm+iUUcFpdELXy8ydjgqILLxaoUJ')\n",
      "RIP: 0x14536cb\n",
      "End emulation\n"
     ]
    },
    {
     "ename": "UcError",
     "evalue": "Invalid memory fetch (UC_ERR_FETCH_UNMAPPED)",
     "output_type": "error",
     "traceback": [
      "\u001b[0;31m---------------------------------------------------------------------------\u001b[0m",
      "\u001b[0;31mUcError\u001b[0m                                   Traceback (most recent call last)",
      "\u001b[0;32m<ipython-input-7-7940ea9dc380>\u001b[0m in \u001b[0;36m<module>\u001b[0;34m\u001b[0m\n\u001b[1;32m     45\u001b[0m     \u001b[0mout_rip\u001b[0m \u001b[0;34m=\u001b[0m \u001b[0muc_engine\u001b[0m\u001b[0;34m.\u001b[0m\u001b[0mreg_read\u001b[0m\u001b[0;34m(\u001b[0m\u001b[0muc\u001b[0m\u001b[0;34m.\u001b[0m\u001b[0mx86_const\u001b[0m\u001b[0;34m.\u001b[0m\u001b[0mUC_X86_REG_RIP\u001b[0m\u001b[0;34m)\u001b[0m\u001b[0;34m\u001b[0m\u001b[0;34m\u001b[0m\u001b[0m\n\u001b[1;32m     46\u001b[0m \u001b[0;34m\u001b[0m\u001b[0m\n\u001b[0;32m---> 47\u001b[0;31m \u001b[0mmain\u001b[0m\u001b[0;34m(\u001b[0m\u001b[0mstage1_data\u001b[0m\u001b[0;34m)\u001b[0m\u001b[0;34m\u001b[0m\u001b[0;34m\u001b[0m\u001b[0m\n\u001b[0m",
      "\u001b[0;32m<ipython-input-7-7940ea9dc380>\u001b[0m in \u001b[0;36mmain\u001b[0;34m(buf)\u001b[0m\n\u001b[1;32m     42\u001b[0m     \u001b[0mhook1\u001b[0m \u001b[0;34m=\u001b[0m \u001b[0muc_engine\u001b[0m\u001b[0;34m.\u001b[0m\u001b[0mhook_add\u001b[0m\u001b[0;34m(\u001b[0m\u001b[0muc\u001b[0m\u001b[0;34m.\u001b[0m\u001b[0mUC_HOOK_CODE\u001b[0m\u001b[0;34m,\u001b[0m \u001b[0mhook_call\u001b[0m\u001b[0;34m,\u001b[0m \u001b[0;32mNone\u001b[0m\u001b[0;34m,\u001b[0m \u001b[0mCODE_ADDR\u001b[0m \u001b[0;34m+\u001b[0m \u001b[0;36m0x0536B1\u001b[0m\u001b[0;34m,\u001b[0m \u001b[0mCODE_ADDR\u001b[0m \u001b[0;34m+\u001b[0m \u001b[0;36m0x0536B2\u001b[0m\u001b[0;34m)\u001b[0m\u001b[0;34m\u001b[0m\u001b[0;34m\u001b[0m\u001b[0m\n\u001b[1;32m     43\u001b[0m     \u001b[0mhook2\u001b[0m \u001b[0;34m=\u001b[0m \u001b[0muc_engine\u001b[0m\u001b[0;34m.\u001b[0m\u001b[0mhook_add\u001b[0m\u001b[0;34m(\u001b[0m\u001b[0muc\u001b[0m\u001b[0;34m.\u001b[0m\u001b[0mUC_HOOK_CODE\u001b[0m\u001b[0;34m,\u001b[0m \u001b[0mhook_call\u001b[0m\u001b[0;34m,\u001b[0m \u001b[0;32mNone\u001b[0m\u001b[0;34m,\u001b[0m \u001b[0mCODE_ADDR\u001b[0m \u001b[0;34m+\u001b[0m \u001b[0;36m0x536CB\u001b[0m\u001b[0;34m,\u001b[0m \u001b[0mCODE_ADDR\u001b[0m \u001b[0;34m+\u001b[0m \u001b[0;36m0x536CC\u001b[0m\u001b[0;34m)\u001b[0m\u001b[0;34m\u001b[0m\u001b[0;34m\u001b[0m\u001b[0m\n\u001b[0;32m---> 44\u001b[0;31m     \u001b[0muc_engine\u001b[0m\u001b[0;34m.\u001b[0m\u001b[0memu_start\u001b[0m\u001b[0;34m(\u001b[0m\u001b[0mCODE_ADDR\u001b[0m\u001b[0;34m,\u001b[0m \u001b[0mCODE_ADDR\u001b[0m \u001b[0;34m+\u001b[0m \u001b[0;36m0x10000\u001b[0m\u001b[0;34m,\u001b[0m \u001b[0;36m0\u001b[0m\u001b[0;34m,\u001b[0m \u001b[0;36m0\u001b[0m\u001b[0;34m)\u001b[0m\u001b[0;34m\u001b[0m\u001b[0;34m\u001b[0m\u001b[0m\n\u001b[0m\u001b[1;32m     45\u001b[0m     \u001b[0mout_rip\u001b[0m \u001b[0;34m=\u001b[0m \u001b[0muc_engine\u001b[0m\u001b[0;34m.\u001b[0m\u001b[0mreg_read\u001b[0m\u001b[0;34m(\u001b[0m\u001b[0muc\u001b[0m\u001b[0;34m.\u001b[0m\u001b[0mx86_const\u001b[0m\u001b[0;34m.\u001b[0m\u001b[0mUC_X86_REG_RIP\u001b[0m\u001b[0;34m)\u001b[0m\u001b[0;34m\u001b[0m\u001b[0;34m\u001b[0m\u001b[0m\n\u001b[1;32m     46\u001b[0m \u001b[0;34m\u001b[0m\u001b[0m\n",
      "\u001b[0;32m~/.pyenv/versions/3.9.5/lib/python3.9/site-packages/unicorn/unicorn.py\u001b[0m in \u001b[0;36memu_start\u001b[0;34m(self, begin, until, timeout, count)\u001b[0m\n\u001b[1;32m    339\u001b[0m         \u001b[0mstatus\u001b[0m \u001b[0;34m=\u001b[0m \u001b[0m_uc\u001b[0m\u001b[0;34m.\u001b[0m\u001b[0muc_emu_start\u001b[0m\u001b[0;34m(\u001b[0m\u001b[0mself\u001b[0m\u001b[0;34m.\u001b[0m\u001b[0m_uch\u001b[0m\u001b[0;34m,\u001b[0m \u001b[0mbegin\u001b[0m\u001b[0;34m,\u001b[0m \u001b[0muntil\u001b[0m\u001b[0;34m,\u001b[0m \u001b[0mtimeout\u001b[0m\u001b[0;34m,\u001b[0m \u001b[0mcount\u001b[0m\u001b[0;34m)\u001b[0m\u001b[0;34m\u001b[0m\u001b[0;34m\u001b[0m\u001b[0m\n\u001b[1;32m    340\u001b[0m         \u001b[0;32mif\u001b[0m \u001b[0mstatus\u001b[0m \u001b[0;34m!=\u001b[0m \u001b[0muc\u001b[0m\u001b[0;34m.\u001b[0m\u001b[0mUC_ERR_OK\u001b[0m\u001b[0;34m:\u001b[0m\u001b[0;34m\u001b[0m\u001b[0;34m\u001b[0m\u001b[0m\n\u001b[0;32m--> 341\u001b[0;31m             \u001b[0;32mraise\u001b[0m \u001b[0mUcError\u001b[0m\u001b[0;34m(\u001b[0m\u001b[0mstatus\u001b[0m\u001b[0;34m)\u001b[0m\u001b[0;34m\u001b[0m\u001b[0;34m\u001b[0m\u001b[0m\n\u001b[0m\u001b[1;32m    342\u001b[0m \u001b[0;34m\u001b[0m\u001b[0m\n\u001b[1;32m    343\u001b[0m         \u001b[0;32mif\u001b[0m \u001b[0mself\u001b[0m\u001b[0;34m.\u001b[0m\u001b[0m_hook_exception\u001b[0m \u001b[0;32mis\u001b[0m \u001b[0;32mnot\u001b[0m \u001b[0;32mNone\u001b[0m\u001b[0;34m:\u001b[0m\u001b[0;34m\u001b[0m\u001b[0;34m\u001b[0m\u001b[0m\n",
      "\u001b[0;31mUcError\u001b[0m: Invalid memory fetch (UC_ERR_FETCH_UNMAPPED)"
     ]
    }
   ],
   "source": [
    "from ctypes import *\n",
    "import unicorn as uc\n",
    "\n",
    "stage1_data = open('/tmp/stage1.bin','rb').read()\n",
    "\n",
    "call_state = 0\n",
    "\n",
    "def hook_call(uc_engine, mem_type, address, size):\n",
    "    global call_state\n",
    "    ptr_data = uc_engine.reg_read(uc.x86_const.UC_X86_REG_RCX)\n",
    "    data_size = uc_engine.reg_read(uc.x86_const.UC_X86_REG_RDX)\n",
    "    print(f\"Hook: blob ptr: {hex(ptr_data)} size:{hex(data_size)}\")\n",
    "    buf = uc_engine.mem_read(ptr_data, data_size)\n",
    "    if call_state  == 0:\n",
    "        print(\"Found first blob\")\n",
    "        print(buf[:100])\n",
    "        name = \"first.bin\"\n",
    "    else:\n",
    "        print(\"Found second blob\")\n",
    "        print(buf[:100])\n",
    "        name = \"second.bin\" \n",
    "    call_state += 1\n",
    "    rip = uc_engine.reg_read(uc.x86_const.UC_X86_REG_RIP)\n",
    "    print(f\"RIP: {hex(rip)}\")\n",
    "    rip += 5\n",
    "    uc_engine.reg_write(uc.x86_const.UC_X86_REG_RIP, rip)\n",
    "    open(f'/tmp/{name}', 'wb').write(buf)\n",
    "    if call_state == 2:\n",
    "        print(\"End emulation\")\n",
    "        uc_engine.reg_write(uc.x86_const.UC_X86_REG_RIP, 0x99999999999)\n",
    "    return True\n",
    "\n",
    "def main(buf):\n",
    "    uc_engine = uc.Uc(uc.UC_ARCH_X86, uc.UC_MODE_64)\n",
    "    STACK_ADDR = 0x4400000\n",
    "    CODE_ADDR = 0x1400000\n",
    "    uc_engine.mem_map(CODE_ADDR, 0x100000, uc.UC_PROT_ALL)\n",
    "    uc_engine.mem_map(STACK_ADDR - 0x100000, 0x200000, uc.UC_PROT_ALL)\n",
    "    uc_engine.mem_write(CODE_ADDR, buf)\n",
    "    uc_engine.reg_write(uc.x86_const.UC_X86_REG_RIP, CODE_ADDR)\n",
    "    uc_engine.reg_write(uc.x86_const.UC_X86_REG_RSP, STACK_ADDR)\n",
    "    hook1 = uc_engine.hook_add(uc.UC_HOOK_CODE, hook_call, None, CODE_ADDR + 0x0536B1, CODE_ADDR + 0x0536B2)\n",
    "    hook2 = uc_engine.hook_add(uc.UC_HOOK_CODE, hook_call, None, CODE_ADDR + 0x536CB, CODE_ADDR + 0x536CC)\n",
    "    uc_engine.emu_start(CODE_ADDR, CODE_ADDR + 0x10000, 0, 0)\n",
    "    out_rip = uc_engine.reg_read(uc.x86_const.UC_X86_REG_RIP)\n",
    "    \n",
    "main(stage1_data)"
   ]
  },
  {
   "cell_type": "code",
   "execution_count": null,
   "id": "e5c069f3-6468-43e7-bea4-b2070153a61e",
   "metadata": {},
   "outputs": [],
   "source": []
  },
  {
   "cell_type": "code",
   "execution_count": 2,
   "id": "c1c36dfd-1caf-427b-b4b8-6434d71e4823",
   "metadata": {},
   "outputs": [
    {
     "name": "stdout",
     "output_type": "stream",
     "text": [
      "Call hook at RIP: 0x1400000\n",
      "Call hook at RIP: 0x14536b1\n",
      "Hook: blob ptr: 0x43c69f0 size:0x39410\n",
      "Found first blob\n",
      "bytearray(b';\\xbc\\xca\\x9f\\xfa\\x95aX,\\xb4\\xdc\\x98\\xfb\\x87\\x13\"\\x88x\\x05\\xff2\\xc4\\xcc\\xbd\\xdc,\\xb6\\xa5$.\\xe5\\xe4\\xf2r\\xec\\xea]/\\xec6\\xae\\xc3\\xd9\\xc4\\x91@A\\x14\\xf8\\xbd\\xa4t\\x95\\xb6\\xa6[\\xb6\\x9a~\\xaf<\\xf7\\xc598\\x0b\\xd2\\xa9\\x8df\\xaf\\xa4\\x00\\xeb\\xcc\\xa4w\\xb0\\xa8i#u\\x0b\\xf0\\xec\\x89\\xde\\xf6\\xe7e\\x8a\\xca\\x06m\\x1dl#\\x9f\\xd4a')\n",
      "Call hook at RIP: 0x14536cb\n",
      "Hook: blob ptr: 0x43ffe00 size:0x178\n",
      "Found second blob\n",
      "bytearray(b'BSKP6RZ8afbOnHG8NTvPfkYBQ5gBBgghCkqn/C5QbhrUQS9uKLL73WP1JhFwQf5nU98PNSp6pm+iUUcFpdELXy8ydjgqILLxaoUJ')\n",
      "End emulation\n"
     ]
    },
    {
     "ename": "UcError",
     "evalue": "Invalid memory fetch (UC_ERR_FETCH_UNMAPPED)",
     "output_type": "error",
     "traceback": [
      "\u001b[0;31m---------------------------------------------------------------------------\u001b[0m",
      "\u001b[0;31mUcError\u001b[0m                                   Traceback (most recent call last)",
      "\u001b[0;32m<ipython-input-2-47735b0fbcb1>\u001b[0m in \u001b[0;36m<module>\u001b[0;34m\u001b[0m\n\u001b[1;32m     49\u001b[0m     \u001b[0mout_rip\u001b[0m \u001b[0;34m=\u001b[0m \u001b[0muc_engine\u001b[0m\u001b[0;34m.\u001b[0m\u001b[0mreg_read\u001b[0m\u001b[0;34m(\u001b[0m\u001b[0muc\u001b[0m\u001b[0;34m.\u001b[0m\u001b[0mx86_const\u001b[0m\u001b[0;34m.\u001b[0m\u001b[0mUC_X86_REG_RIP\u001b[0m\u001b[0;34m)\u001b[0m\u001b[0;34m\u001b[0m\u001b[0;34m\u001b[0m\u001b[0m\n\u001b[1;32m     50\u001b[0m \u001b[0;34m\u001b[0m\u001b[0m\n\u001b[0;32m---> 51\u001b[0;31m \u001b[0mmain\u001b[0m\u001b[0;34m(\u001b[0m\u001b[0mstage1_data\u001b[0m\u001b[0;34m)\u001b[0m\u001b[0;34m\u001b[0m\u001b[0;34m\u001b[0m\u001b[0m\n\u001b[0m",
      "\u001b[0;32m<ipython-input-2-47735b0fbcb1>\u001b[0m in \u001b[0;36mmain\u001b[0;34m(buf)\u001b[0m\n\u001b[1;32m     46\u001b[0m     \u001b[0muc_engine\u001b[0m\u001b[0;34m.\u001b[0m\u001b[0mreg_write\u001b[0m\u001b[0;34m(\u001b[0m\u001b[0muc\u001b[0m\u001b[0;34m.\u001b[0m\u001b[0mx86_const\u001b[0m\u001b[0;34m.\u001b[0m\u001b[0mUC_X86_REG_RSP\u001b[0m\u001b[0;34m,\u001b[0m \u001b[0mSTACK_ADDR\u001b[0m\u001b[0;34m)\u001b[0m\u001b[0;34m\u001b[0m\u001b[0;34m\u001b[0m\u001b[0m\n\u001b[1;32m     47\u001b[0m     \u001b[0mhook1\u001b[0m \u001b[0;34m=\u001b[0m \u001b[0muc_engine\u001b[0m\u001b[0;34m.\u001b[0m\u001b[0mhook_add\u001b[0m\u001b[0;34m(\u001b[0m\u001b[0muc\u001b[0m\u001b[0;34m.\u001b[0m\u001b[0mUC_HOOK_CODE\u001b[0m\u001b[0;34m,\u001b[0m \u001b[0mhook_call\u001b[0m\u001b[0;34m,\u001b[0m \u001b[0;32mNone\u001b[0m\u001b[0;34m)\u001b[0m\u001b[0;34m\u001b[0m\u001b[0;34m\u001b[0m\u001b[0m\n\u001b[0;32m---> 48\u001b[0;31m     \u001b[0muc_engine\u001b[0m\u001b[0;34m.\u001b[0m\u001b[0memu_start\u001b[0m\u001b[0;34m(\u001b[0m\u001b[0mCODE_ADDR\u001b[0m\u001b[0;34m,\u001b[0m \u001b[0mCODE_ADDR\u001b[0m \u001b[0;34m+\u001b[0m \u001b[0;36m0x10000\u001b[0m\u001b[0;34m,\u001b[0m \u001b[0;36m0\u001b[0m\u001b[0;34m,\u001b[0m \u001b[0;36m0\u001b[0m\u001b[0;34m)\u001b[0m\u001b[0;34m\u001b[0m\u001b[0;34m\u001b[0m\u001b[0m\n\u001b[0m\u001b[1;32m     49\u001b[0m     \u001b[0mout_rip\u001b[0m \u001b[0;34m=\u001b[0m \u001b[0muc_engine\u001b[0m\u001b[0;34m.\u001b[0m\u001b[0mreg_read\u001b[0m\u001b[0;34m(\u001b[0m\u001b[0muc\u001b[0m\u001b[0;34m.\u001b[0m\u001b[0mx86_const\u001b[0m\u001b[0;34m.\u001b[0m\u001b[0mUC_X86_REG_RIP\u001b[0m\u001b[0;34m)\u001b[0m\u001b[0;34m\u001b[0m\u001b[0;34m\u001b[0m\u001b[0m\n\u001b[1;32m     50\u001b[0m \u001b[0;34m\u001b[0m\u001b[0m\n",
      "\u001b[0;32m~/.pyenv/versions/3.9.5/lib/python3.9/site-packages/unicorn/unicorn.py\u001b[0m in \u001b[0;36memu_start\u001b[0;34m(self, begin, until, timeout, count)\u001b[0m\n\u001b[1;32m    339\u001b[0m         \u001b[0mstatus\u001b[0m \u001b[0;34m=\u001b[0m \u001b[0m_uc\u001b[0m\u001b[0;34m.\u001b[0m\u001b[0muc_emu_start\u001b[0m\u001b[0;34m(\u001b[0m\u001b[0mself\u001b[0m\u001b[0;34m.\u001b[0m\u001b[0m_uch\u001b[0m\u001b[0;34m,\u001b[0m \u001b[0mbegin\u001b[0m\u001b[0;34m,\u001b[0m \u001b[0muntil\u001b[0m\u001b[0;34m,\u001b[0m \u001b[0mtimeout\u001b[0m\u001b[0;34m,\u001b[0m \u001b[0mcount\u001b[0m\u001b[0;34m)\u001b[0m\u001b[0;34m\u001b[0m\u001b[0;34m\u001b[0m\u001b[0m\n\u001b[1;32m    340\u001b[0m         \u001b[0;32mif\u001b[0m \u001b[0mstatus\u001b[0m \u001b[0;34m!=\u001b[0m \u001b[0muc\u001b[0m\u001b[0;34m.\u001b[0m\u001b[0mUC_ERR_OK\u001b[0m\u001b[0;34m:\u001b[0m\u001b[0;34m\u001b[0m\u001b[0;34m\u001b[0m\u001b[0m\n\u001b[0;32m--> 341\u001b[0;31m             \u001b[0;32mraise\u001b[0m \u001b[0mUcError\u001b[0m\u001b[0;34m(\u001b[0m\u001b[0mstatus\u001b[0m\u001b[0;34m)\u001b[0m\u001b[0;34m\u001b[0m\u001b[0;34m\u001b[0m\u001b[0m\n\u001b[0m\u001b[1;32m    342\u001b[0m \u001b[0;34m\u001b[0m\u001b[0m\n\u001b[1;32m    343\u001b[0m         \u001b[0;32mif\u001b[0m \u001b[0mself\u001b[0m\u001b[0;34m.\u001b[0m\u001b[0m_hook_exception\u001b[0m \u001b[0;32mis\u001b[0m \u001b[0;32mnot\u001b[0m \u001b[0;32mNone\u001b[0m\u001b[0;34m:\u001b[0m\u001b[0;34m\u001b[0m\u001b[0;34m\u001b[0m\u001b[0m\n",
      "\u001b[0;31mUcError\u001b[0m: Invalid memory fetch (UC_ERR_FETCH_UNMAPPED)"
     ]
    }
   ],
   "source": [
    "from ctypes import *\n",
    "import unicorn as uc\n",
    "\n",
    "stage1_data = open('/tmp/stage1.bin','rb').read()\n",
    "\n",
    "call_state = 0\n",
    "\n",
    "def hook_call(uc_engine, mem_type, address, size):\n",
    "    global call_state\n",
    "    rip = uc_engine.reg_read(uc.x86_const.UC_X86_REG_RIP)\n",
    "    rip_byte = uc_engine.mem_read(rip, 1)\n",
    "    if rip_byte ==  b'\\xe8':\n",
    "        print(f\"Call hook at RIP: {hex(rip)}\")\n",
    "        if call_state  == 0:\n",
    "            call_state += 1\n",
    "            return True\n",
    "        ptr_data = uc_engine.reg_read(uc.x86_const.UC_X86_REG_RCX)\n",
    "        data_size = uc_engine.reg_read(uc.x86_const.UC_X86_REG_RDX)\n",
    "        print(f\"Hook: blob ptr: {hex(ptr_data)} size:{hex(data_size)}\")\n",
    "        buf = uc_engine.mem_read(ptr_data, data_size)\n",
    "        if call_state  == 1:\n",
    "            print(\"Found first blob\")\n",
    "            print(buf[:100])\n",
    "            name = \"first.bin\"\n",
    "        else:\n",
    "            print(\"Found second blob\")\n",
    "            print(buf[:100])\n",
    "            name = \"second.bin\" \n",
    "        call_state += 1\n",
    "        rip += 5\n",
    "        uc_engine.reg_write(uc.x86_const.UC_X86_REG_RIP, rip)\n",
    "        open(f'/tmp/{name}', 'wb').write(buf)\n",
    "        if call_state == 3:\n",
    "            print(\"End emulation\")\n",
    "            uc_engine.reg_write(uc.x86_const.UC_X86_REG_RIP, 0x99999999999)\n",
    "    return True\n",
    "\n",
    "def main(buf):\n",
    "    uc_engine = uc.Uc(uc.UC_ARCH_X86, uc.UC_MODE_64)\n",
    "    STACK_ADDR = 0x4400000\n",
    "    CODE_ADDR = 0x1400000\n",
    "    uc_engine.mem_map(CODE_ADDR, 0x100000, uc.UC_PROT_ALL)\n",
    "    uc_engine.mem_map(STACK_ADDR - 0x100000, 0x200000, uc.UC_PROT_ALL)\n",
    "    uc_engine.mem_write(CODE_ADDR, buf)\n",
    "    uc_engine.reg_write(uc.x86_const.UC_X86_REG_RIP, CODE_ADDR)\n",
    "    uc_engine.reg_write(uc.x86_const.UC_X86_REG_RSP, STACK_ADDR)\n",
    "    hook1 = uc_engine.hook_add(uc.UC_HOOK_CODE, hook_call, None)\n",
    "    uc_engine.emu_start(CODE_ADDR, CODE_ADDR + 0x10000, 0, 0)\n",
    "    out_rip = uc_engine.reg_read(uc.x86_const.UC_X86_REG_RIP)\n",
    "    \n",
    "main(stage1_data)"
   ]
  },
  {
   "cell_type": "code",
   "execution_count": null,
   "id": "412e39ab-e47e-487f-a163-a6ef29a378b2",
   "metadata": {},
   "outputs": [],
   "source": []
  }
 ],
 "metadata": {
  "kernelspec": {
   "display_name": "Python 3",
   "language": "python",
   "name": "python3"
  },
  "language_info": {
   "codemirror_mode": {
    "name": "ipython",
    "version": 3
   },
   "file_extension": ".py",
   "mimetype": "text/x-python",
   "name": "python",
   "nbconvert_exporter": "python",
   "pygments_lexer": "ipython3",
   "version": "3.9.5"
  }
 },
 "nbformat": 4,
 "nbformat_minor": 5
}
