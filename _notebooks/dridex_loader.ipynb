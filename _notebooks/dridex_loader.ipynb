{
 "cells": [
  {
   "cell_type": "markdown",
   "id": "7c790c40-dc67-403b-afba-f86d3cbad2b1",
   "metadata": {},
   "source": [
    "# Dridex (DoppelDridex) Loader \n",
    "> Analysis of the DoppelDridex loader\n",
    "\n",
    "- toc: true \n",
    "- badges: true\n",
    "- categories: [dridex,doppeldridex,malware,config]"
   ]
  },
  {
   "cell_type": "markdown",
   "id": "53f7ce95-d6d4-4c71-bcf1-7f647743d66d",
   "metadata": {},
   "source": [
    "## Overview\n",
    "\n",
    "Sample (unpacked): `c7990f1e72fdfa84552f02f9d11cabb74251b0508291af5366fefcee646f9c91`\n",
    "\n",
    "References:\n",
    "- [UnpacMe Parent: 375167a16a6beeee52910d6424eb884c631ada9bcb9843809eecd0475718e549](https://www.unpac.me/results/35bcd307-47f0-427a-891c-96230dbcb766#/)\n",
    "- [Malware Bazaar](https://bazaar.abuse.ch/sample/375167a16a6beeee52910d6424eb884c631ada9bcb9843809eecd0475718e549/)\n",
    "- [Unpacked Sample (Malshare)](https://malshare.com/sample.php?action=detail&hash=c7990f1e72fdfa84552f02f9d11cabb74251b0508291af5366fefcee646f9c91)\n",
    "- [Appgate dridex ioc extraction (prior research)](https://www.appgate.com/blog/reverse-engineering-dridex-and-automating-ioc-extraction)\n",
    "- [API Resolving blog (Chuong Dong)](https://www.0ffset.net/reverse-engineering/malware-analysis/dridex-veh-api-obfuscation/)\n",
    "- [Nice extractor from CAPE](https://github.com/kevoreilly/CAPEv2/blob/master/modules/processing/parsers/CAPE/DridexLoader.py)"
   ]
  },
  {
   "cell_type": "markdown",
   "id": "6102a3f3-db4a-4dae-b603-3b393fdabfd7",
   "metadata": {},
   "source": [
    "## Helper Functions"
   ]
  },
  {
   "cell_type": "code",
   "execution_count": 1,
   "id": "691ed15d-6e58-48b8-a0ec-ff8767772d31",
   "metadata": {
    "tags": []
   },
   "outputs": [],
   "source": [
    "def unhex(hex_string):\n",
    "    import binascii\n",
    "    if type(hex_string) == str:\n",
    "        return binascii.unhexlify(hex_string.encode('utf-8'))\n",
    "    else:\n",
    "        return binascii.unhexlify(hex_string)\n",
    "\n",
    "def tohex(data):\n",
    "    import binascii\n",
    "    if type(data) == str:\n",
    "        return binascii.hexlify(data.encode('utf-8'))\n",
    "    else:\n",
    "        return binascii.hexlify(data)"
   ]
  },
  {
   "cell_type": "markdown",
   "id": "f1f0b876-d88e-47e7-9b2f-8371f7e25212",
   "metadata": {},
   "source": [
    "## Known Data (Config) From Joe Sandbox\n",
    "\n",
    "```\n",
    "{\n",
    "  \"Version\": 22201,\n",
    "  \"C2 list\": [\n",
    "    \"103.42.56.15:443\",\n",
    "    \"169.255.57.61:8116\",\n",
    "    \"128.199.192.135:6602\"\n",
    "  ],\n",
    "  \"RC4 keys\": [\n",
    "    \"s6ptqqQ96C42ODZyFUv32gPAVtURlPXrif68ogKV96MSXkXTs\",\n",
    "    \"rZP9KOr8K1zzIudGa98GqFxsSgNXTDprMuKqtLAWjx1u1prqdOQuZjmv5\"\n",
    "  ]\n",
    "}\n",
    "```"
   ]
  },
  {
   "cell_type": "markdown",
   "id": "807e41eb-ebc4-45f3-95bb-835194366c98",
   "metadata": {},
   "source": [
    "## RC4 Decryption "
   ]
  },
  {
   "cell_type": "code",
   "execution_count": 2,
   "id": "c67ba54e-287f-4236-808c-6898d256c0a0",
   "metadata": {},
   "outputs": [],
   "source": [
    "def rc4crypt(data, key):\n",
    "    #If the input is a string convert to byte arrays\n",
    "    if type(data) == str:\n",
    "        data = data.encode('utf-8')\n",
    "    if type(key) == str:\n",
    "        key = key.encode('utf-8')\n",
    "    x = 0\n",
    "    box = list(range(256))\n",
    "    for i in range(256):\n",
    "        x = (x + box[i] + key[i % len(key)]) % 256\n",
    "        box[i], box[x] = box[x], box[i]\n",
    "    x = 0\n",
    "    y = 0\n",
    "    out = []\n",
    "    for c in data:\n",
    "        x = (x + 1) % 256\n",
    "        y = (y + box[x]) % 256\n",
    "        box[x], box[y] = box[y], box[x]\n",
    "        out.append(c ^ box[(box[x] + box[y]) % 256])\n",
    "    return bytes(out)\n"
   ]
  },
  {
   "cell_type": "markdown",
   "id": "f5b79606-60cd-452f-aae6-2e0d78119df2",
   "metadata": {},
   "source": [
    "### APLib \n",
    "\n",
    "Credit: [Sandor Nemes (snemes)](https://github.com/snemes/aplib/blob/master/aplib.py)"
   ]
  },
  {
   "cell_type": "code",
   "execution_count": 4,
   "id": "5944075f-69a7-415d-8f21-dd23487f87f3",
   "metadata": {},
   "outputs": [],
   "source": [
    "import struct\n",
    "from binascii import crc32\n",
    "from io import BytesIO\n",
    "\n",
    "__all__ = ['APLib', 'decompress']\n",
    "__version__ = '0.6'\n",
    "__author__ = 'Sandor Nemes'\n",
    "\n",
    "\n",
    "class APLib(object):\n",
    "\n",
    "    __slots__ = 'source', 'destination', 'tag', 'bitcount', 'strict'\n",
    "\n",
    "    def __init__(self, source, strict=True):\n",
    "        self.source = BytesIO(source)\n",
    "        self.destination = bytearray()\n",
    "        self.tag = 0\n",
    "        self.bitcount = 0\n",
    "        self.strict = bool(strict)\n",
    "\n",
    "    def getbit(self):\n",
    "        # check if tag is empty\n",
    "        self.bitcount -= 1\n",
    "        if self.bitcount < 0:\n",
    "            # load next tag\n",
    "            self.tag = ord(self.source.read(1))\n",
    "            self.bitcount = 7\n",
    "\n",
    "        # shift bit out of tag\n",
    "        bit = self.tag >> 7 & 1\n",
    "        self.tag <<= 1\n",
    "\n",
    "        return bit\n",
    "\n",
    "    def getgamma(self):\n",
    "        result = 1\n",
    "\n",
    "        # input gamma2-encoded bits\n",
    "        while True:\n",
    "            result = (result << 1) + self.getbit()\n",
    "            if not self.getbit():\n",
    "                break\n",
    "\n",
    "        return result\n",
    "\n",
    "    def depack(self):\n",
    "        r0 = -1\n",
    "        lwm = 0\n",
    "        done = False\n",
    "\n",
    "        try:\n",
    "\n",
    "            # first byte verbatim\n",
    "            self.destination += self.source.read(1)\n",
    "\n",
    "            # main decompression loop\n",
    "            while not done:\n",
    "                if self.getbit():\n",
    "                    if self.getbit():\n",
    "                        if self.getbit():\n",
    "                            offs = 0\n",
    "                            for _ in range(4):\n",
    "                                offs = (offs << 1) + self.getbit()\n",
    "\n",
    "                            if offs:\n",
    "                                self.destination.append(self.destination[-offs])\n",
    "                            else:\n",
    "                                self.destination.append(0)\n",
    "\n",
    "                            lwm = 0\n",
    "                        else:\n",
    "                            offs = ord(self.source.read(1))\n",
    "                            length = 2 + (offs & 1)\n",
    "                            offs >>= 1\n",
    "\n",
    "                            if offs:\n",
    "                                for _ in range(length):\n",
    "                                    self.destination.append(self.destination[-offs])\n",
    "                            else:\n",
    "                                done = True\n",
    "\n",
    "                            r0 = offs\n",
    "                            lwm = 1\n",
    "                    else:\n",
    "                        offs = self.getgamma()\n",
    "\n",
    "                        if lwm == 0 and offs == 2:\n",
    "                            offs = r0\n",
    "                            length = self.getgamma()\n",
    "\n",
    "                            for _ in range(length):\n",
    "                                self.destination.append(self.destination[-offs])\n",
    "                        else:\n",
    "                            if lwm == 0:\n",
    "                                offs -= 3\n",
    "                            else:\n",
    "                                offs -= 2\n",
    "\n",
    "                            offs <<= 8\n",
    "                            offs += ord(self.source.read(1))\n",
    "                            length = self.getgamma()\n",
    "\n",
    "                            if offs >= 32000:\n",
    "                                length += 1\n",
    "                            if offs >= 1280:\n",
    "                                length += 1\n",
    "                            if offs < 128:\n",
    "                                length += 2\n",
    "\n",
    "                            for _ in range(length):\n",
    "                                self.destination.append(self.destination[-offs])\n",
    "\n",
    "                            r0 = offs\n",
    "\n",
    "                        lwm = 1\n",
    "                else:\n",
    "                    self.destination += self.source.read(1)\n",
    "                    lwm = 0\n",
    "\n",
    "        except (TypeError, IndexError):\n",
    "            if self.strict:\n",
    "                raise RuntimeError('aPLib decompression error')\n",
    "\n",
    "        return bytes(self.destination)\n",
    "\n",
    "    def pack(self):\n",
    "        raise NotImplementedError\n",
    "\n",
    "\n",
    "def aplib_decompress(data, strict=False):\n",
    "    packed_size = None\n",
    "    packed_crc = None\n",
    "    orig_size = None\n",
    "    orig_crc = None\n",
    "    if data.startswith(b'AP32') and len(data) >= 24:\n",
    "        # data has an aPLib header\n",
    "        header_size, packed_size, packed_crc, orig_size, orig_crc = struct.unpack_from('=IIIII', data, 4)\n",
    "        data = data[header_size : header_size + packed_size]\n",
    "    if strict:\n",
    "        if packed_size is not None and packed_size != len(data):\n",
    "            raise RuntimeError('Packed data size is incorrect')\n",
    "        if packed_crc is not None and packed_crc != crc32(data):\n",
    "            raise RuntimeError('Packed data checksum is incorrect')\n",
    "    result = APLib(data, strict=strict).depack()\n",
    "    if strict:\n",
    "        if orig_size is not None and orig_size != len(result):\n",
    "            raise RuntimeError('Unpacked data size is incorrect')\n",
    "        if orig_crc is not None and orig_crc != crc32(result):\n",
    "            raise RuntimeError('Unpacked data checksum is incorrect')\n",
    "    return result"
   ]
  },
  {
   "cell_type": "markdown",
   "id": "0ddaedd0-5e06-4471-8a80-d5f0c733c9b2",
   "metadata": {},
   "source": [
    "## Test Data Decrypt"
   ]
  },
  {
   "cell_type": "code",
   "execution_count": 5,
   "id": "bc2f54a0-bc37-45aa-9e50-b05e0e6aa498",
   "metadata": {},
   "outputs": [
    {
     "name": "stdout",
     "output_type": "stream",
     "text": [
      "decompressed data len: 1549\n"
     ]
    },
    {
     "data": {
      "text/plain": [
       "1549"
      ]
     },
     "execution_count": 5,
     "metadata": {},
     "output_type": "execute_result"
    }
   ],
   "source": [
    "data = unhex('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')\n",
    "\n",
    "key = data[:48][::-1]\n",
    "data = data[48:]\n",
    "\n",
    "b64_data = rc4crypt(data, key)\n",
    "\n",
    "import base64\n",
    "import struct\n",
    "cmp_data = base64.b64decode(b64_data)\n",
    "decompressed_data_len = struct.unpack('<I',cmp_data[:4])\n",
    "print(\"decompressed data len: %d\" % decompressed_data_len)\n",
    "out = aplib_decompress(cmp_data[4:])\n",
    "\n",
    "SHELLCODE_FILE = '/tmp/dridex_shell1.bin'\n",
    "open(SHELLCODE_FILE, 'wb').write(out)"
   ]
  },
  {
   "cell_type": "markdown",
   "id": "1291fa09-e185-4c7b-b87a-b4007530463c",
   "metadata": {},
   "source": [
    "## Shellcode Analysis\n",
    "\n",
    "The loader checks to see if the process is 64 or 32 bit and then decryptes a shellcode blob and injects it along with a struct containing an IAT and other information.\n",
    "\n",
    "[32bit shellcode (malshare)](https://malshare.com/sample.php?action=detail&hash=3f2bd4c55cd850faa873f90b4174452764f7adeba8f639df2fd3fbf591c80ca3)\n",
    "\n",
    "**To be analyzed...**"
   ]
  },
  {
   "cell_type": "code",
   "execution_count": 6,
   "id": "9e3e0425-1654-4012-955c-1fea098e9836",
   "metadata": {},
   "outputs": [
    {
     "name": "stdout",
     "output_type": "stream",
     "text": [
      "DWORD dword_0;\n",
      "DWORD dword_4;\n",
      "DWORD dword_8;\n",
      "DWORD dword_c;\n",
      "DWORD dword_10;\n",
      "DWORD dword_14;\n",
      "DWORD dword_18;\n",
      "DWORD dword_1c;\n",
      "DWORD dword_20;\n",
      "DWORD dword_24;\n",
      "DWORD dword_28;\n",
      "DWORD dword_2c;\n",
      "DWORD dword_30;\n",
      "DWORD dword_34;\n",
      "DWORD dword_38;\n",
      "DWORD dword_3c;\n",
      "DWORD dword_40;\n"
     ]
    }
   ],
   "source": [
    "gap_size = 68\n",
    "for i in range(0, gap_size, 4): \n",
    "    print(f\"DWORD dword_{i:0x};\")\n"
   ]
  },
  {
   "cell_type": "code",
   "execution_count": 7,
   "id": "889382f9-999d-4a46-b29f-98a6c1c3068b",
   "metadata": {},
   "outputs": [
    {
     "name": "stdout",
     "output_type": "stream",
     "text": [
      "decompressed data len: 245\n"
     ]
    },
    {
     "data": {
      "text/plain": [
       "245"
      ]
     },
     "execution_count": 7,
     "metadata": {},
     "output_type": "execute_result"
    }
   ],
   "source": [
    "shell_data_2 = unhex('4b93941a5f7671df49d159c96b178e1c96667e2ab79238f78d625bd468c1f2aee57a345f03721206fdee52034c3453b52c5d1fc76b2785b91e3442b9ea78da4e4f20eccb69cc1c0f2001fe7ccb6e9c5f8977f6fa89358a57ffd44f5c1e29213a3deaeb45160c655972cfcfc04a1260a89eff479e263dd500f6ec1ed713acb5bff9e2de331dc8dee30a67802dd8c66373af26c356d488013d52a220df8609d784ecad7ddeb888d436aa0c5451b69f2f03f51041538f3a2dcaf92db0968e27c81f9c34ee317777acaf53ecba288b5f0803cf29ba6170fe83f96d5c702a1c2aea4ebd21df44c62eb956db897631675f8e3f5f79e2b1498a47043b56d31d146c53fc53751433f89e8e2828c4bab1ddd49b13ec78fe91b890e617c907fde9653527b07d31801d42418e23fb9b2d715ed8b2a07495e102c97b36183e29e2baf47f')\n",
    "\n",
    "key = shell_data_2[:48][::-1]\n",
    "data = shell_data_2[48:]\n",
    "\n",
    "b64_data = rc4crypt(data, key)\n",
    "\n",
    "import base64\n",
    "import struct\n",
    "cmp_data = base64.b64decode(b64_data)\n",
    "decompressed_data_len = struct.unpack('<I',cmp_data[:4])\n",
    "print(\"decompressed data len: %d\" % decompressed_data_len)\n",
    "out = aplib_decompress(cmp_data[4:])\n",
    "SHELLCODE_FILE_2 = '/tmp/dridex_shell2.bin'\n",
    "open(SHELLCODE_FILE_2, 'wb').write(out)"
   ]
  },
  {
   "cell_type": "markdown",
   "id": "7fb1d325-aa2e-47e9-9e67-47569b2ccc18",
   "metadata": {},
   "source": [
    "## Test String Decryption"
   ]
  },
  {
   "cell_type": "code",
   "execution_count": 3,
   "id": "9e246a4d-f8a5-4474-bd32-f6bc0c68b32e",
   "metadata": {},
   "outputs": [
    {
     "name": "stdout",
     "output_type": "stream",
     "text": [
      "ROOT\\CIMV2\n",
      "SELECT * FROM Win32_Fan\n",
      "*.dll\n",
      "*.exe\n",
      "ntdll.dll\n",
      "\n",
      "\n"
     ]
    }
   ],
   "source": [
    "data = unhex('63208a6488442f57a8414b4928cc1bb9660867a6c23f352adfa702ff121ceee14c69499849e264128bb21bda7fa2a8493244d4377003ec3caae05dc6a76ac7678acd82ca4b2ccceaf0602504576bc9c96223fda05aba4bbff6769f74bc7a3645839a41c4f610217d74d7d203cf38a89af0c05566f5e9301ea7d83f5102e8f324f90d3d38c0773e1a8db5dc6fb5808076269b686b40c6380c37de737d8838e530fac67a')\n",
    "key = data[:48][::-1]\n",
    "data = data[48:]\n",
    "\n",
    "out = rc4crypt(data, key)\n",
    "for s in out.split(b'\\x00\\x00'):\n",
    "    print(s.replace(b'\\x00',b'').decode('latin-1'))\n"
   ]
  },
  {
   "cell_type": "code",
   "execution_count": 9,
   "id": "5ae2d0c6-daee-4da5-9fe8-3ea13b587f5e",
   "metadata": {},
   "outputs": [
    {
     "name": "stdout",
     "output_type": "stream",
     "text": [
      "S:(ML;;NW;;;LW)D:(A;;RPWPCCDCLCSWRCWDWOGA;;;S-1-1-0)\n",
      "\\Sessions\\%d\n",
      "\\BaseNamedObjects\\\n",
      "\n",
      "\n"
     ]
    }
   ],
   "source": [
    "data = unhex('95c985f019ba926e4c776a4f39bb87c3af575e04263a3cfbf446fe76cd45826bdfc9c381775b910daa5af895189ac2037f94d7e0cbcb9f04a44b3dade44673637e63d0aeb931ee404dee9737afe9df5fefac345edde26397a125a483bbf9e4a80012c314d14eab1fe2a997e969b313ef290f7700bd7f3a3afb3f8a493f1449ff72a2e5163c632c7a79d450e1f8618cfaa15cba132da34e83c5dfe1aecf4b016b10e489041d096388fb2ada047bc1567732fe4b2c7d7b249be25e74ee1a6ee47abda1b8efd31253186df54c518aa596c5351fbe1cd148ef4bab2645')\n",
    "key = data[:48][::-1]\n",
    "data = data[48:]\n",
    "\n",
    "out = rc4crypt(data, key)\n",
    "for s in out.split(b'\\x00\\x00'):\n",
    "    print(s.replace(b'\\x00',b'').decode('latin-1'))"
   ]
  },
  {
   "cell_type": "code",
   "execution_count": 11,
   "id": "679fd0f6-8060-45bf-8951-2a65e872debe",
   "metadata": {},
   "outputs": [
    {
     "name": "stdout",
     "output_type": "stream",
     "text": [
      "GET\n",
      "POST\n",
      "\n",
      "\n"
     ]
    }
   ],
   "source": [
    "data = unhex('763204228337e0fd87cd26f15d317e7753125863474a2a23cb087289562e629b87de7aebca904d887233a895007c1b7c8b01fc71443ef6ffb96a7a857d8b636bd5a0d3')\n",
    "key = data[:48][::-1]\n",
    "data = data[48:]\n",
    "\n",
    "out = rc4crypt(data, key)\n",
    "for s in out.split(b'\\x00\\x00'):\n",
    "    print(s.replace(b'\\x00',b'').decode('latin-1'))"
   ]
  },
  {
   "cell_type": "code",
   "execution_count": 12,
   "id": "29332a76-01f8-417a-9148-8bbb070777d0",
   "metadata": {},
   "outputs": [
    {
     "name": "stdout",
     "output_type": "stream",
     "text": [
      "Program Manager\n",
      "Progman\n",
      "AdvApi32~PsApi~shlwapi~shell32~WinInet\n",
      "/run /tn \"%ws\"\n",
      "\"%ws\" /grant:r \"%ws\":F\n",
      "\\NTUSER.DAT\n",
      "winsxs\n",
      "x86_*\n",
      "amd64_*\n",
      "*.exe\n",
      "\\Sessions\\%d\\BaseNamedObjects\\\n",
      "\n",
      "\n"
     ]
    }
   ],
   "source": [
    "data = unhex('9929d0667cd2bee6ce087b584cfa8d54a813828fe28e53422b76d901b32b276fd6bf3583d4c0078646c3f7e0d908c93f798c881c00a9f7b23498892e6dea7634eaa2b1c7e6c67b34f153c9de05b775602a824dc48d52a7175c86e0112db594a53b7fd4c79689ce1adbd8b8fada3a0c03b8b980fe72f8af41ed8ed3af9a544cdf15c7e3ed8e878f61eaa41b626b5d450e65fd78b8736da4aeb1504d65352e081c877863842ab6adae783a99d525cdeb0eb078f8ee748283ce9554b88e9053b63f4c79e4479f117a341f97d7de18f4276b73ec5db445db5865bb16c8f2d819103d436c1b208cf00ee656e799559082d0996e8d89a07202915cb38ea1f3ad813b08034385703110dba092baf240fb0b8d839a07befcb05830c4a8ee25206c9539c010732a75670c8cba4db4eb8996d7d6f3012971574c3da3fb4a0e5274256ccbe3ee349e1fe5ab7249c78505cee79aa943beca99bdfb52f9aaae4d29ca9b3f26db612a1d866a2162ab96a07ad4a69544b1573c2d6e2c7d0424c97aaa23fbff7b703d4ff88d24dda7')\n",
    "key = data[:48][::-1]\n",
    "data = data[48:]\n",
    "\n",
    "out = rc4crypt(data, key)\n",
    "for s in out.split(b'\\x00\\x00'):\n",
    "    print(s.replace(b'\\x00',b'').decode('latin-1'))\n"
   ]
  },
  {
   "cell_type": "code",
   "execution_count": 22,
   "id": "2dcab1f2-7f88-457b-ac0b-bd47f3c2aab3",
   "metadata": {},
   "outputs": [
    {
     "name": "stdout",
     "output_type": "stream",
     "text": [
      "b'o6ijqKOoo6ijqKOoo6ijqKqqqqqqqqqqrKqyqp+fn5+1o6Okqqq6qpaqqKrDw5aWt67WvaPFo6Ofw5yqqqyqvwN/EX8BfwE/AQGQgn2XWVlZWVl/WVlgfX9/WVlZWVlZWVlZWVlZmoh9WVBQUFBZWVlZYZRhnllZhVmSo2BgWVlZWVlZWVlZWVmfAQMBBAPVA8wBvAPwEBAQEFBQUFAUICAgIAEBAQHEAhAAAAAAAQHAwhARAgMRAwMEAAAUAAIAAMbIAgICAgAA/////wAAAP/KAQEBAAYABADAwgEBAwH//wEAA8TExgMBAQH/AwMDyEAACgAEAAAAAH8AMwEAAAAAAAD/v///AAAAAAcAAP8AAAAAAAAAAAAAAAAAAP//AAAAvwAAAAAAAAAAfwAA/0pKSkpLUkpKSkpPTEpKSkpKSkpKVUVASkpKRVlNRkpdSkpKSkpKSkpKSkpKSkphY2dOSkprbUpKRW1KSkRFSkoAAAACDQYGBgYOAAAAAAYGBgAGBgIGAAoKBwcGAgUFAgIAAAQEBAQAAAAOBQYGBgEGAAAIABAAGAAgACgAMACAAYIBhgD2z/4/qwCwALEAswC6+LsAwADBAMe/Yv8Ajf8AxP8Axf8A///rAf8OEggAEwkAFggAFwkAKwkArv8Hsv8AtP8Atf8AwwEAx/+/5wgA8AIA\\x00\\x00'\n",
      "b'\\xa3\\xa8\\xa3\\xa8\\xa3\\xa8\\xa3\\xa8\\xa3\\xa8\\xa3\\xa8\\xa3\\xa8\\xa3\\xa8\\xaa\\xaa\\xaa\\xaa\\xaa\\xaa\\xaa\\xaa\\xac\\xaa\\xb2\\xaa\\x9f\\x9f\\x9f\\x9f\\xb5\\xa3\\xa3\\xa4\\xaa\\xaa\\xba\\xaa\\x96\\xaa\\xa8\\xaa\\xc3\\xc3\\x96\\x96\\xb7\\xae\\xd6\\xbd\\xa3\\xc5\\xa3\\xa3\\x9f\\xc3\\x9c\\xaa\\xaa\\xac\\xaa\\xbf\\x03\\x7f\\x11\\x7f\\x01\\x7f\\x01?\\x01\\x01\\x90\\x82}\\x97YYYYY\\x7fYY`}\\x7f\\x7fYYYYYYYYYYYY\\x9a\\x88}YPPPPYYYYa\\x94a\\x9eYY\\x85Y\\x92\\xa3``YYYYYYYYYYY\\x9f\\x01\\x03\\x01\\x04\\x03\\xd5\\x03\\xcc\\x01\\xbc\\x03\\xf0\\x10\\x10\\x10\\x10PPPP\\x14    \\x01\\x01\\x01\\x01\\xc4\\x02\\x10\\x00\\x00\\x00\\x00\\x01\\x01\\xc0\\xc2\\x10\\x11\\x02\\x03\\x11\\x03\\x03\\x04\\x00\\x00\\x14\\x00\\x02\\x00\\x00\\xc6\\xc8\\x02\\x02\\x02\\x02\\x00\\x00\\xff\\xff\\xff\\xff\\x00\\x00\\x00\\xff\\xca\\x01\\x01\\x01\\x00\\x06\\x00\\x04\\x00\\xc0\\xc2\\x01\\x01\\x03\\x01\\xff\\xff\\x01\\x00\\x03\\xc4\\xc4\\xc6\\x03\\x01\\x01\\x01\\xff\\x03\\x03\\x03\\xc8@\\x00\\n\\x00\\x04\\x00\\x00\\x00\\x00\\x7f\\x003\\x01\\x00\\x00\\x00\\x00\\x00\\x00\\xff\\xbf\\xff\\xff\\x00\\x00\\x00\\x00\\x07\\x00\\x00\\xff\\x00\\x00\\x00\\x00\\x00\\x00\\x00\\x00\\x00\\x00\\x00\\x00\\x00\\x00\\xff\\xff\\x00\\x00\\x00\\xbf\\x00\\x00\\x00\\x00\\x00\\x00\\x00\\x00\\x7f\\x00\\x00\\xffJJJJKRJJJJOLJJJJJJJJUE@JJJEYMFJ]JJJJJJJJJJJJJJacgNJJkmJJEmJJDEJJ\\x00\\x00\\x00\\x02\\r\\x06\\x06\\x06\\x06\\x0e\\x00\\x00\\x00\\x00\\x06\\x06\\x06\\x00\\x06\\x06\\x02\\x06\\x00\\n\\n\\x07\\x07\\x06\\x02\\x05\\x05\\x02\\x02\\x00\\x00\\x04\\x04\\x04\\x04\\x00\\x00\\x00\\x0e\\x05\\x06\\x06\\x06\\x01\\x06\\x00\\x00\\x08\\x00\\x10\\x00\\x18\\x00 \\x00(\\x000\\x00\\x80\\x01\\x82\\x01\\x86\\x00\\xf6\\xcf\\xfe?\\xab\\x00\\xb0\\x00\\xb1\\x00\\xb3\\x00\\xba\\xf8\\xbb\\x00\\xc0\\x00\\xc1\\x00\\xc7\\xbfb\\xff\\x00\\x8d\\xff\\x00\\xc4\\xff\\x00\\xc5\\xff\\x00\\xff\\xff\\xeb\\x01\\xff\\x0e\\x12\\x08\\x00\\x13\\t\\x00\\x16\\x08\\x00\\x17\\t\\x00+\\t\\x00\\xae\\xff\\x07\\xb2\\xff\\x00\\xb4\\xff\\x00\\xb5\\xff\\x00\\xc3\\x01\\x00\\xc7\\xff\\xbf\\xe7\\x08\\x00\\xf0\\x02\\x00'\n"
     ]
    },
    {
     "data": {
      "text/plain": [
       "516"
      ]
     },
     "execution_count": 22,
     "metadata": {},
     "output_type": "execute_result"
    }
   ],
   "source": [
    "data = unhex('0921161a62f46e068fcb7050fe9d5fb793d2666a91610f5c75813f2e6a7f6846478262fcb0bd4e0e5ecdb8763266b6dba380102939f258b4e4c6e3c31481976ae308b958793d404c3dfa35a79ac4551495846111e06c4f0e5c4f9dbcf4d26fd2c9d1130852a1bd812f97d6b9b92fb919866f0a1ab95167a0d111c8b214ed78f7a0aaa18dae2ee00fb34974eb3bbc3b778c3f88f4b29dc7d1efd1793d79fa4381e2d991e0115ffc398989f531053028cddcdec0151fa888d249030604224cae2dc1fc6fcb792c4a9943e12ed6c825a69342d275fe8f3652f8f3a79d355f461a67cd3b8b4700236b6d63683e638c5c83c80d0bac05eb7f40298f97e43f4f32af9d125643ebe245a5f65a181d70bcb147f63bcf24552e782565a7dd818a4439471ff4092097aeee12453c802332346c07e80a9b31d631428f299d11b6cdd962654eb918ef68f8e6b786f3c7fc4b473e74cc2721d4a292c1f8ab99e0b5968eb6d3452f1b9a1d12a6a2255281e44f56b7b0b87b30001b19958e6681d5272c560396580c87370eadf68ae1c1022fcb05c781bcf09635b2bd648aa6fa100320c79c6a8f86a7a2bc679dad4a31faa6358b061ca98259ad6497afb43a2a98a5d1a1061c8ada7c4710c32fb7742d68bfb6e0d52f3f56cc9519e75df72c377728c2bfc58aa75bad3b136c2ba610d23c02febad47f1394db071774fa9d058ebd512bc4a411466d2a6582a651a7443cc8a3ae106af4433099f5616d3414c09788359272ac4599c76b8686eeb26ad090de576a3345cf30ad95b8053233ecff47c4315e7d30cd41387e44b241d992625dfd4cf7b0f506797a89e85914d7593cc59e2e089fbbac5a56b96824af9773822e35b948616ff348d1545933b3eb8253c59d29ebfd4001d087a457ff4b49a6eb2b4a9a2d13b1dd3c4d29db90c3ddf4434fa81246f850b719cea0450c30438cf7ca272681a0a6a76ecb6fe7b460f6703f0e3ed0ffe9c43db993e3c07a97405ea42caba91c47070dd9080e32fcd678721a032956bb393c24714c88')\n",
    "key = data[:48][::-1]\n",
    "data = data[48:]\n",
    "\n",
    "b64_data = rc4crypt(data, key)\n",
    "print(b64_data)\n",
    "\n",
    "out = base64.b64decode(b64_data)\n",
    "print(out)\n",
    "\n",
    "SHELLCODE_FILE = '/tmp/dridex_shell_2.bin'\n",
    "open(SHELLCODE_FILE, 'wb').write(out)"
   ]
  },
  {
   "cell_type": "markdown",
   "id": "3d571091-8838-42cb-909e-b6b4e751859b",
   "metadata": {},
   "source": [
    "## C2 Networking"
   ]
  },
  {
   "cell_type": "code",
   "execution_count": 23,
   "id": "20c9722b-0923-4e50-ba68-1cf0426d57c8",
   "metadata": {},
   "outputs": [
    {
     "name": "stdout",
     "output_type": "stream",
     "text": [
      "103.42.56.15\n"
     ]
    }
   ],
   "source": [
    "print(\"%d.%d.%d.%d\" % (0x67, 0x2a, 0x38, 0x0f))"
   ]
  },
  {
   "cell_type": "code",
   "execution_count": 67,
   "id": "42171445-18b5-494d-840c-74e01b6484f8",
   "metadata": {},
   "outputs": [
    {
     "name": "stdout",
     "output_type": "stream",
     "text": [
      "Found data table at: 0x55d020\n",
      "\n",
      "Bot Version: 22201\n",
      "\n",
      "IP table length: 3\n",
      "103.42.56.15:443\n",
      "169.255.57.61:8116\n",
      "128.199.192.135:6602\n"
     ]
    }
   ],
   "source": [
    "import re\n",
    "import pefile\n",
    "import struct \n",
    "\n",
    "# Change to be your own local file path\n",
    "SAMPLE_FILE_PATH = '/tmp/dridex.bin'\n",
    "\n",
    "file_data = open(SAMPLE_FILE_PATH, 'rb').read()\n",
    "ip_parse_egg = rb'\\xbb(....)\\x89\\x45\\x00\\x0f\\xb7\\x53\\x04\\x89\\x10\\x0f\\xb6\\x4b\\x0b\\x83\\xf9\\x0a'\n",
    "\n",
    "pe = pefile.PE(data=file_data)\n",
    "data_section = None\n",
    "for s in pe.sections:\n",
    "    if s.Name == b'.data\\x00\\x00\\x00':\n",
    "        data_section = s.get_data()\n",
    "\n",
    "match = re.search(ip_parse_egg, file_data, re.DOTALL|re.MULTILINE)\n",
    "ip_table_addr = None\n",
    "if match:\n",
    "    table_addr = struct.unpack('<I',match.group(1))[0]\n",
    "    print(\"Found data table at: %s\\n\" % hex(table_addr))\n",
    "        \n",
    "# Turn address into rva/offset and calculate table offsets\n",
    "table_offset = pe.get_offset_from_rva(table_addr - pe.OPTIONAL_HEADER.ImageBase)\n",
    "ip_table_offset = table_offset + 0xb\n",
    "version_table_offset = table_offset + 4\n",
    "\n",
    "# Get bot version\n",
    "bot_version = struct.unpack('<H', file_data[version_table_offset:version_table_offset+2])[0]\n",
    "print(\"Bot Version: %d\\n\" % bot_version)\n",
    "\n",
    "\n",
    "ip_table_len = ord(file_data[ip_table_offset:ip_table_offset+1])\n",
    "print(\"IP table length: %d\" % ip_table_len)\n",
    "# Move to actual IP table start\n",
    "ip_table_offset += 1\n",
    "# Extract the c2 ips\n",
    "c2_ips = []\n",
    "for i in range(ip_table_len):\n",
    "    ip_string = \"%d.%d.%d.%d\" % (ord(file_data[ip_table_offset:ip_table_offset+1]),\n",
    "                                 ord(file_data[ip_table_offset+1:ip_table_offset+2]),\n",
    "                                 ord(file_data[ip_table_offset+2:ip_table_offset+3]),\n",
    "                                 ord(file_data[ip_table_offset+3:ip_table_offset+4]))\n",
    "    port_string = struct.unpack('<H', file_data[ip_table_offset+4:ip_table_offset+6])[0]\n",
    "    print(\"%s:%s\" % (ip_string,port_string))\n",
    "    c2_ips.append(\"%s:%s\" % (ip_string,port_string))\n",
    "    ip_table_offset += 6\n"
   ]
  },
  {
   "cell_type": "code",
   "execution_count": null,
   "id": "cb408eac-5f3f-4153-a1c3-14edb2b8ecec",
   "metadata": {},
   "outputs": [],
   "source": []
  },
  {
   "cell_type": "code",
   "execution_count": null,
   "id": "dc067115-d64c-4e80-b673-e0ca43de049d",
   "metadata": {},
   "outputs": [],
   "source": []
  },
  {
   "cell_type": "code",
   "execution_count": null,
   "id": "74ee6def-46ec-4b44-9ee2-776b9cccb989",
   "metadata": {},
   "outputs": [],
   "source": []
  }
 ],
 "metadata": {
  "kernelspec": {
   "display_name": "Python 3",
   "language": "python",
   "name": "python3"
  },
  "language_info": {
   "codemirror_mode": {
    "name": "ipython",
    "version": 3
   },
   "file_extension": ".py",
   "mimetype": "text/x-python",
   "name": "python",
   "nbconvert_exporter": "python",
   "pygments_lexer": "ipython3",
   "version": "3.9.5"
  }
 },
 "nbformat": 4,
 "nbformat_minor": 5
}
