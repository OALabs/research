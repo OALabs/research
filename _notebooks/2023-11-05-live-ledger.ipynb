{
 "cells": [
  {
   "cell_type": "markdown",
   "id": "36177e8d-9cb6-4215-998b-797986e72628",
   "metadata": {},
   "source": [
    "# Ledger Live Crypto Wallet Attack\n",
    "> A Targeted Malware Crypto Stealer\n",
    "\n",
    "- toc: true \n",
    "- badges: true\n",
    "- categories: [live ledger,dotnet,crypto,wallet,stealer]"
   ]
  },
  {
   "cell_type": "markdown",
   "id": "94e9cb50-f453-442c-9000-66dfa8494c0b",
   "metadata": {},
   "source": [
    "# Overview\n",
    "\n",
    "This is a unique looking crypto stealer that appears to have been built custom to target a hardware wallet.\n",
    "\n",
    "## Sample\n",
    "\n",
    "- `3333e2846173468a7bf9dc859e2a0418a4bf1a2840802b397463fce5398fb6d3` [UnpacMe](https://www.unpac.me/results/d6205802-3b81-4ec5-9685-103bbcfe386f)\n",
    "\n",
    "## References \n",
    "- [Ledger Live is your one-stop shop to buy crypto, grow your assets, and manage NFTs. Join 6+ million people who trust Ledger for everything web3.](https://www.ledger.com/ledger-live)\n",
    "\n"
   ]
  },
  {
   "cell_type": "markdown",
   "id": "54e44f88-6eed-486e-946c-1ad4afba6640",
   "metadata": {},
   "source": [
    "## Analysis\n",
    "- Sample is .NET\n",
    "- The sample name is `Ledger Lives.exe` which is possibly an attempt to mimic the wallet\n",
    "- The following PDB path is used `C:\\Users\\Kernel32\\source\\repos\\Ledger Lives\\Ledger Lives\\obj\\Release\\Ledger Lives.pdb`\n",
    "- Persistence via the runkey `\"Software\\\\Microsoft\\\\Windows\\\\CurrentVersion\\\\Run` using the name `Realter HD Audio`\n",
    "- Can take screenshot (saved to `screen.png`) -- currently unused \n",
    "- There is no mechanism to prevent multiple versions of the malware from running (no mutex)\n",
    "\n",
    "### C2\n",
    "- `94.142.138.148` port `8080`\n",
    "\n",
    "\n",
    "### Wallet Attack\n",
    "- Uses a process watch thread to identify when the process `Ledger Live` is launched\n",
    "- The real Ledger process is killed and a message box indicating an error is popped up `Firmware verification error, emergency restart`\n",
    "\n",
    "![](https://i.imgur.com/DWyoeYI.png)\n",
    "\n",
    "- The App uses a fake Live Ledger recover screen to trick the user into plugging in their wallet USB (not required for the attack)\n",
    "- The following WMI query is used to wait for the USB to be plugged in `SELECT * FROM __InstanceCreationEvent WITHIN 2 WHERE TargetInstance ISA 'Win32_PnPEntity'`\n",
    "  - This does not require a Live Ledger USB to be connected, any USB will trigger the query\n",
    "- Once the USB is attached the app tricks the user into entering their secret recovery phrase \n",
    "\n",
    "![](https://i.imgur.com/mNPjUpD.png)\n",
    "\n",
    "- This is then sent to the C2\n",
    "  \n",
    "## Delivery \n",
    "According to UnpacMe SourceIntel the sample was downloaded from a (likely compromised) WordPress directory `https://whitecatcorn.com/wp-content/themes/valerielite/13.exe`. According to OSINT from [URLHaus](https://urlhaus.abuse.ch/url/2725945/) LummaStealer was also downloaded from the same WordPress directory ` https://whitecatcorn.com/wp-content/themes/valerielite/updates_installer.exe` hash `9648c6034468d7ee150c2b9b2ce088c14793e1ddf235d596ce14ef754e7d1e9f`. \n",
    "\n",
    "It is possible that that LummaStealer operator observed evidence of Live Ledger on a victim and then deployed this targeted Live Ledger Stealer. The stealer shows signs of hasty development (spelling errors, unimplemented features, lack of error checking, etc.). This coupled with the the lack of a mutex suggest that the malware was developed for a specific use case, and possibly a specific target.\n",
    "\n"
   ]
  },
  {
   "cell_type": "code",
   "execution_count": null,
   "id": "adea48e5-dc9f-49f9-80b1-4958625705c1",
   "metadata": {},
   "outputs": [],
   "source": []
  }
 ],
 "metadata": {
  "kernelspec": {
   "display_name": "Python 3",
   "language": "python",
   "name": "python3"
  },
  "language_info": {
   "codemirror_mode": {
    "name": "ipython",
    "version": 3
   },
   "file_extension": ".py",
   "mimetype": "text/x-python",
   "name": "python",
   "nbconvert_exporter": "python",
   "pygments_lexer": "ipython3",
   "version": "3.9.5"
  }
 },
 "nbformat": 4,
 "nbformat_minor": 5
}
