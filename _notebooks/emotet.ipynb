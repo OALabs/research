{
 "cells": [
  {
   "cell_type": "markdown",
   "id": "9a27731b-f4b5-4ce9-a813-883439eb9206",
   "metadata": {},
   "source": [
    "# Emotet Config Extractor\n",
    "> Static config extractor for Emotet\n",
    "\n",
    "- toc: true \n",
    "- badges: true\n",
    "- categories: [emotet,malware,config]"
   ]
  },
  {
   "cell_type": "markdown",
   "id": "886e2660-2fce-4208-855d-1dba4599ef2d",
   "metadata": {},
   "source": [
    "## Overview\n",
    "\n",
    "Sample: `c7574aac7583a5bdc446f813b8e347a768a9f4af858404371eae82ad2d136a01`\n",
    "\n",
    "Unpacked: `eeb13cd51faa7c23d9a40241d03beb239626fbf3efe1dbbfa3994fc10dea0827`\n",
    "\n",
    "References:\n",
    "- [Malshare Sample (Unpacked)](https://malshare.com/sample.php?action=detail&hash=eeb13cd51faa7c23d9a40241d03beb239626fbf3efe1dbbfa3994fc10dea0827)"
   ]
  },
  {
   "cell_type": "markdown",
   "id": "356deee6-08d9-4502-b0f9-8ba883be899c",
   "metadata": {},
   "source": [
    "## Helper Functions"
   ]
  },
  {
   "cell_type": "code",
   "execution_count": 1,
   "id": "891a942d-b8e1-4318-ac45-d1e647499de7",
   "metadata": {},
   "outputs": [],
   "source": [
    "def unhex(hex_string):\n",
    "    import binascii\n",
    "    if type(hex_string) == str:\n",
    "        return binascii.unhexlify(hex_string.encode('utf-8'))\n",
    "    else:\n",
    "        return binascii.unhexlify(hex_string)\n",
    "\n",
    "def tohex(data):\n",
    "    import binascii\n",
    "    if type(data) == str:\n",
    "        return binascii.hexlify(data.encode('utf-8'))\n",
    "    else:\n",
    "        return binascii.hexlify(data)"
   ]
  },
  {
   "cell_type": "markdown",
   "id": "96af5383-301b-446f-bd77-99b31211b528",
   "metadata": {},
   "source": [
    "## Load The Sample"
   ]
  },
  {
   "cell_type": "code",
   "execution_count": 2,
   "id": "4411fb96-749a-405e-b17f-0f7cf4077c4c",
   "metadata": {},
   "outputs": [],
   "source": [
    "import struct\n",
    "import pefile\n",
    "\n",
    "EMOTET_FILE = r'/tmp/emotet3.bin'\n",
    "data = open(EMOTET_FILE, 'rb').read()\n",
    "pe = pefile.PE(data = data)\n"
   ]
  },
  {
   "cell_type": "code",
   "execution_count": 3,
   "id": "c3bc4b88-43f7-45c1-9715-3429dee6e2e5",
   "metadata": {},
   "outputs": [
    {
     "name": "stdout",
     "output_type": "stream",
     "text": [
      "b'\\x03\\xf2y\\x1a\\x0e\\xf2y\\x1aF\\xb1:JV\\xb05S@\\xb05UA\\x90\\x13\\xa3\\x91\\x9f&\\\\\\xccr\\xbf\\xa6\\x021\\x91H\\xa5=\\x96\\x07\\x00\\x00\\x00\\x00\\x00\\x00\\x00\\x00<n\\xbf\\x19 n\\xbf\\x19q\\x07\\xdckS\\x1d\\xd0\\x7fHN\\xefkU\\x03\\xd6mU\\x18\\xda9l\\x1c\\xd0oU\\n\\xdak,Gd>\\xc0I\\xbd\\x9a\\x9d>(\\xc2g\\xd3\\x03\\xdb'\n"
     ]
    }
   ],
   "source": [
    "txt_data = None\n",
    "for s in pe.sections:\n",
    "    if b'.text' in s.Name:\n",
    "        txt_data = s.get_data()\n",
    "print(txt_data[:100])"
   ]
  },
  {
   "cell_type": "markdown",
   "id": "e70b0ed5-a271-4080-b574-ca2d5e0379b5",
   "metadata": {},
   "source": [
    "## Decrypt Strings Table"
   ]
  },
  {
   "cell_type": "code",
   "execution_count": 4,
   "id": "d1d849cf-ead4-450d-97c4-40d1b83c6a1c",
   "metadata": {},
   "outputs": [
    {
     "name": "stdout",
     "output_type": "stream",
     "text": [
      "b\"ECS1 \\x00\\x00\\x00\\xf4/\\x1a\\x836\\x1a'Q\\x8c$\\xf2\\xca\\xa8\\xec\\x85\\xaeRYQuH\\x94\\x06p\\x02s\\xaa\\xe8\\x9a\\xc4({V\\t\\x0f\\xbc\\x08{\\x80!z\\xa6(~\\x96E\\xb9\\xc3\\xc3\\\\&t\\xcf\\xd8\\xbe\\xa2\\x85\\x1f~\\xa7\\xa8-\\x954\"\n",
      "b'ECK1 \\x00\\x00\\x00\\xd85\\x93\\xd7c\\x8bP\\xc5\\xdf\\xcd\\xe1i\\xf9\\xb16\\x00\\x9b\\x9bT;\\x166\\xa2]D.\\xb280\\xd8G6.\\xb8\\xd2\\xf4\\x8bj\\xc8\\xd8LzED\\x1a\\x06\\xfa\\x8f8\\xbe\\xda\\xfb\\x00\\x96\\x9c\\x84,\\xce\\x1e6\\x80$P\\x96'\n",
      "ECCPUBLICBLOB\n",
      "Microsoft Primitive Provider\n",
      "SHA256\n",
      "ObjectLength\n",
      "ECDSA_P256\n",
      "HASH\n",
      "AES\n",
      "ECDH_P256\n",
      "KeyDataBlob\n",
      "%s\\%s\n",
      "%s\\*\n",
      "%s:Zone.Identifier\n",
      "%s\\%s.exe\n",
      "Cookie: %s=%s\n",
      "\n",
      "\n",
      "--%S--\n",
      "%u.%u.%u.%u\n",
      "Content-Type: multipart/form-data; boundary=%s\n",
      "\n",
      "\n",
      "--%S\n",
      "Content-Disposition: form-data; name=\"%S\"; filename=\"%S\"\n",
      "Content-Type: application/octet-stream\n",
      "\n",
      "\n",
      "%s\\%s\n",
      "%s\\rundll32.exe \"%s\\%s\",%s\n",
      "SOFTWARE\\Microsoft\\Windows\\CurrentVersion\\Run\n",
      "Control_RunDLL\n",
      "%s\\%s%x\n",
      "%s\\rundll32.exe \"%s\\%s\",%s %s\n",
      "%s\\rundll32.exe \"%s\",Control_RunDLL\n",
      "POST\n",
      "userenv.dll\n",
      "shell32.dll\n",
      "bcrypt.dll\n",
      "crypt32.dll\n",
      "wtsapi32.dll\n",
      "urlmon.dll\n",
      "shlwapi.dll\n",
      "wininet.dll\n",
      "advapi32.dll\n",
      "%s_%08X\n",
      "%s%s.dll\n",
      "%s%s.exe\n",
      "DllRegisterServer\n",
      "%s\\regsvr32.exe -s \"%s\"\n",
      "%s\\rundll32.exe \"%s\",Control_RunDLL %s\n",
      "%s\\rundll32.exe \"%s\",Control_RunDLL\n",
      "WinSta0\\Default\n",
      "RNG\n"
     ]
    }
   ],
   "source": [
    "def xor_decrypt(data, key):\n",
    "    out = []\n",
    "    for i in range(len(data)):\n",
    "        out.append(data[i] ^ key[i%len(key)])\n",
    "    return bytes(out)\n",
    "\n",
    "\n",
    "def is_ascii(s):\n",
    "    return all(c < 128 for c in s)\n",
    "\n",
    "strings_table = []\n",
    "ECS1_string = None\n",
    "ECK1_string = None\n",
    "for i in range(0,0x1000,4):\n",
    "    candidate_1 = struct.unpack('<I',txt_data[i:i+4])[0] \n",
    "    candidate_2 = struct.unpack('<I',txt_data[i+4:i+8])[0] \n",
    "    if (candidate_1  & 0xffffff00) ^ (candidate_2 & 0xffffff00) == 0:\n",
    "        # We have a match!\n",
    "        key = txt_data[i:i+4]\n",
    "        data_len = candidate_1 ^ candidate_2\n",
    "        enc_data = txt_data[i+8:i+8+data_len]\n",
    "        ptxt_data = xor_decrypt(enc_data, key)\n",
    "        if is_ascii(ptxt_data):\n",
    "            if ptxt_data != b'':\n",
    "                strings_table.append(ptxt_data.decode('latin1'))\n",
    "        if b'ECS1' == ptxt_data[:4]:\n",
    "            ECS1_string = ptxt_data\n",
    "        if b'ECK1' == ptxt_data[:4]:\n",
    "            ECK1_string = ptxt_data\n",
    "\n",
    "# Print our strings\n",
    "print(ECS1_string)\n",
    "print(ECK1_string)\n",
    "for s in strings_table:\n",
    "    print(s)\n"
   ]
  },
  {
   "cell_type": "markdown",
   "id": "7517cb5e-bf76-462f-8b7b-1bc5cf3feb5f",
   "metadata": {},
   "source": [
    "## Elliptic Curve Keys \n",
    "\n",
    "References:\n",
    "- https://docs.microsoft.com/en-us/windows/win32/api/bcrypt/nf-bcrypt-bcryptimportkeypair\n",
    "- https://docs.microsoft.com/en-us/windows/win32/api/bcrypt/ns-bcrypt-bcrypt_ecckey_blob\n",
    "- https://github.com/tpn/winsdk-10/blob/master/Include/10.0.14393.0/shared/bcrypt.h\n",
    "- https://pycryptodome.readthedocs.io/en/latest/src/public_key/ecc.html"
   ]
  },
  {
   "cell_type": "code",
   "execution_count": 5,
   "id": "c0582d44-b9cd-4749-ad7c-77bb7d5153d3",
   "metadata": {},
   "outputs": [
    {
     "name": "stdout",
     "output_type": "stream",
     "text": [
      "b\"ECS1 \\x00\\x00\\x00\\xf4/\\x1a\\x836\\x1a'Q\\x8c$\\xf2\\xca\\xa8\\xec\\x85\\xaeRYQuH\\x94\\x06p\\x02s\\xaa\\xe8\\x9a\\xc4({V\\t\\x0f\\xbc\\x08{\\x80!z\\xa6(~\\x96E\\xb9\\xc3\\xc3\\\\&t\\xcf\\xd8\\xbe\\xa2\\x85\\x1f~\\xa7\\xa8-\\x954\"\n",
      "b'ECK1 \\x00\\x00\\x00\\xd85\\x93\\xd7c\\x8bP\\xc5\\xdf\\xcd\\xe1i\\xf9\\xb16\\x00\\x9b\\x9bT;\\x166\\xa2]D.\\xb280\\xd8G6.\\xb8\\xd2\\xf4\\x8bj\\xc8\\xd8LzED\\x1a\\x06\\xfa\\x8f8\\xbe\\xda\\xfb\\x00\\x96\\x9c\\x84,\\xce\\x1e6\\x80$P\\x96'\n",
      "\n",
      "ECS1 Key\n",
      "-----BEGIN PUBLIC KEY-----\n",
      "MFkwEwYHKoZIzj0CAQYIKoZIzj0DAQcDQgAE9C8agzYaJ1GMJPLKqOyFrlJZUXVI\n",
      "lAZwAnOq6JrEKHtWCQ+8CHuAIXqmKH6WRbnDw1wmdM/YvqKFH36nqC2VNA==\n",
      "-----END PUBLIC KEY-----\n",
      "\n",
      "ECK1 Key\n",
      "-----BEGIN PUBLIC KEY-----\n",
      "MFkwEwYHKoZIzj0CAQYIKoZIzj0DAQcDQgAE2DWT12OLUMXfzeFp+bE2AJubVDsW\n",
      "NqJdRC6yODDYRzYuuNL0i2rI2Ex6RUQaBvqPOL7a+wCWnIQszh42gCRQlg==\n",
      "-----END PUBLIC KEY-----\n"
     ]
    }
   ],
   "source": [
    "print(ECS1_string)\n",
    "print(ECK1_string)\n",
    "\n",
    "# Extract ECS1 key\n",
    "ECS1_key_len = struct.unpack('<I',ECS1_string[4:8])[0]\n",
    "ECS1_x = int.from_bytes(ECS1_string[8:8+ECS1_key_len], \"big\")\n",
    "ECS1_y = int.from_bytes(ECS1_string[8+ECS1_key_len:], \"big\")\n",
    "\n",
    "from Crypto.PublicKey import ECC\n",
    "ECS1_key = ECC.construct(curve=\"p256\", point_x=ECS1_x, point_y=ECS1_y)\n",
    "print(\"\\nECS1 Key\")\n",
    "print(ECS1_key.export_key(format=\"PEM\"))\n",
    "\n",
    "# Extract ECK1 key\n",
    "ECK1_key_len = struct.unpack('<I',ECK1_string[4:8])[0]\n",
    "ECK1_x = int.from_bytes(ECK1_string[8:8+ECK1_key_len], \"big\")\n",
    "ECK1_y = int.from_bytes(ECK1_string[8+ECK1_key_len:], \"big\")\n",
    "\n",
    "from Crypto.PublicKey import ECC\n",
    "ECK1_key = ECC.construct(curve=\"p256\", point_x=ECK1_x, point_y=ECK1_y)\n",
    "print(\"\\nECK1 Key\")\n",
    "print(ECK1_key.export_key(format=\"PEM\"))"
   ]
  },
  {
   "cell_type": "markdown",
   "id": "37aa8373-d68a-43ba-bb99-f6d454ae3de7",
   "metadata": {},
   "source": [
    "## C2 Ground Truth\n",
    "\n",
    "`81.0.236.93:443`"
   ]
  },
  {
   "cell_type": "code",
   "execution_count": 6,
   "id": "727fd97d-f659-41bd-94c6-082eeefc983b",
   "metadata": {},
   "outputs": [
    {
     "name": "stdout",
     "output_type": "stream",
     "text": [
      "b'5\\x84\\xe9?\\x95\\x84\\xe9?\\x066\\xd4\\x034?\\xe9>\\x9dA\\x1315\\xd4\\xe9>\\x18\\xcb\\xc8\\x0f*\\x14\\xe9>\\xf1\\xa8\\x8b\\x81*\\x14\\xe9>\\x84\\xcc\\xb91.,\\xe9>\\x06V\\x1b\\xd5*\\x14\\xe9>\\x8c\\x10@5*\\x14\\xe9>\\xbb\\x802\\x92*\\x14\\xe9>{\\xab%o4?\\xe9>{\\xaa\\xa0B4?\\xe9>\\x10\\xa8\\x1d\\x8e*\\x14\\xe9>\\x10\\xbf8\\xb2'\n",
      "b'33b23d3c01bb0001a8c5fa0e005000012d4f21301f900001c42c62be1f900001b148500e1ba8000133d2f2ea1f900001b994a90a1f9000018e04dbad1f9000014e2fcc5001bb00014e2e497d01bb0001252cf4b11f900001253bd18d1f900001bffc6710005000013626f2b901bb000155d643cb1f9000013625e47a01bb0001cf9451771f900001c34def271f900001422a399501bb0001c39a922301bb0001'\n",
      "\n",
      "== C2 List== \n",
      "51.178.61.60:443\n",
      "168.197.250.14:80\n",
      "45.79.33.48:8080\n",
      "196.44.98.190:8080\n",
      "177.72.80.14:7080\n",
      "51.210.242.234:8080\n",
      "185.148.169.10:8080\n",
      "142.4.219.173:8080\n",
      "78.47.204.80:443\n",
      "78.46.73.125:443\n",
      "37.44.244.177:8080\n",
      "37.59.209.141:8080\n",
      "191.252.103.16:80\n",
      "54.38.242.185:443\n",
      "85.214.67.203:8080\n",
      "54.37.228.122:443\n",
      "207.148.81.119:8080\n",
      "195.77.239.39:8080\n",
      "66.42.57.149:443\n",
      "195.154.146.35:443\n"
     ]
    }
   ],
   "source": [
    "data_data = None\n",
    "for s in pe.sections:\n",
    "    if b'.data' in s.Name:\n",
    "        data_data = s.get_data()\n",
    "print(data_data[:100])\n",
    "\n",
    "key = data_data[:4]\n",
    "data_len = struct.unpack('<I',data_data[:4])[0] ^ struct.unpack('<I',data_data[4:8])[0]\n",
    "enc_data = data_data[8:8+data_len]\n",
    "ptxt_data = xor_decrypt(enc_data, key)\n",
    "\n",
    "print(tohex(ptxt_data))\n",
    "\n",
    "print(\"\\n== C2 List== \")\n",
    "for i in range(0,len(ptxt_data),8):\n",
    "    print(\"%d.%d.%d.%d:%d\" % (ptxt_data[i+0],ptxt_data[i+1],ptxt_data[i+2],ptxt_data[i+3],struct.unpack('>H',ptxt_data[i+4:i+6])[0]))\n",
    "\n"
   ]
  },
  {
   "cell_type": "code",
   "execution_count": null,
   "id": "a5418978-a96d-4c0d-9c08-1ffc63b98605",
   "metadata": {},
   "outputs": [],
   "source": []
  }
 ],
 "metadata": {
  "kernelspec": {
   "display_name": "Python 3",
   "language": "python",
   "name": "python3"
  },
  "language_info": {
   "codemirror_mode": {
    "name": "ipython",
    "version": 3
   },
   "file_extension": ".py",
   "mimetype": "text/x-python",
   "name": "python",
   "nbconvert_exporter": "python",
   "pygments_lexer": "ipython3",
   "version": "3.9.5"
  }
 },
 "nbformat": 4,
 "nbformat_minor": 5
}
