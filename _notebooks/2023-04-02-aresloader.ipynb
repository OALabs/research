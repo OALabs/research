{
 "cells": [
  {
   "cell_type": "markdown",
   "id": "65fde09f-6b34-4627-ad8e-cf238dc703e2",
   "metadata": {},
   "source": [
    "# AresLoader\n",
    "> Taking a closer look at this new loader\n",
    "\n",
    "- toc: true \n",
    "- badges: true\n",
    "- categories: [ares,aresloader,loader]\n"
   ]
  },
  {
   "cell_type": "markdown",
   "id": "2e55128d-8b95-4a5f-a0f0-17a79ac65e57",
   "metadata": {},
   "source": [
    "![](https://i.imgur.com/B77RDwy.png)"
   ]
  },
  {
   "cell_type": "markdown",
   "id": "88fecbb4-9283-4336-ad6d-db81a165ab02",
   "metadata": {},
   "source": [
    "## Overview\n",
    "\n",
    "AresLoader is a new malware downloader that has been advertised on some underground forums.\n",
    "\n",
    "### References \n",
    "\n",
    "- [New loader on the bloc - AresLoader](https://intel471.com/blog/new-loader-on-the-bloc-aresloader)\n",
    "- [Private Malware for Sale: A Closer Look at AresLoader](https://flashpoint.io/blog/private-malware-for-sale-aresloader/)\n",
    "\n",
    "### Samples \n",
    "\n",
    "- `7572b5b6b1f0ea8e857de568898cf97139c4e5237b835c61fea7d91a6f1155fb` [UnpacMe](https://www.unpac.me/results/346ab69e-9378-416a-8387-6dae0b87bf58)\n",
    "\n",
    "### Panels\n",
    "\n",
    "The following were live panels at the time of analysis (thanks [@lloydlabs](https://twitter.com/lloydlabs))\n",
    "\n",
    "```\n",
    " 45.80.69[.]193\n",
    " 37.220.87[.]52\n",
    "```\n",
    "\n",
    "### Note From The Developers\n",
    "\n",
    "From the the developers themselves!\n",
    "\n",
    "```\n",
    "Dear Customer.\n",
    "Here will be described the advantages, the rules of using the lowers you are renting.\n",
    "\n",
    "Product name: AresLoader.\n",
    "\n",
    "\n",
    "Monthly lease will cost $300. There are no discounts provided. Price includes: 5 rebuilds ( including the first one ), each with a partial stub cleanup ( uniqueization of the binary signature ). Any rebuild after that will cost $50, and this may take some time, since this service is manual, but we will not keep you waiting. \n",
    "In addition, manual morphing code (for each build it is different).\n",
    "\n",
    "==============================\n",
    "The way AresLoader works is that it presents itself as legitimate software (not a required feature) and then downloads the payload and puts it on the disk wherever you want. Before launching the payload, Ares launches a legitimate file.\n",
    "\n",
    "AresLoader can ask the user admin rights (until he allows it) on behalf of cmd.exe and afterwards transfer the rights from cmd.exe to the payload. \n",
    "\n",
    "Ares supports the ability to load encrypted payloads using AES/RSA ciphers ( only use your own encoder to avoid decryption problems )\n",
    "\n",
    "For more details about the work and functionality of the builder - contact the team, we are ready to answer any question. As the builder is in the form of a constructor, they can arise.\n",
    "\n",
    "Due to the fact that the Lauder will be improved and we will be introducing different updates, they may be free or for a fee. In any case, we will notify you about updates and explain what and where they will be updated/modernized. \n",
    "\n",
    "===============================\n",
    "\n",
    "\n",
    "\n",
    "There are rules for use. Attempts to change or break them will be treated critically, up to and including blocking the user. \n",
    "\n",
    "    1. Resale of license is FORBIDDEN. \n",
    "    2. We are not responsible for any loss to the renter.  \n",
    "    4. It is forbidden to post the Lowder binary file in the public domain. \n",
    "    5. It is forbidden to upload the loeder to Virus Total.\n",
    "\n",
    "\n",
    "For our part, the Development team is ready to ensure the comfortable use of our product. Soon we will be adding new updates and other additions to the functionality to improve the performance, increasing the potential of using our AresLoader. In case of any questions we are ready to get in touch with you at any convenient time and solve any arising problems. We are looking for long-term cooperation and diligent customers. \n",
    "\n",
    "\n",
    "Sincerely, developers.\n",
    "```\n",
    "\n"
   ]
  },
  {
   "cell_type": "markdown",
   "id": "33096db8-ab3b-4175-857f-14a7ebc9e740",
   "metadata": {},
   "source": [
    "## Analysis\n",
    "\n",
    "The first stage is \"packed\" with fake API calls used to obscure a simple shellcode loader. The loader loads the 2nd stage onto the heap and executes it (yes you read the right, the heap).\n",
    "\n",
    "### Stage 2\n",
    "\n",
    "The 2nd stage uses a custom decryption algorithm to decrypt the final stage which is loaded into a RWX section and executed. The decryption algorithm was previously observed in a malware dubbed [BUGHATCH](https://www.elastic.co/security-labs/bughatch-malware-analysis) by elastic. The overlap between the two malware families is currently unclear.\n",
    "\n",
    "### Stage 3\n",
    "The 3rd and final stage is composed of some shellcode and the AresLoader payload PE file. The shellode is used to execute the PE file.\n",
    "\n",
    "Based on the strings in the payload this sample is .... `AresLdr_v_3`\n",
    "\n",
    "The 3rd stage appears to have been around since at least 2021 in some form as this analysis report describes a most of the same functionality [Anatomy of a simple and popular packer](https://malware.news/t/anatomy-of-a-simple-and-popular-packer/48537). \n",
    "\n",
    "The purpose of the loader is to download and launch a final malware payload (technically making this a downloader not a loader). The download URLs are in plain text in the final stage and the payload is executed via `CreateProcessA`.  \n"
   ]
  },
  {
   "cell_type": "code",
   "execution_count": null,
   "id": "5e8d5f2e-a8f6-4b1e-bd1a-96e753a3d7c7",
   "metadata": {},
   "outputs": [],
   "source": []
  }
 ],
 "metadata": {
  "kernelspec": {
   "display_name": "Python 3",
   "language": "python",
   "name": "python3"
  },
  "language_info": {
   "codemirror_mode": {
    "name": "ipython",
    "version": 3
   },
   "file_extension": ".py",
   "mimetype": "text/x-python",
   "name": "python",
   "nbconvert_exporter": "python",
   "pygments_lexer": "ipython3",
   "version": "3.9.5"
  }
 },
 "nbformat": 4,
 "nbformat_minor": 5
}
