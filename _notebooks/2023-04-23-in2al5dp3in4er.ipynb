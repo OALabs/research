{
 "cells": [
  {
   "cell_type": "markdown",
   "id": "810a6e9e-1f83-472d-8494-c1cf9aa91f40",
   "metadata": {},
   "source": [
    "# in2al5dp3in4er Loader\n",
    "> Invalid Printer using CreateDXGIFactory graphics card g-checking sandboxes \n",
    "\n",
    "- toc: true \n",
    "- badges: true\n",
    "- categories: [in2al5dp3in4er,loader,analysis,sandbox,invalid printer]\n"
   ]
  },
  {
   "cell_type": "markdown",
   "id": "d6db3add-a987-40e6-9d1f-174e61e3c13e",
   "metadata": {},
   "source": [
    "## Overview\n",
    "\n",
    "This new? loader was exposed by [Morphisec](https://blog.morphisec.com/in2al5d-p3in4er). According to the post, the loader is compiled with [Embarcadero RAD Studio](https://www.embarcadero.com/products/rad-studio) and employs a graphics card check to ensure it is not running in a sandbox before deploying its embedded payload (the loader). The loader is simply used to download and execute a final payload (main functionality). \n",
    "\n",
    "\n",
    "## References \n",
    "\n",
    "- [WHAT MAKES INVALID PRINTER LOADER SO STEALTHY?](https://blog.morphisec.com/in2al5d-p3in4er)\n",
    "- [@osipov_ar tweet](https://twitter.com/osipov_ar/status/1649087073738014723?s=20)\n",
    "\n",
    "## Samples\n",
    "\n",
    "- `66383d931f13bcdd07ca6aa50030968e44d8607cf19bdaf70ed4f9ac704ac4d1` [UnpacMe](https://www.unpac.me/results/346236af-1c81-4cbf-88f3-514061ce1a40#/)"
   ]
  },
  {
   "cell_type": "markdown",
   "id": "27912f02-84dd-4b1d-8115-08021736b03b",
   "metadata": {},
   "source": [
    "## Analysis"
   ]
  },
  {
   "cell_type": "code",
   "execution_count": 4,
   "id": "231348bf-f466-4152-929e-711f7106ce00",
   "metadata": {},
   "outputs": [
    {
     "data": {
      "text/plain": [
       "3168770"
      ]
     },
     "execution_count": 4,
     "metadata": {},
     "output_type": "execute_result"
    }
   ],
   "source": [
    "data = open('/tmp/blob.bin', 'rb').read()\n",
    "\n",
    "out = []\n",
    "for i in range(len(data)):\n",
    "    tmp = data[i]\n",
    "    tmp = (tmp - 52) & 0xff\n",
    "    tmp ^= 0x55\n",
    "    tmp = (tmp + i - 18) & 0xff\n",
    "    out.append(tmp)\n",
    "    \n",
    "out = bytes(out)\n",
    "out[:100]\n",
    "open('/tmp/out.bin','wb').write(out)"
   ]
  },
  {
   "cell_type": "markdown",
   "id": "c56ea445-1cd6-4a25-91c2-9616c60dca3a",
   "metadata": {},
   "source": [
    "### Aurora Stealer\n",
    "\n",
    "The extracted 2nd stage is the golang stealer sold as \"Aurora Stealer\" [malpedia](https://malpedia.caad.fkie.fraunhofer.de/details/win.aurora_stealer).\n",
    "\n",
    "`21545028cac12fc9e8692a71247040718e6d640ee6117d1b19f4521f886586be`[UnpacMe](https://www.unpac.me/results/f8b4aa58-7c24-4b81-a019-190b545bf46c)"
   ]
  },
  {
   "cell_type": "markdown",
   "id": "4af10774-b522-49d7-9659-f7c3d60fe4f5",
   "metadata": {},
   "source": [
    "## Packer ID\n",
    "\n",
    "We can make a simple yara rule based on the following\n",
    "\n",
    "### riid for `CreateDXGIFactory` call\n",
    "```\n",
    "EC 66 71 7B C7 21 AE 44 B2 1A C9 AE 32 1A E3 69\n",
    "```\n",
    "\n",
    "### imports \n",
    "`CreateDXGIFactory` from `DXGI.dll`\n",
    "\n",
    "### checks\n",
    "```\n",
    "cmp     eax, 887A0002h\n",
    "3D 02 00 7A 88                          \n",
    "```\n",
    "\n",
    "### gfx whitelist ids\n",
    "```\n",
    "{29 9? 01 00}\n",
    "```\n",
    "\n",
    "### Rule\n",
    "```\n",
    "import \"pe\"\n",
    "import \"math\"\n",
    "\n",
    "rule riid_hunt {\n",
    "    \n",
    "    strings:\n",
    "        $riid = { EC 66 71 7B C7 21 AE 44 B2 1A C9 AE 32 1A E3 69 }\n",
    "        $embarcadero = \"This program must be run under Win32\" ascii\n",
    "        $import = \"CreateDXGIFactory\" ascii wide\n",
    "    condition:\n",
    "        all of them and \n",
    "        for any i in (0..(pe.number_of_sections)-1) :      \n",
    "        ( \n",
    "           pe.sections[i].name == \".data\" and\n",
    "            math.entropy(pe.sections[i].raw_data_offset, pe.sections[i].raw_data_size) >= 7 \n",
    "        )\n",
    "    \n",
    "}\n",
    "```\n"
   ]
  },
  {
   "cell_type": "markdown",
   "id": "2bc9cbfe-7a9a-46ee-a63a-f359fa010792",
   "metadata": {},
   "source": [
    "## Unpacking\n",
    "\n",
    "\n"
   ]
  },
  {
   "cell_type": "markdown",
   "id": "ebba2bef-6b3b-4ceb-ad9f-4d126d88b864",
   "metadata": {},
   "source": [
    "```\n",
    "48 8D 05   9A 94 16 00                                         lea     rax, blob\n",
    "48 B9   EE EE DE DD CD CC BB 0A                                mov     rcx, 0ABBCCCDDDDEEEEEh\n",
    "48 BA   55 55 45 44 34 23 12 00                                mov     rdx, 12233444455555h\n",
    "49 B8   CC CC B3 BB A2 1A 00 00                                mov     r8, 1AA2BBB3CCCCh\n",
    "4C    63 4D E0                                                  movsxd  r9, [rbp+var_20]\n",
    "```\n",
    "\n",
    "```\n",
    "48 8D 05   D1 93 16 00                                         lea     rax, blob\n",
    "48 B9   81 FD A9 98 F6 50 00 00                                mov     rcx, 50F698A9FD81h\n",
    "48 BA   1B 06 AC 5D DE F8 ED 00                                mov     rdx, 0EDF8DE5DAC061Bh\n",
    "49 B8   04 68 7C AA 99 9D 0B 00                                mov     r8, 0B9D99AA7C6804h\n",
    "4C   63 4D E8                                                  movsxd  r9, [rbp+var_18]\n",
    "```"
   ]
  },
  {
   "cell_type": "code",
   "execution_count": 36,
   "id": "81192e34-6295-478d-896c-7ba98443481d",
   "metadata": {},
   "outputs": [
    {
     "name": "stdout",
     "output_type": "stream",
     "text": [
      "add_inc_key: 0xee\n",
      "xor_key: 0x55\n",
      "add_key: 0xcc\n",
      "blob_rva: 0x172ef0\n",
      "blob_offset: 0x171af0\n"
     ]
    }
   ],
   "source": [
    "import re\n",
    "import struct\n",
    "import pefile\n",
    "\n",
    "file_data = open('/tmp/pointer.bin', 'rb').read()\n",
    "\n",
    "pe = pefile.PE(data=file_data)\n",
    "\n",
    "crypto_egg = rb'\\x48\\x8D\\x05(....)\\x48\\xB9(.).......\\x48\\xBA(.).......\\x49\\xB8(.).......\\x4C'\n",
    "\n",
    "match = re.search(crypto_egg, file_data, re.DOTALL)\n",
    "\n",
    "assert match is not None\n",
    "\n",
    "match_offset = match.start()\n",
    "payload_offset = struct.unpack('<i', match.group(1))[0]\n",
    "match_rva = pe.get_rva_from_offset(match_offset)\n",
    "blob_rva = match_rva + 7 + payload_offset\n",
    "blob_offset = pe.get_offset_from_rva(blob_rva)\n",
    "add_inc_key = struct.unpack('B', match.group(2))[0]\n",
    "xor_key = struct.unpack('B',match.group(3))[0]\n",
    "add_key = struct.unpack('B',match.group(4))[0]\n",
    "\n",
    "print(f\"add_inc_key: {hex(add_inc_key)}\")\n",
    "print(f\"xor_key: {hex(xor_key)}\")\n",
    "print(f\"add_key: {hex(add_key)}\")\n",
    "print(f\"blob_rva: {hex(blob_rva)}\")\n",
    "print(f\"blob_offset: {hex(blob_offset)}\")"
   ]
  },
  {
   "cell_type": "code",
   "execution_count": 37,
   "id": "b175010d-5320-4e48-9065-48cfd040bae0",
   "metadata": {},
   "outputs": [
    {
     "data": {
      "text/plain": [
       "'3e72298e788c7992939091868485858a0c8889dedfdcdde2a3e0e1d6d7d4d5dadbd8d9eeefecedf2f3f0f1e6e7e4e5eaebe8e9bebfbcbdc2c3c0c1b637b4b5bae9d913bccf08b401f208d07afae781b2b295e9ae99adaaac82a7c18376aaababa7b87b75'"
      ]
     },
     "execution_count": 37,
     "metadata": {},
     "output_type": "execute_result"
    }
   ],
   "source": [
    "tmp_data = file_data[blob_offset:]\n",
    "blob_data = tmp_data.split(b'\\x00\\x00\\x00\\x00')[0]\n",
    "blob_data[:100].hex()"
   ]
  },
  {
   "cell_type": "code",
   "execution_count": 41,
   "id": "2d7b5d4c-5c6f-4675-97e4-9dfd8c3345f2",
   "metadata": {},
   "outputs": [
    {
     "data": {
      "text/plain": [
       "3114235"
      ]
     },
     "execution_count": 41,
     "metadata": {},
     "output_type": "execute_result"
    }
   ],
   "source": [
    "\n",
    "def decrypt(data, key1, key2, key3):\n",
    "    out = []\n",
    "    for i in range(len(data)):\n",
    "        tmp = data[i]\n",
    "        tmp = (tmp + key1) & 0xff\n",
    "        tmp ^= key2\n",
    "        tmp = (tmp + i + key3) & 0xff\n",
    "        out.append(tmp)\n",
    "    out = bytes(out)\n",
    "    return out\n",
    "\n",
    "out = decrypt(blob_data, add_key, xor_key, add_inc_key)\n",
    "\n",
    "\n",
    "tmp_pe = pefile.PE(data=out)\n",
    "pe_size = pe.sections[-1].PointerToRawData + pe.sections[-1].Misc_VirtualSize\n",
    "final_pe = out[:pe_size]\n",
    "open('/tmp/testpe.bin', 'wb').write(final_pe)"
   ]
  },
  {
   "cell_type": "code",
   "execution_count": 43,
   "id": "6143bc8f-9b33-47a5-ad30-dacdcaee1473",
   "metadata": {},
   "outputs": [],
   "source": [
    "def extract(file_path):\n",
    "    file_data = open(file_path, 'rb').read()\n",
    "    pe = pefile.PE(data=file_data)\n",
    "    crypto_egg = rb'\\x48\\x8D\\x05(....)\\x48\\xB9(.).......\\x48\\xBA(.).......\\x49\\xB8(.).......\\x4C'\n",
    "    match = re.search(crypto_egg, file_data, re.DOTALL)\n",
    "\n",
    "    assert match is not None\n",
    "\n",
    "    match_offset = match.start()\n",
    "    payload_offset = struct.unpack('<i', match.group(1))[0]\n",
    "    match_rva = pe.get_rva_from_offset(match_offset)\n",
    "    blob_rva = match_rva + 7 + payload_offset\n",
    "    blob_offset = pe.get_offset_from_rva(blob_rva)\n",
    "    add_inc_key = struct.unpack('B', match.group(2))[0]\n",
    "    xor_key = struct.unpack('B',match.group(3))[0]\n",
    "    add_key = struct.unpack('B',match.group(4))[0]\n",
    "    tmp_data = file_data[blob_offset:]\n",
    "    blob_data = tmp_data.split(b'\\x00\\x00\\x00\\x00')[0]\n",
    "    out = decrypt(blob_data, add_key, xor_key, add_inc_key)\n",
    "    assert out[:2] == b'MZ'\n",
    "    tmp_pe = pefile.PE(data=out)\n",
    "    pe_size = pe.sections[-1].PointerToRawData + pe.sections[-1].Misc_VirtualSize\n",
    "    final_pe = out[:pe_size]\n",
    "    open(file_path+'_extracted.bin', 'wb').write(final_pe)"
   ]
  },
  {
   "cell_type": "code",
   "execution_count": 47,
   "id": "8ba3d9d9-c122-417c-b7f1-ed246d30a93a",
   "metadata": {},
   "outputs": [
    {
     "name": "stdout",
     "output_type": "stream",
     "text": [
      "/tmp/samples/66383d931f13bcdd07ca6aa50030968e44d8607cf19bdaf70ed4f9ac704ac4d1\n",
      "/tmp/samples/.DS_Store\n",
      "/tmp/samples/a4cab01d61d8c18876d4b53d52de365fb9b512430371fd4217359159f3c507f6\n",
      "/tmp/samples/66383d931f13bcdd07ca6aa50030968e44d8607cf19bdaf70ed4f9ac704ac4d1_extracted.bin\n",
      "/tmp/samples/5e4b6272dc2d955c5e52c755ea598f44e324b04466a4e3bacf6c9d845345322b\n",
      "/tmp/samples/cdb09a5df36fece23bc3c9df101fe65724327b827ec43aa9ce0b3b76bdcc3101\n",
      "/tmp/samples/2c540f5220b7ba3cd6efcd2fe8091fc24f8da11be4b1782c4e502261ef48da82\n"
     ]
    }
   ],
   "source": [
    "\n",
    "# import required module\n",
    "import os\n",
    "# assign directory\n",
    "directory = '/tmp/samples'\n",
    " \n",
    "# iterate over files in\n",
    "# that directory\n",
    "for filename in os.listdir(directory):\n",
    "    f = os.path.join(directory, filename)\n",
    "    # checking if it is a file\n",
    "    if os.path.isfile(f):\n",
    "        try:\n",
    "            print(f)\n",
    "            extract(f)\n",
    "        except:\n",
    "            continue"
   ]
  },
  {
   "cell_type": "code",
   "execution_count": null,
   "id": "1ef784aa-3c14-4447-948f-ddaad8dcc932",
   "metadata": {},
   "outputs": [],
   "source": []
  }
 ],
 "metadata": {
  "kernelspec": {
   "display_name": "Python 3",
   "language": "python",
   "name": "python3"
  },
  "language_info": {
   "codemirror_mode": {
    "name": "ipython",
    "version": 3
   },
   "file_extension": ".py",
   "mimetype": "text/x-python",
   "name": "python",
   "nbconvert_exporter": "python",
   "pygments_lexer": "ipython3",
   "version": "3.9.5"
  }
 },
 "nbformat": 4,
 "nbformat_minor": 5
}
