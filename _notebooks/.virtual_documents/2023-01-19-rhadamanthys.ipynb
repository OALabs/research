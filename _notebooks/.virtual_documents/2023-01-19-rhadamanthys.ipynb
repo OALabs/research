from dumpulator import Dumpulator

dp = Dumpulator("/tmp/stage2.dmp", quiet=True)
shellcode_start = dp.regs.eip

print(hex(shellcode_start))


shell_base = 0x00810000
shell_end = 0x0082CFF5


dp.start(shellcode_start, end=shell_end)


stage3_start = dp.regs.ebx

print(hex(stage3_start))


shell_page = dp.memory.find_region(stage3_start)
print(shell_page.size)
print(shell_page.start)
print(f"Shellcode entrypoint: {hex(stage3_start - shell_page.start)}")
print(f"Shellcode base: {hex(shell_page.start)}")
shell_page_data = dp.read(shell_page.start, shell_page.size)
open('/tmp/dump_stage3.bin','wb').write(shell_page_data)


print(hex(dp.read_long(dp.regs.esp)))
print(hex(dp.read_long(dp.regs.esp-4)))


dp.memory.find_region(0x19fefc)


dp.exports.get(0x7656f530)


#dp.print_memory()
hex(dp.read_long(0x21d0000))


dp.read(0x13BAC, 10)


dp.start(dp.regs.eip, end=0x021D5D88 )


dp.read(0x13BAC, 100)


dp.start(dp.regs.eip, end=0x021D6098)



dp.modules.find(dp.regs.eax)


dp = Dumpulator("/tmp/stage2.dmp", quiet=True)
shellcode_start = dp.regs.eip

print(hex(shellcode_start))


shell_base = 0x00810000
shell_end = 0x0082CFF5
dp.start(shellcode_start, end=shell_end)
print(f"EIP: {hex(dp.regs.eip)}")
dp.start(dp.regs.eip, end=0x021D5D88)
dp.regs.esi


print(hex(dp.regs.esi))
dp.read(dp.regs.esi, 100)


from dumpulator import Dumpulator

dp = Dumpulator("/tmp/stage2.dmp", quiet=True)
shellcode_start = dp.regs.eip

print(hex(shellcode_start))


shell_base = 0x00810000
shell_end = 0x0082CFF5
dp.start(shellcode_start, end=shell_end)
print(f"EIP: {hex(dp.regs.eip)}")


hex(dp.read_long(dp.regs.esp+4))


init_data_offset_0 = dp.read_long(0x19ff54)
dp.read_long(init_data_offset_0)


hex(dp.read_long(0x19ff54+4))


config_data = dp.read(0x426008, 152)
print(config_data.hex())


key = bytes.fromhex('52abdf06b6b13ac0da2d22dc6cd2be6c201769e012b5e6ec0eab4c14734aed51')


out = bytes.fromhex('215248590e000000ef4456b59328427fba4377a1d192aa92687474703a2f2f3131362e3230322e31382e3133322f626c6f622f71336b36746b2e7869386f008e8a1f771e17b45183cfda277723418924c7936eb3cb4ef3541c60510f1dd542c28d53aa06cf6cf4e16e3ebcbc8c4c702a9a31f99e44e93688702587843fe3834d0ca21df074ae3aabfe9b480a09fbd2df9b8ae88b40ad5ce6')
out


len('\xefDV\xb5\x93(B\x7f\xbaCw\xa1\xd1\x92\xaa\x92')


c2 = out[24:].split(b'\x00')[0].decode('utf-8')
c2


from dumpulator import Dumpulator

dp = Dumpulator("/tmp/stage2.dmp", quiet=True)
shellcode_start = dp.regs.eip

print(hex(shellcode_start))


shell_base = 0x00810000
shell_end = 0x0082CFF5
dp.start(shellcode_start, end=shell_end)

# Extract stage3
stage3_base = dp.read_long(dp.regs.esp)
stage3_size = dp.memory.query(stage3_base).region_size
stage3_data = dp.read(stage3_base, stage3_size)

# Extract encrypted config
ptr_config_data = dp.read_long(0x19ff54+4)
config_data = dp.read(ptr_config_data, 152)


import re
import struct 
from  malduck import rc4

# 6A 20                                   push    20h ; ' '       ; a3
# 8D 85 F8 FE FF FF                       lea     eax, [ebp+arg_rc4_key_stream]
# 68 A4 2C 01 00                          push    offset g_key    ; a2
# 8B 77 04                                mov     esi, [edi+4]
# 50                                      push    eax             ; a1
# E8 03 E6 FF FF                          call    mw_rc4_ksa
# 56                                      push    esi             ; arg_out_buff
# 56                                      push    esi             ; arg_in_buff
# 8D 85 F8 FE FF FF                       lea     eax, [ebp+arg_rc4_key_stream]
# 68 98 00 00 00                          push    98h             ; arg_size


key_egg = rb'\x6A\x20(?:(?!\x6A\x20).)*?\x98\x00\x00\x00'
key_candidates = []
for match in re.finditer(key_egg, stage3_data):
    data_target = match.group()
    key_address = struct.unpack('<I', data_target.split(b'\x68')[1][:4])[0]
    # print(hex(key_address))
    key_offset = key_address
    key_data = stage3_data[key_offset:key_offset+32]
    key_candidates.append(key_data)
    
assert len(key_candidates) != 0

# Test each key and look for decrypted magic byte 
magic_bytes = b'!RHY'

config_out = None

for key in key_candidates:
    out = rc4(key, config_data)
    #print(out)
    if out[:4] == magic_bytes:
        config_out = out
        break
        
assert config_out != None

c2 = config_out[24:].split(b'\x00')[0].decode('utf-8')

print(f'C2: {c2}')





