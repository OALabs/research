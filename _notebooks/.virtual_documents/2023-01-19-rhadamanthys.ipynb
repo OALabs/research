from dumpulator import Dumpulator

dp = Dumpulator("/tmp/stage2.dmp", quiet=True)
shellcode_start = dp.regs.eip

print(hex(shellcode_start))


shell_base = 0x00810000
shell_end = 0x0082CFF5


dp.start(shellcode_start, end=shell_end)


stage3_start = dp.regs.ebx

print(hex(stage3_start))


shell_page = dp.memory.find_region(stage3_start)
print(shell_page.size)
print(shell_page.start)
print(f"Shellcode entrypoint: {hex(stage3_start - shell_page.start)}")
print(f"Shellcode base: {hex(shell_page.start)}")
shell_page_data = dp.read(shell_page.start, shell_page.size)
open('/tmp/dump_stage3.bin','wb').write(shell_page_data)


print(hex(dp.read_long(dp.regs.esp)))
print(hex(dp.read_long(dp.regs.esp-4)))


dp.memory.find_region(0x19fefc)


dp.exports.get(0x7656f530)


#dp.print_memory()
hex(dp.read_long(0x21d0000))


dp.read(0x13BAC, 10)


dp.start(dp.regs.eip, end=0x021D5D88 )


dp.read(0x13BAC, 100)


dp.start(dp.regs.eip, end=0x021D6098)



dp.modules.find(dp.regs.eax)


dp = Dumpulator("/tmp/stage2.dmp", quiet=True)
shellcode_start = dp.regs.eip

print(hex(shellcode_start))


shell_base = 0x00810000
shell_end = 0x0082CFF5
dp.start(shellcode_start, end=shell_end)
print(f"EIP: {hex(dp.regs.eip)}")
dp.start(dp.regs.eip, end=0x021D5D88)
dp.regs.esi


print(hex(dp.regs.esi))
dp.read(dp.regs.esi, 100)






