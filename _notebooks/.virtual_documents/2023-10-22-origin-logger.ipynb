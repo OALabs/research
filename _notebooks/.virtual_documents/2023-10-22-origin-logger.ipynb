import re

file_data = open('/tmp/origin.bin', 'rb').read()


def filter_printable(data):
    out = []
    for c in data:
        if c < 33 or c > 126 or c == 92:
            continue
        out.append(c)
    return bytes(out)




def get_c2s(file_data):
    c2s = []
    for s in file_data.split(b'h\x00t\x00t\x00'):
        if s[:2] == b'p\x00':
            tmp = s.split(b'\x00\x00')[0]
            out = b'htt' + filter_printable(tmp.replace(b'\x00',b''))
            if len(out) < 4 or len(out) > 50:
                continue
            #print(out)
            c2s.append(out.decode('utf-8'))
    return c2s


get_c2s(file_data)



# import required module
import os
# assign directory
directory = '/tmp/samples'
 
# iterate over files in
# that directory
for filename in os.listdir(directory):
    f = os.path.join(directory, filename)
    # checking if it is a file
    if os.path.isfile(f):
        print(f)
        file_data = open(f, 'rb').read()
        print(get_c2s(file_data))



