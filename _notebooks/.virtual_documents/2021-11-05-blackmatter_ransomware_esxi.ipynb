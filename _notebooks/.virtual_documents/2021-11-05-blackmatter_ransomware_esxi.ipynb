from __future__ import print_function
import sys

sys.path[0:0] = ['.', '..']

from elftools.elf.elffile import ELFFile


def process_file(filename):
    print('Sections in ELF file:', filename)
    with open(filename, 'rb') as f:
        elffile = ELFFile(f)

        for section in elffile.iter_sections():
                print('  ' + section.name)



process_file("tmp/blackmatter_elf.inactive")


#we make a small function to grab the config section by name
def get_config_section_data(filename):
    with open(filename, 'rb') as f:
        elffile = ELFFile(f)

        for section in elffile.iter_sections():
            if section.name.startswith('.cfgETD'):
                return section.data()

config_data = get_config_section_data("tmp/blackmatter_elf.inactive")


#decoding our section data into a utf-8 string gives us a base64 string
config_string = config_data.decode("utf-8") #we do not add the 'validate=True' parameter
print(config_string) #if this does not print out a clear base64 string, something has gone wrong


import base64


config_b64_decoded = base64.b64decode(config_string) #now we decode our base64 string into a bytearray
print(config_b64_decoded)


import zlib

#as functions in code, zlib's deflate and inflate algorithms are referenced as compress and decompress

decompressed = zlib.decompress(config_b64_decoded) #a simple decompress function will uncompress our data
print(decompressed)


data = bytearray(decompressed)
key = data[0:32]

data_position = 32
key_position = 0

#print(data[0:32].decode("utf-8","ignore"))

output = bytearray()

while data_position != len(data):
    #print("Data position at " + str(data_position) + " and key position at " + str(key_position))
    #print(str(data[data_position]) + str(key[key_position]))
    if data[data_position] != 0:
        if data[data_position] != key[key_position]:
            data[data_position] = data[data_position] ^ key[key_position]
            key_position += 1
            if key_position == 32:
                key_position = 0
            
    data_position += 1 

print(data.decode("utf-8"))
            



