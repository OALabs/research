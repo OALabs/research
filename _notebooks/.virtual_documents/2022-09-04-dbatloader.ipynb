def unhex(hex_string):
    import binascii
    if type(hex_string) == str:
        return binascii.unhexlify(hex_string.encode('utf-8'))
    else:
        return binascii.unhexlify(hex_string)



c2_data = unhex('2F 3B 3B 37 3A 01 F6 F6 36 35 2C 2B 39 30 3D 2C F5 33 30 3D 2C F5 2A 36 34 F6 2B 36 3E 35 33 36 28 2B 06 2A 30 2B 04 0C 08 0C 00 F7 F7 00 F8 FB FA 0D FE 0A FB F9 F7 ED 39 2C 3A 30 2B 04 0C 08 0C 00 F7 F7 00 F8 FB FA 0D FE 0A FB F9 F7 EC F9 F8 F8 F9 FE ED 28 3C 3B 2F 32 2C 40 04 08 09 18 09 13 15 21 2D F7 FC 16 11 2F 41 2A E7 E7'.replace(' ',''))
delim = b'^^Nc'


def addit(data, key):
    out = []
    for c in data:
        out.append((c + (0x112 % key))&0xff)
    return bytes(out)


addit(c2_data,217)




data = open('/tmp/stage3.bin', 'rb').read()
key = 217

out = []
for c in data:
    if c & 1 != 0:
        out.append((c + key) & 0xff)
    else:
        out.append((c - key) & 0xff)

out = bytes(out)
out = out[::-1]



delim = b'*()%@5YT!@#G__T@#$%^&*()__#@$#57$#!@'

out_sections = out.split(delim)


for s in out_sections:
    print(s[:400])
    print('\n\n\n\n')



key = out_sections[1]
key_len = len(key)

payload_data = out_sections[3]
payload_data_len = len(payload_data)



out = []
key_count = 0
for i in range(payload_data_len):
    tmp_byte = (payload_data[i] ^ payload_data_len ) & 0xff
    out.append((key[key_count]  ^ key_len ^ tmp_byte ) & 0xff)
    key_count = (key_count + 1) % key_len

payload_out = bytes(out)

payload_out_dec = addit(payload_out, 217)

payload_out_dec = payload_out_dec[::-1]

def decrypt_yak(data):
    """
    implements the first decryption layer of function 0x416408
    """
    res = bytearray(data)
    for i, c in enumerate(data):
        if 0x21 <= c <= 0x7e:
            res[i] = ((((c + 0xe) % 0x5e) + 0x21) & 0xff)
    return bytes(res)

final_payload = decrypt_yak(payload_out_dec)


print(final_payload[:400])






