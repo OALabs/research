from dumpulator import Dumpulator

dp = Dumpulator("/tmp/pika2.dmp", quiet=True)
print('loaded')


dll_base = 0x00540000

dp.start(0x005A2013, end=0x005A203A)

print('done')



dp.read(dp.regs.ebp - 0x1c, 12)


dp = Dumpulator("/tmp/pika2.dmp", quiet=True)
print('loaded')
dp.start(0x005A2041, end=0x00005A206E)
print('done')


dp.read(dp.regs.edx, 12)



