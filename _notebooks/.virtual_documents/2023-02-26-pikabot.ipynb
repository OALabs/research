from dumpulator import Dumpulator

dp = Dumpulator("/tmp/pika2.dmp", quiet=True)
print('loaded')


dll_base = 0x00540000

dp.start(0x005A2013, end=0x005A203A)

print('done')



dp.read(dp.regs.ebp - 0x1c, 12)


dp = Dumpulator("/tmp/pika2.dmp", quiet=True)
print('loaded')
dp.start(0x005A2041, end=0x00005A206E)
print('done')


dp.read(dp.regs.edx, 12)


stack_strings = [{'start': 5902456, 'end': 5902507, 'op_offset': -48}, {'start': 5902507, 'end': 5902578, 'op_offset': -100}, {'start': 5902651, 'end': 5902714, 'op_offset': -44}, {'start': 5902793, 'end': 5902851, 'op_offset': -496}, {'start': 5902851, 'end': 5902983, 'op_offset': -920}, {'start': 5902983, 'end': 5903051, 'op_offset': -512}, {'start': 5903051, 'end': 5903096, 'op_offset': -400}, {'start': 5903096, 'end': 5903151, 'op_offset': -584}, {'start': 5903151, 'end': 5903256, 'op_offset': -648}, {'start': 5903256, 'end': 5903317, 'op_offset': -560}, {'start': 5903317, 'end': 5903362, 'op_offset': -412}, {'start': 5903362, 'end': 5903947, 'op_offset': -1364}, {'start': 5903947, 'end': 5904084, 'op_offset': -1000}, {'start': 5904084, 'end': 5904190, 'op_offset': -840}, {'start': 5904190, 'end': 5904288, 'op_offset': -776}, {'start': 5904288, 'end': 5904395, 'op_offset': -712}, {'start': 5904395, 'end': 5904475, 'op_offset': -136}, {'start': 5904475, 'end': 5904520, 'op_offset': -76}, {'start': 5904520, 'end': 5904580, 'op_offset': -20}, {'start': 5904580, 'end': 5904636, 'op_offset': -64}, {'start': 5904636, 'end': 5904799, 'op_offset': -308}, {'start': 5904799, 'end': 5904869, 'op_offset': -544}, {'start': 5905068, 'end': 5905134, 'op_offset': -528}, {'start': 5905134, 'end': 5905203, 'op_offset': -192}, {'start': 5905356, 'end': 5905425, 'op_offset': -48}, {'start': 5905811, 'end': 5905870, 'op_offset': -128}, {'start': 5905870, 'end': 5905915, 'op_offset': -44}, {'start': 5905915, 'end': 5905960, 'op_offset': -32}, {'start': 5906451, 'end': 5906490, 'op_offset': -28}, {'start': 5906497, 'end': 5906535, 'op_offset': -12}, {'start': 5906549, 'end': 5906588, 'op_offset': -28}]

def emulate(start, end, op_offset):
    dp = Dumpulator("/tmp/pika2.dmp", quiet=True)
    print('loaded')
    dp.start(start, end=end)
    print('done')
    str_len = dp.regs.ecx
    if str_len > 2:
        if dp.read(dp.regs.ebp + op_offset, 2)[1] == 0:
            out = dp.read(dp.regs.ebp + op_offset, str_len * 2)
            out = out.replace(b'\x00',b'')
        else:
            out = dp.read(dp.regs.ebp + op_offset, str_len)
    else:
        out = dp.read(dp.regs.ebp + op_offset, str_len)
    return out


labels = {}
for ss in stack_strings:
    try:
        out = emulate(ss.get('start'), ss.get('end'),ss.get('op_offset'))
        if out.isascii():
            print(f"{hex(ss.get('start'))}: {out.decode('utf-8')}")
            labels[ss.get('start')] = out.decode('utf-8')
        else:
            print(f"ERROR: {hex(ss.get('start'))}: {out}")
            
    except:
        print(f"TOTAL FAILURE:  {hex(ss.get('start'))}")

        
print(labels)
    


start = 0x005A11C9  
# start = 0x005A18FC
end = 0x005A199F


dp = Dumpulator("/tmp/pika2.dmp", quiet=True)
print('loaded')
dp.start(start, end=end)
print('done')


dp.read(dp.regs.ebp -0x135 + 1, dp.regs.ecx * 2).decode('utf-16')


dp.read(dp.regs.ebp -0x88, 100)


b'A\x00p\x00h\x00r\x00o\x00n\x00i\x00a\x00H\x00a\x00i\x00m\x00a\x00v\x00a\x00t\x00i\x00\x00\x00d/\x00\x00'.decode('utf-16')


start = 0x005A11C9 
end = 0x005A17A0
dp = Dumpulator("/tmp/pika2.dmp", quiet=True)
print('loaded')
dp.start(start, end=end)
print('done')
print(dp.regs.ecx)
dp.read(dp.regs.ebp -0x308 , dp.regs.ecx*2).decode('utf-16')



