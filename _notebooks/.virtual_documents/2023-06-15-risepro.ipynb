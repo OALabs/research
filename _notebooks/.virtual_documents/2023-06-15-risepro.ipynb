def unhex(hex_string):
    import binascii
    if type(hex_string) == str:
        return binascii.unhexlify(hex_string.encode('utf-8'))
    else:
        return binascii.unhexlify(hex_string)

def tohex(data):
    import binascii
    if type(data) == str:
        return binascii.hexlify(data.encode('utf-8'))
    else:
        return binascii.hexlify(data)



import pefile
import struct
from capstone import *
from capstone.x86 import *
import re
import time


def is_ascii(s):
    return all(c < 128 or c == 0 for c in s)


def xor(data, key):
    out = []
    for i in range(len(data)):
        out.append(data[i] ^ key[i % len(key)])
    return bytes(out)



def get_reg_data(instructions, reg_name):
    search_count = 0
    search_limit = 2000
    for inst in instructions:
        
        if search_count > search_limit:
            break
        search_count += 1
        
        if  inst.mnemonic == 'mov' and  inst.operands[0].type == X86_OP_REG  and  inst.operands[1].type == X86_OP_IMM:
            if inst.reg_name(inst.operands[0].reg) == reg_name:
                imm_value = inst.operands[1].value.imm
                data_chunk = struct.pack('<I',imm_value)
                return data_chunk
    return None


def get_data(instructions):
    data_chunks = []
    count = 0
    steps = 0
    steps_flag = 0
    flag_reg = 0
    search_count = 0
    search_limit = 400
    
    for inst_ptr in range(0,len(instructions)):
        inst = instructions[inst_ptr]
        steps +=1
        
        if search_count > search_limit:
            break
        search_count += 1
         
        if  inst.mnemonic == 'call':
            break

        # if  inst.mnemonic == 'mov' and  inst.operands[0].type == X86_OP_REG  and  inst.operands[1].type == X86_OP_IMM:
        #     flag_reg = 1
        
        if  inst.mnemonic == 'mov' and inst.operands[0].type == X86_OP_MEM and inst.operands[1].type == X86_OP_REG:
            reg_name = inst.reg_name(inst.operands[1].reg)
            #print(f"Scanning for {reg_name} data....")
            result = get_reg_data(instructions[inst_ptr:], reg_name)
            if result is None:
                #print("scanning failed")
                break
            #print(f"Found reg {reg_name} data {result}")
            data_chunks.append(result)
            count += 1
            steps = 0
            steps_flag = 1
         
        if  inst.mnemonic == 'mov' and ( (inst.operands[0].type == X86_OP_MEM and inst.operands[0].value.mem.disp != 0) or inst.operands[0].type == X86_OP_REG ) and inst.operands[1].type == X86_OP_IMM:
            imm_value = inst.operands[1].value.imm
            #print(hex(imm_value))
            if imm_value & 0xff000000 == 0:
                break
            data_chunk = struct.pack('<I',imm_value)
            data_chunks.append(data_chunk)

            count += 1
            steps = 0
            steps_flag = 1

        if steps == 16 and steps_flag:
            break
         #if steps == 6 and steps_flag:  # if you got some garbage string use this instead of the above
            #break
       
    
    enc_data = data_chunks[0:count//2][::-1]
    key = data_chunks[count//2:count][::-1]
    
    if flag_reg :
        enc_data = sum(zip(enc_data[1::2], enc_data[::2]), ())
        key = sum(zip(key[1::2], key[::2]), ())
    return b''.join(enc_data),b''.join(key)



def get_strings_from_inst(instructions):
    # search, build and decrypt strings
    strings = []
    addr = None
    string = ''

    for i, inst in enumerate(instructions):

        if inst.mnemonic == 'pxor':
        # if inst.address == 0x0045C8A0:
            #print(hex(inst.address))
            #try: # possible string decryption found  
            reversed_instruction_list = instructions[:i][::-1]
            encrypted_str, key = get_data(reversed_instruction_list)
            # print(f"str_len: {len(encrypted_str)}, key_len: {len(key)}")
            # print(encrypted_str.hex())
            # print(key.hex())

            if len(encrypted_str) == 0 or len(key) == 0:
                #print(f"Error at {hex(inst.address)} key or data is missing")
                continue

            if len(encrypted_str) != len(key):
                #print(f"Error at {hex(inst.address)} key and data not equal length")
                continue

            out = bytearray(encrypted_str[j] ^ key[j] for j in range(len(key)))

            #print(out)
            out = out.replace(b'\x00',b'')
            if len(out) == 0:
                continue
            #print(out.decode('utf-8'))

            if is_ascii(out):
                strings.append((inst.address,out.decode('utf-8')))
    return strings


SAMPLE_PATH = '/tmp/xorstr/work/rise.bin'
filename = SAMPLE_PATH
pe = pefile.PE(filename)
# Assume the first section is code
txt = pe.sections[0]

# TODO: we don't seem to be disassembling the full section?!!
image_base = pe.OPTIONAL_HEADER.ImageBase
section_rva = txt.VirtualAddress
section_offset = txt.PointerToRawData

section_data = txt.get_data()

pxor_egg = rb'\x66\x0F\xEF'
scan_end = section_data.rfind(pxor_egg)

section_data = section_data[:scan_end]



# disassemble .txt section
pe = pefile.PE(filename)
md = Cs(CS_ARCH_X86, CS_MODE_32) 
md.detail = True
md.skipdata = True
addr = 0



## Time starts
t = time.time()

# instructions = []
# for inst in md.disasm(section_data, image_base + section_rva):
#     instructions.append(inst)

# strings = get_strings_from_inst(instructions)

strings = []
for m in re.finditer(pxor_egg, section_data, re.DOTALL):
    scan_end = m.start()
    instructions = []
    for inst in md.disasm(section_data[scan_end-0x400:scan_end], image_base + section_rva + scan_end - 0x400):
        instructions.append(inst)
    strings += get_strings_from_inst(instructions)




# Benchmark 50.47584390640259 metastealer    
print(f"Benchmark {time.time() - t}")
                           
# print(len(strings))
string_dict = {}  
last_string = ''
for s in strings:
    if last_string != s[1]:
        string_dict[s[0]] = s[1]
    last_string = s[1]

for o in string_dict.keys():
    print(f"{hex(o)} {string_dict[o]}")

    
print("done")




