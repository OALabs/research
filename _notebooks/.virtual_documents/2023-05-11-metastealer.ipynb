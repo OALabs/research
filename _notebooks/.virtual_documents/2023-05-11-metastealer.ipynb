'''
rule meta_s
{
    meta:
        author = "sysopfb"
    strings:
        $snippet1 = {66 0? ef}
        $snippet2 = {c5 ?? ef}
    condition:
        ($snippet1 or $snippet2)
}
'''


import re


file_data = open('/tmp/metastealer.bin', 'rb').read()

offsets = []
string_egg = rb'\x66[\x00-\x0f]\xef' 


for m in re.finditer(string_egg, file_data, re.DOTALL):
    offsets.append(m.start())

ret = []
out = None

length_off = False

prev_offset = 0
for offset in offsets:
    test = file_data[prev_offset:offset]
    vals = re.findall(b'''\xc7\x85..\xff\xff....''',test)
    if vals != []:
        if len(vals) > 8:
            temp = vals[-8:]
    else:
        temp = vals
    try:
        xdata = temp[0][-4:]
        xdata += temp[1][-4:]
        xdata += temp[2][-4:]
        xdata += temp[3][-4:]
        xkey = temp[4][-4:]
        xkey += temp[5][-4:]
        xkey += temp[6][-4:]
        xkey += temp[7][-4:]
        xdata = bytearray(xdata)
        xkey = bytearray(xkey)
        for i in range(len(xdata)):
            xdata[i] ^= xkey[i]
        tmp_str = b''.join(xdata.split(b'\x00'))
        if tmp_str.isascii():
            print(tmp_str)
    except:
        pass
    prev_offset = offset
    


import re
import struct

seed_egg = rb'\x68\xEF\x06\x00\x00.{6,16}\x68(..\x00\x00)'
for m in re.finditer(seed_egg, file_data, re.DOTALL):
    tmp_seed = struct.unpack('<I', m.group(1))[0]
    print(hex(tmp_seed))



