import struct

def uint32(val):
    return val & 0xffffffff

def decrypt(data):
    out = b''
    block_size = 8  
    num_blocks = len(data) // block_size
    blocks = struct.unpack(f"<{2 * num_blocks}L", data)

    for i in range(0,len(blocks),2):
        out += decrypt_block(blocks[i],blocks[i+1])
    return out

def decrypt_block(v0, v1):
    sum_value = 0xC6EF3720
    delta = 0x61C88647
    
    #key0, key1, key2, key3 = struct.unpack("<4L", key)
    
    key0 = 0x7D935554
    key1 = 0x7A3B0639
    key2 = 0x4C774985
    key3 = 0x8F036C0
    
    for i in range(32):
        v1 = v1 - ((v0 + sum_value) ^ (key2 + (v0 << 4)) ^ (key3 + (v0 >> 5)))
        v1 = uint32(v1)
        # print("v1:", hex(v1))
        v7 = uint32(v1 + sum_value)
        sum_value = uint32(sum_value + delta)
        v8 = v7 ^ uint32(key0 + (v1 << 4)) ^ uint32(key1 + (v1 >> 5))
        v0 =  uint32(v0 - v8)
        
    
    return struct.pack("<2L", v0, v1)

decrypt(bytes.fromhex('6f928688f64c75a5c916e8abe4560c29e279d7b750aba83f'))


c21 = 0x91736C72
c22 = 0x17DEE303
c23 = 0x85B9C50
c24 = 0xD8A3FC07

c221 = 0x66EB0028;
c222 = 0x41978887;
c223  = 0x85B9C50;
c224  = 0xD8A3FC07;


def decrypt_block(v0, v1):
    sum_value = 0xC6EF3720
    delta = 0x61C88647
    
    #key0, key1, key2, key3 = struct.unpack("<4L", key)
    
    key0 = 0x51D067C
    key1 = 0x3F113D44
    key2 = 0x6AA301C0
    key3 = 0x72656277
    
    for i in range(32):
        v1 = v1 - ((v0 + sum_value) ^ (key2 + (v0 << 4)) ^ (key3 + (v0 >> 5)))
        v1 = uint32(v1)
        # print("v1:", hex(v1))
        v7 = uint32(v1 + sum_value)
        sum_value = uint32(sum_value + delta)
        v8 = v7 ^ uint32(key0 + (v1 << 4)) ^ uint32(key1 + (v1 >> 5))
        v0 =  uint32(v0 - v8)
        
    
    return struct.pack("<2L", v0, v1)



print(decrypt_block(c221, c222))

print(ord('\x87'))
print(ord('\xb5'))
print(ord('/'))
print(ord('_'))

import struct

print(struct.unpack('>H',b'3\xa3')[0])


import re
import struct 

file_data = open('/tmp/mystic/mys.bin','rb').read()


egg = rb'\xc1\xe8\x05\x05(....)\x33\xc8\x8b\xc3\xc1\xe0\x04\x05(....)\x33\xc8\x2b\xf1\x8b\xc6\xc1\xe0\x04\x05(....)\x8d\x0c\x37\x33\xc8\x8d\xbf\x47\x86\xc8\x61\x8b\xc6\xc1\xe8\x05\x05(....)\x33\xc8\x2b\xd9\x83\xed\x01'


match = re.search(egg, file_data)


assert match is not None

key0 = struct.unpack('<I', match.group(3))[0]
key1 = struct.unpack('<I', match.group(4))[0]
key2 = struct.unpack('<I', match.group(2))[0]
key3 = struct.unpack('<I', match.group(1))[0]

print(f"{hex(key0)}\n{hex(key1)}\n{hex(key2)}\n{hex(key3)}\n")


def decrypt(data, key0, key1, key2, key3):
    out = b''
    block_size = 8  
    num_blocks = len(data) // block_size
    blocks = struct.unpack(f"<{2 * num_blocks}L", data)

    for i in range(0,len(blocks),2):
        out += decrypt_block(blocks[i],blocks[i+1], key0, key1, key2, key3)
    return out


def decrypt_block(v0, v1, key0, key1, key2, key3):
    sum_value = 0xC6EF3720
    delta = 0x61C88647
    
    #key0, key1, key2, key3 = struct.unpack("<4L", key)
    
    for i in range(32):
        v1 = v1 - ((v0 + sum_value) ^ (key2 + (v0 << 4)) ^ (key3 + (v0 >> 5)))
        v1 = uint32(v1)
        # print("v1:", hex(v1))
        v7 = uint32(v1 + sum_value)
        sum_value = uint32(sum_value + delta)
        v8 = v7 ^ uint32(key0 + (v1 << 4)) ^ uint32(key1 + (v1 >> 5))
        v0 =  uint32(v0 - v8)
        
    
    return struct.pack("<2L", v0, v1)


import pefile

pe = pefile.PE(data=file_data)

rdata = None 

for s in pe.sections:
    if s.Name[:6] == b'.rdata':
        rdata = s.get_data()
        
assert rdata is not None


candidates = rdata.split(b'\x00\x00\x00')

found = False
for c in candidates:
    if found:
        break
    c = c.strip(b'\x00').rstrip(b'\x00')
    
    if len(c) < 11:
        continue
    
    for i in range(len(c) - 10):
        tmp = c[i:]
        #print(f'\n\nTesting: {tmp}')
        try:
            out = decrypt(tmp, key0, key1, key2, key3)

            if out[:4] == b'http':
                print(out)
                found = True
                break
        except:
            pass

        


import re
import struct
import pefile




def extract(file_path):
    file_data = open(file_path,'rb').read()


    egg = rb'\xc1\xe8\x05\x05(....)\x33\xc8\x8b\xc3\xc1\xe0\x04\x05(....)\x33\xc8\x2b\xf1\x8b\xc6\xc1\xe0\x04\x05(....)\x8d\x0c\x37\x33\xc8\x8d\xbf\x47\x86\xc8\x61\x8b\xc6\xc1\xe8\x05\x05(....)\x33\xc8\x2b\xd9\x83\xed\x01'


    match = re.search(egg, file_data)


    assert match is not None

    key0 = struct.unpack('<I', match.group(3))[0]
    key1 = struct.unpack('<I', match.group(4))[0]
    key2 = struct.unpack('<I', match.group(2))[0]
    key3 = struct.unpack('<I', match.group(1))[0]
    
    
    
    pe = pefile.PE(data=file_data)

    rdata = None 

    for s in pe.sections:
        if s.Name[:6] == b'.rdata':
            rdata = s.get_data()

    assert rdata is not None


    candidates = rdata.split(b'\x00\x00\x00')

    found = False
    for c in candidates:
        if found:
            break
        c = c.strip(b'\x00').rstrip(b'\x00')

        if len(c) < 11:
            continue

        for i in range(len(c) - 10):
            tmp = c[i:]
            #print(f'\n\nTesting: {tmp}')
            try:
                out = decrypt(tmp, key0, key1, key2, key3)

                if out[:4] == b'http':
                    print(out)
                    found = True
                    break
            except:
                pass

            
extract('/tmp/mystic/mys.bin')



import os
# assign directory
directory = '/tmp/test/'
 
# iterate over files in
# that directory
for filename in os.listdir(directory):
    f = os.path.join(directory, filename)
    # checking if it is a file
    if os.path.isfile(f):
        try:
            print(f)
            extract(f)
        except:
            pass



