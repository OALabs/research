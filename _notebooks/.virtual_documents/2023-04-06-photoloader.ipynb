import pefile
import re
import struct

file_data = open('/tmp/samples/963397cec08790b25ff273cbe4b133634ae045d5ff8a4492e6f585f2ad14db65', 'rb').read()
pe = pefile.PE(data = file_data)


IMAGE_SCN_CNT_CODE = 0x00000020

def xor(data, key):
    out = []
    for i in range(len(data)):
        out.append(data[i] ^ key[i % len(key)])
    return bytes(out)

def is_ascii(s):
    return all((c < 128 and c > 39) or c == 0 for c in s)


key = None
domain = None
campaign_id = None


mapped = False
if pe.sections[0].get_data()[:100] == b'\x00'*100:
    print("Mapped!")
    mapped = True

for s in pe.sections:
    if (s.Characteristics & IMAGE_SCN_CNT_CODE) == 0:
        if mapped:
            section_data = file_data[s.VirtualAddress:s.VirtualAddress +256]
        else:
            section_data = s.get_data()
        if len(section_data) < 250:
            print("Section too small")
            continue
        # This is a hack to skip stuff that doesn't look like a key
        tmp_key = section_data[:32]
        if b'\x00'*10 in tmp_key:
            print("Too many nulls in key")
            continue
        data = section_data[64:96]
        tmp_config = xor(data, tmp_key)
        domain = None
        try:
            domains = tmp_config[4:]
            domains = domains.split(b"\x00")
            if not is_ascii(domains[0]):
                        continue
            domain = domains[0].decode("UTF-8")
        except:
            print("Domain decode error")
            continue
        if len(domain) < 5:
            print("Domain too small")
            continue
        # If we are here we have a config! 
        campaign_id = struct.unpack('<I', tmp_config[:4])[0]
        key = tmp_key.hex()
        break
        
assert key is not None
assert domain  is not None
assert campaign_id is not None
        
config = {
            "campaign_id": campaign_id,
            "domains": domain,
            "key": key,
         }   
        
        
print(config)


def is_ascii(s):
    return all((c < 128 and c > 39) or c == 0 for c in s)

def extract_config(file_path):
    file_data = open(file_path, 'rb').read()
    pe = pefile.PE(data = file_data)
    
    mapped = False
    if pe.sections[0].get_data()[:100] == b'\x00'*100:
        #print("Mapped!")
        mapped = True
    
    key = None
    domain = None
    campaign_id = None

    try:
        for s in pe.sections:
            if (s.Characteristics & IMAGE_SCN_CNT_CODE) == 0:
                if mapped:
                    section_data = file_data[s.VirtualAddress:s.VirtualAddress +256]
                else:
                    section_data = s.get_data()
                if len(section_data) < 250:
                    #print("Section too small")
                    continue
                # This is a hack to skip stuff that doesn't look like a key
                tmp_key = section_data[:32]
                if b'\x00'*10 in tmp_key:
                    #print("Too many nulls in key")
                    continue
                data = section_data[64:96]
                tmp_config = xor(data, tmp_key)
                domain = None
                try:
                    domains = tmp_config[4:]
                    domains = domains.split(b"\x00")
                    if not is_ascii(domains[0]):
                        continue
                    domain = domains[0].decode("UTF-8")
                except:
                    #print("Domain decode error")
                    continue
                if len(domain) < 5:
                    #print("Domain too small")
                    continue
                # If we are here we have a config! 
                campaign_id = struct.unpack('<I', tmp_config[:4])[0]
                key = tmp_key.hex()
                break

        assert key is not None
        assert domain  is not None
        assert campaign_id is not None

        config = {
                    "campaign_id": campaign_id,
                    "domains": domain,
                    "key": key,
                 }   
    except:
        return {}
    return config




# import required module
import os
# assign directory
directory = '/tmp/samples/'
 
# iterate over files in
# that directory
for filename in os.listdir(directory):
    f = os.path.join(directory, filename)
    # checking if it is a file
    if os.path.isfile(f):
        print(f)
        config = extract_config(f)
        print(config)



