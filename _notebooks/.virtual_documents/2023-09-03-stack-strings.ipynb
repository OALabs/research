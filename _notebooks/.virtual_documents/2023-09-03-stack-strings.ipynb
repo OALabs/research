from unicorn import *
from unicorn.x86_const import *
import struct
from capstone import *
from capstone.x86 import *

#code = bytes.fromhex('c744243865b587bac744243cc22fb34bc744243027dce9dbc7442434ac4cd66431d2eb0e0fb66c143031dd9588441430954283fa087d0c0fb65c143872e6e95e0100008984249c000000')


def read_ascii_stack(data, string_size):
    #print(data)
    #print(string_size)
    out = []
    for c in data:
        if c < 127 and c >= 32:
            out.append(c)
        else:
            break
    if len(out) > string_size:
        out = out[:string_size]
    return bytes(out)


def decode(code):
    uc = Uc(UC_ARCH_X86, UC_MODE_32)

    # Setup the stack
    stack_base = 0x00100000
    stack_size = 0x0010000
    ESP = stack_base + (stack_size // 2)
    uc.mem_map(stack_base, stack_size)
    uc.mem_write(stack_base, b"\x00" * stack_size)

    uc.reg_write(UC_X86_REG_ESP, ESP)

    # Setup code 
    target_base = 0x00400000
    target_size = 0x00100000
    target_end = target_base + len(code)

    uc.mem_map(target_base, target_size, UC_PROT_ALL)
    uc.mem_write(target_base, b"\x00" * target_size)
    uc.mem_write(target_base, code)

    # Setup user data to pass info from hook
    # Lololo there must be a better way 
    user_secret = 0x00900000
    user_secret_size = 0x0010000
    uc.mem_map(user_secret, user_secret_size, UC_PROT_ALL)
    uc.mem_write(user_secret, b"\x00" * user_secret_size)
    
    cs = Cs(CS_ARCH_X86, CS_MODE_32)
    cs.detail = True

    def trace(uc, address, size, user_data):
        insn = next(cs.disasm(uc.mem_read(address, size), address))
        #print(f"{address:#010x}:\t{insn.mnemonic}\t{insn.op_str}")
        if insn.mnemonic == 'cmp':
            if insn.operands[1].type == X86_OP_IMM:
                string_size = insn.operands[1].value.imm
                #print(f"string size: {string_size}")
                uc.mem_write(0x00900000, struct.pack('<I', string_size))

    uc.hook_add(UC_HOOK_CODE, trace, None)
    try:
        uc.emu_start(target_base, target_end, 0, 0)
    except Exception as e:
        pass

    tmp_data = uc.mem_read(stack_base, stack_size).replace(b'\x00', b'')
    # Read the user data if there is any
    tmp_size_data = uc.mem_read(user_secret,4)
    tmp_size = struct.unpack('<I', tmp_size_data)[0]
    if tmp_size == 0:
        tmp_size == 0x10
    out = read_ascii_stack(tmp_data, tmp_size)
    return out


def get_stack(code):
        
    uc = Uc(UC_ARCH_X86, UC_MODE_32)

    # Setup the stack
    stack_base = 0x00100000
    stack_size = 0x0010000
    ESP = stack_base + (stack_size // 2)
    uc.mem_map(stack_base, stack_size)
    uc.mem_write(stack_base, b"\x00" * stack_size)

    uc.reg_write(UC_X86_REG_ESP, ESP)

    # Setup code 
    target_base = 0x00400000
    target_size = 0x0010000
    target_end = target_base + len(code)

    uc.mem_map(target_base, target_size, UC_PROT_ALL)
    uc.mem_write(target_base, b"\x00" * target_size)
    uc.mem_write(target_base, code)


    cs = Cs(CS_ARCH_X86, CS_MODE_32)
    cs.detail = True

    def trace(uc, address, size, user_data):
        insn = next(cs.disasm(uc.mem_read(address, size), address))
        #print(f"{address:#010x}:\t{insn.mnemonic}\t{insn.op_str}")
        if insn.mnemonic != 'mov':
            #print("Stopping emulation at end of stack string")
            uc.emu_stop()

    uc.hook_add(UC_HOOK_CODE, trace, None)
    uc.emu_start(target_base, target_end, 0, 0)
    
    offset = uc.reg_read(UC_X86_REG_EIP) - target_base
    out = uc.mem_read(stack_base, stack_size).replace(b'\x00', b'')
    return offset, out





from unicorn import *
from unicorn.x86_const import *
import struct
from capstone import *
from capstone.x86 import *

import re
import pefile
import struct

def is_ascii(s):
    return all((c < 127 and c >= 32) for c in s)

def get_strings(file_name):
    # Emulation Start
    # C7 44 24 ?? ?? ?? ?? ?? C7 44 24
    # C7 84 24 ?? ?? ?? ?? ?? ?? ?? ?? c7

    start_egg = rb'\xc7(\x44|\x84)(.{5,9})(\xc7|\xc6)'

    # Emulation End
    # 72 DF                                                        jb      short loc_56AE5E
    # E9 FC 16 00 00                                               jmp     loc_56C580
    # 
    # or just the end of the stack string (non encrypted)
    end_egg = rb'\x72.\xe9'

    file_data = open(file_name,'rb').read()

    section_data = None
    pe = pefile.PE(data=file_data)

    for s in pe.sections:
        if s.Name[:5] == b'.text':
            section_data = s.get_data()
            section_offset = s.PointerToRawData

    #print(hex(section_offset))
    assert section_data is not None

    ptr = 0
    size = len(section_data)
    while ptr < size:
        chunk = section_data[ptr:]
        start_match = re.search(start_egg, chunk)
        if start_match is None:
            print('No more strings')
            break
        emu_start = start_match.start()
        #print(f"found candidate: {hex(ptr + emu_start + section_offset)}")
        # Test first IMM for a large value
        imm = struct.unpack('<I',start_match.group(2)[-4:])[0]
        if imm < 0xff:
            #print('Skipping non-stack string')
            ptr += 1 + emu_start
            continue
        # Test for non-ecrypted string
        data = chunk[emu_start:emu_start+0x200]
        #print(hex(ptr + emu_start))
        try:
            emu_offset, tmp_stack = get_stack(data)
        except:
            emu_offset = 0
            tmp_stack = '\xff'
        #print(tmp_stack)
        if len(tmp_stack) > 3 and is_ascii(tmp_stack):
            string_offset = ptr + emu_start + section_offset
            string = tmp_stack.decode('utf-8')
            print(f"Plaintext: {hex(string_offset)}: {string}")
            if emu_offset == 0:
                ptr += 11 + emu_start
            else:
                ptr += emu_offset + emu_start
        else:
            #Test for encrypted stack string

            #emu_offset = 11
            end_match = re.search(end_egg, chunk[emu_start:emu_start+0x1000])
            if end_match is None:
                #print("no end found")
                ptr += 1 + emu_start
                continue
            end_offset = emu_start + end_match.end()
            data = chunk[emu_start:end_offset]
            tmp_stack = decode(data)
            #print(f"tmp_stack: {tmp_stack}")
            if len(tmp_stack) > 3 and is_ascii(tmp_stack):
                string_offset = ptr + emu_start + section_offset
                string = tmp_stack.decode('utf-8')
                print(f"Decrypted: {hex(string_offset)}: {string}")
                if emu_offset == 0:
                    ptr += 1 + emu_start
                else:
                    ptr += emu_offset + emu_start
            else:
                ptr += 1 + emu_start





import os
# assign directory
directory = '/tmp/testers/'
 
# iterate over files in
# that directory
for filename in os.listdir(directory):
    f = os.path.join(directory, filename)
    # checking if it is a file
    if os.path.isfile(f):
        print(f"\n\n{f}")
        get_strings(f)
        



