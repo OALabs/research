import re
import pefile
import struct

file_data = open('/tmp/cryptbot.bin', 'rb').read()
pe = pefile.PE(data = file_data)
image_base = pe.OPTIONAL_HEADER.ImageBase

text_data = None

for s in pe.sections:
    if b'.text' == s.Name[:5]:
        text_data = s.get_data()
        break
        
assert text_data is not None


eggs = [
        rb'\x80\x3D(....)\x09\xB9\x00\x01\x00\x00',
        rb'\xB9\x00\x01\x00\x00\x80\x3D(....)\x09'
       ]

candidate_offsets = []

for egg in eggs:
    for m in re.finditer(egg, text_data, re.DOTALL):
        try:
            candidate_va = struct.unpack('<I', m.group(1))[0]
            candidate_offset = pe.get_offset_from_rva(candidate_va - image_base)
            candidate_offsets.append(candidate_offset)
        except:
            print(f"failed for group {m.group(1)}")
            pass

        



def xor_decrypt(data, key):
    out = []
    for i in range(len(data)):
        out.append(data[i] ^ key[i % len(key)])
    return bytes(out)


def get_config(data, offset):
    key = data[offset:].split(b'\x00')[0]
    assert 5  < len(key) < 20
    config_data_enc = data[offset + len(key) + 1:] 
    return xor_decrypt(config_data_enc, key)


config_data = None

for candidate_offset in candidate_offsets:
    try:
        tmp_config = get_config(file_data, candidate_offset)
        if tmp_config[:4] == b'http':
            config_data = tmp_config
            break
    except:
        pass

assert config_data is not None


# config parse
config_array = []
for a in config_data.split(b'\x00'):
    if not a.isascii():
        break
    config_array.append(a)

c2 = config_array[0].decode('utf-8')
settings = []

for config_entries in config_array[1:]:
    for entry in config_entries.split(b'<>\r\n'):
        if len(entry) == 0:
            continue
        settings.append({'key':entry.split(b'<>_<>')[0].decode('utf-8'), 'value':entry.split(b'<>_<>')[1].decode('utf-8')})

print(c2)
print(settings)





def get_config_from_file(file_path):
    file_data = open(file_path, 'rb').read()
    pe = pefile.PE(data = file_data)
    image_base = pe.OPTIONAL_HEADER.ImageBase

    text_data = None

    for s in pe.sections:
        if b'.text' == s.Name[:5]:
            text_data = s.get_data()
            break

    assert text_data is not None


    eggs = [
            rb'\x80\x3D(....)\x09\xB9\x00\x01\x00\x00',
            rb'\xB9\x00\x01\x00\x00\x80\x3D(....)\x09'
           ]

    candidate_offsets = []

    for egg in eggs:
        for m in re.finditer(egg, text_data, re.DOTALL):
            try:
                candidate_va = struct.unpack('<I', m.group(1))[0]
                candidate_offset = pe.get_offset_from_rva(candidate_va - image_base)
                candidate_offsets.append(candidate_offset)
            except:
                print(f"failed for group {m.group(1)}")
                pass

    assert len(candidate_offsets) != 0

    config_data = None

    for candidate_offset in candidate_offsets:
        try:
            tmp_config = get_config(file_data, candidate_offset)
            if tmp_config[:4] == b'http':
                config_data = tmp_config
                break
        except:
            pass
    
    assert config_data is not None


    # config parse
    config_array = []
    for a in config_data.split(b'\x00'):
        if not a.isascii():
            break
        config_array.append(a)

    c2 = config_array[0].decode('utf-8')
    settings = []

    for config_entries in config_array[1:]:
        for entry in config_entries.split(b'<>\r\n'):
            if len(entry) == 0:
                continue
            settings.append({'key':entry.split(b'<>_<>')[0].decode('utf-8'), 'value':entry.split(b'<>_<>')[1].decode('utf-8')})

    assert len(settings) != 0 

    final_config = {'c2':c2, 'settings':settings}
    return final_config

get_config_from_file('/tmp/cryptbot.bin')


from pathlib import Path

for file in Path('/tmp/samples/').glob('*'):
    print(file)
    try:
        config = get_config_from_file(file)
        print(config.get('c2'), 'None')
    except Exception as e:
        print("ERROR")
        print(e)




