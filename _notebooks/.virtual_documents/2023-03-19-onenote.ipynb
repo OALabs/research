script = open('/tmp/bad.vbs','rb').read()
out = b''
for c in script.split(b'\n'):
    if c[0] == ord(b"'"):
        continue
    out += c + b'\n'

tmp_bytes = [] 

for c in out:
    tmp_bytes.append(c)
    tmp_bytes.append(0)

script_bytes = bytes(tmp_bytes) + b'\x00\x00'


from dataclasses import dataclass
from typing import Callable, Dict, Union, Optional

from dumpulator import Dumpulator
from dumpulator.dumpulator import ExceptionInfo, ExceptionType

seen = False

@dataclass
class BreakpointInfo:
    address: int
    original: bytes
    callback: Callable[[], None]

class MyDumpulator(Dumpulator):
    def __init__(self, *args, **kwargs):
        super().__init__(*args, **kwargs)

        self._breakpoints: Dict[int, BreakpointInfo] = {}
        self._breakpoint_step: Optional[BreakpointInfo] = None
        self.set_exception_hook(self.exception_hook)

    def set_breakpoint(self, address: Union[int, str], callback: Callable[[], None]):
        if isinstance(address, str):
            module_name, export_name = address.split(":")
            module = self.modules.find(module_name)
            if module is None:
                raise KeyError(f"Module '{module_name}' not found")
            export = module.find_export(export_name)
            if export is None:
                raise KeyError(f"Export '{export_name}' not found in module '{module_name}'")
            assert export.forward is None
            address: int = export.address
        assert address not in self._breakpoints
        self._breakpoints[address] = BreakpointInfo(address, self.read(address, 1), callback)
        self.write(address, b"\xCC")

    def remove_breakpoint(self, address: int):
        assert address in self._breakpoints
        bp = self._breakpoints[address]
        self.write(bp.address, bp.original)
        del self._breakpoints[address]

    def exception_hook(self, exception: ExceptionInfo) -> Optional[int]:
        if exception.type == ExceptionType.Interrupt:
            if exception.interrupt_number == 3:  # int3
                # Find the breakpoint
                bp = self._breakpoints.get(self.regs.cip - 1)
                if bp is None:
                    print(f"Unexpected int3 at {hex(self.regs.cip)}, ignoring")
                    return None
                print(f"Reached breakpoint at {hex(bp.address)}")

                # Execute the breakpoint callback
                self.regs.cip -= 1
                bp.callback()

                # Restore the breakpoint if it wasn't removed
                if bp.address in self._breakpoints:
                    print('Restoring breakpoint')
                    self.write(bp.address, bp.original)
                    self.regs.eflags |= 0x100  # trap flag
                    self._breakpoint_step = bp

                # Resume execution at the CIP (the callback might change it)
                return self.regs.cip
            elif exception.interrupt_number == 1:  # single step
                if self._breakpoint_step is None:
                    print(f"Unexpected single step at {hex(self.regs.cip)}")
                    return None

                print("Single stepping after breakpoint")
                self.regs.eflags &= ~0x100  # remove trap flag
                self.write(self._breakpoint_step.address, b"\xCC")
                self._breakpoint_step = None
                return self.regs.cip

        # Let the original exception handler do this
        return None

    
    
    
@syscall
def ZwAllocateVirtualMemory(dp: Dumpulator,
                            ProcessHandle: Annotated[HANDLE, SAL("_In_")],
                            BaseAddress: Annotated[P[PVOID], SAL("_Inout_ _At_(*BaseAddress, _Readable_bytes_(*RegionSize) _Writable_bytes_(*RegionSize) _Post_readable_byte_size_(*RegionSize))")],
                            ZeroBits: Annotated[ULONG_PTR, SAL("_In_")],
                            RegionSize: Annotated[P[SIZE_T], SAL("_Inout_")],
                            AllocationType: Annotated[ULONG, SAL("_In_")],
                            Protect: Annotated[ULONG, SAL("_In_")]
                            ):
    assert ZeroBits == 0
    assert ProcessHandle == dp.NtCurrentProcess()
    base = dp.read_ptr(BaseAddress.ptr)
    base = round_to_pages(base)
    assert base & 0xFFF == 0
    size = round_to_pages(dp.read_ptr(RegionSize.ptr))
    #assert size != 0
    protect = MemoryProtect(Protect)
    if AllocationType == MEM_COMMIT:
        if base == 0:
            base = dp.memory.find_free(size)
            dp.memory.reserve(base, size, protect)
            BaseAddress.write_ptr(base)
            RegionSize.write_ptr(size)
        #print(f"commit({hex(base)}[{hex(size)}], {protect})")
        dp.memory.commit(base, size, protect)
    elif AllocationType == MEM_RESERVE:
        if base == 0:
            base = dp.memory.find_free(size)
            BaseAddress.write_ptr(base)
            RegionSize.write_ptr(size)
        #print(f"reserve({hex(base)}[{hex(size)}], {protect})")
        dp.memory.reserve(base, size, protect)
    elif AllocationType == MEM_COMMIT | MEM_RESERVE:
        if base == 0:
            base = dp.memory.find_free(size)
            BaseAddress.write_ptr(base)
            RegionSize.write_ptr(size)
        #print(f"reserve+commit({hex(base)}[{hex(size)}], {protect})")
        dp.memory.reserve(base, size, protect)
        dp.memory.commit(base, size)
    else:
        raise NotImplementedError()
    return STATUS_SUCCESS


dp = MyDumpulator("/tmp/cscript_nopped.dmp", quiet=True)

def rteval_bp():
    global seen
    print("hit bp")
    #print(dp.read_str(dp.regs.ecx, encoding='utf-16'))
   

    if seen:
        print(seen)
        out = b''
        ptr = dp.regs.ecx
        c = 0
        while c < 100000000:
            c += 1
            ptr_byte = dp.read(ptr, 1)
            out += ptr_byte
            if ptr_byte == b'\x00':
                if dp.read(ptr+1, 1) == b'\x00':
                    break
            ptr += 1
        print("== SCRIPT ==")
        print(out.decode('utf-16').replace('\r','\n'))
        dp.remove_breakpoint(0x7021074D)
        dp.eip = 0x13371337
        dp.stop()
    else:
        print(seen)
        seen = True
        

dp.set_breakpoint(0x7021074D, rteval_bp)


ptr_script_bytes = dp.allocate(len(script_bytes),page_align = True)
dp.write(ptr_script_bytes, script_bytes)
                               
dp.regs.ecx = ptr_script_bytes

dp.write(dp.regs.ecx, script_bytes)



dp.start(dp.regs.cip, end=0x13371337)
         
         
         
         
