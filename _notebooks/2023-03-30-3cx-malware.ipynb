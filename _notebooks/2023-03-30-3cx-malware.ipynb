{
 "cells": [
  {
   "cell_type": "markdown",
   "id": "1a87664d-2ad6-4f5f-abbb-a8ec3dd3ac29",
   "metadata": {},
   "source": [
    "# 3CX Supply Chain Attack\n",
    "> Taking a closer look at the delivery of this malware\n",
    "\n",
    "- toc: true \n",
    "- badges: true\n",
    "- categories: [3cx,northkorea,apt,triage]\n"
   ]
  },
  {
   "cell_type": "markdown",
   "id": "fe00331f-533c-4838-b6b9-5dd593fc2707",
   "metadata": {},
   "source": [
    "![](https://i.imgur.com/FHtT8jD.png)"
   ]
  },
  {
   "cell_type": "markdown",
   "id": "b9a56cb4-3adf-4846-94a5-4401204088f2",
   "metadata": {},
   "source": [
    "## Overview\n",
    "\n",
    "From the [Volexity post](https://www.volexity.com/blog/2023/03/30/3cx-supply-chain-compromise-leads-to-iconic-incident/)\n",
    "\n",
    "> CrowdStrike identified signed 3CX installation files as being malicious and reported that customers were seeing malicious activity emanating from the “3CXDesktopApp”. \n",
    "\n",
    "3CX is client software for VOIP phones, that was delivered to targets with a backdoor. The backdoored application was delivered in an MSI `3CXDesktopApp-18.12.416.msi` which is signed by a valid certificate belonging to 3Cx Ltd.\n",
    "\n",
    "## References \n",
    "\n",
    "- [3CX Supply Chain Compromise Leads to ICONIC Incident](https://www.volexity.com/blog/2023/03/30/3cx-supply-chain-compromise-leads-to-iconic-incident/)\n",
    "- [CrowdStrike Falcon Platform Detects and Prevents Active Intrusion Campaign Targeting 3CXDesktopApp Customers](https://www.crowdstrike.com/blog/crowdstrike-detects-and-prevents-active-intrusion-campaign-targeting-3cxdesktopapp-customers/)\n",
    "- [SmoothOperator | Ongoing Campaign Trojanizes 3CXDesktopApp in Supply Chain Attack](https://www.sentinelone.com/blog/smoothoperator-ongoing-campaign-trojanizes-3cx-software-in-software-supply-chain-attack/)\n",
    "\n",
    "## Samples\n",
    "\n",
    "- `3CXDesktopApp-18.12.416.msi` [59e1edf4d82fae4978e97512b0331b7eb21dd4b838b850ba46794d9c7a2c0983](https://tria.ge/230330-3nzfjshc2s)\n",
    "- `icon15.ico` [f47c883f59a4802514c57680de3f41f690871e26f250c6e890651ba71027e4d3](https://malshare.com/sample.php?action=detail&hash=f47c883f59a4802514c57680de3f41f690871e26f250c6e890651ba71027e4d3)\n",
    "\n",
    "\n"
   ]
  },
  {
   "cell_type": "markdown",
   "id": "c7010246-c30e-48e4-b3a0-7daffefdb505",
   "metadata": {},
   "source": [
    "## Analysis\n",
    "\n",
    "Let's take a look at the `.msi` and see what is in there, we can just use 7zip to unzip it. Inside the `.msi` we have a backdoored file `ffmpeg.dll`\n",
    "\n",
    "### Stage 1 `ffmpeg.dll`\n",
    "\n",
    "#### Artifacts \n",
    "- `ffmpeg.dll` [7986bbaee8940da11ce089383521ab420c443ab7b15ed42aed91fd31ce833896](https://malshare.com/sample.php?action=detail&hash=7986bbaee8940da11ce089383521ab420c443ab7b15ed42aed91fd31ce833896)\n",
    "- `d3dcompiler_47.dll` [11be1803e2e307b647a8a7e02d128335c448ff741bf06bf52b332e0bbf423b03](https://malshare.com/sample.php?action=detail&hash=11be1803e2e307b647a8a7e02d128335c448ff741bf06bf52b332e0bbf423b03)\n",
    "\n",
    "\n",
    "#### Functionality \n",
    "\n",
    "- Uses `CreateEventW` with the string `AVMonitorRefreshEvent` like a mutex to ensure it is only running once\n",
    "- Gets its process path (file location) to locate `d3dcompiler_47.dll` which it expects to be in the same directory \n",
    "- Scans `d3dcompiler_47.dll` for the magic hex bytes `0xFEEDFACE` \n",
    "- The magic bytes `0xFEEDFACE` occur twice in a row \n",
    "- All the file data following the magic bytes is decrypted with RC4 using the hard coded key `3jB(2bsG#@c7`\n",
    "- Once decrypted the data contains shellcode followed by an embedded PE file (Stage 2) which is loaded into memory and executed\n",
    "\n",
    "#### Signed DLL\n",
    "The `d3dcompiler_47.dll` DLL is signed by Microsoft. The `0xFEEDFACE` magic bytes suggest that the open source tool [SigFlip](https://github.com/med0x2e/SigFlip) was used to patch the authenticode signed PE file without breaking the signature.\n",
    "\n",
    "### Stage 2\n",
    "\n",
    "#### Artifacts \n",
    "\n",
    "- Shellcode with stage 2 PE attached [b56279136d816a11cf4db9fc1b249da04b3fa3aef4ba709b20cdfbe572394812](https://malshare.com/sample.php?action=detail&hash=b56279136d816a11cf4db9fc1b249da04b3fa3aef4ba709b20cdfbe572394812)\n",
    "\n",
    "#### Functionality \n",
    "\n",
    "- Creates a file called `manifest` in the directory from which the process was launched \n",
    "- The `manifest` file is used to maintain a delay timer value for the malware\n",
    "- The delay is calculated by adding 7 days to a randomly generated value between 0 days and 20 days, 20 hours for a total potential delay of between 7 days, and 20 days 20 hours\n",
    "- When the malware executes this value is read from the `manifest` file and checked against the system time, if the time has not expired the malware will simply sleep\n",
    "- The `MachineGuid` key value is read from the registry key `Software\\\\Microsoft\\\\Cryptography` then transformed into the following \"cookie\" value to be used in future C2 requests\n",
    "\n",
    "```\n",
    "_tutma=xxxxxxxx-xxxx-xxxx-xxxx-xxxxxxxxxxx\n",
    "```\n",
    "\n",
    "- A random number generator is used to build a variation of the following URL with an icon file between `icon1.ico` and `icon16.ico` (either I'm not reading the code right or this is an off-by-one error as the icon files are number 0-15?) \n",
    "\n",
    "```\n",
    "https[:]//raw.githubusercontent[.]com/IconStorages/images/main/icon%d.ico\n",
    "```\n",
    "\n",
    "- The icon file is downloaded from GitHub and parsed to extract encoded data that is appended to the file\n",
    "- The appended data is preceded by a `$` which the malware uses as a marker to identify it\n",
    "- The following is an example of the bas64 encoded data in `icon15.ico`\n",
    "\n",
    "```\n",
    "`KQAAAGVhV4u+Eo4SGUuZypP8kNOkwQWzha6sxQrtzFo3oPSejc470WC47cKqv12+CshijG0HCfex40WinKat68EHqq8i6lHiifZpsxN3lxBRabtJ`\n",
    "```\n",
    "\n",
    "- The data is then base64 decoded and passed through an unidentified generator used to create a key for the data\n",
    "- The key is then used to decrypt the remaining data using AES\n",
    "- Once decrypted the data reveals the stage2 C2 URL `https[:]//pbxsources[.]com/exchange`, each icon file contains a different URL\n",
    "- A request is then sent to the C2 using the `_tutma` cookie described above and stage 3 is downloaded\n",
    "\n",
    "**Stage 3 was not recovered**\n"
   ]
  },
  {
   "cell_type": "code",
   "execution_count": null,
   "id": "ea7f43e3-ce5f-4c82-b81f-f5ccc75fe9d2",
   "metadata": {},
   "outputs": [],
   "source": []
  }
 ],
 "metadata": {
  "kernelspec": {
   "display_name": "Python 3",
   "language": "python",
   "name": "python3"
  },
  "language_info": {
   "codemirror_mode": {
    "name": "ipython",
    "version": 3
   },
   "file_extension": ".py",
   "mimetype": "text/x-python",
   "name": "python",
   "nbconvert_exporter": "python",
   "pygments_lexer": "ipython3",
   "version": "3.9.5"
  }
 },
 "nbformat": 4,
 "nbformat_minor": 5
}
