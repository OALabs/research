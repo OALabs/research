{
 "cells": [
  {
   "cell_type": "markdown",
   "id": "8de89089-3acb-45c8-b245-d6dbb131c21a",
   "metadata": {},
   "source": [
    "# Python3 Tips and Sample Code\n",
    "> Some helpful code for binary manipulation with Python3\n",
    "\n",
    "- toc: true \n",
    "- badges: true\n",
    "- categories: [python,python3,tips]"
   ]
  },
  {
   "cell_type": "markdown",
   "id": "e77f323f-a482-487d-88a1-0dd523fb7319",
   "metadata": {},
   "source": [
    "## Overview\n",
    "\n",
    "Python2.7 is like second nature to me now and I keep getting hung up on the idiotic typing that Python3 has introduced. Hopefully these examples will help."
   ]
  },
  {
   "cell_type": "markdown",
   "id": "65de0a09-f8ee-4c26-8924-6d1a818ef9c0",
   "metadata": {},
   "source": [
    "## Binary Data and Hex Ecoding"
   ]
  },
  {
   "cell_type": "code",
   "execution_count": 3,
   "id": "e28ae511-472c-43d0-a942-01abac575d09",
   "metadata": {},
   "outputs": [
    {
     "name": "stdout",
     "output_type": "stream",
     "text": [
      "b'test'\n",
      "test\n",
      "b'74657374'\n",
      "b'74657374'\n",
      "74657374\n",
      "b'test'\n",
      "b'test'\n",
      "test\n"
     ]
    }
   ],
   "source": [
    "import binascii\n",
    "\n",
    "string_example = \"test\"\n",
    "byte_array_example = b\"test\"\n",
    "\n",
    "# Convert string into bytes\n",
    "print(string_example.encode('utf-8'))\n",
    "\n",
    "# Convert byte array into string\n",
    "print(byte_array_example.decode('utf-8'))\n",
    "\n",
    "# Convert string into hex encoded byte array\n",
    "print(binascii.hexlify(string_example.encode('utf-8')))\n",
    "\n",
    "# Convert byte array into hex encoded byte array\n",
    "print(binascii.hexlify(byte_array_example))\n",
    "\n",
    "# Convert byte array into hex encoded string\n",
    "print(binascii.hexlify(byte_array_example).decode('utf-8'))\n",
    "\n",
    "# Convert hex encoded byte array into ascii byte array\n",
    "hex_byte_array = b'74657374'\n",
    "print(binascii.unhexlify(hex_byte_array))\n",
    "\n",
    "# Convert hex encoded string into ascii byte array\n",
    "hex_string = '74657374'\n",
    "print(binascii.unhexlify(hex_string.encode('utf-8')))\n",
    "\n",
    "# Convert hex encoded string into ascii string\n",
    "hex_string = '74657374'\n",
    "print(binascii.unhexlify(hex_string.encode('utf-8')).decode('utf-8'))"
   ]
  },
  {
   "cell_type": "markdown",
   "id": "1212dbd0-5329-4cc0-b239-c70be929715e",
   "metadata": {},
   "source": [
    "## Hex Encoding Helper Functions"
   ]
  },
  {
   "cell_type": "code",
   "execution_count": 4,
   "id": "85c49337-45fd-400c-b748-cf67f1204a28",
   "metadata": {},
   "outputs": [],
   "source": [
    "def unhex(hex_string):\n",
    "    import binascii\n",
    "    if type(hex_string) == str:\n",
    "        return binascii.unhexlify(hex_string.encode('utf-8'))\n",
    "    else:\n",
    "        return binascii.unhexlify(hex_string)\n",
    "\n",
    "def tohex(data):\n",
    "    import binascii\n",
    "    if type(data) == str:\n",
    "        return binascii.hexlify(data.encode('utf-8'))\n",
    "    else:\n",
    "        return binascii.hexlify(data)\n"
   ]
  },
  {
   "cell_type": "markdown",
   "id": "9c45b266-5d99-4eb9-bf90-fab386af5d4e",
   "metadata": {},
   "source": [
    "## Strings Functions"
   ]
  },
  {
   "cell_type": "code",
   "execution_count": 6,
   "id": "43d5649e-32d6-4763-b032-ff70a9f13c58",
   "metadata": {},
   "outputs": [],
   "source": [
    "def unicode_strings(buf, n=4):\n",
    "    import re\n",
    "    ASCII_BYTE = b' !\\\"#\\$%&\\'\\(\\)\\*\\+,-\\./0123456789:;<=>\\?@ABCDEFGHIJKLMNOPQRSTUVWXYZ\\[\\]\\^_`abcdefghijklmnopqrstuvwxyz\\{\\|\\}\\\\\\~\\t'\n",
    "    if type(buf) == str:\n",
    "        buf = buf.encode('utf-8')\n",
    "    reg = b'((?:[%s]\\x00){%d,})' % (ASCII_BYTE, n)\n",
    "    uni_re = re.compile(reg)\n",
    "    out = []\n",
    "    for match in uni_re.finditer(buf):\n",
    "        try:\n",
    "            out.append(match.group().decode(\"utf-16\"))\n",
    "        except UnicodeDecodeError:\n",
    "            pass\n",
    "    return out\n",
    "\n",
    "\n",
    "def ascii_strings(buf, n=4):\n",
    "    import re\n",
    "    ASCII_BYTE = b' !\\\"#\\$%&\\'\\(\\)\\*\\+,-\\./0123456789:;<=>\\?@ABCDEFGHIJKLMNOPQRSTUVWXYZ\\[\\]\\^_`abcdefghijklmnopqrstuvwxyz\\{\\|\\}\\\\\\~\\t'\n",
    "    if type(buf) == str:\n",
    "        buf = buf.encode('utf-8')\n",
    "    reg = b'([%s]{%d,})' % (ASCII_BYTE, n)\n",
    "    ascii_re = re.compile(reg)\n",
    "    out = []\n",
    "    for match in ascii_re.finditer(buf):\n",
    "        try:\n",
    "            out.append(match.group().decode(\"ascii\"))\n",
    "        except UnicodeDecodeError:\n",
    "            pass\n",
    "    return out"
   ]
  },
  {
   "cell_type": "code",
   "execution_count": 1,
   "id": "fce80936-c3f0-4e25-9182-785f8a64d6ad",
   "metadata": {},
   "outputs": [
    {
     "name": "stdout",
     "output_type": "stream",
     "text": [
      "test\n"
     ]
    }
   ],
   "source": [
    "test_var = \"test\"\n",
    "print(test_var)"
   ]
  },
  {
   "cell_type": "code",
   "execution_count": null,
   "id": "95aee5db-d17e-4fc0-9d40-ccd0859ec0ca",
   "metadata": {},
   "outputs": [],
   "source": []
  }
 ],
 "metadata": {
  "kernelspec": {
   "display_name": "Python 3",
   "language": "python",
   "name": "python3"
  },
  "language_info": {
   "codemirror_mode": {
    "name": "ipython",
    "version": 3
   },
   "file_extension": ".py",
   "mimetype": "text/x-python",
   "name": "python",
   "nbconvert_exporter": "python",
   "pygments_lexer": "ipython3",
   "version": "3.9.5"
  }
 },
 "nbformat": 4,
 "nbformat_minor": 5
}
