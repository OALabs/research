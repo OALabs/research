{
 "cells": [
  {
   "cell_type": "markdown",
   "id": "9fab84d7-3992-42b2-acc2-11a890fd8bb4",
   "metadata": {},
   "source": [
    "# Hermetic Wizard Malware\n",
    "> Analysis of the Hermetic Wizard malware used to spread Hermetic Wiper in the Ukrainian cyber attacks\n",
    "\n",
    "- toc: true \n",
    "- badges: true\n",
    "- categories: [hermetic,hermetic wizard,spreader,malware,APT]"
   ]
  },
  {
   "cell_type": "markdown",
   "id": "a99c3645-034c-4f4e-915e-5cc28b81914a",
   "metadata": {},
   "source": [
    "## Overview \n",
    "\n",
    "In addition to the [Hermetic Wiper](https://www.sentinelone.com/labs/hermetic-wiper-ukraine-under-attack/) malware there were at least three other components used to deploy the wiper bundled into a single binary and referred to as [HermeticWizard](https://www.welivesecurity.com/2022/03/01/isaacwiper-hermeticwizard-wiper-worm-targeting-ukraine/). \n",
    "\n",
    "\n",
    "### Samples\n",
    "HermeticWizard: `a259e9b0acf375a8bef8dbc27a8a1996ee02a56889cba07ef58c49185ab033ec` \n",
    "[MalwareBazaar Sample](https://bazaar.abuse.ch/browse/tag/hermeticwizard/)\n",
    "\n",
    "In the resources of HermeticWizard are two spreader components, a WMI spreader, and an SMB spreader.\n",
    "\n",
    "#### WMI Spreader (exec_x32.dll)\n",
    "Samples: `2d29f9ca1d9089ba0399661bb34ba2fd8aba117f04678cd71856d5894aa7150b` \n",
    "\n",
    "#### SMB Spreader (romance.dll)\n",
    "Sample: `5a300f72e221a228e3a36a043bef878b570529a7abc15559513ea07ae280bb48`\n",
    "\n"
   ]
  },
  {
   "cell_type": "markdown",
   "id": "1814df02-0841-49cd-be09-b2ac18765e97",
   "metadata": {},
   "source": [
    "## WMI Spreader Analysis\n",
    "\n",
    "The WMI spreader is a stand-alone untility that is used to copy files to remote shares and execute them. The spreader is excuted via HermeticWizard using the following example command line.\n",
    "\n",
    "> `rundll32 <spreader path> #1 -s <path to HermeticWizard> – i <target IP>`\n",
    "\n",
    "The spreader accepts the following command line arguments: `-i`,`-h`,`-s`,`-a`,`-c`\n",
    "\n",
    "- **`s`** path to the file to copy\n",
    "- **`i`** remote host IP\n",
    "- **`h`** optional remote share path (*not confirmed)\n",
    "- **`a`** optional brute force share password (*not confirmed)\n",
    "- **`c`** optional brute force share username password list (*not confirmed)\n",
    "\n",
    "## Network Service Account \n",
    "The spreader checks to see if it has local admin priviledges. If it has local admin it attempts to impersonate the `Network Service` service account. \n",
    "\n",
    "[Stack Overflow reference](https://stackoverflow.com/questions/510170/the-difference-between-the-local-system-account-and-the-network-service-acco)\n",
    "\n",
    "> NetworkService account\n",
    ">\n",
    "> Limited service account that is meant to run standard privileged services. This account is > far more limited than Local System (or even Administrator) but still has the right to access the network as the machine (see caveat above).\n",
    "> \n",
    "> - NT AUTHORITY\\NetworkService\n",
    "> - the account has no password (any password information you provide is ignored)\n",
    "> - HKCU represents the NetworkService user account\n",
    "> - has minimal privileges on the local computer\n",
    "> - presents the computer's credentials to remote servers\n",
    "> - **SID: S-1-5-20**\n",
    "> - has its own profile under the HKEY_USERS registry key (HKEY_USERSS-1-5-20)\n",
    "> - If trying to schedule a task using it, enter NETWORK SERVICE into the Select User or Group > dialog \n",
    "\n",
    "## Share file copy \n",
    "The spreader attempts to authenticate to the ADMIN&#36; remote share. If a password list is  supplied on the command line the share authentication is brute forced. Once authenticated the files are copied to the share.\n",
    "\n",
    "## WMI COM Interface\n",
    "For programatic access to WMI the wiper uses COM. The COM GUID `4590F812-1D3A-11D0-891F-00AA004B2E24` is used to accesss `IWbemClassObject`\n",
    "\n",
    "... to be continued ..."
   ]
  },
  {
   "cell_type": "code",
   "execution_count": null,
   "id": "000f473c-b082-495e-b133-76d439f6ce41",
   "metadata": {},
   "outputs": [],
   "source": []
  }
 ],
 "metadata": {
  "kernelspec": {
   "display_name": "Python 3",
   "language": "python",
   "name": "python3"
  },
  "language_info": {
   "codemirror_mode": {
    "name": "ipython",
    "version": 3
   },
   "file_extension": ".py",
   "mimetype": "text/x-python",
   "name": "python",
   "nbconvert_exporter": "python",
   "pygments_lexer": "ipython3",
   "version": "3.9.5"
  }
 },
 "nbformat": 4,
 "nbformat_minor": 5
}
