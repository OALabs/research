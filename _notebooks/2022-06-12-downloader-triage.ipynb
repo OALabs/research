{
 "cells": [
  {
   "cell_type": "markdown",
   "id": "9da1e08b-e1e6-416c-bccf-e1605adc258e",
   "metadata": {},
   "source": [
    "# Malware Downloader Triage Notes\n",
    "> Researching malware downloaders, detection and triage\n",
    "\n",
    "- toc: true \n",
    "- badges: true\n",
    "- categories: [downloader,research,detection_engineering,yara,triage]"
   ]
  },
  {
   "cell_type": "markdown",
   "id": "af7ba18f-191e-4ae6-af5a-ef55355d1c93",
   "metadata": {},
   "source": [
    "## Overview\n",
    "We are going to take a look at two different downloaders, which are so simple they don't have great static detection or information extraction in UnpacMe yet! Our goal is to generate some Yara rules, or maybe some code to identify and extract the relevant info (download URL) in a generic static way.\n",
    "\n",
    "### Samples\n",
    "- [1a10e2940151982f2ab4f1e62be6e4f53074a2ffb90c7977e16d6a183db98695](https://malshare.com/sample.php?action=detail&hash=1a10e2940151982f2ab4f1e62be6e4f53074a2ffb90c7977e16d6a183db98695)\n",
    "- [9211ebf25c3cd3641451c95c50c1d3b7b2a4c53c36fa36564f3c1a177a0cda3d](https://malshare.com/sample.php?action=detail&hash=9211ebf25c3cd3641451c95c50c1d3b7b2a4c53c36fa36564f3c1a177a0cda3d)\n"
   ]
  },
  {
   "cell_type": "markdown",
   "id": "99f1b0a1-66c9-4bc8-affe-86459e02eba0",
   "metadata": {},
   "source": [
    "## Triage of `9211...`\n",
    "\n",
    "The samples has a plaintext URL and the download functionality is not obfuscated/packed and can be identifed using [CAPA](https://github.com/mandiant/capa) as seen in [UnpacMe](https://www.unpac.me/results/9b085f2f-9a1e-43ea-b7ae-814e85e90ddc/#/).\n",
    "\n",
    "The hardcoded URL is: `http://apuservis.pe/ocultar/fw%d.exe`.\n",
    "\n",
    "There are 2 loops used to generate ULRs from 1 - 7 calling the URLs:\n",
    "- `http://apuservis.pe/ocultar/fw1.exe`\n",
    "- `http://apuservis.pe/ocultar/fw2.exe`\n",
    "- `http://apuservis.pe/ocultar/fw3.exe`\n",
    "- `http://apuservis.pe/ocultar/fw4.exe`\n",
    "- `http://apuservis.pe/ocultar/fw5.exe`\n",
    "- `http://apuservis.pe/ocultar/fw6.exe`\n",
    "\n",
    "The file is writtent to `%APPDATA%` with a random file name using a random number `\"%08x.exe`.\n",
    "\n",
    "To execute the file the API `ShellExecuteW` is resolved dynamically using a CRC32 hash then it is called with the `open` command.\n"
   ]
  },
  {
   "cell_type": "code",
   "execution_count": 3,
   "id": "47cbc18d-2c73-4f32-abeb-ce5ec477ec7c",
   "metadata": {},
   "outputs": [
    {
     "name": "stdout",
     "output_type": "stream",
     "text": [
      "{'hits': [{'algorithm': 'crc32', 'count': 1, 'hitrate': 1.0}]}\n"
     ]
    }
   ],
   "source": [
    "\n",
    "import requests\n",
    "\n",
    "HASHDB_HUNT_URL = 'https://hashdb.openanalysis.net/hunt'\n",
    "HASHDB_HASH_URL = 'https://hashdb.openanalysis.net/hash'\n",
    "\n",
    "api_hash = 0x1FA8A1D4 + 5\n",
    "hunt_request = {\"hashes\": [api_hash]}\n",
    "\n",
    "r = requests.post(HASHDB_HUNT_URL, json=hunt_request)\n",
    "print(r.json())\n"
   ]
  },
  {
   "cell_type": "code",
   "execution_count": 4,
   "id": "b51a1747-ba9f-4820-a601-07a340da95cd",
   "metadata": {},
   "outputs": [
    {
     "name": "stdout",
     "output_type": "stream",
     "text": [
      "{'hashes': [{'hash': 531145177, 'string': {'string': 'ShellExecuteW', 'is_api': True, 'permutation': 'api', 'api': 'ShellExecuteW', 'modules': ['shell32']}}]}\n"
     ]
    }
   ],
   "source": [
    "r = requests.get(HASHDB_HASH_URL + '/crc32/' + str(api_hash))\n",
    "print(r.json())"
   ]
  },
  {
   "cell_type": "markdown",
   "id": "ed3eadae-38cf-439d-985e-ee00a4627210",
   "metadata": {},
   "source": [
    "### Possible IOCs\n",
    "\n",
    "- There is self-delete functionatlity using the batch script:\n",
    "  `/c ping 127.0.0.1 && del \\\"%s\\\" >> NUL`\n",
    "\n",
    "- They use `GetEnvironmentVariableW(L\"ComSpec\", Filename, 0x104u)` to get the `cmd.exe` path.\n",
    "\n",
    "- They have a hardcoded URL `http://apuservis.pe/ocultar/fw%d.exe`\n",
    "\n",
    "- They have a hardcoded HTTP header `GET %S HTTP/1.1`\n",
    "\n",
    "- They have a CRC32 hash algo used for the dynamic API resolving\n",
    "\n",
    "### Yara rule\n",
    "\n",
    "```yaml\n",
    "rule download_hunt {\n",
    "\n",
    "    meta:\n",
    "        description = \"Hunt for simple downloaders\"\n",
    "        \n",
    "   strings:\n",
    "       $s1 = \"/c ping 127.0.0.1 && del \\\"%s\\\" >> NUL\" wide ascii nocase\n",
    "       $s2 = \"http://\" wide ascii\n",
    "       $s3 = \"GET %S HTTP/1.1\" wide ascii nocase\n",
    "       $x1 = { 35 20 83 B8 ED }\n",
    "       $x2 = { 81 F? 20 83 B8 ED }\n",
    "   \n",
    "   condition:\n",
    "       all of ($s*) and 1 of ($x*)\n",
    "\n",
    "}\n",
    "```\n",
    "\n",
    "** let's also check file size\n",
    "\n",
    "** these are small binaries with very few functions, one ID trick might be to try and identify how many functions and only trigger an bins with a few functions... for this we could maybe used CFG count... from @psifertex\n",
    "\n",
    "> You can see the function table from a CFG binary with dumpbin /loadconfig test.exe\n",
    "\n",
    "\n",
    "#### Yara Rule Revisions\n",
    "\n",
    "We ran a scan with the above rule over the [MalwareBazaar](https://riskmitigation.ch/yara-scan/index.html) corpus and the results only gave us [one match](https://riskmitigation.ch/yara-scan/results/536840a0d04a2bbc3b63dd1e8cf36c008b1a242d23428c101d7e75157508958b/) (the sample we were originally looking at). This is a **bad** rule. \n",
    "\n",
    "We are going to loosen the rule to see if we can catch more samples.\n",
    "\n",
    "\n",
    "```yaml\n",
    "rule download_hunt_2 {\n",
    "\n",
    "    meta:\n",
    "        description = \"Hunt for simple downloaders\"\n",
    "        \n",
    "   strings:\n",
    "       $s1 = \"/c ping 127.0.0.1 && del\" wide ascii xor \n",
    "       $s2 = \"http://\" wide ascii xor \n",
    "\n",
    "   \n",
    "   condition:\n",
    "       all of ($s*) \n",
    "\n",
    "}\n",
    "```\n",
    "\n",
    "\n",
    "\n"
   ]
  },
  {
   "cell_type": "markdown",
   "id": "892a4c65-9586-4fa7-a7d9-e35df33efff5",
   "metadata": {},
   "source": [
    "\n",
    "![](https://h0e4a0r1t.github.io/intro/post-bg.jpg)\n",
    "## Triage of `1a10e...`"
   ]
  },
  {
   "cell_type": "markdown",
   "id": "4478a208-6c28-42a9-8331-32c44099934b",
   "metadata": {},
   "source": [
    "\n",
    "\n",
    "> twitter: https://twitter.com/malwrhunterteam/status/1535745376766115840\n",
    "\n",
    "\n",
    "There is a PDB path in the binary `C:\\Users\\H0e4a0r1t\\Documents\\Visual Studio 2015\\Projects\\worddy\\x64\\Release\\worddy.pdb`. Based on the username `H0e4a0r1t` we found a possible GitHub https://github.com/h0e4a0r1t and this looks like maybe a \"redteam\" tools developer??\n",
    "\n",
    "### Possible IOCs\n",
    "\n",
    "- There is an embeded blob that is encrypted with a singl-byte XOR `0x99`\n",
    "\n",
    "- Once decrypted the blob is a standard Cobalt Strike loader with the following \"header\" strings. \n",
    "\n",
    "```\n",
    "Accept: text/html,application/xhtml+xml,application/xml;q=0.9,*/*;q=0.8\n",
    "Accept-Language: en-US,en;q=0.5\n",
    "Referer: http://code.jquery.com/\n",
    "Accept-Encoding: gzip, deflate\n",
    "User-Agent: Mozilla/5.0 (Windows NT 6.3; Trident/7.0; rv:11.0) like Gecko\n",
    "```\n",
    "\n",
    "- The C2 IP is `139.9.138.190`\n",
    "\n",
    "- To load and launch the decrypted shellcode they use the following APIs\n",
    "  - VirtualAlloc\n",
    "  - WriteProcessMemory\n",
    "  - QueueUserAPC\n",
    "  \n",
    "### Yara Rule\n",
    "\n",
    "```yaml\n",
    "rule cs_downloader {\n",
    "\n",
    "    meta:\n",
    "        description = \"Hunt for Cobalt Strike downloader\"\n",
    "        \n",
    "   strings:\n",
    "       $s1 = \"Accept-Language:\" xor(0x01-0xff)\n",
    "       $s2 = \"Referer: http://code.jquery.com/\" xor(0x01-0xff)\n",
    "       $s3 = \"Accept-Encoding: gzip, deflate\" xor(0x01-0xff)\n",
    "       $s4 = \"User-Agent:\" xor(0x01-0xff)\n",
    "       \n",
    "   \n",
    "   condition:\n",
    "       all of ($s*) and uint32(@s1) == uint32(@s3) \n",
    "\n",
    "}\n",
    "```\n",
    "\n",
    "\n",
    "\n"
   ]
  },
  {
   "cell_type": "markdown",
   "id": "463a968e-2ab2-423f-9b4c-9b5489063d24",
   "metadata": {},
   "source": [
    "### Yara Results\n",
    "\n",
    "We only got 2 hits, this rule also sucks, lol!\n",
    "\n",
    "```\n",
    "[\n",
    "  {\n",
    "    \"rule\": \"cs_downloader\",\n",
    "    \"malware\": \"CobaltStrike\",\n",
    "    \"sha256\": \"e54514b1164508c049733c7dafc97f24ae66d42b8146b0e1a1271f9af7c94d48\",\n",
    "    \"mime_type\": \"application/x-msdownload\",\n",
    "    \"virustotal_link\": \"https://www.virustotal.com/gui/file/e54514b1164508c049733c7dafc97f24ae66d42b8146b0e1a1271f9af7c94d48/detection\",\n",
    "    \"malwarebazaar_link\": \"https://bazaar.abuse.ch/sample/e54514b1164508c049733c7dafc97f24ae66d42b8146b0e1a1271f9af7c94d48/\",\n",
    "    \"tags\": []\n",
    "  },\n",
    "  {\n",
    "    \"rule\": \"cs_downloader\",\n",
    "    \"malware\": \"CobaltStrike\",\n",
    "    \"sha256\": \"6220127ada00d84b58d718152748cd2c62007b1de92201701dc2968d2b00e31f\",\n",
    "    \"mime_type\": \"application/x-msdownload\",\n",
    "    \"virustotal_link\": \"https://www.virustotal.com/gui/file/6220127ada00d84b58d718152748cd2c62007b1de92201701dc2968d2b00e31f/detection\",\n",
    "    \"malwarebazaar_link\": \"https://bazaar.abuse.ch/sample/6220127ada00d84b58d718152748cd2c62007b1de92201701dc2968d2b00e31f/\",\n",
    "    \"tags\": []\n",
    "  }\n",
    "]\n",
    "```"
   ]
  },
  {
   "cell_type": "code",
   "execution_count": null,
   "id": "9581ce55-c971-4b63-8b26-ed6b9b81b5af",
   "metadata": {},
   "outputs": [],
   "source": []
  }
 ],
 "metadata": {
  "kernelspec": {
   "display_name": "Python 3",
   "language": "python",
   "name": "python3"
  },
  "language_info": {
   "codemirror_mode": {
    "name": "ipython",
    "version": 3
   },
   "file_extension": ".py",
   "mimetype": "text/x-python",
   "name": "python",
   "nbconvert_exporter": "python",
   "pygments_lexer": "ipython3",
   "version": "3.9.5"
  }
 },
 "nbformat": 4,
 "nbformat_minor": 5
}
