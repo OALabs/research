{
 "cells": [
  {
   "cell_type": "markdown",
   "id": "0e7e2f24-2f40-4782-9d01-098090363cce",
   "metadata": {},
   "source": [
    "# Guloader\n",
    "> A closer look at this infamous loader\n",
    "\n",
    "- toc: true \n",
    "- badges: true\n",
    "- categories: [guloader,unicorn,emulation,anti-debug,debugging,config]\n"
   ]
  },
  {
   "cell_type": "markdown",
   "id": "392c119f-31b6-4ee4-80e4-dedd4fa631c3",
   "metadata": {},
   "source": [
    "## Overview\n",
    "\n",
    "### Sample\n",
    "`14d52119459ef12be3a2f9a3a6578ee3255580f679b1b54de0990b6ba403b0fe` [malshare](https://malshare.com/sample.php?action=detail&hash=14d52119459ef12be3a2f9a3a6578ee3255580f679b1b54de0990b6ba403b0fe)\n",
    "\n",
    "\n",
    "### References\n",
    "\n",
    "- [Defeating Guloader Anti-Analysis Technique](https://unit42.paloaltonetworks.com/guloader-variant-anti-analysis/)\n",
    "- [Dissecting the new shellcode-based variant of GuLoader (CloudEyE)](https://www.spamhaus.com/resource-center/dissecting-the-new-shellcode-based-variant-of-guloader-cloudeye/)\n",
    "- [Spoofed Saudi Purchase Order Drops GuLoader – Part 2](https://www.fortinet.com/blog/threat-research/spoofed-saudi-purchase-order-drops-guloader-part-two)\n"
   ]
  },
  {
   "cell_type": "markdown",
   "id": "b99c4704-18d6-4005-b389-6af76d889f66",
   "metadata": {},
   "source": [
    "## Analysis"
   ]
  },
  {
   "cell_type": "markdown",
   "id": "721f0dd2-969c-4582-bb90-370cf5ef277c",
   "metadata": {},
   "source": [
    "### Stage 1"
   ]
  },
  {
   "cell_type": "code",
   "execution_count": 13,
   "id": "6328ff08-a23f-429c-be60-89ca9a73da2c",
   "metadata": {},
   "outputs": [],
   "source": [
    "file_data = open('/tmp/stage1.bin','rb').read()"
   ]
  },
  {
   "cell_type": "code",
   "execution_count": 14,
   "id": "0f6006c9-0362-40be-a2b3-f9c53a0838d7",
   "metadata": {},
   "outputs": [
    {
     "data": {
      "text/plain": [
       "93703"
      ]
     },
     "execution_count": 14,
     "metadata": {},
     "output_type": "execute_result"
    }
   ],
   "source": [
    "import struct\n",
    "\n",
    "out = []\n",
    "key = struct.pack('<I',0x919E1E2E)\n",
    "code_offset = 0x0000014E \n",
    "enc_code = file_data[code_offset:]\n",
    "\n",
    "\n",
    "\n",
    "for i in range(len(enc_code)):\n",
    "    out.append(enc_code[i] ^ key[i % len(key)])\n",
    "\n",
    "open('/tmp/stage2.bin','wb').write(bytes(out))\n",
    "\n"
   ]
  },
  {
   "cell_type": "markdown",
   "id": "3399ce96-5109-49a2-bfe6-c38f18c30415",
   "metadata": {},
   "source": [
    "### Stage 2"
   ]
  },
  {
   "cell_type": "code",
   "execution_count": 15,
   "id": "bb8324f5-f31f-4b14-b98b-473fa47fc11c",
   "metadata": {},
   "outputs": [
    {
     "data": {
      "text/plain": [
       "'0x539'"
      ]
     },
     "execution_count": 15,
     "metadata": {},
     "output_type": "execute_result"
    }
   ],
   "source": [
    "hex((0x96900857 + 0x10E451D0) ^ 0xAA6DFF89 ^ 0xD19A097)"
   ]
  },
  {
   "cell_type": "code",
   "execution_count": 16,
   "id": "affa9c1b-4986-4b69-9f78-553953956392",
   "metadata": {},
   "outputs": [
    {
     "data": {
      "text/plain": [
       "'0x100000000'"
      ]
     },
     "execution_count": 16,
     "metadata": {},
     "output_type": "execute_result"
    }
   ],
   "source": [
    "hex((0x191AE730 ^ 0x320EB5D5 ^ 0xB8DB25E1) + 0x6C3088FC)"
   ]
  },
  {
   "cell_type": "code",
   "execution_count": 17,
   "id": "b794d643-7fd5-4744-b61d-e85f9dfd664b",
   "metadata": {},
   "outputs": [
    {
     "data": {
      "text/plain": [
       "'0x61'"
      ]
     },
     "execution_count": 17,
     "metadata": {},
     "output_type": "execute_result"
    }
   ],
   "source": [
    "hex((0xE22ECFA7 ^ 0xD05F809C ^ 0x4E1C381C) - 0x7C6D76C6)"
   ]
  },
  {
   "cell_type": "code",
   "execution_count": 20,
   "id": "2571ba82-fab0-4259-945f-06f6425b3f1a",
   "metadata": {},
   "outputs": [
    {
     "data": {
      "text/plain": [
       "768"
      ]
     },
     "execution_count": 20,
     "metadata": {},
     "output_type": "execute_result"
    }
   ],
   "source": [
    "(0x1C90313A  ^ 0x0A3C51979 ^ 0x8A519DBE) - 0x3504B2FD"
   ]
  },
  {
   "cell_type": "code",
   "execution_count": 21,
   "id": "cf8dd920-257d-4d99-888c-3f8bcf786f84",
   "metadata": {},
   "outputs": [
    {
     "data": {
      "text/plain": [
       "'0x3e8'"
      ]
     },
     "execution_count": 21,
     "metadata": {},
     "output_type": "execute_result"
    }
   ],
   "source": []
  },
  {
   "cell_type": "code",
   "execution_count": 25,
   "id": "599b0ed0-7dba-49ab-8a2d-4ead6441f7e9",
   "metadata": {},
   "outputs": [
    {
     "data": {
      "text/plain": [
       "b\"ntdll\\xcc\\xddC\\x01\\x1e%\\xdc\\n\\x85\\x03r\\x08O|\\xc7QZ\\xf9B\\x8bX\\x8f!\\xd1\\xf3zY'\\xe2\\xc0\\xd2wL\\xe3F\\xa1\\xb9\\x8e\\t\\xbbCj>\\x86\\xd5XcG\\x14@\""
      ]
     },
     "execution_count": 25,
     "metadata": {},
     "output_type": "execute_result"
    }
   ],
   "source": [
    "buff = bytes.fromhex('D8 E3 A9 5E AB')\n",
    "buff2 = bytes.fromhex('b697cd32c7143eea5fb5fd3fa3dba8aaebe6226c89b9501c20806c888f58a2ba8ebc6b0a94e5bded795a2757109b8997d87e8080ee4aeb')\n",
    "\n",
    "out = []\n",
    "for i in range(len(buff2)):\n",
    "    out.append(buff2[i] ^ buff[i % len(buff)])\n",
    "    \n",
    "bytes(out)"
   ]
  },
  {
   "cell_type": "code",
   "execution_count": 27,
   "id": "8fb56bbf-9c08-4b48-9afa-47efe1aca71e",
   "metadata": {},
   "outputs": [
    {
     "data": {
      "text/plain": [
       "b'ntdll'"
      ]
     },
     "execution_count": 27,
     "metadata": {},
     "output_type": "execute_result"
    }
   ],
   "source": [
    "def xor_crypt(data, key):\n",
    "    out = []\n",
    "    for i in range(len(data)):\n",
    "        out.append(data[i] ^ key[i % len(key)])\n",
    "    return bytes(out)\n",
    "\n",
    "xor_crypt(buff, buff2)"
   ]
  },
  {
   "cell_type": "code",
   "execution_count": 31,
   "id": "2bf09f61-84a3-4853-803f-0038e2840df4",
   "metadata": {},
   "outputs": [
    {
     "name": "stdout",
     "output_type": "stream",
     "text": [
      "dee3b942\n"
     ]
    },
    {
     "data": {
      "text/plain": [
       "b'http://bounceclick.live/VVB/COrg_RYGGqN229.binb\\xc7\\xb6E\\x8b\\xe1jq\\n=\\x13\\x1c9Lz\\x05\\xe1>1\\xc6\\xde(_y\\xa1`\\x88\\x19g\\xe8=k\\xfd\\xab\\x04\\xbd\\x83\\x046\\x99\\xb1\\xef8P\\xeb\\x1fal\\xe6\\xf24\\x1c\\\\q'"
      ]
     },
     "execution_count": 31,
     "metadata": {},
     "output_type": "execute_result"
    }
   ],
   "source": [
    "egg = xor_crypt(b'http', buff2)\n",
    "\n",
    "print(egg.hex())\n",
    "\n",
    "stage2_data = open('/tmp/stage2.bin','rb').read()\n",
    "\n",
    "c2_offset = stage2_data.find(egg)\n",
    "\n",
    "xor_crypt(stage2_data[c2_offset:c2_offset+100], buff2)\n",
    "\n"
   ]
  },
  {
   "cell_type": "code",
   "execution_count": 33,
   "id": "3f3fb92e-6a0a-45f6-bcf0-6d8bacccab24",
   "metadata": {},
   "outputs": [
    {
     "data": {
      "text/plain": [
       "'0x2e'"
      ]
     },
     "execution_count": 33,
     "metadata": {},
     "output_type": "execute_result"
    }
   ],
   "source": [
    "hex(len(b'http://bounceclick.live/VVB/COrg_RYGGqN229.bin'))"
   ]
  },
  {
   "cell_type": "code",
   "execution_count": null,
   "id": "561fec77-3d92-4a29-ba48-46ca2211434f",
   "metadata": {},
   "outputs": [],
   "source": []
  }
 ],
 "metadata": {
  "kernelspec": {
   "display_name": "Python 3",
   "language": "python",
   "name": "python3"
  },
  "language_info": {
   "codemirror_mode": {
    "name": "ipython",
    "version": 3
   },
   "file_extension": ".py",
   "mimetype": "text/x-python",
   "name": "python",
   "nbconvert_exporter": "python",
   "pygments_lexer": "ipython3",
   "version": "3.9.5"
  }
 },
 "nbformat": 4,
 "nbformat_minor": 5
}
