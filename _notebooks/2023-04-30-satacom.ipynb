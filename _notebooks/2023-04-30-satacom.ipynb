{
 "cells": [
  {
   "cell_type": "markdown",
   "id": "0b27bcbb-5ca8-446b-a7eb-048474424e17",
   "metadata": {},
   "source": [
    "# Satacom (LegionLoader)\n",
    "> Taking a look at this loader associated with NullMixer\n",
    "\n",
    "- toc: true \n",
    "- badges: true\n",
    "- categories: [satacom,legionloader,loader,NullMixer]\n"
   ]
  },
  {
   "cell_type": "markdown",
   "id": "d462c714-0c3d-4308-9025-e5925775c86b",
   "metadata": {},
   "source": [
    "# Overview \n",
    "\n",
    "This loader is strongly associated with the NullMixer pay-per-install service which uses SEO poisoning to place it's loader in high ranked Google searches. According to a Kaspersky post about [NullMixer](https://securelist.com/nullmixer-oodles-of-trojans-in-a-single-dropper/107498/) the SEO poisoned terms often relate to “cracks” and “keygens”.\n",
    "\n",
    "The LegionLoder (aka Satacom) itself is used to deliver malware payloads but also contains a built-in crypto stealer detailed in this DeepInstinct [post](https://www.deepinstinct.com/blog/untangling-legion-loaders-hornet-nest-of-malware). \n",
    "\n",
    "## References\n",
    "- [Untangling Legion Loader’s Hornet Nest of Malware](https://www.deepinstinct.com/blog/untangling-legion-loaders-hornet-nest-of-malware)\n",
    "- [NullMixer: oodles of Trojans in a single dropper](https://securelist.com/nullmixer-oodles-of-trojans-in-a-single-dropper/107498/)\n",
    "\n",
    "## Samples\n",
    "- packed `ddc2b05410808c6a42584aec972332a8e7ca155cb7dcad4fb68167d39130ce09` [UnpacMe](https://www.unpac.me/results/5bbe96c0-f376-4abe-aff3-1feb9b1d567f)\n",
    "  - unpacked `2ff7169de9b8737c232ef3410736167129a02ffe3cbb953e528fb88c8f665660`\n",
    "\n",
    "- packed `0302f9e68aba7f9c2e9a80d959431b68eab2991e9489887fca727c2a3d493bff` [UnpacMe](https://www.unpac.me/results/34e85cb8-8577-43b2-a8d7-b2c1b5c53dc7#/)\n",
    "  - unpacked `cc1087c4b35d8e6a4f1b88c2eaf0870b7630e53bad8d188283543a3df312188d`\n",
    "\n",
    "- packed `296a4593d0619126d9b6dc61dcc9c608699ae89af1849378ec3d9347795a0db1`[UnpacMe](https://www.unpac.me/results/edde9d3b-0eeb-448b-a662-dd4f106242dd)\n",
    "  - unpacked `8fbf21e9ecaa64b8f71904791380a3efa08f71f18f18fc9f7e171de2c5a946fc`\n"
   ]
  },
  {
   "cell_type": "markdown",
   "id": "4a4aea6c-09dc-4b14-a634-b2f85f63df94",
   "metadata": {},
   "source": [
    "### String Decryption (hex strings)\n",
    "\n",
    "- hex decode\n",
    "- rc4 decrypt with hard coded key"
   ]
  },
  {
   "cell_type": "code",
   "execution_count": 7,
   "id": "405f0e03-5c30-4301-83b9-9adbb0b5aaad",
   "metadata": {},
   "outputs": [
    {
     "data": {
      "text/plain": [
       "b'gate2.php?a='"
      ]
     },
     "execution_count": 7,
     "metadata": {},
     "output_type": "execute_result"
    }
   ],
   "source": [
    "from malduck import rc4\n",
    "\n",
    "key = bytes.fromhex('f74b76852a9cbfd407365cfdcf2ead7e9e483d51865a585ed17ec67e620b3c3a')\n",
    "data = '759e021374ebbd9ed98899a2'\n",
    "enc_data = bytes.fromhex(data)\n",
    "rc4(key, enc_data)\n"
   ]
  },
  {
   "cell_type": "code",
   "execution_count": 17,
   "id": "9401a821-e61b-4684-a028-47452f53fe94",
   "metadata": {},
   "outputs": [
    {
     "name": "stdout",
     "output_type": "stream",
     "text": [
      "b'8.8.8.8'\n",
      "b'dns-beast.com\\x00'\n",
      "b'hittest.php'\n",
      "b'&payout=0,3'\n",
      "b'gate2.php?a='\n"
     ]
    }
   ],
   "source": [
    "ss = ['2ad14e587eebf5',\n",
    "'7691055b24a0ac85dd999bf00e02'\n",
    ",'7a96020223b6b9d8d9df88'\n",
    ",'348f170f29b0b9cb999bcb'\n",
    ",'759e021374ebbd9ed98899a2']\n",
    "\n",
    "for s in ss:\n",
    "    enc_data = bytes.fromhex(s)\n",
    "    print(enc_data | refinery.rc4(key) | bytes)\n"
   ]
  },
  {
   "cell_type": "markdown",
   "id": "5a64a2d0-ac73-4d53-b709-9808d653b230",
   "metadata": {},
   "source": [
    "#### Binary Refinery Decrypt\n",
    "\n",
    "Attempt to perform the same decryption with binary refinery."
   ]
  },
  {
   "cell_type": "code",
   "execution_count": 14,
   "id": "a8fe8053-f321-4fe1-97b3-3cd1d74ef4a1",
   "metadata": {},
   "outputs": [
    {
     "data": {
      "text/plain": [
       "b'gate2.php?a='"
      ]
     },
     "execution_count": 14,
     "metadata": {},
     "output_type": "execute_result"
    }
   ],
   "source": [
    "import refinery\n",
    "\n",
    "enc_data | refinery.rc4(key) | bytes"
   ]
  },
  {
   "cell_type": "markdown",
   "id": "60e8a3f5-4966-4033-bfef-97a02e2bb4d2",
   "metadata": {},
   "source": [
    "### String Decryption (base64 strings)\n",
    "\n",
    "- base64 decode\n",
    "- xor decrypt with stack string"
   ]
  },
  {
   "cell_type": "code",
   "execution_count": 27,
   "id": "8a7e52d7-9796-461a-b259-d3d069de68f7",
   "metadata": {},
   "outputs": [
    {
     "data": {
      "text/plain": [
       "b'8.8.8.8'"
      ]
     },
     "execution_count": 27,
     "metadata": {},
     "output_type": "execute_result"
    }
   ],
   "source": [
    "import base64\n",
    "from malduck import xor\n",
    "b64_string = 'c21pZXt/cw=='\n",
    "enc_str = base64.b64decode(b64_string)\n",
    "xor(b'KCQ', enc_str)\n"
   ]
  },
  {
   "cell_type": "markdown",
   "id": "171d7a50-3923-4af1-8f21-c2797de57412",
   "metadata": {},
   "source": [
    "#### Dumpulator Decrypt\n",
    "\n",
    "Attempt to perform the same decryption with dumpulator."
   ]
  },
  {
   "cell_type": "code",
   "execution_count": 34,
   "id": "fafdb4a8-203b-40a0-bcad-6b03ba02e76d",
   "metadata": {},
   "outputs": [
    {
     "name": "stdout",
     "output_type": "stream",
     "text": [
      "string map: 0xbb75e8\n",
      "8.8.8.8\n",
      "dns-beast.com\n",
      "Mozilla/5.0 (Windows NT 6.3; Trident/7.0; Touch; rv:11.0) like Gecko\n",
      "hittest.php\n",
      "&payout=0,3\n",
      "gate2.php?a=\n"
     ]
    }
   ],
   "source": [
    "from dumpulator import *\n",
    "\n",
    "def main():\n",
    "    dp = Dumpulator(\"/tmp/2ff-malware.dmp\", trace=False, debug_logs=False, quiet=True)\n",
    "    init_function = 0x4056E0\n",
    "    map_ptr = dp.call(init_function)\n",
    "    print(f\"string map: {hex(map_ptr)}\")\n",
    "    decrypt_function = 0x401270\n",
    "    buf_ptr = dp.allocate(1024)\n",
    "    for i in range(6):\n",
    "        dp.call(decrypt_function, [i, buf_ptr], regs={'rcx': map_ptr})\n",
    "        print(dp.read_str(buf_ptr))\n",
    "\n",
    "if __name__ == \"__main__\":\n",
    "    main()"
   ]
  },
  {
   "cell_type": "markdown",
   "id": "a2d6b3d0-0ef3-4e21-a2c2-2a5e0dc865e3",
   "metadata": {},
   "source": [
    "## Packer\n",
    "\n",
    "The packer uses many obfuscation techniques to prevent detection of its stub including the addition of junk API calls.\n",
    "\n",
    "### IDA Python NOP Patch\n",
    "\n",
    "To remove the packer junk code we can use the following script. Simply highlight the junk code and run the script to replace it with null bytes.\n",
    "\n",
    "```python\n",
    "import idaapi\n",
    "\n",
    "_, start, end = idaapi.read_range_selection(None)\n",
    "for ea in range(start, end):\n",
    "     idaapi.patch_byte(ea, ord('\\x90'))\n",
    "```"
   ]
  },
  {
   "cell_type": "markdown",
   "id": "5c36db90-be29-4975-9629-1b9606a26bb8",
   "metadata": {},
   "source": [
    "### Packer ID\n",
    "\n",
    "Thanks to [mishap](https://github.com/oopsmishap) for the IOC. The following binary string can be used to locate packers that have a hard coded payload size \n",
    "that matches the samples analyzed. NOTE this is only useful for finding packers with the same payload (for further research) and is not a generic IOC for this packer.\n",
    "\n",
    "```\n",
    "{C7 05 ?? ?? ?? ?? E0 0E 00 00}\n",
    "```\n",
    "\n",
    "Many of the samples also include the PE metadata which identify the payload name as `fork5.dll`. This is another IOC that can be used to identify one version of the packer. It is not a generic IOC for this packer."
   ]
  },
  {
   "cell_type": "code",
   "execution_count": null,
   "id": "b4d79009-1a6e-4946-aa34-d1c22e9149d2",
   "metadata": {},
   "outputs": [],
   "source": []
  }
 ],
 "metadata": {
  "kernelspec": {
   "display_name": "Python 3",
   "language": "python",
   "name": "python3"
  },
  "language_info": {
   "codemirror_mode": {
    "name": "ipython",
    "version": 3
   },
   "file_extension": ".py",
   "mimetype": "text/x-python",
   "name": "python",
   "nbconvert_exporter": "python",
   "pygments_lexer": "ipython3",
   "version": "3.9.5"
  }
 },
 "nbformat": 4,
 "nbformat_minor": 5
}
