{
 "cells": [
  {
   "cell_type": "markdown",
   "id": "cf41d7a0-45ee-4f5c-b1a5-3116c1c532a8",
   "metadata": {},
   "source": [
    "# BlackMatter Ransomware\n",
    "> BlackMatter Ransomware Config Extraction\n",
    "\n",
    "- toc: true \n",
    "- badges: true\n",
    "- categories: [blackmatter,ransomware,malware,config]"
   ]
  },
  {
   "cell_type": "markdown",
   "id": "0d5436ad-8ff2-4fa8-9cd5-f34200b8d6ba",
   "metadata": {},
   "source": [
    "## Overview\n",
    "\n",
    "Sample: `22d7d67c3af10b1a37f277ebabe2d1eb4fd25afbd6437d4377400e148bcc08d6`\n",
    "\n",
    "References:\n",
    "- [Malware Bazaar Sample](https://bazaar.abuse.ch/sample/22d7d67c3af10b1a37f277ebabe2d1eb4fd25afbd6437d4377400e148bcc08d6/)\n",
    "- [ChuongDong Blog](https://chuongdong.com/reverse%20engineering/2021/09/05/BlackMatterRansomware/)\n",
    "- [CARBON SPIDER Attribution](https://www.youtube.com/watch?v=PAG3M7mWT2c&t=8192s)"
   ]
  },
  {
   "cell_type": "markdown",
   "id": "46a33111-3ad1-4c09-8c12-4875cfb3287f",
   "metadata": {},
   "source": [
    "## Helper Functions"
   ]
  },
  {
   "cell_type": "code",
   "execution_count": 1,
   "id": "b2e6cd9e-14ab-4d42-bcd7-b3d025442519",
   "metadata": {},
   "outputs": [],
   "source": [
    "def unhex(hex_string):\n",
    "    import binascii\n",
    "    if type(hex_string) == str:\n",
    "        return binascii.unhexlify(hex_string.encode('utf-8'))\n",
    "    else:\n",
    "        return binascii.unhexlify(hex_string)\n",
    "\n",
    "def tohex(data):\n",
    "    import binascii\n",
    "    if type(data) == str:\n",
    "        return binascii.hexlify(data.encode('utf-8'))\n",
    "    else:\n",
    "        return binascii.hexlify(data)"
   ]
  },
  {
   "cell_type": "markdown",
   "id": "70ee8663-fbd3-4fab-bc3a-fcbdd97bdf48",
   "metadata": {},
   "source": [
    "## API Hashing"
   ]
  },
  {
   "cell_type": "code",
   "execution_count": 2,
   "id": "334899c0-5f49-40c2-b669-100b0659c490",
   "metadata": {},
   "outputs": [],
   "source": [
    "def ror(value, count=1, base=8):\n",
    "    value = (value >> count | value << (base - count)) & (2**base - 1)\n",
    "    return value\n"
   ]
  },
  {
   "cell_type": "code",
   "execution_count": 3,
   "id": "85a5b42e-c3a9-48b6-8de6-510d7c162966",
   "metadata": {},
   "outputs": [
    {
     "name": "stdout",
     "output_type": "stream",
     "text": [
      "0x411677b7\n"
     ]
    }
   ],
   "source": [
    "# Example hashing ntdll.dll\n",
    "\n",
    "out = 0\n",
    "\n",
    "for i in 'ntdll.dll\\x00':\n",
    "    out = (ord(i) + ror(out, count=13, base=32)) & 0xffffffff\n",
    "\n",
    "print(hex(out))"
   ]
  },
  {
   "cell_type": "markdown",
   "id": "46ce8ab2-e774-46d5-922e-60b8c75e898f",
   "metadata": {},
   "source": [
    "## Config Decryption"
   ]
  },
  {
   "cell_type": "markdown",
   "id": "9f3e5af8-d86d-4284-bbd7-3c86304511a8",
   "metadata": {},
   "source": [
    "### APLib \n",
    "\n",
    "Credit: [Sandor Nemes (snemes)](https://github.com/snemes/aplib/blob/master/aplib.py)"
   ]
  },
  {
   "cell_type": "code",
   "execution_count": 4,
   "id": "6b11dba9-ca96-4f9f-9be6-94003757045c",
   "metadata": {},
   "outputs": [],
   "source": [
    "import struct\n",
    "from binascii import crc32\n",
    "from io import BytesIO\n",
    "\n",
    "__all__ = ['APLib', 'decompress']\n",
    "__version__ = '0.6'\n",
    "__author__ = 'Sandor Nemes'\n",
    "\n",
    "\n",
    "class APLib(object):\n",
    "\n",
    "    __slots__ = 'source', 'destination', 'tag', 'bitcount', 'strict'\n",
    "\n",
    "    def __init__(self, source, strict=True):\n",
    "        self.source = BytesIO(source)\n",
    "        self.destination = bytearray()\n",
    "        self.tag = 0\n",
    "        self.bitcount = 0\n",
    "        self.strict = bool(strict)\n",
    "\n",
    "    def getbit(self):\n",
    "        # check if tag is empty\n",
    "        self.bitcount -= 1\n",
    "        if self.bitcount < 0:\n",
    "            # load next tag\n",
    "            self.tag = ord(self.source.read(1))\n",
    "            self.bitcount = 7\n",
    "\n",
    "        # shift bit out of tag\n",
    "        bit = self.tag >> 7 & 1\n",
    "        self.tag <<= 1\n",
    "\n",
    "        return bit\n",
    "\n",
    "    def getgamma(self):\n",
    "        result = 1\n",
    "\n",
    "        # input gamma2-encoded bits\n",
    "        while True:\n",
    "            result = (result << 1) + self.getbit()\n",
    "            if not self.getbit():\n",
    "                break\n",
    "\n",
    "        return result\n",
    "\n",
    "    def depack(self):\n",
    "        r0 = -1\n",
    "        lwm = 0\n",
    "        done = False\n",
    "\n",
    "        try:\n",
    "\n",
    "            # first byte verbatim\n",
    "            self.destination += self.source.read(1)\n",
    "\n",
    "            # main decompression loop\n",
    "            while not done:\n",
    "                if self.getbit():\n",
    "                    if self.getbit():\n",
    "                        if self.getbit():\n",
    "                            offs = 0\n",
    "                            for _ in range(4):\n",
    "                                offs = (offs << 1) + self.getbit()\n",
    "\n",
    "                            if offs:\n",
    "                                self.destination.append(self.destination[-offs])\n",
    "                            else:\n",
    "                                self.destination.append(0)\n",
    "\n",
    "                            lwm = 0\n",
    "                        else:\n",
    "                            offs = ord(self.source.read(1))\n",
    "                            length = 2 + (offs & 1)\n",
    "                            offs >>= 1\n",
    "\n",
    "                            if offs:\n",
    "                                for _ in range(length):\n",
    "                                    self.destination.append(self.destination[-offs])\n",
    "                            else:\n",
    "                                done = True\n",
    "\n",
    "                            r0 = offs\n",
    "                            lwm = 1\n",
    "                    else:\n",
    "                        offs = self.getgamma()\n",
    "\n",
    "                        if lwm == 0 and offs == 2:\n",
    "                            offs = r0\n",
    "                            length = self.getgamma()\n",
    "\n",
    "                            for _ in range(length):\n",
    "                                self.destination.append(self.destination[-offs])\n",
    "                        else:\n",
    "                            if lwm == 0:\n",
    "                                offs -= 3\n",
    "                            else:\n",
    "                                offs -= 2\n",
    "\n",
    "                            offs <<= 8\n",
    "                            offs += ord(self.source.read(1))\n",
    "                            length = self.getgamma()\n",
    "\n",
    "                            if offs >= 32000:\n",
    "                                length += 1\n",
    "                            if offs >= 1280:\n",
    "                                length += 1\n",
    "                            if offs < 128:\n",
    "                                length += 2\n",
    "\n",
    "                            for _ in range(length):\n",
    "                                self.destination.append(self.destination[-offs])\n",
    "\n",
    "                            r0 = offs\n",
    "\n",
    "                        lwm = 1\n",
    "                else:\n",
    "                    self.destination += self.source.read(1)\n",
    "                    lwm = 0\n",
    "\n",
    "        except (TypeError, IndexError):\n",
    "            if self.strict:\n",
    "                raise RuntimeError('aPLib decompression error')\n",
    "\n",
    "        return bytes(self.destination)\n",
    "\n",
    "    def pack(self):\n",
    "        raise NotImplementedError\n",
    "\n",
    "\n",
    "def aplib_decompress(data, strict=False):\n",
    "    packed_size = None\n",
    "    packed_crc = None\n",
    "    orig_size = None\n",
    "    orig_crc = None\n",
    "    if data.startswith(b'AP32') and len(data) >= 24:\n",
    "        # data has an aPLib header\n",
    "        header_size, packed_size, packed_crc, orig_size, orig_crc = struct.unpack_from('=IIIII', data, 4)\n",
    "        data = data[header_size : header_size + packed_size]\n",
    "    if strict:\n",
    "        if packed_size is not None and packed_size != len(data):\n",
    "            raise RuntimeError('Packed data size is incorrect')\n",
    "        if packed_crc is not None and packed_crc != crc32(data):\n",
    "            raise RuntimeError('Packed data checksum is incorrect')\n",
    "    result = APLib(data, strict=strict).depack()\n",
    "    if strict:\n",
    "        if orig_size is not None and orig_size != len(result):\n",
    "            raise RuntimeError('Unpacked data size is incorrect')\n",
    "        if orig_crc is not None and orig_crc != crc32(result):\n",
    "            raise RuntimeError('Unpacked data checksum is incorrect')\n",
    "    return result"
   ]
  },
  {
   "cell_type": "markdown",
   "id": "56a9ed1a-131e-46c3-8a50-1a7170165938",
   "metadata": {},
   "source": [
    "### Extract Config\n",
    "\n",
    "The Blackmatter config is stored in the PE resource section `.rsrc`. \n",
    "\n",
    "The first `DWORD` of the resource is the seed for an lcg that closely matches the zipcrypto lcg with constant `0x8088405`.\n",
    "\n",
    "The second `DWORD` is the size of the encrypted config and is followed by the encrypted config data."
   ]
  },
  {
   "cell_type": "code",
   "execution_count": 5,
   "id": "796668bd-3102-4439-9f70-b1ea23cde473",
   "metadata": {},
   "outputs": [
    {
     "name": "stdout",
     "output_type": "stream",
     "text": [
      "Seed: 0xffcaa1ea\n",
      "Size: 3487\n"
     ]
    }
   ],
   "source": [
    "import struct\n",
    "import pefile\n",
    "\n",
    "RANSOMWARE_FILE = r'/tmp/blackmatter.bin'\n",
    "data = open(RANSOMWARE_FILE, 'rb').read()\n",
    "pe = pefile.PE(data = data)\n",
    "\n",
    "# Get resource data\n",
    "r_data = None\n",
    "for s in pe.sections:\n",
    "    if b'rsrc' in s.Name:\n",
    "        r_data = s.get_data()\n",
    "        \n",
    "# Parse data from resource\n",
    "seed = struct.unpack('<I',r_data[:4])[0]\n",
    "data_size = struct.unpack('<I',r_data[4:8])[0]\n",
    "enc_data = r_data[8:]\n",
    "\n",
    "print(\"Seed: %s\" % hex(seed))\n",
    "print(\"Size: %d\" % data_size)\n"
   ]
  },
  {
   "cell_type": "markdown",
   "id": "fd22d8bb-8074-4209-b0ef-97f86d82be2d",
   "metadata": {},
   "source": [
    "### Decryption Routine\n",
    "\n",
    "Reference: [Tesorion Blackmatter blog](https://www.tesorion.nl/en/posts/analysis-of-the-blackmatter-ransomware/)\n",
    "\n",
    "```\n",
    "def decrypt(enc_data, data_size, seed):\n",
    "    fixed = seed\n",
    "    decrypted = bytearray()\n",
    "    for i in range(data_size-1):\n",
    "        if i & 3 == 0:\n",
    "            next_value = struct.unpack('<I',enc_data[i:i+4])[0]\n",
    "            seed = (0x8088405 * seed + 1) & 0xffffffff\n",
    "            rnd = ((seed * fixed) >> 32) & 0xffffffff\n",
    "            dw = next_value ^ rnd\n",
    "        decrypted.append((dw >> ((i & 3) * 8)) & 0xff)\n",
    "    return decrypted\n",
    "```"
   ]
  },
  {
   "cell_type": "code",
   "execution_count": 6,
   "id": "6ffa728a-73d0-4b75-8251-6d372abca497",
   "metadata": {},
   "outputs": [
    {
     "data": {
      "text/plain": [
       "b'\\x87\\x19\\xa80\\xf4\\xba\\x94\\x94\\x92\\x91X+fT\\xf9l\\x96\\xd9\\xa0\\xf4A\\x9fR\\xf3g\\xcf.\\x19\\xb9\\xc9Z\\x9bp\\x91\\xcb\\xef\\xaf\\xbeZ\\xe3\\x9d\\xae(X\\x94Y\\n\\x8d\\xb8\\xb7d\\xe5r\\xfa\\xb5#FF\\xf8e\\x9a\\xda/\\xbd\\x8c7\\xbf\\xdd\\xd6\\x07\\x97\\xa5\\xad\\x9d\\xad-\\xed7\\x96\\x9d\\x17\\x9e\\xa4\\xadL\\x19\\x80\\xd0\\xe7\\x0b\\x05bA\\xd3%\\xe1\\x8b\\xeb\\\\\\xc4\\x92_\\xa5j\\xbf\\x81\\x0f\\x91ny2\\xd0\\x16\\xa8n:\\xd9wI\\xe7_\\x901\\x11K\\x06\\x0bVQ$x\\xc0\\x8d\\xad\\xa2\\xaf\\x19\\xe4\\x98\\x08\\xfb\\xda[\\x0b\\xa6\\xf30\\xb0\\x9c\\xd4{O\\xb9!Ox6\\xaaF\\xad\\x00\\x01\\x01\\x01\\x01\\x01\\x01\\x01$\\x00\\x00\\x00\\xa1\\x00\\x00\\x00\\xe2\\x00\\x00\\x00\\x00\\x00\\x00\\x00\\xf3\\x01\\x00\\x00\\xc8\\x04\\x00\\x009\\x05\\x00\\x002\\x06\\x00\\x00\\x1f\\x07\\x00\\x00ro4BrnX5Zms1fmgmp9Hypi0hCgPduMrclWUIq05OADb1eHAmezreXJI46rfXbELjszc67ztiIrrUJUtMlON1LsA7puHNgfKMOAvLUpTmZlNYac7GNXnwBwAAAAB=\\x00UqLSghWqzIY3WZfbVqvI/NH3zsibCQc59aY6wgDsa4SWrgzwNariy+RXqoUAAAAA\\x00k8UWrwAbmN9xl+JkwBxI3YAbWNsAHijNQBgQycAYkOlAGKDHgBywywAdgOfAHIDdgBww48AcGN3AGHjVQBnI2cAYwOHxlLpKMZbiSgAZEOMAHMDxABuA04CrnsnAG2jnABtgy9u3a0rAGyDdwByI4cAYmNUAHQjTQBpwx0AbIMmAG0jFAA6wZ8DYXuFAHZDJABnA1UAemOnAG2jJ/sv8oQAamOkAGTDbepsuzQAcCN03eMpMABxg6QAcYMkAGbDFwBhg1cAcqN0AAAAA\\x00ZQBuAGMAcwB2AGMAAAB0AGgAZQBiAGEAdAAAAG0AeQBkAGUAcwBrAHQAbwBwAHEAbwBzAAAAeABmAHMAcwB2AGMAYwBvAG4AAABmAGkAcgBlAGYAbwB4AAAAaQBuAGYAbwBwAGEAdABoAAAAdwBpAG4AdwBvAHIAZAAAAHMAdABlAGEAbQAAAHMAeQBuAGMAdABpAG0AZQAAAG4AbwB0AGUAcABhAGQAAABvAGMAbwBtAG0AAABvAG4AZQBuAG8AdABlAAAAbQBzAHAAdQBiAAAAdABoAHUAbgBkAGUAcgBiAGkAcgBkAAAAYQBnAG4AdABzAHYAYwAAAHMAcQBsAAAAZQB4AGMAZQBsAAAAcABvAHcAZQByAHAAbgB0AAAAbwB1AHQAbABvAG8AawAAAHcAbwByAGQAcABhAGQAAABkAGIAZQBuAGcANQAwAAAAaQBzAHEAbABwAGwAdQBzAHMAdgBjAAAAcwBxAGIAYwBvAHIAZQBzAGUAcgB2AGkAYwBlAAAAbwByAGEAYwBsAGUAAABvAGMAYQB1AHQAbwB1AHAAZABzAAAAZABiAHMAbgBtAHAAAABtAHMAYQBjAGMAZQBzAHMAAAB0AGIAaQByAGQAYwBvAG4AZgBpAGcAAABvAGMAcwBzAGQAAABtAHkAZABlAHMAawB0AG8AcABzAGUAcgB2AGkAYwBlAAAAdgBpAHMAaQBvAAAAAAA=\\x00bQBlAHAAbwBjAHMAAABtAGUAbQB0AGEAcwAAAHYAZQBlAGEAbQAAAHMAdgBjACQAAABiAGEAYwBrAHUAcAAAAHMAcQBsAAAAdgBzAHMAAAAAAM==\\x00aAB0AHQAcABzADoALwAvAHAAYQB5AG0AZQBuAHQAaABhAGMAawBzAC4AYwBvAG0AAABoAHQAdABwADoALwAvAHAAYQB5AG0AZQBuAHQAaABhAGMAawBzAC4AYwBvAG0AAABoAHQAdABwAHMAOgAvAC8AbQBvAGoAbwBiAGkAZABlAG4ALgBjAG8AbQAAAGgAdAB0AHAAOgAvAC8AbQBvAGoAbwBiAGkAZABlAG4ALgBjAG8AbQAAAAAA\\x00C2z82X8UNlVWpRL/7HSBasNxpndpCBUpB+MWdbNV7mcJdoNZrmMK1voS3Lk2O5sO2na/iU5tIQfKQi02QE9Dh9OlvvpEngo9fLXTAq/c2uI6qW3VzkoEAq0UF1RHCtt9IDp/O4g08nCcH8qSysq2lXQsFTHqy6RqIFgl32q4CxkS/UeWzJMJHm8QTBYHyd3md1dNUwakErEVTPab7iiF+3nuRDipYmcyuqrNf1AfOE9=\\x00Sky0+To0IX4FhV7fqVTTSqNR7lchKFYJV8MYVfB1oUdEVpl5v0MY9uoytJlzG9IDo1bzqQtNcyfqYmkWE28Op5CF6toMvmodP7ixIuz8isI0iS71hmpJIrc0ARhjSeNdbBo+G5oU4gygFdOy6ur3vTkMWBGj5edEZWVxv36fRDdT3RO2jrMUPgIwBDZP6Z7GJ3duWUWEXZFYbOy7pwjR3CHBehjkQn8SsIq7X3A/GG/gYQwGUwfyB6fzn5635c5tPI+3Xa6esX5WyfKStN7cECBmhNShOm3upTtQ3N4lWCEbnkVm4GTCuGJ271M69qDH8bLzQzKwhBUZ4leF32xQxiEgaTagxfBjIasUkkrurJIjsvkaCj1DTPyJBrRi3aLz2t6bKBKvSYJvonY7cCc0ikIvh92MJDEgql4siiYOad+hAzDpX3NFlhpsdCBL6HnYNV5bdqyjUytMBZ+9h17bFoLdJdWPTKHZbGw+rHmY0M/0+h5ERxLkaHpiTjB3FpaWM8FmlcH1RBs79y9pVh3EWkT/JSPa9i3smMnBAWTCjn3XZXX8YvrzCTNQTZZCxan1WOzFXyuUMyoWuyaFLgoQ7EyGUeD/sEwEeDAw3D3MgEYPpo8z6tC9bO1GaOcx9HbOkvuT27D1yq79WrA8YrsEN0S5QAqtxNIpvG8i7Ck8LXH4g9PO6w1CjtEgHAJVvojQoDTLvAFEgIc9MQj7A0T1eApGqwD2cVOkcWXFLHwO1ipabWZEZqw5Okm+a/YdnsADUWIsSLfqVBiqXKDoFDhYNYml+SpevZm16EIVMYCoMpQ/2g7L0Mx0QQk38aewGMOYVP9NwAGGSfWimMQ/62jR0YZr6nVYdFY7EtKFvQx5h1dMCwW3ZfO/R8NzSkJW3Cg8kLgxt4/T3/zAXGOTIlCpGpgGe3xUlB9VMeXXFt2t1ckcChtkKJcLxBreEAoayqg+eMgd3fWR1HYeUT+u7AOlpKUPW83bahOLICCKrJ0MpENc39M16b3LgPEvHHAnJ9q/a4xi+kshwmeQmUzGF0DuExrhNKOZP1M98avZM9aHJAvLatfP7gFEv2EdUaL/3iMxxKHZXvAeds4aaEwgUsX2uoB2nrxFdc68kQcQVL9t1k6/RJgdt0tzdcQz1LuqYCYr7l7OSsM79zeca0qjVSALI5QZJxPbgV5vYkni3PSTtuGSGo/UIgssYU5zsWa1xi3GcoLATKKM42LtWlQQO1UkAqr7LdjRQf50eunTJrippNIIwHeuauir8ZLZXj8jVY717EiNGlgm5Gz3ac7mmKYkNImRXSNMQ5ijvYGuaHVV+BhQy83h2vWGl8OtyXja1tsmroKSxk4ywXStW2mM/GrZFKO6kCcKQQbqBudqP4hCUF7apUoQW/o1oG4DJSFO474h07kidsLDIh8r0Sq9EcqvG36wZFWumpqTP5KWMcRqJQyArhC7HBlxc2lU3te24aF3Z8LzTWTgPdUPvsDXPmQvDJsUZMuaf5CcCNnEFUImcVggDSB7Mv8cBpNHIIjwoY3QTGcggwjon8qDIXSm/VjE5Sx81U+nlFkDNPUEtKqYXQFW2rDXhNXQ5CTAwBvdOWoBZGFivLMCfwaY4o0WUuY6n+dK5yp2w6/AV2m7oPy4PGpgBivZRB/qqtWRRxZD/rnSjx3/Ss6hQNlLUEVC2hCguYbi3nJI0q1hPAUHmUHpJ4HPLN3gW+ngi7ILDf8157T7cQW04koJqVXsej5vQtuEVk9USHz8KUsarnH23ryCzilkyYbqa4yCEGC7fMRndyDWEoIMHyXR1y2+5UoB78xuCEHx2iUEgWSz1mPUtn3KbcU/BrQGwrpNlbIu3f7FrPxZZPcCbrDeMEDECSeYmYT6l/alcA3hLFkvtwoF6Y4Ok8kEdC1YGpXJvsFy2y9fxBGMwYKQhye9NK2cjJxrZmjXSoMxJ+NX7De/U3AzPbo0YfezU4IWTgkDfJmfl0Opyh7KZb+irlBi4p6d366PekDqJO+2ttPXQS03IL4C9RoXRRMHxUex/PHzcAMjWbGfWqRURrZaaaZz66rk61Wz\\x00'"
      ]
     },
     "execution_count": 6,
     "metadata": {},
     "output_type": "execute_result"
    }
   ],
   "source": [
    "def gen_key_stream(seed, key_length):\n",
    "    fixed = seed\n",
    "    keystream = b''\n",
    "    for i in range(0,key_length-1,4):\n",
    "        seed = (0x8088405 * seed + 1) & 0xffffffff\n",
    "        key_dw = ((seed * fixed) >> 32) & 0xffffffff\n",
    "        keystream += struct.pack('<I',key_dw)\n",
    "    return keystream\n",
    "\n",
    "\n",
    "def decrypt(enc_data, data_size, seed):\n",
    "    out = []\n",
    "    keystream = gen_key_stream(seed, data_size)\n",
    "    for i in range(data_size):\n",
    "        out.append(enc_data[i] ^ keystream[i])\n",
    "    return bytes(out)\n",
    "\n",
    "ap_data = decrypt(enc_data, data_size, seed)\n",
    "ptxt_data = aplib_decompress(ap_data)\n",
    "ptxt_data"
   ]
  },
  {
   "cell_type": "code",
   "execution_count": 7,
   "id": "14feffd4-410b-418f-8f21-7e8f9b7c8afc",
   "metadata": {},
   "outputs": [],
   "source": [
    "import base64\n",
    "ptr = 0\n",
    "rsa_data = ptxt_data[ptr:128]\n",
    "ptr += 128\n",
    "affiliate_id_data = ptxt_data[ptr:ptr+32]\n",
    "ptr+= 32\n",
    "config_flags = ptxt_data[ptr:ptr+22]\n",
    "ptr+= 8\n",
    "config_values_offset = struct.unpack('<I',ptxt_data[ptr:ptr+4])[0]\n",
    "config_values_buffer = ptxt_data[ptr+config_values_offset:]\n",
    "config_values = []\n",
    "for c in config_values_buffer.split(b'\\x00'):\n",
    "    config_values.append(base64.b64decode(c))"
   ]
  },
  {
   "cell_type": "code",
   "execution_count": 8,
   "id": "cf704853-dbfd-426f-a75e-2cbfdd09cd1d",
   "metadata": {},
   "outputs": [
    {
     "name": "stdout",
     "output_type": "stream",
     "text": [
      "RSA: b'\\x87\\x19\\xa80\\xf4\\xba\\x94\\x94\\x92\\x91X+fT\\xf9l\\x96\\xd9\\xa0\\xf4A\\x9fR\\xf3g\\xcf.\\x19\\xb9\\xc9Z\\x9bp\\x91\\xcb\\xef\\xaf\\xbeZ\\xe3\\x9d\\xae(X\\x94Y\\n\\x8d\\xb8\\xb7d\\xe5r\\xfa\\xb5#FF\\xf8e\\x9a\\xda/\\xbd\\x8c7\\xbf\\xdd\\xd6\\x07\\x97\\xa5\\xad\\x9d\\xad-\\xed7\\x96\\x9d\\x17\\x9e\\xa4\\xadL\\x19\\x80\\xd0\\xe7\\x0b\\x05bA\\xd3%\\xe1\\x8b\\xeb\\\\\\xc4\\x92_\\xa5j\\xbf\\x81\\x0f\\x91ny2\\xd0\\x16\\xa8n:\\xd9wI\\xe7_\\x901\\x11K\\x06\\x0bV'\n",
      "\n",
      "Affiliate ID: b'Q$x\\xc0\\x8d\\xad\\xa2\\xaf\\x19\\xe4\\x98\\x08\\xfb\\xda[\\x0b\\xa6\\xf30\\xb0\\x9c\\xd4{O\\xb9!Ox6\\xaaF\\xad'\n",
      "\n",
      "Flags: b'000101010101010124000000a1000000e20000000000'\n",
      "\n",
      "b'\\xc4\\xe2\\x95wo\\xed9>\\x10\\xdb\\x16\\xd9.\\xa5\\x01\\xcc\\xaeP\\xc4t\\xdc\\xb0\\xbc\\xf5\\xe2\\x860\\xde\\x9e\\x1b\\x81Q\\x91\\x0e\\xc9\\x7f\\xe4Y\\xe6\\x8aX*~\\x0e\\x84W\\xb0\\xed\\x1aA\\xe9f\\x10\\x0fq\\xbd\\x1eg\\x02z\\xa7\\xac[\\xa9z\\x9el\\x1b\\xe1\\x1f\\xb8\\xb1,\\xbepPX:\\xcc\\xb1L\\xc0\\xc0\\x13\\x943\\x99\\x05\\x97\\x14CT'\n",
      "\n",
      "b'8\\xceF[\\x0f\\xbe\\x93\\xd3\\x12\\xfc\\xe9$\\xdf\\xdf;\\x96R\\x86\\xbf\\x9a\\x01q\\x10\\x82E\\x02\\xb7\\xd0\\xb9\\xea\\xe3\\xf2\\xd8\\xb5\\xa9\\xaa\\xc9\\xda\\x1d.E><S;\\xf2\\x0e'\n",
      "\n",
      "b\"\\xf9\\xa9\\x82v\\x1a\\x0f\\xc7\\x8aT2\\x9c\\x9bIh\\xbb\\xb7\\x03j\\x96\\xac\\x01\\x16^\\xe47\\xfb(\\xbc\\x10M\\x11\\x8e$n\\x19\\x9e\\x1f\\x7f\\x88\\x1d\\xca\\x0f\\x14^\\x93'r\\xd3)j\\xe3j\\xebqK\\xda\\nZ1\\xe3sV\\xe6^z\\xbd\\n\\x1b\\xdd\\n\\xf0w%#YH\\xcc\\xc5\\xba\\x01\\x14\\xb5\\xce$\\xa1Q\\xe9\\xd1\\x17\\xbf\\xdd\\x9d\\xe2\\x11\\xc0\\x9aL!~\\xf0a\\x83\\xa9:m\\x04\\xd3O\\n\\xd6_t\\xd04\\xe0\\xe4\\x83\\xd6\\xc2\\xb9\\tB&\\x18^\\xa3Y\\xd0\\xf3\\xe6{S\\xa3\\x9d\\xcby\\xef\\xc8z\\xf7/\\xd4./\\x07N\\xa3\\x86%\\xba\\xe5X\\xb8W\\xa4Ry\\xe3\\rZ\\x1c\\xf4\\xbd\\xd1\\xc4{o\\xe9\\xea1\\xc9\\xb2P\\x030\\x92\\xab9\\xe6js;\\xb2\\xce\\x87\\xcf\\xdfw\\xba\\xf6^\\x88\\xdc\\xb7\\xf7\\xa8N\\xa23\\x83v\\xe9\\x8e\\xb2\"\n",
      "\n",
      "b'encsvc | thebat | mydesktopqos | xfssvccon | firefox | infopath | winword | steam | synctime | notepad | ocomm | onenote | mspub | thunderbird | agntsvc | sql | excel | powerpnt | outlook | wordpad | dbeng50 | isqlplussvc | sqbcoreservice | oracle | ocautoupds | dbsnmp | msaccess | tbirdconfig | ocssd | mydesktopservice | visio |  | '\n",
      "\n",
      "b'mepocs | memtas | veeam | svc$ | backup | sql | vss |  | '\n",
      "\n",
      "b'https://paymenthacks.com | http://paymenthacks.com | https://mojobiden.com | http://mojobiden.com |  | '\n",
      "\n",
      "b'aheisler@hhcp.com:120Heisler | dsmith@hhcp.com:Tesla2019 | administrator@hhcp.com:iteam8** |  | '\n",
      "\n",
      "b\"      ~+                                       \\r\\n               *       +\\r\\n         '     BLACK        |\\r\\n     ()    .-.,='``'=.    - o -         \\r\\n           '=/_       \\\\     |           \\r\\n        *   |  '=._    |                \\r\\n             \\\\     `=./`,        '    \\r\\n          .   '=.__.=' `='      *\\r\\n +             Matter        +\\r\\n      O      *        '       .\\r\\n\\r\\n>>> What happens?\\r\\n   Your network is encrypted, and currently not operational. We have downloaded 1TB from your fileserver.\\r\\n   We need only money, after payment we will give you a decryptor for the entire network and you will restore all the data.\\r\\n\\r\\n>>> What guarantees? \\r\\n   We are not a politically motivated group and we do not need anything other than your money. \\r\\n   If you pay, we will provide you the programs for decryption and we will delete your data. \\r\\n   If we do not give you decrypters or we do not delete your data, no one will pay us in the future, this does not comply with our goals. \\r\\n   We always keep our promises.\\r\\n\\r\\n>> Data leak includes\\r\\n1. Full emloyeers personal data\\r\\n2. Network information\\r\\n3. Schemes of buildings, active project information, architect details and contracts, \\r\\n4. Finance info\\r\\n\\r\\n\\r\\n>>> How to contact with us? \\r\\n   1. Download and install TOR Browser (https://www.torproject.org/).\\r\\n   2. Open http://supp24yy6a66hwszu2piygicgwzdtbwftb76htfj7vnip3getgqnzxid.onion/7NT6LXKC1XQHW5039BLOV.\\r\\n  \\r\\n>>> Warning! Recovery recommendations.  \\r\\n   We strongly recommend you to do not MODIFY or REPAIR your files, that will damage them.\"\n",
      "\n",
      "b''\n",
      "\n"
     ]
    }
   ],
   "source": [
    "def is_ascii(s):\n",
    "    return all(c < 128 for c in s)\n",
    "\n",
    "print(\"RSA: %r\\n\" % rsa_data)\n",
    "print(\"Affiliate ID: %r\\n\" % affiliate_id_data)\n",
    "print(\"Flags: %s\\n\" % tohex(config_flags))\n",
    "for c in config_values:\n",
    "    if not is_ascii(c):\n",
    "        c = new_data =  decrypt(c,len(c), seed)\n",
    "    print(\"%s\\n\" % b' | '.join([s.replace(b'\\x00',b'') for s in c.split(b'\\x00\\x00')]))\n",
    "    "
   ]
  },
  {
   "cell_type": "code",
   "execution_count": null,
   "id": "9edbd4fa-ac3d-4dcf-95be-3a9dfed9b596",
   "metadata": {},
   "outputs": [],
   "source": []
  }
 ],
 "metadata": {
  "kernelspec": {
   "display_name": "Python 3",
   "language": "python",
   "name": "python3"
  },
  "language_info": {
   "codemirror_mode": {
    "name": "ipython",
    "version": 3
   },
   "file_extension": ".py",
   "mimetype": "text/x-python",
   "name": "python",
   "nbconvert_exporter": "python",
   "pygments_lexer": "ipython3",
   "version": "3.9.5"
  }
 },
 "nbformat": 4,
 "nbformat_minor": 5
}
