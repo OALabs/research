{
 "cells": [
  {
   "cell_type": "markdown",
   "id": "3320a762-0020-4354-acfe-81ee7d1bc98d",
   "metadata": {},
   "source": [
    "# Rhadamanthys\n",
    "> What is this thing are we just looking at a downloader\n",
    "\n",
    "- toc: true \n",
    "- badges: true\n",
    "- categories: [rhadamanthys,config,IDA,shifted pointers,PEB,_LIST_ENTRY,_LDR_DATA_TABLE_ENTRY]\n"
   ]
  },
  {
   "cell_type": "markdown",
   "id": "fb7ae74b-8476-47de-85c7-ee37f1748acf",
   "metadata": {},
   "source": [
    "## Overview\n",
    "\n",
    "### Sample\n",
    "\n",
    "`dca16a0e7bdc4968f1988c2d38db133a0e742edf702c923b4f4a3c2f3bdaacf5` [Malware Bazaar](https://bazaar.abuse.ch/sample/dca16a0e7bdc4968f1988c2d38db133a0e742edf702c923b4f4a3c2f3bdaacf5/)\n",
    "\n",
    "### References\n",
    "- [Triage Run](https://tria.ge/221226-1ep5eadg74/behavioral2#report)\n",
    "- [Dancing With Shellcodes: Analyzing Rhadamanthys Stealer](https://elis531989.medium.com/dancing-with-shellcodes-analyzing-rhadamanthys-stealer-3c4986966a88)\n",
    "  - Downloader `af04ee03d69a7962fa5350d0df00fafc4ae85a07dff32f99f0d8d63900a47466`\n",
    " "
   ]
  },
  {
   "cell_type": "markdown",
   "id": "54dbe6b9-8f60-4827-aea7-0fa73da27f42",
   "metadata": {},
   "source": [
    "## Stage 1\n",
    "The first stage is a C++ loader that is used to decrypt, load, and execute the 2nd stage shellcode. The program flow of the loader is difficult to follow due to the C++ and some nested structures and callbacks. It is not clear if this was intentional or note. \n",
    "\n",
    "The shellcode appears to be located in what appears to be a giant Base64 encoded string (not confirmed). This first stage may have alos implmented some PAGE_GUARD exception handling progrem flow redirection for anti-analysis (not confrimed). Dispite this it is trivial to execute the stage until it jumps to the decrypted loaded shellcode (as long as the PAGE_GUARD exceptions are passed to the process)."
   ]
  },
  {
   "cell_type": "markdown",
   "id": "707ab2f0-c228-42e9-8998-56736aa48c52",
   "metadata": {},
   "source": [
    "## Stage 2\n",
    "\n",
    "For analysis we just dumped the entire memory region that contained the second stage shellcode. The region is based at `0x00760000` but the shellcode entry is at `0x00780A68`. The memory region dump is available on Malshare [`d4f37699c4b283418d1c73416436826e95858cf07f3c29e6af76e91db98e0fc0`](https://malshare.com/sample.php?action=detail&hash=d4f37699c4b283418d1c73416436826e95858cf07f3c29e6af76e91db98e0fc0).\n",
    "\n",
    "The first task of the shellcode is to walk the PEB to locate Kernel32."
   ]
  },
  {
   "cell_type": "markdown",
   "id": "f0236a2c-36a6-4c70-a07e-957ec735d358",
   "metadata": {},
   "source": [
    "### PEB Walk _LDR_DATA_TABLE_ENTRY and Shifted Pointers in IDA\n",
    "\n",
    "The process of \"walking the PEB\" to access the modules loaded in a process as been a shellcode meme since the beginning of shellcode. It's everywhere, and we all mostly understand how it works. \n",
    "\n",
    "The issue comes when we try to represent this cleanly in IDA's pseudocode view... accessing a `_LDR_DATA_TABLE_ENTRY` via its `LIST_ENTRY` in the `_PEB_LDR_DATA` structure creates a very messy IDB. Instead of the `_LDR_DATA_TABLE_ENTRY` members we see unhelpful offsets relative to the Flink and Blink member of the `LIST_ENTRY`.\n",
    "\n",
    "![](https://i.imgur.com/Ta8hGnm.png)\n",
    "\n",
    "The reason this happens is that the `InMemoryOrderModuleList` is defined as a `LIST_ENTRY` in the `_PEB_LDR_DATA`. The `LIST_ENTRY` struct simply describes a linked list as follows.\n",
    "\n",
    "```C\n",
    "typedef struct _LIST_ENTRY {\n",
    "   struct _LIST_ENTRY *Flink;\n",
    "   struct _LIST_ENTRY *Blink;\n",
    "} \n",
    "```\n",
    "\n",
    "The problem comes from where that struct is actually located in the `_LDR_DATA_TABLE_ENTRY`...\n",
    "\n",
    "```C\n",
    "typedef struct _LDR_DATA_TABLE_ENTRY {\n",
    "    PVOID Reserved1[2];\n",
    "    LIST_ENTRY InMemoryOrderLinks; //<---- Offset into the struct!\n",
    "    PVOID Reserved2[2];\n",
    "    PVOID DllBase;\n",
    "    PVOID EntryPoint;\n",
    "    PVOID Reserved3;\n",
    "    UNICODE_STRING FullDllName;\n",
    "    BYTE Reserved4[8];\n",
    "    PVOID Reserved5[3];\n",
    "    union {\n",
    "        ULONG CheckSum;\n",
    "        PVOID Reserved6;\n",
    "    };\n",
    "    ULONG TimeDateStamp;\n",
    "}\n",
    "```\n",
    "\n",
    "Because the `LIST_ENTRY` is offset into the `_LDR_DATA_TABLE_ENTRY` it means that when we attempt to cast a pointer to a `LIST_ENTRY` as a `_LDR_DATA_TABLE_ENTRY` we are off by some amount (in this case 2 * PVOID = 8 bytes). The following diagram attempts to explain the issue.\n",
    "\n",
    "![](https://i.imgur.com/1G44FsV.png)\n",
    "\n",
    "One hack might be to create our own custom struct that starts at the offset, but this would be madness when dealing with more than a few types... instead we have... **shifted pointers**!\n",
    "\n",
    "#### IDA Shifted Pointers\n",
    "IDA has a simple concept (with some insane syntax) to deal with this issue called a [shifted pointer](https://www.hex-rays.com/products/ida/support/idadoc/1695.shtml). When assigning a type to `LIST_ENTRY` the shifted pointer syntax can be used to tell IDA that it is actually a pointer inside a larger struct with an offset. \n",
    "\n",
    "```C\n",
    "_LIST_ENTRY *__shifted(_LDR_DATA_TABLE_ENTRY,8) pListEntry\n",
    "```\n",
    "\n",
    "![](https://i.imgur.com/hvVJkP1.png)\n",
    "\n",
    "#### References \n",
    "- PE Header notes [yates](https://web.archive.org/web/20181222200541/http://www.woodmann.com/yates/PE_Information/PE_Notes.pdf)\n",
    "- Geoff Chappell [LDR_DATA_TABLE_ENTRY](https://www.geoffchappell.com/studies/windows/km/ntoskrnl/inc/api/ntldr/ldr_data_table_entry.htm)\n",
    "- [Understanding LIST_ENTRY Lists and Its Importance in Operating Systems] (https://www.codeproject.com/Articles/800404/Understanding-LIST-ENTRY-Lists-and-Its-Importance)\n",
    "- MSDN [PEB_LDR_DATA](https://learn.microsoft.com/en-us/windows/win32/api/winternl/ns-winternl-peb_ldr_data)\n",
    "- IDA Tricks [CONTAINING_RECORD macro](https://www.hex-rays.com/products/decompiler/manual/tricks.shtml#03)\n",
    "- IDA docs [Shifted Pointers](https://www.hex-rays.com/products/ida/support/idadoc/1695.shtml)\n",
    "\n",
    "#### Thanks \n",
    "- [@yates82](https://twitter.com/yates82)\n",
    "- [@printup](https://github.com/anthonyprintup)\n",
    "- [@dodo](https://twitter.com/dodo_sec)\n",
    "\n",
    "Thanks to everyone who helped me figure this out for once and for all! \n",
    "\n"
   ]
  },
  {
   "cell_type": "markdown",
   "id": "9662b8ab-e11f-4a1a-bc1d-ff699a2dc1f3",
   "metadata": {},
   "source": [
    "## Analysis\n",
    "\n",
    "This stage only serves one purpose; unpack and execute the final stage. The unpacking algorithm is currently unknown!\n",
    "\n",
    "\n",
    "### Thanks Mishap\n",
    "[Full analysis of Stage 2 (with unpacker)](https://gist.github.com/oopsmishap/91f41810e41cecec7d7d3760bbc4ba67)\n",
    "\n",
    "## Emulation Attempt\n",
    "\n",
    "Instead of analyzing this intermediate stage we are going to try and emulate passed it."
   ]
  },
  {
   "cell_type": "code",
   "execution_count": 34,
   "id": "72814262-ce96-46f4-99c7-223b4fcc4e78",
   "metadata": {},
   "outputs": [
    {
     "name": "stdout",
     "output_type": "stream",
     "text": [
      "0x78dae0\n"
     ]
    }
   ],
   "source": [
    "from dumpulator import Dumpulator\n",
    "\n",
    "dp = Dumpulator(\"/tmp/stage2.dmp\", quiet=True)\n",
    "\n",
    "shellcode_end = 0x0078DE45\n",
    "\n",
    "shellcode_start = dp.regs.eip\n",
    "print(hex(shellcode_start))"
   ]
  },
  {
   "cell_type": "code",
   "execution_count": 35,
   "id": "aa1d0c36-d877-4cec-ba13-62c4678ca2a1",
   "metadata": {},
   "outputs": [
    {
     "name": "stdout",
     "output_type": "stream",
     "text": [
      "got here\n",
      "commit(0x7aa000[0x1d000], PAGE_READWRITE)\n",
      "got here\n",
      "commit(0x730000[0x1d000], PAGE_READWRITE)\n"
     ]
    }
   ],
   "source": [
    "dp.start(shellcode_start, end=shellcode_end)"
   ]
  },
  {
   "cell_type": "code",
   "execution_count": 39,
   "id": "cd312104-a436-460b-9704-a77bb49c1fba",
   "metadata": {},
   "outputs": [
    {
     "name": "stdout",
     "output_type": "stream",
     "text": [
      "0x73607f\n"
     ]
    }
   ],
   "source": [
    "stage3_start = dp.regs.ebx\n",
    "\n",
    "print(hex(stage3_start))"
   ]
  },
  {
   "cell_type": "code",
   "execution_count": 55,
   "id": "1941c0d4-0d77-4114-bfa6-8e752d699f63",
   "metadata": {},
   "outputs": [
    {
     "name": "stdout",
     "output_type": "stream",
     "text": [
      "558bec5151568b750856e8cbfaffff85c0597454e886fcffff85c0744b8d4df85150e84600000085c0743d68bb6100008d45f868b06100005056e851fbffff83c41085c0752256e8f2fcffff56e8fa000000c7042403800000ff15982a0100ff750ce89d\n",
      "118784\n",
      "7536640\n",
      "Shellcode entrypoint: 0x607f\n",
      "Shellcode base: 0x730000\n"
     ]
    },
    {
     "data": {
      "text/plain": [
       "118784"
      ]
     },
     "execution_count": 55,
     "metadata": {},
     "output_type": "execute_result"
    }
   ],
   "source": [
    "print(dp.read(0x73607f,100).hex())\n",
    "\n",
    "shell_page = dp.memory.find_region(stage3_start)\n",
    "print(shell_page.size)\n",
    "print(shell_page.start)\n",
    "print(f\"Shellcode entrypoint: {hex(stage3_start - shell_page.start)}\")\n",
    "print(f\"Shellcode base: {hex(shell_page.start)}\")\n",
    "shell_page_data = dp.read(shell_page.start, shell_page.size)\n",
    "open('/tmp/dump_stage3.bin','wb').write(shell_page_data)"
   ]
  },
  {
   "cell_type": "markdown",
   "id": "648a67b5-74c8-4b3e-ad5e-e9f65d662177",
   "metadata": {},
   "source": [
    "We don't yet have a way to add exception hooks to dumpulator so if we want to do this without knowing the address of the end of **stage 2** then we need to modify the dumpulator source code. "
   ]
  },
  {
   "cell_type": "code",
   "execution_count": null,
   "id": "ea7a1ccd-c53a-4cd6-b169-fac4fd7d0264",
   "metadata": {},
   "outputs": [],
   "source": [
    "\n"
   ]
  },
  {
   "cell_type": "code",
   "execution_count": null,
   "id": "f6e22daa-59da-41fc-a0c1-bbee2efb4438",
   "metadata": {},
   "outputs": [],
   "source": []
  }
 ],
 "metadata": {
  "kernelspec": {
   "display_name": "Python 3",
   "language": "python",
   "name": "python3"
  },
  "language_info": {
   "codemirror_mode": {
    "name": "ipython",
    "version": 3
   },
   "file_extension": ".py",
   "mimetype": "text/x-python",
   "name": "python",
   "nbconvert_exporter": "python",
   "pygments_lexer": "ipython3",
   "version": "3.9.5"
  }
 },
 "nbformat": 4,
 "nbformat_minor": 5
}
