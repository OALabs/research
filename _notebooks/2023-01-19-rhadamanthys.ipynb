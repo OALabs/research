{
 "cells": [
  {
   "cell_type": "markdown",
   "id": "3320a762-0020-4354-acfe-81ee7d1bc98d",
   "metadata": {},
   "source": [
    "# Rhadamanthys\n",
    "> What is this thing are we just looking at a downloader\n",
    "\n",
    "- toc: true \n",
    "- badges: true\n",
    "- categories: [rhadamanthys,config,IDA,shifted pointers,PEB,_LIST_ENTRY,_LDR_DATA_TABLE_ENTRY]\n"
   ]
  },
  {
   "cell_type": "markdown",
   "id": "fb7ae74b-8476-47de-85c7-ee37f1748acf",
   "metadata": {},
   "source": [
    "## Overview\n",
    "\n",
    "### Sample\n",
    "\n",
    "`dca16a0e7bdc4968f1988c2d38db133a0e742edf702c923b4f4a3c2f3bdaacf5` [Malware Bazaar](https://bazaar.abuse.ch/sample/dca16a0e7bdc4968f1988c2d38db133a0e742edf702c923b4f4a3c2f3bdaacf5/)\n",
    "\n",
    "This malware name is crazy, we will refer to it as \"ramen noodls\" for simplicity.\n",
    "\n",
    "### References\n",
    "- [Triage Run](https://tria.ge/221226-1ep5eadg74/behavioral2#report)\n",
    "- [Dancing With Shellcodes: Analyzing Rhadamanthys Stealer](https://elis531989.medium.com/dancing-with-shellcodes-analyzing-rhadamanthys-stealer-3c4986966a88)\n",
    "  - Downloader `af04ee03d69a7962fa5350d0df00fafc4ae85a07dff32f99f0d8d63900a47466`\n",
    " "
   ]
  },
  {
   "cell_type": "markdown",
   "id": "54dbe6b9-8f60-4827-aea7-0fa73da27f42",
   "metadata": {},
   "source": [
    "## Stage 1\n",
    "The first stage is a C++ loader that is used to decrypt, load, and execute the 2nd stage shellcode. The program flow of the loader is difficult to follow due to the C++ and some nested structures and callbacks. It is not clear if this was intentional or note. \n",
    "\n",
    "The shellcode appears to be located in what appears to be a giant Base64 encoded string (not confirmed). This first stage may have alos implmented some PAGE_GUARD exception handling progrem flow redirection for anti-analysis (not confrimed). Dispite this it is trivial to execute the stage until it jumps to the decrypted loaded shellcode (as long as the PAGE_GUARD exceptions are passed to the process)."
   ]
  },
  {
   "cell_type": "markdown",
   "id": "707ab2f0-c228-42e9-8998-56736aa48c52",
   "metadata": {},
   "source": [
    "## Stage 2\n",
    "\n",
    "For analysis we just dumped the entire memory region that contained the second stage shellcode. The region is based at `0x00760000` but the shellcode entry is at `0x00780A68`. The memory region dump is available on Malshare [`d4f37699c4b283418d1c73416436826e95858cf07f3c29e6af76e91db98e0fc0`](https://malshare.com/sample.php?action=detail&hash=d4f37699c4b283418d1c73416436826e95858cf07f3c29e6af76e91db98e0fc0).\n",
    "\n",
    "The first task of the shellcode is to walk the PEB to locate Kernel32."
   ]
  },
  {
   "cell_type": "markdown",
   "id": "f0236a2c-36a6-4c70-a07e-957ec735d358",
   "metadata": {},
   "source": [
    "### PEB Walk _LDR_DATA_TABLE_ENTRY and Shifted Pointers in IDA\n",
    "\n",
    "The process of \"walking the PEB\" to access the modules loaded in a process as been a shellcode meme since the beginning of shellcode. It's everywhere, and we all mostly understand how it works. \n",
    "\n",
    "The issue comes when we try to represent this cleanly in IDA's pseudocode view... accessing a `_LDR_DATA_TABLE_ENTRY` via its `LIST_ENTRY` in the `_PEB_LDR_DATA` structure creates a very messy IDB. Instead of the `_LDR_DATA_TABLE_ENTRY` members we see unhelpful offsets relative to the Flink and Blink member of the `LIST_ENTRY`.\n",
    "\n",
    "![](https://i.imgur.com/Ta8hGnm.png)\n",
    "\n",
    "The reason this happens is that the `InMemoryOrderModuleList` is defined as a `LIST_ENTRY` in the `_PEB_LDR_DATA`. The `LIST_ENTRY` struct simply describes a linked list as follows.\n",
    "\n",
    "```C\n",
    "typedef struct _LIST_ENTRY {\n",
    "   struct _LIST_ENTRY *Flink;\n",
    "   struct _LIST_ENTRY *Blink;\n",
    "} \n",
    "```\n",
    "\n",
    "The problem comes from where that struct is actually located in the `_LDR_DATA_TABLE_ENTRY`...\n",
    "\n",
    "```C\n",
    "typedef struct _LDR_DATA_TABLE_ENTRY {\n",
    "    PVOID Reserved1[2];\n",
    "    LIST_ENTRY InMemoryOrderLinks; //<---- Offset into the struct!\n",
    "    PVOID Reserved2[2];\n",
    "    PVOID DllBase;\n",
    "    PVOID EntryPoint;\n",
    "    PVOID Reserved3;\n",
    "    UNICODE_STRING FullDllName;\n",
    "    BYTE Reserved4[8];\n",
    "    PVOID Reserved5[3];\n",
    "    union {\n",
    "        ULONG CheckSum;\n",
    "        PVOID Reserved6;\n",
    "    };\n",
    "    ULONG TimeDateStamp;\n",
    "}\n",
    "```\n",
    "\n",
    "Because the `LIST_ENTRY` is offset into the `_LDR_DATA_TABLE_ENTRY` it means that when we attempt to cast a pointer to a `LIST_ENTRY` as a `_LDR_DATA_TABLE_ENTRY` we are off by some amount (in this case 2 * PVOID = 8 bytes). The following diagram attempts to explain the issue.\n",
    "\n",
    "![](https://i.imgur.com/1G44FsV.png)\n",
    "\n",
    "One hack might be to create our own custom struct that starts at the offset, but this would be madness when dealing with more than a few types... instead we have... **shifted pointers**!\n",
    "\n",
    "#### IDA Shifted Pointers\n",
    "IDA has a simple concept (with some insane syntax) to deal with this issue called a [shifted pointer](https://www.hex-rays.com/products/ida/support/idadoc/1695.shtml). When assigning a type to `LIST_ENTRY` the shifted pointer syntax can be used to tell IDA that it is actually a pointer inside a larger struct with an offset. \n",
    "\n",
    "```C\n",
    "_LIST_ENTRY *__shifted(_LDR_DATA_TABLE_ENTRY,8) pListEntry\n",
    "```\n",
    "\n",
    "![](https://i.imgur.com/hvVJkP1.png)\n",
    "\n",
    "#### References \n",
    "- PE Header notes [yates](https://web.archive.org/web/20181222200541/http://www.woodmann.com/yates/PE_Information/PE_Notes.pdf)\n",
    "- Geoff Chappell [LDR_DATA_TABLE_ENTRY](https://www.geoffchappell.com/studies/windows/km/ntoskrnl/inc/api/ntldr/ldr_data_table_entry.htm)\n",
    "- [Understanding LIST_ENTRY Lists and Its Importance in Operating Systems] (https://www.codeproject.com/Articles/800404/Understanding-LIST-ENTRY-Lists-and-Its-Importance)\n",
    "- MSDN [PEB_LDR_DATA](https://learn.microsoft.com/en-us/windows/win32/api/winternl/ns-winternl-peb_ldr_data)\n",
    "- IDA Tricks [CONTAINING_RECORD macro](https://www.hex-rays.com/products/decompiler/manual/tricks.shtml#03)\n",
    "- IDA docs [Shifted Pointers](https://www.hex-rays.com/products/ida/support/idadoc/1695.shtml)\n",
    "\n",
    "#### Thanks \n",
    "- [@yates82](https://twitter.com/yates82)\n",
    "- [@printup](https://github.com/anthonyprintup)\n",
    "- [@dodo](https://twitter.com/dodo_sec)\n",
    "\n",
    "Thanks to everyone who helped me figure this out for once and for all! \n",
    "\n"
   ]
  },
  {
   "cell_type": "markdown",
   "id": "9662b8ab-e11f-4a1a-bc1d-ff699a2dc1f3",
   "metadata": {},
   "source": [
    "## Analysis\n",
    "\n",
    "This stage only serves one purpose; unpack and execute the final stage. The unpacking algorithm is currently unknown!\n",
    "\n",
    "\n",
    "### Thanks Mishap\n",
    "[Full analysis of Stage 2 (with unpacker)](https://gist.github.com/oopsmishap/91f41810e41cecec7d7d3760bbc4ba67)\n",
    "\n",
    "## Emulation Attempt\n",
    "\n",
    "Instead of analyzing this intermediate stage we are going to try and emulate passed it."
   ]
  },
  {
   "cell_type": "code",
   "execution_count": 35,
   "id": "72814262-ce96-46f4-99c7-223b4fcc4e78",
   "metadata": {},
   "outputs": [
    {
     "name": "stdout",
     "output_type": "stream",
     "text": [
      "0x82cc90\n"
     ]
    }
   ],
   "source": [
    "from dumpulator import Dumpulator\n",
    "\n",
    "dp = Dumpulator(\"/tmp/stage2.dmp\", quiet=True)\n",
    "shellcode_start = dp.regs.eip\n",
    "\n",
    "print(hex(shellcode_start))\n",
    "\n",
    "\n",
    "shell_base = 0x00810000\n",
    "shell_end = 0x0082CFF5"
   ]
  },
  {
   "cell_type": "code",
   "execution_count": 36,
   "id": "aa1d0c36-d877-4cec-ba13-62c4678ca2a1",
   "metadata": {},
   "outputs": [
    {
     "name": "stdout",
     "output_type": "stream",
     "text": [
      "commit(0x84a000[0x1d000], PAGE_READWRITE)\n",
      "commit(0x21d0000[0x1d000], PAGE_EXECUTE_READWRITE)\n"
     ]
    }
   ],
   "source": [
    "dp.start(shellcode_start, end=shell_end)"
   ]
  },
  {
   "cell_type": "code",
   "execution_count": 37,
   "id": "cd312104-a436-460b-9704-a77bb49c1fba",
   "metadata": {},
   "outputs": [
    {
     "name": "stdout",
     "output_type": "stream",
     "text": [
      "0x21d607f\n"
     ]
    }
   ],
   "source": [
    "stage3_start = dp.regs.ebx\n",
    "\n",
    "print(hex(stage3_start))"
   ]
  },
  {
   "cell_type": "code",
   "execution_count": 38,
   "id": "1941c0d4-0d77-4114-bfa6-8e752d699f63",
   "metadata": {},
   "outputs": [
    {
     "name": "stdout",
     "output_type": "stream",
     "text": [
      "118784\n",
      "35454976\n",
      "Shellcode entrypoint: 0x607f\n",
      "Shellcode base: 0x21d0000\n"
     ]
    },
    {
     "data": {
      "text/plain": [
       "118784"
      ]
     },
     "execution_count": 38,
     "metadata": {},
     "output_type": "execute_result"
    }
   ],
   "source": [
    "shell_page = dp.memory.find_region(stage3_start)\n",
    "print(shell_page.size)\n",
    "print(shell_page.start)\n",
    "print(f\"Shellcode entrypoint: {hex(stage3_start - shell_page.start)}\")\n",
    "print(f\"Shellcode base: {hex(shell_page.start)}\")\n",
    "shell_page_data = dp.read(shell_page.start, shell_page.size)\n",
    "open('/tmp/dump_stage3.bin','wb').write(shell_page_data)"
   ]
  },
  {
   "cell_type": "markdown",
   "id": "648a67b5-74c8-4b3e-ad5e-e9f65d662177",
   "metadata": {},
   "source": [
    "We don't yet have a way to add exception hooks to dumpulator so if we want to do this without knowing the address of the end of **stage 2** then we need to modify the dumpulator source code. "
   ]
  },
  {
   "cell_type": "code",
   "execution_count": 39,
   "id": "ea7a1ccd-c53a-4cd6-b169-fac4fd7d0264",
   "metadata": {},
   "outputs": [
    {
     "name": "stdout",
     "output_type": "stream",
     "text": [
      "0x21d0000\n",
      "0x19fefc\n"
     ]
    }
   ],
   "source": [
    "print(hex(dp.read_long(dp.regs.esp)))\n",
    "print(hex(dp.read_long(dp.regs.esp-4)))"
   ]
  },
  {
   "cell_type": "code",
   "execution_count": 40,
   "id": "f6e22daa-59da-41fc-a0c1-bbee2efb4438",
   "metadata": {},
   "outputs": [
    {
     "data": {
      "text/plain": [
       "MemoryRegion(0x1a0000, 0x4000, PAGE_READONLY, MemoryType.MEM_MAPPED, None)"
      ]
     },
     "execution_count": 40,
     "metadata": {},
     "output_type": "execute_result"
    }
   ],
   "source": [
    "dp.memory.find_region(0x19fefc)"
   ]
  },
  {
   "cell_type": "code",
   "execution_count": 41,
   "id": "0920efc0-406c-429e-85d4-9458c0b82410",
   "metadata": {},
   "outputs": [
    {
     "data": {
      "text/plain": [
       "'kernel32.dll:LocalFree'"
      ]
     },
     "execution_count": 41,
     "metadata": {},
     "output_type": "execute_result"
    }
   ],
   "source": [
    "dp.exports.get(0x7656f530)"
   ]
  },
  {
   "cell_type": "code",
   "execution_count": 42,
   "id": "5c45af56-c5ca-4d97-a55d-16b2537e8225",
   "metadata": {},
   "outputs": [
    {
     "data": {
      "text/plain": [
       "'0x14c5352'"
      ]
     },
     "execution_count": 42,
     "metadata": {},
     "output_type": "execute_result"
    }
   ],
   "source": [
    "#dp.print_memory()\n",
    "hex(dp.read_long(0x21d0000))"
   ]
  },
  {
   "cell_type": "code",
   "execution_count": 23,
   "id": "485785b1-79fe-4ec9-b52b-644b395575f2",
   "metadata": {},
   "outputs": [
    {
     "data": {
      "text/plain": [
       "bytearray(b'\\x00\\x00\\x00\\x00\\x00\\x00\\x00\\x00\\x00\\x00')"
      ]
     },
     "execution_count": 23,
     "metadata": {},
     "output_type": "execute_result"
    }
   ],
   "source": [
    "dp.read(0x13BAC, 10)"
   ]
  },
  {
   "cell_type": "code",
   "execution_count": 43,
   "id": "779826ec-5ed3-4fc9-b0e7-d75ab9ba6605",
   "metadata": {},
   "outputs": [],
   "source": [
    "dp.start(dp.regs.eip, end=0x021D5D88 )"
   ]
  },
  {
   "cell_type": "code",
   "execution_count": 45,
   "id": "10fd3ac3-72dc-4253-9016-cefb0c367ee5",
   "metadata": {},
   "outputs": [
    {
     "data": {
      "text/plain": [
       "bytearray(b'\\x00\\x00\\x00\\x00\\x00\\x00\\x00\\x00\\x00\\x00\\x00\\x00\\x00\\x00\\x00\\x00\\x00\\x00\\x00\\x00\\x00\\x00\\x00\\x00\\x00\\x00\\x00\\x00\\x00\\x00\\x00\\x00\\x00\\x00\\x00\\x00\\x00\\x00\\x00\\x00\\x00\\x00\\x00\\x00\\x00\\x00\\x00\\x00\\x00\\x00\\x00\\x00\\x00\\x00\\x00\\x00\\x00\\x00\\x00\\x00\\x00\\x00\\x00\\x00\\x00\\x00\\x00\\x00\\x00\\x00\\x00\\x00\\x00\\x00\\x00\\x00\\x00\\x00\\x00\\x00\\x00\\x00\\x00\\x00\\x00\\x00\\x00\\x00\\x00\\x00\\x00\\x00\\x00\\x00\\x00\\x00\\x00\\x00\\x00\\x00')"
      ]
     },
     "execution_count": 45,
     "metadata": {},
     "output_type": "execute_result"
    }
   ],
   "source": [
    "dp.read(0x13BAC, 100)"
   ]
  },
  {
   "cell_type": "code",
   "execution_count": 26,
   "id": "1ec2df7c-c401-4970-9f7c-73bf6edb0e75",
   "metadata": {},
   "outputs": [],
   "source": [
    "dp.start(dp.regs.eip, end=0x021D6098)\n"
   ]
  },
  {
   "cell_type": "code",
   "execution_count": 34,
   "id": "3a1b9498-ebcf-459f-a7c1-1b1aa5f4fc26",
   "metadata": {},
   "outputs": [
    {
     "data": {
      "text/plain": [
       "Module(0x76550000, 0xf0000, 'C:\\\\Windows\\\\System32\\\\kernel32.dll')"
      ]
     },
     "execution_count": 34,
     "metadata": {},
     "output_type": "execute_result"
    }
   ],
   "source": [
    "dp.modules.find(dp.regs.eax)"
   ]
  },
  {
   "cell_type": "code",
   "execution_count": 46,
   "id": "f8f74c85-e179-4cf7-8343-4666c3748e1c",
   "metadata": {},
   "outputs": [
    {
     "name": "stdout",
     "output_type": "stream",
     "text": [
      "0x82cc90\n",
      "commit(0x84a000[0x1d000], PAGE_READWRITE)\n",
      "commit(0x21d0000[0x1d000], PAGE_EXECUTE_READWRITE)\n",
      "EIP: 0x82cff5\n"
     ]
    },
    {
     "data": {
      "text/plain": [
       "35535788"
      ]
     },
     "execution_count": 46,
     "metadata": {},
     "output_type": "execute_result"
    }
   ],
   "source": [
    "dp = Dumpulator(\"/tmp/stage2.dmp\", quiet=True)\n",
    "shellcode_start = dp.regs.eip\n",
    "\n",
    "print(hex(shellcode_start))\n",
    "\n",
    "\n",
    "shell_base = 0x00810000\n",
    "shell_end = 0x0082CFF5\n",
    "dp.start(shellcode_start, end=shell_end)\n",
    "print(f\"EIP: {hex(dp.regs.eip)}\")\n",
    "dp.start(dp.regs.eip, end=0x021D5D88)\n",
    "dp.regs.esi"
   ]
  },
  {
   "cell_type": "code",
   "execution_count": 53,
   "id": "2a2d2b10-3d5c-455a-98a4-973360feb2bd",
   "metadata": {},
   "outputs": [
    {
     "name": "stdout",
     "output_type": "stream",
     "text": [
      "0x21e3bac\n"
     ]
    },
    {
     "data": {
      "text/plain": [
       "bytearray(b'k\\x00e\\x00r\\x00n\\x00e\\x00l\\x003\\x002\\x00.\\x00d\\x00l\\x00l\\x00\\x00\\x00\\x00\\x00ZwQueryInformationProcess\\x00\\x00\\x00ntdll.dll\\x00\\x00\\x00KiUserExceptionDispatcher\\x00\\x00\\x00,\\x00\\x00\\x00')"
      ]
     },
     "execution_count": 53,
     "metadata": {},
     "output_type": "execute_result"
    }
   ],
   "source": [
    "print(hex(dp.regs.esi))\n",
    "dp.read(dp.regs.esi, 100)"
   ]
  },
  {
   "cell_type": "code",
   "execution_count": 54,
   "id": "9739e65d-1bfc-4018-a68c-a4d68a882bd6",
   "metadata": {},
   "outputs": [
    {
     "data": {
      "text/plain": [
       "8454144"
      ]
     },
     "execution_count": 54,
     "metadata": {},
     "output_type": "execute_result"
    }
   ],
   "source": []
  },
  {
   "cell_type": "markdown",
   "id": "6c1747a0-37db-4627-a326-feb1d48823da",
   "metadata": {},
   "source": [
    "#### Rename IAT Hashes in IDA\n",
    "```python\n",
    "### apis = {dict with hashdb enum of all imports}\n",
    "\n",
    "api_nums = dict((v,k) for k,v in apis.items())\n",
    "\n",
    "ptr = 0x0001B114\n",
    "\n",
    "while ptr < 0x0001BC9E:\n",
    "    api_hash = ida_bytes.get_dword(ptr)\n",
    "    api_name = api_nums.get(api_hash,'')\n",
    "    if api_name != '':\n",
    "        print(\"ptr_\"+api_name)\n",
    "        idc.set_name(ptr, \"ptr_\"+api_name, 0x800) #SN_FORCE\n",
    "        ptr += 4\n",
    "    else:\n",
    "        ptr += 1\n",
    "    \n",
    "```"
   ]
  },
  {
   "cell_type": "code",
   "execution_count": null,
   "id": "130ffaa5-f096-402f-bbe2-0864c13d901f",
   "metadata": {},
   "outputs": [],
   "source": []
  }
 ],
 "metadata": {
  "kernelspec": {
   "display_name": "Python 3",
   "language": "python",
   "name": "python3"
  },
  "language_info": {
   "codemirror_mode": {
    "name": "ipython",
    "version": 3
   },
   "file_extension": ".py",
   "mimetype": "text/x-python",
   "name": "python",
   "nbconvert_exporter": "python",
   "pygments_lexer": "ipython3",
   "version": "3.9.5"
  }
 },
 "nbformat": 4,
 "nbformat_minor": 5
}
