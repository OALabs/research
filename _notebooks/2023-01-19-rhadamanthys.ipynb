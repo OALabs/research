{
 "cells": [
  {
   "cell_type": "markdown",
   "id": "3320a762-0020-4354-acfe-81ee7d1bc98d",
   "metadata": {},
   "source": [
    "# Rhadamanthys\n",
    "> What is this thing are we just looking at a downloader\n",
    "\n",
    "- toc: true \n",
    "- badges: true\n",
    "- categories: [rhadamanthys,config,IDA,shifted pointers,PEB,_LIST_ENTRY,_LDR_DATA_TABLE_ENTRY]\n"
   ]
  },
  {
   "cell_type": "markdown",
   "id": "fb7ae74b-8476-47de-85c7-ee37f1748acf",
   "metadata": {},
   "source": [
    "## Overview\n",
    "\n",
    "### Sample\n",
    "\n",
    "`dca16a0e7bdc4968f1988c2d38db133a0e742edf702c923b4f4a3c2f3bdaacf5` [Malware Bazaar](https://bazaar.abuse.ch/sample/dca16a0e7bdc4968f1988c2d38db133a0e742edf702c923b4f4a3c2f3bdaacf5/)\n",
    "\n",
    "### References\n",
    "- [Triage Run](https://tria.ge/221226-1ep5eadg74/behavioral2#report)\n",
    "- [Dancing With Shellcodes: Analyzing Rhadamanthys Stealer](https://elis531989.medium.com/dancing-with-shellcodes-analyzing-rhadamanthys-stealer-3c4986966a88)\n",
    "  - Downloader `af04ee03d69a7962fa5350d0df00fafc4ae85a07dff32f99f0d8d63900a47466`\n",
    " "
   ]
  },
  {
   "cell_type": "markdown",
   "id": "54dbe6b9-8f60-4827-aea7-0fa73da27f42",
   "metadata": {},
   "source": [
    "## Stage 1\n",
    "The first stage is a C++ loader that is used to decrypt, load, and execute the 2nd stage shellcode. The program flow of the loader is difficult to follow due to the C++ and some nested structures and callbacks. It is not clear if this was intentional or note. \n",
    "\n",
    "The shellcode appears to be located in what appears to be a giant Base64 encoded string (not confirmed). This first stage may have alos implmented some PAGE_GUARD exception handling progrem flow redirection for anti-analysis (not confrimed). Dispite this it is trivial to execute the stage until it jumps to the decrypted loaded shellcode (as long as the PAGE_GUARD exceptions are passed to the process)."
   ]
  },
  {
   "cell_type": "markdown",
   "id": "707ab2f0-c228-42e9-8998-56736aa48c52",
   "metadata": {},
   "source": [
    "## Stage 2\n",
    "\n",
    "For analysis we just dumped the entire memory region that contained the second stage shellcode. The region is based at `0x00760000` but the shellcode entry is at `0x00780A68`. The memory region dump is available on Malshare [`d4f37699c4b283418d1c73416436826e95858cf07f3c29e6af76e91db98e0fc0`](https://malshare.com/sample.php?action=detail&hash=d4f37699c4b283418d1c73416436826e95858cf07f3c29e6af76e91db98e0fc0).\n",
    "\n",
    "The first task of the shellcode is to walk the PEB to locate Kernel32."
   ]
  },
  {
   "cell_type": "markdown",
   "id": "f0236a2c-36a6-4c70-a07e-957ec735d358",
   "metadata": {},
   "source": [
    "### PEB Walk _LDR_DATA_TABLE_ENTRY and Shifted Pointers in IDA\n",
    "\n",
    "The process of \"walking the PEB\" to access the modules loaded in a process as been a shellcode meme since the beginning of shellcode. It's everywhere, and we all mostly understand how it works. \n",
    "\n",
    "The issue comes when we try to represent this cleanly in IDA's pseudocode view... accessing a `_LDR_DATA_TABLE_ENTRY` via its `LIST_ENTRY` in the `_PEB_LDR_DATA` structure creates a very messy IDB. Instead of the `_LDR_DATA_TABLE_ENTRY` members we see unhelpful offsets relative to the Flink and Blink member of the `LIST_ENTRY`.\n",
    "\n",
    "![](https://i.imgur.com/Ta8hGnm.png)\n",
    "\n",
    "The reason this happens is that the `InMemoryOrderModuleList` is defined as a `LIST_ENTRY` in the `_PEB_LDR_DATA`. The `LIST_ENTRY` struct simply describes a linked list as follows.\n",
    "\n",
    "```C\n",
    "typedef struct _LIST_ENTRY {\n",
    "   struct _LIST_ENTRY *Flink;\n",
    "   struct _LIST_ENTRY *Blink;\n",
    "} \n",
    "```\n",
    "\n",
    "The problem comes from where that struct is actually located in the `_LDR_DATA_TABLE_ENTRY`...\n",
    "\n",
    "```C\n",
    "typedef struct _LDR_DATA_TABLE_ENTRY {\n",
    "    PVOID Reserved1[2];\n",
    "    LIST_ENTRY InMemoryOrderLinks; //<---- Offset into the struct!\n",
    "    PVOID Reserved2[2];\n",
    "    PVOID DllBase;\n",
    "    PVOID EntryPoint;\n",
    "    PVOID Reserved3;\n",
    "    UNICODE_STRING FullDllName;\n",
    "    BYTE Reserved4[8];\n",
    "    PVOID Reserved5[3];\n",
    "    union {\n",
    "        ULONG CheckSum;\n",
    "        PVOID Reserved6;\n",
    "    };\n",
    "    ULONG TimeDateStamp;\n",
    "}\n",
    "```\n",
    "\n",
    "Because the `LIST_ENTRY` is offset into the `_LDR_DATA_TABLE_ENTRY` it means that when we attempt to cast a pointer to a `LIST_ENTRY` as a `_LDR_DATA_TABLE_ENTRY` we are off by some amount (in this case 2 * PVOID = 8 bytes). The following diagram attempts to explain the issue.\n",
    "\n",
    "![](https://i.imgur.com/1G44FsV.png)\n",
    "\n",
    "One hack might be to create our own custom struct that starts at the offset, but this would be madness when dealing with more than a few types... instead we have... **shifted pointers**!\n",
    "\n",
    "#### IDA Shifted Pointers\n",
    "IDA has a simple concept (with some insane syntax) to deal with this issue called a [shifted pointer](https://www.hex-rays.com/products/ida/support/idadoc/1695.shtml). When assigning a type to `LIST_ENTRY` the shifted pointer syntax can be used to tell IDA that it is actually a pointer inside a larger struct with an offset. \n",
    "\n",
    "```C\n",
    "_LIST_ENTRY *__shifted(_LDR_DATA_TABLE_ENTRY,8) pListEntry\n",
    "```\n",
    "\n",
    "![](https://i.imgur.com/hvVJkP1.png)\n",
    "\n",
    "#### References \n",
    "- PE Header notes [yates](https://web.archive.org/web/20181222200541/http://www.woodmann.com/yates/PE_Information/PE_Notes.pdf)\n",
    "- Geoff Chappell [LDR_DATA_TABLE_ENTRY](https://www.geoffchappell.com/studies/windows/km/ntoskrnl/inc/api/ntldr/ldr_data_table_entry.htm)\n",
    "- [Understanding LIST_ENTRY Lists and Its Importance in Operating Systems] (https://www.codeproject.com/Articles/800404/Understanding-LIST-ENTRY-Lists-and-Its-Importance)\n",
    "- MSDN [PEB_LDR_DATA](https://learn.microsoft.com/en-us/windows/win32/api/winternl/ns-winternl-peb_ldr_data)\n",
    "- IDA Tricks [CONTAINING_RECORD macro](https://www.hex-rays.com/products/decompiler/manual/tricks.shtml#03)\n",
    "- IDA docs [Shifted Pointers](https://www.hex-rays.com/products/ida/support/idadoc/1695.shtml)\n",
    "\n",
    "#### Thanks \n",
    "- [@yates82](https://twitter.com/yates82)\n",
    "- [@printup](https://github.com/anthonyprintup)\n",
    "- [@dodo](https://twitter.com/dodo_sec)\n",
    "\n",
    "Thanks to everyone who helped me figure this out for once and for all! \n",
    "\n"
   ]
  },
  {
   "cell_type": "raw",
   "id": "5eb00431-20f7-4a36-bb7a-a791237f578a",
   "metadata": {},
   "source": [
    "\n",
    "\n",
    "struct mystruct\n",
    "        {\n",
    "          char buf[16];\n",
    "          int dummy;\n",
    "          int value;            // <- myptr points here\n",
    "          double fval;\n",
    "        };\n",
    "int *__shifted(mystruct,20) myptr;\n",
    "\n",
    "\n",
    "typedef struct _LIST_ENTRY {\n",
    "   struct _LIST_ENTRY *Flink;\n",
    "   struct _LIST_ENTRY *Blink;\n",
    "} LIST_ENTRY, *PLIST_ENTRY, *RESTRICTED_POINTER PRLIST_ENTRY;\n",
    "\n",
    "_LIST_ENTRY\n",
    "{\n",
    "struct _LIST_ENTRY *Flink;\n",
    "struct _LIST_ENTRY *Blink;\n",
    "struct _LDR_DATA_TABLE_ENTRY\n",
    "}"
   ]
  }
 ],
 "metadata": {
  "kernelspec": {
   "display_name": "Python 3",
   "language": "python",
   "name": "python3"
  },
  "language_info": {
   "codemirror_mode": {
    "name": "ipython",
    "version": 3
   },
   "file_extension": ".py",
   "mimetype": "text/x-python",
   "name": "python",
   "nbconvert_exporter": "python",
   "pygments_lexer": "ipython3",
   "version": "3.9.5"
  }
 },
 "nbformat": 4,
 "nbformat_minor": 5
}
