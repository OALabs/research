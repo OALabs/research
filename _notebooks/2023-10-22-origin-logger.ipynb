{
 "cells": [
  {
   "cell_type": "markdown",
   "id": "e417f1da-0b6e-4455-bad9-d33fbcb35894",
   "metadata": {},
   "source": [
    "# Origin Logger\n",
    "> A closer look at this Agent Tesla successor \n",
    "\n",
    "- toc: true \n",
    "- badges: true\n",
    "- categories: [dotnet,origin logger,agenttesla,config]"
   ]
  },
  {
   "cell_type": "markdown",
   "id": "f677bdd8-e3dd-4c5c-83e4-ae2f7bfed1c3",
   "metadata": {},
   "source": [
    "## Overview\n",
    "\n",
    "This is a .NET stealer that is possibly a clone or new version of AgentTesla. It has been sold on public grayware sites such as `fudsender[.]com`.\n",
    "\n",
    "![](https://i.imgur.com/D3YOfYs.png)\n",
    "\n",
    "There is even a YouTube commercial for the stealer!\n",
    "\n",
    "[https://www.youtube.com/watch?v=o-MDujYrtto](https://www.youtube.com/watch?v=o-MDujYrtto)\n",
    "\n",
    "\n",
    "### Sample\n",
    "\n",
    "`b1114c27beb856eae1f9fba0a880450702b7bda007f0fbacc4d5df561d83ec88` [UnpacMe](https://www.unpac.me/results/7038ff4e-4114-479d-84b1-b2dfa4babcaf?hash=b1114c27beb856eae1f9fba0a880450702b7bda007f0fbacc4d5df561d83ec88#/)\n",
    "\n",
    "### References \n",
    "\n",
    "- [OriginBotnet Spreads via Malicious Word Document](https://www.fortinet.com/blog/threat-research/originbotnet-spreads-via-malicious-word-document)\n",
    "- [OriginLogger: A Look at Agent Tesla’s Successor](https://unit42.paloaltonetworks.com/originlogger/)\n",
    "- [How To Develop Yara Rules for .NET Malware Using IL ByteCodes](https://embee-research.ghost.io/yara-rule-development-il-instructions-in-redline-malware/)\n"
   ]
  },
  {
   "cell_type": "markdown",
   "id": "24b5698c-3ecd-4e83-9404-ca040e9a7bd7",
   "metadata": {},
   "source": [
    "## Analysis\n",
    "\n",
    "- The sample we are analyzing does not have encrypted strings and the C2 is in plaintext `https[:]//jwgruop[.]com/login/`\n",
    "- The HTTP C2 uses a hard coded header value `x-key` which can be used combined with the other agent tesla features to identify the sample\n",
    "- \n",
    "\n",
    "\n",
    "\n"
   ]
  },
  {
   "cell_type": "markdown",
   "id": "0557bd5d-cd42-47f2-9ca9-301603e163ab",
   "metadata": {},
   "source": [
    "### Settings\n",
    "\n",
    "```c\n",
    "        public static bool Keylogger = true;\n",
    "        public static int LoggerInterval = 10;\n",
    "        public static bool PasswordRecovery = true;\n",
    "        public static bool CookieRecovery = true;\n",
    "        public static int TenantId = 4319;\n",
    "        public static string PcHwid = \"\";\n",
    "        public static string PcName = \"\";\n",
    "        public static string AsmLocation = \"\";\n",
    "        public static int CheckInterval = 5000;\n",
    "        public static string PublicKey = \"<RSAKeyValue><Modulus>rAoFBxYpptcD05ezf2if4RlryyqIBxjA3797MhTklk3xemvM9Y+Wle6P5hBHzSu95KQmgea8lzbH7RA3HOb1UvKErFeJ3jT5XhsqaT4AcDLRQraXpmxz+rzW0GK+ZvJFYmIL+18m4j/TAHjT40L0wEcfu2qzrIzroEFupW/oELM=</Modulus><Exponent>AQAB</Exponent></RSAKeyValue>\";\n",
    "        public static string PublicUserAgent = \"Mozilla/5.0 (Windows NT 10.0; Win64; x64; rv:99.0) Gecko/20100101 Firefox/99.0\";\n",
    "        public static bool AppAddStartup = Convert.ToBoolean(\"false\");\n",
    "        public static bool HideFileStartup = Convert.ToBoolean(\"false\");\n",
    "        public static string AppStartupFullPath = \"\";\n",
    "        public static string StartupDirectoryPath = \"\";\n",
    "        public static string StartupEnvName = \"appdata\";\n",
    "        public static string StartupDirectoryName = \"hhlquS\";\n",
    "        public static string StartupInstallationName = \"hhlquS.exe\";\n",
    "        public static string StartupRegName = \"hhlquS\";\n",
    "        public static string DownloadFolderName = \"4yyaqgto.m0g\";\n",
    "        public static string DownloadDirectoryPath = \"\";\n",
    "        public static string CurrentUrl = \"\";\n",
    "        public static string[] FallbackUrls = new string[] { \"https://nitrosoftwares.shop/gate\" };\n",
    "```\n",
    "\n",
    "\n"
   ]
  },
  {
   "cell_type": "markdown",
   "id": "ce113003-0cf6-4aed-8851-65e60eafa8b4",
   "metadata": {},
   "source": [
    "### Yara Rule\n",
    "\n",
    "\n",
    "```\n",
    "rule OriginLogger {\n",
    "    strings:\n",
    "\n",
    "        $s1 = \"select * from  Win32_Processor\" wide \n",
    "        $s2 = \"FileArgs\" wide \n",
    "        $s3 = \"StringFileInfo\" wide \n",
    "        $s4 = \"select * from  Win32_VideoController\" wide \n",
    "        $s5 = \"Win32_NetworkAdapterConfiguration\" wide \n",
    "        $s6 = \"downloadexecute\" wide \n",
    "        $x = \"x-key\" wide nocase \n",
    "        $dl_bytes = {7E ?? ?? ?? ?? 72 ?? ?? ?? ?? 03 04 28 ?? ?? ?? ?? 0A 02 06 28 ?? ?? ?? ?? 06 28 }\n",
    "\n",
    "    condition:\n",
    "        filesize < 50KB and\n",
    "        (\n",
    "            (\n",
    "                5 of ($s*) and\n",
    "                $x\n",
    "            ) or\n",
    "            (\n",
    "                $dl_bytes\n",
    "            )\n",
    "        ) \n",
    "        \n",
    "}\n",
    "```\n",
    "\n",
    "\n",
    "\n",
    "\n"
   ]
  },
  {
   "cell_type": "markdown",
   "id": "692db418-0e53-4983-a257-abf2c29c485d",
   "metadata": {},
   "source": [
    "## C2 Extraction\n",
    "\n",
    "For now we only have samples that do not have encrypted strings so c2 extraction is just a simple regex.\n"
   ]
  },
  {
   "cell_type": "code",
   "execution_count": 17,
   "id": "f3aad5c3-2fda-4d60-8e38-381687c17015",
   "metadata": {},
   "outputs": [
    {
     "data": {
      "text/plain": [
       "['http://jwgruop.com/gate']"
      ]
     },
     "execution_count": 17,
     "metadata": {},
     "output_type": "execute_result"
    }
   ],
   "source": [
    "import re\n",
    "\n",
    "file_data = open('/tmp/origin.bin', 'rb').read()\n",
    "\n",
    "\n",
    "def filter_printable(data):\n",
    "    out = []\n",
    "    for c in data:\n",
    "        if c < 33 or c > 126 or c == 92:\n",
    "            continue\n",
    "        out.append(c)\n",
    "    return bytes(out)\n",
    "\n",
    "\n",
    "\n",
    "\n",
    "def get_c2s(file_data):\n",
    "    c2s = []\n",
    "    for s in file_data.split(b'h\\x00t\\x00t\\x00'):\n",
    "        if s[:2] == b'p\\x00':\n",
    "            tmp = s.split(b'\\x00\\x00')[0]\n",
    "            out = b'htt' + filter_printable(tmp.replace(b'\\x00',b''))\n",
    "            if len(out) < 4 or len(out) > 50:\n",
    "                continue\n",
    "            #print(out)\n",
    "            c2s.append(out.decode('utf-8'))\n",
    "    return c2s\n",
    "\n",
    "\n",
    "get_c2s(file_data)"
   ]
  },
  {
   "cell_type": "code",
   "execution_count": 18,
   "id": "8040275a-13a0-4a98-8bea-e17d1446858a",
   "metadata": {},
   "outputs": [
    {
     "name": "stdout",
     "output_type": "stream",
     "text": [
      "/tmp/samples/74c7b909f9fd299853c459b903f7e60c6c2e2517550b26b87f270404895e1284\n",
      "['https://mmelak.com/gate']\n",
      "/tmp/samples/ee8a244c904756bdc3987fefc844596774437bcc50d4022ddcc94e957cab6a11\n",
      "['https://nitrosoftwares.shop/gate']\n",
      "/tmp/samples/18a9e61a082feb6c7e04d9aef4a0a0d5db926158562e7d3d408413fc4efdbbac\n",
      "['https://grdhfour.shop/gate']\n",
      "/tmp/samples/9eb6b58e9cdaca568b1d5dfe7912d454fda7e14716ac68b641794612f6d40044\n",
      "['http://ltm-canada.com/gate']\n",
      "/tmp/samples/83542943a06c095719a158597c0c11b76829ef8375e21cc5d2ea0b17de6713a1\n",
      "['https://prefiex.com.co/gate']\n",
      "/tmp/samples/4ad9f85d1b2acc62e8be5fa82d1c7c0e2321c0c1cba30253fd5d5b0af864c076\n",
      "['https://veit-intl.com/gate']\n",
      "/tmp/samples/647c1751e9dbd59f7b75a0ec72e21e128450422f7f9aa0f296344a1c9e9fff21\n",
      "['http://yingxnimetals.com/gate']\n",
      "/tmp/samples/2a2542a79cf50b7f28305912b00f5acff3744eac20b5fdbf51fc18eadbb4bfd4\n",
      "['https://nitrosoftwares.shop/gate']\n",
      "/tmp/samples/3a7ba1b580177fe12f5560bab6af386ff1c7ed6dd56b190f8e574475bb35d970\n",
      "['https://nitrosoftwares.shop/gate']\n",
      "/tmp/samples/50a8c02af50e4c4c9bc3c8eb52858abb70975788e562dabaeb108b0c350f71e1\n",
      "['https://mmelak.com/gate']\n",
      "/tmp/samples/4793b892c2efde4b9c0253226c7c3ee3f96e0c30744a0bbde3dbdf4307353944\n",
      "['https://joshua6440.nitrosoftwares.shop/gate']\n",
      "/tmp/samples/9930629fe31e160be16dbd4ae876d5e56117bdb9911140b6d279f70d37849591\n",
      "['http://wjjiutia.com/gate']\n",
      "/tmp/samples/1fa6c0fb2a8c0e5a810e5e4c886cce41e50de62355880933293872d5fa78b998\n",
      "['https://veit-intl.com/gate']\n",
      "/tmp/samples/ce2c6ebcee384ceccd4a63601ac08b002af5184103e2df64126995aff70b0195\n",
      "['https://nitrosoftwares.shop/gate']\n",
      "/tmp/samples/3c82463fb4b6b6c9c234eb20b197f434ba6543f445db22990917bcb464b40b2b\n",
      "['https://nice.nitrosoftwares.shop/gate']\n",
      "/tmp/samples/eac17cff1f70bbe0d163edfd8298a164fb49d782940a550f89f5c9526f801bd6\n",
      "['https://lamba.nitrosoftwares.shop/gate']\n",
      "/tmp/samples/28384dadc37cc5e59d16f6b3523e14286991a223f1e70c43b8a98c7ba5c901c4\n",
      "['https://filedownload.info/gate']\n"
     ]
    }
   ],
   "source": [
    "\n",
    "# import required module\n",
    "import os\n",
    "# assign directory\n",
    "directory = '/tmp/samples'\n",
    " \n",
    "# iterate over files in\n",
    "# that directory\n",
    "for filename in os.listdir(directory):\n",
    "    f = os.path.join(directory, filename)\n",
    "    # checking if it is a file\n",
    "    if os.path.isfile(f):\n",
    "        print(f)\n",
    "        file_data = open(f, 'rb').read()\n",
    "        print(get_c2s(file_data))"
   ]
  },
  {
   "cell_type": "code",
   "execution_count": null,
   "id": "a2e13fee-7690-4fe0-a7d5-7d1843b3598c",
   "metadata": {},
   "outputs": [],
   "source": []
  }
 ],
 "metadata": {
  "kernelspec": {
   "display_name": "Python 3",
   "language": "python",
   "name": "python3"
  },
  "language_info": {
   "codemirror_mode": {
    "name": "ipython",
    "version": 3
   },
   "file_extension": ".py",
   "mimetype": "text/x-python",
   "name": "python",
   "nbconvert_exporter": "python",
   "pygments_lexer": "ipython3",
   "version": "3.9.5"
  }
 },
 "nbformat": 4,
 "nbformat_minor": 5
}
