{
 "cells": [
  {
   "cell_type": "markdown",
   "id": "5d50d7b2-1184-4cd9-8e68-13f917af317b",
   "metadata": {},
   "source": [
    "# Amadey Loader\n",
    "> Analysis of CPP Amadey loader\n",
    "\n",
    "- toc: true \n",
    "- badges: true\n",
    "- categories: [cpp,stl,amadey,loader,config]\n"
   ]
  },
  {
   "cell_type": "markdown",
   "id": "e577e3e5-7165-420b-a89d-8a0882c51b79",
   "metadata": {},
   "source": [
    "## Overview\n",
    "\n",
    "### Sample\n",
    "\n",
    "SHA256 `18A38FA6F5B306243D99621556AF948A61DAED29619AB755E25010F9E254C6BD`\n",
    "\n",
    "PDB (lol) `D:\\Mktmp\\Amadey\\Release\\Amadey.pdb`\n",
    "\n",
    "### References\n",
    "- [LockBit 3.0 Being Distributed via Amadey Bot](https://asec.ahnlab.com/en/41450/)\n",
    "- [SmokeLoader Malware Used to Augment Amadey Infostealer](https://blogs.blackberry.com/en/2022/07/smokeloader-malware-used-to-augment-amadey-infostealer)\n",
    "- [Analyzing Amadey – a simple native malware](https://krabsonsecurity.com/2019/02/13/analyzing-amadey-a-simple-native-malware/)\n",
    "\n",
    "### TODO / Future Work\n",
    "Since there are usually going to be global strings in CPP maybe it would be worth writing a small script to label all the global string addresses?\n",
    "- iterate _PVFV (what I call the constructor Vtable lololol so wrong)\n",
    "- for each fn if there is a string assign\n",
    "- assume the args are int he same position (or maybe try hexrays helper fns)\n",
    "- grab the char* string and label the global str::string object and set the type\n"
   ]
  },
  {
   "cell_type": "markdown",
   "id": "33ca2889-c8a9-419a-9a30-71b2a8cc1439",
   "metadata": {},
   "source": [
    "## Analysis\n",
    "\n",
    "### String Decryption\n",
    "- strings look like base64\n",
    "- string transform\n",
    "\n"
   ]
  },
  {
   "cell_type": "code",
   "execution_count": 8,
   "id": "8d04fab5-3102-4393-b08d-d2ab77d15bac",
   "metadata": {},
   "outputs": [
    {
     "data": {
      "text/plain": [
       "b'SYSTEM\\\\CurrentControlSet\\\\Control\\\\ComputerName\\\\ComputerName'"
      ]
     },
     "execution_count": 8,
     "metadata": {},
     "output_type": "execute_result"
    }
   ],
   "source": [
    "import base64\n",
    "\n",
    "str_hash_data = 'd6052c4fe86a6346964a6bbbe2423e20'\n",
    "str_data = 'QOqdDVR RQLzIo=='\n",
    "str_data = 'XWaNMGOS1BI18fCg iKD7361gd2jM6MP0zCp3pKDfZscLU2oaCO0UYKP2NUcPIEkeSqV5IODXjAtUI=='\n",
    "str_alphabet = 'abcdefghijklmnopqrstuvwxyzABCDEFGHIJKLMNOPQRSTUVWXYZ0123456789 '\n",
    "\n",
    "str_hash = ''\n",
    "\n",
    "for i in range(len(str_data)):\n",
    "    str_hash += str_hash_data[i % len(str_hash_data)]\n",
    "\n",
    "out = ''\n",
    "\n",
    "for i in range(len(str_data)):\n",
    "    if str_data[i] not in str_alphabet:\n",
    "        out += str_data[i]\n",
    "        continue\n",
    "    alphabet_count = str_alphabet.find(str_data[i])\n",
    "    hash_count = str_alphabet.find(str_hash[i])\n",
    "    index_calc = (alphabet_count + len(str_alphabet) - hash_count) % len(str_alphabet)\n",
    "    out += str_alphabet[index_calc]\n",
    "\n",
    "base64.b64decode(out)"
   ]
  },
  {
   "cell_type": "code",
   "execution_count": 10,
   "id": "3c45a7a8-0637-45a8-849e-481162564045",
   "metadata": {},
   "outputs": [
    {
     "data": {
      "text/plain": [
       "b'abcdefghijklmnopqrstuvwxyz0123456789-_'"
      ]
     },
     "execution_count": 10,
     "metadata": {},
     "output_type": "execute_result"
    }
   ],
   "source": [
    "def decrypt(str_data, str_hash_data, str_alphabet):\n",
    "    str_hash = ''\n",
    "\n",
    "    for i in range(len(str_data)):\n",
    "        str_hash += str_hash_data[i % len(str_hash_data)]\n",
    "\n",
    "    out = ''\n",
    "\n",
    "    for i in range(len(str_data)):\n",
    "        if str_data[i] not in str_alphabet:\n",
    "            out += str_data[i]\n",
    "            continue\n",
    "        alphabet_count = str_alphabet.find(str_data[i])\n",
    "        hash_count = str_alphabet.find(str_hash[i])\n",
    "        index_calc = (alphabet_count + len(str_alphabet) - hash_count) % len(str_alphabet)\n",
    "        out += str_alphabet[index_calc]\n",
    "\n",
    "    return base64.b64decode(out)\n",
    "\n",
    "decrypt('1RydQIOr3Zcp6emn RYv8IGzgUKS6r5ThSdqDVBERAP2Ir 0JQ1=', str_hash_data, str_alphabet)"
   ]
  },
  {
   "cell_type": "code",
   "execution_count": 22,
   "id": "b81b527f-b927-4a0f-a426-c23b6a064a30",
   "metadata": {},
   "outputs": [
    {
     "name": "stdout",
     "output_type": "stream",
     "text": [
      "193.56.146.243\n",
      "/h8V2cQlbd3/index.php\n",
      "3.50\n",
      "50c1695437\n",
      "rovwer.exe\n",
      "SCHTASKS\n",
      "/Create /SC MINUTE /MO 1 /TN \n",
      " /TR \"\n",
      "\" /F\n",
      "SOFTWARE\\Microsoft\\Windows\\CurrentVersion\\RunOnce\n",
      "SOFTWARE\\Microsoft\\Windows\\CurrentVersion\\Explorer\\User Shell Folders\n",
      "Startup\n",
      "cmd /C RMDIR /s/q \n",
      "SOFTWARE\\Microsoft\\Windows\\CurrentVersion\\Run\n",
      "rundll32 \n",
      " /Delete /TN \"\n",
      "Programs\n",
      "SOFTWARE\\Microsoft\\Windows\\CurrentVersion\\Explorer\\Shell Folders\n",
      "%USERPROFILE%\n",
      "\\App\n",
      "POST\n",
      "&vs=\n",
      "&sd=\n",
      "&os=\n",
      "&bi=\n",
      "&ar=\n",
      "&pc=\n",
      "&un=\n",
      "&dm=\n",
      "&av=\n",
      "&lv=\n",
      "&og=\n",
      "cred.dll|\n",
      "Main\n",
      "http://\n",
      "https://\n",
      "Plugins/\n",
      "&unit=\n",
      "shell32.dll\n",
      "kernel32.dll\n",
      "GetNativeSystemInfo\n",
      "ProgramData\\\n",
      "AVAST Software\n",
      "Avira\n",
      "Kaspersky Lab\n",
      "ESET\n",
      "Panda Security\n",
      "Doctor Web\n",
      "360TotalSecurity\n",
      "Bitdefender\n",
      "Norton\n",
      "Sophos\n",
      "Comodo\n",
      "WinDefender\n",
      "0123456789\n",
      "Content-Type: multipart/form-data; boundary=----\n",
      "------\n",
      "\n",
      "Content-Disposition: form-data; name=\"data\"; filename=\"\n",
      "\"\n",
      "Content-Type: application/octet-stream\n",
      "\n",
      "\n",
      "\n",
      "------\n",
      "--\n",
      "\n",
      "?scr=1\n",
      ".jpg\n",
      "Content-Type: application/x-www-form-urlencoded\n",
      "SYSTEM\\CurrentControlSet\\Control\\ComputerName\\ComputerName\n",
      "ComputerName\n",
      "abcdefghijklmnopqrstuvwxyz0123456789-_\n",
      "-unicode-\n",
      "SYSTEM\\CurrentControlSet\\Control\\UnitedVideo\\CONTROL\\VIDEO\\\n",
      "SYSTEM\\ControlSet001\\Services\\BasicDisplay\\Video\n",
      "VideoID\n",
      "\\0000\n",
      "DefaultSettings.XResolution\n",
      "DefaultSettings.YResolution\n",
      "SOFTWARE\\Microsoft\\Windows NT\\CurrentVersion\n",
      "ProductName\n",
      "2019\n",
      "2022\n",
      "2016\n",
      "CurrentBuild\n",
      "echo Y|CACLS \"\n",
      "\" /P \"\n",
      "CACLS \"\n",
      ":R\" /E\n",
      ":F\" /E\n",
      "&&Exit\n",
      "rundll32.exe\n",
      "\"taskkill /f /im \"\n",
      "\" && timeout 1 && del \n",
      "&& Exit\"\n",
      "\" && ren \n",
      " && \n",
      "Powershell.exe\n",
      "-executionpolicy remotesigned -File \"\n"
     ]
    }
   ],
   "source": [
    "import re\n",
    "str_hash_data = 'd6052c4fe86a6346964a6bbbe2423e20'\n",
    "str_alphabet = 'abcdefghijklmnopqrstuvwxyzABCDEFGHIJKLMNOPQRSTUVWXYZ0123456789 '\n",
    "\n",
    "\n",
    "def is_ascii(s):\n",
    "    return all(c < 128 or c == 0 for c in s)\n",
    "\n",
    "file_data = open('/tmp/amadey.bin','rb').read()\n",
    "\n",
    "strings = []\n",
    "for m in re.finditer(rb'[a-zA-Z =0-9]{4,}',file_data):\n",
    "    strings.append(m.group().decode('utf-8'))\n",
    "\n",
    "for s in strings:\n",
    "    try:\n",
    "        temp = decrypt(s, str_hash_data, str_alphabet)\n",
    "        if is_ascii(temp) and len(temp) > 3:\n",
    "            print(temp.decode('utf-8'))\n",
    "    except:\n",
    "        continue"
   ]
  },
  {
   "cell_type": "code",
   "execution_count": 23,
   "id": "2347858b-ab13-4c29-aca4-08fd47bc5175",
   "metadata": {},
   "outputs": [],
   "source": [
    "hashes= ['d6052c4fe86a6346964a6bbbe2423e20',\n",
    "        'bf045808586a2473c5a7441da6f3bfa9',\n",
    "        'bc4cb0',\n",
    "        'b6fd4be15536ff986cddb445cb644cf8']\n",
    "\n"
   ]
  },
  {
   "cell_type": "code",
   "execution_count": null,
   "id": "d8fe90e1-c86e-43d2-a5b2-6ce8792c39ed",
   "metadata": {},
   "outputs": [],
   "source": []
  }
 ],
 "metadata": {
  "kernelspec": {
   "display_name": "Python 3",
   "language": "python",
   "name": "python3"
  },
  "language_info": {
   "codemirror_mode": {
    "name": "ipython",
    "version": 3
   },
   "file_extension": ".py",
   "mimetype": "text/x-python",
   "name": "python",
   "nbconvert_exporter": "python",
   "pygments_lexer": "ipython3",
   "version": "3.9.5"
  }
 },
 "nbformat": 4,
 "nbformat_minor": 5
}
