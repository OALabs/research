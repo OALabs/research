{
 "cells": [
  {
   "cell_type": "markdown",
   "id": "2f29992d-6d89-443f-a402-c6d08da8748b",
   "metadata": {},
   "source": [
    "# DanaBot Triage\n",
    "> Taking a look at a new version of the Danabot loader\n",
    "\n",
    "- toc: true \n",
    "- badges: true\n",
    "- categories: [danabot,loader,delphi]"
   ]
  },
  {
   "cell_type": "markdown",
   "id": "0cce25bf-336f-4ca2-84aa-d3afd4a0e37f",
   "metadata": {},
   "source": [
    "## Overview\n",
    "\n",
    "Initially Danabot was operated as a malware as a service platform that specialized in information theft (banking credentials and other information). Currently (end of 2023) they appear to have pivoted to initial access for the purpose of deploying ransomware.\n",
    "\n",
    "### References \n",
    "- [From DarkGate to DanaBot](https://www.esentire.com/blog/from-darkgate-to-danabot)\n",
    "- [Technical Analysis of DanaBot Obfuscation Techniques](https://www.zscaler.com/blogs/security-research/technical-analysis-danabot-obfuscation-techniques)\n",
    "- [Zscaler Danabot Tools (Github)](https://github.com/threatlabz/tools/tree/main/danabot)\n",
    "- [Malpedia: Danabot](https://malpedia.caad.fkie.fraunhofer.de/details/win.danabot)\n",
    "- [Spike in DanaBot Malware Activity](https://www.zscaler.com/blogs/security-research/spike-danabot-malware-activity)\n",
    "- [IDR Tool](https://github.com/crypto2011/IDR)\n",
    "\n",
    "\n",
    "According to a post on X, Microsoft has detected Danabot (Storm-1044) infections leading to hands-on-keyboard activity by ransomware operator Storm-0216 (Twisted Spider, UNC2198), culminating in the deployment of Cactus ransomware. In this campaign, [Danabot is distributed via malvertising.](https://twitter.com/MsftSecIntel/status/1730383711437283757)\n",
    "\n",
    "### Sample\n",
    "\n",
    "[7417ee2722871b2c667174acc43dd3e79fcdd41bef9a48209eeae0ed43179e1f](https://www.unpac.me/results/55c32c2e-ccd3-47e8-9407-4910de224085)\n"
   ]
  },
  {
   "cell_type": "markdown",
   "id": "aea8a245-0580-48a3-8bab-f01e5cb3c899",
   "metadata": {},
   "source": [
    "## Analysis\n",
    "\n",
    "For reference we have also download a known Danabot loader and core component.\n",
    "- Loader: 2a3acdcd76575762b18c18c644a745125f55ce121f742d2aad962521bc7f25fd\n",
    "- Core: 77ff83cc49d6c1b71c474a17eeaefad0f0a71df0a938190bf9a9a7e22531c292\n",
    "\n",
    "\n",
    "We have the following C2s from the Esentire report. We can use these to confirm our work.\n",
    "```\n",
    "DanaBot C2\t34.106.84.60:443\n",
    "DanaBot C2\t35.241.250.23:443\n",
    "DanaBot C2\t35.198.55.140:443\n",
    "DanaBot C2\t34.79.119.253:443\n",
    "```\n",
    "\n",
    "\n",
    "### Notes\n",
    "\n",
    "- based on the file size it is likely we are triaging the loader\n",
    "- many of the APIs are resolved dynamically using hashing [hashdb](https://hashdb.openanalysis.net/hash/danabot)\n",
    "- using the API resolving we can locate the main network component\n",
    "- the following struct can be used with our sample  \n",
    "\n",
    "```c\n",
    "struct __attribute__((aligned(4))) net_ctxt\n",
    "{\n",
    "  int (__fastcall *MessageBoxW)(void *, const wchar_t *, const wchar_t *, unsigned int);\n",
    "  int (__fastcall *wvsprintfW)(wchar_t *, const wchar_t *, va_list);\n",
    "  int (__fastcall *CryptAcquireContextA)(void **, const char *, const char *, unsigned int, unsigned int);\n",
    "  int (__fastcall *CryptReleaseContext)(void *, unsigned int);\n",
    "  int (__fastcall *CryptCreateHash)(void *, unsigned int, void *, unsigned int, void **);\n",
    "  int (__fastcall *CryptDeriveKey)(void *, unsigned int, void *, unsigned int, void **);\n",
    "  int (__fastcall *CryptHashData)(void *, unsigned __int8 *, unsigned int, unsigned int);\n",
    "  int (__fastcall *CryptDestroyHash)(void *);\n",
    "  int (__fastcall *CryptDecrypt)(void *, void *, int, unsigned int, unsigned __int8 *, unsigned int *);\n",
    "  int (__fastcall *CryptDestroyKey)(void *);\n",
    "  void *(__fastcall *InternetOpenW)(const wchar_t *, unsigned int, const wchar_t *, const wchar_t *, unsigned int);\n",
    "  void *(__fastcall *InternetConnectW)(void *, const wchar_t *, unsigned __int16, const wchar_t *, const wchar_t *, unsigned int, unsigned int, unsigned int);\n",
    "  void *(__fastcall *HttpOpenRequestW)(void *, const wchar_t *, const wchar_t *, const wchar_t *, const wchar_t *, const wchar_t **, unsigned int, unsigned int);\n",
    "  int (__fastcall *InternetQueryOptionW)(void *, unsigned int, void *, unsigned int *);\n",
    "  int (__fastcall *InternetSetOptionW)(void *, unsigned int, void *, unsigned int);\n",
    "  int (__fastcall *HttpSendRequestW)(void *, const wchar_t *, unsigned int, void *, unsigned int);\n",
    "  int (__fastcall *InternetReadFile)(void *, void *, unsigned int, unsigned int *);\n",
    "  int (__fastcall *InternetCloseHandle)(void *);\n",
    "  wchar_t *(__fastcall *lstrcatW)(wchar_t *, const wchar_t *);\n",
    "  void *(__fastcall *LoadLibraryA)(const char *);\n",
    "  void *(__fastcall *GetProcAddress)(void *, const char *);\n",
    "  int (__fastcall *WriteProcessMemory)(void *, void *, const void *, size_t, size_t *);\n",
    "  void *(__fastcall *CreateThread)(void *, size_t, void *, void *, unsigned int, unsigned int *);\n",
    "  void (__fastcall *ExitProcess)(unsigned int);\n",
    "  unsigned int (__fastcall *WaitForSingleObject)(void *, unsigned int);\n",
    "  int (__fastcall *TerminateThread)(void *, unsigned int);\n",
    "  void (__fastcall *ExitThread)(unsigned int);\n",
    "  double (__fastcall *fmod)(double, double);\n",
    "  void *(__fastcall *VirtualAllocEx)(void *, void *, size_t, unsigned int, unsigned int);\n",
    "  int (__fastcall *VirtualFree)(void *, size_t, unsigned int);\n",
    "  void *(__fastcall *CreateFileW)(const wchar_t *, unsigned int, unsigned int, void *, unsigned int, unsigned int, void *);\n",
    "  int (__fastcall *WriteFile)(void *, const void *, unsigned int, unsigned int *, void *);\n",
    "  int (__fastcall *CloseHandle)(void *);\n",
    "  int (__fastcall *SetEndOfFile)(void *);\n",
    "  int (__fastcall *InitializeSecurityDescriptor)(void *, unsigned int);\n",
    "  int (__fastcall *InitializeAcl)(void *, unsigned int, unsigned int);\n",
    "  int (__fastcall *CreateWellKnownSid)(unsigned int, void *, void *, unsigned int *);\n",
    "  int (__fastcall *AddAccessAllowedAce)(void *, unsigned int, unsigned int, void *);\n",
    "  int (__fastcall *SetSecurityDescriptorDacl)(void *, int, void *, int);\n",
    "  unsigned int (*RtlGetLastWin32Error)(void);\n",
    "  DWORD *g_ptr_ip_1;\n",
    "  WORD *g_ptr_port_1;\n",
    "  DWORD *g_ptr_ip_2;\n",
    "  WORD *g_ptr_port_2;\n",
    "  DWORD *g_ptr_ip_3;\n",
    "  WORD *g_ptr_port_3;\n",
    "  DWORD *g_ptr_ip_4;\n",
    "  WORD *g_ptr_port_4;\n",
    "  DWORD dw0;\n",
    "  DWORD dw1;\n",
    "  DWORD dw2;\n",
    "  DWORD dw3;\n",
    "  DWORD dw4;\n",
    "  DWORD random_ip_flag;\n",
    "  DWORD c2_ptr;\n",
    "  DWORD dw7;\n",
    "  DWORD random_ip_seed;\n",
    "  BYTE buff[4056];\n",
    "};\n",
    "```\n"
   ]
  },
  {
   "cell_type": "code",
   "execution_count": 2,
   "id": "f6bc1785-383c-4c71-8f18-45d900853751",
   "metadata": {},
   "outputs": [
    {
     "data": {
      "text/plain": [
       "'0x6a'"
      ]
     },
     "execution_count": 2,
     "metadata": {},
     "output_type": "execute_result"
    }
   ],
   "source": []
  },
  {
   "cell_type": "code",
   "execution_count": null,
   "id": "b3add2ad-7366-4f00-a158-d1ec8e8f15c4",
   "metadata": {},
   "outputs": [],
   "source": []
  }
 ],
 "metadata": {
  "kernelspec": {
   "display_name": "Python 3",
   "language": "python",
   "name": "python3"
  },
  "language_info": {
   "codemirror_mode": {
    "name": "ipython",
    "version": 3
   },
   "file_extension": ".py",
   "mimetype": "text/x-python",
   "name": "python",
   "nbconvert_exporter": "python",
   "pygments_lexer": "ipython3",
   "version": "3.9.5"
  }
 },
 "nbformat": 4,
 "nbformat_minor": 5
}
