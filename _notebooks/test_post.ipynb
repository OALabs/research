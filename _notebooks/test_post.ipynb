{
 "cells": [
  {
   "cell_type": "markdown",
   "id": "f7efac51-0c17-48ca-8cfb-8de9bdc6e1ba",
   "metadata": {},
   "source": [
    "# Test Post\n",
    "> Just a test\n",
    "\n",
    "- toc: true \n",
    "- badges: true\n",
    "- comments: true\n",
    "- categories: [test]"
   ]
  },
  {
   "cell_type": "code",
   "execution_count": null,
   "id": "27fc8689-2bf0-4491-ad60-1d79a7ffe85d",
   "metadata": {},
   "outputs": [],
   "source": []
  }
 ],
 "metadata": {
  "kernelspec": {
   "display_name": "Python 3",
   "language": "python",
   "name": "python3"
  },
  "language_info": {
   "codemirror_mode": {
    "name": "ipython",
    "version": 3
   },
   "file_extension": ".py",
   "mimetype": "text/x-python",
   "name": "python",
   "nbconvert_exporter": "python",
   "pygments_lexer": "ipython3",
   "version": "3.9.5"
  }
 },
 "nbformat": 4,
 "nbformat_minor": 5
}
